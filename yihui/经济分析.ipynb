{
 "cells": [
  {
   "cell_type": "code",
   "execution_count": 16,
   "metadata": {},
   "outputs": [],
   "source": [
    "import pandas as pd\n"
   ]
  },
  {
   "cell_type": "code",
   "execution_count": 17,
   "metadata": {},
   "outputs": [],
   "source": [
    "data=pd.read_excel('data/A1-01.xls')\n",
    "# io = pd.io.excel.ExcelFile('data/A1-01.xls')\n",
    "\n",
    "# data=pd.read_excel(io,sheet_name='Sheet2')"
   ]
  },
  {
   "cell_type": "code",
   "execution_count": 18,
   "metadata": {},
   "outputs": [],
   "source": [
    "data=data.dropna()\n"
   ]
  },
  {
   "cell_type": "code",
   "execution_count": 20,
   "metadata": {},
   "outputs": [
    {
     "output_type": "error",
     "ename": "KeyError",
     "evalue": "'[1] not found in axis'",
     "traceback": [
      "\u001b[0;31m---------------------------------------------------------------------------\u001b[0m",
      "\u001b[0;31mKeyError\u001b[0m                                  Traceback (most recent call last)",
      "\u001b[0;32m<ipython-input-20-dd1b622ec7ef>\u001b[0m in \u001b[0;36m<module>\u001b[0;34m\u001b[0m\n\u001b[0;32m----> 1\u001b[0;31m \u001b[0mdata\u001b[0m\u001b[0;34m=\u001b[0m\u001b[0mdata\u001b[0m\u001b[0;34m.\u001b[0m\u001b[0mdrop\u001b[0m\u001b[0;34m(\u001b[0m\u001b[0mindex\u001b[0m\u001b[0;34m=\u001b[0m\u001b[0;36m1\u001b[0m\u001b[0;34m)\u001b[0m\u001b[0;34m\u001b[0m\u001b[0;34m\u001b[0m\u001b[0m\n\u001b[0m",
      "\u001b[0;32m/usr/local/lib/python3.7/site-packages/pandas/core/frame.py\u001b[0m in \u001b[0;36mdrop\u001b[0;34m(self, labels, axis, index, columns, level, inplace, errors)\u001b[0m\n\u001b[1;32m   3995\u001b[0m             \u001b[0mlevel\u001b[0m\u001b[0;34m=\u001b[0m\u001b[0mlevel\u001b[0m\u001b[0;34m,\u001b[0m\u001b[0;34m\u001b[0m\u001b[0;34m\u001b[0m\u001b[0m\n\u001b[1;32m   3996\u001b[0m             \u001b[0minplace\u001b[0m\u001b[0;34m=\u001b[0m\u001b[0minplace\u001b[0m\u001b[0;34m,\u001b[0m\u001b[0;34m\u001b[0m\u001b[0;34m\u001b[0m\u001b[0m\n\u001b[0;32m-> 3997\u001b[0;31m             \u001b[0merrors\u001b[0m\u001b[0;34m=\u001b[0m\u001b[0merrors\u001b[0m\u001b[0;34m,\u001b[0m\u001b[0;34m\u001b[0m\u001b[0;34m\u001b[0m\u001b[0m\n\u001b[0m\u001b[1;32m   3998\u001b[0m         )\n\u001b[1;32m   3999\u001b[0m \u001b[0;34m\u001b[0m\u001b[0m\n",
      "\u001b[0;32m/usr/local/lib/python3.7/site-packages/pandas/core/generic.py\u001b[0m in \u001b[0;36mdrop\u001b[0;34m(self, labels, axis, index, columns, level, inplace, errors)\u001b[0m\n\u001b[1;32m   3934\u001b[0m         \u001b[0;32mfor\u001b[0m \u001b[0maxis\u001b[0m\u001b[0;34m,\u001b[0m \u001b[0mlabels\u001b[0m \u001b[0;32min\u001b[0m \u001b[0maxes\u001b[0m\u001b[0;34m.\u001b[0m\u001b[0mitems\u001b[0m\u001b[0;34m(\u001b[0m\u001b[0;34m)\u001b[0m\u001b[0;34m:\u001b[0m\u001b[0;34m\u001b[0m\u001b[0;34m\u001b[0m\u001b[0m\n\u001b[1;32m   3935\u001b[0m             \u001b[0;32mif\u001b[0m \u001b[0mlabels\u001b[0m \u001b[0;32mis\u001b[0m \u001b[0;32mnot\u001b[0m \u001b[0;32mNone\u001b[0m\u001b[0;34m:\u001b[0m\u001b[0;34m\u001b[0m\u001b[0;34m\u001b[0m\u001b[0m\n\u001b[0;32m-> 3936\u001b[0;31m                 \u001b[0mobj\u001b[0m \u001b[0;34m=\u001b[0m \u001b[0mobj\u001b[0m\u001b[0;34m.\u001b[0m\u001b[0m_drop_axis\u001b[0m\u001b[0;34m(\u001b[0m\u001b[0mlabels\u001b[0m\u001b[0;34m,\u001b[0m \u001b[0maxis\u001b[0m\u001b[0;34m,\u001b[0m \u001b[0mlevel\u001b[0m\u001b[0;34m=\u001b[0m\u001b[0mlevel\u001b[0m\u001b[0;34m,\u001b[0m \u001b[0merrors\u001b[0m\u001b[0;34m=\u001b[0m\u001b[0merrors\u001b[0m\u001b[0;34m)\u001b[0m\u001b[0;34m\u001b[0m\u001b[0;34m\u001b[0m\u001b[0m\n\u001b[0m\u001b[1;32m   3937\u001b[0m \u001b[0;34m\u001b[0m\u001b[0m\n\u001b[1;32m   3938\u001b[0m         \u001b[0;32mif\u001b[0m \u001b[0minplace\u001b[0m\u001b[0;34m:\u001b[0m\u001b[0;34m\u001b[0m\u001b[0;34m\u001b[0m\u001b[0m\n",
      "\u001b[0;32m/usr/local/lib/python3.7/site-packages/pandas/core/generic.py\u001b[0m in \u001b[0;36m_drop_axis\u001b[0;34m(self, labels, axis, level, errors)\u001b[0m\n\u001b[1;32m   3968\u001b[0m                 \u001b[0mnew_axis\u001b[0m \u001b[0;34m=\u001b[0m \u001b[0maxis\u001b[0m\u001b[0;34m.\u001b[0m\u001b[0mdrop\u001b[0m\u001b[0;34m(\u001b[0m\u001b[0mlabels\u001b[0m\u001b[0;34m,\u001b[0m \u001b[0mlevel\u001b[0m\u001b[0;34m=\u001b[0m\u001b[0mlevel\u001b[0m\u001b[0;34m,\u001b[0m \u001b[0merrors\u001b[0m\u001b[0;34m=\u001b[0m\u001b[0merrors\u001b[0m\u001b[0;34m)\u001b[0m\u001b[0;34m\u001b[0m\u001b[0;34m\u001b[0m\u001b[0m\n\u001b[1;32m   3969\u001b[0m             \u001b[0;32melse\u001b[0m\u001b[0;34m:\u001b[0m\u001b[0;34m\u001b[0m\u001b[0;34m\u001b[0m\u001b[0m\n\u001b[0;32m-> 3970\u001b[0;31m                 \u001b[0mnew_axis\u001b[0m \u001b[0;34m=\u001b[0m \u001b[0maxis\u001b[0m\u001b[0;34m.\u001b[0m\u001b[0mdrop\u001b[0m\u001b[0;34m(\u001b[0m\u001b[0mlabels\u001b[0m\u001b[0;34m,\u001b[0m \u001b[0merrors\u001b[0m\u001b[0;34m=\u001b[0m\u001b[0merrors\u001b[0m\u001b[0;34m)\u001b[0m\u001b[0;34m\u001b[0m\u001b[0;34m\u001b[0m\u001b[0m\n\u001b[0m\u001b[1;32m   3971\u001b[0m             \u001b[0mresult\u001b[0m \u001b[0;34m=\u001b[0m \u001b[0mself\u001b[0m\u001b[0;34m.\u001b[0m\u001b[0mreindex\u001b[0m\u001b[0;34m(\u001b[0m\u001b[0;34m**\u001b[0m\u001b[0;34m{\u001b[0m\u001b[0maxis_name\u001b[0m\u001b[0;34m:\u001b[0m \u001b[0mnew_axis\u001b[0m\u001b[0;34m}\u001b[0m\u001b[0;34m)\u001b[0m\u001b[0;34m\u001b[0m\u001b[0;34m\u001b[0m\u001b[0m\n\u001b[1;32m   3972\u001b[0m \u001b[0;34m\u001b[0m\u001b[0m\n",
      "\u001b[0;32m/usr/local/lib/python3.7/site-packages/pandas/core/indexes/base.py\u001b[0m in \u001b[0;36mdrop\u001b[0;34m(self, labels, errors)\u001b[0m\n\u001b[1;32m   5016\u001b[0m         \u001b[0;32mif\u001b[0m \u001b[0mmask\u001b[0m\u001b[0;34m.\u001b[0m\u001b[0many\u001b[0m\u001b[0;34m(\u001b[0m\u001b[0;34m)\u001b[0m\u001b[0;34m:\u001b[0m\u001b[0;34m\u001b[0m\u001b[0;34m\u001b[0m\u001b[0m\n\u001b[1;32m   5017\u001b[0m             \u001b[0;32mif\u001b[0m \u001b[0merrors\u001b[0m \u001b[0;34m!=\u001b[0m \u001b[0;34m\"ignore\"\u001b[0m\u001b[0;34m:\u001b[0m\u001b[0;34m\u001b[0m\u001b[0;34m\u001b[0m\u001b[0m\n\u001b[0;32m-> 5018\u001b[0;31m                 \u001b[0;32mraise\u001b[0m \u001b[0mKeyError\u001b[0m\u001b[0;34m(\u001b[0m\u001b[0;34mf\"{labels[mask]} not found in axis\"\u001b[0m\u001b[0;34m)\u001b[0m\u001b[0;34m\u001b[0m\u001b[0;34m\u001b[0m\u001b[0m\n\u001b[0m\u001b[1;32m   5019\u001b[0m             \u001b[0mindexer\u001b[0m \u001b[0;34m=\u001b[0m \u001b[0mindexer\u001b[0m\u001b[0;34m[\u001b[0m\u001b[0;34m~\u001b[0m\u001b[0mmask\u001b[0m\u001b[0;34m]\u001b[0m\u001b[0;34m\u001b[0m\u001b[0;34m\u001b[0m\u001b[0m\n\u001b[1;32m   5020\u001b[0m         \u001b[0;32mreturn\u001b[0m \u001b[0mself\u001b[0m\u001b[0;34m.\u001b[0m\u001b[0mdelete\u001b[0m\u001b[0;34m(\u001b[0m\u001b[0mindexer\u001b[0m\u001b[0;34m)\u001b[0m\u001b[0;34m\u001b[0m\u001b[0;34m\u001b[0m\u001b[0m\n",
      "\u001b[0;31mKeyError\u001b[0m: '[1] not found in axis'"
     ]
    }
   ],
   "source": [
    "data=data.drop(index=1)"
   ]
  },
  {
   "cell_type": "code",
   "execution_count": 21,
   "metadata": {},
   "outputs": [
    {
     "output_type": "execute_result",
     "data": {
      "text/plain": "      地区         法人  农、林、\\n牧、渔业     采矿业       制造业  电力、热力、\\n燃气及水生\\n产和供应业  \\\n24  广  东  1070306.0      8613.0  2794.0  300938.0                8431.0   \n14  江  苏  1047033.0     12971.0   643.0  346771.0                2471.0   \n15  浙  江   962213.0      4118.0  1279.0  365388.0                4338.0   \n19  山  东   823846.0     12933.0  3733.0  183231.0                2399.0   \n3   北  京   627051.0       561.0   127.0   33023.0                 638.0   \n21  河  南   510502.0     10713.0  5741.0  100313.0                2181.0   \n5   河  北   434833.0      9590.0  6588.0   93568.0                1839.0   \n22  湖  北   424368.0      7819.0  3749.0   60233.0                2969.0   \n9   辽  宁   415421.0      9607.0  5444.0   82972.0                1895.0   \n13  上  海   409125.0       368.0     2.0   79599.0                 165.0   \n23  湖  南   403026.0      7023.0  7122.0   59905.0                5339.0   \n17  福  建   373792.0      2468.0  2157.0   86140.0                6096.0   \n29  四  川   373424.0      4505.0  4660.0   48284.0                5701.0   \n16  安  徽   350360.0     11993.0  2405.0   71494.0                2426.0   \n28  重  庆   254834.0      2982.0  2206.0   42594.0                1929.0   \n34  陕  西   243170.0      1958.0  3314.0   28282.0                1831.0   \n18  江  西   241367.0      4108.0  3635.0   44179.0                3758.0   \n25  广  西   236831.0      3420.0  2988.0   24216.0                2587.0   \n4   天  津   211404.0       481.0    93.0   44653.0                 528.0   \n6   山  西   205135.0      5022.0  5567.0   21612.0                1211.0   \n31  云  南   190607.0      4541.0  5739.0   17148.0                2291.0   \n11   黑龙江   173343.0     10946.0  1866.0   24466.0                1367.0   \n7    内蒙古   157864.0      7416.0  4657.0   15438.0                1587.0   \n30  贵  州   146514.0      1084.0  5575.0   21692.0                1606.0   \n38  新  疆   134666.0      4692.0  2276.0   12382.0                1114.0   \n10  吉  林   130301.0      7610.0  1182.0   19348.0                1149.0   \n35  甘  肃   130203.0      1872.0  1779.0   12677.0                1374.0   \n26  海  南    45679.0       784.0   240.0    2661.0                 345.0   \n37  宁  夏    43029.0      1117.0   676.0    5040.0                 282.0   \n36  青  海    34202.0       465.0   715.0    2997.0                 443.0   \n32  西  藏    21162.0        44.0   160.0     981.0                 119.0   \n\n        建筑业  批发和\\n零售业  交通运输、\\n仓储和\\n邮政业  住宿和\\n餐饮业  信息传输、\\n软件和信息\\n技术服务业  \\\n24  23939.0  291131.0          26662.0   18606.0              27126.0   \n14  43284.0  299067.0          25948.0   11328.0              21460.0   \n15  23416.0  253594.0          16851.0   13887.0              16505.0   \n19  29959.0  236206.0          21632.0   12168.0              10079.0   \n3   18426.0  190705.0          14150.0   16323.0              47608.0   \n21  12844.0   99916.0           9392.0   11136.0               4809.0   \n5   14024.0  111227.0           9582.0    4458.0               4211.0   \n22  16439.0  119635.0          10062.0   10214.0               7728.0   \n9   19727.0  115758.0          12109.0    6474.0               8724.0   \n13  16163.0  145683.0          15013.0   12514.0              14045.0   \n23   8232.0   91397.0           6398.0    9228.0               5672.0   \n17  10122.0   97491.0           8976.0    6430.0               6636.0   \n29   9808.0   56653.0           7846.0    7794.0               5120.0   \n16  16073.0   82267.0          10242.0    5874.0               6130.0   \n28   7119.0   80603.0           5035.0   12436.0               5775.0   \n34  10479.0   55337.0           4885.0    5933.0               3694.0   \n18   7110.0   44458.0           8097.0    3291.0               2506.0   \n25   4730.0   64262.0           5092.0    3472.0               2546.0   \n4    9241.0   66138.0          10440.0    2981.0               7844.0   \n6    6192.0   45404.0           5205.0    3411.0               1744.0   \n31   7760.0   41751.0           4006.0    3572.0               3433.0   \n11   6148.0   39955.0           4305.0    2693.0               2703.0   \n7    4238.0   39002.0           4492.0    2773.0               1869.0   \n30   3617.0   28382.0           2648.0    4060.0               1410.0   \n38   2934.0   31535.0           4250.0    1200.0               1490.0   \n10   4941.0   28095.0           3146.0    1594.0               2399.0   \n35   2837.0   25811.0           2514.0    2483.0               1047.0   \n26   3174.0   10880.0           1127.0    1362.0                855.0   \n37   1269.0   10963.0            979.0     702.0                422.0   \n36   1207.0    5312.0            710.0     734.0                373.0   \n32   2067.0    1913.0            254.0     461.0                144.0   \n\n       房地产业  租赁和商\\n务服务业  科学研究\\n和技术\\n服务业  水利、环境\\n和公共设\\n施管理业  居民服务、\\n修理和其\\n他服务业  \\\n24  41719.0    131863.0         35982.0             5549.0            17589.0   \n14  29144.0     77822.0         40130.0             7501.0            14760.0   \n15  23807.0     73675.0         25323.0             5542.0            12375.0   \n19  21817.0     49917.0         40568.0             5025.0            11901.0   \n3   17806.0    134953.0         71148.0             3964.0            18734.0   \n21  14387.0     22923.0         24110.0             4033.0             6898.0   \n5   13782.0     24379.0         13650.0             3243.0             6292.0   \n22  15705.0     30386.0         20212.0             4821.0             9419.0   \n9   15314.0     32694.0         17888.0             3745.0             7471.0   \n13  15129.0     51181.0         17386.0             2035.0            12073.0   \n23  11361.0     24175.0         13489.0             3866.0             7827.0   \n17  10048.0     29040.0         12126.0             3028.0             5993.0   \n29  10927.0     25165.0         15817.0             3537.0             5285.0   \n16  12522.0     28508.0         12606.0             3043.0             5473.0   \n28   8709.0     20506.0          6947.0             1710.0             7613.0   \n34   8226.0     13100.0          9181.0             2661.0             4236.0   \n18   7337.0     15567.0          6936.0             2414.0             3892.0   \n25   8447.0     18610.0         10361.0             2762.0             3541.0   \n4    5842.0     23441.0         14491.0             1416.0             5798.0   \n6    6747.0     12053.0          6911.0             2583.0             2801.0   \n31   7488.0     14332.0          7507.0             2347.0             3122.0   \n11   6024.0      9757.0          5916.0             1708.0             2748.0   \n7    6041.0     10390.0          5512.0             2129.0             2621.0   \n30   5550.0      9129.0          3919.0             1224.0             3418.0   \n38   4983.0      8847.0          4948.0             1130.0             1925.0   \n10   4384.0      8223.0          4556.0             1335.0             2942.0   \n35   3845.0      6033.0          3713.0             1156.0             1805.0   \n26   4165.0      4543.0          1525.0              384.0              847.0   \n37   1371.0      2643.0          1209.0              395.0              691.0   \n36   1139.0      2094.0          1266.0              445.0              477.0   \n32    158.0      1004.0           445.0               72.0              125.0   \n\n         教育  卫生和\\n社会工作  文化、\\n体育和\\n娱乐业  公共管理、\\n社会保障和\\n社会组织  \n24  36113.0    10362.0        14695.0             68194.0  \n14  17858.0    14231.0        15410.0             66234.0  \n15  21049.0     7375.0        14697.0             78994.0  \n19  24364.0    18572.0        11541.0            127801.0  \n3   11145.0     3811.0        26787.0             17142.0  \n21  40079.0    34020.0        13048.0             93959.0  \n5   19794.0     9432.0         7388.0             81786.0  \n22  17774.0    11427.0        10128.0             65648.0  \n9   13308.0    11978.0         7967.0             42346.0  \n13   5708.0     3118.0         6266.0             12677.0  \n23  21741.0    16035.0        14474.0             89742.0  \n17  13974.0     7483.0         7234.0             58350.0  \n29  23458.0    17582.0        12806.0            108476.0  \n16  14217.0     8574.0         8852.0             47661.0  \n28  10133.0     5337.0         5682.0             27518.0  \n34  14851.0    14694.0         5611.0             54897.0  \n18  13457.0     9845.0         5098.0             55679.0  \n25  18301.0     5387.0         6665.0             49444.0  \n4    3803.0     1500.0         2544.0             10170.0  \n6   10068.0     5321.0         5601.0             57682.0  \n31   9890.0     5171.0         5432.0             45077.0  \n11   7719.0     5573.0         3988.0             35461.0  \n7    6488.0     4775.0         3104.0             35332.0  \n30   9880.0     3998.0         2853.0             36469.0  \n38   6310.0     3206.0         2925.0             38519.0  \n10   5572.0     3483.0         2736.0             27606.0  \n35   9421.0     3941.0         3331.0             44564.0  \n26   3110.0     1054.0         1343.0              7280.0  \n37   1855.0      914.0         1087.0             11414.0  \n36   1677.0     1050.0          888.0             12210.0  \n32    791.0      318.0          363.0             11743.0  ",
      "text/html": "<div>\n<style scoped>\n    .dataframe tbody tr th:only-of-type {\n        vertical-align: middle;\n    }\n\n    .dataframe tbody tr th {\n        vertical-align: top;\n    }\n\n    .dataframe thead th {\n        text-align: right;\n    }\n</style>\n<table border=\"1\" class=\"dataframe\">\n  <thead>\n    <tr style=\"text-align: right;\">\n      <th></th>\n      <th>地区</th>\n      <th>法人</th>\n      <th>农、林、\\n牧、渔业</th>\n      <th>采矿业</th>\n      <th>制造业</th>\n      <th>电力、热力、\\n燃气及水生\\n产和供应业</th>\n      <th>建筑业</th>\n      <th>批发和\\n零售业</th>\n      <th>交通运输、\\n仓储和\\n邮政业</th>\n      <th>住宿和\\n餐饮业</th>\n      <th>信息传输、\\n软件和信息\\n技术服务业</th>\n      <th>房地产业</th>\n      <th>租赁和商\\n务服务业</th>\n      <th>科学研究\\n和技术\\n服务业</th>\n      <th>水利、环境\\n和公共设\\n施管理业</th>\n      <th>居民服务、\\n修理和其\\n他服务业</th>\n      <th>教育</th>\n      <th>卫生和\\n社会工作</th>\n      <th>文化、\\n体育和\\n娱乐业</th>\n      <th>公共管理、\\n社会保障和\\n社会组织</th>\n    </tr>\n  </thead>\n  <tbody>\n    <tr>\n      <th>24</th>\n      <td>广  东</td>\n      <td>1070306.0</td>\n      <td>8613.0</td>\n      <td>2794.0</td>\n      <td>300938.0</td>\n      <td>8431.0</td>\n      <td>23939.0</td>\n      <td>291131.0</td>\n      <td>26662.0</td>\n      <td>18606.0</td>\n      <td>27126.0</td>\n      <td>41719.0</td>\n      <td>131863.0</td>\n      <td>35982.0</td>\n      <td>5549.0</td>\n      <td>17589.0</td>\n      <td>36113.0</td>\n      <td>10362.0</td>\n      <td>14695.0</td>\n      <td>68194.0</td>\n    </tr>\n    <tr>\n      <th>14</th>\n      <td>江  苏</td>\n      <td>1047033.0</td>\n      <td>12971.0</td>\n      <td>643.0</td>\n      <td>346771.0</td>\n      <td>2471.0</td>\n      <td>43284.0</td>\n      <td>299067.0</td>\n      <td>25948.0</td>\n      <td>11328.0</td>\n      <td>21460.0</td>\n      <td>29144.0</td>\n      <td>77822.0</td>\n      <td>40130.0</td>\n      <td>7501.0</td>\n      <td>14760.0</td>\n      <td>17858.0</td>\n      <td>14231.0</td>\n      <td>15410.0</td>\n      <td>66234.0</td>\n    </tr>\n    <tr>\n      <th>15</th>\n      <td>浙  江</td>\n      <td>962213.0</td>\n      <td>4118.0</td>\n      <td>1279.0</td>\n      <td>365388.0</td>\n      <td>4338.0</td>\n      <td>23416.0</td>\n      <td>253594.0</td>\n      <td>16851.0</td>\n      <td>13887.0</td>\n      <td>16505.0</td>\n      <td>23807.0</td>\n      <td>73675.0</td>\n      <td>25323.0</td>\n      <td>5542.0</td>\n      <td>12375.0</td>\n      <td>21049.0</td>\n      <td>7375.0</td>\n      <td>14697.0</td>\n      <td>78994.0</td>\n    </tr>\n    <tr>\n      <th>19</th>\n      <td>山  东</td>\n      <td>823846.0</td>\n      <td>12933.0</td>\n      <td>3733.0</td>\n      <td>183231.0</td>\n      <td>2399.0</td>\n      <td>29959.0</td>\n      <td>236206.0</td>\n      <td>21632.0</td>\n      <td>12168.0</td>\n      <td>10079.0</td>\n      <td>21817.0</td>\n      <td>49917.0</td>\n      <td>40568.0</td>\n      <td>5025.0</td>\n      <td>11901.0</td>\n      <td>24364.0</td>\n      <td>18572.0</td>\n      <td>11541.0</td>\n      <td>127801.0</td>\n    </tr>\n    <tr>\n      <th>3</th>\n      <td>北  京</td>\n      <td>627051.0</td>\n      <td>561.0</td>\n      <td>127.0</td>\n      <td>33023.0</td>\n      <td>638.0</td>\n      <td>18426.0</td>\n      <td>190705.0</td>\n      <td>14150.0</td>\n      <td>16323.0</td>\n      <td>47608.0</td>\n      <td>17806.0</td>\n      <td>134953.0</td>\n      <td>71148.0</td>\n      <td>3964.0</td>\n      <td>18734.0</td>\n      <td>11145.0</td>\n      <td>3811.0</td>\n      <td>26787.0</td>\n      <td>17142.0</td>\n    </tr>\n    <tr>\n      <th>21</th>\n      <td>河  南</td>\n      <td>510502.0</td>\n      <td>10713.0</td>\n      <td>5741.0</td>\n      <td>100313.0</td>\n      <td>2181.0</td>\n      <td>12844.0</td>\n      <td>99916.0</td>\n      <td>9392.0</td>\n      <td>11136.0</td>\n      <td>4809.0</td>\n      <td>14387.0</td>\n      <td>22923.0</td>\n      <td>24110.0</td>\n      <td>4033.0</td>\n      <td>6898.0</td>\n      <td>40079.0</td>\n      <td>34020.0</td>\n      <td>13048.0</td>\n      <td>93959.0</td>\n    </tr>\n    <tr>\n      <th>5</th>\n      <td>河  北</td>\n      <td>434833.0</td>\n      <td>9590.0</td>\n      <td>6588.0</td>\n      <td>93568.0</td>\n      <td>1839.0</td>\n      <td>14024.0</td>\n      <td>111227.0</td>\n      <td>9582.0</td>\n      <td>4458.0</td>\n      <td>4211.0</td>\n      <td>13782.0</td>\n      <td>24379.0</td>\n      <td>13650.0</td>\n      <td>3243.0</td>\n      <td>6292.0</td>\n      <td>19794.0</td>\n      <td>9432.0</td>\n      <td>7388.0</td>\n      <td>81786.0</td>\n    </tr>\n    <tr>\n      <th>22</th>\n      <td>湖  北</td>\n      <td>424368.0</td>\n      <td>7819.0</td>\n      <td>3749.0</td>\n      <td>60233.0</td>\n      <td>2969.0</td>\n      <td>16439.0</td>\n      <td>119635.0</td>\n      <td>10062.0</td>\n      <td>10214.0</td>\n      <td>7728.0</td>\n      <td>15705.0</td>\n      <td>30386.0</td>\n      <td>20212.0</td>\n      <td>4821.0</td>\n      <td>9419.0</td>\n      <td>17774.0</td>\n      <td>11427.0</td>\n      <td>10128.0</td>\n      <td>65648.0</td>\n    </tr>\n    <tr>\n      <th>9</th>\n      <td>辽  宁</td>\n      <td>415421.0</td>\n      <td>9607.0</td>\n      <td>5444.0</td>\n      <td>82972.0</td>\n      <td>1895.0</td>\n      <td>19727.0</td>\n      <td>115758.0</td>\n      <td>12109.0</td>\n      <td>6474.0</td>\n      <td>8724.0</td>\n      <td>15314.0</td>\n      <td>32694.0</td>\n      <td>17888.0</td>\n      <td>3745.0</td>\n      <td>7471.0</td>\n      <td>13308.0</td>\n      <td>11978.0</td>\n      <td>7967.0</td>\n      <td>42346.0</td>\n    </tr>\n    <tr>\n      <th>13</th>\n      <td>上  海</td>\n      <td>409125.0</td>\n      <td>368.0</td>\n      <td>2.0</td>\n      <td>79599.0</td>\n      <td>165.0</td>\n      <td>16163.0</td>\n      <td>145683.0</td>\n      <td>15013.0</td>\n      <td>12514.0</td>\n      <td>14045.0</td>\n      <td>15129.0</td>\n      <td>51181.0</td>\n      <td>17386.0</td>\n      <td>2035.0</td>\n      <td>12073.0</td>\n      <td>5708.0</td>\n      <td>3118.0</td>\n      <td>6266.0</td>\n      <td>12677.0</td>\n    </tr>\n    <tr>\n      <th>23</th>\n      <td>湖  南</td>\n      <td>403026.0</td>\n      <td>7023.0</td>\n      <td>7122.0</td>\n      <td>59905.0</td>\n      <td>5339.0</td>\n      <td>8232.0</td>\n      <td>91397.0</td>\n      <td>6398.0</td>\n      <td>9228.0</td>\n      <td>5672.0</td>\n      <td>11361.0</td>\n      <td>24175.0</td>\n      <td>13489.0</td>\n      <td>3866.0</td>\n      <td>7827.0</td>\n      <td>21741.0</td>\n      <td>16035.0</td>\n      <td>14474.0</td>\n      <td>89742.0</td>\n    </tr>\n    <tr>\n      <th>17</th>\n      <td>福  建</td>\n      <td>373792.0</td>\n      <td>2468.0</td>\n      <td>2157.0</td>\n      <td>86140.0</td>\n      <td>6096.0</td>\n      <td>10122.0</td>\n      <td>97491.0</td>\n      <td>8976.0</td>\n      <td>6430.0</td>\n      <td>6636.0</td>\n      <td>10048.0</td>\n      <td>29040.0</td>\n      <td>12126.0</td>\n      <td>3028.0</td>\n      <td>5993.0</td>\n      <td>13974.0</td>\n      <td>7483.0</td>\n      <td>7234.0</td>\n      <td>58350.0</td>\n    </tr>\n    <tr>\n      <th>29</th>\n      <td>四  川</td>\n      <td>373424.0</td>\n      <td>4505.0</td>\n      <td>4660.0</td>\n      <td>48284.0</td>\n      <td>5701.0</td>\n      <td>9808.0</td>\n      <td>56653.0</td>\n      <td>7846.0</td>\n      <td>7794.0</td>\n      <td>5120.0</td>\n      <td>10927.0</td>\n      <td>25165.0</td>\n      <td>15817.0</td>\n      <td>3537.0</td>\n      <td>5285.0</td>\n      <td>23458.0</td>\n      <td>17582.0</td>\n      <td>12806.0</td>\n      <td>108476.0</td>\n    </tr>\n    <tr>\n      <th>16</th>\n      <td>安  徽</td>\n      <td>350360.0</td>\n      <td>11993.0</td>\n      <td>2405.0</td>\n      <td>71494.0</td>\n      <td>2426.0</td>\n      <td>16073.0</td>\n      <td>82267.0</td>\n      <td>10242.0</td>\n      <td>5874.0</td>\n      <td>6130.0</td>\n      <td>12522.0</td>\n      <td>28508.0</td>\n      <td>12606.0</td>\n      <td>3043.0</td>\n      <td>5473.0</td>\n      <td>14217.0</td>\n      <td>8574.0</td>\n      <td>8852.0</td>\n      <td>47661.0</td>\n    </tr>\n    <tr>\n      <th>28</th>\n      <td>重  庆</td>\n      <td>254834.0</td>\n      <td>2982.0</td>\n      <td>2206.0</td>\n      <td>42594.0</td>\n      <td>1929.0</td>\n      <td>7119.0</td>\n      <td>80603.0</td>\n      <td>5035.0</td>\n      <td>12436.0</td>\n      <td>5775.0</td>\n      <td>8709.0</td>\n      <td>20506.0</td>\n      <td>6947.0</td>\n      <td>1710.0</td>\n      <td>7613.0</td>\n      <td>10133.0</td>\n      <td>5337.0</td>\n      <td>5682.0</td>\n      <td>27518.0</td>\n    </tr>\n    <tr>\n      <th>34</th>\n      <td>陕  西</td>\n      <td>243170.0</td>\n      <td>1958.0</td>\n      <td>3314.0</td>\n      <td>28282.0</td>\n      <td>1831.0</td>\n      <td>10479.0</td>\n      <td>55337.0</td>\n      <td>4885.0</td>\n      <td>5933.0</td>\n      <td>3694.0</td>\n      <td>8226.0</td>\n      <td>13100.0</td>\n      <td>9181.0</td>\n      <td>2661.0</td>\n      <td>4236.0</td>\n      <td>14851.0</td>\n      <td>14694.0</td>\n      <td>5611.0</td>\n      <td>54897.0</td>\n    </tr>\n    <tr>\n      <th>18</th>\n      <td>江  西</td>\n      <td>241367.0</td>\n      <td>4108.0</td>\n      <td>3635.0</td>\n      <td>44179.0</td>\n      <td>3758.0</td>\n      <td>7110.0</td>\n      <td>44458.0</td>\n      <td>8097.0</td>\n      <td>3291.0</td>\n      <td>2506.0</td>\n      <td>7337.0</td>\n      <td>15567.0</td>\n      <td>6936.0</td>\n      <td>2414.0</td>\n      <td>3892.0</td>\n      <td>13457.0</td>\n      <td>9845.0</td>\n      <td>5098.0</td>\n      <td>55679.0</td>\n    </tr>\n    <tr>\n      <th>25</th>\n      <td>广  西</td>\n      <td>236831.0</td>\n      <td>3420.0</td>\n      <td>2988.0</td>\n      <td>24216.0</td>\n      <td>2587.0</td>\n      <td>4730.0</td>\n      <td>64262.0</td>\n      <td>5092.0</td>\n      <td>3472.0</td>\n      <td>2546.0</td>\n      <td>8447.0</td>\n      <td>18610.0</td>\n      <td>10361.0</td>\n      <td>2762.0</td>\n      <td>3541.0</td>\n      <td>18301.0</td>\n      <td>5387.0</td>\n      <td>6665.0</td>\n      <td>49444.0</td>\n    </tr>\n    <tr>\n      <th>4</th>\n      <td>天  津</td>\n      <td>211404.0</td>\n      <td>481.0</td>\n      <td>93.0</td>\n      <td>44653.0</td>\n      <td>528.0</td>\n      <td>9241.0</td>\n      <td>66138.0</td>\n      <td>10440.0</td>\n      <td>2981.0</td>\n      <td>7844.0</td>\n      <td>5842.0</td>\n      <td>23441.0</td>\n      <td>14491.0</td>\n      <td>1416.0</td>\n      <td>5798.0</td>\n      <td>3803.0</td>\n      <td>1500.0</td>\n      <td>2544.0</td>\n      <td>10170.0</td>\n    </tr>\n    <tr>\n      <th>6</th>\n      <td>山  西</td>\n      <td>205135.0</td>\n      <td>5022.0</td>\n      <td>5567.0</td>\n      <td>21612.0</td>\n      <td>1211.0</td>\n      <td>6192.0</td>\n      <td>45404.0</td>\n      <td>5205.0</td>\n      <td>3411.0</td>\n      <td>1744.0</td>\n      <td>6747.0</td>\n      <td>12053.0</td>\n      <td>6911.0</td>\n      <td>2583.0</td>\n      <td>2801.0</td>\n      <td>10068.0</td>\n      <td>5321.0</td>\n      <td>5601.0</td>\n      <td>57682.0</td>\n    </tr>\n    <tr>\n      <th>31</th>\n      <td>云  南</td>\n      <td>190607.0</td>\n      <td>4541.0</td>\n      <td>5739.0</td>\n      <td>17148.0</td>\n      <td>2291.0</td>\n      <td>7760.0</td>\n      <td>41751.0</td>\n      <td>4006.0</td>\n      <td>3572.0</td>\n      <td>3433.0</td>\n      <td>7488.0</td>\n      <td>14332.0</td>\n      <td>7507.0</td>\n      <td>2347.0</td>\n      <td>3122.0</td>\n      <td>9890.0</td>\n      <td>5171.0</td>\n      <td>5432.0</td>\n      <td>45077.0</td>\n    </tr>\n    <tr>\n      <th>11</th>\n      <td>黑龙江</td>\n      <td>173343.0</td>\n      <td>10946.0</td>\n      <td>1866.0</td>\n      <td>24466.0</td>\n      <td>1367.0</td>\n      <td>6148.0</td>\n      <td>39955.0</td>\n      <td>4305.0</td>\n      <td>2693.0</td>\n      <td>2703.0</td>\n      <td>6024.0</td>\n      <td>9757.0</td>\n      <td>5916.0</td>\n      <td>1708.0</td>\n      <td>2748.0</td>\n      <td>7719.0</td>\n      <td>5573.0</td>\n      <td>3988.0</td>\n      <td>35461.0</td>\n    </tr>\n    <tr>\n      <th>7</th>\n      <td>内蒙古</td>\n      <td>157864.0</td>\n      <td>7416.0</td>\n      <td>4657.0</td>\n      <td>15438.0</td>\n      <td>1587.0</td>\n      <td>4238.0</td>\n      <td>39002.0</td>\n      <td>4492.0</td>\n      <td>2773.0</td>\n      <td>1869.0</td>\n      <td>6041.0</td>\n      <td>10390.0</td>\n      <td>5512.0</td>\n      <td>2129.0</td>\n      <td>2621.0</td>\n      <td>6488.0</td>\n      <td>4775.0</td>\n      <td>3104.0</td>\n      <td>35332.0</td>\n    </tr>\n    <tr>\n      <th>30</th>\n      <td>贵  州</td>\n      <td>146514.0</td>\n      <td>1084.0</td>\n      <td>5575.0</td>\n      <td>21692.0</td>\n      <td>1606.0</td>\n      <td>3617.0</td>\n      <td>28382.0</td>\n      <td>2648.0</td>\n      <td>4060.0</td>\n      <td>1410.0</td>\n      <td>5550.0</td>\n      <td>9129.0</td>\n      <td>3919.0</td>\n      <td>1224.0</td>\n      <td>3418.0</td>\n      <td>9880.0</td>\n      <td>3998.0</td>\n      <td>2853.0</td>\n      <td>36469.0</td>\n    </tr>\n    <tr>\n      <th>38</th>\n      <td>新  疆</td>\n      <td>134666.0</td>\n      <td>4692.0</td>\n      <td>2276.0</td>\n      <td>12382.0</td>\n      <td>1114.0</td>\n      <td>2934.0</td>\n      <td>31535.0</td>\n      <td>4250.0</td>\n      <td>1200.0</td>\n      <td>1490.0</td>\n      <td>4983.0</td>\n      <td>8847.0</td>\n      <td>4948.0</td>\n      <td>1130.0</td>\n      <td>1925.0</td>\n      <td>6310.0</td>\n      <td>3206.0</td>\n      <td>2925.0</td>\n      <td>38519.0</td>\n    </tr>\n    <tr>\n      <th>10</th>\n      <td>吉  林</td>\n      <td>130301.0</td>\n      <td>7610.0</td>\n      <td>1182.0</td>\n      <td>19348.0</td>\n      <td>1149.0</td>\n      <td>4941.0</td>\n      <td>28095.0</td>\n      <td>3146.0</td>\n      <td>1594.0</td>\n      <td>2399.0</td>\n      <td>4384.0</td>\n      <td>8223.0</td>\n      <td>4556.0</td>\n      <td>1335.0</td>\n      <td>2942.0</td>\n      <td>5572.0</td>\n      <td>3483.0</td>\n      <td>2736.0</td>\n      <td>27606.0</td>\n    </tr>\n    <tr>\n      <th>35</th>\n      <td>甘  肃</td>\n      <td>130203.0</td>\n      <td>1872.0</td>\n      <td>1779.0</td>\n      <td>12677.0</td>\n      <td>1374.0</td>\n      <td>2837.0</td>\n      <td>25811.0</td>\n      <td>2514.0</td>\n      <td>2483.0</td>\n      <td>1047.0</td>\n      <td>3845.0</td>\n      <td>6033.0</td>\n      <td>3713.0</td>\n      <td>1156.0</td>\n      <td>1805.0</td>\n      <td>9421.0</td>\n      <td>3941.0</td>\n      <td>3331.0</td>\n      <td>44564.0</td>\n    </tr>\n    <tr>\n      <th>26</th>\n      <td>海  南</td>\n      <td>45679.0</td>\n      <td>784.0</td>\n      <td>240.0</td>\n      <td>2661.0</td>\n      <td>345.0</td>\n      <td>3174.0</td>\n      <td>10880.0</td>\n      <td>1127.0</td>\n      <td>1362.0</td>\n      <td>855.0</td>\n      <td>4165.0</td>\n      <td>4543.0</td>\n      <td>1525.0</td>\n      <td>384.0</td>\n      <td>847.0</td>\n      <td>3110.0</td>\n      <td>1054.0</td>\n      <td>1343.0</td>\n      <td>7280.0</td>\n    </tr>\n    <tr>\n      <th>37</th>\n      <td>宁  夏</td>\n      <td>43029.0</td>\n      <td>1117.0</td>\n      <td>676.0</td>\n      <td>5040.0</td>\n      <td>282.0</td>\n      <td>1269.0</td>\n      <td>10963.0</td>\n      <td>979.0</td>\n      <td>702.0</td>\n      <td>422.0</td>\n      <td>1371.0</td>\n      <td>2643.0</td>\n      <td>1209.0</td>\n      <td>395.0</td>\n      <td>691.0</td>\n      <td>1855.0</td>\n      <td>914.0</td>\n      <td>1087.0</td>\n      <td>11414.0</td>\n    </tr>\n    <tr>\n      <th>36</th>\n      <td>青  海</td>\n      <td>34202.0</td>\n      <td>465.0</td>\n      <td>715.0</td>\n      <td>2997.0</td>\n      <td>443.0</td>\n      <td>1207.0</td>\n      <td>5312.0</td>\n      <td>710.0</td>\n      <td>734.0</td>\n      <td>373.0</td>\n      <td>1139.0</td>\n      <td>2094.0</td>\n      <td>1266.0</td>\n      <td>445.0</td>\n      <td>477.0</td>\n      <td>1677.0</td>\n      <td>1050.0</td>\n      <td>888.0</td>\n      <td>12210.0</td>\n    </tr>\n    <tr>\n      <th>32</th>\n      <td>西  藏</td>\n      <td>21162.0</td>\n      <td>44.0</td>\n      <td>160.0</td>\n      <td>981.0</td>\n      <td>119.0</td>\n      <td>2067.0</td>\n      <td>1913.0</td>\n      <td>254.0</td>\n      <td>461.0</td>\n      <td>144.0</td>\n      <td>158.0</td>\n      <td>1004.0</td>\n      <td>445.0</td>\n      <td>72.0</td>\n      <td>125.0</td>\n      <td>791.0</td>\n      <td>318.0</td>\n      <td>363.0</td>\n      <td>11743.0</td>\n    </tr>\n  </tbody>\n</table>\n</div>"
     },
     "metadata": {},
     "execution_count": 21
    }
   ],
   "source": [
    "data.sort_values('法人',ascending=False)"
   ]
  },
  {
   "cell_type": "code",
   "execution_count": 22,
   "metadata": {},
   "outputs": [],
   "source": [
    "area=data.sort_values('法人',ascending=True)['地区']\n",
    "count=data.sort_values('法人',ascending=True)['法人']\n",
    "\n",
    "area1=data.sort_values('法人',ascending=False)['地区']\n",
    "count1=data.sort_values('法人',ascending=False)['法人']"
   ]
  },
  {
   "cell_type": "code",
   "execution_count": 8,
   "metadata": {},
   "outputs": [
    {
     "output_type": "execute_result",
     "data": {
      "text/plain": "pandas.core.frame.DataFrame"
     },
     "metadata": {},
     "execution_count": 8
    }
   ],
   "source": [
    "type(data)"
   ]
  },
  {
   "cell_type": "code",
   "execution_count": 23,
   "metadata": {},
   "outputs": [
    {
     "output_type": "display_data",
     "data": {
      "text/html": "        <script type=\"text/javascript\">\n        window.PlotlyConfig = {MathJaxConfig: 'local'};\n        if (window.MathJax) {MathJax.Hub.Config({SVG: {font: \"STIX-Web\"}});}\n        if (typeof require !== 'undefined') {\n        require.undef(\"plotly\");\n        requirejs.config({\n            paths: {\n                'plotly': ['https://cdn.plot.ly/plotly-latest.min']\n            }\n        });\n        require(['plotly'], function(Plotly) {\n            window._Plotly = Plotly;\n        });\n        }\n        </script>\n        "
     },
     "metadata": {}
    },
    {
     "output_type": "display_data",
     "data": {
      "application/vnd.plotly.v1+json": {
       "config": {
        "linkText": "Export to plot.ly",
        "plotlyServerURL": "https://plot.ly",
        "showLink": false
       },
       "data": [
        {
         "orientation": "h",
         "type": "bar",
         "x": [
          21162,
          34202,
          43029,
          45679,
          130203,
          130301,
          134666,
          146514,
          157864,
          173343,
          190607,
          205135,
          211404,
          236831,
          241367,
          243170,
          254834,
          350360,
          373424,
          373792,
          403026,
          409125,
          415421,
          424368,
          434833,
          510502,
          627051,
          823846,
          962213,
          1047033,
          1070306
         ],
         "y": [
          "西  藏",
          "青  海",
          "宁  夏",
          "海  南",
          "甘  肃",
          "吉  林",
          "新  疆",
          "贵  州",
          "内蒙古",
          "黑龙江",
          "云  南",
          "山  西",
          "天  津",
          "广  西",
          "江  西",
          "陕  西",
          "重  庆",
          "安  徽",
          "四  川",
          "福  建",
          "湖  南",
          "上  海",
          "辽  宁",
          "湖  北",
          "河  北",
          "河  南",
          "北  京",
          "山  东",
          "浙  江",
          "江  苏",
          "广  东"
         ]
        }
       ],
       "layout": {
        "template": {
         "data": {
          "bar": [
           {
            "error_x": {
             "color": "#2a3f5f"
            },
            "error_y": {
             "color": "#2a3f5f"
            },
            "marker": {
             "line": {
              "color": "#E5ECF6",
              "width": 0.5
             }
            },
            "type": "bar"
           }
          ],
          "barpolar": [
           {
            "marker": {
             "line": {
              "color": "#E5ECF6",
              "width": 0.5
             }
            },
            "type": "barpolar"
           }
          ],
          "carpet": [
           {
            "aaxis": {
             "endlinecolor": "#2a3f5f",
             "gridcolor": "white",
             "linecolor": "white",
             "minorgridcolor": "white",
             "startlinecolor": "#2a3f5f"
            },
            "baxis": {
             "endlinecolor": "#2a3f5f",
             "gridcolor": "white",
             "linecolor": "white",
             "minorgridcolor": "white",
             "startlinecolor": "#2a3f5f"
            },
            "type": "carpet"
           }
          ],
          "choropleth": [
           {
            "colorbar": {
             "outlinewidth": 0,
             "ticks": ""
            },
            "type": "choropleth"
           }
          ],
          "contour": [
           {
            "colorbar": {
             "outlinewidth": 0,
             "ticks": ""
            },
            "colorscale": [
             [
              0,
              "#0d0887"
             ],
             [
              0.1111111111111111,
              "#46039f"
             ],
             [
              0.2222222222222222,
              "#7201a8"
             ],
             [
              0.3333333333333333,
              "#9c179e"
             ],
             [
              0.4444444444444444,
              "#bd3786"
             ],
             [
              0.5555555555555556,
              "#d8576b"
             ],
             [
              0.6666666666666666,
              "#ed7953"
             ],
             [
              0.7777777777777778,
              "#fb9f3a"
             ],
             [
              0.8888888888888888,
              "#fdca26"
             ],
             [
              1,
              "#f0f921"
             ]
            ],
            "type": "contour"
           }
          ],
          "contourcarpet": [
           {
            "colorbar": {
             "outlinewidth": 0,
             "ticks": ""
            },
            "type": "contourcarpet"
           }
          ],
          "heatmap": [
           {
            "colorbar": {
             "outlinewidth": 0,
             "ticks": ""
            },
            "colorscale": [
             [
              0,
              "#0d0887"
             ],
             [
              0.1111111111111111,
              "#46039f"
             ],
             [
              0.2222222222222222,
              "#7201a8"
             ],
             [
              0.3333333333333333,
              "#9c179e"
             ],
             [
              0.4444444444444444,
              "#bd3786"
             ],
             [
              0.5555555555555556,
              "#d8576b"
             ],
             [
              0.6666666666666666,
              "#ed7953"
             ],
             [
              0.7777777777777778,
              "#fb9f3a"
             ],
             [
              0.8888888888888888,
              "#fdca26"
             ],
             [
              1,
              "#f0f921"
             ]
            ],
            "type": "heatmap"
           }
          ],
          "heatmapgl": [
           {
            "colorbar": {
             "outlinewidth": 0,
             "ticks": ""
            },
            "colorscale": [
             [
              0,
              "#0d0887"
             ],
             [
              0.1111111111111111,
              "#46039f"
             ],
             [
              0.2222222222222222,
              "#7201a8"
             ],
             [
              0.3333333333333333,
              "#9c179e"
             ],
             [
              0.4444444444444444,
              "#bd3786"
             ],
             [
              0.5555555555555556,
              "#d8576b"
             ],
             [
              0.6666666666666666,
              "#ed7953"
             ],
             [
              0.7777777777777778,
              "#fb9f3a"
             ],
             [
              0.8888888888888888,
              "#fdca26"
             ],
             [
              1,
              "#f0f921"
             ]
            ],
            "type": "heatmapgl"
           }
          ],
          "histogram": [
           {
            "marker": {
             "colorbar": {
              "outlinewidth": 0,
              "ticks": ""
             }
            },
            "type": "histogram"
           }
          ],
          "histogram2d": [
           {
            "colorbar": {
             "outlinewidth": 0,
             "ticks": ""
            },
            "colorscale": [
             [
              0,
              "#0d0887"
             ],
             [
              0.1111111111111111,
              "#46039f"
             ],
             [
              0.2222222222222222,
              "#7201a8"
             ],
             [
              0.3333333333333333,
              "#9c179e"
             ],
             [
              0.4444444444444444,
              "#bd3786"
             ],
             [
              0.5555555555555556,
              "#d8576b"
             ],
             [
              0.6666666666666666,
              "#ed7953"
             ],
             [
              0.7777777777777778,
              "#fb9f3a"
             ],
             [
              0.8888888888888888,
              "#fdca26"
             ],
             [
              1,
              "#f0f921"
             ]
            ],
            "type": "histogram2d"
           }
          ],
          "histogram2dcontour": [
           {
            "colorbar": {
             "outlinewidth": 0,
             "ticks": ""
            },
            "colorscale": [
             [
              0,
              "#0d0887"
             ],
             [
              0.1111111111111111,
              "#46039f"
             ],
             [
              0.2222222222222222,
              "#7201a8"
             ],
             [
              0.3333333333333333,
              "#9c179e"
             ],
             [
              0.4444444444444444,
              "#bd3786"
             ],
             [
              0.5555555555555556,
              "#d8576b"
             ],
             [
              0.6666666666666666,
              "#ed7953"
             ],
             [
              0.7777777777777778,
              "#fb9f3a"
             ],
             [
              0.8888888888888888,
              "#fdca26"
             ],
             [
              1,
              "#f0f921"
             ]
            ],
            "type": "histogram2dcontour"
           }
          ],
          "mesh3d": [
           {
            "colorbar": {
             "outlinewidth": 0,
             "ticks": ""
            },
            "type": "mesh3d"
           }
          ],
          "parcoords": [
           {
            "line": {
             "colorbar": {
              "outlinewidth": 0,
              "ticks": ""
             }
            },
            "type": "parcoords"
           }
          ],
          "pie": [
           {
            "automargin": true,
            "type": "pie"
           }
          ],
          "scatter": [
           {
            "marker": {
             "colorbar": {
              "outlinewidth": 0,
              "ticks": ""
             }
            },
            "type": "scatter"
           }
          ],
          "scatter3d": [
           {
            "line": {
             "colorbar": {
              "outlinewidth": 0,
              "ticks": ""
             }
            },
            "marker": {
             "colorbar": {
              "outlinewidth": 0,
              "ticks": ""
             }
            },
            "type": "scatter3d"
           }
          ],
          "scattercarpet": [
           {
            "marker": {
             "colorbar": {
              "outlinewidth": 0,
              "ticks": ""
             }
            },
            "type": "scattercarpet"
           }
          ],
          "scattergeo": [
           {
            "marker": {
             "colorbar": {
              "outlinewidth": 0,
              "ticks": ""
             }
            },
            "type": "scattergeo"
           }
          ],
          "scattergl": [
           {
            "marker": {
             "colorbar": {
              "outlinewidth": 0,
              "ticks": ""
             }
            },
            "type": "scattergl"
           }
          ],
          "scattermapbox": [
           {
            "marker": {
             "colorbar": {
              "outlinewidth": 0,
              "ticks": ""
             }
            },
            "type": "scattermapbox"
           }
          ],
          "scatterpolar": [
           {
            "marker": {
             "colorbar": {
              "outlinewidth": 0,
              "ticks": ""
             }
            },
            "type": "scatterpolar"
           }
          ],
          "scatterpolargl": [
           {
            "marker": {
             "colorbar": {
              "outlinewidth": 0,
              "ticks": ""
             }
            },
            "type": "scatterpolargl"
           }
          ],
          "scatterternary": [
           {
            "marker": {
             "colorbar": {
              "outlinewidth": 0,
              "ticks": ""
             }
            },
            "type": "scatterternary"
           }
          ],
          "surface": [
           {
            "colorbar": {
             "outlinewidth": 0,
             "ticks": ""
            },
            "colorscale": [
             [
              0,
              "#0d0887"
             ],
             [
              0.1111111111111111,
              "#46039f"
             ],
             [
              0.2222222222222222,
              "#7201a8"
             ],
             [
              0.3333333333333333,
              "#9c179e"
             ],
             [
              0.4444444444444444,
              "#bd3786"
             ],
             [
              0.5555555555555556,
              "#d8576b"
             ],
             [
              0.6666666666666666,
              "#ed7953"
             ],
             [
              0.7777777777777778,
              "#fb9f3a"
             ],
             [
              0.8888888888888888,
              "#fdca26"
             ],
             [
              1,
              "#f0f921"
             ]
            ],
            "type": "surface"
           }
          ],
          "table": [
           {
            "cells": {
             "fill": {
              "color": "#EBF0F8"
             },
             "line": {
              "color": "white"
             }
            },
            "header": {
             "fill": {
              "color": "#C8D4E3"
             },
             "line": {
              "color": "white"
             }
            },
            "type": "table"
           }
          ]
         },
         "layout": {
          "annotationdefaults": {
           "arrowcolor": "#2a3f5f",
           "arrowhead": 0,
           "arrowwidth": 1
          },
          "coloraxis": {
           "colorbar": {
            "outlinewidth": 0,
            "ticks": ""
           }
          },
          "colorscale": {
           "diverging": [
            [
             0,
             "#8e0152"
            ],
            [
             0.1,
             "#c51b7d"
            ],
            [
             0.2,
             "#de77ae"
            ],
            [
             0.3,
             "#f1b6da"
            ],
            [
             0.4,
             "#fde0ef"
            ],
            [
             0.5,
             "#f7f7f7"
            ],
            [
             0.6,
             "#e6f5d0"
            ],
            [
             0.7,
             "#b8e186"
            ],
            [
             0.8,
             "#7fbc41"
            ],
            [
             0.9,
             "#4d9221"
            ],
            [
             1,
             "#276419"
            ]
           ],
           "sequential": [
            [
             0,
             "#0d0887"
            ],
            [
             0.1111111111111111,
             "#46039f"
            ],
            [
             0.2222222222222222,
             "#7201a8"
            ],
            [
             0.3333333333333333,
             "#9c179e"
            ],
            [
             0.4444444444444444,
             "#bd3786"
            ],
            [
             0.5555555555555556,
             "#d8576b"
            ],
            [
             0.6666666666666666,
             "#ed7953"
            ],
            [
             0.7777777777777778,
             "#fb9f3a"
            ],
            [
             0.8888888888888888,
             "#fdca26"
            ],
            [
             1,
             "#f0f921"
            ]
           ],
           "sequentialminus": [
            [
             0,
             "#0d0887"
            ],
            [
             0.1111111111111111,
             "#46039f"
            ],
            [
             0.2222222222222222,
             "#7201a8"
            ],
            [
             0.3333333333333333,
             "#9c179e"
            ],
            [
             0.4444444444444444,
             "#bd3786"
            ],
            [
             0.5555555555555556,
             "#d8576b"
            ],
            [
             0.6666666666666666,
             "#ed7953"
            ],
            [
             0.7777777777777778,
             "#fb9f3a"
            ],
            [
             0.8888888888888888,
             "#fdca26"
            ],
            [
             1,
             "#f0f921"
            ]
           ]
          },
          "colorway": [
           "#636efa",
           "#EF553B",
           "#00cc96",
           "#ab63fa",
           "#FFA15A",
           "#19d3f3",
           "#FF6692",
           "#B6E880",
           "#FF97FF",
           "#FECB52"
          ],
          "font": {
           "color": "#2a3f5f"
          },
          "geo": {
           "bgcolor": "white",
           "lakecolor": "white",
           "landcolor": "#E5ECF6",
           "showlakes": true,
           "showland": true,
           "subunitcolor": "white"
          },
          "hoverlabel": {
           "align": "left"
          },
          "hovermode": "closest",
          "mapbox": {
           "style": "light"
          },
          "paper_bgcolor": "white",
          "plot_bgcolor": "#E5ECF6",
          "polar": {
           "angularaxis": {
            "gridcolor": "white",
            "linecolor": "white",
            "ticks": ""
           },
           "bgcolor": "#E5ECF6",
           "radialaxis": {
            "gridcolor": "white",
            "linecolor": "white",
            "ticks": ""
           }
          },
          "scene": {
           "xaxis": {
            "backgroundcolor": "#E5ECF6",
            "gridcolor": "white",
            "gridwidth": 2,
            "linecolor": "white",
            "showbackground": true,
            "ticks": "",
            "zerolinecolor": "white"
           },
           "yaxis": {
            "backgroundcolor": "#E5ECF6",
            "gridcolor": "white",
            "gridwidth": 2,
            "linecolor": "white",
            "showbackground": true,
            "ticks": "",
            "zerolinecolor": "white"
           },
           "zaxis": {
            "backgroundcolor": "#E5ECF6",
            "gridcolor": "white",
            "gridwidth": 2,
            "linecolor": "white",
            "showbackground": true,
            "ticks": "",
            "zerolinecolor": "white"
           }
          },
          "shapedefaults": {
           "line": {
            "color": "#2a3f5f"
           }
          },
          "ternary": {
           "aaxis": {
            "gridcolor": "white",
            "linecolor": "white",
            "ticks": ""
           },
           "baxis": {
            "gridcolor": "white",
            "linecolor": "white",
            "ticks": ""
           },
           "bgcolor": "#E5ECF6",
           "caxis": {
            "gridcolor": "white",
            "linecolor": "white",
            "ticks": ""
           }
          },
          "title": {
           "x": 0.05
          },
          "xaxis": {
           "automargin": true,
           "gridcolor": "white",
           "linecolor": "white",
           "ticks": "",
           "title": {
            "standoff": 15
           },
           "zerolinecolor": "white",
           "zerolinewidth": 2
          },
          "yaxis": {
           "automargin": true,
           "gridcolor": "white",
           "linecolor": "white",
           "ticks": "",
           "title": {
            "standoff": 15
           },
           "zerolinecolor": "white",
           "zerolinewidth": 2
          }
         }
        },
        "title": {
         "text": "全国法人数"
        }
       }
      },
      "text/html": "<div>\n        \n        \n            <div id=\"c703f922-35f7-41fd-99a0-acdd06818d2b\" class=\"plotly-graph-div\" style=\"height:525px; width:100%;\"></div>\n            <script type=\"text/javascript\">\n                require([\"plotly\"], function(Plotly) {\n                    window.PLOTLYENV=window.PLOTLYENV || {};\n                    \n                if (document.getElementById(\"c703f922-35f7-41fd-99a0-acdd06818d2b\")) {\n                    Plotly.newPlot(\n                        'c703f922-35f7-41fd-99a0-acdd06818d2b',\n                        [{\"orientation\": \"h\", \"type\": \"bar\", \"x\": [21162.0, 34202.0, 43029.0, 45679.0, 130203.0, 130301.0, 134666.0, 146514.0, 157864.0, 173343.0, 190607.0, 205135.0, 211404.0, 236831.0, 241367.0, 243170.0, 254834.0, 350360.0, 373424.0, 373792.0, 403026.0, 409125.0, 415421.0, 424368.0, 434833.0, 510502.0, 627051.0, 823846.0, 962213.0, 1047033.0, 1070306.0], \"y\": [\"\\u897f  \\u85cf\", \"\\u9752  \\u6d77\", \"\\u5b81  \\u590f\", \"\\u6d77  \\u5357\", \"\\u7518  \\u8083\", \"\\u5409  \\u6797\", \"\\u65b0  \\u7586\", \"\\u8d35  \\u5dde\", \"\\u5185\\u8499\\u53e4\", \"\\u9ed1\\u9f99\\u6c5f\", \"\\u4e91  \\u5357\", \"\\u5c71  \\u897f\", \"\\u5929  \\u6d25\", \"\\u5e7f  \\u897f\", \"\\u6c5f  \\u897f\", \"\\u9655  \\u897f\", \"\\u91cd  \\u5e86\", \"\\u5b89  \\u5fbd\", \"\\u56db  \\u5ddd\", \"\\u798f  \\u5efa\", \"\\u6e56  \\u5357\", \"\\u4e0a  \\u6d77\", \"\\u8fbd  \\u5b81\", \"\\u6e56  \\u5317\", \"\\u6cb3  \\u5317\", \"\\u6cb3  \\u5357\", \"\\u5317  \\u4eac\", \"\\u5c71  \\u4e1c\", \"\\u6d59  \\u6c5f\", \"\\u6c5f  \\u82cf\", \"\\u5e7f  \\u4e1c\"]}],\n                        {\"template\": {\"data\": {\"bar\": [{\"error_x\": {\"color\": \"#2a3f5f\"}, \"error_y\": {\"color\": \"#2a3f5f\"}, \"marker\": {\"line\": {\"color\": \"#E5ECF6\", \"width\": 0.5}}, \"type\": \"bar\"}], \"barpolar\": [{\"marker\": {\"line\": {\"color\": \"#E5ECF6\", \"width\": 0.5}}, \"type\": \"barpolar\"}], \"carpet\": [{\"aaxis\": {\"endlinecolor\": \"#2a3f5f\", \"gridcolor\": \"white\", \"linecolor\": \"white\", \"minorgridcolor\": \"white\", \"startlinecolor\": \"#2a3f5f\"}, \"baxis\": {\"endlinecolor\": \"#2a3f5f\", \"gridcolor\": \"white\", \"linecolor\": \"white\", \"minorgridcolor\": \"white\", \"startlinecolor\": \"#2a3f5f\"}, \"type\": \"carpet\"}], \"choropleth\": [{\"colorbar\": {\"outlinewidth\": 0, \"ticks\": \"\"}, \"type\": \"choropleth\"}], \"contour\": [{\"colorbar\": {\"outlinewidth\": 0, \"ticks\": \"\"}, \"colorscale\": [[0.0, \"#0d0887\"], [0.1111111111111111, \"#46039f\"], [0.2222222222222222, \"#7201a8\"], [0.3333333333333333, \"#9c179e\"], [0.4444444444444444, \"#bd3786\"], [0.5555555555555556, \"#d8576b\"], [0.6666666666666666, \"#ed7953\"], [0.7777777777777778, \"#fb9f3a\"], [0.8888888888888888, \"#fdca26\"], [1.0, \"#f0f921\"]], \"type\": \"contour\"}], \"contourcarpet\": [{\"colorbar\": {\"outlinewidth\": 0, \"ticks\": \"\"}, \"type\": \"contourcarpet\"}], \"heatmap\": [{\"colorbar\": {\"outlinewidth\": 0, \"ticks\": \"\"}, \"colorscale\": [[0.0, \"#0d0887\"], [0.1111111111111111, \"#46039f\"], [0.2222222222222222, \"#7201a8\"], [0.3333333333333333, \"#9c179e\"], [0.4444444444444444, \"#bd3786\"], [0.5555555555555556, \"#d8576b\"], [0.6666666666666666, \"#ed7953\"], [0.7777777777777778, \"#fb9f3a\"], [0.8888888888888888, \"#fdca26\"], [1.0, \"#f0f921\"]], \"type\": \"heatmap\"}], \"heatmapgl\": [{\"colorbar\": {\"outlinewidth\": 0, \"ticks\": \"\"}, \"colorscale\": [[0.0, \"#0d0887\"], [0.1111111111111111, \"#46039f\"], [0.2222222222222222, \"#7201a8\"], [0.3333333333333333, \"#9c179e\"], [0.4444444444444444, \"#bd3786\"], [0.5555555555555556, \"#d8576b\"], [0.6666666666666666, \"#ed7953\"], [0.7777777777777778, \"#fb9f3a\"], [0.8888888888888888, \"#fdca26\"], [1.0, \"#f0f921\"]], \"type\": \"heatmapgl\"}], \"histogram\": [{\"marker\": {\"colorbar\": {\"outlinewidth\": 0, \"ticks\": \"\"}}, \"type\": \"histogram\"}], \"histogram2d\": [{\"colorbar\": {\"outlinewidth\": 0, \"ticks\": \"\"}, \"colorscale\": [[0.0, \"#0d0887\"], [0.1111111111111111, \"#46039f\"], [0.2222222222222222, \"#7201a8\"], [0.3333333333333333, \"#9c179e\"], [0.4444444444444444, \"#bd3786\"], [0.5555555555555556, \"#d8576b\"], [0.6666666666666666, \"#ed7953\"], [0.7777777777777778, \"#fb9f3a\"], [0.8888888888888888, \"#fdca26\"], [1.0, \"#f0f921\"]], \"type\": \"histogram2d\"}], \"histogram2dcontour\": [{\"colorbar\": {\"outlinewidth\": 0, \"ticks\": \"\"}, \"colorscale\": [[0.0, \"#0d0887\"], [0.1111111111111111, \"#46039f\"], [0.2222222222222222, \"#7201a8\"], [0.3333333333333333, \"#9c179e\"], [0.4444444444444444, \"#bd3786\"], [0.5555555555555556, \"#d8576b\"], [0.6666666666666666, \"#ed7953\"], [0.7777777777777778, \"#fb9f3a\"], [0.8888888888888888, \"#fdca26\"], [1.0, \"#f0f921\"]], \"type\": \"histogram2dcontour\"}], \"mesh3d\": [{\"colorbar\": {\"outlinewidth\": 0, \"ticks\": \"\"}, \"type\": \"mesh3d\"}], \"parcoords\": [{\"line\": {\"colorbar\": {\"outlinewidth\": 0, \"ticks\": \"\"}}, \"type\": \"parcoords\"}], \"pie\": [{\"automargin\": true, \"type\": \"pie\"}], \"scatter\": [{\"marker\": {\"colorbar\": {\"outlinewidth\": 0, \"ticks\": \"\"}}, \"type\": \"scatter\"}], \"scatter3d\": [{\"line\": {\"colorbar\": {\"outlinewidth\": 0, \"ticks\": \"\"}}, \"marker\": {\"colorbar\": {\"outlinewidth\": 0, \"ticks\": \"\"}}, \"type\": \"scatter3d\"}], \"scattercarpet\": [{\"marker\": {\"colorbar\": {\"outlinewidth\": 0, \"ticks\": \"\"}}, \"type\": \"scattercarpet\"}], \"scattergeo\": [{\"marker\": {\"colorbar\": {\"outlinewidth\": 0, \"ticks\": \"\"}}, \"type\": \"scattergeo\"}], \"scattergl\": [{\"marker\": {\"colorbar\": {\"outlinewidth\": 0, \"ticks\": \"\"}}, \"type\": \"scattergl\"}], \"scattermapbox\": [{\"marker\": {\"colorbar\": {\"outlinewidth\": 0, \"ticks\": \"\"}}, \"type\": \"scattermapbox\"}], \"scatterpolar\": [{\"marker\": {\"colorbar\": {\"outlinewidth\": 0, \"ticks\": \"\"}}, \"type\": \"scatterpolar\"}], \"scatterpolargl\": [{\"marker\": {\"colorbar\": {\"outlinewidth\": 0, \"ticks\": \"\"}}, \"type\": \"scatterpolargl\"}], \"scatterternary\": [{\"marker\": {\"colorbar\": {\"outlinewidth\": 0, \"ticks\": \"\"}}, \"type\": \"scatterternary\"}], \"surface\": [{\"colorbar\": {\"outlinewidth\": 0, \"ticks\": \"\"}, \"colorscale\": [[0.0, \"#0d0887\"], [0.1111111111111111, \"#46039f\"], [0.2222222222222222, \"#7201a8\"], [0.3333333333333333, \"#9c179e\"], [0.4444444444444444, \"#bd3786\"], [0.5555555555555556, \"#d8576b\"], [0.6666666666666666, \"#ed7953\"], [0.7777777777777778, \"#fb9f3a\"], [0.8888888888888888, \"#fdca26\"], [1.0, \"#f0f921\"]], \"type\": \"surface\"}], \"table\": [{\"cells\": {\"fill\": {\"color\": \"#EBF0F8\"}, \"line\": {\"color\": \"white\"}}, \"header\": {\"fill\": {\"color\": \"#C8D4E3\"}, \"line\": {\"color\": \"white\"}}, \"type\": \"table\"}]}, \"layout\": {\"annotationdefaults\": {\"arrowcolor\": \"#2a3f5f\", \"arrowhead\": 0, \"arrowwidth\": 1}, \"coloraxis\": {\"colorbar\": {\"outlinewidth\": 0, \"ticks\": \"\"}}, \"colorscale\": {\"diverging\": [[0, \"#8e0152\"], [0.1, \"#c51b7d\"], [0.2, \"#de77ae\"], [0.3, \"#f1b6da\"], [0.4, \"#fde0ef\"], [0.5, \"#f7f7f7\"], [0.6, \"#e6f5d0\"], [0.7, \"#b8e186\"], [0.8, \"#7fbc41\"], [0.9, \"#4d9221\"], [1, \"#276419\"]], \"sequential\": [[0.0, \"#0d0887\"], [0.1111111111111111, \"#46039f\"], [0.2222222222222222, \"#7201a8\"], [0.3333333333333333, \"#9c179e\"], [0.4444444444444444, \"#bd3786\"], [0.5555555555555556, \"#d8576b\"], [0.6666666666666666, \"#ed7953\"], [0.7777777777777778, \"#fb9f3a\"], [0.8888888888888888, \"#fdca26\"], [1.0, \"#f0f921\"]], \"sequentialminus\": [[0.0, \"#0d0887\"], [0.1111111111111111, \"#46039f\"], [0.2222222222222222, \"#7201a8\"], [0.3333333333333333, \"#9c179e\"], [0.4444444444444444, \"#bd3786\"], [0.5555555555555556, \"#d8576b\"], [0.6666666666666666, \"#ed7953\"], [0.7777777777777778, \"#fb9f3a\"], [0.8888888888888888, \"#fdca26\"], [1.0, \"#f0f921\"]]}, \"colorway\": [\"#636efa\", \"#EF553B\", \"#00cc96\", \"#ab63fa\", \"#FFA15A\", \"#19d3f3\", \"#FF6692\", \"#B6E880\", \"#FF97FF\", \"#FECB52\"], \"font\": {\"color\": \"#2a3f5f\"}, \"geo\": {\"bgcolor\": \"white\", \"lakecolor\": \"white\", \"landcolor\": \"#E5ECF6\", \"showlakes\": true, \"showland\": true, \"subunitcolor\": \"white\"}, \"hoverlabel\": {\"align\": \"left\"}, \"hovermode\": \"closest\", \"mapbox\": {\"style\": \"light\"}, \"paper_bgcolor\": \"white\", \"plot_bgcolor\": \"#E5ECF6\", \"polar\": {\"angularaxis\": {\"gridcolor\": \"white\", \"linecolor\": \"white\", \"ticks\": \"\"}, \"bgcolor\": \"#E5ECF6\", \"radialaxis\": {\"gridcolor\": \"white\", \"linecolor\": \"white\", \"ticks\": \"\"}}, \"scene\": {\"xaxis\": {\"backgroundcolor\": \"#E5ECF6\", \"gridcolor\": \"white\", \"gridwidth\": 2, \"linecolor\": \"white\", \"showbackground\": true, \"ticks\": \"\", \"zerolinecolor\": \"white\"}, \"yaxis\": {\"backgroundcolor\": \"#E5ECF6\", \"gridcolor\": \"white\", \"gridwidth\": 2, \"linecolor\": \"white\", \"showbackground\": true, \"ticks\": \"\", \"zerolinecolor\": \"white\"}, \"zaxis\": {\"backgroundcolor\": \"#E5ECF6\", \"gridcolor\": \"white\", \"gridwidth\": 2, \"linecolor\": \"white\", \"showbackground\": true, \"ticks\": \"\", \"zerolinecolor\": \"white\"}}, \"shapedefaults\": {\"line\": {\"color\": \"#2a3f5f\"}}, \"ternary\": {\"aaxis\": {\"gridcolor\": \"white\", \"linecolor\": \"white\", \"ticks\": \"\"}, \"baxis\": {\"gridcolor\": \"white\", \"linecolor\": \"white\", \"ticks\": \"\"}, \"bgcolor\": \"#E5ECF6\", \"caxis\": {\"gridcolor\": \"white\", \"linecolor\": \"white\", \"ticks\": \"\"}}, \"title\": {\"x\": 0.05}, \"xaxis\": {\"automargin\": true, \"gridcolor\": \"white\", \"linecolor\": \"white\", \"ticks\": \"\", \"title\": {\"standoff\": 15}, \"zerolinecolor\": \"white\", \"zerolinewidth\": 2}, \"yaxis\": {\"automargin\": true, \"gridcolor\": \"white\", \"linecolor\": \"white\", \"ticks\": \"\", \"title\": {\"standoff\": 15}, \"zerolinecolor\": \"white\", \"zerolinewidth\": 2}}}, \"title\": {\"text\": \"\\u5168\\u56fd\\u6cd5\\u4eba\\u6570\"}},\n                        {\"responsive\": true}\n                    ).then(function(){\n                            \nvar gd = document.getElementById('c703f922-35f7-41fd-99a0-acdd06818d2b');\nvar x = new MutationObserver(function (mutations, observer) {{\n        var display = window.getComputedStyle(gd).display;\n        if (!display || display === 'none') {{\n            console.log([gd, 'removed!']);\n            Plotly.purge(gd);\n            observer.disconnect();\n        }}\n}});\n\n// Listen for the removal of the full notebook cells\nvar notebookContainer = gd.closest('#notebook-container');\nif (notebookContainer) {{\n    x.observe(notebookContainer, {childList: true});\n}}\n\n// Listen for the clearing of the current output cell\nvar outputEl = gd.closest('.output');\nif (outputEl) {{\n    x.observe(outputEl, {childList: true});\n}}\n\n                        })\n                };\n                });\n            </script>\n        </div>"
     },
     "metadata": {}
    }
   ],
   "source": [
    "import plotly.offline as py\n",
    "from plotly.graph_objs import Scatter, Layout\n",
    "import plotly.graph_objs as go\n",
    "py.init_notebook_mode(connected=True)\n",
    "\n",
    "\n",
    "data = [go.Bar(\n",
    "            x=count,\n",
    "            y=area,\n",
    "            orientation = 'h'\n",
    ")]\n",
    "layout = go.Layout(\n",
    "            title = '全国法人数'\n",
    "    )\n",
    "figure = go.Figure(data = data, layout = layout)\n",
    "py.iplot(figure)"
   ]
  },
  {
   "cell_type": "code",
   "execution_count": 25,
   "metadata": {},
   "outputs": [
    {
     "output_type": "display_data",
     "data": {
      "text/html": "        <script type=\"text/javascript\">\n        window.PlotlyConfig = {MathJaxConfig: 'local'};\n        if (window.MathJax) {MathJax.Hub.Config({SVG: {font: \"STIX-Web\"}});}\n        if (typeof require !== 'undefined') {\n        require.undef(\"plotly\");\n        requirejs.config({\n            paths: {\n                'plotly': ['https://cdn.plot.ly/plotly-latest.min']\n            }\n        });\n        require(['plotly'], function(Plotly) {\n            window._Plotly = Plotly;\n        });\n        }\n        </script>\n        "
     },
     "metadata": {}
    },
    {
     "output_type": "display_data",
     "data": {
      "application/vnd.plotly.v1+json": {
       "config": {
        "linkText": "Export to plot.ly",
        "plotlyServerURL": "https://plot.ly",
        "showLink": false
       },
       "data": [
        {
         "type": "bar",
         "x": [
          "广  东",
          "江  苏",
          "浙  江",
          "山  东",
          "北  京",
          "河  南",
          "河  北",
          "湖  北",
          "辽  宁",
          "上  海",
          "湖  南",
          "福  建",
          "四  川",
          "安  徽",
          "重  庆",
          "陕  西",
          "江  西",
          "广  西",
          "天  津",
          "山  西",
          "云  南",
          "黑龙江",
          "内蒙古",
          "贵  州",
          "新  疆",
          "吉  林",
          "甘  肃",
          "海  南",
          "宁  夏",
          "青  海",
          "西  藏"
         ],
         "y": [
          1070306,
          1047033,
          962213,
          823846,
          627051,
          510502,
          434833,
          424368,
          415421,
          409125,
          403026,
          373792,
          373424,
          350360,
          254834,
          243170,
          241367,
          236831,
          211404,
          205135,
          190607,
          173343,
          157864,
          146514,
          134666,
          130301,
          130203,
          45679,
          43029,
          34202,
          21162
         ]
        }
       ],
       "layout": {
        "template": {
         "data": {
          "bar": [
           {
            "error_x": {
             "color": "#2a3f5f"
            },
            "error_y": {
             "color": "#2a3f5f"
            },
            "marker": {
             "line": {
              "color": "#E5ECF6",
              "width": 0.5
             }
            },
            "type": "bar"
           }
          ],
          "barpolar": [
           {
            "marker": {
             "line": {
              "color": "#E5ECF6",
              "width": 0.5
             }
            },
            "type": "barpolar"
           }
          ],
          "carpet": [
           {
            "aaxis": {
             "endlinecolor": "#2a3f5f",
             "gridcolor": "white",
             "linecolor": "white",
             "minorgridcolor": "white",
             "startlinecolor": "#2a3f5f"
            },
            "baxis": {
             "endlinecolor": "#2a3f5f",
             "gridcolor": "white",
             "linecolor": "white",
             "minorgridcolor": "white",
             "startlinecolor": "#2a3f5f"
            },
            "type": "carpet"
           }
          ],
          "choropleth": [
           {
            "colorbar": {
             "outlinewidth": 0,
             "ticks": ""
            },
            "type": "choropleth"
           }
          ],
          "contour": [
           {
            "colorbar": {
             "outlinewidth": 0,
             "ticks": ""
            },
            "colorscale": [
             [
              0,
              "#0d0887"
             ],
             [
              0.1111111111111111,
              "#46039f"
             ],
             [
              0.2222222222222222,
              "#7201a8"
             ],
             [
              0.3333333333333333,
              "#9c179e"
             ],
             [
              0.4444444444444444,
              "#bd3786"
             ],
             [
              0.5555555555555556,
              "#d8576b"
             ],
             [
              0.6666666666666666,
              "#ed7953"
             ],
             [
              0.7777777777777778,
              "#fb9f3a"
             ],
             [
              0.8888888888888888,
              "#fdca26"
             ],
             [
              1,
              "#f0f921"
             ]
            ],
            "type": "contour"
           }
          ],
          "contourcarpet": [
           {
            "colorbar": {
             "outlinewidth": 0,
             "ticks": ""
            },
            "type": "contourcarpet"
           }
          ],
          "heatmap": [
           {
            "colorbar": {
             "outlinewidth": 0,
             "ticks": ""
            },
            "colorscale": [
             [
              0,
              "#0d0887"
             ],
             [
              0.1111111111111111,
              "#46039f"
             ],
             [
              0.2222222222222222,
              "#7201a8"
             ],
             [
              0.3333333333333333,
              "#9c179e"
             ],
             [
              0.4444444444444444,
              "#bd3786"
             ],
             [
              0.5555555555555556,
              "#d8576b"
             ],
             [
              0.6666666666666666,
              "#ed7953"
             ],
             [
              0.7777777777777778,
              "#fb9f3a"
             ],
             [
              0.8888888888888888,
              "#fdca26"
             ],
             [
              1,
              "#f0f921"
             ]
            ],
            "type": "heatmap"
           }
          ],
          "heatmapgl": [
           {
            "colorbar": {
             "outlinewidth": 0,
             "ticks": ""
            },
            "colorscale": [
             [
              0,
              "#0d0887"
             ],
             [
              0.1111111111111111,
              "#46039f"
             ],
             [
              0.2222222222222222,
              "#7201a8"
             ],
             [
              0.3333333333333333,
              "#9c179e"
             ],
             [
              0.4444444444444444,
              "#bd3786"
             ],
             [
              0.5555555555555556,
              "#d8576b"
             ],
             [
              0.6666666666666666,
              "#ed7953"
             ],
             [
              0.7777777777777778,
              "#fb9f3a"
             ],
             [
              0.8888888888888888,
              "#fdca26"
             ],
             [
              1,
              "#f0f921"
             ]
            ],
            "type": "heatmapgl"
           }
          ],
          "histogram": [
           {
            "marker": {
             "colorbar": {
              "outlinewidth": 0,
              "ticks": ""
             }
            },
            "type": "histogram"
           }
          ],
          "histogram2d": [
           {
            "colorbar": {
             "outlinewidth": 0,
             "ticks": ""
            },
            "colorscale": [
             [
              0,
              "#0d0887"
             ],
             [
              0.1111111111111111,
              "#46039f"
             ],
             [
              0.2222222222222222,
              "#7201a8"
             ],
             [
              0.3333333333333333,
              "#9c179e"
             ],
             [
              0.4444444444444444,
              "#bd3786"
             ],
             [
              0.5555555555555556,
              "#d8576b"
             ],
             [
              0.6666666666666666,
              "#ed7953"
             ],
             [
              0.7777777777777778,
              "#fb9f3a"
             ],
             [
              0.8888888888888888,
              "#fdca26"
             ],
             [
              1,
              "#f0f921"
             ]
            ],
            "type": "histogram2d"
           }
          ],
          "histogram2dcontour": [
           {
            "colorbar": {
             "outlinewidth": 0,
             "ticks": ""
            },
            "colorscale": [
             [
              0,
              "#0d0887"
             ],
             [
              0.1111111111111111,
              "#46039f"
             ],
             [
              0.2222222222222222,
              "#7201a8"
             ],
             [
              0.3333333333333333,
              "#9c179e"
             ],
             [
              0.4444444444444444,
              "#bd3786"
             ],
             [
              0.5555555555555556,
              "#d8576b"
             ],
             [
              0.6666666666666666,
              "#ed7953"
             ],
             [
              0.7777777777777778,
              "#fb9f3a"
             ],
             [
              0.8888888888888888,
              "#fdca26"
             ],
             [
              1,
              "#f0f921"
             ]
            ],
            "type": "histogram2dcontour"
           }
          ],
          "mesh3d": [
           {
            "colorbar": {
             "outlinewidth": 0,
             "ticks": ""
            },
            "type": "mesh3d"
           }
          ],
          "parcoords": [
           {
            "line": {
             "colorbar": {
              "outlinewidth": 0,
              "ticks": ""
             }
            },
            "type": "parcoords"
           }
          ],
          "pie": [
           {
            "automargin": true,
            "type": "pie"
           }
          ],
          "scatter": [
           {
            "marker": {
             "colorbar": {
              "outlinewidth": 0,
              "ticks": ""
             }
            },
            "type": "scatter"
           }
          ],
          "scatter3d": [
           {
            "line": {
             "colorbar": {
              "outlinewidth": 0,
              "ticks": ""
             }
            },
            "marker": {
             "colorbar": {
              "outlinewidth": 0,
              "ticks": ""
             }
            },
            "type": "scatter3d"
           }
          ],
          "scattercarpet": [
           {
            "marker": {
             "colorbar": {
              "outlinewidth": 0,
              "ticks": ""
             }
            },
            "type": "scattercarpet"
           }
          ],
          "scattergeo": [
           {
            "marker": {
             "colorbar": {
              "outlinewidth": 0,
              "ticks": ""
             }
            },
            "type": "scattergeo"
           }
          ],
          "scattergl": [
           {
            "marker": {
             "colorbar": {
              "outlinewidth": 0,
              "ticks": ""
             }
            },
            "type": "scattergl"
           }
          ],
          "scattermapbox": [
           {
            "marker": {
             "colorbar": {
              "outlinewidth": 0,
              "ticks": ""
             }
            },
            "type": "scattermapbox"
           }
          ],
          "scatterpolar": [
           {
            "marker": {
             "colorbar": {
              "outlinewidth": 0,
              "ticks": ""
             }
            },
            "type": "scatterpolar"
           }
          ],
          "scatterpolargl": [
           {
            "marker": {
             "colorbar": {
              "outlinewidth": 0,
              "ticks": ""
             }
            },
            "type": "scatterpolargl"
           }
          ],
          "scatterternary": [
           {
            "marker": {
             "colorbar": {
              "outlinewidth": 0,
              "ticks": ""
             }
            },
            "type": "scatterternary"
           }
          ],
          "surface": [
           {
            "colorbar": {
             "outlinewidth": 0,
             "ticks": ""
            },
            "colorscale": [
             [
              0,
              "#0d0887"
             ],
             [
              0.1111111111111111,
              "#46039f"
             ],
             [
              0.2222222222222222,
              "#7201a8"
             ],
             [
              0.3333333333333333,
              "#9c179e"
             ],
             [
              0.4444444444444444,
              "#bd3786"
             ],
             [
              0.5555555555555556,
              "#d8576b"
             ],
             [
              0.6666666666666666,
              "#ed7953"
             ],
             [
              0.7777777777777778,
              "#fb9f3a"
             ],
             [
              0.8888888888888888,
              "#fdca26"
             ],
             [
              1,
              "#f0f921"
             ]
            ],
            "type": "surface"
           }
          ],
          "table": [
           {
            "cells": {
             "fill": {
              "color": "#EBF0F8"
             },
             "line": {
              "color": "white"
             }
            },
            "header": {
             "fill": {
              "color": "#C8D4E3"
             },
             "line": {
              "color": "white"
             }
            },
            "type": "table"
           }
          ]
         },
         "layout": {
          "annotationdefaults": {
           "arrowcolor": "#2a3f5f",
           "arrowhead": 0,
           "arrowwidth": 1
          },
          "coloraxis": {
           "colorbar": {
            "outlinewidth": 0,
            "ticks": ""
           }
          },
          "colorscale": {
           "diverging": [
            [
             0,
             "#8e0152"
            ],
            [
             0.1,
             "#c51b7d"
            ],
            [
             0.2,
             "#de77ae"
            ],
            [
             0.3,
             "#f1b6da"
            ],
            [
             0.4,
             "#fde0ef"
            ],
            [
             0.5,
             "#f7f7f7"
            ],
            [
             0.6,
             "#e6f5d0"
            ],
            [
             0.7,
             "#b8e186"
            ],
            [
             0.8,
             "#7fbc41"
            ],
            [
             0.9,
             "#4d9221"
            ],
            [
             1,
             "#276419"
            ]
           ],
           "sequential": [
            [
             0,
             "#0d0887"
            ],
            [
             0.1111111111111111,
             "#46039f"
            ],
            [
             0.2222222222222222,
             "#7201a8"
            ],
            [
             0.3333333333333333,
             "#9c179e"
            ],
            [
             0.4444444444444444,
             "#bd3786"
            ],
            [
             0.5555555555555556,
             "#d8576b"
            ],
            [
             0.6666666666666666,
             "#ed7953"
            ],
            [
             0.7777777777777778,
             "#fb9f3a"
            ],
            [
             0.8888888888888888,
             "#fdca26"
            ],
            [
             1,
             "#f0f921"
            ]
           ],
           "sequentialminus": [
            [
             0,
             "#0d0887"
            ],
            [
             0.1111111111111111,
             "#46039f"
            ],
            [
             0.2222222222222222,
             "#7201a8"
            ],
            [
             0.3333333333333333,
             "#9c179e"
            ],
            [
             0.4444444444444444,
             "#bd3786"
            ],
            [
             0.5555555555555556,
             "#d8576b"
            ],
            [
             0.6666666666666666,
             "#ed7953"
            ],
            [
             0.7777777777777778,
             "#fb9f3a"
            ],
            [
             0.8888888888888888,
             "#fdca26"
            ],
            [
             1,
             "#f0f921"
            ]
           ]
          },
          "colorway": [
           "#636efa",
           "#EF553B",
           "#00cc96",
           "#ab63fa",
           "#FFA15A",
           "#19d3f3",
           "#FF6692",
           "#B6E880",
           "#FF97FF",
           "#FECB52"
          ],
          "font": {
           "color": "#2a3f5f"
          },
          "geo": {
           "bgcolor": "white",
           "lakecolor": "white",
           "landcolor": "#E5ECF6",
           "showlakes": true,
           "showland": true,
           "subunitcolor": "white"
          },
          "hoverlabel": {
           "align": "left"
          },
          "hovermode": "closest",
          "mapbox": {
           "style": "light"
          },
          "paper_bgcolor": "white",
          "plot_bgcolor": "#E5ECF6",
          "polar": {
           "angularaxis": {
            "gridcolor": "white",
            "linecolor": "white",
            "ticks": ""
           },
           "bgcolor": "#E5ECF6",
           "radialaxis": {
            "gridcolor": "white",
            "linecolor": "white",
            "ticks": ""
           }
          },
          "scene": {
           "xaxis": {
            "backgroundcolor": "#E5ECF6",
            "gridcolor": "white",
            "gridwidth": 2,
            "linecolor": "white",
            "showbackground": true,
            "ticks": "",
            "zerolinecolor": "white"
           },
           "yaxis": {
            "backgroundcolor": "#E5ECF6",
            "gridcolor": "white",
            "gridwidth": 2,
            "linecolor": "white",
            "showbackground": true,
            "ticks": "",
            "zerolinecolor": "white"
           },
           "zaxis": {
            "backgroundcolor": "#E5ECF6",
            "gridcolor": "white",
            "gridwidth": 2,
            "linecolor": "white",
            "showbackground": true,
            "ticks": "",
            "zerolinecolor": "white"
           }
          },
          "shapedefaults": {
           "line": {
            "color": "#2a3f5f"
           }
          },
          "ternary": {
           "aaxis": {
            "gridcolor": "white",
            "linecolor": "white",
            "ticks": ""
           },
           "baxis": {
            "gridcolor": "white",
            "linecolor": "white",
            "ticks": ""
           },
           "bgcolor": "#E5ECF6",
           "caxis": {
            "gridcolor": "white",
            "linecolor": "white",
            "ticks": ""
           }
          },
          "title": {
           "x": 0.05
          },
          "xaxis": {
           "automargin": true,
           "gridcolor": "white",
           "linecolor": "white",
           "ticks": "",
           "title": {
            "standoff": 15
           },
           "zerolinecolor": "white",
           "zerolinewidth": 2
          },
          "yaxis": {
           "automargin": true,
           "gridcolor": "white",
           "linecolor": "white",
           "ticks": "",
           "title": {
            "standoff": 15
           },
           "zerolinecolor": "white",
           "zerolinewidth": 2
          }
         }
        }
       }
      },
      "text/html": "<div>\n        \n        \n            <div id=\"2c72e1f9-02f7-4a05-9204-f52cb17e7031\" class=\"plotly-graph-div\" style=\"height:525px; width:100%;\"></div>\n            <script type=\"text/javascript\">\n                require([\"plotly\"], function(Plotly) {\n                    window.PLOTLYENV=window.PLOTLYENV || {};\n                    \n                if (document.getElementById(\"2c72e1f9-02f7-4a05-9204-f52cb17e7031\")) {\n                    Plotly.newPlot(\n                        '2c72e1f9-02f7-4a05-9204-f52cb17e7031',\n                        [{\"type\": \"bar\", \"x\": [\"\\u5e7f  \\u4e1c\", \"\\u6c5f  \\u82cf\", \"\\u6d59  \\u6c5f\", \"\\u5c71  \\u4e1c\", \"\\u5317  \\u4eac\", \"\\u6cb3  \\u5357\", \"\\u6cb3  \\u5317\", \"\\u6e56  \\u5317\", \"\\u8fbd  \\u5b81\", \"\\u4e0a  \\u6d77\", \"\\u6e56  \\u5357\", \"\\u798f  \\u5efa\", \"\\u56db  \\u5ddd\", \"\\u5b89  \\u5fbd\", \"\\u91cd  \\u5e86\", \"\\u9655  \\u897f\", \"\\u6c5f  \\u897f\", \"\\u5e7f  \\u897f\", \"\\u5929  \\u6d25\", \"\\u5c71  \\u897f\", \"\\u4e91  \\u5357\", \"\\u9ed1\\u9f99\\u6c5f\", \"\\u5185\\u8499\\u53e4\", \"\\u8d35  \\u5dde\", \"\\u65b0  \\u7586\", \"\\u5409  \\u6797\", \"\\u7518  \\u8083\", \"\\u6d77  \\u5357\", \"\\u5b81  \\u590f\", \"\\u9752  \\u6d77\", \"\\u897f  \\u85cf\"], \"y\": [1070306.0, 1047033.0, 962213.0, 823846.0, 627051.0, 510502.0, 434833.0, 424368.0, 415421.0, 409125.0, 403026.0, 373792.0, 373424.0, 350360.0, 254834.0, 243170.0, 241367.0, 236831.0, 211404.0, 205135.0, 190607.0, 173343.0, 157864.0, 146514.0, 134666.0, 130301.0, 130203.0, 45679.0, 43029.0, 34202.0, 21162.0]}],\n                        {\"template\": {\"data\": {\"bar\": [{\"error_x\": {\"color\": \"#2a3f5f\"}, \"error_y\": {\"color\": \"#2a3f5f\"}, \"marker\": {\"line\": {\"color\": \"#E5ECF6\", \"width\": 0.5}}, \"type\": \"bar\"}], \"barpolar\": [{\"marker\": {\"line\": {\"color\": \"#E5ECF6\", \"width\": 0.5}}, \"type\": \"barpolar\"}], \"carpet\": [{\"aaxis\": {\"endlinecolor\": \"#2a3f5f\", \"gridcolor\": \"white\", \"linecolor\": \"white\", \"minorgridcolor\": \"white\", \"startlinecolor\": \"#2a3f5f\"}, \"baxis\": {\"endlinecolor\": \"#2a3f5f\", \"gridcolor\": \"white\", \"linecolor\": \"white\", \"minorgridcolor\": \"white\", \"startlinecolor\": \"#2a3f5f\"}, \"type\": \"carpet\"}], \"choropleth\": [{\"colorbar\": {\"outlinewidth\": 0, \"ticks\": \"\"}, \"type\": \"choropleth\"}], \"contour\": [{\"colorbar\": {\"outlinewidth\": 0, \"ticks\": \"\"}, \"colorscale\": [[0.0, \"#0d0887\"], [0.1111111111111111, \"#46039f\"], [0.2222222222222222, \"#7201a8\"], [0.3333333333333333, \"#9c179e\"], [0.4444444444444444, \"#bd3786\"], [0.5555555555555556, \"#d8576b\"], [0.6666666666666666, \"#ed7953\"], [0.7777777777777778, \"#fb9f3a\"], [0.8888888888888888, \"#fdca26\"], [1.0, \"#f0f921\"]], \"type\": \"contour\"}], \"contourcarpet\": [{\"colorbar\": {\"outlinewidth\": 0, \"ticks\": \"\"}, \"type\": \"contourcarpet\"}], \"heatmap\": [{\"colorbar\": {\"outlinewidth\": 0, \"ticks\": \"\"}, \"colorscale\": [[0.0, \"#0d0887\"], [0.1111111111111111, \"#46039f\"], [0.2222222222222222, \"#7201a8\"], [0.3333333333333333, \"#9c179e\"], [0.4444444444444444, \"#bd3786\"], [0.5555555555555556, \"#d8576b\"], [0.6666666666666666, \"#ed7953\"], [0.7777777777777778, \"#fb9f3a\"], [0.8888888888888888, \"#fdca26\"], [1.0, \"#f0f921\"]], \"type\": \"heatmap\"}], \"heatmapgl\": [{\"colorbar\": {\"outlinewidth\": 0, \"ticks\": \"\"}, \"colorscale\": [[0.0, \"#0d0887\"], [0.1111111111111111, \"#46039f\"], [0.2222222222222222, \"#7201a8\"], [0.3333333333333333, \"#9c179e\"], [0.4444444444444444, \"#bd3786\"], [0.5555555555555556, \"#d8576b\"], [0.6666666666666666, \"#ed7953\"], [0.7777777777777778, \"#fb9f3a\"], [0.8888888888888888, \"#fdca26\"], [1.0, \"#f0f921\"]], \"type\": \"heatmapgl\"}], \"histogram\": [{\"marker\": {\"colorbar\": {\"outlinewidth\": 0, \"ticks\": \"\"}}, \"type\": \"histogram\"}], \"histogram2d\": [{\"colorbar\": {\"outlinewidth\": 0, \"ticks\": \"\"}, \"colorscale\": [[0.0, \"#0d0887\"], [0.1111111111111111, \"#46039f\"], [0.2222222222222222, \"#7201a8\"], [0.3333333333333333, \"#9c179e\"], [0.4444444444444444, \"#bd3786\"], [0.5555555555555556, \"#d8576b\"], [0.6666666666666666, \"#ed7953\"], [0.7777777777777778, \"#fb9f3a\"], [0.8888888888888888, \"#fdca26\"], [1.0, \"#f0f921\"]], \"type\": \"histogram2d\"}], \"histogram2dcontour\": [{\"colorbar\": {\"outlinewidth\": 0, \"ticks\": \"\"}, \"colorscale\": [[0.0, \"#0d0887\"], [0.1111111111111111, \"#46039f\"], [0.2222222222222222, \"#7201a8\"], [0.3333333333333333, \"#9c179e\"], [0.4444444444444444, \"#bd3786\"], [0.5555555555555556, \"#d8576b\"], [0.6666666666666666, \"#ed7953\"], [0.7777777777777778, \"#fb9f3a\"], [0.8888888888888888, \"#fdca26\"], [1.0, \"#f0f921\"]], \"type\": \"histogram2dcontour\"}], \"mesh3d\": [{\"colorbar\": {\"outlinewidth\": 0, \"ticks\": \"\"}, \"type\": \"mesh3d\"}], \"parcoords\": [{\"line\": {\"colorbar\": {\"outlinewidth\": 0, \"ticks\": \"\"}}, \"type\": \"parcoords\"}], \"pie\": [{\"automargin\": true, \"type\": \"pie\"}], \"scatter\": [{\"marker\": {\"colorbar\": {\"outlinewidth\": 0, \"ticks\": \"\"}}, \"type\": \"scatter\"}], \"scatter3d\": [{\"line\": {\"colorbar\": {\"outlinewidth\": 0, \"ticks\": \"\"}}, \"marker\": {\"colorbar\": {\"outlinewidth\": 0, \"ticks\": \"\"}}, \"type\": \"scatter3d\"}], \"scattercarpet\": [{\"marker\": {\"colorbar\": {\"outlinewidth\": 0, \"ticks\": \"\"}}, \"type\": \"scattercarpet\"}], \"scattergeo\": [{\"marker\": {\"colorbar\": {\"outlinewidth\": 0, \"ticks\": \"\"}}, \"type\": \"scattergeo\"}], \"scattergl\": [{\"marker\": {\"colorbar\": {\"outlinewidth\": 0, \"ticks\": \"\"}}, \"type\": \"scattergl\"}], \"scattermapbox\": [{\"marker\": {\"colorbar\": {\"outlinewidth\": 0, \"ticks\": \"\"}}, \"type\": \"scattermapbox\"}], \"scatterpolar\": [{\"marker\": {\"colorbar\": {\"outlinewidth\": 0, \"ticks\": \"\"}}, \"type\": \"scatterpolar\"}], \"scatterpolargl\": [{\"marker\": {\"colorbar\": {\"outlinewidth\": 0, \"ticks\": \"\"}}, \"type\": \"scatterpolargl\"}], \"scatterternary\": [{\"marker\": {\"colorbar\": {\"outlinewidth\": 0, \"ticks\": \"\"}}, \"type\": \"scatterternary\"}], \"surface\": [{\"colorbar\": {\"outlinewidth\": 0, \"ticks\": \"\"}, \"colorscale\": [[0.0, \"#0d0887\"], [0.1111111111111111, \"#46039f\"], [0.2222222222222222, \"#7201a8\"], [0.3333333333333333, \"#9c179e\"], [0.4444444444444444, \"#bd3786\"], [0.5555555555555556, \"#d8576b\"], [0.6666666666666666, \"#ed7953\"], [0.7777777777777778, \"#fb9f3a\"], [0.8888888888888888, \"#fdca26\"], [1.0, \"#f0f921\"]], \"type\": \"surface\"}], \"table\": [{\"cells\": {\"fill\": {\"color\": \"#EBF0F8\"}, \"line\": {\"color\": \"white\"}}, \"header\": {\"fill\": {\"color\": \"#C8D4E3\"}, \"line\": {\"color\": \"white\"}}, \"type\": \"table\"}]}, \"layout\": {\"annotationdefaults\": {\"arrowcolor\": \"#2a3f5f\", \"arrowhead\": 0, \"arrowwidth\": 1}, \"coloraxis\": {\"colorbar\": {\"outlinewidth\": 0, \"ticks\": \"\"}}, \"colorscale\": {\"diverging\": [[0, \"#8e0152\"], [0.1, \"#c51b7d\"], [0.2, \"#de77ae\"], [0.3, \"#f1b6da\"], [0.4, \"#fde0ef\"], [0.5, \"#f7f7f7\"], [0.6, \"#e6f5d0\"], [0.7, \"#b8e186\"], [0.8, \"#7fbc41\"], [0.9, \"#4d9221\"], [1, \"#276419\"]], \"sequential\": [[0.0, \"#0d0887\"], [0.1111111111111111, \"#46039f\"], [0.2222222222222222, \"#7201a8\"], [0.3333333333333333, \"#9c179e\"], [0.4444444444444444, \"#bd3786\"], [0.5555555555555556, \"#d8576b\"], [0.6666666666666666, \"#ed7953\"], [0.7777777777777778, \"#fb9f3a\"], [0.8888888888888888, \"#fdca26\"], [1.0, \"#f0f921\"]], \"sequentialminus\": [[0.0, \"#0d0887\"], [0.1111111111111111, \"#46039f\"], [0.2222222222222222, \"#7201a8\"], [0.3333333333333333, \"#9c179e\"], [0.4444444444444444, \"#bd3786\"], [0.5555555555555556, \"#d8576b\"], [0.6666666666666666, \"#ed7953\"], [0.7777777777777778, \"#fb9f3a\"], [0.8888888888888888, \"#fdca26\"], [1.0, \"#f0f921\"]]}, \"colorway\": [\"#636efa\", \"#EF553B\", \"#00cc96\", \"#ab63fa\", \"#FFA15A\", \"#19d3f3\", \"#FF6692\", \"#B6E880\", \"#FF97FF\", \"#FECB52\"], \"font\": {\"color\": \"#2a3f5f\"}, \"geo\": {\"bgcolor\": \"white\", \"lakecolor\": \"white\", \"landcolor\": \"#E5ECF6\", \"showlakes\": true, \"showland\": true, \"subunitcolor\": \"white\"}, \"hoverlabel\": {\"align\": \"left\"}, \"hovermode\": \"closest\", \"mapbox\": {\"style\": \"light\"}, \"paper_bgcolor\": \"white\", \"plot_bgcolor\": \"#E5ECF6\", \"polar\": {\"angularaxis\": {\"gridcolor\": \"white\", \"linecolor\": \"white\", \"ticks\": \"\"}, \"bgcolor\": \"#E5ECF6\", \"radialaxis\": {\"gridcolor\": \"white\", \"linecolor\": \"white\", \"ticks\": \"\"}}, \"scene\": {\"xaxis\": {\"backgroundcolor\": \"#E5ECF6\", \"gridcolor\": \"white\", \"gridwidth\": 2, \"linecolor\": \"white\", \"showbackground\": true, \"ticks\": \"\", \"zerolinecolor\": \"white\"}, \"yaxis\": {\"backgroundcolor\": \"#E5ECF6\", \"gridcolor\": \"white\", \"gridwidth\": 2, \"linecolor\": \"white\", \"showbackground\": true, \"ticks\": \"\", \"zerolinecolor\": \"white\"}, \"zaxis\": {\"backgroundcolor\": \"#E5ECF6\", \"gridcolor\": \"white\", \"gridwidth\": 2, \"linecolor\": \"white\", \"showbackground\": true, \"ticks\": \"\", \"zerolinecolor\": \"white\"}}, \"shapedefaults\": {\"line\": {\"color\": \"#2a3f5f\"}}, \"ternary\": {\"aaxis\": {\"gridcolor\": \"white\", \"linecolor\": \"white\", \"ticks\": \"\"}, \"baxis\": {\"gridcolor\": \"white\", \"linecolor\": \"white\", \"ticks\": \"\"}, \"bgcolor\": \"#E5ECF6\", \"caxis\": {\"gridcolor\": \"white\", \"linecolor\": \"white\", \"ticks\": \"\"}}, \"title\": {\"x\": 0.05}, \"xaxis\": {\"automargin\": true, \"gridcolor\": \"white\", \"linecolor\": \"white\", \"ticks\": \"\", \"title\": {\"standoff\": 15}, \"zerolinecolor\": \"white\", \"zerolinewidth\": 2}, \"yaxis\": {\"automargin\": true, \"gridcolor\": \"white\", \"linecolor\": \"white\", \"ticks\": \"\", \"title\": {\"standoff\": 15}, \"zerolinecolor\": \"white\", \"zerolinewidth\": 2}}}},\n                        {\"responsive\": true}\n                    ).then(function(){\n                            \nvar gd = document.getElementById('2c72e1f9-02f7-4a05-9204-f52cb17e7031');\nvar x = new MutationObserver(function (mutations, observer) {{\n        var display = window.getComputedStyle(gd).display;\n        if (!display || display === 'none') {{\n            console.log([gd, 'removed!']);\n            Plotly.purge(gd);\n            observer.disconnect();\n        }}\n}});\n\n// Listen for the removal of the full notebook cells\nvar notebookContainer = gd.closest('#notebook-container');\nif (notebookContainer) {{\n    x.observe(notebookContainer, {childList: true});\n}}\n\n// Listen for the clearing of the current output cell\nvar outputEl = gd.closest('.output');\nif (outputEl) {{\n    x.observe(outputEl, {childList: true});\n}}\n\n                        })\n                };\n                });\n            </script>\n        </div>"
     },
     "metadata": {}
    }
   ],
   "source": [
    "import plotly.offline as py\n",
    "from plotly.graph_objs import Scatter, Layout\n",
    "import plotly.graph_objs as go\n",
    "\n",
    "py.init_notebook_mode(connected=True)\n",
    "\n",
    "trace_basic = [go.Bar(\n",
    "            x = area1,\n",
    "            y = count1,\n",
    "    )]\n",
    "\n",
    "\n",
    "py.iplot(trace_basic)"
   ]
  },
  {
   "cell_type": "code",
   "execution_count": null,
   "metadata": {},
   "outputs": [],
   "source": []
  }
 ],
 "metadata": {
  "language_info": {
   "codemirror_mode": {
    "name": "ipython",
    "version": 3
   },
   "file_extension": ".py",
   "mimetype": "text/x-python",
   "name": "python",
   "nbconvert_exporter": "python",
   "pygments_lexer": "ipython3",
   "version": "3.7.6-final"
  },
  "orig_nbformat": 2,
  "kernelspec": {
   "name": "python37664bitd8650d54ae5d4b0988094c7fd5689777",
   "display_name": "Python 3.7.6 64-bit"
  }
 },
 "nbformat": 4,
 "nbformat_minor": 2
}