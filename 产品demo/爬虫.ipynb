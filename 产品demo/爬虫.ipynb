{
 "cells": [
  {
   "cell_type": "markdown",
   "metadata": {},
   "source": [
    "### 新建电影库和标签库"
   ]
  },
  {
   "cell_type": "code",
   "execution_count": 2,
   "metadata": {},
   "outputs": [],
   "source": [
    "import pandas as pd\n",
    "\n",
    "mtag=pd.DataFrame(columns=list(['标签','链接地址']))\n",
    "mdata=pd.DataFrame(columns=list(['名称','年份','评分','评论数','影评数','标签','链接地址']))"
   ]
  },
  {
   "cell_type": "code",
   "execution_count": 3,
   "metadata": {},
   "outputs": [],
   "source": [
    "import pandas as pd\n",
    "import requests\n",
    "from bs4 import BeautifulSoup\n",
    "import re\n",
    "\n",
    "headers = {\n",
    "    'User-Agent':'Mozilla/5.0 (Windows NT 6.1; WOW64) AppleWebKit/537.36 (KHTML, like Gecko) Chrome/63.0.3239.132 Safari/537.36 QIHU 360SE'\n",
    "}\n",
    "\n",
    "'''\n",
    "获取详情相关数据\n",
    "'''\n",
    "def get_movie_details(url):\n",
    "    try:\n",
    "        mhtml=requests.get(url,headers=headers)\n",
    "        soup=BeautifulSoup(mhtml.text,'html.parser')\n",
    "        '''\n",
    "        名称\n",
    "        '''\n",
    "        name= soup.find('span',property=\"v:itemreviewed\").text\n",
    "        year= soup.find('span',class_=\"year\").text.replace('(','').replace(')','')\n",
    "        score =soup.find('strong',class_=\"ll rating_num\").text\n",
    "        commentCount=soup.find('a',href=url+\"comments?status=P\").text.replace(' ','').replace('全部','').replace('条','')\n",
    "         \n",
    "        tag=div_tag=soup.find('div',class_='tags-body').text\n",
    "\n",
    "        reviewCount=soup.find_all('a',href=\"reviews\")[0].text.replace(' ','').replace('全部','').replace('条','')\n",
    "        # return {'名称':name,'年份':year,'评分':score,'评论数':commentCount,'影评数':reviewCount,'链接地址':url}\n",
    "        return {'名称': name, '年份': year, '评分': score, '评论数': commentCount, '影评数': reviewCount,'标签':tag,'链接地址':url}\n",
    "    except(Exception) as err:\n",
    "        print(err)\n",
    "    \n",
    "    return {'名称': '', '年份': '', '评分': '', '评论数': '', '影评数': '','标签':'','链接地址':url}"
   ]
  },
  {
   "cell_type": "code",
   "execution_count": 6,
   "metadata": {},
   "outputs": [
    {
     "output_type": "execute_result",
     "data": {
      "text/plain": "{'名称': '小丑 Joker',\n '年份': '2019',\n '评分': '8.7',\n '评论数': '198464',\n '影评数': '4903',\n '标签': '\\n人性\\n犯罪\\nDC\\n心理\\n社会\\n美国\\n2019\\n暴力\\n',\n '链接地址': 'https://movie.douban.com/subject/27119724/'}"
     },
     "metadata": {},
     "execution_count": 6
    }
   ],
   "source": [
    "get_movie_details('https://movie.douban.com/subject/27119724/')"
   ]
  },
  {
   "cell_type": "code",
   "execution_count": null,
   "metadata": {},
   "outputs": [],
   "source": [
    "import json\n",
    "\n",
    "flag=True\n",
    "pageIndxe=0\n",
    "while(flag):\n",
    "    mlist=requests.get('https://movie.douban.com/j/search_subjects?type=movie&tag=%E7%83%AD%E9%97%A8&sort=rank&page_limit=20&page_start='+str(pageIndxe),headers=headers)\n",
    "    mdict = json.loads(mlist.text)\n",
    "    mplist=mdict[\"subjects\"]\n",
    "    if len(mplist)==0:\n",
    "        flag=False\n",
    "    pageIndxe=pageIndxe+20\n",
    "\n",
    "    for mp in mplist:\n",
    "        m=get_movie_details(mp[\"url\"])\n",
    "        # 添加电影数据\n",
    "        mdata.loc[len(mdata)]=m\n",
    "        \n",
    "        # 添加标签数据\n",
    "        for tmp_tag in m['标签'].split('\\n'):\n",
    "            add_tag(tmp_tag,mp[\"url\"])\n",
    "    \n",
    "\n",
    "        print(\"采集中：\"+mp[\"url\"])\n",
    "print(\"完成\") "
   ]
  },
  {
   "cell_type": "code",
   "execution_count": null,
   "metadata": {},
   "outputs": [],
   "source": []
  }
 ],
 "metadata": {
  "language_info": {
   "codemirror_mode": {
    "name": "ipython",
    "version": 3
   },
   "file_extension": ".py",
   "mimetype": "text/x-python",
   "name": "python",
   "nbconvert_exporter": "python",
   "pygments_lexer": "ipython3",
   "version": "3.7.6-final"
  },
  "orig_nbformat": 2,
  "kernelspec": {
   "name": "python37664bitd8650d54ae5d4b0988094c7fd5689777",
   "display_name": "Python 3.7.6 64-bit"
  }
 },
 "nbformat": 4,
 "nbformat_minor": 2
}