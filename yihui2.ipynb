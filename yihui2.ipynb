{
 "cells": [
  {
   "cell_type": "markdown",
   "metadata": {
    "pycharm": {
     "name": "#%% md\n"
    }
   },
   "source": [
    "### 分类测试"
   ]
  },
  {
   "cell_type": "code",
   "execution_count": 263,
   "metadata": {
    "collapsed": true,
    "pycharm": {
     "is_executing": false
    }
   },
   "outputs": [
    {
     "name": "stdout",
     "output_type": "stream",
     "text": [
      "0.9555555555555556\n"
     ]
    }
   ],
   "source": [
    "from sklearn.datasets import load_iris\n",
    "from sklearn.metrics import accuracy_score\n",
    "from sklearn.model_selection import train_test_split\n",
    "from sklearn.neighbors import KNeighborsClassifier\n",
    "\n",
    "import matplotlib.pyplot as plt\n",
    "import numpy as np\n",
    "\n",
    "knn=KNeighborsClassifier()\n",
    "iris=load_iris()\n",
    "\n",
    "X=iris.data\n",
    "y=iris.target\n",
    "\n",
    "X_train,X_test,y_train,y_test= train_test_split(X,y,test_size=0.3)\n",
    "# print(len(X_train))\n",
    "# print(len(X_test))\n",
    "\n",
    "knn.fit(X_train,y_train)\n",
    "ypre= knn.predict(X_test)\n",
    "\n",
    "# print(ypre)\n",
    "# print(y_test)\n",
    "\n",
    "s=accuracy_score(ypre,y_test)\n",
    "print(s)\n",
    "# knn.score(ypre,y_test)\n",
    "# knn.predict()\n",
    "# lens=np.arange(len(ypre))\n",
    "# plt.figure()\n",
    "# plt.plot(lens,ypre)\n",
    "# plt.plot(lens,y_test)\n",
    "# plt.show()"
   ]
  },
  {
   "cell_type": "markdown",
   "metadata": {
    "pycharm": {
     "name": "#%% md\n"
    }
   },
   "source": [
    "### 回归测试"
   ]
  },
  {
   "cell_type": "code",
   "execution_count": 169,
   "metadata": {
    "pycharm": {
     "is_executing": false,
     "name": "#%%\n"
    }
   },
   "outputs": [
    {
     "name": "stdout",
     "output_type": "stream",
     "text": [
      "0.7633963220776271\n",
      "[[1.50089896e-01 0.00000000e+00 6.46627566e-01 ... 8.08510638e-01\n",
      "  1.00000000e+00 4.03421634e-01]\n",
      " [6.69440040e-04 0.00000000e+00 7.33137830e-02 ... 5.53191489e-01\n",
      "  9.96621110e-01 1.60871965e-01]\n",
      " [3.28088562e-04 2.50000000e-01 1.61290323e-01 ... 6.80851064e-01\n",
      "  9.84215039e-01 1.59492274e-01]\n",
      " ...\n",
      " [6.50220052e-04 0.00000000e+00 2.01612903e-01 ... 7.02127660e-01\n",
      "  1.00000000e+00 2.19370861e-01]\n",
      " [1.57855445e-01 0.00000000e+00 6.46627566e-01 ... 8.08510638e-01\n",
      "  8.75737556e-02 5.37803532e-01]\n",
      " [1.05294061e-03 3.40000000e-01 2.06378299e-01 ... 3.72340426e-01\n",
      "  9.83685511e-01 8.63686534e-02]] [[1.34256447e-01 0.00000000e+00 6.46627566e-01 ... 8.08510638e-01\n",
      "  8.36577740e-01 2.86975717e-01]\n",
      " [1.98999931e-03 0.00000000e+00 1.00000000e+00 ... 7.97872340e-01\n",
      "  8.66735589e-01 6.13686534e-01]\n",
      " [3.91256007e-04 2.50000000e-01 1.61290323e-01 ... 6.80851064e-01\n",
      "  1.00000000e+00 9.82339956e-02]\n",
      " ...\n",
      " [8.15332110e-04 8.00000000e-01 1.64589443e-01 ... 7.02127660e-01\n",
      "  1.00000000e+00 5.04966887e-02]\n",
      " [4.70608705e-04 8.00000000e-01 1.16568915e-01 ... 4.04255319e-01\n",
      "  9.89888547e-01 1.33554084e-01]\n",
      " [7.05070075e-04 0.00000000e+00 6.30498534e-02 ... 6.48936170e-01\n",
      "  1.00000000e+00 9.93377483e-02]]\n"
     ]
    }
   ],
   "source": [
    "from sklearn.datasets import load_boston\n",
    "from sklearn.neighbors import KNeighborsRegressor\n",
    "from sklearn import preprocessing\n",
    "\n",
    "boston=load_boston()\n",
    "X=boston.data\n",
    "y=boston.target\n",
    "\n",
    "X= preprocessing.minmax_scale(X)\n",
    "y= preprocessing.minmax_scale(y)\n",
    "knn=KNeighborsRegressor()\n",
    "\n",
    "X_train,X_test,y_train,y_test=train_test_split(X,y,test_size=0.3)\n",
    "\n",
    "knn.fit(X_train,y_train)\n",
    "print(knn.score(X_test,y_test))\n",
    "\n",
    "\n",
    "print(X_train,X_test)\n",
    "\n",
    "# from sklearn.linear_model import LogisticRegression\n",
    "# log=LogisticRegression()\n",
    "# \n",
    "# log.fit(X_train,y_train)\n",
    "# print(svc.score(X_test,y_test))\n",
    "\n",
    "# plt.figure()\n",
    "# plt.plot(X,y)\n",
    "# plt.show()"
   ]
  },
  {
   "cell_type": "markdown",
   "metadata": {
    "pycharm": {
     "name": "#%% md\n"
    }
   },
   "source": [
    "#### 数据测试"
   ]
  },
  {
   "cell_type": "code",
   "execution_count": 182,
   "metadata": {
    "pycharm": {
     "is_executing": false,
     "name": "#%%\n"
    }
   },
   "outputs": [
    {
     "name": "stdout",
     "output_type": "stream",
     "text": [
      "Index(['ID', 'LIMIT_BAL', 'SEX', 'EDUCATION', 'MARRIAGE', 'AGE', 'PAY_0',\n",
      "       'PAY_2', 'PAY_3', 'PAY_4', 'PAY_5', 'PAY_6', 'BILL_AMT1', 'BILL_AMT2',\n",
      "       'BILL_AMT3', 'BILL_AMT4', 'BILL_AMT5', 'BILL_AMT6', 'PAY_AMT1',\n",
      "       'PAY_AMT2', 'PAY_AMT3', 'PAY_AMT4', 'PAY_AMT5', 'PAY_AMT6',\n",
      "       'default.payment.next.month'],\n",
      "      dtype='object')\n",
      "<class 'pandas.core.frame.DataFrame'>\n",
      "RangeIndex: 30000 entries, 0 to 29999\n",
      "Data columns (total 25 columns):\n",
      " #   Column                      Non-Null Count  Dtype  \n",
      "---  ------                      --------------  -----  \n",
      " 0   ID                          30000 non-null  int64  \n",
      " 1   LIMIT_BAL                   30000 non-null  float64\n",
      " 2   SEX                         30000 non-null  int64  \n",
      " 3   EDUCATION                   30000 non-null  int64  \n",
      " 4   MARRIAGE                    30000 non-null  int64  \n",
      " 5   AGE                         30000 non-null  int64  \n",
      " 6   PAY_0                       30000 non-null  int64  \n",
      " 7   PAY_2                       30000 non-null  int64  \n",
      " 8   PAY_3                       30000 non-null  int64  \n",
      " 9   PAY_4                       30000 non-null  int64  \n",
      " 10  PAY_5                       30000 non-null  int64  \n",
      " 11  PAY_6                       30000 non-null  int64  \n",
      " 12  BILL_AMT1                   30000 non-null  float64\n",
      " 13  BILL_AMT2                   30000 non-null  float64\n",
      " 14  BILL_AMT3                   30000 non-null  float64\n",
      " 15  BILL_AMT4                   30000 non-null  float64\n",
      " 16  BILL_AMT5                   30000 non-null  float64\n",
      " 17  BILL_AMT6                   30000 non-null  float64\n",
      " 18  PAY_AMT1                    30000 non-null  float64\n",
      " 19  PAY_AMT2                    30000 non-null  float64\n",
      " 20  PAY_AMT3                    30000 non-null  float64\n",
      " 21  PAY_AMT4                    30000 non-null  float64\n",
      " 22  PAY_AMT5                    30000 non-null  float64\n",
      " 23  PAY_AMT6                    30000 non-null  float64\n",
      " 24  default.payment.next.month  30000 non-null  int64  \n",
      "dtypes: float64(13), int64(12)\n",
      "memory usage: 5.7 MB\n"
     ]
    }
   ],
   "source": [
    "import pandas as pd\n",
    "uci_data= pd.read_csv('/Users/yihui/Desktop/study/tmp/pythontest/UCI_Credit_Card.csv')\n",
    "uci_data.info()"
   ]
  },
  {
   "cell_type": "markdown",
   "metadata": {
    "pycharm": {
     "name": "#%% md\n"
    }
   },
   "source": [
    "#### Gridsearch demo"
   ]
  },
  {
   "cell_type": "code",
   "execution_count": 194,
   "metadata": {
    "pycharm": {
     "is_executing": false,
     "name": "#%%\n"
    }
   },
   "outputs": [
    {
     "name": "stdout",
     "output_type": "stream",
     "text": [
      "# Tuning hyper-parameters for precision\n",
      "\n",
      "Best parameters set found on development set:\n",
      "\n",
      "{'C': 10, 'gamma': 0.001, 'kernel': 'rbf'}\n",
      "\n",
      "Grid scores on development set:\n",
      "\n",
      "\n",
      "Detailed classification report:\n",
      "\n",
      "The model is trained on the full development set.\n",
      "The scores are computed on the full evaluation set.\n",
      "\n",
      "              precision    recall  f1-score   support\n",
      "\n",
      "           0       1.00      1.00      1.00        89\n",
      "           1       0.97      1.00      0.98        90\n",
      "           2       0.99      0.98      0.98        92\n",
      "           3       1.00      0.99      0.99        93\n",
      "           4       1.00      1.00      1.00        76\n",
      "           5       0.99      0.98      0.99       108\n",
      "           6       0.99      1.00      0.99        89\n",
      "           7       0.99      1.00      0.99        78\n",
      "           8       1.00      0.98      0.99        92\n",
      "           9       0.99      0.99      0.99        92\n",
      "\n",
      "    accuracy                           0.99       899\n",
      "   macro avg       0.99      0.99      0.99       899\n",
      "weighted avg       0.99      0.99      0.99       899\n",
      "\n",
      "\n",
      "# Tuning hyper-parameters for recall\n",
      "\n",
      "Best parameters set found on development set:\n",
      "\n",
      "{'C': 10, 'gamma': 0.001, 'kernel': 'rbf'}\n",
      "\n",
      "Grid scores on development set:\n",
      "\n",
      "\n",
      "Detailed classification report:\n",
      "\n",
      "The model is trained on the full development set.\n",
      "The scores are computed on the full evaluation set.\n",
      "\n",
      "              precision    recall  f1-score   support\n",
      "\n",
      "           0       1.00      1.00      1.00        89\n",
      "           1       0.97      1.00      0.98        90\n",
      "           2       0.99      0.98      0.98        92\n",
      "           3       1.00      0.99      0.99        93\n",
      "           4       1.00      1.00      1.00        76\n",
      "           5       0.99      0.98      0.99       108\n",
      "           6       0.99      1.00      0.99        89\n",
      "           7       0.99      1.00      0.99        78\n",
      "           8       1.00      0.98      0.99        92\n",
      "           9       0.99      0.99      0.99        92\n",
      "\n",
      "    accuracy                           0.99       899\n",
      "   macro avg       0.99      0.99      0.99       899\n",
      "weighted avg       0.99      0.99      0.99       899\n",
      "\n",
      "\n"
     ]
    }
   ],
   "source": [
    "from sklearn import datasets\n",
    "from sklearn.model_selection import GridSearchCV\n",
    "from sklearn.metrics import classification_report\n",
    "from sklearn.svm import SVC\n",
    " \n",
    "# Loading the Digits dataset\n",
    "digits = datasets.load_digits()\n",
    " \n",
    "# To apply an classifier on this data, we need to flatten the image, to\n",
    "# turn the data in a (samples, feature) matrix:\n",
    "n_samples = len(digits.images)\n",
    "X = digits.images.reshape((n_samples, -1))\n",
    "y = digits.target\n",
    " \n",
    "# 将数据集分成训练集和测试集\n",
    "X_train, X_test, y_train, y_test = train_test_split(\n",
    "    X, y, test_size=0.5, random_state=0)\n",
    " \n",
    "# 设置gridsearch的参数\n",
    "tuned_parameters = [{'kernel': ['rbf'], 'gamma': [1e-3, 1e-4],\n",
    "                     'C': [1, 10, 100, 1000]},\n",
    "                    {'kernel': ['linear'], 'C': [1, 10, 100, 1000]}]\n",
    " \n",
    "#设置模型评估的方法.如果不清楚,可以参考上面的k-fold章节里面的超链接\n",
    "scores = ['precision', 'recall']\n",
    " \n",
    "for score in scores:\n",
    "    print(\"# Tuning hyper-parameters for %s\" % score)\n",
    "    print()\n",
    " \n",
    "    #构造这个GridSearch的分类器,5-fold\n",
    "    clf = GridSearchCV(SVC(), tuned_parameters, cv=5,\n",
    "                       scoring='%s_weighted' % score)\n",
    "    #只在训练集上面做k-fold,然后返回最优的模型参数\n",
    "    clf.fit(X_train, y_train)\n",
    " \n",
    "    print(\"Best parameters set found on development set:\")\n",
    "    print()\n",
    "    #输出最优的模型参数\n",
    "    print(clf.best_params_)\n",
    "    print()\n",
    "    print(\"Grid scores on development set:\")\n",
    "    print()\n",
    "    # for params, mean_score, scores in clf.grid_scores_:\n",
    "    #     print(\"%0.3f (+/-%0.03f) for %r\"\n",
    "    #           % (mean_score, scores.std() * 2, params))\n",
    "    print()\n",
    "\n",
    "    print(\"Detailed classification report:\")\n",
    "    print()\n",
    "    print(\"The model is trained on the full development set.\")\n",
    "    print(\"The scores are computed on the full evaluation set.\")\n",
    "    print()\n",
    "    #在测试集上测试最优的模型的泛化能力.\n",
    "    y_true, y_pred = y_test, clf.predict(X_test)\n",
    "    print(classification_report(y_true, y_pred))\n",
    "    print()"
   ]
  },
  {
   "cell_type": "markdown",
   "metadata": {
    "pycharm": {
     "name": "#%% md\n"
    }
   },
   "source": [
    "#### 数据规范化"
   ]
  },
  {
   "cell_type": "code",
   "execution_count": 214,
   "metadata": {
    "pycharm": {
     "is_executing": false,
     "name": "#%%\n"
    }
   },
   "outputs": [
    {
     "name": "stdout",
     "output_type": "stream",
     "text": [
      "[[0.         0.         0.66666667]\n",
      " [1.         1.         1.        ]\n",
      " [0.         1.         0.        ]]\n",
      "\n",
      "[[-0.70710678 -1.41421356  0.26726124]\n",
      " [ 1.41421356  0.70710678  1.06904497]\n",
      " [-0.70710678  0.70710678 -1.33630621]]\n"
     ]
    }
   ],
   "source": [
    "from sklearn import preprocessing\n",
    "# 初始化数据，每一行表示一个样本，每一列表示一个特征\n",
    "x = np.array([[ 0., -3., 1.], [ 3., 1., 2.], [ 0., 1., -1.]])\n",
    "# x= np.array([[1,2,3],[4,2,-10]])\n",
    "# 将数据进行[0,1]规范化\n",
    "min_max_scaler = preprocessing.MinMaxScaler()\n",
    "minmax_x = min_max_scaler.fit_transform(x)\n",
    "print (minmax_x)\n",
    "\n",
    "\n",
    "# 初始化数据\n",
    "x = np.array([[ 0., -3., 1.], [ 3., 1., 2.], [ 0., 1., -1.]])\n",
    "# 将数据进行Z-Score规范化\n",
    "scaled_x = preprocessing.scale(x)\n",
    "print()\n",
    "print (scaled_x)"
   ]
  },
  {
   "cell_type": "markdown",
   "metadata": {
    "pycharm": {
     "name": "#%% md\n"
    }
   },
   "source": [
    "#### GridSearchCV demo"
   ]
  },
  {
   "cell_type": "code",
   "execution_count": 229,
   "metadata": {
    "pycharm": {
     "is_executing": false,
     "name": "#%%\n"
    }
   },
   "outputs": [
    {
     "name": "stdout",
     "output_type": "stream",
     "text": [
      "最优分数： 0.9667\n",
      "最优参数： {'n_estimators': 7}\n"
     ]
    }
   ],
   "source": [
    "from sklearn.ensemble import RandomForestClassifier\n",
    "from sklearn.model_selection import GridSearchCV\n",
    "from sklearn.datasets import load_iris\n",
    "rf=RandomForestClassifier()\n",
    "parameters = {\"n_estimators\": range(1,11)}\n",
    "iris=load_iris()\n",
    "clf=GridSearchCV(estimator=rf,param_grid=parameters)\n",
    "clf.fit(iris.data,iris.target)\n",
    "print(\"最优分数： %.4lf\" %clf.best_score_)\n",
    "print(\"最优参数：\", clf.best_params_)"
   ]
  },
  {
   "cell_type": "markdown",
   "metadata": {
    "pycharm": {
     "name": "#%% md\n"
    }
   },
   "source": [
    "#### GridSearchCV demo2"
   ]
  },
  {
   "cell_type": "code",
   "execution_count": 246,
   "metadata": {
    "pycharm": {
     "is_executing": false,
     "name": "#%%\n"
    }
   },
   "outputs": [
    {
     "name": "stdout",
     "output_type": "stream",
     "text": [
      "最优分数： 0.9733\n",
      "最优参数： {'randomforestclassifier__n_estimators': 3}\n"
     ]
    }
   ],
   "source": [
    "# -*- coding: utf-8 -*-\n",
    "# 使用RandomForest对IRIS数据集进行分类\n",
    "# 利用GridSearchCV寻找最优参数,使用Pipeline进行流水作业\n",
    "from sklearn.ensemble import RandomForestClassifier\n",
    "from sklearn.model_selection import GridSearchCV\n",
    "from sklearn.datasets import load_iris\n",
    "from sklearn.preprocessing import StandardScaler\n",
    "from sklearn.pipeline import Pipeline\n",
    "rf = RandomForestClassifier()\n",
    "parameters = {\"randomforestclassifier__n_estimators\": range(1,11)}\n",
    "iris = load_iris()\n",
    "pipeline = Pipeline([\n",
    "        ('scaler', StandardScaler()),\n",
    "        ('randomforestclassifier', rf)\n",
    "])\n",
    "# 使用GridSearchCV进行参数调优\n",
    "clf = GridSearchCV(estimator=pipeline, param_grid=parameters)\n",
    "# 对iris数据集进行分类\n",
    "clf.fit(iris.data, iris.target)\n",
    "print(\"最优分数： %.4lf\" %clf.best_score_)\n",
    "print(\"最优参数：\", clf.best_params_)"
   ]
  },
  {
   "cell_type": "markdown",
   "metadata": {
    "pycharm": {
     "name": "#%% md\n"
    }
   },
   "source": [
    "#### 主成分分析"
   ]
  },
  {
   "cell_type": "code",
   "execution_count": 264,
   "metadata": {
    "pycharm": {
     "is_executing": false,
     "name": "#%%\n"
    }
   },
   "outputs": [
    {
     "data": {
      "image/png": "[encoded data removed]",
      "text/plain": [
       "<Figure size 432x288 with 1 Axes>"
      ]
     },
     "metadata": {
      "needs_background": "light"
     },
     "output_type": "display_data"
    }
   ],
   "source": [
    "import matplotlib.pyplot as plt\n",
    "import sklearn.decomposition as dp\n",
    "from sklearn.datasets.base import load_iris\n",
    "\n",
    "x,y=load_iris(return_X_y=True)\n",
    "pca=dp.PCA(n_components=2)\n",
    "reduced_x=pca.fit_transform(x)\n",
    "\n",
    "# # print(x)\n",
    "# # print(y)\n",
    "# \n",
    "# print(reduced_x)\n",
    "\n",
    "red_x,red_y=[],[]\n",
    "blue_x,blue_y=[],[]\n",
    "green_x,green_y=[],[]\n",
    "for i in range(len(reduced_x)): #按鸢尾花的类别将降维后的数据点保存在不同的表表中\n",
    "    if y[i]==0:\n",
    "        red_x.append(reduced_x[i][0])\n",
    "        red_y.append(reduced_x[i][1])\n",
    "    elif y[i]==1:\n",
    "        blue_x.append(reduced_x[i][0])\n",
    "        blue_y.append(reduced_x[i][1])\n",
    "    else:\n",
    "        green_x.append(reduced_x[i][0])\n",
    "        green_y.append(reduced_x[i][1])\n",
    "plt.scatter(red_x,red_y,c='r',marker='x')\n",
    "plt.scatter(blue_x,blue_y,c='b',marker='D')\n",
    "plt.scatter(green_x,green_y,c='g',marker='.')\n",
    "plt.show()\n",
    "\n",
    "# print(y)"
   ]
  },
  {
   "cell_type": "code",
   "execution_count": 15,
   "metadata": {
    "tags": [
     "outputPrepend"
    ]
   },
   "outputs": [],
   "source": [
    "import requests\n",
    "payload = {'key1': 'value1', 'key2': 'value2'}\n",
    "\n",
    "r=requests.get(\"https://www.yiibai.com/pandas/python_pandas_quick_start.html\",params={})\n",
    "# print(r.text)"
   ]
  },
  {
   "cell_type": "code",
   "execution_count": 16,
   "metadata": {},
   "outputs": [
    {
     "output_type": "stream",
     "name": "stdout",
     "text": "0    1\n1    2\n2    3\n3    4\n4    5\ndtype: int64\n"
    }
   ],
   "source": [
    "import pandas as pd\n",
    "s=pd.Series([1,2,3,4,5])\n",
    "print(s)"
   ]
  },
  {
   "cell_type": "code",
   "execution_count": 25,
   "metadata": {},
   "outputs": [
    {
     "output_type": "execute_result",
     "data": {
      "text/plain": "                   A         B         C         D\n2017-01-01  0.101236 -1.050974 -0.053228  0.390543\n2017-01-02 -0.504220  0.291020 -1.262036  0.803415\n2017-01-03  1.227048 -0.125399  2.196466 -0.893742\n2017-01-04 -1.106113  0.700803  0.078109 -1.094260\n2017-01-05 -0.531197  0.757300  0.289007 -0.371717\n2017-01-06  0.230411  1.855394  0.625675 -0.697575",
      "text/html": "<div>\n<style scoped>\n    .dataframe tbody tr th:only-of-type {\n        vertical-align: middle;\n    }\n\n    .dataframe tbody tr th {\n        vertical-align: top;\n    }\n\n    .dataframe thead th {\n        text-align: right;\n    }\n</style>\n<table border=\"1\" class=\"dataframe\">\n  <thead>\n    <tr style=\"text-align: right;\">\n      <th></th>\n      <th>A</th>\n      <th>B</th>\n      <th>C</th>\n      <th>D</th>\n    </tr>\n  </thead>\n  <tbody>\n    <tr>\n      <th>2017-01-01</th>\n      <td>0.101236</td>\n      <td>-1.050974</td>\n      <td>-0.053228</td>\n      <td>0.390543</td>\n    </tr>\n    <tr>\n      <th>2017-01-02</th>\n      <td>-0.504220</td>\n      <td>0.291020</td>\n      <td>-1.262036</td>\n      <td>0.803415</td>\n    </tr>\n    <tr>\n      <th>2017-01-03</th>\n      <td>1.227048</td>\n      <td>-0.125399</td>\n      <td>2.196466</td>\n      <td>-0.893742</td>\n    </tr>\n    <tr>\n      <th>2017-01-04</th>\n      <td>-1.106113</td>\n      <td>0.700803</td>\n      <td>0.078109</td>\n      <td>-1.094260</td>\n    </tr>\n    <tr>\n      <th>2017-01-05</th>\n      <td>-0.531197</td>\n      <td>0.757300</td>\n      <td>0.289007</td>\n      <td>-0.371717</td>\n    </tr>\n    <tr>\n      <th>2017-01-06</th>\n      <td>0.230411</td>\n      <td>1.855394</td>\n      <td>0.625675</td>\n      <td>-0.697575</td>\n    </tr>\n  </tbody>\n</table>\n</div>"
     },
     "metadata": {},
     "execution_count": 25
    }
   ],
   "source": [
    "import pandas as pd\n",
    "import numpy as np\n",
    "dates = pd.date_range('20170101', periods=6)\n",
    "df = pd.DataFrame(np.random.randn(6,4), index=dates, columns=list('ABCD'))\n",
    "df['B']\n",
    "df"
   ]
  },
  {
   "cell_type": "code",
   "execution_count": 30,
   "metadata": {},
   "outputs": [
    {
     "output_type": "execute_result",
     "data": {
      "text/plain": "                   A         B         C         D\n2017-01-01  0.101236 -1.050974 -0.053228  0.390543\n2017-01-02 -0.504220  0.291020 -1.262036  0.803415\n2017-01-03  1.227048 -0.125399  2.196466 -0.893742\n2017-01-04 -1.106113  0.700803  0.078109 -1.094260",
      "text/html": "<div>\n<style scoped>\n    .dataframe tbody tr th:only-of-type {\n        vertical-align: middle;\n    }\n\n    .dataframe tbody tr th {\n        vertical-align: top;\n    }\n\n    .dataframe thead th {\n        text-align: right;\n    }\n</style>\n<table border=\"1\" class=\"dataframe\">\n  <thead>\n    <tr style=\"text-align: right;\">\n      <th></th>\n      <th>A</th>\n      <th>B</th>\n      <th>C</th>\n      <th>D</th>\n    </tr>\n  </thead>\n  <tbody>\n    <tr>\n      <th>2017-01-01</th>\n      <td>0.101236</td>\n      <td>-1.050974</td>\n      <td>-0.053228</td>\n      <td>0.390543</td>\n    </tr>\n    <tr>\n      <th>2017-01-02</th>\n      <td>-0.504220</td>\n      <td>0.291020</td>\n      <td>-1.262036</td>\n      <td>0.803415</td>\n    </tr>\n    <tr>\n      <th>2017-01-03</th>\n      <td>1.227048</td>\n      <td>-0.125399</td>\n      <td>2.196466</td>\n      <td>-0.893742</td>\n    </tr>\n    <tr>\n      <th>2017-01-04</th>\n      <td>-1.106113</td>\n      <td>0.700803</td>\n      <td>0.078109</td>\n      <td>-1.094260</td>\n    </tr>\n  </tbody>\n</table>\n</div>"
     },
     "metadata": {},
     "execution_count": 30
    }
   ],
   "source": [
    "df[0:4]"
   ]
  },
  {
   "cell_type": "code",
   "execution_count": 29,
   "metadata": {},
   "outputs": [
    {
     "output_type": "execute_result",
     "data": {
      "text/plain": "                   A         B         C         D\n2017-01-01  0.101236 -1.050974 -0.053228  0.390543\n2017-01-02 -0.504220  0.291020 -1.262036  0.803415",
      "text/html": "<div>\n<style scoped>\n    .dataframe tbody tr th:only-of-type {\n        vertical-align: middle;\n    }\n\n    .dataframe tbody tr th {\n        vertical-align: top;\n    }\n\n    .dataframe thead th {\n        text-align: right;\n    }\n</style>\n<table border=\"1\" class=\"dataframe\">\n  <thead>\n    <tr style=\"text-align: right;\">\n      <th></th>\n      <th>A</th>\n      <th>B</th>\n      <th>C</th>\n      <th>D</th>\n    </tr>\n  </thead>\n  <tbody>\n    <tr>\n      <th>2017-01-01</th>\n      <td>0.101236</td>\n      <td>-1.050974</td>\n      <td>-0.053228</td>\n      <td>0.390543</td>\n    </tr>\n    <tr>\n      <th>2017-01-02</th>\n      <td>-0.504220</td>\n      <td>0.291020</td>\n      <td>-1.262036</td>\n      <td>0.803415</td>\n    </tr>\n  </tbody>\n</table>\n</div>"
     },
     "metadata": {},
     "execution_count": 29
    }
   ],
   "source": [
    "df['2017-01-01':'2017-01-02']"
   ]
  },
  {
   "cell_type": "code",
   "execution_count": 34,
   "metadata": {},
   "outputs": [
    {
     "output_type": "execute_result",
     "data": {
      "text/plain": "A   -0.504220\nB    0.291020\nC   -1.262036\nD    0.803415\nName: 2017-01-02 00:00:00, dtype: float64"
     },
     "metadata": {},
     "execution_count": 34
    }
   ],
   "source": [
    "df.loc['2017-01-02']"
   ]
  },
  {
   "cell_type": "code",
   "execution_count": 37,
   "metadata": {},
   "outputs": [
    {
     "output_type": "execute_result",
     "data": {
      "text/plain": "                   A         B\n2017-01-01  0.101236 -1.050974\n2017-01-02 -0.504220  0.291020\n2017-01-03  1.227048 -0.125399\n2017-01-04 -1.106113  0.700803\n2017-01-05 -0.531197  0.757300\n2017-01-06  0.230411  1.855394",
      "text/html": "<div>\n<style scoped>\n    .dataframe tbody tr th:only-of-type {\n        vertical-align: middle;\n    }\n\n    .dataframe tbody tr th {\n        vertical-align: top;\n    }\n\n    .dataframe thead th {\n        text-align: right;\n    }\n</style>\n<table border=\"1\" class=\"dataframe\">\n  <thead>\n    <tr style=\"text-align: right;\">\n      <th></th>\n      <th>A</th>\n      <th>B</th>\n    </tr>\n  </thead>\n  <tbody>\n    <tr>\n      <th>2017-01-01</th>\n      <td>0.101236</td>\n      <td>-1.050974</td>\n    </tr>\n    <tr>\n      <th>2017-01-02</th>\n      <td>-0.504220</td>\n      <td>0.291020</td>\n    </tr>\n    <tr>\n      <th>2017-01-03</th>\n      <td>1.227048</td>\n      <td>-0.125399</td>\n    </tr>\n    <tr>\n      <th>2017-01-04</th>\n      <td>-1.106113</td>\n      <td>0.700803</td>\n    </tr>\n    <tr>\n      <th>2017-01-05</th>\n      <td>-0.531197</td>\n      <td>0.757300</td>\n    </tr>\n    <tr>\n      <th>2017-01-06</th>\n      <td>0.230411</td>\n      <td>1.855394</td>\n    </tr>\n  </tbody>\n</table>\n</div>"
     },
     "metadata": {},
     "execution_count": 37
    }
   ],
   "source": [
    "df.loc[:,['A','B']]"
   ]
  },
  {
   "cell_type": "code",
   "execution_count": 38,
   "metadata": {},
   "outputs": [
    {
     "output_type": "execute_result",
     "data": {
      "text/plain": "                   A         B\n2017-01-01  0.101236 -1.050974\n2017-01-02 -0.504220  0.291020\n2017-01-03  1.227048 -0.125399",
      "text/html": "<div>\n<style scoped>\n    .dataframe tbody tr th:only-of-type {\n        vertical-align: middle;\n    }\n\n    .dataframe tbody tr th {\n        vertical-align: top;\n    }\n\n    .dataframe thead th {\n        text-align: right;\n    }\n</style>\n<table border=\"1\" class=\"dataframe\">\n  <thead>\n    <tr style=\"text-align: right;\">\n      <th></th>\n      <th>A</th>\n      <th>B</th>\n    </tr>\n  </thead>\n  <tbody>\n    <tr>\n      <th>2017-01-01</th>\n      <td>0.101236</td>\n      <td>-1.050974</td>\n    </tr>\n    <tr>\n      <th>2017-01-02</th>\n      <td>-0.504220</td>\n      <td>0.291020</td>\n    </tr>\n    <tr>\n      <th>2017-01-03</th>\n      <td>1.227048</td>\n      <td>-0.125399</td>\n    </tr>\n  </tbody>\n</table>\n</div>"
     },
     "metadata": {},
     "execution_count": 38
    }
   ],
   "source": [
    "df.loc['2017-01-01':'2017-01-03\t',['A','B']]"
   ]
  },
  {
   "cell_type": "code",
   "execution_count": 43,
   "metadata": {},
   "outputs": [
    {
     "output_type": "execute_result",
     "data": {
      "text/plain": "       col1      col2      col3\n0  1.680694 -1.806132  0.513123\n1  1.141638 -2.180653 -1.304946\n2 -1.853540 -0.855266  0.758200\n3  0.839490 -0.814389  0.645570",
      "text/html": "<div>\n<style scoped>\n    .dataframe tbody tr th:only-of-type {\n        vertical-align: middle;\n    }\n\n    .dataframe tbody tr th {\n        vertical-align: top;\n    }\n\n    .dataframe thead th {\n        text-align: right;\n    }\n</style>\n<table border=\"1\" class=\"dataframe\">\n  <thead>\n    <tr style=\"text-align: right;\">\n      <th></th>\n      <th>col1</th>\n      <th>col2</th>\n      <th>col3</th>\n    </tr>\n  </thead>\n  <tbody>\n    <tr>\n      <th>0</th>\n      <td>1.680694</td>\n      <td>-1.806132</td>\n      <td>0.513123</td>\n    </tr>\n    <tr>\n      <th>1</th>\n      <td>1.141638</td>\n      <td>-2.180653</td>\n      <td>-1.304946</td>\n    </tr>\n    <tr>\n      <th>2</th>\n      <td>-1.853540</td>\n      <td>-0.855266</td>\n      <td>0.758200</td>\n    </tr>\n    <tr>\n      <th>3</th>\n      <td>0.839490</td>\n      <td>-0.814389</td>\n      <td>0.645570</td>\n    </tr>\n  </tbody>\n</table>\n</div>"
     },
     "metadata": {},
     "execution_count": 43
    }
   ],
   "source": [
    "df = pd.DataFrame(np.random.randn(4,3),columns=['col1','col2','col3'])\n",
    "df\n",
    "\n"
   ]
  },
  {
   "cell_type": "code",
   "execution_count": 44,
   "metadata": {},
   "outputs": [
    {
     "output_type": "stream",
     "name": "stdout",
     "text": "col1\n0    1.680694\n1    1.141638\n2   -1.853540\n3    0.839490\nName: col1, dtype: float64\ncol2\n0   -1.806132\n1   -2.180653\n2   -0.855266\n3   -0.814389\nName: col2, dtype: float64\ncol3\n0    0.513123\n1   -1.304946\n2    0.758200\n3    0.645570\nName: col3, dtype: float64\n"
    }
   ],
   "source": [
    "for key,value in df.iteritems():\n",
    "    print(key)\n",
    "    print(value)"
   ]
  },
  {
   "cell_type": "code",
   "execution_count": 45,
   "metadata": {},
   "outputs": [
    {
     "output_type": "stream",
     "name": "stdout",
     "text": "0\ncol1    1.680694\ncol2   -1.806132\ncol3    0.513123\nName: 0, dtype: float64\n1\ncol1    1.141638\ncol2   -2.180653\ncol3   -1.304946\nName: 1, dtype: float64\n2\ncol1   -1.853540\ncol2   -0.855266\ncol3    0.758200\nName: 2, dtype: float64\n3\ncol1    0.839490\ncol2   -0.814389\ncol3    0.645570\nName: 3, dtype: float64\n"
    }
   ],
   "source": [
    "for rowindex,row in df.iterrows():\n",
    "    print(rowindex)\n",
    "    print(row)"
   ]
  },
  {
   "cell_type": "code",
   "execution_count": 47,
   "metadata": {},
   "outputs": [
    {
     "output_type": "execute_result",
     "data": {
      "text/plain": "       col2      col1\n1 -0.346439 -0.611398\n4  1.642944  0.356116\n6  1.259837 -2.694949\n2  0.318434  0.784214\n3  0.767016 -0.061377\n5  2.261371 -0.068105\n9 -1.108588 -0.531852\n8 -1.495247  0.482471\n0  1.797813  1.632584\n7 -0.105991 -0.361984",
      "text/html": "<div>\n<style scoped>\n    .dataframe tbody tr th:only-of-type {\n        vertical-align: middle;\n    }\n\n    .dataframe tbody tr th {\n        vertical-align: top;\n    }\n\n    .dataframe thead th {\n        text-align: right;\n    }\n</style>\n<table border=\"1\" class=\"dataframe\">\n  <thead>\n    <tr style=\"text-align: right;\">\n      <th></th>\n      <th>col2</th>\n      <th>col1</th>\n    </tr>\n  </thead>\n  <tbody>\n    <tr>\n      <th>1</th>\n      <td>-0.346439</td>\n      <td>-0.611398</td>\n    </tr>\n    <tr>\n      <th>4</th>\n      <td>1.642944</td>\n      <td>0.356116</td>\n    </tr>\n    <tr>\n      <th>6</th>\n      <td>1.259837</td>\n      <td>-2.694949</td>\n    </tr>\n    <tr>\n      <th>2</th>\n      <td>0.318434</td>\n      <td>0.784214</td>\n    </tr>\n    <tr>\n      <th>3</th>\n      <td>0.767016</td>\n      <td>-0.061377</td>\n    </tr>\n    <tr>\n      <th>5</th>\n      <td>2.261371</td>\n      <td>-0.068105</td>\n    </tr>\n    <tr>\n      <th>9</th>\n      <td>-1.108588</td>\n      <td>-0.531852</td>\n    </tr>\n    <tr>\n      <th>8</th>\n      <td>-1.495247</td>\n      <td>0.482471</td>\n    </tr>\n    <tr>\n      <th>0</th>\n      <td>1.797813</td>\n      <td>1.632584</td>\n    </tr>\n    <tr>\n      <th>7</th>\n      <td>-0.105991</td>\n      <td>-0.361984</td>\n    </tr>\n  </tbody>\n</table>\n</div>"
     },
     "metadata": {},
     "execution_count": 47
    }
   ],
   "source": [
    "unsorted_df = pd.DataFrame(np.random.randn(10,2),index=[1,4,6,2,3,5,9,8,0,7],columns = ['col2','col1'])\n",
    "\n",
    "unsorted_df"
   ]
  },
  {
   "cell_type": "code",
   "execution_count": 50,
   "metadata": {},
   "outputs": [
    {
     "output_type": "execute_result",
     "data": {
      "text/plain": "       col2      col1\n0  1.797813  1.632584\n1 -0.346439 -0.611398\n2  0.318434  0.784214\n3  0.767016 -0.061377\n4  1.642944  0.356116\n5  2.261371 -0.068105\n6  1.259837 -2.694949\n7 -0.105991 -0.361984\n8 -1.495247  0.482471\n9 -1.108588 -0.531852",
      "text/html": "<div>\n<style scoped>\n    .dataframe tbody tr th:only-of-type {\n        vertical-align: middle;\n    }\n\n    .dataframe tbody tr th {\n        vertical-align: top;\n    }\n\n    .dataframe thead th {\n        text-align: right;\n    }\n</style>\n<table border=\"1\" class=\"dataframe\">\n  <thead>\n    <tr style=\"text-align: right;\">\n      <th></th>\n      <th>col2</th>\n      <th>col1</th>\n    </tr>\n  </thead>\n  <tbody>\n    <tr>\n      <th>0</th>\n      <td>1.797813</td>\n      <td>1.632584</td>\n    </tr>\n    <tr>\n      <th>1</th>\n      <td>-0.346439</td>\n      <td>-0.611398</td>\n    </tr>\n    <tr>\n      <th>2</th>\n      <td>0.318434</td>\n      <td>0.784214</td>\n    </tr>\n    <tr>\n      <th>3</th>\n      <td>0.767016</td>\n      <td>-0.061377</td>\n    </tr>\n    <tr>\n      <th>4</th>\n      <td>1.642944</td>\n      <td>0.356116</td>\n    </tr>\n    <tr>\n      <th>5</th>\n      <td>2.261371</td>\n      <td>-0.068105</td>\n    </tr>\n    <tr>\n      <th>6</th>\n      <td>1.259837</td>\n      <td>-2.694949</td>\n    </tr>\n    <tr>\n      <th>7</th>\n      <td>-0.105991</td>\n      <td>-0.361984</td>\n    </tr>\n    <tr>\n      <th>8</th>\n      <td>-1.495247</td>\n      <td>0.482471</td>\n    </tr>\n    <tr>\n      <th>9</th>\n      <td>-1.108588</td>\n      <td>-0.531852</td>\n    </tr>\n  </tbody>\n</table>\n</div>"
     },
     "metadata": {},
     "execution_count": 50
    }
   ],
   "source": [
    "unsorted_df.sort_index(ascending=True)"
   ]
  },
  {
   "cell_type": "code",
   "execution_count": 57,
   "metadata": {},
   "outputs": [
    {
     "output_type": "execute_result",
     "data": {
      "text/plain": "       col2      col1\n6  1.259837 -2.694949\n1 -0.346439 -0.611398\n9 -1.108588 -0.531852\n7 -0.105991 -0.361984\n5  2.261371 -0.068105\n3  0.767016 -0.061377\n4  1.642944  0.356116\n8 -1.495247  0.482471\n2  0.318434  0.784214\n0  1.797813  1.632584",
      "text/html": "<div>\n<style scoped>\n    .dataframe tbody tr th:only-of-type {\n        vertical-align: middle;\n    }\n\n    .dataframe tbody tr th {\n        vertical-align: top;\n    }\n\n    .dataframe thead th {\n        text-align: right;\n    }\n</style>\n<table border=\"1\" class=\"dataframe\">\n  <thead>\n    <tr style=\"text-align: right;\">\n      <th></th>\n      <th>col2</th>\n      <th>col1</th>\n    </tr>\n  </thead>\n  <tbody>\n    <tr>\n      <th>6</th>\n      <td>1.259837</td>\n      <td>-2.694949</td>\n    </tr>\n    <tr>\n      <th>1</th>\n      <td>-0.346439</td>\n      <td>-0.611398</td>\n    </tr>\n    <tr>\n      <th>9</th>\n      <td>-1.108588</td>\n      <td>-0.531852</td>\n    </tr>\n    <tr>\n      <th>7</th>\n      <td>-0.105991</td>\n      <td>-0.361984</td>\n    </tr>\n    <tr>\n      <th>5</th>\n      <td>2.261371</td>\n      <td>-0.068105</td>\n    </tr>\n    <tr>\n      <th>3</th>\n      <td>0.767016</td>\n      <td>-0.061377</td>\n    </tr>\n    <tr>\n      <th>4</th>\n      <td>1.642944</td>\n      <td>0.356116</td>\n    </tr>\n    <tr>\n      <th>8</th>\n      <td>-1.495247</td>\n      <td>0.482471</td>\n    </tr>\n    <tr>\n      <th>2</th>\n      <td>0.318434</td>\n      <td>0.784214</td>\n    </tr>\n    <tr>\n      <th>0</th>\n      <td>1.797813</td>\n      <td>1.632584</td>\n    </tr>\n  </tbody>\n</table>\n</div>"
     },
     "metadata": {},
     "execution_count": 57
    }
   ],
   "source": [
    "unsorted_df.sort_values(by='col1',ascending=True)"
   ]
  },
  {
   "cell_type": "code",
   "execution_count": 58,
   "metadata": {},
   "outputs": [
    {
     "output_type": "execute_result",
     "data": {
      "text/plain": "0             Tom\n1    William Rick\n2            John\n3         Alber@t\n4             NaN\n5            1234\n6      SteveMinsu\ndtype: object"
     },
     "metadata": {},
     "execution_count": 58
    }
   ],
   "source": [
    "s = pd.Series(['Tom', 'William Rick', 'John', 'Alber@t', np.nan, '1234','SteveMinsu'])\n",
    "s\n"
   ]
  },
  {
   "cell_type": "code",
   "execution_count": 67,
   "metadata": {},
   "outputs": [
    {
     "output_type": "execute_result",
     "data": {
      "text/plain": "0     3.0\n1    12.0\n2     4.0\n3     7.0\n4     NaN\n5     4.0\n6    10.0\ndtype: float64"
     },
     "metadata": {},
     "execution_count": 67
    }
   ],
   "source": [
    "s.str.len()"
   ]
  },
  {
   "cell_type": "code",
   "execution_count": 69,
   "metadata": {},
   "outputs": [
    {
     "output_type": "execute_result",
     "data": {
      "text/plain": "          A         B         C         D\na  0.293832  0.109301  1.129323  0.575019\nb -0.698401  1.412235  0.049022 -0.967939\nc -2.269376 -0.137546  0.265365  0.446062\nd  1.769327 -0.381091  0.044821 -0.263832\ne -0.276023 -0.859901 -1.005622 -0.506125\nf  0.346787 -0.871609 -0.240664  0.104726\ng  0.462825  0.430470 -0.177842  0.029003\nh -1.849621  0.707873 -0.255600  0.064249",
      "text/html": "<div>\n<style scoped>\n    .dataframe tbody tr th:only-of-type {\n        vertical-align: middle;\n    }\n\n    .dataframe tbody tr th {\n        vertical-align: top;\n    }\n\n    .dataframe thead th {\n        text-align: right;\n    }\n</style>\n<table border=\"1\" class=\"dataframe\">\n  <thead>\n    <tr style=\"text-align: right;\">\n      <th></th>\n      <th>A</th>\n      <th>B</th>\n      <th>C</th>\n      <th>D</th>\n    </tr>\n  </thead>\n  <tbody>\n    <tr>\n      <th>a</th>\n      <td>0.293832</td>\n      <td>0.109301</td>\n      <td>1.129323</td>\n      <td>0.575019</td>\n    </tr>\n    <tr>\n      <th>b</th>\n      <td>-0.698401</td>\n      <td>1.412235</td>\n      <td>0.049022</td>\n      <td>-0.967939</td>\n    </tr>\n    <tr>\n      <th>c</th>\n      <td>-2.269376</td>\n      <td>-0.137546</td>\n      <td>0.265365</td>\n      <td>0.446062</td>\n    </tr>\n    <tr>\n      <th>d</th>\n      <td>1.769327</td>\n      <td>-0.381091</td>\n      <td>0.044821</td>\n      <td>-0.263832</td>\n    </tr>\n    <tr>\n      <th>e</th>\n      <td>-0.276023</td>\n      <td>-0.859901</td>\n      <td>-1.005622</td>\n      <td>-0.506125</td>\n    </tr>\n    <tr>\n      <th>f</th>\n      <td>0.346787</td>\n      <td>-0.871609</td>\n      <td>-0.240664</td>\n      <td>0.104726</td>\n    </tr>\n    <tr>\n      <th>g</th>\n      <td>0.462825</td>\n      <td>0.430470</td>\n      <td>-0.177842</td>\n      <td>0.029003</td>\n    </tr>\n    <tr>\n      <th>h</th>\n      <td>-1.849621</td>\n      <td>0.707873</td>\n      <td>-0.255600</td>\n      <td>0.064249</td>\n    </tr>\n  </tbody>\n</table>\n</div>"
     },
     "metadata": {},
     "execution_count": 69
    }
   ],
   "source": [
    "df = pd.DataFrame(np.random.randn(8, 4),\n",
    "index = ['a','b','c','d','e','f','g','h'], columns = ['A', 'B', 'C', 'D'])\n",
    "df"
   ]
  },
  {
   "cell_type": "code",
   "execution_count": 70,
   "metadata": {},
   "outputs": [
    {
     "output_type": "execute_result",
     "data": {
      "text/plain": "a    0.293832\nb   -0.698401\nc   -2.269376\nd    1.769327\ne   -0.276023\nf    0.346787\ng    0.462825\nh   -1.849621\nName: A, dtype: float64"
     },
     "metadata": {},
     "execution_count": 70
    }
   ],
   "source": [
    "df.loc[:,'A']"
   ]
  },
  {
   "cell_type": "code",
   "execution_count": 82,
   "metadata": {},
   "outputs": [
    {
     "output_type": "execute_result",
     "data": {
      "text/plain": "          A         B\na  0.293832  0.109301\nb -0.698401  1.412235\nc -2.269376 -0.137546",
      "text/html": "<div>\n<style scoped>\n    .dataframe tbody tr th:only-of-type {\n        vertical-align: middle;\n    }\n\n    .dataframe tbody tr th {\n        vertical-align: top;\n    }\n\n    .dataframe thead th {\n        text-align: right;\n    }\n</style>\n<table border=\"1\" class=\"dataframe\">\n  <thead>\n    <tr style=\"text-align: right;\">\n      <th></th>\n      <th>A</th>\n      <th>B</th>\n    </tr>\n  </thead>\n  <tbody>\n    <tr>\n      <th>a</th>\n      <td>0.293832</td>\n      <td>0.109301</td>\n    </tr>\n    <tr>\n      <th>b</th>\n      <td>-0.698401</td>\n      <td>1.412235</td>\n    </tr>\n    <tr>\n      <th>c</th>\n      <td>-2.269376</td>\n      <td>-0.137546</td>\n    </tr>\n  </tbody>\n</table>\n</div>"
     },
     "metadata": {},
     "execution_count": 82
    }
   ],
   "source": [
    "df.loc[['a','b','c'],['A','B']]"
   ]
  },
  {
   "cell_type": "code",
   "execution_count": 89,
   "metadata": {},
   "outputs": [
    {
     "output_type": "execute_result",
     "data": {
      "text/plain": "          A         B         C         D\na  0.293832  0.109301  1.129323  0.575019\nb -0.698401  1.412235  0.049022 -0.967939\nc -2.269376 -0.137546  0.265365  0.446062",
      "text/html": "<div>\n<style scoped>\n    .dataframe tbody tr th:only-of-type {\n        vertical-align: middle;\n    }\n\n    .dataframe tbody tr th {\n        vertical-align: top;\n    }\n\n    .dataframe thead th {\n        text-align: right;\n    }\n</style>\n<table border=\"1\" class=\"dataframe\">\n  <thead>\n    <tr style=\"text-align: right;\">\n      <th></th>\n      <th>A</th>\n      <th>B</th>\n      <th>C</th>\n      <th>D</th>\n    </tr>\n  </thead>\n  <tbody>\n    <tr>\n      <th>a</th>\n      <td>0.293832</td>\n      <td>0.109301</td>\n      <td>1.129323</td>\n      <td>0.575019</td>\n    </tr>\n    <tr>\n      <th>b</th>\n      <td>-0.698401</td>\n      <td>1.412235</td>\n      <td>0.049022</td>\n      <td>-0.967939</td>\n    </tr>\n    <tr>\n      <th>c</th>\n      <td>-2.269376</td>\n      <td>-0.137546</td>\n      <td>0.265365</td>\n      <td>0.446062</td>\n    </tr>\n  </tbody>\n</table>\n</div>"
     },
     "metadata": {},
     "execution_count": 89
    }
   ],
   "source": [
    "df.loc['a':'c']"
   ]
  },
  {
   "cell_type": "code",
   "execution_count": 94,
   "metadata": {},
   "outputs": [
    {
     "output_type": "execute_result",
     "data": {
      "text/plain": "a     True\nb    False\nc    False\nd     True\ne    False\nf     True\ng     True\nh    False\nName: A, dtype: bool"
     },
     "metadata": {},
     "execution_count": 94
    }
   ],
   "source": [
    "df.loc[:,\"A\"]>0"
   ]
  },
  {
   "cell_type": "code",
   "execution_count": 98,
   "metadata": {},
   "outputs": [
    {
     "output_type": "execute_result",
     "data": {
      "text/plain": "          A         B         C         D\na  0.293832  0.109301  1.129323  0.575019\nb -0.698401  1.412235  0.049022 -0.967939\nc -2.269376 -0.137546  0.265365  0.446062",
      "text/html": "<div>\n<style scoped>\n    .dataframe tbody tr th:only-of-type {\n        vertical-align: middle;\n    }\n\n    .dataframe tbody tr th {\n        vertical-align: top;\n    }\n\n    .dataframe thead th {\n        text-align: right;\n    }\n</style>\n<table border=\"1\" class=\"dataframe\">\n  <thead>\n    <tr style=\"text-align: right;\">\n      <th></th>\n      <th>A</th>\n      <th>B</th>\n      <th>C</th>\n      <th>D</th>\n    </tr>\n  </thead>\n  <tbody>\n    <tr>\n      <th>a</th>\n      <td>0.293832</td>\n      <td>0.109301</td>\n      <td>1.129323</td>\n      <td>0.575019</td>\n    </tr>\n    <tr>\n      <th>b</th>\n      <td>-0.698401</td>\n      <td>1.412235</td>\n      <td>0.049022</td>\n      <td>-0.967939</td>\n    </tr>\n    <tr>\n      <th>c</th>\n      <td>-2.269376</td>\n      <td>-0.137546</td>\n      <td>0.265365</td>\n      <td>0.446062</td>\n    </tr>\n  </tbody>\n</table>\n</div>"
     },
     "metadata": {},
     "execution_count": 98
    }
   ],
   "source": [
    "df.iloc[:3]"
   ]
  },
  {
   "cell_type": "code",
   "execution_count": 102,
   "metadata": {},
   "outputs": [
    {
     "output_type": "execute_result",
     "data": {
      "text/plain": "          C         D\nb  0.049022 -0.967939\nc  0.265365  0.446062\nd  0.044821 -0.263832\ne -1.005622 -0.506125",
      "text/html": "<div>\n<style scoped>\n    .dataframe tbody tr th:only-of-type {\n        vertical-align: middle;\n    }\n\n    .dataframe tbody tr th {\n        vertical-align: top;\n    }\n\n    .dataframe thead th {\n        text-align: right;\n    }\n</style>\n<table border=\"1\" class=\"dataframe\">\n  <thead>\n    <tr style=\"text-align: right;\">\n      <th></th>\n      <th>C</th>\n      <th>D</th>\n    </tr>\n  </thead>\n  <tbody>\n    <tr>\n      <th>b</th>\n      <td>0.049022</td>\n      <td>-0.967939</td>\n    </tr>\n    <tr>\n      <th>c</th>\n      <td>0.265365</td>\n      <td>0.446062</td>\n    </tr>\n    <tr>\n      <th>d</th>\n      <td>0.044821</td>\n      <td>-0.263832</td>\n    </tr>\n    <tr>\n      <th>e</th>\n      <td>-1.005622</td>\n      <td>-0.506125</td>\n    </tr>\n  </tbody>\n</table>\n</div>"
     },
     "metadata": {},
     "execution_count": 102
    }
   ],
   "source": [
    "df.iloc[1:5,2:4]"
   ]
  },
  {
   "cell_type": "code",
   "execution_count": 103,
   "metadata": {},
   "outputs": [
    {
     "output_type": "execute_result",
     "data": {
      "text/plain": "a    0.293832\nb   -0.698401\nc   -2.269376\nd    1.769327\ne   -0.276023\nf    0.346787\ng    0.462825\nh   -1.849621\nName: A, dtype: float64"
     },
     "metadata": {},
     "execution_count": 103
    }
   ],
   "source": [
    "df.A"
   ]
  },
  {
   "cell_type": "code",
   "execution_count": 104,
   "metadata": {},
   "outputs": [
    {
     "output_type": "execute_result",
     "data": {
      "text/plain": "a    0.293832\nb   -0.698401\nc   -2.269376\nd    1.769327\ne   -0.276023\nf    0.346787\ng    0.462825\nh   -1.849621\nName: A, dtype: float64"
     },
     "metadata": {},
     "execution_count": 104
    }
   ],
   "source": [
    "df['A']"
   ]
  },
  {
   "cell_type": "code",
   "execution_count": 106,
   "metadata": {},
   "outputs": [
    {
     "output_type": "execute_result",
     "data": {
      "text/plain": "          A         B         C         D\na  0.293832  0.109301  1.129323  0.575019\nb -0.698401  1.412235  0.049022 -0.967939\nc -2.269376 -0.137546  0.265365  0.446062\nd  1.769327 -0.381091  0.044821 -0.263832\ne -0.276023 -0.859901 -1.005622 -0.506125\nf  0.346787 -0.871609 -0.240664  0.104726\ng  0.462825  0.430470 -0.177842  0.029003\nh -1.849621  0.707873 -0.255600  0.064249",
      "text/html": "<div>\n<style scoped>\n    .dataframe tbody tr th:only-of-type {\n        vertical-align: middle;\n    }\n\n    .dataframe tbody tr th {\n        vertical-align: top;\n    }\n\n    .dataframe thead th {\n        text-align: right;\n    }\n</style>\n<table border=\"1\" class=\"dataframe\">\n  <thead>\n    <tr style=\"text-align: right;\">\n      <th></th>\n      <th>A</th>\n      <th>B</th>\n      <th>C</th>\n      <th>D</th>\n    </tr>\n  </thead>\n  <tbody>\n    <tr>\n      <th>a</th>\n      <td>0.293832</td>\n      <td>0.109301</td>\n      <td>1.129323</td>\n      <td>0.575019</td>\n    </tr>\n    <tr>\n      <th>b</th>\n      <td>-0.698401</td>\n      <td>1.412235</td>\n      <td>0.049022</td>\n      <td>-0.967939</td>\n    </tr>\n    <tr>\n      <th>c</th>\n      <td>-2.269376</td>\n      <td>-0.137546</td>\n      <td>0.265365</td>\n      <td>0.446062</td>\n    </tr>\n    <tr>\n      <th>d</th>\n      <td>1.769327</td>\n      <td>-0.381091</td>\n      <td>0.044821</td>\n      <td>-0.263832</td>\n    </tr>\n    <tr>\n      <th>e</th>\n      <td>-0.276023</td>\n      <td>-0.859901</td>\n      <td>-1.005622</td>\n      <td>-0.506125</td>\n    </tr>\n    <tr>\n      <th>f</th>\n      <td>0.346787</td>\n      <td>-0.871609</td>\n      <td>-0.240664</td>\n      <td>0.104726</td>\n    </tr>\n    <tr>\n      <th>g</th>\n      <td>0.462825</td>\n      <td>0.430470</td>\n      <td>-0.177842</td>\n      <td>0.029003</td>\n    </tr>\n    <tr>\n      <th>h</th>\n      <td>-1.849621</td>\n      <td>0.707873</td>\n      <td>-0.255600</td>\n      <td>0.064249</td>\n    </tr>\n  </tbody>\n</table>\n</div>"
     },
     "metadata": {},
     "execution_count": 106
    }
   ],
   "source": [
    "df"
   ]
  },
  {
   "cell_type": "code",
   "execution_count": 107,
   "metadata": {},
   "outputs": [
    {
     "output_type": "execute_result",
     "data": {
      "text/plain": "          A          B          C         D\na       NaN        NaN        NaN       NaN\nb -3.376871  11.920566  -0.956592 -2.683315\nc  2.249386  -1.097396   4.413226 -1.460837\nd -1.779654   1.770634  -0.831096 -1.591470\ne -1.156004   1.256420 -23.436336  0.918361\nf -2.256371   0.013616  -0.760682 -1.206918\ng  0.334608  -1.493879  -0.261036 -0.723058\nh -4.996372   0.644419   0.437230  1.215240",
      "text/html": "<div>\n<style scoped>\n    .dataframe tbody tr th:only-of-type {\n        vertical-align: middle;\n    }\n\n    .dataframe tbody tr th {\n        vertical-align: top;\n    }\n\n    .dataframe thead th {\n        text-align: right;\n    }\n</style>\n<table border=\"1\" class=\"dataframe\">\n  <thead>\n    <tr style=\"text-align: right;\">\n      <th></th>\n      <th>A</th>\n      <th>B</th>\n      <th>C</th>\n      <th>D</th>\n    </tr>\n  </thead>\n  <tbody>\n    <tr>\n      <th>a</th>\n      <td>NaN</td>\n      <td>NaN</td>\n      <td>NaN</td>\n      <td>NaN</td>\n    </tr>\n    <tr>\n      <th>b</th>\n      <td>-3.376871</td>\n      <td>11.920566</td>\n      <td>-0.956592</td>\n      <td>-2.683315</td>\n    </tr>\n    <tr>\n      <th>c</th>\n      <td>2.249386</td>\n      <td>-1.097396</td>\n      <td>4.413226</td>\n      <td>-1.460837</td>\n    </tr>\n    <tr>\n      <th>d</th>\n      <td>-1.779654</td>\n      <td>1.770634</td>\n      <td>-0.831096</td>\n      <td>-1.591470</td>\n    </tr>\n    <tr>\n      <th>e</th>\n      <td>-1.156004</td>\n      <td>1.256420</td>\n      <td>-23.436336</td>\n      <td>0.918361</td>\n    </tr>\n    <tr>\n      <th>f</th>\n      <td>-2.256371</td>\n      <td>0.013616</td>\n      <td>-0.760682</td>\n      <td>-1.206918</td>\n    </tr>\n    <tr>\n      <th>g</th>\n      <td>0.334608</td>\n      <td>-1.493879</td>\n      <td>-0.261036</td>\n      <td>-0.723058</td>\n    </tr>\n    <tr>\n      <th>h</th>\n      <td>-4.996372</td>\n      <td>0.644419</td>\n      <td>0.437230</td>\n      <td>1.215240</td>\n    </tr>\n  </tbody>\n</table>\n</div>"
     },
     "metadata": {},
     "execution_count": 107
    }
   ],
   "source": [
    "df.pct_change()"
   ]
  },
  {
   "cell_type": "code",
   "execution_count": 108,
   "metadata": {},
   "outputs": [
    {
     "output_type": "execute_result",
     "data": {
      "text/plain": "0    1\n1    2\n2    3\n3    4\n4    5\n5    4\ndtype: int64"
     },
     "metadata": {},
     "execution_count": 108
    }
   ],
   "source": [
    "s = pd.Series([1,2,3,4,5,4])\n",
    "s\n",
    "\n"
   ]
  },
  {
   "cell_type": "code",
   "execution_count": 109,
   "metadata": {},
   "outputs": [
    {
     "output_type": "execute_result",
     "data": {
      "text/plain": "0         NaN\n1    1.000000\n2    0.500000\n3    0.333333\n4    0.250000\n5   -0.200000\ndtype: float64"
     },
     "metadata": {},
     "execution_count": 109
    }
   ],
   "source": [
    "s.pct_change()"
   ]
  },
  {
   "cell_type": "code",
   "execution_count": 123,
   "metadata": {},
   "outputs": [
    {
     "output_type": "execute_result",
     "data": {
      "text/plain": "0    1\n1    2\n2    3\n3    4\n4    5\ndtype: int64"
     },
     "metadata": {},
     "execution_count": 123
    }
   ],
   "source": [
    "s1 = pd.Series(np.array([1,2,3,4,5]))\n",
    "s2 = pd.Series(np.array([10,20,30,40,50]))\n",
    "s1\n"
   ]
  },
  {
   "cell_type": "code",
   "execution_count": 121,
   "metadata": {},
   "outputs": [
    {
     "output_type": "execute_result",
     "data": {
      "text/plain": "0    10\n1    20\n2    30\n3   -10\n4    50\ndtype: int64"
     },
     "metadata": {},
     "execution_count": 121
    }
   ],
   "source": [
    "s2"
   ]
  },
  {
   "cell_type": "code",
   "execution_count": 119,
   "metadata": {},
   "outputs": [
    {
     "output_type": "execute_result",
     "data": {
      "text/plain": "12.5"
     },
     "metadata": {},
     "execution_count": 119
    }
   ],
   "source": [
    "s1.cov(s2)"
   ]
  },
  {
   "cell_type": "code",
   "execution_count": 124,
   "metadata": {},
   "outputs": [
    {
     "output_type": "execute_result",
     "data": {
      "text/plain": "1.0"
     },
     "metadata": {},
     "execution_count": 124
    }
   ],
   "source": [
    "s1.corr(s2)"
   ]
  },
  {
   "cell_type": "code",
   "execution_count": 125,
   "metadata": {},
   "outputs": [
    {
     "output_type": "execute_result",
     "data": {
      "text/plain": "                   A         B         C         D\n2020-01-01  0.471592  1.325205  0.529549  0.991105\n2020-01-02 -0.584409 -0.289026  1.301284 -1.205745\n2020-01-03 -0.754926  0.663468  0.459144 -0.548913\n2020-01-04 -1.198365 -1.232402 -1.703695  0.390808\n2020-01-05 -1.080149 -1.911493  0.892893 -0.603515\n2020-01-06  0.184204  1.304071  0.776905 -0.569705\n2020-01-07  0.996186  0.921650 -1.131237 -2.400211\n2020-01-08 -2.021597 -0.518464  0.299173  1.147645\n2020-01-09  0.011932  0.264253 -1.723865 -0.134665\n2020-01-10  0.335468 -1.994718 -0.414732  0.654241",
      "text/html": "<div>\n<style scoped>\n    .dataframe tbody tr th:only-of-type {\n        vertical-align: middle;\n    }\n\n    .dataframe tbody tr th {\n        vertical-align: top;\n    }\n\n    .dataframe thead th {\n        text-align: right;\n    }\n</style>\n<table border=\"1\" class=\"dataframe\">\n  <thead>\n    <tr style=\"text-align: right;\">\n      <th></th>\n      <th>A</th>\n      <th>B</th>\n      <th>C</th>\n      <th>D</th>\n    </tr>\n  </thead>\n  <tbody>\n    <tr>\n      <th>2020-01-01</th>\n      <td>0.471592</td>\n      <td>1.325205</td>\n      <td>0.529549</td>\n      <td>0.991105</td>\n    </tr>\n    <tr>\n      <th>2020-01-02</th>\n      <td>-0.584409</td>\n      <td>-0.289026</td>\n      <td>1.301284</td>\n      <td>-1.205745</td>\n    </tr>\n    <tr>\n      <th>2020-01-03</th>\n      <td>-0.754926</td>\n      <td>0.663468</td>\n      <td>0.459144</td>\n      <td>-0.548913</td>\n    </tr>\n    <tr>\n      <th>2020-01-04</th>\n      <td>-1.198365</td>\n      <td>-1.232402</td>\n      <td>-1.703695</td>\n      <td>0.390808</td>\n    </tr>\n    <tr>\n      <th>2020-01-05</th>\n      <td>-1.080149</td>\n      <td>-1.911493</td>\n      <td>0.892893</td>\n      <td>-0.603515</td>\n    </tr>\n    <tr>\n      <th>2020-01-06</th>\n      <td>0.184204</td>\n      <td>1.304071</td>\n      <td>0.776905</td>\n      <td>-0.569705</td>\n    </tr>\n    <tr>\n      <th>2020-01-07</th>\n      <td>0.996186</td>\n      <td>0.921650</td>\n      <td>-1.131237</td>\n      <td>-2.400211</td>\n    </tr>\n    <tr>\n      <th>2020-01-08</th>\n      <td>-2.021597</td>\n      <td>-0.518464</td>\n      <td>0.299173</td>\n      <td>1.147645</td>\n    </tr>\n    <tr>\n      <th>2020-01-09</th>\n      <td>0.011932</td>\n      <td>0.264253</td>\n      <td>-1.723865</td>\n      <td>-0.134665</td>\n    </tr>\n    <tr>\n      <th>2020-01-10</th>\n      <td>0.335468</td>\n      <td>-1.994718</td>\n      <td>-0.414732</td>\n      <td>0.654241</td>\n    </tr>\n  </tbody>\n</table>\n</div>"
     },
     "metadata": {},
     "execution_count": 125
    }
   ],
   "source": [
    "df = pd.DataFrame(np.random.randn(10, 4),\n",
    "index = pd.date_range('1/1/2020', periods=10),\n",
    "columns = ['A', 'B', 'C', 'D'])\n",
    "df\n"
   ]
  },
  {
   "cell_type": "code",
   "execution_count": 126,
   "metadata": {},
   "outputs": [
    {
     "output_type": "execute_result",
     "data": {
      "text/plain": "                   A         B         C         D\n2020-01-01       NaN       NaN       NaN       NaN\n2020-01-02       NaN       NaN       NaN       NaN\n2020-01-03 -0.289248  0.566549  0.763325 -0.254518\n2020-01-04 -0.845900 -0.285987  0.018911 -0.454617\n2020-01-05 -1.011147 -0.826809 -0.117220 -0.253873\n2020-01-06 -0.698103 -0.613274 -0.011299 -0.260804\n2020-01-07  0.033414  0.104743  0.179520 -1.191143\n2020-01-08 -0.280402  0.569086 -0.018386 -0.607423\n2020-01-09 -0.337826  0.222480 -0.851976 -0.462410\n2020-01-10 -0.558066 -0.749643 -0.613141  0.555740",
      "text/html": "<div>\n<style scoped>\n    .dataframe tbody tr th:only-of-type {\n        vertical-align: middle;\n    }\n\n    .dataframe tbody tr th {\n        vertical-align: top;\n    }\n\n    .dataframe thead th {\n        text-align: right;\n    }\n</style>\n<table border=\"1\" class=\"dataframe\">\n  <thead>\n    <tr style=\"text-align: right;\">\n      <th></th>\n      <th>A</th>\n      <th>B</th>\n      <th>C</th>\n      <th>D</th>\n    </tr>\n  </thead>\n  <tbody>\n    <tr>\n      <th>2020-01-01</th>\n      <td>NaN</td>\n      <td>NaN</td>\n      <td>NaN</td>\n      <td>NaN</td>\n    </tr>\n    <tr>\n      <th>2020-01-02</th>\n      <td>NaN</td>\n      <td>NaN</td>\n      <td>NaN</td>\n      <td>NaN</td>\n    </tr>\n    <tr>\n      <th>2020-01-03</th>\n      <td>-0.289248</td>\n      <td>0.566549</td>\n      <td>0.763325</td>\n      <td>-0.254518</td>\n    </tr>\n    <tr>\n      <th>2020-01-04</th>\n      <td>-0.845900</td>\n      <td>-0.285987</td>\n      <td>0.018911</td>\n      <td>-0.454617</td>\n    </tr>\n    <tr>\n      <th>2020-01-05</th>\n      <td>-1.011147</td>\n      <td>-0.826809</td>\n      <td>-0.117220</td>\n      <td>-0.253873</td>\n    </tr>\n    <tr>\n      <th>2020-01-06</th>\n      <td>-0.698103</td>\n      <td>-0.613274</td>\n      <td>-0.011299</td>\n      <td>-0.260804</td>\n    </tr>\n    <tr>\n      <th>2020-01-07</th>\n      <td>0.033414</td>\n      <td>0.104743</td>\n      <td>0.179520</td>\n      <td>-1.191143</td>\n    </tr>\n    <tr>\n      <th>2020-01-08</th>\n      <td>-0.280402</td>\n      <td>0.569086</td>\n      <td>-0.018386</td>\n      <td>-0.607423</td>\n    </tr>\n    <tr>\n      <th>2020-01-09</th>\n      <td>-0.337826</td>\n      <td>0.222480</td>\n      <td>-0.851976</td>\n      <td>-0.462410</td>\n    </tr>\n    <tr>\n      <th>2020-01-10</th>\n      <td>-0.558066</td>\n      <td>-0.749643</td>\n      <td>-0.613141</td>\n      <td>0.555740</td>\n    </tr>\n  </tbody>\n</table>\n</div>"
     },
     "metadata": {},
     "execution_count": 126
    }
   ],
   "source": [
    "df.rolling(window=3).mean()"
   ]
  },
  {
   "cell_type": "code",
   "execution_count": 127,
   "metadata": {},
   "outputs": [
    {
     "output_type": "execute_result",
     "data": {
      "text/plain": "        one       two     three\na -1.360976  0.296078  0.396949\nb       NaN       NaN       NaN\nc -0.645408 -0.470924 -1.471645\nd       NaN       NaN       NaN\ne -0.462099 -1.103915  0.578016\nf -0.239213  0.932147 -0.705145\ng       NaN       NaN       NaN\nh  0.867033  1.974435 -0.935390",
      "text/html": "<div>\n<style scoped>\n    .dataframe tbody tr th:only-of-type {\n        vertical-align: middle;\n    }\n\n    .dataframe tbody tr th {\n        vertical-align: top;\n    }\n\n    .dataframe thead th {\n        text-align: right;\n    }\n</style>\n<table border=\"1\" class=\"dataframe\">\n  <thead>\n    <tr style=\"text-align: right;\">\n      <th></th>\n      <th>one</th>\n      <th>two</th>\n      <th>three</th>\n    </tr>\n  </thead>\n  <tbody>\n    <tr>\n      <th>a</th>\n      <td>-1.360976</td>\n      <td>0.296078</td>\n      <td>0.396949</td>\n    </tr>\n    <tr>\n      <th>b</th>\n      <td>NaN</td>\n      <td>NaN</td>\n      <td>NaN</td>\n    </tr>\n    <tr>\n      <th>c</th>\n      <td>-0.645408</td>\n      <td>-0.470924</td>\n      <td>-1.471645</td>\n    </tr>\n    <tr>\n      <th>d</th>\n      <td>NaN</td>\n      <td>NaN</td>\n      <td>NaN</td>\n    </tr>\n    <tr>\n      <th>e</th>\n      <td>-0.462099</td>\n      <td>-1.103915</td>\n      <td>0.578016</td>\n    </tr>\n    <tr>\n      <th>f</th>\n      <td>-0.239213</td>\n      <td>0.932147</td>\n      <td>-0.705145</td>\n    </tr>\n    <tr>\n      <th>g</th>\n      <td>NaN</td>\n      <td>NaN</td>\n      <td>NaN</td>\n    </tr>\n    <tr>\n      <th>h</th>\n      <td>0.867033</td>\n      <td>1.974435</td>\n      <td>-0.935390</td>\n    </tr>\n  </tbody>\n</table>\n</div>"
     },
     "metadata": {},
     "execution_count": 127
    }
   ],
   "source": [
    "df = pd.DataFrame(np.random.randn(5, 3), index=['a', 'c', 'e', 'f',\n",
    "'h'],columns=['one', 'two', 'three'])\n",
    "\n",
    "df = df.reindex(['a', 'b', 'c', 'd', 'e', 'f', 'g', 'h'])\n",
    "df\n",
    "\n"
   ]
  },
  {
   "cell_type": "code",
   "execution_count": 128,
   "metadata": {},
   "outputs": [
    {
     "output_type": "execute_result",
     "data": {
      "text/plain": "a    False\nb     True\nc    False\nd     True\ne    False\nf    False\ng     True\nh    False\nName: one, dtype: bool"
     },
     "metadata": {},
     "execution_count": 128
    }
   ],
   "source": [
    "df['one'].isnull()"
   ]
  },
  {
   "cell_type": "code",
   "execution_count": 129,
   "metadata": {},
   "outputs": [
    {
     "output_type": "execute_result",
     "data": {
      "text/plain": "a     True\nb    False\nc     True\nd    False\ne     True\nf     True\ng    False\nh     True\nName: one, dtype: bool"
     },
     "metadata": {},
     "execution_count": 129
    }
   ],
   "source": [
    "df['one'].notnull()"
   ]
  },
  {
   "cell_type": "code",
   "execution_count": 131,
   "metadata": {},
   "outputs": [
    {
     "output_type": "execute_result",
     "data": {
      "text/plain": "-1.8406626312277212"
     },
     "metadata": {},
     "execution_count": 131
    }
   ],
   "source": [
    "df['one'].sum()"
   ]
  },
  {
   "cell_type": "code",
   "execution_count": 141,
   "metadata": {},
   "outputs": [
    {
     "output_type": "execute_result",
     "data": {
      "text/plain": "        one       two     three\na -1.360976  0.296078  0.396949\nb       NaN       NaN       NaN\nc -0.645408 -0.470924 -1.471645\nd       NaN       NaN       NaN\ne -0.462099 -1.103915  0.578016\nf -0.239213  0.932147 -0.705145\ng       NaN       NaN       NaN\nh  0.867033  1.974435 -0.935390",
      "text/html": "<div>\n<style scoped>\n    .dataframe tbody tr th:only-of-type {\n        vertical-align: middle;\n    }\n\n    .dataframe tbody tr th {\n        vertical-align: top;\n    }\n\n    .dataframe thead th {\n        text-align: right;\n    }\n</style>\n<table border=\"1\" class=\"dataframe\">\n  <thead>\n    <tr style=\"text-align: right;\">\n      <th></th>\n      <th>one</th>\n      <th>two</th>\n      <th>three</th>\n    </tr>\n  </thead>\n  <tbody>\n    <tr>\n      <th>a</th>\n      <td>-1.360976</td>\n      <td>0.296078</td>\n      <td>0.396949</td>\n    </tr>\n    <tr>\n      <th>b</th>\n      <td>NaN</td>\n      <td>NaN</td>\n      <td>NaN</td>\n    </tr>\n    <tr>\n      <th>c</th>\n      <td>-0.645408</td>\n      <td>-0.470924</td>\n      <td>-1.471645</td>\n    </tr>\n    <tr>\n      <th>d</th>\n      <td>NaN</td>\n      <td>NaN</td>\n      <td>NaN</td>\n    </tr>\n    <tr>\n      <th>e</th>\n      <td>-0.462099</td>\n      <td>-1.103915</td>\n      <td>0.578016</td>\n    </tr>\n    <tr>\n      <th>f</th>\n      <td>-0.239213</td>\n      <td>0.932147</td>\n      <td>-0.705145</td>\n    </tr>\n    <tr>\n      <th>g</th>\n      <td>NaN</td>\n      <td>NaN</td>\n      <td>NaN</td>\n    </tr>\n    <tr>\n      <th>h</th>\n      <td>0.867033</td>\n      <td>1.974435</td>\n      <td>-0.935390</td>\n    </tr>\n  </tbody>\n</table>\n</div>"
     },
     "metadata": {},
     "execution_count": 141
    }
   ],
   "source": [
    "df"
   ]
  },
  {
   "cell_type": "code",
   "execution_count": 142,
   "metadata": {},
   "outputs": [
    {
     "output_type": "execute_result",
     "data": {
      "text/plain": "        one       two     three\na -1.360976  0.296078  0.396949\nc -0.645408 -0.470924 -1.471645\ne -0.462099 -1.103915  0.578016\nf -0.239213  0.932147 -0.705145\nh  0.867033  1.974435 -0.935390",
      "text/html": "<div>\n<style scoped>\n    .dataframe tbody tr th:only-of-type {\n        vertical-align: middle;\n    }\n\n    .dataframe tbody tr th {\n        vertical-align: top;\n    }\n\n    .dataframe thead th {\n        text-align: right;\n    }\n</style>\n<table border=\"1\" class=\"dataframe\">\n  <thead>\n    <tr style=\"text-align: right;\">\n      <th></th>\n      <th>one</th>\n      <th>two</th>\n      <th>three</th>\n    </tr>\n  </thead>\n  <tbody>\n    <tr>\n      <th>a</th>\n      <td>-1.360976</td>\n      <td>0.296078</td>\n      <td>0.396949</td>\n    </tr>\n    <tr>\n      <th>c</th>\n      <td>-0.645408</td>\n      <td>-0.470924</td>\n      <td>-1.471645</td>\n    </tr>\n    <tr>\n      <th>e</th>\n      <td>-0.462099</td>\n      <td>-1.103915</td>\n      <td>0.578016</td>\n    </tr>\n    <tr>\n      <th>f</th>\n      <td>-0.239213</td>\n      <td>0.932147</td>\n      <td>-0.705145</td>\n    </tr>\n    <tr>\n      <th>h</th>\n      <td>0.867033</td>\n      <td>1.974435</td>\n      <td>-0.935390</td>\n    </tr>\n  </tbody>\n</table>\n</div>"
     },
     "metadata": {},
     "execution_count": 142
    }
   ],
   "source": [
    "df.dropna()"
   ]
  },
  {
   "cell_type": "code",
   "execution_count": 145,
   "metadata": {},
   "outputs": [
    {
     "output_type": "execute_result",
     "data": {
      "text/plain": "        one       two     three\na -1.360976  0.296078  0.396949\nb       NaN       NaN       NaN\nc -0.645408 -0.470924 -1.471645\nd       NaN       NaN       NaN\ne -0.462099 -1.103915  0.578016\nf -0.239213  0.932147 -0.705145\ng       NaN       NaN       NaN\nh  0.867033  1.974435 -0.935390",
      "text/html": "<div>\n<style scoped>\n    .dataframe tbody tr th:only-of-type {\n        vertical-align: middle;\n    }\n\n    .dataframe tbody tr th {\n        vertical-align: top;\n    }\n\n    .dataframe thead th {\n        text-align: right;\n    }\n</style>\n<table border=\"1\" class=\"dataframe\">\n  <thead>\n    <tr style=\"text-align: right;\">\n      <th></th>\n      <th>one</th>\n      <th>two</th>\n      <th>three</th>\n    </tr>\n  </thead>\n  <tbody>\n    <tr>\n      <th>a</th>\n      <td>-1.360976</td>\n      <td>0.296078</td>\n      <td>0.396949</td>\n    </tr>\n    <tr>\n      <th>b</th>\n      <td>NaN</td>\n      <td>NaN</td>\n      <td>NaN</td>\n    </tr>\n    <tr>\n      <th>c</th>\n      <td>-0.645408</td>\n      <td>-0.470924</td>\n      <td>-1.471645</td>\n    </tr>\n    <tr>\n      <th>d</th>\n      <td>NaN</td>\n      <td>NaN</td>\n      <td>NaN</td>\n    </tr>\n    <tr>\n      <th>e</th>\n      <td>-0.462099</td>\n      <td>-1.103915</td>\n      <td>0.578016</td>\n    </tr>\n    <tr>\n      <th>f</th>\n      <td>-0.239213</td>\n      <td>0.932147</td>\n      <td>-0.705145</td>\n    </tr>\n    <tr>\n      <th>g</th>\n      <td>NaN</td>\n      <td>NaN</td>\n      <td>NaN</td>\n    </tr>\n    <tr>\n      <th>h</th>\n      <td>0.867033</td>\n      <td>1.974435</td>\n      <td>-0.935390</td>\n    </tr>\n  </tbody>\n</table>\n</div>"
     },
     "metadata": {},
     "execution_count": 145
    }
   ],
   "source": [
    "df"
   ]
  },
  {
   "cell_type": "code",
   "execution_count": 150,
   "metadata": {},
   "outputs": [
    {
     "output_type": "execute_result",
     "data": {
      "text/plain": "a    -1.36098\nb         bbb\nc   -0.645408\nd         bbb\ne   -0.462099\nf   -0.239213\ng         bbb\nh    0.867033\nName: one, dtype: object"
     },
     "metadata": {},
     "execution_count": 150
    }
   ],
   "source": [
    "df['one'].fillna('bbb')"
   ]
  },
  {
   "cell_type": "code",
   "execution_count": 154,
   "metadata": {},
   "outputs": [],
   "source": [
    "df['one']=df['one'].fillna(0.3)"
   ]
  },
  {
   "cell_type": "code",
   "execution_count": 155,
   "metadata": {},
   "outputs": [
    {
     "output_type": "execute_result",
     "data": {
      "text/plain": "        one       two     three\na -1.360976  0.296078  0.396949\nb  0.300000       NaN       NaN\nc -0.645408 -0.470924 -1.471645\nd  0.300000       NaN       NaN\ne -0.462099 -1.103915  0.578016\nf -0.239213  0.932147 -0.705145\ng  0.300000       NaN       NaN\nh  0.867033  1.974435 -0.935390",
      "text/html": "<div>\n<style scoped>\n    .dataframe tbody tr th:only-of-type {\n        vertical-align: middle;\n    }\n\n    .dataframe tbody tr th {\n        vertical-align: top;\n    }\n\n    .dataframe thead th {\n        text-align: right;\n    }\n</style>\n<table border=\"1\" class=\"dataframe\">\n  <thead>\n    <tr style=\"text-align: right;\">\n      <th></th>\n      <th>one</th>\n      <th>two</th>\n      <th>three</th>\n    </tr>\n  </thead>\n  <tbody>\n    <tr>\n      <th>a</th>\n      <td>-1.360976</td>\n      <td>0.296078</td>\n      <td>0.396949</td>\n    </tr>\n    <tr>\n      <th>b</th>\n      <td>0.300000</td>\n      <td>NaN</td>\n      <td>NaN</td>\n    </tr>\n    <tr>\n      <th>c</th>\n      <td>-0.645408</td>\n      <td>-0.470924</td>\n      <td>-1.471645</td>\n    </tr>\n    <tr>\n      <th>d</th>\n      <td>0.300000</td>\n      <td>NaN</td>\n      <td>NaN</td>\n    </tr>\n    <tr>\n      <th>e</th>\n      <td>-0.462099</td>\n      <td>-1.103915</td>\n      <td>0.578016</td>\n    </tr>\n    <tr>\n      <th>f</th>\n      <td>-0.239213</td>\n      <td>0.932147</td>\n      <td>-0.705145</td>\n    </tr>\n    <tr>\n      <th>g</th>\n      <td>0.300000</td>\n      <td>NaN</td>\n      <td>NaN</td>\n    </tr>\n    <tr>\n      <th>h</th>\n      <td>0.867033</td>\n      <td>1.974435</td>\n      <td>-0.935390</td>\n    </tr>\n  </tbody>\n</table>\n</div>"
     },
     "metadata": {},
     "execution_count": 155
    }
   ],
   "source": [
    "df"
   ]
  },
  {
   "cell_type": "code",
   "execution_count": 157,
   "metadata": {},
   "outputs": [
    {
     "output_type": "stream",
     "name": "stdout",
     "text": "one       two     three\na -1.360976  0.296078  0.396949\nb  0.300000 -0.470924 -1.471645\nc -0.645408 -0.470924 -1.471645\nd  0.300000 -1.103915  0.578016\ne -0.462099 -1.103915  0.578016\nf -0.239213  0.932147 -0.705145\ng  0.300000  1.974435 -0.935390\nh  0.867033  1.974435 -0.935390\n"
    }
   ],
   "source": [
    "print (df.fillna(method='backfill'))\n"
   ]
  },
  {
   "cell_type": "code",
   "execution_count": 158,
   "metadata": {},
   "outputs": [
    {
     "output_type": "stream",
     "name": "stdout",
     "text": "id       mobile  agent_id  department_id  name nick_name  sex  \\\n0          0  18800000000         1         1162.0  系统用户      系统用户  1.0   \n1          1  18857133137         1          516.0   唐永波        谷鬼  1.0   \n2          2  18667127792         1          516.0   黄巧玲        小虎  1.0   \n3          3  18069445953         1          516.0   袁新梅        书颖  2.0   \n4          4  18768475006         1         3176.0   李向东        智通  1.0   \n...      ...          ...       ...            ...   ...       ...  ...   \n23218  23915  18570660926         1         3202.0    袁静        玄心  2.0   \n23219  23916  13270265789         1          981.0   张后超        南途  1.0   \n23220  23917  15057879397         1         2671.0   柳新伟        根宝  1.0   \n23221  23918  15888283380         1         2258.0   李敏乐        敏叻  1.0   \n23222  23919  17693104145       275          909.0   杨永光      None  NaN   \n\n               id_card_no               email employee_no  ... employee_type  \\\n0                   11111      zabbix@dian.so           0  ...           0.0   \n1      420106198201130417  tangyongbo@dian.so           1  ...           0.0   \n2      331081198801072111      xiaohu@dian.so           2  ...           0.0   \n3      420115198509146243     shuying@dian.so           3  ...           0.0   \n4      411325198003202415     zhitong@dian.so           4  ...           0.0   \n...                   ...                 ...         ...  ...           ...   \n23218  430725199811158060     xuanxin@dian.so       15497  ...           NaN   \n23219  370826199106204039       nantu@dian.so       15496  ...           NaN   \n23220  332529199111147419      genbao@dian.so       15499  ...           NaN   \n23221  330327200008247235       minle@dian.so       15500  ...           NaN   \n23222  622727199703100136                None        None  ...           0.0   \n\n      real_status    beisen_id  work_place_code  city_type  leave_date  \\\n0               0          0.0              NaN        NaN         NaT   \n1               1  127659263.0         330100.0        NaN         NaT   \n2               1  127659258.0         330100.0        NaN         NaT   \n3               1  127659260.0         330100.0        NaN         NaT   \n4               1  129003004.0         330100.0        NaN         NaT   \n...           ...          ...              ...        ...         ...   \n23218           1  143252397.0         430700.0        1.0         NaT   \n23219           1  143257028.0         320300.0        1.0         NaT   \n23220           1  143262229.0         331100.0        2.0         NaT   \n23221           1  143269491.0         330300.0        1.0         NaT   \n23222           1          NaN              NaN        NaN         NaT   \n\n       beisen_leave_date  excellent  pay_salary_date last_work_date  \n0                    NaT        NaN              NaT            NaT  \n1                    NaT        NaN              NaT            NaT  \n2                    NaT        NaN              NaT            NaT  \n3                    NaT        NaN              NaT            NaT  \n4                    NaT        NaN              NaT            NaT  \n...                  ...        ...              ...            ...  \n23218                NaT        NaN              NaT            NaT  \n23219                NaT        NaN              NaT            NaT  \n23220                NaT        NaN              NaT            NaT  \n23221                NaT        NaN              NaT            NaT  \n23222                NaT        NaN              NaT            NaT  \n\n[23223 rows x 38 columns]\n"
    }
   ],
   "source": [
    "import pandas as pd\n",
    "import pymysql\n",
    "db = pymysql.connect('mysql-backup.dian.so','yihui','GMYAvsgzE9fRRC1r','oss_view') # 打开数据库连接\n",
    "user=pd.read_sql(\"select * from agent_employee\",con=db)\n",
    "print(user)\n",
    "db.close()"
   ]
  },
  {
   "cell_type": "code",
   "execution_count": 176,
   "metadata": {},
   "outputs": [
    {
     "output_type": "execute_result",
     "data": {
      "text/plain": "    id name\n1    1  唐永波\n2    2  黄巧玲\n3    3  袁新梅\n4    4  李向东\n5    5   莫笛\n6    6   陈章\n7    7   王泽\n8    8  姜金晶\n9    9  丁玉林\n10  10  蒋程伟",
      "text/html": "<div>\n<style scoped>\n    .dataframe tbody tr th:only-of-type {\n        vertical-align: middle;\n    }\n\n    .dataframe tbody tr th {\n        vertical-align: top;\n    }\n\n    .dataframe thead th {\n        text-align: right;\n    }\n</style>\n<table border=\"1\" class=\"dataframe\">\n  <thead>\n    <tr style=\"text-align: right;\">\n      <th></th>\n      <th>id</th>\n      <th>name</th>\n    </tr>\n  </thead>\n  <tbody>\n    <tr>\n      <th>1</th>\n      <td>1</td>\n      <td>唐永波</td>\n    </tr>\n    <tr>\n      <th>2</th>\n      <td>2</td>\n      <td>黄巧玲</td>\n    </tr>\n    <tr>\n      <th>3</th>\n      <td>3</td>\n      <td>袁新梅</td>\n    </tr>\n    <tr>\n      <th>4</th>\n      <td>4</td>\n      <td>李向东</td>\n    </tr>\n    <tr>\n      <th>5</th>\n      <td>5</td>\n      <td>莫笛</td>\n    </tr>\n    <tr>\n      <th>6</th>\n      <td>6</td>\n      <td>陈章</td>\n    </tr>\n    <tr>\n      <th>7</th>\n      <td>7</td>\n      <td>王泽</td>\n    </tr>\n    <tr>\n      <th>8</th>\n      <td>8</td>\n      <td>姜金晶</td>\n    </tr>\n    <tr>\n      <th>9</th>\n      <td>9</td>\n      <td>丁玉林</td>\n    </tr>\n    <tr>\n      <th>10</th>\n      <td>10</td>\n      <td>蒋程伟</td>\n    </tr>\n  </tbody>\n</table>\n</div>"
     },
     "metadata": {},
     "execution_count": 176
    }
   ],
   "source": [
    "user.loc[1:10,['id','name']]"
   ]
  },
  {
   "cell_type": "code",
   "execution_count": 177,
   "metadata": {},
   "outputs": [],
   "source": [
    "ipl_data = {'Team': ['Riders', 'Riders', 'Devils', 'Devils', 'Kings',\n",
    "         'kings', 'Kings', 'Kings', 'Riders', 'Royals', 'Royals', 'Riders'],\n",
    "         'Rank': [1, 2, 2, 3, 3,4 ,1 ,1,2 , 4,1,2],\n",
    "         'Year': [2014,2015,2014,2015,2014,2015,2016,2017,2016,2014,2015,2017],\n",
    "         'Points':[876,789,863,673,741,812,756,788,694,701,804,690]}\n",
    "df = pd.DataFrame(ipl_data)\n"
   ]
  },
  {
   "cell_type": "code",
   "execution_count": 178,
   "metadata": {},
   "outputs": [
    {
     "output_type": "execute_result",
     "data": {
      "text/plain": "      Team  Rank  Year  Points\n0   Riders     1  2014     876\n1   Riders     2  2015     789\n2   Devils     2  2014     863\n3   Devils     3  2015     673\n4    Kings     3  2014     741\n5    kings     4  2015     812\n6    Kings     1  2016     756\n7    Kings     1  2017     788\n8   Riders     2  2016     694\n9   Royals     4  2014     701\n10  Royals     1  2015     804\n11  Riders     2  2017     690",
      "text/html": "<div>\n<style scoped>\n    .dataframe tbody tr th:only-of-type {\n        vertical-align: middle;\n    }\n\n    .dataframe tbody tr th {\n        vertical-align: top;\n    }\n\n    .dataframe thead th {\n        text-align: right;\n    }\n</style>\n<table border=\"1\" class=\"dataframe\">\n  <thead>\n    <tr style=\"text-align: right;\">\n      <th></th>\n      <th>Team</th>\n      <th>Rank</th>\n      <th>Year</th>\n      <th>Points</th>\n    </tr>\n  </thead>\n  <tbody>\n    <tr>\n      <th>0</th>\n      <td>Riders</td>\n      <td>1</td>\n      <td>2014</td>\n      <td>876</td>\n    </tr>\n    <tr>\n      <th>1</th>\n      <td>Riders</td>\n      <td>2</td>\n      <td>2015</td>\n      <td>789</td>\n    </tr>\n    <tr>\n      <th>2</th>\n      <td>Devils</td>\n      <td>2</td>\n      <td>2014</td>\n      <td>863</td>\n    </tr>\n    <tr>\n      <th>3</th>\n      <td>Devils</td>\n      <td>3</td>\n      <td>2015</td>\n      <td>673</td>\n    </tr>\n    <tr>\n      <th>4</th>\n      <td>Kings</td>\n      <td>3</td>\n      <td>2014</td>\n      <td>741</td>\n    </tr>\n    <tr>\n      <th>5</th>\n      <td>kings</td>\n      <td>4</td>\n      <td>2015</td>\n      <td>812</td>\n    </tr>\n    <tr>\n      <th>6</th>\n      <td>Kings</td>\n      <td>1</td>\n      <td>2016</td>\n      <td>756</td>\n    </tr>\n    <tr>\n      <th>7</th>\n      <td>Kings</td>\n      <td>1</td>\n      <td>2017</td>\n      <td>788</td>\n    </tr>\n    <tr>\n      <th>8</th>\n      <td>Riders</td>\n      <td>2</td>\n      <td>2016</td>\n      <td>694</td>\n    </tr>\n    <tr>\n      <th>9</th>\n      <td>Royals</td>\n      <td>4</td>\n      <td>2014</td>\n      <td>701</td>\n    </tr>\n    <tr>\n      <th>10</th>\n      <td>Royals</td>\n      <td>1</td>\n      <td>2015</td>\n      <td>804</td>\n    </tr>\n    <tr>\n      <th>11</th>\n      <td>Riders</td>\n      <td>2</td>\n      <td>2017</td>\n      <td>690</td>\n    </tr>\n  </tbody>\n</table>\n</div>"
     },
     "metadata": {},
     "execution_count": 178
    }
   ],
   "source": [
    "df"
   ]
  },
  {
   "cell_type": "code",
   "execution_count": 207,
   "metadata": {},
   "outputs": [
    {
     "output_type": "execute_result",
     "data": {
      "text/plain": "{'Devils': Int64Index([2, 3], dtype='int64'),\n 'Kings': Int64Index([4, 6, 7], dtype='int64'),\n 'Riders': Int64Index([0, 1, 8, 11], dtype='int64'),\n 'Royals': Int64Index([9, 10], dtype='int64'),\n 'kings': Int64Index([5], dtype='int64')}"
     },
     "metadata": {},
     "execution_count": 207
    }
   ],
   "source": [
    "a=df.groupby('Team').groups\n",
    "a"
   ]
  },
  {
   "cell_type": "code",
   "execution_count": 218,
   "metadata": {},
   "outputs": [
    {
     "output_type": "execute_result",
     "data": {
      "text/plain": "      Team  Rank  Year  Points\n0   Riders     1  2014     876\n1   Riders     2  2015     789\n2   Devils     2  2014     863\n3   Devils     3  2015     673\n4    Kings     3  2014     741\n5    kings     4  2015     812\n6    Kings     1  2016     756\n7    Kings     1  2017     788\n8   Riders     2  2016     694\n9   Royals     4  2014     701\n10  Royals     1  2015     804\n11  Riders     2  2017     690",
      "text/html": "<div>\n<style scoped>\n    .dataframe tbody tr th:only-of-type {\n        vertical-align: middle;\n    }\n\n    .dataframe tbody tr th {\n        vertical-align: top;\n    }\n\n    .dataframe thead th {\n        text-align: right;\n    }\n</style>\n<table border=\"1\" class=\"dataframe\">\n  <thead>\n    <tr style=\"text-align: right;\">\n      <th></th>\n      <th>Team</th>\n      <th>Rank</th>\n      <th>Year</th>\n      <th>Points</th>\n    </tr>\n  </thead>\n  <tbody>\n    <tr>\n      <th>0</th>\n      <td>Riders</td>\n      <td>1</td>\n      <td>2014</td>\n      <td>876</td>\n    </tr>\n    <tr>\n      <th>1</th>\n      <td>Riders</td>\n      <td>2</td>\n      <td>2015</td>\n      <td>789</td>\n    </tr>\n    <tr>\n      <th>2</th>\n      <td>Devils</td>\n      <td>2</td>\n      <td>2014</td>\n      <td>863</td>\n    </tr>\n    <tr>\n      <th>3</th>\n      <td>Devils</td>\n      <td>3</td>\n      <td>2015</td>\n      <td>673</td>\n    </tr>\n    <tr>\n      <th>4</th>\n      <td>Kings</td>\n      <td>3</td>\n      <td>2014</td>\n      <td>741</td>\n    </tr>\n    <tr>\n      <th>5</th>\n      <td>kings</td>\n      <td>4</td>\n      <td>2015</td>\n      <td>812</td>\n    </tr>\n    <tr>\n      <th>6</th>\n      <td>Kings</td>\n      <td>1</td>\n      <td>2016</td>\n      <td>756</td>\n    </tr>\n    <tr>\n      <th>7</th>\n      <td>Kings</td>\n      <td>1</td>\n      <td>2017</td>\n      <td>788</td>\n    </tr>\n    <tr>\n      <th>8</th>\n      <td>Riders</td>\n      <td>2</td>\n      <td>2016</td>\n      <td>694</td>\n    </tr>\n    <tr>\n      <th>9</th>\n      <td>Royals</td>\n      <td>4</td>\n      <td>2014</td>\n      <td>701</td>\n    </tr>\n    <tr>\n      <th>10</th>\n      <td>Royals</td>\n      <td>1</td>\n      <td>2015</td>\n      <td>804</td>\n    </tr>\n    <tr>\n      <th>11</th>\n      <td>Riders</td>\n      <td>2</td>\n      <td>2017</td>\n      <td>690</td>\n    </tr>\n  </tbody>\n</table>\n</div>"
     },
     "metadata": {},
     "execution_count": 218
    }
   ],
   "source": [
    "ipl_data = {'Team': ['Riders', 'Riders', 'Devils', 'Devils', 'Kings',\n",
    "         'kings', 'Kings', 'Kings', 'Riders', 'Royals', 'Royals', 'Riders'],\n",
    "         'Rank': [1, 2, 2, 3, 3,4 ,1 ,1,2 , 4,1,2],\n",
    "         'Year': [2014,2015,2014,2015,2014,2015,2016,2017,2016,2014,2015,2017],\n",
    "         'Points':[876,789,863,673,741,812,756,788,694,701,804,690]}\n",
    "df = pd.DataFrame(ipl_data)\n",
    "\n",
    "df\n"
   ]
  },
  {
   "cell_type": "code",
   "execution_count": 225,
   "metadata": {},
   "outputs": [
    {
     "output_type": "execute_result",
     "data": {
      "text/plain": "dict"
     },
     "metadata": {},
     "execution_count": 225
    }
   ],
   "source": [
    "a=df.groupby('Year').groups\n",
    "type(a)"
   ]
  },
  {
   "cell_type": "code",
   "execution_count": 226,
   "metadata": {},
   "outputs": [
    {
     "output_type": "execute_result",
     "data": {
      "text/plain": "{2014: Int64Index([0, 2, 4, 9], dtype='int64'),\n 2015: Int64Index([1, 3, 5, 10], dtype='int64'),\n 2016: Int64Index([6, 8], dtype='int64'),\n 2017: Int64Index([7, 11], dtype='int64')}"
     },
     "metadata": {},
     "execution_count": 226
    }
   ],
   "source": [
    "a"
   ]
  },
  {
   "cell_type": "code",
   "execution_count": 228,
   "metadata": {},
   "outputs": [
    {
     "output_type": "execute_result",
     "data": {
      "text/plain": "0    a\n1    b\n2    c\n3    a\ndtype: category\nCategories (3, object): [a, b, c]"
     },
     "metadata": {},
     "execution_count": 228
    }
   ],
   "source": [
    "s = pd.Series([\"a\",\"b\",\"c\",\"a\"], dtype=\"category\")\n",
    "s"
   ]
  },
  {
   "cell_type": "code",
   "execution_count": 232,
   "metadata": {},
   "outputs": [
    {
     "output_type": "execute_result",
     "data": {
      "text/plain": "<matplotlib.axes._subplots.AxesSubplot at 0x125ad0390>"
     },
     "metadata": {},
     "execution_count": 232
    },
    {
     "output_type": "display_data",
     "data": {
      "text/plain": "<Figure size 432x288 with 1 Axes>",
      "image/svg+xml": "<?xml version=\"1.0\" encoding=\"utf-8\" standalone=\"no\"?>\n<!DOCTYPE svg PUBLIC \"-//W3C//DTD SVG 1.1//EN\"\n  \"http://www.w3.org/Graphics/SVG/1.1/DTD/svg11.dtd\">\n<!-- Created with matplotlib (https://matplotlib.org/) -->\n<svg height=\"270.91375pt\" version=\"1.1\" viewBox=\"0 0 377.304687 270.91375\" width=\"377.304687pt\" xmlns=\"http://www.w3.org/2000/svg\" xmlns:xlink=\"http://www.w3.org/1999/xlink\">\n <defs>\n  <style type=\"text/css\">\n*{stroke-linecap:butt;stroke-linejoin:round;}\n  </style>\n </defs>\n <g id=\"figure_1\">\n  <g id=\"patch_1\">\n   <path d=\"M 0 270.91375 \nL 377.304687 270.91375 \nL 377.304687 0 \nL 0 0 \nz\n\" style=\"fill:none;\"/>\n  </g>\n  <g id=\"axes_1\">\n   <g id=\"patch_2\">\n    <path d=\"M 28.942188 224.64 \nL 363.742188 224.64 \nL 363.742188 7.2 \nL 28.942188 7.2 \nz\n\" style=\"fill:#ffffff;\"/>\n   </g>\n   <g id=\"matplotlib.axis_1\">\n    <g id=\"xtick_1\">\n     <g id=\"line2d_1\">\n      <defs>\n       <path d=\"M 0 0 \nL 0 3.5 \n\" id=\"me41844e3a6\" style=\"stroke:#000000;stroke-width:0.8;\"/>\n      </defs>\n      <g>\n       <use style=\"stroke:#000000;stroke-width:0.8;\" x=\"28.942187\" xlink:href=\"#me41844e3a6\" y=\"224.64\"/>\n      </g>\n     </g>\n     <g id=\"text_1\">\n      <!-- 18 -->\n      <defs>\n       <path d=\"M 12.40625 8.296875 \nL 28.515625 8.296875 \nL 28.515625 63.921875 \nL 10.984375 60.40625 \nL 10.984375 69.390625 \nL 28.421875 72.90625 \nL 38.28125 72.90625 \nL 38.28125 8.296875 \nL 54.390625 8.296875 \nL 54.390625 0 \nL 12.40625 0 \nz\n\" id=\"DejaVuSans-49\"/>\n       <path d=\"M 31.78125 34.625 \nQ 24.75 34.625 20.71875 30.859375 \nQ 16.703125 27.09375 16.703125 20.515625 \nQ 16.703125 13.921875 20.71875 10.15625 \nQ 24.75 6.390625 31.78125 6.390625 \nQ 38.8125 6.390625 42.859375 10.171875 \nQ 46.921875 13.96875 46.921875 20.515625 \nQ 46.921875 27.09375 42.890625 30.859375 \nQ 38.875 34.625 31.78125 34.625 \nz\nM 21.921875 38.8125 \nQ 15.578125 40.375 12.03125 44.71875 \nQ 8.5 49.078125 8.5 55.328125 \nQ 8.5 64.0625 14.71875 69.140625 \nQ 20.953125 74.21875 31.78125 74.21875 \nQ 42.671875 74.21875 48.875 69.140625 \nQ 55.078125 64.0625 55.078125 55.328125 \nQ 55.078125 49.078125 51.53125 44.71875 \nQ 48 40.375 41.703125 38.8125 \nQ 48.828125 37.15625 52.796875 32.3125 \nQ 56.78125 27.484375 56.78125 20.515625 \nQ 56.78125 9.90625 50.3125 4.234375 \nQ 43.84375 -1.421875 31.78125 -1.421875 \nQ 19.734375 -1.421875 13.25 4.234375 \nQ 6.78125 9.90625 6.78125 20.515625 \nQ 6.78125 27.484375 10.78125 32.3125 \nQ 14.796875 37.15625 21.921875 38.8125 \nz\nM 18.3125 54.390625 \nQ 18.3125 48.734375 21.84375 45.5625 \nQ 25.390625 42.390625 31.78125 42.390625 \nQ 38.140625 42.390625 41.71875 45.5625 \nQ 45.3125 48.734375 45.3125 54.390625 \nQ 45.3125 60.0625 41.71875 63.234375 \nQ 38.140625 66.40625 31.78125 66.40625 \nQ 25.390625 66.40625 21.84375 63.234375 \nQ 18.3125 60.0625 18.3125 54.390625 \nz\n\" id=\"DejaVuSans-56\"/>\n      </defs>\n      <g transform=\"translate(22.579687 239.238438)scale(0.1 -0.1)\">\n       <use xlink:href=\"#DejaVuSans-49\"/>\n       <use x=\"63.623047\" xlink:href=\"#DejaVuSans-56\"/>\n      </g>\n      <!-- Dec -->\n      <defs>\n       <path d=\"M 19.671875 64.796875 \nL 19.671875 8.109375 \nL 31.59375 8.109375 \nQ 46.6875 8.109375 53.6875 14.9375 \nQ 60.6875 21.78125 60.6875 36.53125 \nQ 60.6875 51.171875 53.6875 57.984375 \nQ 46.6875 64.796875 31.59375 64.796875 \nz\nM 9.8125 72.90625 \nL 30.078125 72.90625 \nQ 51.265625 72.90625 61.171875 64.09375 \nQ 71.09375 55.28125 71.09375 36.53125 \nQ 71.09375 17.671875 61.125 8.828125 \nQ 51.171875 0 30.078125 0 \nL 9.8125 0 \nz\n\" id=\"DejaVuSans-68\"/>\n       <path d=\"M 56.203125 29.59375 \nL 56.203125 25.203125 \nL 14.890625 25.203125 \nQ 15.484375 15.921875 20.484375 11.0625 \nQ 25.484375 6.203125 34.421875 6.203125 \nQ 39.59375 6.203125 44.453125 7.46875 \nQ 49.3125 8.734375 54.109375 11.28125 \nL 54.109375 2.78125 \nQ 49.265625 0.734375 44.1875 -0.34375 \nQ 39.109375 -1.421875 33.890625 -1.421875 \nQ 20.796875 -1.421875 13.15625 6.1875 \nQ 5.515625 13.8125 5.515625 26.8125 \nQ 5.515625 40.234375 12.765625 48.109375 \nQ 20.015625 56 32.328125 56 \nQ 43.359375 56 49.78125 48.890625 \nQ 56.203125 41.796875 56.203125 29.59375 \nz\nM 47.21875 32.234375 \nQ 47.125 39.59375 43.09375 43.984375 \nQ 39.0625 48.390625 32.421875 48.390625 \nQ 24.90625 48.390625 20.390625 44.140625 \nQ 15.875 39.890625 15.1875 32.171875 \nz\n\" id=\"DejaVuSans-101\"/>\n       <path d=\"M 48.78125 52.59375 \nL 48.78125 44.1875 \nQ 44.96875 46.296875 41.140625 47.34375 \nQ 37.3125 48.390625 33.40625 48.390625 \nQ 24.65625 48.390625 19.8125 42.84375 \nQ 14.984375 37.3125 14.984375 27.296875 \nQ 14.984375 17.28125 19.8125 11.734375 \nQ 24.65625 6.203125 33.40625 6.203125 \nQ 37.3125 6.203125 41.140625 7.25 \nQ 44.96875 8.296875 48.78125 10.40625 \nL 48.78125 2.09375 \nQ 45.015625 0.34375 40.984375 -0.53125 \nQ 36.96875 -1.421875 32.421875 -1.421875 \nQ 20.0625 -1.421875 12.78125 6.34375 \nQ 5.515625 14.109375 5.515625 27.296875 \nQ 5.515625 40.671875 12.859375 48.328125 \nQ 20.21875 56 33.015625 56 \nQ 37.15625 56 41.109375 55.140625 \nQ 45.0625 54.296875 48.78125 52.59375 \nz\n\" id=\"DejaVuSans-99\"/>\n      </defs>\n      <g transform=\"translate(19.266406 250.43625)scale(0.1 -0.1)\">\n       <use xlink:href=\"#DejaVuSans-68\"/>\n       <use x=\"77.001953\" xlink:href=\"#DejaVuSans-101\"/>\n       <use x=\"138.525391\" xlink:href=\"#DejaVuSans-99\"/>\n      </g>\n      <!-- 2018 -->\n      <defs>\n       <path d=\"M 19.1875 8.296875 \nL 53.609375 8.296875 \nL 53.609375 0 \nL 7.328125 0 \nL 7.328125 8.296875 \nQ 12.9375 14.109375 22.625 23.890625 \nQ 32.328125 33.6875 34.8125 36.53125 \nQ 39.546875 41.84375 41.421875 45.53125 \nQ 43.3125 49.21875 43.3125 52.78125 \nQ 43.3125 58.59375 39.234375 62.25 \nQ 35.15625 65.921875 28.609375 65.921875 \nQ 23.96875 65.921875 18.8125 64.3125 \nQ 13.671875 62.703125 7.8125 59.421875 \nL 7.8125 69.390625 \nQ 13.765625 71.78125 18.9375 73 \nQ 24.125 74.21875 28.421875 74.21875 \nQ 39.75 74.21875 46.484375 68.546875 \nQ 53.21875 62.890625 53.21875 53.421875 \nQ 53.21875 48.921875 51.53125 44.890625 \nQ 49.859375 40.875 45.40625 35.40625 \nQ 44.1875 33.984375 37.640625 27.21875 \nQ 31.109375 20.453125 19.1875 8.296875 \nz\n\" id=\"DejaVuSans-50\"/>\n       <path d=\"M 31.78125 66.40625 \nQ 24.171875 66.40625 20.328125 58.90625 \nQ 16.5 51.421875 16.5 36.375 \nQ 16.5 21.390625 20.328125 13.890625 \nQ 24.171875 6.390625 31.78125 6.390625 \nQ 39.453125 6.390625 43.28125 13.890625 \nQ 47.125 21.390625 47.125 36.375 \nQ 47.125 51.421875 43.28125 58.90625 \nQ 39.453125 66.40625 31.78125 66.40625 \nz\nM 31.78125 74.21875 \nQ 44.046875 74.21875 50.515625 64.515625 \nQ 56.984375 54.828125 56.984375 36.375 \nQ 56.984375 17.96875 50.515625 8.265625 \nQ 44.046875 -1.421875 31.78125 -1.421875 \nQ 19.53125 -1.421875 13.0625 8.265625 \nQ 6.59375 17.96875 6.59375 36.375 \nQ 6.59375 54.828125 13.0625 64.515625 \nQ 19.53125 74.21875 31.78125 74.21875 \nz\n\" id=\"DejaVuSans-48\"/>\n      </defs>\n      <g transform=\"translate(16.217187 261.634062)scale(0.1 -0.1)\">\n       <use xlink:href=\"#DejaVuSans-50\"/>\n       <use x=\"63.623047\" xlink:href=\"#DejaVuSans-48\"/>\n       <use x=\"127.246094\" xlink:href=\"#DejaVuSans-49\"/>\n       <use x=\"190.869141\" xlink:href=\"#DejaVuSans-56\"/>\n      </g>\n     </g>\n    </g>\n    <g id=\"xtick_2\">\n     <g id=\"line2d_2\">\n      <g>\n       <use style=\"stroke:#000000;stroke-width:0.8;\" x=\"363.742187\" xlink:href=\"#me41844e3a6\" y=\"224.64\"/>\n      </g>\n     </g>\n     <g id=\"text_2\">\n      <!-- 27 -->\n      <defs>\n       <path d=\"M 8.203125 72.90625 \nL 55.078125 72.90625 \nL 55.078125 68.703125 \nL 28.609375 0 \nL 18.3125 0 \nL 43.21875 64.59375 \nL 8.203125 64.59375 \nz\n\" id=\"DejaVuSans-55\"/>\n      </defs>\n      <g transform=\"translate(357.379687 239.238438)scale(0.1 -0.1)\">\n       <use xlink:href=\"#DejaVuSans-50\"/>\n       <use x=\"63.623047\" xlink:href=\"#DejaVuSans-55\"/>\n      </g>\n     </g>\n    </g>\n    <g id=\"xtick_3\">\n     <g id=\"line2d_3\">\n      <defs>\n       <path d=\"M 0 0 \nL 0 2 \n\" id=\"m43235e957b\" style=\"stroke:#000000;stroke-width:0.6;\"/>\n      </defs>\n      <g>\n       <use style=\"stroke:#000000;stroke-width:0.6;\" x=\"66.142187\" xlink:href=\"#m43235e957b\" y=\"224.64\"/>\n      </g>\n     </g>\n     <g id=\"text_3\">\n      <!-- 19 -->\n      <defs>\n       <path d=\"M 10.984375 1.515625 \nL 10.984375 10.5 \nQ 14.703125 8.734375 18.5 7.8125 \nQ 22.3125 6.890625 25.984375 6.890625 \nQ 35.75 6.890625 40.890625 13.453125 \nQ 46.046875 20.015625 46.78125 33.40625 \nQ 43.953125 29.203125 39.59375 26.953125 \nQ 35.25 24.703125 29.984375 24.703125 \nQ 19.046875 24.703125 12.671875 31.3125 \nQ 6.296875 37.9375 6.296875 49.421875 \nQ 6.296875 60.640625 12.9375 67.421875 \nQ 19.578125 74.21875 30.609375 74.21875 \nQ 43.265625 74.21875 49.921875 64.515625 \nQ 56.59375 54.828125 56.59375 36.375 \nQ 56.59375 19.140625 48.40625 8.859375 \nQ 40.234375 -1.421875 26.421875 -1.421875 \nQ 22.703125 -1.421875 18.890625 -0.6875 \nQ 15.09375 0.046875 10.984375 1.515625 \nz\nM 30.609375 32.421875 \nQ 37.25 32.421875 41.125 36.953125 \nQ 45.015625 41.5 45.015625 49.421875 \nQ 45.015625 57.28125 41.125 61.84375 \nQ 37.25 66.40625 30.609375 66.40625 \nQ 23.96875 66.40625 20.09375 61.84375 \nQ 16.21875 57.28125 16.21875 49.421875 \nQ 16.21875 41.5 20.09375 36.953125 \nQ 23.96875 32.421875 30.609375 32.421875 \nz\n\" id=\"DejaVuSans-57\"/>\n      </defs>\n      <g transform=\"translate(59.779687 237.638438)scale(0.1 -0.1)\">\n       <use xlink:href=\"#DejaVuSans-49\"/>\n       <use x=\"63.623047\" xlink:href=\"#DejaVuSans-57\"/>\n      </g>\n     </g>\n    </g>\n    <g id=\"xtick_4\">\n     <g id=\"line2d_4\">\n      <g>\n       <use style=\"stroke:#000000;stroke-width:0.6;\" x=\"103.342187\" xlink:href=\"#m43235e957b\" y=\"224.64\"/>\n      </g>\n     </g>\n     <g id=\"text_4\">\n      <!-- 20 -->\n      <g transform=\"translate(96.979687 237.638438)scale(0.1 -0.1)\">\n       <use xlink:href=\"#DejaVuSans-50\"/>\n       <use x=\"63.623047\" xlink:href=\"#DejaVuSans-48\"/>\n      </g>\n     </g>\n    </g>\n    <g id=\"xtick_5\">\n     <g id=\"line2d_5\">\n      <g>\n       <use style=\"stroke:#000000;stroke-width:0.6;\" x=\"140.542187\" xlink:href=\"#m43235e957b\" y=\"224.64\"/>\n      </g>\n     </g>\n     <g id=\"text_5\">\n      <!-- 21 -->\n      <g transform=\"translate(134.179687 237.638438)scale(0.1 -0.1)\">\n       <use xlink:href=\"#DejaVuSans-50\"/>\n       <use x=\"63.623047\" xlink:href=\"#DejaVuSans-49\"/>\n      </g>\n     </g>\n    </g>\n    <g id=\"xtick_6\">\n     <g id=\"line2d_6\">\n      <g>\n       <use style=\"stroke:#000000;stroke-width:0.6;\" x=\"177.742187\" xlink:href=\"#m43235e957b\" y=\"224.64\"/>\n      </g>\n     </g>\n     <g id=\"text_6\">\n      <!-- 22 -->\n      <g transform=\"translate(171.379687 237.638438)scale(0.1 -0.1)\">\n       <use xlink:href=\"#DejaVuSans-50\"/>\n       <use x=\"63.623047\" xlink:href=\"#DejaVuSans-50\"/>\n      </g>\n     </g>\n    </g>\n    <g id=\"xtick_7\">\n     <g id=\"line2d_7\">\n      <g>\n       <use style=\"stroke:#000000;stroke-width:0.6;\" x=\"214.942187\" xlink:href=\"#m43235e957b\" y=\"224.64\"/>\n      </g>\n     </g>\n     <g id=\"text_7\">\n      <!-- 23 -->\n      <defs>\n       <path d=\"M 40.578125 39.3125 \nQ 47.65625 37.796875 51.625 33 \nQ 55.609375 28.21875 55.609375 21.1875 \nQ 55.609375 10.40625 48.1875 4.484375 \nQ 40.765625 -1.421875 27.09375 -1.421875 \nQ 22.515625 -1.421875 17.65625 -0.515625 \nQ 12.796875 0.390625 7.625 2.203125 \nL 7.625 11.71875 \nQ 11.71875 9.328125 16.59375 8.109375 \nQ 21.484375 6.890625 26.8125 6.890625 \nQ 36.078125 6.890625 40.9375 10.546875 \nQ 45.796875 14.203125 45.796875 21.1875 \nQ 45.796875 27.640625 41.28125 31.265625 \nQ 36.765625 34.90625 28.71875 34.90625 \nL 20.21875 34.90625 \nL 20.21875 43.015625 \nL 29.109375 43.015625 \nQ 36.375 43.015625 40.234375 45.921875 \nQ 44.09375 48.828125 44.09375 54.296875 \nQ 44.09375 59.90625 40.109375 62.90625 \nQ 36.140625 65.921875 28.71875 65.921875 \nQ 24.65625 65.921875 20.015625 65.03125 \nQ 15.375 64.15625 9.8125 62.3125 \nL 9.8125 71.09375 \nQ 15.4375 72.65625 20.34375 73.4375 \nQ 25.25 74.21875 29.59375 74.21875 \nQ 40.828125 74.21875 47.359375 69.109375 \nQ 53.90625 64.015625 53.90625 55.328125 \nQ 53.90625 49.265625 50.4375 45.09375 \nQ 46.96875 40.921875 40.578125 39.3125 \nz\n\" id=\"DejaVuSans-51\"/>\n      </defs>\n      <g transform=\"translate(208.579687 237.638438)scale(0.1 -0.1)\">\n       <use xlink:href=\"#DejaVuSans-50\"/>\n       <use x=\"63.623047\" xlink:href=\"#DejaVuSans-51\"/>\n      </g>\n     </g>\n    </g>\n    <g id=\"xtick_8\">\n     <g id=\"line2d_8\">\n      <g>\n       <use style=\"stroke:#000000;stroke-width:0.6;\" x=\"252.142187\" xlink:href=\"#m43235e957b\" y=\"224.64\"/>\n      </g>\n     </g>\n     <g id=\"text_8\">\n      <!-- 24 -->\n      <defs>\n       <path d=\"M 37.796875 64.3125 \nL 12.890625 25.390625 \nL 37.796875 25.390625 \nz\nM 35.203125 72.90625 \nL 47.609375 72.90625 \nL 47.609375 25.390625 \nL 58.015625 25.390625 \nL 58.015625 17.1875 \nL 47.609375 17.1875 \nL 47.609375 0 \nL 37.796875 0 \nL 37.796875 17.1875 \nL 4.890625 17.1875 \nL 4.890625 26.703125 \nz\n\" id=\"DejaVuSans-52\"/>\n      </defs>\n      <g transform=\"translate(245.779687 237.638438)scale(0.1 -0.1)\">\n       <use xlink:href=\"#DejaVuSans-50\"/>\n       <use x=\"63.623047\" xlink:href=\"#DejaVuSans-52\"/>\n      </g>\n     </g>\n    </g>\n    <g id=\"xtick_9\">\n     <g id=\"line2d_9\">\n      <g>\n       <use style=\"stroke:#000000;stroke-width:0.6;\" x=\"289.342187\" xlink:href=\"#m43235e957b\" y=\"224.64\"/>\n      </g>\n     </g>\n     <g id=\"text_9\">\n      <!-- 25 -->\n      <defs>\n       <path d=\"M 10.796875 72.90625 \nL 49.515625 72.90625 \nL 49.515625 64.59375 \nL 19.828125 64.59375 \nL 19.828125 46.734375 \nQ 21.96875 47.46875 24.109375 47.828125 \nQ 26.265625 48.1875 28.421875 48.1875 \nQ 40.625 48.1875 47.75 41.5 \nQ 54.890625 34.8125 54.890625 23.390625 \nQ 54.890625 11.625 47.5625 5.09375 \nQ 40.234375 -1.421875 26.90625 -1.421875 \nQ 22.3125 -1.421875 17.546875 -0.640625 \nQ 12.796875 0.140625 7.71875 1.703125 \nL 7.71875 11.625 \nQ 12.109375 9.234375 16.796875 8.0625 \nQ 21.484375 6.890625 26.703125 6.890625 \nQ 35.15625 6.890625 40.078125 11.328125 \nQ 45.015625 15.765625 45.015625 23.390625 \nQ 45.015625 31 40.078125 35.4375 \nQ 35.15625 39.890625 26.703125 39.890625 \nQ 22.75 39.890625 18.8125 39.015625 \nQ 14.890625 38.140625 10.796875 36.28125 \nz\n\" id=\"DejaVuSans-53\"/>\n      </defs>\n      <g transform=\"translate(282.979687 237.638438)scale(0.1 -0.1)\">\n       <use xlink:href=\"#DejaVuSans-50\"/>\n       <use x=\"63.623047\" xlink:href=\"#DejaVuSans-53\"/>\n      </g>\n     </g>\n    </g>\n    <g id=\"xtick_10\">\n     <g id=\"line2d_10\">\n      <g>\n       <use style=\"stroke:#000000;stroke-width:0.6;\" x=\"326.542187\" xlink:href=\"#m43235e957b\" y=\"224.64\"/>\n      </g>\n     </g>\n     <g id=\"text_10\">\n      <!-- 26 -->\n      <defs>\n       <path d=\"M 33.015625 40.375 \nQ 26.375 40.375 22.484375 35.828125 \nQ 18.609375 31.296875 18.609375 23.390625 \nQ 18.609375 15.53125 22.484375 10.953125 \nQ 26.375 6.390625 33.015625 6.390625 \nQ 39.65625 6.390625 43.53125 10.953125 \nQ 47.40625 15.53125 47.40625 23.390625 \nQ 47.40625 31.296875 43.53125 35.828125 \nQ 39.65625 40.375 33.015625 40.375 \nz\nM 52.59375 71.296875 \nL 52.59375 62.3125 \nQ 48.875 64.0625 45.09375 64.984375 \nQ 41.3125 65.921875 37.59375 65.921875 \nQ 27.828125 65.921875 22.671875 59.328125 \nQ 17.53125 52.734375 16.796875 39.40625 \nQ 19.671875 43.65625 24.015625 45.921875 \nQ 28.375 48.1875 33.59375 48.1875 \nQ 44.578125 48.1875 50.953125 41.515625 \nQ 57.328125 34.859375 57.328125 23.390625 \nQ 57.328125 12.15625 50.6875 5.359375 \nQ 44.046875 -1.421875 33.015625 -1.421875 \nQ 20.359375 -1.421875 13.671875 8.265625 \nQ 6.984375 17.96875 6.984375 36.375 \nQ 6.984375 53.65625 15.1875 63.9375 \nQ 23.390625 74.21875 37.203125 74.21875 \nQ 40.921875 74.21875 44.703125 73.484375 \nQ 48.484375 72.75 52.59375 71.296875 \nz\n\" id=\"DejaVuSans-54\"/>\n      </defs>\n      <g transform=\"translate(320.179687 237.638438)scale(0.1 -0.1)\">\n       <use xlink:href=\"#DejaVuSans-50\"/>\n       <use x=\"63.623047\" xlink:href=\"#DejaVuSans-54\"/>\n      </g>\n     </g>\n    </g>\n   </g>\n   <g id=\"matplotlib.axis_2\">\n    <g id=\"ytick_1\">\n     <g id=\"line2d_11\">\n      <defs>\n       <path d=\"M 0 0 \nL -3.5 0 \n\" id=\"mbc55010cb0\" style=\"stroke:#000000;stroke-width:0.8;\"/>\n      </defs>\n      <g>\n       <use style=\"stroke:#000000;stroke-width:0.8;\" x=\"28.942188\" xlink:href=\"#mbc55010cb0\" y=\"217.209399\"/>\n      </g>\n     </g>\n     <g id=\"text_11\">\n      <!-- −2 -->\n      <defs>\n       <path d=\"M 10.59375 35.5 \nL 73.1875 35.5 \nL 73.1875 27.203125 \nL 10.59375 27.203125 \nz\n\" id=\"DejaVuSans-8722\"/>\n      </defs>\n      <g transform=\"translate(7.2 221.008618)scale(0.1 -0.1)\">\n       <use xlink:href=\"#DejaVuSans-8722\"/>\n       <use x=\"83.789062\" xlink:href=\"#DejaVuSans-50\"/>\n      </g>\n     </g>\n    </g>\n    <g id=\"ytick_2\">\n     <g id=\"line2d_12\">\n      <g>\n       <use style=\"stroke:#000000;stroke-width:0.8;\" x=\"28.942188\" xlink:href=\"#mbc55010cb0\" y=\"175.010347\"/>\n      </g>\n     </g>\n     <g id=\"text_12\">\n      <!-- −1 -->\n      <g transform=\"translate(7.2 178.809566)scale(0.1 -0.1)\">\n       <use xlink:href=\"#DejaVuSans-8722\"/>\n       <use x=\"83.789062\" xlink:href=\"#DejaVuSans-49\"/>\n      </g>\n     </g>\n    </g>\n    <g id=\"ytick_3\">\n     <g id=\"line2d_13\">\n      <g>\n       <use style=\"stroke:#000000;stroke-width:0.8;\" x=\"28.942188\" xlink:href=\"#mbc55010cb0\" y=\"132.811296\"/>\n      </g>\n     </g>\n     <g id=\"text_13\">\n      <!-- 0 -->\n      <g transform=\"translate(15.579688 136.610514)scale(0.1 -0.1)\">\n       <use xlink:href=\"#DejaVuSans-48\"/>\n      </g>\n     </g>\n    </g>\n    <g id=\"ytick_4\">\n     <g id=\"line2d_14\">\n      <g>\n       <use style=\"stroke:#000000;stroke-width:0.8;\" x=\"28.942188\" xlink:href=\"#mbc55010cb0\" y=\"90.612244\"/>\n      </g>\n     </g>\n     <g id=\"text_14\">\n      <!-- 1 -->\n      <g transform=\"translate(15.579688 94.411462)scale(0.1 -0.1)\">\n       <use xlink:href=\"#DejaVuSans-49\"/>\n      </g>\n     </g>\n    </g>\n    <g id=\"ytick_5\">\n     <g id=\"line2d_15\">\n      <g>\n       <use style=\"stroke:#000000;stroke-width:0.8;\" x=\"28.942188\" xlink:href=\"#mbc55010cb0\" y=\"48.413192\"/>\n      </g>\n     </g>\n     <g id=\"text_15\">\n      <!-- 2 -->\n      <g transform=\"translate(15.579688 52.21241)scale(0.1 -0.1)\">\n       <use xlink:href=\"#DejaVuSans-50\"/>\n      </g>\n     </g>\n    </g>\n   </g>\n   <g id=\"line2d_16\">\n    <path clip-path=\"url(#p0df5cbd4ea)\" d=\"M 28.942187 157.08678 \nL 66.142187 89.657134 \nL 103.342187 172.65902 \nL 140.542187 143.650621 \nL 177.742187 148.188335 \nL 214.942187 136.978337 \nL 252.142187 139.099858 \nL 289.342187 139.104294 \nL 326.542187 132.143309 \nL 363.742187 100.747332 \n\" style=\"fill:none;stroke:#1f77b4;stroke-linecap:square;stroke-width:1.5;\"/>\n   </g>\n   <g id=\"line2d_17\">\n    <path clip-path=\"url(#p0df5cbd4ea)\" d=\"M 28.942187 101.873353 \nL 66.142187 108.965171 \nL 103.342187 214.756364 \nL 140.542187 137.690094 \nL 177.742187 105.210704 \nL 214.942187 63.303032 \nL 252.142187 30.707492 \nL 289.342187 118.971856 \nL 326.542187 157.131238 \nL 363.742187 17.083636 \n\" style=\"fill:none;stroke:#ff7f0e;stroke-linecap:square;stroke-width:1.5;\"/>\n   </g>\n   <g id=\"line2d_18\">\n    <path clip-path=\"url(#p0df5cbd4ea)\" d=\"M 28.942187 151.099427 \nL 66.142187 116.665764 \nL 103.342187 149.262982 \nL 140.542187 116.980109 \nL 177.742187 77.617954 \nL 214.942187 142.001406 \nL 252.142187 130.248831 \nL 289.342187 51.265303 \nL 326.542187 121.474811 \nL 363.742187 120.879562 \n\" style=\"fill:none;stroke:#2ca02c;stroke-linecap:square;stroke-width:1.5;\"/>\n   </g>\n   <g id=\"line2d_19\">\n    <path clip-path=\"url(#p0df5cbd4ea)\" d=\"M 28.942187 134.300245 \nL 66.142187 159.818739 \nL 103.342187 121.904799 \nL 140.542187 159.313458 \nL 177.742187 132.893378 \nL 214.942187 75.499432 \nL 252.142187 126.604459 \nL 289.342187 213.988798 \nL 326.542187 142.221577 \nL 363.742187 127.255896 \n\" style=\"fill:none;stroke:#d62728;stroke-linecap:square;stroke-width:1.5;\"/>\n   </g>\n   <g id=\"patch_3\">\n    <path d=\"M 28.942188 224.64 \nL 28.942188 7.2 \n\" style=\"fill:none;stroke:#000000;stroke-linecap:square;stroke-linejoin:miter;stroke-width:0.8;\"/>\n   </g>\n   <g id=\"patch_4\">\n    <path d=\"M 363.742188 224.64 \nL 363.742188 7.2 \n\" style=\"fill:none;stroke:#000000;stroke-linecap:square;stroke-linejoin:miter;stroke-width:0.8;\"/>\n   </g>\n   <g id=\"patch_5\">\n    <path d=\"M 28.942187 224.64 \nL 363.742187 224.64 \n\" style=\"fill:none;stroke:#000000;stroke-linecap:square;stroke-linejoin:miter;stroke-width:0.8;\"/>\n   </g>\n   <g id=\"patch_6\">\n    <path d=\"M 28.942187 7.2 \nL 363.742187 7.2 \n\" style=\"fill:none;stroke:#000000;stroke-linecap:square;stroke-linejoin:miter;stroke-width:0.8;\"/>\n   </g>\n   <g id=\"legend_1\">\n    <g id=\"patch_7\">\n     <path d=\"M 35.942188 73.9125 \nL 75.642188 73.9125 \nQ 77.642188 73.9125 77.642188 71.9125 \nL 77.642188 14.2 \nQ 77.642188 12.2 75.642188 12.2 \nL 35.942188 12.2 \nQ 33.942188 12.2 33.942188 14.2 \nL 33.942188 71.9125 \nQ 33.942188 73.9125 35.942188 73.9125 \nz\n\" style=\"fill:#ffffff;opacity:0.8;stroke:#cccccc;stroke-linejoin:miter;\"/>\n    </g>\n    <g id=\"line2d_20\">\n     <path d=\"M 37.942188 20.298437 \nL 57.942188 20.298437 \n\" style=\"fill:none;stroke:#1f77b4;stroke-linecap:square;stroke-width:1.5;\"/>\n    </g>\n    <g id=\"line2d_21\"/>\n    <g id=\"text_16\">\n     <!-- A -->\n     <defs>\n      <path d=\"M 34.1875 63.1875 \nL 20.796875 26.90625 \nL 47.609375 26.90625 \nz\nM 28.609375 72.90625 \nL 39.796875 72.90625 \nL 67.578125 0 \nL 57.328125 0 \nL 50.6875 18.703125 \nL 17.828125 18.703125 \nL 11.1875 0 \nL 0.78125 0 \nz\n\" id=\"DejaVuSans-65\"/>\n     </defs>\n     <g transform=\"translate(65.942188 23.798437)scale(0.1 -0.1)\">\n      <use xlink:href=\"#DejaVuSans-65\"/>\n     </g>\n    </g>\n    <g id=\"line2d_22\">\n     <path d=\"M 37.942188 34.976562 \nL 57.942188 34.976562 \n\" style=\"fill:none;stroke:#ff7f0e;stroke-linecap:square;stroke-width:1.5;\"/>\n    </g>\n    <g id=\"line2d_23\"/>\n    <g id=\"text_17\">\n     <!-- B -->\n     <defs>\n      <path d=\"M 19.671875 34.8125 \nL 19.671875 8.109375 \nL 35.5 8.109375 \nQ 43.453125 8.109375 47.28125 11.40625 \nQ 51.125 14.703125 51.125 21.484375 \nQ 51.125 28.328125 47.28125 31.5625 \nQ 43.453125 34.8125 35.5 34.8125 \nz\nM 19.671875 64.796875 \nL 19.671875 42.828125 \nL 34.28125 42.828125 \nQ 41.5 42.828125 45.03125 45.53125 \nQ 48.578125 48.25 48.578125 53.8125 \nQ 48.578125 59.328125 45.03125 62.0625 \nQ 41.5 64.796875 34.28125 64.796875 \nz\nM 9.8125 72.90625 \nL 35.015625 72.90625 \nQ 46.296875 72.90625 52.390625 68.21875 \nQ 58.5 63.53125 58.5 54.890625 \nQ 58.5 48.1875 55.375 44.234375 \nQ 52.25 40.28125 46.1875 39.3125 \nQ 53.46875 37.75 57.5 32.78125 \nQ 61.53125 27.828125 61.53125 20.40625 \nQ 61.53125 10.640625 54.890625 5.3125 \nQ 48.25 0 35.984375 0 \nL 9.8125 0 \nz\n\" id=\"DejaVuSans-66\"/>\n     </defs>\n     <g transform=\"translate(65.942188 38.476562)scale(0.1 -0.1)\">\n      <use xlink:href=\"#DejaVuSans-66\"/>\n     </g>\n    </g>\n    <g id=\"line2d_24\">\n     <path d=\"M 37.942188 49.654687 \nL 57.942188 49.654687 \n\" style=\"fill:none;stroke:#2ca02c;stroke-linecap:square;stroke-width:1.5;\"/>\n    </g>\n    <g id=\"line2d_25\"/>\n    <g id=\"text_18\">\n     <!-- C -->\n     <defs>\n      <path d=\"M 64.40625 67.28125 \nL 64.40625 56.890625 \nQ 59.421875 61.53125 53.78125 63.8125 \nQ 48.140625 66.109375 41.796875 66.109375 \nQ 29.296875 66.109375 22.65625 58.46875 \nQ 16.015625 50.828125 16.015625 36.375 \nQ 16.015625 21.96875 22.65625 14.328125 \nQ 29.296875 6.6875 41.796875 6.6875 \nQ 48.140625 6.6875 53.78125 8.984375 \nQ 59.421875 11.28125 64.40625 15.921875 \nL 64.40625 5.609375 \nQ 59.234375 2.09375 53.4375 0.328125 \nQ 47.65625 -1.421875 41.21875 -1.421875 \nQ 24.65625 -1.421875 15.125 8.703125 \nQ 5.609375 18.84375 5.609375 36.375 \nQ 5.609375 53.953125 15.125 64.078125 \nQ 24.65625 74.21875 41.21875 74.21875 \nQ 47.75 74.21875 53.53125 72.484375 \nQ 59.328125 70.75 64.40625 67.28125 \nz\n\" id=\"DejaVuSans-67\"/>\n     </defs>\n     <g transform=\"translate(65.942188 53.154687)scale(0.1 -0.1)\">\n      <use xlink:href=\"#DejaVuSans-67\"/>\n     </g>\n    </g>\n    <g id=\"line2d_26\">\n     <path d=\"M 37.942188 64.332812 \nL 57.942188 64.332812 \n\" style=\"fill:none;stroke:#d62728;stroke-linecap:square;stroke-width:1.5;\"/>\n    </g>\n    <g id=\"line2d_27\"/>\n    <g id=\"text_19\">\n     <!-- D -->\n     <g transform=\"translate(65.942188 67.832812)scale(0.1 -0.1)\">\n      <use xlink:href=\"#DejaVuSans-68\"/>\n     </g>\n    </g>\n   </g>\n  </g>\n </g>\n <defs>\n  <clipPath id=\"p0df5cbd4ea\">\n   <rect height=\"217.44\" width=\"334.8\" x=\"28.942188\" y=\"7.2\"/>\n  </clipPath>\n </defs>\n</svg>\n",
      "image/png": "[encoded data removed]"
     },
     "metadata": {
      "needs_background": "light"
     }
    }
   ],
   "source": [
    "df = pd.DataFrame(np.random.randn(10,4),index=pd.date_range('2018/12/18',periods=10), columns=list('ABCD'))\n",
    "df.plot()"
   ]
  },
  {
   "cell_type": "code",
   "execution_count": 233,
   "metadata": {},
   "outputs": [
    {
     "output_type": "execute_result",
     "data": {
      "text/plain": "<matplotlib.axes._subplots.AxesSubplot at 0x128109890>"
     },
     "metadata": {},
     "execution_count": 233
    },
    {
     "output_type": "display_data",
     "data": {
      "text/plain": "<Figure size 432x288 with 1 Axes>",
      "image/svg+xml": "<?xml version=\"1.0\" encoding=\"utf-8\" standalone=\"no\"?>\n<!DOCTYPE svg PUBLIC \"-//W3C//DTD SVG 1.1//EN\"\n  \"http://www.w3.org/Graphics/SVG/1.1/DTD/svg11.dtd\">\n<!-- Created with matplotlib (https://matplotlib.org/) -->\n<svg height=\"345.04625pt\" version=\"1.1\" viewBox=\"0 0 370.942187 345.04625\" width=\"370.942187pt\" xmlns=\"http://www.w3.org/2000/svg\" xmlns:xlink=\"http://www.w3.org/1999/xlink\">\n <defs>\n  <style type=\"text/css\">\n*{stroke-linecap:butt;stroke-linejoin:round;}\n  </style>\n </defs>\n <g id=\"figure_1\">\n  <g id=\"patch_1\">\n   <path d=\"M 0 345.04625 \nL 370.942187 345.04625 \nL 370.942187 0 \nL 0 0 \nz\n\" style=\"fill:none;\"/>\n  </g>\n  <g id=\"axes_1\">\n   <g id=\"patch_2\">\n    <path d=\"M 28.942188 224.64 \nL 363.742188 224.64 \nL 363.742188 7.2 \nL 28.942188 7.2 \nz\n\" style=\"fill:#ffffff;\"/>\n   </g>\n   <g id=\"patch_3\">\n    <path clip-path=\"url(#p54de800620)\" d=\"M 37.312188 132.811296 \nL 41.497188 132.811296 \nL 41.497188 157.08678 \nL 37.312188 157.08678 \nz\n\" style=\"fill:#1f77b4;\"/>\n   </g>\n   <g id=\"patch_4\">\n    <path clip-path=\"url(#p54de800620)\" d=\"M 70.792188 132.811296 \nL 74.977188 132.811296 \nL 74.977188 89.657134 \nL 70.792188 89.657134 \nz\n\" style=\"fill:#1f77b4;\"/>\n   </g>\n   <g id=\"patch_5\">\n    <path clip-path=\"url(#p54de800620)\" d=\"M 104.272188 132.811296 \nL 108.457188 132.811296 \nL 108.457188 172.65902 \nL 104.272188 172.65902 \nz\n\" style=\"fill:#1f77b4;\"/>\n   </g>\n   <g id=\"patch_6\">\n    <path clip-path=\"url(#p54de800620)\" d=\"M 137.752188 132.811296 \nL 141.937188 132.811296 \nL 141.937188 143.650621 \nL 137.752188 143.650621 \nz\n\" style=\"fill:#1f77b4;\"/>\n   </g>\n   <g id=\"patch_7\">\n    <path clip-path=\"url(#p54de800620)\" d=\"M 171.232188 132.811296 \nL 175.417188 132.811296 \nL 175.417188 148.188335 \nL 171.232188 148.188335 \nz\n\" style=\"fill:#1f77b4;\"/>\n   </g>\n   <g id=\"patch_8\">\n    <path clip-path=\"url(#p54de800620)\" d=\"M 204.712188 132.811296 \nL 208.897188 132.811296 \nL 208.897188 136.978337 \nL 204.712188 136.978337 \nz\n\" style=\"fill:#1f77b4;\"/>\n   </g>\n   <g id=\"patch_9\">\n    <path clip-path=\"url(#p54de800620)\" d=\"M 238.192188 132.811296 \nL 242.377188 132.811296 \nL 242.377188 139.099858 \nL 238.192188 139.099858 \nz\n\" style=\"fill:#1f77b4;\"/>\n   </g>\n   <g id=\"patch_10\">\n    <path clip-path=\"url(#p54de800620)\" d=\"M 271.672188 132.811296 \nL 275.857188 132.811296 \nL 275.857188 139.104294 \nL 271.672188 139.104294 \nz\n\" style=\"fill:#1f77b4;\"/>\n   </g>\n   <g id=\"patch_11\">\n    <path clip-path=\"url(#p54de800620)\" d=\"M 305.152188 132.811296 \nL 309.337188 132.811296 \nL 309.337188 132.143309 \nL 305.152188 132.143309 \nz\n\" style=\"fill:#1f77b4;\"/>\n   </g>\n   <g id=\"patch_12\">\n    <path clip-path=\"url(#p54de800620)\" d=\"M 338.632188 132.811296 \nL 342.817188 132.811296 \nL 342.817188 100.747332 \nL 338.632188 100.747332 \nz\n\" style=\"fill:#1f77b4;\"/>\n   </g>\n   <g id=\"patch_13\">\n    <path clip-path=\"url(#p54de800620)\" d=\"M 41.497188 132.811296 \nL 45.682188 132.811296 \nL 45.682188 101.873353 \nL 41.497188 101.873353 \nz\n\" style=\"fill:#ff7f0e;\"/>\n   </g>\n   <g id=\"patch_14\">\n    <path clip-path=\"url(#p54de800620)\" d=\"M 74.977188 132.811296 \nL 79.162188 132.811296 \nL 79.162188 108.965171 \nL 74.977188 108.965171 \nz\n\" style=\"fill:#ff7f0e;\"/>\n   </g>\n   <g id=\"patch_15\">\n    <path clip-path=\"url(#p54de800620)\" d=\"M 108.457188 132.811296 \nL 112.642188 132.811296 \nL 112.642188 214.756364 \nL 108.457188 214.756364 \nz\n\" style=\"fill:#ff7f0e;\"/>\n   </g>\n   <g id=\"patch_16\">\n    <path clip-path=\"url(#p54de800620)\" d=\"M 141.937188 132.811296 \nL 146.122188 132.811296 \nL 146.122188 137.690094 \nL 141.937188 137.690094 \nz\n\" style=\"fill:#ff7f0e;\"/>\n   </g>\n   <g id=\"patch_17\">\n    <path clip-path=\"url(#p54de800620)\" d=\"M 175.417188 132.811296 \nL 179.602188 132.811296 \nL 179.602188 105.210704 \nL 175.417188 105.210704 \nz\n\" style=\"fill:#ff7f0e;\"/>\n   </g>\n   <g id=\"patch_18\">\n    <path clip-path=\"url(#p54de800620)\" d=\"M 208.897188 132.811296 \nL 213.082188 132.811296 \nL 213.082188 63.303032 \nL 208.897188 63.303032 \nz\n\" style=\"fill:#ff7f0e;\"/>\n   </g>\n   <g id=\"patch_19\">\n    <path clip-path=\"url(#p54de800620)\" d=\"M 242.377188 132.811296 \nL 246.562188 132.811296 \nL 246.562188 30.707492 \nL 242.377188 30.707492 \nz\n\" style=\"fill:#ff7f0e;\"/>\n   </g>\n   <g id=\"patch_20\">\n    <path clip-path=\"url(#p54de800620)\" d=\"M 275.857188 132.811296 \nL 280.042188 132.811296 \nL 280.042188 118.971856 \nL 275.857188 118.971856 \nz\n\" style=\"fill:#ff7f0e;\"/>\n   </g>\n   <g id=\"patch_21\">\n    <path clip-path=\"url(#p54de800620)\" d=\"M 309.337188 132.811296 \nL 313.522188 132.811296 \nL 313.522188 157.131238 \nL 309.337188 157.131238 \nz\n\" style=\"fill:#ff7f0e;\"/>\n   </g>\n   <g id=\"patch_22\">\n    <path clip-path=\"url(#p54de800620)\" d=\"M 342.817188 132.811296 \nL 347.002188 132.811296 \nL 347.002188 17.083636 \nL 342.817188 17.083636 \nz\n\" style=\"fill:#ff7f0e;\"/>\n   </g>\n   <g id=\"patch_23\">\n    <path clip-path=\"url(#p54de800620)\" d=\"M 45.682188 132.811296 \nL 49.867188 132.811296 \nL 49.867188 151.099427 \nL 45.682188 151.099427 \nz\n\" style=\"fill:#2ca02c;\"/>\n   </g>\n   <g id=\"patch_24\">\n    <path clip-path=\"url(#p54de800620)\" d=\"M 79.162188 132.811296 \nL 83.347188 132.811296 \nL 83.347188 116.665764 \nL 79.162188 116.665764 \nz\n\" style=\"fill:#2ca02c;\"/>\n   </g>\n   <g id=\"patch_25\">\n    <path clip-path=\"url(#p54de800620)\" d=\"M 112.642188 132.811296 \nL 116.827188 132.811296 \nL 116.827188 149.262982 \nL 112.642188 149.262982 \nz\n\" style=\"fill:#2ca02c;\"/>\n   </g>\n   <g id=\"patch_26\">\n    <path clip-path=\"url(#p54de800620)\" d=\"M 146.122188 132.811296 \nL 150.307188 132.811296 \nL 150.307188 116.980109 \nL 146.122188 116.980109 \nz\n\" style=\"fill:#2ca02c;\"/>\n   </g>\n   <g id=\"patch_27\">\n    <path clip-path=\"url(#p54de800620)\" d=\"M 179.602188 132.811296 \nL 183.787188 132.811296 \nL 183.787188 77.617954 \nL 179.602188 77.617954 \nz\n\" style=\"fill:#2ca02c;\"/>\n   </g>\n   <g id=\"patch_28\">\n    <path clip-path=\"url(#p54de800620)\" d=\"M 213.082188 132.811296 \nL 217.267188 132.811296 \nL 217.267188 142.001406 \nL 213.082188 142.001406 \nz\n\" style=\"fill:#2ca02c;\"/>\n   </g>\n   <g id=\"patch_29\">\n    <path clip-path=\"url(#p54de800620)\" d=\"M 246.562188 132.811296 \nL 250.747188 132.811296 \nL 250.747188 130.248831 \nL 246.562188 130.248831 \nz\n\" style=\"fill:#2ca02c;\"/>\n   </g>\n   <g id=\"patch_30\">\n    <path clip-path=\"url(#p54de800620)\" d=\"M 280.042188 132.811296 \nL 284.227188 132.811296 \nL 284.227188 51.265303 \nL 280.042188 51.265303 \nz\n\" style=\"fill:#2ca02c;\"/>\n   </g>\n   <g id=\"patch_31\">\n    <path clip-path=\"url(#p54de800620)\" d=\"M 313.522188 132.811296 \nL 317.707188 132.811296 \nL 317.707188 121.474811 \nL 313.522188 121.474811 \nz\n\" style=\"fill:#2ca02c;\"/>\n   </g>\n   <g id=\"patch_32\">\n    <path clip-path=\"url(#p54de800620)\" d=\"M 347.002188 132.811296 \nL 351.187188 132.811296 \nL 351.187188 120.879562 \nL 347.002188 120.879562 \nz\n\" style=\"fill:#2ca02c;\"/>\n   </g>\n   <g id=\"patch_33\">\n    <path clip-path=\"url(#p54de800620)\" d=\"M 49.867188 132.811296 \nL 54.052188 132.811296 \nL 54.052188 134.300245 \nL 49.867188 134.300245 \nz\n\" style=\"fill:#d62728;\"/>\n   </g>\n   <g id=\"patch_34\">\n    <path clip-path=\"url(#p54de800620)\" d=\"M 83.347188 132.811296 \nL 87.532188 132.811296 \nL 87.532188 159.818739 \nL 83.347188 159.818739 \nz\n\" style=\"fill:#d62728;\"/>\n   </g>\n   <g id=\"patch_35\">\n    <path clip-path=\"url(#p54de800620)\" d=\"M 116.827188 132.811296 \nL 121.012188 132.811296 \nL 121.012188 121.904799 \nL 116.827188 121.904799 \nz\n\" style=\"fill:#d62728;\"/>\n   </g>\n   <g id=\"patch_36\">\n    <path clip-path=\"url(#p54de800620)\" d=\"M 150.307188 132.811296 \nL 154.492188 132.811296 \nL 154.492188 159.313458 \nL 150.307188 159.313458 \nz\n\" style=\"fill:#d62728;\"/>\n   </g>\n   <g id=\"patch_37\">\n    <path clip-path=\"url(#p54de800620)\" d=\"M 183.787188 132.811296 \nL 187.972188 132.811296 \nL 187.972188 132.893378 \nL 183.787188 132.893378 \nz\n\" style=\"fill:#d62728;\"/>\n   </g>\n   <g id=\"patch_38\">\n    <path clip-path=\"url(#p54de800620)\" d=\"M 217.267188 132.811296 \nL 221.452188 132.811296 \nL 221.452188 75.499432 \nL 217.267188 75.499432 \nz\n\" style=\"fill:#d62728;\"/>\n   </g>\n   <g id=\"patch_39\">\n    <path clip-path=\"url(#p54de800620)\" d=\"M 250.747188 132.811296 \nL 254.932188 132.811296 \nL 254.932188 126.604459 \nL 250.747188 126.604459 \nz\n\" style=\"fill:#d62728;\"/>\n   </g>\n   <g id=\"patch_40\">\n    <path clip-path=\"url(#p54de800620)\" d=\"M 284.227188 132.811296 \nL 288.412188 132.811296 \nL 288.412188 213.988798 \nL 284.227188 213.988798 \nz\n\" style=\"fill:#d62728;\"/>\n   </g>\n   <g id=\"patch_41\">\n    <path clip-path=\"url(#p54de800620)\" d=\"M 317.707188 132.811296 \nL 321.892188 132.811296 \nL 321.892188 142.221577 \nL 317.707188 142.221577 \nz\n\" style=\"fill:#d62728;\"/>\n   </g>\n   <g id=\"patch_42\">\n    <path clip-path=\"url(#p54de800620)\" d=\"M 351.187188 132.811296 \nL 355.372188 132.811296 \nL 355.372188 127.255896 \nL 351.187188 127.255896 \nz\n\" style=\"fill:#d62728;\"/>\n   </g>\n   <g id=\"matplotlib.axis_1\">\n    <g id=\"xtick_1\">\n     <g id=\"line2d_1\">\n      <defs>\n       <path d=\"M 0 0 \nL 0 3.5 \n\" id=\"mc8800b237c\" style=\"stroke:#000000;stroke-width:0.8;\"/>\n      </defs>\n      <g>\n       <use style=\"stroke:#000000;stroke-width:0.8;\" x=\"45.682188\" xlink:href=\"#mc8800b237c\" y=\"224.64\"/>\n      </g>\n     </g>\n     <g id=\"text_1\">\n      <!-- 2018-12-18 00:00:00 -->\n      <defs>\n       <path d=\"M 19.1875 8.296875 \nL 53.609375 8.296875 \nL 53.609375 0 \nL 7.328125 0 \nL 7.328125 8.296875 \nQ 12.9375 14.109375 22.625 23.890625 \nQ 32.328125 33.6875 34.8125 36.53125 \nQ 39.546875 41.84375 41.421875 45.53125 \nQ 43.3125 49.21875 43.3125 52.78125 \nQ 43.3125 58.59375 39.234375 62.25 \nQ 35.15625 65.921875 28.609375 65.921875 \nQ 23.96875 65.921875 18.8125 64.3125 \nQ 13.671875 62.703125 7.8125 59.421875 \nL 7.8125 69.390625 \nQ 13.765625 71.78125 18.9375 73 \nQ 24.125 74.21875 28.421875 74.21875 \nQ 39.75 74.21875 46.484375 68.546875 \nQ 53.21875 62.890625 53.21875 53.421875 \nQ 53.21875 48.921875 51.53125 44.890625 \nQ 49.859375 40.875 45.40625 35.40625 \nQ 44.1875 33.984375 37.640625 27.21875 \nQ 31.109375 20.453125 19.1875 8.296875 \nz\n\" id=\"DejaVuSans-50\"/>\n       <path d=\"M 31.78125 66.40625 \nQ 24.171875 66.40625 20.328125 58.90625 \nQ 16.5 51.421875 16.5 36.375 \nQ 16.5 21.390625 20.328125 13.890625 \nQ 24.171875 6.390625 31.78125 6.390625 \nQ 39.453125 6.390625 43.28125 13.890625 \nQ 47.125 21.390625 47.125 36.375 \nQ 47.125 51.421875 43.28125 58.90625 \nQ 39.453125 66.40625 31.78125 66.40625 \nz\nM 31.78125 74.21875 \nQ 44.046875 74.21875 50.515625 64.515625 \nQ 56.984375 54.828125 56.984375 36.375 \nQ 56.984375 17.96875 50.515625 8.265625 \nQ 44.046875 -1.421875 31.78125 -1.421875 \nQ 19.53125 -1.421875 13.0625 8.265625 \nQ 6.59375 17.96875 6.59375 36.375 \nQ 6.59375 54.828125 13.0625 64.515625 \nQ 19.53125 74.21875 31.78125 74.21875 \nz\n\" id=\"DejaVuSans-48\"/>\n       <path d=\"M 12.40625 8.296875 \nL 28.515625 8.296875 \nL 28.515625 63.921875 \nL 10.984375 60.40625 \nL 10.984375 69.390625 \nL 28.421875 72.90625 \nL 38.28125 72.90625 \nL 38.28125 8.296875 \nL 54.390625 8.296875 \nL 54.390625 0 \nL 12.40625 0 \nz\n\" id=\"DejaVuSans-49\"/>\n       <path d=\"M 31.78125 34.625 \nQ 24.75 34.625 20.71875 30.859375 \nQ 16.703125 27.09375 16.703125 20.515625 \nQ 16.703125 13.921875 20.71875 10.15625 \nQ 24.75 6.390625 31.78125 6.390625 \nQ 38.8125 6.390625 42.859375 10.171875 \nQ 46.921875 13.96875 46.921875 20.515625 \nQ 46.921875 27.09375 42.890625 30.859375 \nQ 38.875 34.625 31.78125 34.625 \nz\nM 21.921875 38.8125 \nQ 15.578125 40.375 12.03125 44.71875 \nQ 8.5 49.078125 8.5 55.328125 \nQ 8.5 64.0625 14.71875 69.140625 \nQ 20.953125 74.21875 31.78125 74.21875 \nQ 42.671875 74.21875 48.875 69.140625 \nQ 55.078125 64.0625 55.078125 55.328125 \nQ 55.078125 49.078125 51.53125 44.71875 \nQ 48 40.375 41.703125 38.8125 \nQ 48.828125 37.15625 52.796875 32.3125 \nQ 56.78125 27.484375 56.78125 20.515625 \nQ 56.78125 9.90625 50.3125 4.234375 \nQ 43.84375 -1.421875 31.78125 -1.421875 \nQ 19.734375 -1.421875 13.25 4.234375 \nQ 6.78125 9.90625 6.78125 20.515625 \nQ 6.78125 27.484375 10.78125 32.3125 \nQ 14.796875 37.15625 21.921875 38.8125 \nz\nM 18.3125 54.390625 \nQ 18.3125 48.734375 21.84375 45.5625 \nQ 25.390625 42.390625 31.78125 42.390625 \nQ 38.140625 42.390625 41.71875 45.5625 \nQ 45.3125 48.734375 45.3125 54.390625 \nQ 45.3125 60.0625 41.71875 63.234375 \nQ 38.140625 66.40625 31.78125 66.40625 \nQ 25.390625 66.40625 21.84375 63.234375 \nQ 18.3125 60.0625 18.3125 54.390625 \nz\n\" id=\"DejaVuSans-56\"/>\n       <path d=\"M 4.890625 31.390625 \nL 31.203125 31.390625 \nL 31.203125 23.390625 \nL 4.890625 23.390625 \nz\n\" id=\"DejaVuSans-45\"/>\n       <path id=\"DejaVuSans-32\"/>\n       <path d=\"M 11.71875 12.40625 \nL 22.015625 12.40625 \nL 22.015625 0 \nL 11.71875 0 \nz\nM 11.71875 51.703125 \nL 22.015625 51.703125 \nL 22.015625 39.3125 \nL 11.71875 39.3125 \nz\n\" id=\"DejaVuSans-58\"/>\n      </defs>\n      <g transform=\"translate(48.441563 337.84625)rotate(-90)scale(0.1 -0.1)\">\n       <use xlink:href=\"#DejaVuSans-50\"/>\n       <use x=\"63.623047\" xlink:href=\"#DejaVuSans-48\"/>\n       <use x=\"127.246094\" xlink:href=\"#DejaVuSans-49\"/>\n       <use x=\"190.869141\" xlink:href=\"#DejaVuSans-56\"/>\n       <use x=\"254.492188\" xlink:href=\"#DejaVuSans-45\"/>\n       <use x=\"290.576172\" xlink:href=\"#DejaVuSans-49\"/>\n       <use x=\"354.199219\" xlink:href=\"#DejaVuSans-50\"/>\n       <use x=\"417.822266\" xlink:href=\"#DejaVuSans-45\"/>\n       <use x=\"453.90625\" xlink:href=\"#DejaVuSans-49\"/>\n       <use x=\"517.529297\" xlink:href=\"#DejaVuSans-56\"/>\n       <use x=\"581.152344\" xlink:href=\"#DejaVuSans-32\"/>\n       <use x=\"612.939453\" xlink:href=\"#DejaVuSans-48\"/>\n       <use x=\"676.5625\" xlink:href=\"#DejaVuSans-48\"/>\n       <use x=\"740.185547\" xlink:href=\"#DejaVuSans-58\"/>\n       <use x=\"773.876953\" xlink:href=\"#DejaVuSans-48\"/>\n       <use x=\"837.5\" xlink:href=\"#DejaVuSans-48\"/>\n       <use x=\"901.123047\" xlink:href=\"#DejaVuSans-58\"/>\n       <use x=\"934.814453\" xlink:href=\"#DejaVuSans-48\"/>\n       <use x=\"998.4375\" xlink:href=\"#DejaVuSans-48\"/>\n      </g>\n     </g>\n    </g>\n    <g id=\"xtick_2\">\n     <g id=\"line2d_2\">\n      <g>\n       <use style=\"stroke:#000000;stroke-width:0.8;\" x=\"79.162188\" xlink:href=\"#mc8800b237c\" y=\"224.64\"/>\n      </g>\n     </g>\n     <g id=\"text_2\">\n      <!-- 2018-12-19 00:00:00 -->\n      <defs>\n       <path d=\"M 10.984375 1.515625 \nL 10.984375 10.5 \nQ 14.703125 8.734375 18.5 7.8125 \nQ 22.3125 6.890625 25.984375 6.890625 \nQ 35.75 6.890625 40.890625 13.453125 \nQ 46.046875 20.015625 46.78125 33.40625 \nQ 43.953125 29.203125 39.59375 26.953125 \nQ 35.25 24.703125 29.984375 24.703125 \nQ 19.046875 24.703125 12.671875 31.3125 \nQ 6.296875 37.9375 6.296875 49.421875 \nQ 6.296875 60.640625 12.9375 67.421875 \nQ 19.578125 74.21875 30.609375 74.21875 \nQ 43.265625 74.21875 49.921875 64.515625 \nQ 56.59375 54.828125 56.59375 36.375 \nQ 56.59375 19.140625 48.40625 8.859375 \nQ 40.234375 -1.421875 26.421875 -1.421875 \nQ 22.703125 -1.421875 18.890625 -0.6875 \nQ 15.09375 0.046875 10.984375 1.515625 \nz\nM 30.609375 32.421875 \nQ 37.25 32.421875 41.125 36.953125 \nQ 45.015625 41.5 45.015625 49.421875 \nQ 45.015625 57.28125 41.125 61.84375 \nQ 37.25 66.40625 30.609375 66.40625 \nQ 23.96875 66.40625 20.09375 61.84375 \nQ 16.21875 57.28125 16.21875 49.421875 \nQ 16.21875 41.5 20.09375 36.953125 \nQ 23.96875 32.421875 30.609375 32.421875 \nz\n\" id=\"DejaVuSans-57\"/>\n      </defs>\n      <g transform=\"translate(81.921563 337.84625)rotate(-90)scale(0.1 -0.1)\">\n       <use xlink:href=\"#DejaVuSans-50\"/>\n       <use x=\"63.623047\" xlink:href=\"#DejaVuSans-48\"/>\n       <use x=\"127.246094\" xlink:href=\"#DejaVuSans-49\"/>\n       <use x=\"190.869141\" xlink:href=\"#DejaVuSans-56\"/>\n       <use x=\"254.492188\" xlink:href=\"#DejaVuSans-45\"/>\n       <use x=\"290.576172\" xlink:href=\"#DejaVuSans-49\"/>\n       <use x=\"354.199219\" xlink:href=\"#DejaVuSans-50\"/>\n       <use x=\"417.822266\" xlink:href=\"#DejaVuSans-45\"/>\n       <use x=\"453.90625\" xlink:href=\"#DejaVuSans-49\"/>\n       <use x=\"517.529297\" xlink:href=\"#DejaVuSans-57\"/>\n       <use x=\"581.152344\" xlink:href=\"#DejaVuSans-32\"/>\n       <use x=\"612.939453\" xlink:href=\"#DejaVuSans-48\"/>\n       <use x=\"676.5625\" xlink:href=\"#DejaVuSans-48\"/>\n       <use x=\"740.185547\" xlink:href=\"#DejaVuSans-58\"/>\n       <use x=\"773.876953\" xlink:href=\"#DejaVuSans-48\"/>\n       <use x=\"837.5\" xlink:href=\"#DejaVuSans-48\"/>\n       <use x=\"901.123047\" xlink:href=\"#DejaVuSans-58\"/>\n       <use x=\"934.814453\" xlink:href=\"#DejaVuSans-48\"/>\n       <use x=\"998.4375\" xlink:href=\"#DejaVuSans-48\"/>\n      </g>\n     </g>\n    </g>\n    <g id=\"xtick_3\">\n     <g id=\"line2d_3\">\n      <g>\n       <use style=\"stroke:#000000;stroke-width:0.8;\" x=\"112.642188\" xlink:href=\"#mc8800b237c\" y=\"224.64\"/>\n      </g>\n     </g>\n     <g id=\"text_3\">\n      <!-- 2018-12-20 00:00:00 -->\n      <g transform=\"translate(115.401562 337.84625)rotate(-90)scale(0.1 -0.1)\">\n       <use xlink:href=\"#DejaVuSans-50\"/>\n       <use x=\"63.623047\" xlink:href=\"#DejaVuSans-48\"/>\n       <use x=\"127.246094\" xlink:href=\"#DejaVuSans-49\"/>\n       <use x=\"190.869141\" xlink:href=\"#DejaVuSans-56\"/>\n       <use x=\"254.492188\" xlink:href=\"#DejaVuSans-45\"/>\n       <use x=\"290.576172\" xlink:href=\"#DejaVuSans-49\"/>\n       <use x=\"354.199219\" xlink:href=\"#DejaVuSans-50\"/>\n       <use x=\"417.822266\" xlink:href=\"#DejaVuSans-45\"/>\n       <use x=\"453.90625\" xlink:href=\"#DejaVuSans-50\"/>\n       <use x=\"517.529297\" xlink:href=\"#DejaVuSans-48\"/>\n       <use x=\"581.152344\" xlink:href=\"#DejaVuSans-32\"/>\n       <use x=\"612.939453\" xlink:href=\"#DejaVuSans-48\"/>\n       <use x=\"676.5625\" xlink:href=\"#DejaVuSans-48\"/>\n       <use x=\"740.185547\" xlink:href=\"#DejaVuSans-58\"/>\n       <use x=\"773.876953\" xlink:href=\"#DejaVuSans-48\"/>\n       <use x=\"837.5\" xlink:href=\"#DejaVuSans-48\"/>\n       <use x=\"901.123047\" xlink:href=\"#DejaVuSans-58\"/>\n       <use x=\"934.814453\" xlink:href=\"#DejaVuSans-48\"/>\n       <use x=\"998.4375\" xlink:href=\"#DejaVuSans-48\"/>\n      </g>\n     </g>\n    </g>\n    <g id=\"xtick_4\">\n     <g id=\"line2d_4\">\n      <g>\n       <use style=\"stroke:#000000;stroke-width:0.8;\" x=\"146.122188\" xlink:href=\"#mc8800b237c\" y=\"224.64\"/>\n      </g>\n     </g>\n     <g id=\"text_4\">\n      <!-- 2018-12-21 00:00:00 -->\n      <g transform=\"translate(148.881563 337.84625)rotate(-90)scale(0.1 -0.1)\">\n       <use xlink:href=\"#DejaVuSans-50\"/>\n       <use x=\"63.623047\" xlink:href=\"#DejaVuSans-48\"/>\n       <use x=\"127.246094\" xlink:href=\"#DejaVuSans-49\"/>\n       <use x=\"190.869141\" xlink:href=\"#DejaVuSans-56\"/>\n       <use x=\"254.492188\" xlink:href=\"#DejaVuSans-45\"/>\n       <use x=\"290.576172\" xlink:href=\"#DejaVuSans-49\"/>\n       <use x=\"354.199219\" xlink:href=\"#DejaVuSans-50\"/>\n       <use x=\"417.822266\" xlink:href=\"#DejaVuSans-45\"/>\n       <use x=\"453.90625\" xlink:href=\"#DejaVuSans-50\"/>\n       <use x=\"517.529297\" xlink:href=\"#DejaVuSans-49\"/>\n       <use x=\"581.152344\" xlink:href=\"#DejaVuSans-32\"/>\n       <use x=\"612.939453\" xlink:href=\"#DejaVuSans-48\"/>\n       <use x=\"676.5625\" xlink:href=\"#DejaVuSans-48\"/>\n       <use x=\"740.185547\" xlink:href=\"#DejaVuSans-58\"/>\n       <use x=\"773.876953\" xlink:href=\"#DejaVuSans-48\"/>\n       <use x=\"837.5\" xlink:href=\"#DejaVuSans-48\"/>\n       <use x=\"901.123047\" xlink:href=\"#DejaVuSans-58\"/>\n       <use x=\"934.814453\" xlink:href=\"#DejaVuSans-48\"/>\n       <use x=\"998.4375\" xlink:href=\"#DejaVuSans-48\"/>\n      </g>\n     </g>\n    </g>\n    <g id=\"xtick_5\">\n     <g id=\"line2d_5\">\n      <g>\n       <use style=\"stroke:#000000;stroke-width:0.8;\" x=\"179.602188\" xlink:href=\"#mc8800b237c\" y=\"224.64\"/>\n      </g>\n     </g>\n     <g id=\"text_5\">\n      <!-- 2018-12-22 00:00:00 -->\n      <g transform=\"translate(182.361563 337.84625)rotate(-90)scale(0.1 -0.1)\">\n       <use xlink:href=\"#DejaVuSans-50\"/>\n       <use x=\"63.623047\" xlink:href=\"#DejaVuSans-48\"/>\n       <use x=\"127.246094\" xlink:href=\"#DejaVuSans-49\"/>\n       <use x=\"190.869141\" xlink:href=\"#DejaVuSans-56\"/>\n       <use x=\"254.492188\" xlink:href=\"#DejaVuSans-45\"/>\n       <use x=\"290.576172\" xlink:href=\"#DejaVuSans-49\"/>\n       <use x=\"354.199219\" xlink:href=\"#DejaVuSans-50\"/>\n       <use x=\"417.822266\" xlink:href=\"#DejaVuSans-45\"/>\n       <use x=\"453.90625\" xlink:href=\"#DejaVuSans-50\"/>\n       <use x=\"517.529297\" xlink:href=\"#DejaVuSans-50\"/>\n       <use x=\"581.152344\" xlink:href=\"#DejaVuSans-32\"/>\n       <use x=\"612.939453\" xlink:href=\"#DejaVuSans-48\"/>\n       <use x=\"676.5625\" xlink:href=\"#DejaVuSans-48\"/>\n       <use x=\"740.185547\" xlink:href=\"#DejaVuSans-58\"/>\n       <use x=\"773.876953\" xlink:href=\"#DejaVuSans-48\"/>\n       <use x=\"837.5\" xlink:href=\"#DejaVuSans-48\"/>\n       <use x=\"901.123047\" xlink:href=\"#DejaVuSans-58\"/>\n       <use x=\"934.814453\" xlink:href=\"#DejaVuSans-48\"/>\n       <use x=\"998.4375\" xlink:href=\"#DejaVuSans-48\"/>\n      </g>\n     </g>\n    </g>\n    <g id=\"xtick_6\">\n     <g id=\"line2d_6\">\n      <g>\n       <use style=\"stroke:#000000;stroke-width:0.8;\" x=\"213.082188\" xlink:href=\"#mc8800b237c\" y=\"224.64\"/>\n      </g>\n     </g>\n     <g id=\"text_6\">\n      <!-- 2018-12-23 00:00:00 -->\n      <defs>\n       <path d=\"M 40.578125 39.3125 \nQ 47.65625 37.796875 51.625 33 \nQ 55.609375 28.21875 55.609375 21.1875 \nQ 55.609375 10.40625 48.1875 4.484375 \nQ 40.765625 -1.421875 27.09375 -1.421875 \nQ 22.515625 -1.421875 17.65625 -0.515625 \nQ 12.796875 0.390625 7.625 2.203125 \nL 7.625 11.71875 \nQ 11.71875 9.328125 16.59375 8.109375 \nQ 21.484375 6.890625 26.8125 6.890625 \nQ 36.078125 6.890625 40.9375 10.546875 \nQ 45.796875 14.203125 45.796875 21.1875 \nQ 45.796875 27.640625 41.28125 31.265625 \nQ 36.765625 34.90625 28.71875 34.90625 \nL 20.21875 34.90625 \nL 20.21875 43.015625 \nL 29.109375 43.015625 \nQ 36.375 43.015625 40.234375 45.921875 \nQ 44.09375 48.828125 44.09375 54.296875 \nQ 44.09375 59.90625 40.109375 62.90625 \nQ 36.140625 65.921875 28.71875 65.921875 \nQ 24.65625 65.921875 20.015625 65.03125 \nQ 15.375 64.15625 9.8125 62.3125 \nL 9.8125 71.09375 \nQ 15.4375 72.65625 20.34375 73.4375 \nQ 25.25 74.21875 29.59375 74.21875 \nQ 40.828125 74.21875 47.359375 69.109375 \nQ 53.90625 64.015625 53.90625 55.328125 \nQ 53.90625 49.265625 50.4375 45.09375 \nQ 46.96875 40.921875 40.578125 39.3125 \nz\n\" id=\"DejaVuSans-51\"/>\n      </defs>\n      <g transform=\"translate(215.841563 337.84625)rotate(-90)scale(0.1 -0.1)\">\n       <use xlink:href=\"#DejaVuSans-50\"/>\n       <use x=\"63.623047\" xlink:href=\"#DejaVuSans-48\"/>\n       <use x=\"127.246094\" xlink:href=\"#DejaVuSans-49\"/>\n       <use x=\"190.869141\" xlink:href=\"#DejaVuSans-56\"/>\n       <use x=\"254.492188\" xlink:href=\"#DejaVuSans-45\"/>\n       <use x=\"290.576172\" xlink:href=\"#DejaVuSans-49\"/>\n       <use x=\"354.199219\" xlink:href=\"#DejaVuSans-50\"/>\n       <use x=\"417.822266\" xlink:href=\"#DejaVuSans-45\"/>\n       <use x=\"453.90625\" xlink:href=\"#DejaVuSans-50\"/>\n       <use x=\"517.529297\" xlink:href=\"#DejaVuSans-51\"/>\n       <use x=\"581.152344\" xlink:href=\"#DejaVuSans-32\"/>\n       <use x=\"612.939453\" xlink:href=\"#DejaVuSans-48\"/>\n       <use x=\"676.5625\" xlink:href=\"#DejaVuSans-48\"/>\n       <use x=\"740.185547\" xlink:href=\"#DejaVuSans-58\"/>\n       <use x=\"773.876953\" xlink:href=\"#DejaVuSans-48\"/>\n       <use x=\"837.5\" xlink:href=\"#DejaVuSans-48\"/>\n       <use x=\"901.123047\" xlink:href=\"#DejaVuSans-58\"/>\n       <use x=\"934.814453\" xlink:href=\"#DejaVuSans-48\"/>\n       <use x=\"998.4375\" xlink:href=\"#DejaVuSans-48\"/>\n      </g>\n     </g>\n    </g>\n    <g id=\"xtick_7\">\n     <g id=\"line2d_7\">\n      <g>\n       <use style=\"stroke:#000000;stroke-width:0.8;\" x=\"246.562188\" xlink:href=\"#mc8800b237c\" y=\"224.64\"/>\n      </g>\n     </g>\n     <g id=\"text_7\">\n      <!-- 2018-12-24 00:00:00 -->\n      <defs>\n       <path d=\"M 37.796875 64.3125 \nL 12.890625 25.390625 \nL 37.796875 25.390625 \nz\nM 35.203125 72.90625 \nL 47.609375 72.90625 \nL 47.609375 25.390625 \nL 58.015625 25.390625 \nL 58.015625 17.1875 \nL 47.609375 17.1875 \nL 47.609375 0 \nL 37.796875 0 \nL 37.796875 17.1875 \nL 4.890625 17.1875 \nL 4.890625 26.703125 \nz\n\" id=\"DejaVuSans-52\"/>\n      </defs>\n      <g transform=\"translate(249.321563 337.84625)rotate(-90)scale(0.1 -0.1)\">\n       <use xlink:href=\"#DejaVuSans-50\"/>\n       <use x=\"63.623047\" xlink:href=\"#DejaVuSans-48\"/>\n       <use x=\"127.246094\" xlink:href=\"#DejaVuSans-49\"/>\n       <use x=\"190.869141\" xlink:href=\"#DejaVuSans-56\"/>\n       <use x=\"254.492188\" xlink:href=\"#DejaVuSans-45\"/>\n       <use x=\"290.576172\" xlink:href=\"#DejaVuSans-49\"/>\n       <use x=\"354.199219\" xlink:href=\"#DejaVuSans-50\"/>\n       <use x=\"417.822266\" xlink:href=\"#DejaVuSans-45\"/>\n       <use x=\"453.90625\" xlink:href=\"#DejaVuSans-50\"/>\n       <use x=\"517.529297\" xlink:href=\"#DejaVuSans-52\"/>\n       <use x=\"581.152344\" xlink:href=\"#DejaVuSans-32\"/>\n       <use x=\"612.939453\" xlink:href=\"#DejaVuSans-48\"/>\n       <use x=\"676.5625\" xlink:href=\"#DejaVuSans-48\"/>\n       <use x=\"740.185547\" xlink:href=\"#DejaVuSans-58\"/>\n       <use x=\"773.876953\" xlink:href=\"#DejaVuSans-48\"/>\n       <use x=\"837.5\" xlink:href=\"#DejaVuSans-48\"/>\n       <use x=\"901.123047\" xlink:href=\"#DejaVuSans-58\"/>\n       <use x=\"934.814453\" xlink:href=\"#DejaVuSans-48\"/>\n       <use x=\"998.4375\" xlink:href=\"#DejaVuSans-48\"/>\n      </g>\n     </g>\n    </g>\n    <g id=\"xtick_8\">\n     <g id=\"line2d_8\">\n      <g>\n       <use style=\"stroke:#000000;stroke-width:0.8;\" x=\"280.042188\" xlink:href=\"#mc8800b237c\" y=\"224.64\"/>\n      </g>\n     </g>\n     <g id=\"text_8\">\n      <!-- 2018-12-25 00:00:00 -->\n      <defs>\n       <path d=\"M 10.796875 72.90625 \nL 49.515625 72.90625 \nL 49.515625 64.59375 \nL 19.828125 64.59375 \nL 19.828125 46.734375 \nQ 21.96875 47.46875 24.109375 47.828125 \nQ 26.265625 48.1875 28.421875 48.1875 \nQ 40.625 48.1875 47.75 41.5 \nQ 54.890625 34.8125 54.890625 23.390625 \nQ 54.890625 11.625 47.5625 5.09375 \nQ 40.234375 -1.421875 26.90625 -1.421875 \nQ 22.3125 -1.421875 17.546875 -0.640625 \nQ 12.796875 0.140625 7.71875 1.703125 \nL 7.71875 11.625 \nQ 12.109375 9.234375 16.796875 8.0625 \nQ 21.484375 6.890625 26.703125 6.890625 \nQ 35.15625 6.890625 40.078125 11.328125 \nQ 45.015625 15.765625 45.015625 23.390625 \nQ 45.015625 31 40.078125 35.4375 \nQ 35.15625 39.890625 26.703125 39.890625 \nQ 22.75 39.890625 18.8125 39.015625 \nQ 14.890625 38.140625 10.796875 36.28125 \nz\n\" id=\"DejaVuSans-53\"/>\n      </defs>\n      <g transform=\"translate(282.801562 337.84625)rotate(-90)scale(0.1 -0.1)\">\n       <use xlink:href=\"#DejaVuSans-50\"/>\n       <use x=\"63.623047\" xlink:href=\"#DejaVuSans-48\"/>\n       <use x=\"127.246094\" xlink:href=\"#DejaVuSans-49\"/>\n       <use x=\"190.869141\" xlink:href=\"#DejaVuSans-56\"/>\n       <use x=\"254.492188\" xlink:href=\"#DejaVuSans-45\"/>\n       <use x=\"290.576172\" xlink:href=\"#DejaVuSans-49\"/>\n       <use x=\"354.199219\" xlink:href=\"#DejaVuSans-50\"/>\n       <use x=\"417.822266\" xlink:href=\"#DejaVuSans-45\"/>\n       <use x=\"453.90625\" xlink:href=\"#DejaVuSans-50\"/>\n       <use x=\"517.529297\" xlink:href=\"#DejaVuSans-53\"/>\n       <use x=\"581.152344\" xlink:href=\"#DejaVuSans-32\"/>\n       <use x=\"612.939453\" xlink:href=\"#DejaVuSans-48\"/>\n       <use x=\"676.5625\" xlink:href=\"#DejaVuSans-48\"/>\n       <use x=\"740.185547\" xlink:href=\"#DejaVuSans-58\"/>\n       <use x=\"773.876953\" xlink:href=\"#DejaVuSans-48\"/>\n       <use x=\"837.5\" xlink:href=\"#DejaVuSans-48\"/>\n       <use x=\"901.123047\" xlink:href=\"#DejaVuSans-58\"/>\n       <use x=\"934.814453\" xlink:href=\"#DejaVuSans-48\"/>\n       <use x=\"998.4375\" xlink:href=\"#DejaVuSans-48\"/>\n      </g>\n     </g>\n    </g>\n    <g id=\"xtick_9\">\n     <g id=\"line2d_9\">\n      <g>\n       <use style=\"stroke:#000000;stroke-width:0.8;\" x=\"313.522188\" xlink:href=\"#mc8800b237c\" y=\"224.64\"/>\n      </g>\n     </g>\n     <g id=\"text_9\">\n      <!-- 2018-12-26 00:00:00 -->\n      <defs>\n       <path d=\"M 33.015625 40.375 \nQ 26.375 40.375 22.484375 35.828125 \nQ 18.609375 31.296875 18.609375 23.390625 \nQ 18.609375 15.53125 22.484375 10.953125 \nQ 26.375 6.390625 33.015625 6.390625 \nQ 39.65625 6.390625 43.53125 10.953125 \nQ 47.40625 15.53125 47.40625 23.390625 \nQ 47.40625 31.296875 43.53125 35.828125 \nQ 39.65625 40.375 33.015625 40.375 \nz\nM 52.59375 71.296875 \nL 52.59375 62.3125 \nQ 48.875 64.0625 45.09375 64.984375 \nQ 41.3125 65.921875 37.59375 65.921875 \nQ 27.828125 65.921875 22.671875 59.328125 \nQ 17.53125 52.734375 16.796875 39.40625 \nQ 19.671875 43.65625 24.015625 45.921875 \nQ 28.375 48.1875 33.59375 48.1875 \nQ 44.578125 48.1875 50.953125 41.515625 \nQ 57.328125 34.859375 57.328125 23.390625 \nQ 57.328125 12.15625 50.6875 5.359375 \nQ 44.046875 -1.421875 33.015625 -1.421875 \nQ 20.359375 -1.421875 13.671875 8.265625 \nQ 6.984375 17.96875 6.984375 36.375 \nQ 6.984375 53.65625 15.1875 63.9375 \nQ 23.390625 74.21875 37.203125 74.21875 \nQ 40.921875 74.21875 44.703125 73.484375 \nQ 48.484375 72.75 52.59375 71.296875 \nz\n\" id=\"DejaVuSans-54\"/>\n      </defs>\n      <g transform=\"translate(316.281563 337.84625)rotate(-90)scale(0.1 -0.1)\">\n       <use xlink:href=\"#DejaVuSans-50\"/>\n       <use x=\"63.623047\" xlink:href=\"#DejaVuSans-48\"/>\n       <use x=\"127.246094\" xlink:href=\"#DejaVuSans-49\"/>\n       <use x=\"190.869141\" xlink:href=\"#DejaVuSans-56\"/>\n       <use x=\"254.492188\" xlink:href=\"#DejaVuSans-45\"/>\n       <use x=\"290.576172\" xlink:href=\"#DejaVuSans-49\"/>\n       <use x=\"354.199219\" xlink:href=\"#DejaVuSans-50\"/>\n       <use x=\"417.822266\" xlink:href=\"#DejaVuSans-45\"/>\n       <use x=\"453.90625\" xlink:href=\"#DejaVuSans-50\"/>\n       <use x=\"517.529297\" xlink:href=\"#DejaVuSans-54\"/>\n       <use x=\"581.152344\" xlink:href=\"#DejaVuSans-32\"/>\n       <use x=\"612.939453\" xlink:href=\"#DejaVuSans-48\"/>\n       <use x=\"676.5625\" xlink:href=\"#DejaVuSans-48\"/>\n       <use x=\"740.185547\" xlink:href=\"#DejaVuSans-58\"/>\n       <use x=\"773.876953\" xlink:href=\"#DejaVuSans-48\"/>\n       <use x=\"837.5\" xlink:href=\"#DejaVuSans-48\"/>\n       <use x=\"901.123047\" xlink:href=\"#DejaVuSans-58\"/>\n       <use x=\"934.814453\" xlink:href=\"#DejaVuSans-48\"/>\n       <use x=\"998.4375\" xlink:href=\"#DejaVuSans-48\"/>\n      </g>\n     </g>\n    </g>\n    <g id=\"xtick_10\">\n     <g id=\"line2d_10\">\n      <g>\n       <use style=\"stroke:#000000;stroke-width:0.8;\" x=\"347.002188\" xlink:href=\"#mc8800b237c\" y=\"224.64\"/>\n      </g>\n     </g>\n     <g id=\"text_10\">\n      <!-- 2018-12-27 00:00:00 -->\n      <defs>\n       <path d=\"M 8.203125 72.90625 \nL 55.078125 72.90625 \nL 55.078125 68.703125 \nL 28.609375 0 \nL 18.3125 0 \nL 43.21875 64.59375 \nL 8.203125 64.59375 \nz\n\" id=\"DejaVuSans-55\"/>\n      </defs>\n      <g transform=\"translate(349.761563 337.84625)rotate(-90)scale(0.1 -0.1)\">\n       <use xlink:href=\"#DejaVuSans-50\"/>\n       <use x=\"63.623047\" xlink:href=\"#DejaVuSans-48\"/>\n       <use x=\"127.246094\" xlink:href=\"#DejaVuSans-49\"/>\n       <use x=\"190.869141\" xlink:href=\"#DejaVuSans-56\"/>\n       <use x=\"254.492188\" xlink:href=\"#DejaVuSans-45\"/>\n       <use x=\"290.576172\" xlink:href=\"#DejaVuSans-49\"/>\n       <use x=\"354.199219\" xlink:href=\"#DejaVuSans-50\"/>\n       <use x=\"417.822266\" xlink:href=\"#DejaVuSans-45\"/>\n       <use x=\"453.90625\" xlink:href=\"#DejaVuSans-50\"/>\n       <use x=\"517.529297\" xlink:href=\"#DejaVuSans-55\"/>\n       <use x=\"581.152344\" xlink:href=\"#DejaVuSans-32\"/>\n       <use x=\"612.939453\" xlink:href=\"#DejaVuSans-48\"/>\n       <use x=\"676.5625\" xlink:href=\"#DejaVuSans-48\"/>\n       <use x=\"740.185547\" xlink:href=\"#DejaVuSans-58\"/>\n       <use x=\"773.876953\" xlink:href=\"#DejaVuSans-48\"/>\n       <use x=\"837.5\" xlink:href=\"#DejaVuSans-48\"/>\n       <use x=\"901.123047\" xlink:href=\"#DejaVuSans-58\"/>\n       <use x=\"934.814453\" xlink:href=\"#DejaVuSans-48\"/>\n       <use x=\"998.4375\" xlink:href=\"#DejaVuSans-48\"/>\n      </g>\n     </g>\n    </g>\n   </g>\n   <g id=\"matplotlib.axis_2\">\n    <g id=\"ytick_1\">\n     <g id=\"line2d_11\">\n      <defs>\n       <path d=\"M 0 0 \nL -3.5 0 \n\" id=\"mb34fbeb34f\" style=\"stroke:#000000;stroke-width:0.8;\"/>\n      </defs>\n      <g>\n       <use style=\"stroke:#000000;stroke-width:0.8;\" x=\"28.942188\" xlink:href=\"#mb34fbeb34f\" y=\"217.209399\"/>\n      </g>\n     </g>\n     <g id=\"text_11\">\n      <!-- −2 -->\n      <defs>\n       <path d=\"M 10.59375 35.5 \nL 73.1875 35.5 \nL 73.1875 27.203125 \nL 10.59375 27.203125 \nz\n\" id=\"DejaVuSans-8722\"/>\n      </defs>\n      <g transform=\"translate(7.2 221.008618)scale(0.1 -0.1)\">\n       <use xlink:href=\"#DejaVuSans-8722\"/>\n       <use x=\"83.789062\" xlink:href=\"#DejaVuSans-50\"/>\n      </g>\n     </g>\n    </g>\n    <g id=\"ytick_2\">\n     <g id=\"line2d_12\">\n      <g>\n       <use style=\"stroke:#000000;stroke-width:0.8;\" x=\"28.942188\" xlink:href=\"#mb34fbeb34f\" y=\"175.010347\"/>\n      </g>\n     </g>\n     <g id=\"text_12\">\n      <!-- −1 -->\n      <g transform=\"translate(7.2 178.809566)scale(0.1 -0.1)\">\n       <use xlink:href=\"#DejaVuSans-8722\"/>\n       <use x=\"83.789062\" xlink:href=\"#DejaVuSans-49\"/>\n      </g>\n     </g>\n    </g>\n    <g id=\"ytick_3\">\n     <g id=\"line2d_13\">\n      <g>\n       <use style=\"stroke:#000000;stroke-width:0.8;\" x=\"28.942188\" xlink:href=\"#mb34fbeb34f\" y=\"132.811296\"/>\n      </g>\n     </g>\n     <g id=\"text_13\">\n      <!-- 0 -->\n      <g transform=\"translate(15.579688 136.610514)scale(0.1 -0.1)\">\n       <use xlink:href=\"#DejaVuSans-48\"/>\n      </g>\n     </g>\n    </g>\n    <g id=\"ytick_4\">\n     <g id=\"line2d_14\">\n      <g>\n       <use style=\"stroke:#000000;stroke-width:0.8;\" x=\"28.942188\" xlink:href=\"#mb34fbeb34f\" y=\"90.612244\"/>\n      </g>\n     </g>\n     <g id=\"text_14\">\n      <!-- 1 -->\n      <g transform=\"translate(15.579688 94.411462)scale(0.1 -0.1)\">\n       <use xlink:href=\"#DejaVuSans-49\"/>\n      </g>\n     </g>\n    </g>\n    <g id=\"ytick_5\">\n     <g id=\"line2d_15\">\n      <g>\n       <use style=\"stroke:#000000;stroke-width:0.8;\" x=\"28.942188\" xlink:href=\"#mb34fbeb34f\" y=\"48.413192\"/>\n      </g>\n     </g>\n     <g id=\"text_15\">\n      <!-- 2 -->\n      <g transform=\"translate(15.579688 52.21241)scale(0.1 -0.1)\">\n       <use xlink:href=\"#DejaVuSans-50\"/>\n      </g>\n     </g>\n    </g>\n   </g>\n   <g id=\"patch_43\">\n    <path d=\"M 28.942188 224.64 \nL 28.942188 7.2 \n\" style=\"fill:none;stroke:#000000;stroke-linecap:square;stroke-linejoin:miter;stroke-width:0.8;\"/>\n   </g>\n   <g id=\"patch_44\">\n    <path d=\"M 363.742188 224.64 \nL 363.742188 7.2 \n\" style=\"fill:none;stroke:#000000;stroke-linecap:square;stroke-linejoin:miter;stroke-width:0.8;\"/>\n   </g>\n   <g id=\"patch_45\">\n    <path d=\"M 28.942188 224.64 \nL 363.742188 224.64 \n\" style=\"fill:none;stroke:#000000;stroke-linecap:square;stroke-linejoin:miter;stroke-width:0.8;\"/>\n   </g>\n   <g id=\"patch_46\">\n    <path d=\"M 28.942188 7.2 \nL 363.742188 7.2 \n\" style=\"fill:none;stroke:#000000;stroke-linecap:square;stroke-linejoin:miter;stroke-width:0.8;\"/>\n   </g>\n   <g id=\"legend_1\">\n    <g id=\"patch_47\">\n     <path d=\"M 35.942188 73.9125 \nL 75.642188 73.9125 \nQ 77.642188 73.9125 77.642188 71.9125 \nL 77.642188 14.2 \nQ 77.642188 12.2 75.642188 12.2 \nL 35.942188 12.2 \nQ 33.942188 12.2 33.942188 14.2 \nL 33.942188 71.9125 \nQ 33.942188 73.9125 35.942188 73.9125 \nz\n\" style=\"fill:#ffffff;opacity:0.8;stroke:#cccccc;stroke-linejoin:miter;\"/>\n    </g>\n    <g id=\"patch_48\">\n     <path d=\"M 37.942188 23.798437 \nL 57.942188 23.798437 \nL 57.942188 16.798437 \nL 37.942188 16.798437 \nz\n\" style=\"fill:#1f77b4;\"/>\n    </g>\n    <g id=\"text_16\">\n     <!-- A -->\n     <defs>\n      <path d=\"M 34.1875 63.1875 \nL 20.796875 26.90625 \nL 47.609375 26.90625 \nz\nM 28.609375 72.90625 \nL 39.796875 72.90625 \nL 67.578125 0 \nL 57.328125 0 \nL 50.6875 18.703125 \nL 17.828125 18.703125 \nL 11.1875 0 \nL 0.78125 0 \nz\n\" id=\"DejaVuSans-65\"/>\n     </defs>\n     <g transform=\"translate(65.942188 23.798437)scale(0.1 -0.1)\">\n      <use xlink:href=\"#DejaVuSans-65\"/>\n     </g>\n    </g>\n    <g id=\"patch_49\">\n     <path d=\"M 37.942188 38.476562 \nL 57.942188 38.476562 \nL 57.942188 31.476562 \nL 37.942188 31.476562 \nz\n\" style=\"fill:#ff7f0e;\"/>\n    </g>\n    <g id=\"text_17\">\n     <!-- B -->\n     <defs>\n      <path d=\"M 19.671875 34.8125 \nL 19.671875 8.109375 \nL 35.5 8.109375 \nQ 43.453125 8.109375 47.28125 11.40625 \nQ 51.125 14.703125 51.125 21.484375 \nQ 51.125 28.328125 47.28125 31.5625 \nQ 43.453125 34.8125 35.5 34.8125 \nz\nM 19.671875 64.796875 \nL 19.671875 42.828125 \nL 34.28125 42.828125 \nQ 41.5 42.828125 45.03125 45.53125 \nQ 48.578125 48.25 48.578125 53.8125 \nQ 48.578125 59.328125 45.03125 62.0625 \nQ 41.5 64.796875 34.28125 64.796875 \nz\nM 9.8125 72.90625 \nL 35.015625 72.90625 \nQ 46.296875 72.90625 52.390625 68.21875 \nQ 58.5 63.53125 58.5 54.890625 \nQ 58.5 48.1875 55.375 44.234375 \nQ 52.25 40.28125 46.1875 39.3125 \nQ 53.46875 37.75 57.5 32.78125 \nQ 61.53125 27.828125 61.53125 20.40625 \nQ 61.53125 10.640625 54.890625 5.3125 \nQ 48.25 0 35.984375 0 \nL 9.8125 0 \nz\n\" id=\"DejaVuSans-66\"/>\n     </defs>\n     <g transform=\"translate(65.942188 38.476562)scale(0.1 -0.1)\">\n      <use xlink:href=\"#DejaVuSans-66\"/>\n     </g>\n    </g>\n    <g id=\"patch_50\">\n     <path d=\"M 37.942188 53.154687 \nL 57.942188 53.154687 \nL 57.942188 46.154687 \nL 37.942188 46.154687 \nz\n\" style=\"fill:#2ca02c;\"/>\n    </g>\n    <g id=\"text_18\">\n     <!-- C -->\n     <defs>\n      <path d=\"M 64.40625 67.28125 \nL 64.40625 56.890625 \nQ 59.421875 61.53125 53.78125 63.8125 \nQ 48.140625 66.109375 41.796875 66.109375 \nQ 29.296875 66.109375 22.65625 58.46875 \nQ 16.015625 50.828125 16.015625 36.375 \nQ 16.015625 21.96875 22.65625 14.328125 \nQ 29.296875 6.6875 41.796875 6.6875 \nQ 48.140625 6.6875 53.78125 8.984375 \nQ 59.421875 11.28125 64.40625 15.921875 \nL 64.40625 5.609375 \nQ 59.234375 2.09375 53.4375 0.328125 \nQ 47.65625 -1.421875 41.21875 -1.421875 \nQ 24.65625 -1.421875 15.125 8.703125 \nQ 5.609375 18.84375 5.609375 36.375 \nQ 5.609375 53.953125 15.125 64.078125 \nQ 24.65625 74.21875 41.21875 74.21875 \nQ 47.75 74.21875 53.53125 72.484375 \nQ 59.328125 70.75 64.40625 67.28125 \nz\n\" id=\"DejaVuSans-67\"/>\n     </defs>\n     <g transform=\"translate(65.942188 53.154687)scale(0.1 -0.1)\">\n      <use xlink:href=\"#DejaVuSans-67\"/>\n     </g>\n    </g>\n    <g id=\"patch_51\">\n     <path d=\"M 37.942188 67.832812 \nL 57.942188 67.832812 \nL 57.942188 60.832812 \nL 37.942188 60.832812 \nz\n\" style=\"fill:#d62728;\"/>\n    </g>\n    <g id=\"text_19\">\n     <!-- D -->\n     <defs>\n      <path d=\"M 19.671875 64.796875 \nL 19.671875 8.109375 \nL 31.59375 8.109375 \nQ 46.6875 8.109375 53.6875 14.9375 \nQ 60.6875 21.78125 60.6875 36.53125 \nQ 60.6875 51.171875 53.6875 57.984375 \nQ 46.6875 64.796875 31.59375 64.796875 \nz\nM 9.8125 72.90625 \nL 30.078125 72.90625 \nQ 51.265625 72.90625 61.171875 64.09375 \nQ 71.09375 55.28125 71.09375 36.53125 \nQ 71.09375 17.671875 61.125 8.828125 \nQ 51.171875 0 30.078125 0 \nL 9.8125 0 \nz\n\" id=\"DejaVuSans-68\"/>\n     </defs>\n     <g transform=\"translate(65.942188 67.832812)scale(0.1 -0.1)\">\n      <use xlink:href=\"#DejaVuSans-68\"/>\n     </g>\n    </g>\n   </g>\n  </g>\n </g>\n <defs>\n  <clipPath id=\"p54de800620\">\n   <rect height=\"217.44\" width=\"334.8\" x=\"28.942188\" y=\"7.2\"/>\n  </clipPath>\n </defs>\n</svg>\n",
      "image/png": "[encoded data removed]"
     },
     "metadata": {
      "needs_background": "light"
     }
    }
   ],
   "source": [
    "df.plot.bar()"
   ]
  },
  {
   "cell_type": "code",
   "execution_count": 234,
   "metadata": {},
   "outputs": [
    {
     "output_type": "execute_result",
     "data": {
      "text/plain": "<matplotlib.axes._subplots.AxesSubplot at 0x12a4eb150>"
     },
     "metadata": {},
     "execution_count": 234
    },
    {
     "output_type": "display_data",
     "data": {
      "text/plain": "<Figure size 432x288 with 1 Axes>",
      "image/svg+xml": "<?xml version=\"1.0\" encoding=\"utf-8\" standalone=\"no\"?>\n<!DOCTYPE svg PUBLIC \"-//W3C//DTD SVG 1.1//EN\"\n  \"http://www.w3.org/Graphics/SVG/1.1/DTD/svg11.dtd\">\n<!-- Created with matplotlib (https://matplotlib.org/) -->\n<svg height=\"345.04625pt\" version=\"1.1\" viewBox=\"0 0 370.942187 345.04625\" width=\"370.942187pt\" xmlns=\"http://www.w3.org/2000/svg\" xmlns:xlink=\"http://www.w3.org/1999/xlink\">\n <defs>\n  <style type=\"text/css\">\n*{stroke-linecap:butt;stroke-linejoin:round;}\n  </style>\n </defs>\n <g id=\"figure_1\">\n  <g id=\"patch_1\">\n   <path d=\"M 0 345.04625 \nL 370.942187 345.04625 \nL 370.942187 0 \nL 0 0 \nz\n\" style=\"fill:none;\"/>\n  </g>\n  <g id=\"axes_1\">\n   <g id=\"patch_2\">\n    <path d=\"M 28.942188 224.64 \nL 363.742188 224.64 \nL 363.742188 7.2 \nL 28.942188 7.2 \nz\n\" style=\"fill:#ffffff;\"/>\n   </g>\n   <g id=\"patch_3\">\n    <path clip-path=\"url(#pebe89be32f)\" d=\"M 37.312188 124.72318 \nL 54.052188 124.72318 \nL 54.052188 140.532846 \nL 37.312188 140.532846 \nz\n\" style=\"fill:#1f77b4;\"/>\n   </g>\n   <g id=\"patch_4\">\n    <path clip-path=\"url(#pebe89be32f)\" d=\"M 70.792188 124.72318 \nL 87.532188 124.72318 \nL 87.532188 96.618574 \nL 70.792188 96.618574 \nz\n\" style=\"fill:#1f77b4;\"/>\n   </g>\n   <g id=\"patch_5\">\n    <path clip-path=\"url(#pebe89be32f)\" d=\"M 104.272188 124.72318 \nL 121.012188 124.72318 \nL 121.012188 150.674433 \nL 104.272188 150.674433 \nz\n\" style=\"fill:#1f77b4;\"/>\n   </g>\n   <g id=\"patch_6\">\n    <path clip-path=\"url(#pebe89be32f)\" d=\"M 137.752188 124.72318 \nL 154.492188 124.72318 \nL 154.492188 131.782406 \nL 137.752188 131.782406 \nz\n\" style=\"fill:#1f77b4;\"/>\n   </g>\n   <g id=\"patch_7\">\n    <path clip-path=\"url(#pebe89be32f)\" d=\"M 171.232188 124.72318 \nL 187.972188 124.72318 \nL 187.972188 134.73764 \nL 171.232188 134.73764 \nz\n\" style=\"fill:#1f77b4;\"/>\n   </g>\n   <g id=\"patch_8\">\n    <path clip-path=\"url(#pebe89be32f)\" d=\"M 204.712188 124.72318 \nL 221.452188 124.72318 \nL 221.452188 127.43701 \nL 204.712188 127.43701 \nz\n\" style=\"fill:#1f77b4;\"/>\n   </g>\n   <g id=\"patch_9\">\n    <path clip-path=\"url(#pebe89be32f)\" d=\"M 238.192188 124.72318 \nL 254.932188 124.72318 \nL 254.932188 128.818673 \nL 238.192188 128.818673 \nz\n\" style=\"fill:#1f77b4;\"/>\n   </g>\n   <g id=\"patch_10\">\n    <path clip-path=\"url(#pebe89be32f)\" d=\"M 271.672188 124.72318 \nL 288.412188 124.72318 \nL 288.412188 128.821562 \nL 271.672188 128.821562 \nz\n\" style=\"fill:#1f77b4;\"/>\n   </g>\n   <g id=\"patch_11\">\n    <path clip-path=\"url(#pebe89be32f)\" d=\"M 305.152188 124.72318 \nL 321.892188 124.72318 \nL 321.892188 124.288146 \nL 305.152188 124.288146 \nz\n\" style=\"fill:#1f77b4;\"/>\n   </g>\n   <g id=\"patch_12\">\n    <path clip-path=\"url(#pebe89be32f)\" d=\"M 338.632188 124.72318 \nL 355.372188 124.72318 \nL 355.372188 103.841183 \nL 338.632188 103.841183 \nz\n\" style=\"fill:#1f77b4;\"/>\n   </g>\n   <g id=\"patch_13\">\n    <path clip-path=\"url(#pebe89be32f)\" d=\"M 37.312188 124.72318 \nL 54.052188 124.72318 \nL 54.052188 104.574517 \nL 37.312188 104.574517 \nz\n\" style=\"fill:#ff7f0e;\"/>\n   </g>\n   <g id=\"patch_14\">\n    <path clip-path=\"url(#pebe89be32f)\" d=\"M 70.792188 96.618574 \nL 87.532188 96.618574 \nL 87.532188 81.088532 \nL 70.792188 81.088532 \nz\n\" style=\"fill:#ff7f0e;\"/>\n   </g>\n   <g id=\"patch_15\">\n    <path clip-path=\"url(#pebe89be32f)\" d=\"M 104.272188 150.674433 \nL 121.012188 150.674433 \nL 121.012188 204.042028 \nL 104.272188 204.042028 \nz\n\" style=\"fill:#ff7f0e;\"/>\n   </g>\n   <g id=\"patch_16\">\n    <path clip-path=\"url(#pebe89be32f)\" d=\"M 137.752188 131.782406 \nL 154.492188 131.782406 \nL 154.492188 134.959775 \nL 137.752188 134.959775 \nz\n\" style=\"fill:#ff7f0e;\"/>\n   </g>\n   <g id=\"patch_17\">\n    <path clip-path=\"url(#pebe89be32f)\" d=\"M 171.232188 124.72318 \nL 187.972188 124.72318 \nL 187.972188 106.748002 \nL 171.232188 106.748002 \nz\n\" style=\"fill:#ff7f0e;\"/>\n   </g>\n   <g id=\"patch_18\">\n    <path clip-path=\"url(#pebe89be32f)\" d=\"M 204.712188 124.72318 \nL 221.452188 124.72318 \nL 221.452188 79.455186 \nL 204.712188 79.455186 \nz\n\" style=\"fill:#ff7f0e;\"/>\n   </g>\n   <g id=\"patch_19\">\n    <path clip-path=\"url(#pebe89be32f)\" d=\"M 238.192188 124.72318 \nL 254.932188 124.72318 \nL 254.932188 58.226994 \nL 238.192188 58.226994 \nz\n\" style=\"fill:#ff7f0e;\"/>\n   </g>\n   <g id=\"patch_20\">\n    <path clip-path=\"url(#pebe89be32f)\" d=\"M 271.672188 124.72318 \nL 288.412188 124.72318 \nL 288.412188 115.710098 \nL 271.672188 115.710098 \nz\n\" style=\"fill:#ff7f0e;\"/>\n   </g>\n   <g id=\"patch_21\">\n    <path clip-path=\"url(#pebe89be32f)\" d=\"M 305.152188 124.72318 \nL 321.892188 124.72318 \nL 321.892188 140.561801 \nL 305.152188 140.561801 \nz\n\" style=\"fill:#ff7f0e;\"/>\n   </g>\n   <g id=\"patch_22\">\n    <path clip-path=\"url(#pebe89be32f)\" d=\"M 338.632188 103.841183 \nL 355.372188 103.841183 \nL 355.372188 28.472318 \nL 338.632188 28.472318 \nz\n\" style=\"fill:#ff7f0e;\"/>\n   </g>\n   <g id=\"patch_23\">\n    <path clip-path=\"url(#pebe89be32f)\" d=\"M 37.312188 140.532846 \nL 54.052188 140.532846 \nL 54.052188 152.443186 \nL 37.312188 152.443186 \nz\n\" style=\"fill:#2ca02c;\"/>\n   </g>\n   <g id=\"patch_24\">\n    <path clip-path=\"url(#pebe89be32f)\" d=\"M 70.792188 81.088532 \nL 87.532188 81.088532 \nL 87.532188 70.573584 \nL 70.792188 70.573584 \nz\n\" style=\"fill:#2ca02c;\"/>\n   </g>\n   <g id=\"patch_25\">\n    <path clip-path=\"url(#pebe89be32f)\" d=\"M 104.272188 204.042028 \nL 121.012188 204.042028 \nL 121.012188 214.756364 \nL 104.272188 214.756364 \nz\n\" style=\"fill:#2ca02c;\"/>\n   </g>\n   <g id=\"patch_26\">\n    <path clip-path=\"url(#pebe89be32f)\" d=\"M 137.752188 124.72318 \nL 154.492188 124.72318 \nL 154.492188 114.412952 \nL 137.752188 114.412952 \nz\n\" style=\"fill:#2ca02c;\"/>\n   </g>\n   <g id=\"patch_27\">\n    <path clip-path=\"url(#pebe89be32f)\" d=\"M 171.232188 106.748002 \nL 187.972188 106.748002 \nL 187.972188 70.802753 \nL 171.232188 70.802753 \nz\n\" style=\"fill:#2ca02c;\"/>\n   </g>\n   <g id=\"patch_28\">\n    <path clip-path=\"url(#pebe89be32f)\" d=\"M 204.712188 127.43701 \nL 221.452188 127.43701 \nL 221.452188 133.422167 \nL 204.712188 133.422167 \nz\n\" style=\"fill:#2ca02c;\"/>\n   </g>\n   <g id=\"patch_29\">\n    <path clip-path=\"url(#pebe89be32f)\" d=\"M 238.192188 58.226994 \nL 254.932188 58.226994 \nL 254.932188 56.558162 \nL 238.192188 56.558162 \nz\n\" style=\"fill:#2ca02c;\"/>\n   </g>\n   <g id=\"patch_30\">\n    <path clip-path=\"url(#pebe89be32f)\" d=\"M 271.672188 115.710098 \nL 288.412188 115.710098 \nL 288.412188 62.602405 \nL 271.672188 62.602405 \nz\n\" style=\"fill:#2ca02c;\"/>\n   </g>\n   <g id=\"patch_31\">\n    <path clip-path=\"url(#pebe89be32f)\" d=\"M 305.152188 124.288146 \nL 321.892188 124.288146 \nL 321.892188 116.90514 \nL 305.152188 116.90514 \nz\n\" style=\"fill:#2ca02c;\"/>\n   </g>\n   <g id=\"patch_32\">\n    <path clip-path=\"url(#pebe89be32f)\" d=\"M 338.632188 28.472318 \nL 355.372188 28.472318 \nL 355.372188 20.701649 \nL 338.632188 20.701649 \nz\n\" style=\"fill:#2ca02c;\"/>\n   </g>\n   <g id=\"patch_33\">\n    <path clip-path=\"url(#pebe89be32f)\" d=\"M 37.312188 152.443186 \nL 54.052188 152.443186 \nL 54.052188 153.41288 \nL 37.312188 153.41288 \nz\n\" style=\"fill:#d62728;\"/>\n   </g>\n   <g id=\"patch_34\">\n    <path clip-path=\"url(#pebe89be32f)\" d=\"M 70.792188 124.72318 \nL 87.532188 124.72318 \nL 87.532188 142.312064 \nL 70.792188 142.312064 \nz\n\" style=\"fill:#d62728;\"/>\n   </g>\n   <g id=\"patch_35\">\n    <path clip-path=\"url(#pebe89be32f)\" d=\"M 104.272188 124.72318 \nL 121.012188 124.72318 \nL 121.012188 117.620209 \nL 104.272188 117.620209 \nz\n\" style=\"fill:#d62728;\"/>\n   </g>\n   <g id=\"patch_36\">\n    <path clip-path=\"url(#pebe89be32f)\" d=\"M 137.752188 134.959775 \nL 154.492188 134.959775 \nL 154.492188 152.219589 \nL 137.752188 152.219589 \nz\n\" style=\"fill:#d62728;\"/>\n   </g>\n   <g id=\"patch_37\">\n    <path clip-path=\"url(#pebe89be32f)\" d=\"M 171.232188 134.73764 \nL 187.972188 134.73764 \nL 187.972188 134.791097 \nL 171.232188 134.791097 \nz\n\" style=\"fill:#d62728;\"/>\n   </g>\n   <g id=\"patch_38\">\n    <path clip-path=\"url(#pebe89be32f)\" d=\"M 204.712188 79.455186 \nL 221.452188 79.455186 \nL 221.452188 42.130227 \nL 204.712188 42.130227 \nz\n\" style=\"fill:#d62728;\"/>\n   </g>\n   <g id=\"patch_39\">\n    <path clip-path=\"url(#pebe89be32f)\" d=\"M 238.192188 56.558162 \nL 254.932188 56.558162 \nL 254.932188 52.515894 \nL 238.192188 52.515894 \nz\n\" style=\"fill:#d62728;\"/>\n   </g>\n   <g id=\"patch_40\">\n    <path clip-path=\"url(#pebe89be32f)\" d=\"M 271.672188 128.821562 \nL 288.412188 128.821562 \nL 288.412188 181.689271 \nL 271.672188 181.689271 \nz\n\" style=\"fill:#d62728;\"/>\n   </g>\n   <g id=\"patch_41\">\n    <path clip-path=\"url(#pebe89be32f)\" d=\"M 305.152188 140.561801 \nL 321.892188 140.561801 \nL 321.892188 146.690347 \nL 305.152188 146.690347 \nz\n\" style=\"fill:#d62728;\"/>\n   </g>\n   <g id=\"patch_42\">\n    <path clip-path=\"url(#pebe89be32f)\" d=\"M 338.632188 20.701649 \nL 355.372188 20.701649 \nL 355.372188 17.083636 \nL 338.632188 17.083636 \nz\n\" style=\"fill:#d62728;\"/>\n   </g>\n   <g id=\"matplotlib.axis_1\">\n    <g id=\"xtick_1\">\n     <g id=\"line2d_1\">\n      <defs>\n       <path d=\"M 0 0 \nL 0 3.5 \n\" id=\"mdc7a5de7a9\" style=\"stroke:#000000;stroke-width:0.8;\"/>\n      </defs>\n      <g>\n       <use style=\"stroke:#000000;stroke-width:0.8;\" x=\"45.682188\" xlink:href=\"#mdc7a5de7a9\" y=\"224.64\"/>\n      </g>\n     </g>\n     <g id=\"text_1\">\n      <!-- 2018-12-18 00:00:00 -->\n      <defs>\n       <path d=\"M 19.1875 8.296875 \nL 53.609375 8.296875 \nL 53.609375 0 \nL 7.328125 0 \nL 7.328125 8.296875 \nQ 12.9375 14.109375 22.625 23.890625 \nQ 32.328125 33.6875 34.8125 36.53125 \nQ 39.546875 41.84375 41.421875 45.53125 \nQ 43.3125 49.21875 43.3125 52.78125 \nQ 43.3125 58.59375 39.234375 62.25 \nQ 35.15625 65.921875 28.609375 65.921875 \nQ 23.96875 65.921875 18.8125 64.3125 \nQ 13.671875 62.703125 7.8125 59.421875 \nL 7.8125 69.390625 \nQ 13.765625 71.78125 18.9375 73 \nQ 24.125 74.21875 28.421875 74.21875 \nQ 39.75 74.21875 46.484375 68.546875 \nQ 53.21875 62.890625 53.21875 53.421875 \nQ 53.21875 48.921875 51.53125 44.890625 \nQ 49.859375 40.875 45.40625 35.40625 \nQ 44.1875 33.984375 37.640625 27.21875 \nQ 31.109375 20.453125 19.1875 8.296875 \nz\n\" id=\"DejaVuSans-50\"/>\n       <path d=\"M 31.78125 66.40625 \nQ 24.171875 66.40625 20.328125 58.90625 \nQ 16.5 51.421875 16.5 36.375 \nQ 16.5 21.390625 20.328125 13.890625 \nQ 24.171875 6.390625 31.78125 6.390625 \nQ 39.453125 6.390625 43.28125 13.890625 \nQ 47.125 21.390625 47.125 36.375 \nQ 47.125 51.421875 43.28125 58.90625 \nQ 39.453125 66.40625 31.78125 66.40625 \nz\nM 31.78125 74.21875 \nQ 44.046875 74.21875 50.515625 64.515625 \nQ 56.984375 54.828125 56.984375 36.375 \nQ 56.984375 17.96875 50.515625 8.265625 \nQ 44.046875 -1.421875 31.78125 -1.421875 \nQ 19.53125 -1.421875 13.0625 8.265625 \nQ 6.59375 17.96875 6.59375 36.375 \nQ 6.59375 54.828125 13.0625 64.515625 \nQ 19.53125 74.21875 31.78125 74.21875 \nz\n\" id=\"DejaVuSans-48\"/>\n       <path d=\"M 12.40625 8.296875 \nL 28.515625 8.296875 \nL 28.515625 63.921875 \nL 10.984375 60.40625 \nL 10.984375 69.390625 \nL 28.421875 72.90625 \nL 38.28125 72.90625 \nL 38.28125 8.296875 \nL 54.390625 8.296875 \nL 54.390625 0 \nL 12.40625 0 \nz\n\" id=\"DejaVuSans-49\"/>\n       <path d=\"M 31.78125 34.625 \nQ 24.75 34.625 20.71875 30.859375 \nQ 16.703125 27.09375 16.703125 20.515625 \nQ 16.703125 13.921875 20.71875 10.15625 \nQ 24.75 6.390625 31.78125 6.390625 \nQ 38.8125 6.390625 42.859375 10.171875 \nQ 46.921875 13.96875 46.921875 20.515625 \nQ 46.921875 27.09375 42.890625 30.859375 \nQ 38.875 34.625 31.78125 34.625 \nz\nM 21.921875 38.8125 \nQ 15.578125 40.375 12.03125 44.71875 \nQ 8.5 49.078125 8.5 55.328125 \nQ 8.5 64.0625 14.71875 69.140625 \nQ 20.953125 74.21875 31.78125 74.21875 \nQ 42.671875 74.21875 48.875 69.140625 \nQ 55.078125 64.0625 55.078125 55.328125 \nQ 55.078125 49.078125 51.53125 44.71875 \nQ 48 40.375 41.703125 38.8125 \nQ 48.828125 37.15625 52.796875 32.3125 \nQ 56.78125 27.484375 56.78125 20.515625 \nQ 56.78125 9.90625 50.3125 4.234375 \nQ 43.84375 -1.421875 31.78125 -1.421875 \nQ 19.734375 -1.421875 13.25 4.234375 \nQ 6.78125 9.90625 6.78125 20.515625 \nQ 6.78125 27.484375 10.78125 32.3125 \nQ 14.796875 37.15625 21.921875 38.8125 \nz\nM 18.3125 54.390625 \nQ 18.3125 48.734375 21.84375 45.5625 \nQ 25.390625 42.390625 31.78125 42.390625 \nQ 38.140625 42.390625 41.71875 45.5625 \nQ 45.3125 48.734375 45.3125 54.390625 \nQ 45.3125 60.0625 41.71875 63.234375 \nQ 38.140625 66.40625 31.78125 66.40625 \nQ 25.390625 66.40625 21.84375 63.234375 \nQ 18.3125 60.0625 18.3125 54.390625 \nz\n\" id=\"DejaVuSans-56\"/>\n       <path d=\"M 4.890625 31.390625 \nL 31.203125 31.390625 \nL 31.203125 23.390625 \nL 4.890625 23.390625 \nz\n\" id=\"DejaVuSans-45\"/>\n       <path id=\"DejaVuSans-32\"/>\n       <path d=\"M 11.71875 12.40625 \nL 22.015625 12.40625 \nL 22.015625 0 \nL 11.71875 0 \nz\nM 11.71875 51.703125 \nL 22.015625 51.703125 \nL 22.015625 39.3125 \nL 11.71875 39.3125 \nz\n\" id=\"DejaVuSans-58\"/>\n      </defs>\n      <g transform=\"translate(48.441563 337.84625)rotate(-90)scale(0.1 -0.1)\">\n       <use xlink:href=\"#DejaVuSans-50\"/>\n       <use x=\"63.623047\" xlink:href=\"#DejaVuSans-48\"/>\n       <use x=\"127.246094\" xlink:href=\"#DejaVuSans-49\"/>\n       <use x=\"190.869141\" xlink:href=\"#DejaVuSans-56\"/>\n       <use x=\"254.492188\" xlink:href=\"#DejaVuSans-45\"/>\n       <use x=\"290.576172\" xlink:href=\"#DejaVuSans-49\"/>\n       <use x=\"354.199219\" xlink:href=\"#DejaVuSans-50\"/>\n       <use x=\"417.822266\" xlink:href=\"#DejaVuSans-45\"/>\n       <use x=\"453.90625\" xlink:href=\"#DejaVuSans-49\"/>\n       <use x=\"517.529297\" xlink:href=\"#DejaVuSans-56\"/>\n       <use x=\"581.152344\" xlink:href=\"#DejaVuSans-32\"/>\n       <use x=\"612.939453\" xlink:href=\"#DejaVuSans-48\"/>\n       <use x=\"676.5625\" xlink:href=\"#DejaVuSans-48\"/>\n       <use x=\"740.185547\" xlink:href=\"#DejaVuSans-58\"/>\n       <use x=\"773.876953\" xlink:href=\"#DejaVuSans-48\"/>\n       <use x=\"837.5\" xlink:href=\"#DejaVuSans-48\"/>\n       <use x=\"901.123047\" xlink:href=\"#DejaVuSans-58\"/>\n       <use x=\"934.814453\" xlink:href=\"#DejaVuSans-48\"/>\n       <use x=\"998.4375\" xlink:href=\"#DejaVuSans-48\"/>\n      </g>\n     </g>\n    </g>\n    <g id=\"xtick_2\">\n     <g id=\"line2d_2\">\n      <g>\n       <use style=\"stroke:#000000;stroke-width:0.8;\" x=\"79.162188\" xlink:href=\"#mdc7a5de7a9\" y=\"224.64\"/>\n      </g>\n     </g>\n     <g id=\"text_2\">\n      <!-- 2018-12-19 00:00:00 -->\n      <defs>\n       <path d=\"M 10.984375 1.515625 \nL 10.984375 10.5 \nQ 14.703125 8.734375 18.5 7.8125 \nQ 22.3125 6.890625 25.984375 6.890625 \nQ 35.75 6.890625 40.890625 13.453125 \nQ 46.046875 20.015625 46.78125 33.40625 \nQ 43.953125 29.203125 39.59375 26.953125 \nQ 35.25 24.703125 29.984375 24.703125 \nQ 19.046875 24.703125 12.671875 31.3125 \nQ 6.296875 37.9375 6.296875 49.421875 \nQ 6.296875 60.640625 12.9375 67.421875 \nQ 19.578125 74.21875 30.609375 74.21875 \nQ 43.265625 74.21875 49.921875 64.515625 \nQ 56.59375 54.828125 56.59375 36.375 \nQ 56.59375 19.140625 48.40625 8.859375 \nQ 40.234375 -1.421875 26.421875 -1.421875 \nQ 22.703125 -1.421875 18.890625 -0.6875 \nQ 15.09375 0.046875 10.984375 1.515625 \nz\nM 30.609375 32.421875 \nQ 37.25 32.421875 41.125 36.953125 \nQ 45.015625 41.5 45.015625 49.421875 \nQ 45.015625 57.28125 41.125 61.84375 \nQ 37.25 66.40625 30.609375 66.40625 \nQ 23.96875 66.40625 20.09375 61.84375 \nQ 16.21875 57.28125 16.21875 49.421875 \nQ 16.21875 41.5 20.09375 36.953125 \nQ 23.96875 32.421875 30.609375 32.421875 \nz\n\" id=\"DejaVuSans-57\"/>\n      </defs>\n      <g transform=\"translate(81.921563 337.84625)rotate(-90)scale(0.1 -0.1)\">\n       <use xlink:href=\"#DejaVuSans-50\"/>\n       <use x=\"63.623047\" xlink:href=\"#DejaVuSans-48\"/>\n       <use x=\"127.246094\" xlink:href=\"#DejaVuSans-49\"/>\n       <use x=\"190.869141\" xlink:href=\"#DejaVuSans-56\"/>\n       <use x=\"254.492188\" xlink:href=\"#DejaVuSans-45\"/>\n       <use x=\"290.576172\" xlink:href=\"#DejaVuSans-49\"/>\n       <use x=\"354.199219\" xlink:href=\"#DejaVuSans-50\"/>\n       <use x=\"417.822266\" xlink:href=\"#DejaVuSans-45\"/>\n       <use x=\"453.90625\" xlink:href=\"#DejaVuSans-49\"/>\n       <use x=\"517.529297\" xlink:href=\"#DejaVuSans-57\"/>\n       <use x=\"581.152344\" xlink:href=\"#DejaVuSans-32\"/>\n       <use x=\"612.939453\" xlink:href=\"#DejaVuSans-48\"/>\n       <use x=\"676.5625\" xlink:href=\"#DejaVuSans-48\"/>\n       <use x=\"740.185547\" xlink:href=\"#DejaVuSans-58\"/>\n       <use x=\"773.876953\" xlink:href=\"#DejaVuSans-48\"/>\n       <use x=\"837.5\" xlink:href=\"#DejaVuSans-48\"/>\n       <use x=\"901.123047\" xlink:href=\"#DejaVuSans-58\"/>\n       <use x=\"934.814453\" xlink:href=\"#DejaVuSans-48\"/>\n       <use x=\"998.4375\" xlink:href=\"#DejaVuSans-48\"/>\n      </g>\n     </g>\n    </g>\n    <g id=\"xtick_3\">\n     <g id=\"line2d_3\">\n      <g>\n       <use style=\"stroke:#000000;stroke-width:0.8;\" x=\"112.642188\" xlink:href=\"#mdc7a5de7a9\" y=\"224.64\"/>\n      </g>\n     </g>\n     <g id=\"text_3\">\n      <!-- 2018-12-20 00:00:00 -->\n      <g transform=\"translate(115.401562 337.84625)rotate(-90)scale(0.1 -0.1)\">\n       <use xlink:href=\"#DejaVuSans-50\"/>\n       <use x=\"63.623047\" xlink:href=\"#DejaVuSans-48\"/>\n       <use x=\"127.246094\" xlink:href=\"#DejaVuSans-49\"/>\n       <use x=\"190.869141\" xlink:href=\"#DejaVuSans-56\"/>\n       <use x=\"254.492188\" xlink:href=\"#DejaVuSans-45\"/>\n       <use x=\"290.576172\" xlink:href=\"#DejaVuSans-49\"/>\n       <use x=\"354.199219\" xlink:href=\"#DejaVuSans-50\"/>\n       <use x=\"417.822266\" xlink:href=\"#DejaVuSans-45\"/>\n       <use x=\"453.90625\" xlink:href=\"#DejaVuSans-50\"/>\n       <use x=\"517.529297\" xlink:href=\"#DejaVuSans-48\"/>\n       <use x=\"581.152344\" xlink:href=\"#DejaVuSans-32\"/>\n       <use x=\"612.939453\" xlink:href=\"#DejaVuSans-48\"/>\n       <use x=\"676.5625\" xlink:href=\"#DejaVuSans-48\"/>\n       <use x=\"740.185547\" xlink:href=\"#DejaVuSans-58\"/>\n       <use x=\"773.876953\" xlink:href=\"#DejaVuSans-48\"/>\n       <use x=\"837.5\" xlink:href=\"#DejaVuSans-48\"/>\n       <use x=\"901.123047\" xlink:href=\"#DejaVuSans-58\"/>\n       <use x=\"934.814453\" xlink:href=\"#DejaVuSans-48\"/>\n       <use x=\"998.4375\" xlink:href=\"#DejaVuSans-48\"/>\n      </g>\n     </g>\n    </g>\n    <g id=\"xtick_4\">\n     <g id=\"line2d_4\">\n      <g>\n       <use style=\"stroke:#000000;stroke-width:0.8;\" x=\"146.122188\" xlink:href=\"#mdc7a5de7a9\" y=\"224.64\"/>\n      </g>\n     </g>\n     <g id=\"text_4\">\n      <!-- 2018-12-21 00:00:00 -->\n      <g transform=\"translate(148.881563 337.84625)rotate(-90)scale(0.1 -0.1)\">\n       <use xlink:href=\"#DejaVuSans-50\"/>\n       <use x=\"63.623047\" xlink:href=\"#DejaVuSans-48\"/>\n       <use x=\"127.246094\" xlink:href=\"#DejaVuSans-49\"/>\n       <use x=\"190.869141\" xlink:href=\"#DejaVuSans-56\"/>\n       <use x=\"254.492188\" xlink:href=\"#DejaVuSans-45\"/>\n       <use x=\"290.576172\" xlink:href=\"#DejaVuSans-49\"/>\n       <use x=\"354.199219\" xlink:href=\"#DejaVuSans-50\"/>\n       <use x=\"417.822266\" xlink:href=\"#DejaVuSans-45\"/>\n       <use x=\"453.90625\" xlink:href=\"#DejaVuSans-50\"/>\n       <use x=\"517.529297\" xlink:href=\"#DejaVuSans-49\"/>\n       <use x=\"581.152344\" xlink:href=\"#DejaVuSans-32\"/>\n       <use x=\"612.939453\" xlink:href=\"#DejaVuSans-48\"/>\n       <use x=\"676.5625\" xlink:href=\"#DejaVuSans-48\"/>\n       <use x=\"740.185547\" xlink:href=\"#DejaVuSans-58\"/>\n       <use x=\"773.876953\" xlink:href=\"#DejaVuSans-48\"/>\n       <use x=\"837.5\" xlink:href=\"#DejaVuSans-48\"/>\n       <use x=\"901.123047\" xlink:href=\"#DejaVuSans-58\"/>\n       <use x=\"934.814453\" xlink:href=\"#DejaVuSans-48\"/>\n       <use x=\"998.4375\" xlink:href=\"#DejaVuSans-48\"/>\n      </g>\n     </g>\n    </g>\n    <g id=\"xtick_5\">\n     <g id=\"line2d_5\">\n      <g>\n       <use style=\"stroke:#000000;stroke-width:0.8;\" x=\"179.602188\" xlink:href=\"#mdc7a5de7a9\" y=\"224.64\"/>\n      </g>\n     </g>\n     <g id=\"text_5\">\n      <!-- 2018-12-22 00:00:00 -->\n      <g transform=\"translate(182.361563 337.84625)rotate(-90)scale(0.1 -0.1)\">\n       <use xlink:href=\"#DejaVuSans-50\"/>\n       <use x=\"63.623047\" xlink:href=\"#DejaVuSans-48\"/>\n       <use x=\"127.246094\" xlink:href=\"#DejaVuSans-49\"/>\n       <use x=\"190.869141\" xlink:href=\"#DejaVuSans-56\"/>\n       <use x=\"254.492188\" xlink:href=\"#DejaVuSans-45\"/>\n       <use x=\"290.576172\" xlink:href=\"#DejaVuSans-49\"/>\n       <use x=\"354.199219\" xlink:href=\"#DejaVuSans-50\"/>\n       <use x=\"417.822266\" xlink:href=\"#DejaVuSans-45\"/>\n       <use x=\"453.90625\" xlink:href=\"#DejaVuSans-50\"/>\n       <use x=\"517.529297\" xlink:href=\"#DejaVuSans-50\"/>\n       <use x=\"581.152344\" xlink:href=\"#DejaVuSans-32\"/>\n       <use x=\"612.939453\" xlink:href=\"#DejaVuSans-48\"/>\n       <use x=\"676.5625\" xlink:href=\"#DejaVuSans-48\"/>\n       <use x=\"740.185547\" xlink:href=\"#DejaVuSans-58\"/>\n       <use x=\"773.876953\" xlink:href=\"#DejaVuSans-48\"/>\n       <use x=\"837.5\" xlink:href=\"#DejaVuSans-48\"/>\n       <use x=\"901.123047\" xlink:href=\"#DejaVuSans-58\"/>\n       <use x=\"934.814453\" xlink:href=\"#DejaVuSans-48\"/>\n       <use x=\"998.4375\" xlink:href=\"#DejaVuSans-48\"/>\n      </g>\n     </g>\n    </g>\n    <g id=\"xtick_6\">\n     <g id=\"line2d_6\">\n      <g>\n       <use style=\"stroke:#000000;stroke-width:0.8;\" x=\"213.082188\" xlink:href=\"#mdc7a5de7a9\" y=\"224.64\"/>\n      </g>\n     </g>\n     <g id=\"text_6\">\n      <!-- 2018-12-23 00:00:00 -->\n      <defs>\n       <path d=\"M 40.578125 39.3125 \nQ 47.65625 37.796875 51.625 33 \nQ 55.609375 28.21875 55.609375 21.1875 \nQ 55.609375 10.40625 48.1875 4.484375 \nQ 40.765625 -1.421875 27.09375 -1.421875 \nQ 22.515625 -1.421875 17.65625 -0.515625 \nQ 12.796875 0.390625 7.625 2.203125 \nL 7.625 11.71875 \nQ 11.71875 9.328125 16.59375 8.109375 \nQ 21.484375 6.890625 26.8125 6.890625 \nQ 36.078125 6.890625 40.9375 10.546875 \nQ 45.796875 14.203125 45.796875 21.1875 \nQ 45.796875 27.640625 41.28125 31.265625 \nQ 36.765625 34.90625 28.71875 34.90625 \nL 20.21875 34.90625 \nL 20.21875 43.015625 \nL 29.109375 43.015625 \nQ 36.375 43.015625 40.234375 45.921875 \nQ 44.09375 48.828125 44.09375 54.296875 \nQ 44.09375 59.90625 40.109375 62.90625 \nQ 36.140625 65.921875 28.71875 65.921875 \nQ 24.65625 65.921875 20.015625 65.03125 \nQ 15.375 64.15625 9.8125 62.3125 \nL 9.8125 71.09375 \nQ 15.4375 72.65625 20.34375 73.4375 \nQ 25.25 74.21875 29.59375 74.21875 \nQ 40.828125 74.21875 47.359375 69.109375 \nQ 53.90625 64.015625 53.90625 55.328125 \nQ 53.90625 49.265625 50.4375 45.09375 \nQ 46.96875 40.921875 40.578125 39.3125 \nz\n\" id=\"DejaVuSans-51\"/>\n      </defs>\n      <g transform=\"translate(215.841563 337.84625)rotate(-90)scale(0.1 -0.1)\">\n       <use xlink:href=\"#DejaVuSans-50\"/>\n       <use x=\"63.623047\" xlink:href=\"#DejaVuSans-48\"/>\n       <use x=\"127.246094\" xlink:href=\"#DejaVuSans-49\"/>\n       <use x=\"190.869141\" xlink:href=\"#DejaVuSans-56\"/>\n       <use x=\"254.492188\" xlink:href=\"#DejaVuSans-45\"/>\n       <use x=\"290.576172\" xlink:href=\"#DejaVuSans-49\"/>\n       <use x=\"354.199219\" xlink:href=\"#DejaVuSans-50\"/>\n       <use x=\"417.822266\" xlink:href=\"#DejaVuSans-45\"/>\n       <use x=\"453.90625\" xlink:href=\"#DejaVuSans-50\"/>\n       <use x=\"517.529297\" xlink:href=\"#DejaVuSans-51\"/>\n       <use x=\"581.152344\" xlink:href=\"#DejaVuSans-32\"/>\n       <use x=\"612.939453\" xlink:href=\"#DejaVuSans-48\"/>\n       <use x=\"676.5625\" xlink:href=\"#DejaVuSans-48\"/>\n       <use x=\"740.185547\" xlink:href=\"#DejaVuSans-58\"/>\n       <use x=\"773.876953\" xlink:href=\"#DejaVuSans-48\"/>\n       <use x=\"837.5\" xlink:href=\"#DejaVuSans-48\"/>\n       <use x=\"901.123047\" xlink:href=\"#DejaVuSans-58\"/>\n       <use x=\"934.814453\" xlink:href=\"#DejaVuSans-48\"/>\n       <use x=\"998.4375\" xlink:href=\"#DejaVuSans-48\"/>\n      </g>\n     </g>\n    </g>\n    <g id=\"xtick_7\">\n     <g id=\"line2d_7\">\n      <g>\n       <use style=\"stroke:#000000;stroke-width:0.8;\" x=\"246.562188\" xlink:href=\"#mdc7a5de7a9\" y=\"224.64\"/>\n      </g>\n     </g>\n     <g id=\"text_7\">\n      <!-- 2018-12-24 00:00:00 -->\n      <defs>\n       <path d=\"M 37.796875 64.3125 \nL 12.890625 25.390625 \nL 37.796875 25.390625 \nz\nM 35.203125 72.90625 \nL 47.609375 72.90625 \nL 47.609375 25.390625 \nL 58.015625 25.390625 \nL 58.015625 17.1875 \nL 47.609375 17.1875 \nL 47.609375 0 \nL 37.796875 0 \nL 37.796875 17.1875 \nL 4.890625 17.1875 \nL 4.890625 26.703125 \nz\n\" id=\"DejaVuSans-52\"/>\n      </defs>\n      <g transform=\"translate(249.321563 337.84625)rotate(-90)scale(0.1 -0.1)\">\n       <use xlink:href=\"#DejaVuSans-50\"/>\n       <use x=\"63.623047\" xlink:href=\"#DejaVuSans-48\"/>\n       <use x=\"127.246094\" xlink:href=\"#DejaVuSans-49\"/>\n       <use x=\"190.869141\" xlink:href=\"#DejaVuSans-56\"/>\n       <use x=\"254.492188\" xlink:href=\"#DejaVuSans-45\"/>\n       <use x=\"290.576172\" xlink:href=\"#DejaVuSans-49\"/>\n       <use x=\"354.199219\" xlink:href=\"#DejaVuSans-50\"/>\n       <use x=\"417.822266\" xlink:href=\"#DejaVuSans-45\"/>\n       <use x=\"453.90625\" xlink:href=\"#DejaVuSans-50\"/>\n       <use x=\"517.529297\" xlink:href=\"#DejaVuSans-52\"/>\n       <use x=\"581.152344\" xlink:href=\"#DejaVuSans-32\"/>\n       <use x=\"612.939453\" xlink:href=\"#DejaVuSans-48\"/>\n       <use x=\"676.5625\" xlink:href=\"#DejaVuSans-48\"/>\n       <use x=\"740.185547\" xlink:href=\"#DejaVuSans-58\"/>\n       <use x=\"773.876953\" xlink:href=\"#DejaVuSans-48\"/>\n       <use x=\"837.5\" xlink:href=\"#DejaVuSans-48\"/>\n       <use x=\"901.123047\" xlink:href=\"#DejaVuSans-58\"/>\n       <use x=\"934.814453\" xlink:href=\"#DejaVuSans-48\"/>\n       <use x=\"998.4375\" xlink:href=\"#DejaVuSans-48\"/>\n      </g>\n     </g>\n    </g>\n    <g id=\"xtick_8\">\n     <g id=\"line2d_8\">\n      <g>\n       <use style=\"stroke:#000000;stroke-width:0.8;\" x=\"280.042188\" xlink:href=\"#mdc7a5de7a9\" y=\"224.64\"/>\n      </g>\n     </g>\n     <g id=\"text_8\">\n      <!-- 2018-12-25 00:00:00 -->\n      <defs>\n       <path d=\"M 10.796875 72.90625 \nL 49.515625 72.90625 \nL 49.515625 64.59375 \nL 19.828125 64.59375 \nL 19.828125 46.734375 \nQ 21.96875 47.46875 24.109375 47.828125 \nQ 26.265625 48.1875 28.421875 48.1875 \nQ 40.625 48.1875 47.75 41.5 \nQ 54.890625 34.8125 54.890625 23.390625 \nQ 54.890625 11.625 47.5625 5.09375 \nQ 40.234375 -1.421875 26.90625 -1.421875 \nQ 22.3125 -1.421875 17.546875 -0.640625 \nQ 12.796875 0.140625 7.71875 1.703125 \nL 7.71875 11.625 \nQ 12.109375 9.234375 16.796875 8.0625 \nQ 21.484375 6.890625 26.703125 6.890625 \nQ 35.15625 6.890625 40.078125 11.328125 \nQ 45.015625 15.765625 45.015625 23.390625 \nQ 45.015625 31 40.078125 35.4375 \nQ 35.15625 39.890625 26.703125 39.890625 \nQ 22.75 39.890625 18.8125 39.015625 \nQ 14.890625 38.140625 10.796875 36.28125 \nz\n\" id=\"DejaVuSans-53\"/>\n      </defs>\n      <g transform=\"translate(282.801562 337.84625)rotate(-90)scale(0.1 -0.1)\">\n       <use xlink:href=\"#DejaVuSans-50\"/>\n       <use x=\"63.623047\" xlink:href=\"#DejaVuSans-48\"/>\n       <use x=\"127.246094\" xlink:href=\"#DejaVuSans-49\"/>\n       <use x=\"190.869141\" xlink:href=\"#DejaVuSans-56\"/>\n       <use x=\"254.492188\" xlink:href=\"#DejaVuSans-45\"/>\n       <use x=\"290.576172\" xlink:href=\"#DejaVuSans-49\"/>\n       <use x=\"354.199219\" xlink:href=\"#DejaVuSans-50\"/>\n       <use x=\"417.822266\" xlink:href=\"#DejaVuSans-45\"/>\n       <use x=\"453.90625\" xlink:href=\"#DejaVuSans-50\"/>\n       <use x=\"517.529297\" xlink:href=\"#DejaVuSans-53\"/>\n       <use x=\"581.152344\" xlink:href=\"#DejaVuSans-32\"/>\n       <use x=\"612.939453\" xlink:href=\"#DejaVuSans-48\"/>\n       <use x=\"676.5625\" xlink:href=\"#DejaVuSans-48\"/>\n       <use x=\"740.185547\" xlink:href=\"#DejaVuSans-58\"/>\n       <use x=\"773.876953\" xlink:href=\"#DejaVuSans-48\"/>\n       <use x=\"837.5\" xlink:href=\"#DejaVuSans-48\"/>\n       <use x=\"901.123047\" xlink:href=\"#DejaVuSans-58\"/>\n       <use x=\"934.814453\" xlink:href=\"#DejaVuSans-48\"/>\n       <use x=\"998.4375\" xlink:href=\"#DejaVuSans-48\"/>\n      </g>\n     </g>\n    </g>\n    <g id=\"xtick_9\">\n     <g id=\"line2d_9\">\n      <g>\n       <use style=\"stroke:#000000;stroke-width:0.8;\" x=\"313.522188\" xlink:href=\"#mdc7a5de7a9\" y=\"224.64\"/>\n      </g>\n     </g>\n     <g id=\"text_9\">\n      <!-- 2018-12-26 00:00:00 -->\n      <defs>\n       <path d=\"M 33.015625 40.375 \nQ 26.375 40.375 22.484375 35.828125 \nQ 18.609375 31.296875 18.609375 23.390625 \nQ 18.609375 15.53125 22.484375 10.953125 \nQ 26.375 6.390625 33.015625 6.390625 \nQ 39.65625 6.390625 43.53125 10.953125 \nQ 47.40625 15.53125 47.40625 23.390625 \nQ 47.40625 31.296875 43.53125 35.828125 \nQ 39.65625 40.375 33.015625 40.375 \nz\nM 52.59375 71.296875 \nL 52.59375 62.3125 \nQ 48.875 64.0625 45.09375 64.984375 \nQ 41.3125 65.921875 37.59375 65.921875 \nQ 27.828125 65.921875 22.671875 59.328125 \nQ 17.53125 52.734375 16.796875 39.40625 \nQ 19.671875 43.65625 24.015625 45.921875 \nQ 28.375 48.1875 33.59375 48.1875 \nQ 44.578125 48.1875 50.953125 41.515625 \nQ 57.328125 34.859375 57.328125 23.390625 \nQ 57.328125 12.15625 50.6875 5.359375 \nQ 44.046875 -1.421875 33.015625 -1.421875 \nQ 20.359375 -1.421875 13.671875 8.265625 \nQ 6.984375 17.96875 6.984375 36.375 \nQ 6.984375 53.65625 15.1875 63.9375 \nQ 23.390625 74.21875 37.203125 74.21875 \nQ 40.921875 74.21875 44.703125 73.484375 \nQ 48.484375 72.75 52.59375 71.296875 \nz\n\" id=\"DejaVuSans-54\"/>\n      </defs>\n      <g transform=\"translate(316.281563 337.84625)rotate(-90)scale(0.1 -0.1)\">\n       <use xlink:href=\"#DejaVuSans-50\"/>\n       <use x=\"63.623047\" xlink:href=\"#DejaVuSans-48\"/>\n       <use x=\"127.246094\" xlink:href=\"#DejaVuSans-49\"/>\n       <use x=\"190.869141\" xlink:href=\"#DejaVuSans-56\"/>\n       <use x=\"254.492188\" xlink:href=\"#DejaVuSans-45\"/>\n       <use x=\"290.576172\" xlink:href=\"#DejaVuSans-49\"/>\n       <use x=\"354.199219\" xlink:href=\"#DejaVuSans-50\"/>\n       <use x=\"417.822266\" xlink:href=\"#DejaVuSans-45\"/>\n       <use x=\"453.90625\" xlink:href=\"#DejaVuSans-50\"/>\n       <use x=\"517.529297\" xlink:href=\"#DejaVuSans-54\"/>\n       <use x=\"581.152344\" xlink:href=\"#DejaVuSans-32\"/>\n       <use x=\"612.939453\" xlink:href=\"#DejaVuSans-48\"/>\n       <use x=\"676.5625\" xlink:href=\"#DejaVuSans-48\"/>\n       <use x=\"740.185547\" xlink:href=\"#DejaVuSans-58\"/>\n       <use x=\"773.876953\" xlink:href=\"#DejaVuSans-48\"/>\n       <use x=\"837.5\" xlink:href=\"#DejaVuSans-48\"/>\n       <use x=\"901.123047\" xlink:href=\"#DejaVuSans-58\"/>\n       <use x=\"934.814453\" xlink:href=\"#DejaVuSans-48\"/>\n       <use x=\"998.4375\" xlink:href=\"#DejaVuSans-48\"/>\n      </g>\n     </g>\n    </g>\n    <g id=\"xtick_10\">\n     <g id=\"line2d_10\">\n      <g>\n       <use style=\"stroke:#000000;stroke-width:0.8;\" x=\"347.002188\" xlink:href=\"#mdc7a5de7a9\" y=\"224.64\"/>\n      </g>\n     </g>\n     <g id=\"text_10\">\n      <!-- 2018-12-27 00:00:00 -->\n      <defs>\n       <path d=\"M 8.203125 72.90625 \nL 55.078125 72.90625 \nL 55.078125 68.703125 \nL 28.609375 0 \nL 18.3125 0 \nL 43.21875 64.59375 \nL 8.203125 64.59375 \nz\n\" id=\"DejaVuSans-55\"/>\n      </defs>\n      <g transform=\"translate(349.761563 337.84625)rotate(-90)scale(0.1 -0.1)\">\n       <use xlink:href=\"#DejaVuSans-50\"/>\n       <use x=\"63.623047\" xlink:href=\"#DejaVuSans-48\"/>\n       <use x=\"127.246094\" xlink:href=\"#DejaVuSans-49\"/>\n       <use x=\"190.869141\" xlink:href=\"#DejaVuSans-56\"/>\n       <use x=\"254.492188\" xlink:href=\"#DejaVuSans-45\"/>\n       <use x=\"290.576172\" xlink:href=\"#DejaVuSans-49\"/>\n       <use x=\"354.199219\" xlink:href=\"#DejaVuSans-50\"/>\n       <use x=\"417.822266\" xlink:href=\"#DejaVuSans-45\"/>\n       <use x=\"453.90625\" xlink:href=\"#DejaVuSans-50\"/>\n       <use x=\"517.529297\" xlink:href=\"#DejaVuSans-55\"/>\n       <use x=\"581.152344\" xlink:href=\"#DejaVuSans-32\"/>\n       <use x=\"612.939453\" xlink:href=\"#DejaVuSans-48\"/>\n       <use x=\"676.5625\" xlink:href=\"#DejaVuSans-48\"/>\n       <use x=\"740.185547\" xlink:href=\"#DejaVuSans-58\"/>\n       <use x=\"773.876953\" xlink:href=\"#DejaVuSans-48\"/>\n       <use x=\"837.5\" xlink:href=\"#DejaVuSans-48\"/>\n       <use x=\"901.123047\" xlink:href=\"#DejaVuSans-58\"/>\n       <use x=\"934.814453\" xlink:href=\"#DejaVuSans-48\"/>\n       <use x=\"998.4375\" xlink:href=\"#DejaVuSans-48\"/>\n      </g>\n     </g>\n    </g>\n   </g>\n   <g id=\"matplotlib.axis_2\">\n    <g id=\"ytick_1\">\n     <g id=\"line2d_11\">\n      <defs>\n       <path d=\"M 0 0 \nL -3.5 0 \n\" id=\"m3371a33ec0\" style=\"stroke:#000000;stroke-width:0.8;\"/>\n      </defs>\n      <g>\n       <use style=\"stroke:#000000;stroke-width:0.8;\" x=\"28.942188\" xlink:href=\"#m3371a33ec0\" y=\"207.170921\"/>\n      </g>\n     </g>\n     <g id=\"text_11\">\n      <!-- −3 -->\n      <defs>\n       <path d=\"M 10.59375 35.5 \nL 73.1875 35.5 \nL 73.1875 27.203125 \nL 10.59375 27.203125 \nz\n\" id=\"DejaVuSans-8722\"/>\n      </defs>\n      <g transform=\"translate(7.2 210.970139)scale(0.1 -0.1)\">\n       <use xlink:href=\"#DejaVuSans-8722\"/>\n       <use x=\"83.789062\" xlink:href=\"#DejaVuSans-51\"/>\n      </g>\n     </g>\n    </g>\n    <g id=\"ytick_2\">\n     <g id=\"line2d_12\">\n      <g>\n       <use style=\"stroke:#000000;stroke-width:0.8;\" x=\"28.942188\" xlink:href=\"#m3371a33ec0\" y=\"179.68834\"/>\n      </g>\n     </g>\n     <g id=\"text_12\">\n      <!-- −2 -->\n      <g transform=\"translate(7.2 183.487559)scale(0.1 -0.1)\">\n       <use xlink:href=\"#DejaVuSans-8722\"/>\n       <use x=\"83.789062\" xlink:href=\"#DejaVuSans-50\"/>\n      </g>\n     </g>\n    </g>\n    <g id=\"ytick_3\">\n     <g id=\"line2d_13\">\n      <g>\n       <use style=\"stroke:#000000;stroke-width:0.8;\" x=\"28.942188\" xlink:href=\"#m3371a33ec0\" y=\"152.20576\"/>\n      </g>\n     </g>\n     <g id=\"text_13\">\n      <!-- −1 -->\n      <g transform=\"translate(7.2 156.004979)scale(0.1 -0.1)\">\n       <use xlink:href=\"#DejaVuSans-8722\"/>\n       <use x=\"83.789062\" xlink:href=\"#DejaVuSans-49\"/>\n      </g>\n     </g>\n    </g>\n    <g id=\"ytick_4\">\n     <g id=\"line2d_14\">\n      <g>\n       <use style=\"stroke:#000000;stroke-width:0.8;\" x=\"28.942188\" xlink:href=\"#m3371a33ec0\" y=\"124.72318\"/>\n      </g>\n     </g>\n     <g id=\"text_14\">\n      <!-- 0 -->\n      <g transform=\"translate(15.579688 128.522399)scale(0.1 -0.1)\">\n       <use xlink:href=\"#DejaVuSans-48\"/>\n      </g>\n     </g>\n    </g>\n    <g id=\"ytick_5\">\n     <g id=\"line2d_15\">\n      <g>\n       <use style=\"stroke:#000000;stroke-width:0.8;\" x=\"28.942188\" xlink:href=\"#m3371a33ec0\" y=\"97.2406\"/>\n      </g>\n     </g>\n     <g id=\"text_15\">\n      <!-- 1 -->\n      <g transform=\"translate(15.579688 101.039818)scale(0.1 -0.1)\">\n       <use xlink:href=\"#DejaVuSans-49\"/>\n      </g>\n     </g>\n    </g>\n    <g id=\"ytick_6\">\n     <g id=\"line2d_16\">\n      <g>\n       <use style=\"stroke:#000000;stroke-width:0.8;\" x=\"28.942188\" xlink:href=\"#m3371a33ec0\" y=\"69.758019\"/>\n      </g>\n     </g>\n     <g id=\"text_16\">\n      <!-- 2 -->\n      <g transform=\"translate(15.579688 73.557238)scale(0.1 -0.1)\">\n       <use xlink:href=\"#DejaVuSans-50\"/>\n      </g>\n     </g>\n    </g>\n    <g id=\"ytick_7\">\n     <g id=\"line2d_17\">\n      <g>\n       <use style=\"stroke:#000000;stroke-width:0.8;\" x=\"28.942188\" xlink:href=\"#m3371a33ec0\" y=\"42.275439\"/>\n      </g>\n     </g>\n     <g id=\"text_17\">\n      <!-- 3 -->\n      <g transform=\"translate(15.579688 46.074658)scale(0.1 -0.1)\">\n       <use xlink:href=\"#DejaVuSans-51\"/>\n      </g>\n     </g>\n    </g>\n    <g id=\"ytick_8\">\n     <g id=\"line2d_18\">\n      <g>\n       <use style=\"stroke:#000000;stroke-width:0.8;\" x=\"28.942188\" xlink:href=\"#m3371a33ec0\" y=\"14.792859\"/>\n      </g>\n     </g>\n     <g id=\"text_18\">\n      <!-- 4 -->\n      <g transform=\"translate(15.579688 18.592078)scale(0.1 -0.1)\">\n       <use xlink:href=\"#DejaVuSans-52\"/>\n      </g>\n     </g>\n    </g>\n   </g>\n   <g id=\"patch_43\">\n    <path d=\"M 28.942188 224.64 \nL 28.942188 7.2 \n\" style=\"fill:none;stroke:#000000;stroke-linecap:square;stroke-linejoin:miter;stroke-width:0.8;\"/>\n   </g>\n   <g id=\"patch_44\">\n    <path d=\"M 363.742188 224.64 \nL 363.742188 7.2 \n\" style=\"fill:none;stroke:#000000;stroke-linecap:square;stroke-linejoin:miter;stroke-width:0.8;\"/>\n   </g>\n   <g id=\"patch_45\">\n    <path d=\"M 28.942188 224.64 \nL 363.742188 224.64 \n\" style=\"fill:none;stroke:#000000;stroke-linecap:square;stroke-linejoin:miter;stroke-width:0.8;\"/>\n   </g>\n   <g id=\"patch_46\">\n    <path d=\"M 28.942188 7.2 \nL 363.742188 7.2 \n\" style=\"fill:none;stroke:#000000;stroke-linecap:square;stroke-linejoin:miter;stroke-width:0.8;\"/>\n   </g>\n   <g id=\"legend_1\">\n    <g id=\"patch_47\">\n     <path d=\"M 35.942188 219.64 \nL 75.642188 219.64 \nQ 77.642188 219.64 77.642188 217.64 \nL 77.642188 159.9275 \nQ 77.642188 157.9275 75.642188 157.9275 \nL 35.942188 157.9275 \nQ 33.942188 157.9275 33.942188 159.9275 \nL 33.942188 217.64 \nQ 33.942188 219.64 35.942188 219.64 \nz\n\" style=\"fill:#ffffff;opacity:0.8;stroke:#cccccc;stroke-linejoin:miter;\"/>\n    </g>\n    <g id=\"patch_48\">\n     <path d=\"M 37.942188 169.525937 \nL 57.942188 169.525937 \nL 57.942188 162.525937 \nL 37.942188 162.525937 \nz\n\" style=\"fill:#1f77b4;\"/>\n    </g>\n    <g id=\"text_19\">\n     <!-- A -->\n     <defs>\n      <path d=\"M 34.1875 63.1875 \nL 20.796875 26.90625 \nL 47.609375 26.90625 \nz\nM 28.609375 72.90625 \nL 39.796875 72.90625 \nL 67.578125 0 \nL 57.328125 0 \nL 50.6875 18.703125 \nL 17.828125 18.703125 \nL 11.1875 0 \nL 0.78125 0 \nz\n\" id=\"DejaVuSans-65\"/>\n     </defs>\n     <g transform=\"translate(65.942188 169.525937)scale(0.1 -0.1)\">\n      <use xlink:href=\"#DejaVuSans-65\"/>\n     </g>\n    </g>\n    <g id=\"patch_49\">\n     <path d=\"M 37.942188 184.204062 \nL 57.942188 184.204062 \nL 57.942188 177.204062 \nL 37.942188 177.204062 \nz\n\" style=\"fill:#ff7f0e;\"/>\n    </g>\n    <g id=\"text_20\">\n     <!-- B -->\n     <defs>\n      <path d=\"M 19.671875 34.8125 \nL 19.671875 8.109375 \nL 35.5 8.109375 \nQ 43.453125 8.109375 47.28125 11.40625 \nQ 51.125 14.703125 51.125 21.484375 \nQ 51.125 28.328125 47.28125 31.5625 \nQ 43.453125 34.8125 35.5 34.8125 \nz\nM 19.671875 64.796875 \nL 19.671875 42.828125 \nL 34.28125 42.828125 \nQ 41.5 42.828125 45.03125 45.53125 \nQ 48.578125 48.25 48.578125 53.8125 \nQ 48.578125 59.328125 45.03125 62.0625 \nQ 41.5 64.796875 34.28125 64.796875 \nz\nM 9.8125 72.90625 \nL 35.015625 72.90625 \nQ 46.296875 72.90625 52.390625 68.21875 \nQ 58.5 63.53125 58.5 54.890625 \nQ 58.5 48.1875 55.375 44.234375 \nQ 52.25 40.28125 46.1875 39.3125 \nQ 53.46875 37.75 57.5 32.78125 \nQ 61.53125 27.828125 61.53125 20.40625 \nQ 61.53125 10.640625 54.890625 5.3125 \nQ 48.25 0 35.984375 0 \nL 9.8125 0 \nz\n\" id=\"DejaVuSans-66\"/>\n     </defs>\n     <g transform=\"translate(65.942188 184.204062)scale(0.1 -0.1)\">\n      <use xlink:href=\"#DejaVuSans-66\"/>\n     </g>\n    </g>\n    <g id=\"patch_50\">\n     <path d=\"M 37.942188 198.882187 \nL 57.942188 198.882187 \nL 57.942188 191.882187 \nL 37.942188 191.882187 \nz\n\" style=\"fill:#2ca02c;\"/>\n    </g>\n    <g id=\"text_21\">\n     <!-- C -->\n     <defs>\n      <path d=\"M 64.40625 67.28125 \nL 64.40625 56.890625 \nQ 59.421875 61.53125 53.78125 63.8125 \nQ 48.140625 66.109375 41.796875 66.109375 \nQ 29.296875 66.109375 22.65625 58.46875 \nQ 16.015625 50.828125 16.015625 36.375 \nQ 16.015625 21.96875 22.65625 14.328125 \nQ 29.296875 6.6875 41.796875 6.6875 \nQ 48.140625 6.6875 53.78125 8.984375 \nQ 59.421875 11.28125 64.40625 15.921875 \nL 64.40625 5.609375 \nQ 59.234375 2.09375 53.4375 0.328125 \nQ 47.65625 -1.421875 41.21875 -1.421875 \nQ 24.65625 -1.421875 15.125 8.703125 \nQ 5.609375 18.84375 5.609375 36.375 \nQ 5.609375 53.953125 15.125 64.078125 \nQ 24.65625 74.21875 41.21875 74.21875 \nQ 47.75 74.21875 53.53125 72.484375 \nQ 59.328125 70.75 64.40625 67.28125 \nz\n\" id=\"DejaVuSans-67\"/>\n     </defs>\n     <g transform=\"translate(65.942188 198.882187)scale(0.1 -0.1)\">\n      <use xlink:href=\"#DejaVuSans-67\"/>\n     </g>\n    </g>\n    <g id=\"patch_51\">\n     <path d=\"M 37.942188 213.560312 \nL 57.942188 213.560312 \nL 57.942188 206.560312 \nL 37.942188 206.560312 \nz\n\" style=\"fill:#d62728;\"/>\n    </g>\n    <g id=\"text_22\">\n     <!-- D -->\n     <defs>\n      <path d=\"M 19.671875 64.796875 \nL 19.671875 8.109375 \nL 31.59375 8.109375 \nQ 46.6875 8.109375 53.6875 14.9375 \nQ 60.6875 21.78125 60.6875 36.53125 \nQ 60.6875 51.171875 53.6875 57.984375 \nQ 46.6875 64.796875 31.59375 64.796875 \nz\nM 9.8125 72.90625 \nL 30.078125 72.90625 \nQ 51.265625 72.90625 61.171875 64.09375 \nQ 71.09375 55.28125 71.09375 36.53125 \nQ 71.09375 17.671875 61.125 8.828125 \nQ 51.171875 0 30.078125 0 \nL 9.8125 0 \nz\n\" id=\"DejaVuSans-68\"/>\n     </defs>\n     <g transform=\"translate(65.942188 213.560312)scale(0.1 -0.1)\">\n      <use xlink:href=\"#DejaVuSans-68\"/>\n     </g>\n    </g>\n   </g>\n  </g>\n </g>\n <defs>\n  <clipPath id=\"pebe89be32f\">\n   <rect height=\"217.44\" width=\"334.8\" x=\"28.942188\" y=\"7.2\"/>\n  </clipPath>\n </defs>\n</svg>\n",
      "image/png": "[encoded data removed]"
     },
     "metadata": {
      "needs_background": "light"
     }
    }
   ],
   "source": [
    "df.plot.bar(stacked=True)"
   ]
  },
  {
   "cell_type": "code",
   "execution_count": null,
   "metadata": {},
   "outputs": [],
   "source": []
  },
  {
   "cell_type": "code",
   "execution_count": null,
   "metadata": {},
   "outputs": [],
   "source": []
  }
 ],
 "metadata": {
  "kernelspec": {
   "display_name": "Python 3",
   "language": "python",
   "name": "python3"
  },
  "language_info": {
   "codemirror_mode": {
    "name": "ipython",
    "version": 3
   },
   "file_extension": ".py",
   "mimetype": "text/x-python",
   "name": "python",
   "nbconvert_exporter": "python",
   "pygments_lexer": "ipython3",
   "version": "3.7.6-final"
  },
  "pycharm": {
   "stem_cell": {
    "cell_type": "raw",
    "metadata": {
     "collapsed": false
    },
    "source": []
   }
  }
 },
 "nbformat": 4,
 "nbformat_minor": 1
}