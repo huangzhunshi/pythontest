{
 "cells": [
  {
   "cell_type": "markdown",
   "metadata": {},
   "source": [
    "### 新建电影库和标签库"
   ]
  },
  {
   "cell_type": "code",
   "execution_count": null,
   "metadata": {},
   "outputs": [],
   "source": [
    "mdata=pd.DataFrame(columns=list(['名称','年份','评分','评论数','影评数','标签','链接地址']))\n"
   ]
  },
  {
   "cell_type": "code",
   "execution_count": 72,
   "metadata": {},
   "outputs": [],
   "source": [
    "mtag=pd.DataFrame(columns=list(['标签','链接地址']))"
   ]
  },
  {
   "cell_type": "markdown",
   "metadata": {},
   "source": [
    "### 定义添加标签方法"
   ]
  },
  {
   "cell_type": "code",
   "execution_count": 48,
   "metadata": {},
   "outputs": [],
   "source": [
    "'''\n",
    "添加标签\n",
    "'''\n",
    "def add_tag(tag,url):\n",
    "    if tag!='':\n",
    "        mtag.loc[len(mtag)]={'标签':tag,'链接地址':url}\n",
    "    "
   ]
  },
  {
   "cell_type": "markdown",
   "metadata": {},
   "source": [
    "### 定义相关爬取方法"
   ]
  },
  {
   "cell_type": "code",
   "execution_count": 49,
   "metadata": {},
   "outputs": [],
   "source": [
    "import pandas as pd\n",
    "import requests\n",
    "from bs4 import BeautifulSoup\n",
    "import re\n",
    "\n",
    "headers = {\n",
    "    'User-Agent':'Mozilla/5.0 (Windows NT 6.1; WOW64) AppleWebKit/537.36 (KHTML, like Gecko) Chrome/63.0.3239.132 Safari/537.36 QIHU 360SE'\n",
    "}\n",
    "\n",
    "'''\n",
    "获取详情相关数据\n",
    "'''\n",
    "def get_movie_details(url):\n",
    "    try:\n",
    "        mhtml=requests.get(url,headers=headers)\n",
    "        soup=BeautifulSoup(mhtml.text,'html.parser')\n",
    "        '''\n",
    "        名称\n",
    "        '''\n",
    "        name= soup.find('span',property=\"v:itemreviewed\").text\n",
    "        year= soup.find('span',class_=\"year\").text.replace('(','').replace(')','')\n",
    "        score =soup.find('strong',class_=\"ll rating_num\").text\n",
    "        commentCount=soup.find('a',href=url+\"comments?status=P\").text.replace(' ','').replace('全部','').replace('条','')\n",
    "         \n",
    "        tag=div_tag=soup.find('div',class_='tags-body').text\n",
    "\n",
    "        reviewCount=soup.find_all('a',href=\"reviews\")[0].text.replace(' ','').replace('全部','').replace('条','')\n",
    "        # return {'名称':name,'年份':year,'评分':score,'评论数':commentCount,'影评数':reviewCount,'链接地址':url}\n",
    "        return {'名称': name, '年份': year, '评分': score, '评论数': commentCount, '影评数': reviewCount,'标签':tag,'链接地址':url}\n",
    "    except(Exception) as err:\n",
    "        print(err)\n",
    "    \n",
    "    return {'名称': '', '年份': '', '评分': '', '评论数': '', '影评数': '','标签':'','链接地址':url}"
   ]
  },
  {
   "cell_type": "code",
   "execution_count": 39,
   "metadata": {},
   "outputs": [
    {
     "output_type": "execute_result",
     "data": {
      "text/plain": "{'名称': '82年生的金智英 82년생 김지영',\n '年份': '2019',\n '评分': '8.6',\n '评论数': '89384',\n '影评数': '2242',\n '标签': '\\n女性\\n韩国\\n家庭\\n社会\\n平权\\n人生\\n女权\\n剧情\\n',\n '链接地址': 'https://movie.douban.com/subject/30327842/'}"
     },
     "metadata": {},
     "execution_count": 39
    }
   ],
   "source": [
    "a=get_movie_details('https://movie.douban.com/subject/30327842/')\n",
    "a"
   ]
  },
  {
   "cell_type": "code",
   "execution_count": 41,
   "metadata": {},
   "outputs": [
    {
     "output_type": "execute_result",
     "data": {
      "text/plain": "list"
     },
     "metadata": {},
     "execution_count": 41
    }
   ],
   "source": [
    "# type(a['标签'].split('\\n'))"
   ]
  },
  {
   "cell_type": "code",
   "execution_count": 43,
   "metadata": {},
   "outputs": [],
   "source": [
    "# for tmp_tag in a['标签'].split('\\n'):\n",
    "#     add_tag(tmp_tag,'')"
   ]
  },
  {
   "cell_type": "code",
   "execution_count": 53,
   "metadata": {
    "tags": [
     "outputPrepend",
     "outputPrepend",
     "outputPrepend",
     "outputPrepend",
     "outputPrepend",
     "outputPrepend"
    ]
   },
   "outputs": [
    {
     "output_type": "stream",
     "name": "stdout",
     "text": "ie.douban.com/subject/30271841/\n采集中：https://movie.douban.com/subject/30318116/\n采集中：https://movie.douban.com/subject/30292777/\n采集中：https://movie.douban.com/subject/30331959/\n采集中：https://movie.douban.com/subject/26709258/\n采集中：https://movie.douban.com/subject/30410114/\n采集中：https://movie.douban.com/subject/26858510/\n采集中：https://movie.douban.com/subject/30211998/\n采集中：https://movie.douban.com/subject/26871906/\n采集中：https://movie.douban.com/subject/27132510/\n采集中：https://movie.douban.com/subject/26348103/\n采集中：https://movie.douban.com/subject/25842038/\n采集中：https://movie.douban.com/subject/32659890/\n采集中：https://movie.douban.com/subject/30241298/\n采集中：https://movie.douban.com/subject/27002635/\n采集中：https://movie.douban.com/subject/33420285/\n采集中：https://movie.douban.com/subject/34805219/\n采集中：https://movie.douban.com/subject/30258072/\n采集中：https://movie.douban.com/subject/34875369/\n采集中：https://movie.douban.com/subject/26786669/\n采集中：https://movie.douban.com/subject/34951277/\n采集中：https://movie.douban.com/subject/30372377/\n采集中：https://movie.douban.com/subject/30488003/\n采集中：https://movie.douban.com/subject/35088569/\n采集中：https://movie.douban.com/subject/33446524/\n采集中：https://movie.douban.com/subject/34608294/\n采集中：https://movie.douban.com/subject/30269016/\n采集中：https://movie.douban.com/subject/30225296/\n采集中：https://movie.douban.com/subject/5327156/\n采集中：https://movie.douban.com/subject/30371819/\n采集中：https://movie.douban.com/subject/30401849/\n采集中：https://movie.douban.com/subject/33428622/\n采集中：https://movie.douban.com/subject/26952994/\n采集中：https://movie.douban.com/subject/27591193/\n采集中：https://movie.douban.com/subject/30135942/\n采集中：https://movie.douban.com/subject/27046758/\n采集中：https://movie.douban.com/subject/25887288/\n采集中：https://movie.douban.com/subject/30482645/\n采集中：https://movie.douban.com/subject/33411505/\n采集中：https://movie.douban.com/subject/34787747/\n采集中：https://movie.douban.com/subject/27596682/\n采集中：https://movie.douban.com/subject/2364086/\n采集中：https://movie.douban.com/subject/30367682/\n采集中：https://movie.douban.com/subject/30368608/\n采集中：https://movie.douban.com/subject/27000084/\n采集中：https://movie.douban.com/subject/30182726/\n采集中：https://movie.douban.com/subject/26628382/\n采集中：https://movie.douban.com/subject/30145117/\n采集中：https://movie.douban.com/subject/33424345/\n采集中：https://movie.douban.com/subject/10546436/\n采集中：https://movie.douban.com/subject/27179039/\n采集中：https://movie.douban.com/subject/30481833/\n采集中：https://movie.douban.com/subject/30346880/\n采集中：https://movie.douban.com/subject/30462527/\n采集中：https://movie.douban.com/subject/34810454/\n采集中：https://movie.douban.com/subject/27186368/\n采集中：https://movie.douban.com/subject/34603816/\n采集中：https://movie.douban.com/subject/30401194/\n采集中：https://movie.douban.com/subject/34822138/\n采集中：https://movie.douban.com/subject/26929010/\n采集中：https://movie.douban.com/subject/26885074/\n采集中：https://movie.douban.com/subject/26581206/\n采集中：https://movie.douban.com/subject/30314127/\n采集中：https://movie.douban.com/subject/3097572/\n采集中：https://movie.douban.com/subject/30295905/\n采集中：https://movie.douban.com/subject/27615267/\n采集中：https://movie.douban.com/subject/30271236/\n采集中：https://movie.douban.com/subject/21354767/\n采集中：https://movie.douban.com/subject/34894678/\n采集中：https://movie.douban.com/subject/34462037/\n采集中：https://movie.douban.com/subject/10745208/\n采集中：https://movie.douban.com/subject/30405087/\n采集中：https://movie.douban.com/subject/34670218/\n采集中：https://movie.douban.com/subject/27109633/\n采集中：https://movie.douban.com/subject/30394535/\n采集中：https://movie.douban.com/subject/30204413/\n采集中：https://movie.douban.com/subject/30361878/\n采集中：https://movie.douban.com/subject/30395075/\n采集中：https://movie.douban.com/subject/26935296/\n采集中：https://movie.douban.com/subject/27045860/\n采集中：https://movie.douban.com/subject/32491917/\n采集中：https://movie.douban.com/subject/30289194/\n采集中：https://movie.douban.com/subject/34930803/\n采集中：https://movie.douban.com/subject/30426519/\n采集中：https://movie.douban.com/subject/32591373/\n采集中：https://movie.douban.com/subject/27199324/\n采集中：https://movie.douban.com/subject/33218345/\n采集中：https://movie.douban.com/subject/30212622/\n采集中：https://movie.douban.com/subject/33441983/\n采集中：https://movie.douban.com/subject/34461680/\n采集中：https://movie.douban.com/subject/30452121/\n采集中：https://movie.douban.com/subject/30391241/\n采集中：https://movie.douban.com/subject/30140107/\n采集中：https://movie.douban.com/subject/26863060/\n采集中：https://movie.douban.com/subject/34614704/\n采集中：https://movie.douban.com/subject/34919092/\n采集中：https://movie.douban.com/subject/34904937/\n采集中：https://movie.douban.com/subject/35027709/\n采集中：https://movie.douban.com/subject/30403338/\n采集中：https://movie.douban.com/subject/26884422/\n采集中：https://movie.douban.com/subject/30482204/\n采集中：https://movie.douban.com/subject/27115166/\n采集中：https://movie.douban.com/subject/30299311/\n采集中：https://movie.douban.com/subject/27592484/\n采集中：https://movie.douban.com/subject/30348614/\n采集中：https://movie.douban.com/subject/30331424/\n采集中：https://movie.douban.com/subject/30182877/\n采集中：https://movie.douban.com/subject/30210689/\n采集中：https://movie.douban.com/subject/24716039/\n采集中：https://movie.douban.com/subject/34955843/\n采集中：https://movie.douban.com/subject/30180781/\n采集中：https://movie.douban.com/subject/27131198/\n采集中：https://movie.douban.com/subject/25932065/\n采集中：https://movie.douban.com/subject/33399850/\n采集中：https://movie.douban.com/subject/30334118/\n采集中：https://movie.douban.com/subject/34777818/\n采集中：https://movie.douban.com/subject/4185834/\n采集中：https://movie.douban.com/subject/33401841/\n采集中：https://movie.douban.com/subject/34875588/\n采集中：https://movie.douban.com/subject/27594938/\n采集中：https://movie.douban.com/subject/34947678/\n采集中：https://movie.douban.com/subject/33475049/\n采集中：https://movie.douban.com/subject/33379493/\n采集中：https://movie.douban.com/subject/1469353/\n采集中：https://movie.douban.com/subject/30434174/\n采集中：https://movie.douban.com/subject/27599401/\n采集中：https://movie.douban.com/subject/26969541/\n采集中：https://movie.douban.com/subject/30376977/\n采集中：https://movie.douban.com/subject/33436135/\n采集中：https://movie.douban.com/subject/30305532/\n采集中：https://movie.douban.com/subject/34888476/\n采集中：https://movie.douban.com/subject/30309242/\n采集中：https://movie.douban.com/subject/30443610/\n采集中：https://movie.douban.com/subject/35055448/\n采集中：https://movie.douban.com/subject/27107766/\n采集中：https://movie.douban.com/subject/34845342/\n采集中：https://movie.douban.com/subject/34835822/\n采集中：https://movie.douban.com/subject/30168156/\n采集中：https://movie.douban.com/subject/34976971/\n采集中：https://movie.douban.com/subject/34678128/\n采集中：https://movie.douban.com/subject/34866375/\n采集中：https://movie.douban.com/subject/35030774/\n采集中：https://movie.douban.com/subject/34964061/\n采集中：https://movie.douban.com/subject/30167633/\n采集中：https://movie.douban.com/subject/27133569/\n采集中：https://movie.douban.com/subject/30487597/\n采集中：https://movie.douban.com/subject/30481973/\n采集中：https://movie.douban.com/subject/32492219/\n采集中：https://movie.douban.com/subject/30249076/\n采集中：https://movie.douban.com/subject/30279172/\n采集中：https://movie.douban.com/subject/34815865/\n采集中：https://movie.douban.com/subject/34801957/\n采集中：https://movie.douban.com/subject/22265687/\n采集中：https://movie.douban.com/subject/30413052/\n采集中：https://movie.douban.com/subject/30402843/\n采集中：https://movie.douban.com/subject/30318240/\n采集中：https://movie.douban.com/subject/26235346/\n采集中：https://movie.douban.com/subject/30366084/\n采集中：https://movie.douban.com/subject/34913597/\n采集中：https://movie.douban.com/subject/30238379/\n采集中：https://movie.douban.com/subject/34955898/\n采集中：https://movie.douban.com/subject/30257608/\n采集中：https://movie.douban.com/subject/26426056/\n采集中：https://movie.douban.com/subject/27009869/\n采集中：https://movie.douban.com/subject/30200087/\n采集中：https://movie.douban.com/subject/34851172/\n采集中：https://movie.douban.com/subject/27073179/\n采集中：https://movie.douban.com/subject/30372314/\n采集中：https://movie.douban.com/subject/30353076/\n采集中：https://movie.douban.com/subject/30448661/\n采集中：https://movie.douban.com/subject/34797400/\n采集中：https://movie.douban.com/subject/34453221/\n采集中：https://movie.douban.com/subject/30306570/\n采集中：https://movie.douban.com/subject/30263576/\n采集中：https://movie.douban.com/subject/27043260/\n采集中：https://movie.douban.com/subject/27042748/\n采集中：https://movie.douban.com/subject/27611496/\n采集中：https://movie.douban.com/subject/27066196/\n采集中：https://movie.douban.com/subject/30394821/\n采集中：https://movie.douban.com/subject/30373716/\n采集中：https://movie.douban.com/subject/30328825/\n采集中：https://movie.douban.com/subject/33417046/\n采集中：https://movie.douban.com/subject/30463393/\n采集中：https://movie.douban.com/subject/33387265/\n采集中：https://movie.douban.com/subject/30163500/\n采集中：https://movie.douban.com/subject/4811807/\n采集中：https://movie.douban.com/subject/30271717/\n采集中：https://movie.douban.com/subject/30337760/\n采集中：https://movie.douban.com/subject/30264504/\n采集中：https://movie.douban.com/subject/26886204/\n采集中：https://movie.douban.com/subject/26419635/\n采集中：https://movie.douban.com/subject/30334075/\n采集中：https://movie.douban.com/subject/30151048/\n采集中：https://movie.douban.com/subject/34670959/\n采集中：https://movie.douban.com/subject/26580108/\n采集中：https://movie.douban.com/subject/30128985/\n采集中：https://movie.douban.com/subject/34851242/\n采集中：https://movie.douban.com/subject/34964143/\n采集中：https://movie.douban.com/subject/33371865/\n采集中：https://movie.douban.com/subject/25747204/\n采集中：https://movie.douban.com/subject/30196805/\n采集中：https://movie.douban.com/subject/27050130/\n采集中：https://movie.douban.com/subject/34848600/\n采集中：https://movie.douban.com/subject/30430698/\n采集中：https://movie.douban.com/subject/27133567/\n采集中：https://movie.douban.com/subject/30345227/\n采集中：https://movie.douban.com/subject/30364976/\n采集中：https://movie.douban.com/subject/30136692/\n采集中：https://movie.douban.com/subject/30243520/\n采集中：https://movie.douban.com/subject/30307197/\n采集中：https://movie.douban.com/subject/26665875/\n采集中：https://movie.douban.com/subject/30446493/\n采集中：https://movie.douban.com/subject/34462775/\n采集中：https://movie.douban.com/subject/26900949/\n采集中：https://movie.douban.com/subject/34960201/\n采集中：https://movie.douban.com/subject/30353579/\n采集中：https://movie.douban.com/subject/33377652/\n采集中：https://movie.douban.com/subject/34957970/\n采集中：https://movie.douban.com/subject/34825471/\n采集中：https://movie.douban.com/subject/34809353/\n采集中：https://movie.douban.com/subject/26979354/\n采集中：https://movie.douban.com/subject/30294313/\n采集中：https://movie.douban.com/subject/35034171/\n采集中：https://movie.douban.com/subject/30395081/\n采集中：https://movie.douban.com/subject/34781114/\n采集中：https://movie.douban.com/subject/34447006/\n采集中：https://movie.douban.com/subject/27026494/\n采集中：https://movie.douban.com/subject/34887994/\n采集中：https://movie.douban.com/subject/30175647/\n采集中：https://movie.douban.com/subject/30483831/\n采集中：https://movie.douban.com/subject/34912837/\n采集中：https://movie.douban.com/subject/1905779/\n采集中：https://movie.douban.com/subject/34967867/\n采集中：https://movie.douban.com/subject/26664834/\n采集中：https://movie.douban.com/subject/26752547/\n采集中：https://movie.douban.com/subject/35161256/\n采集中：https://movie.douban.com/subject/33381474/\n采集中：https://movie.douban.com/subject/34977893/\n采集中：https://movie.douban.com/subject/30210095/\n采集中：https://movie.douban.com/subject/30143761/\n采集中：https://movie.douban.com/subject/30143698/\n采集中：https://movie.douban.com/subject/35115642/\n采集中：https://movie.douban.com/subject/30397096/\n采集中：https://movie.douban.com/subject/30439272/\n采集中：https://movie.douban.com/subject/34875261/\n采集中：https://movie.douban.com/subject/27005769/\n采集中：https://movie.douban.com/subject/30292843/\n采集中：https://movie.douban.com/subject/30464908/\n采集中：https://movie.douban.com/subject/30259221/\n采集中：https://movie.douban.com/subject/34815429/\n采集中：https://movie.douban.com/subject/27621498/\n采集中：https://movie.douban.com/subject/27002647/\n采集中：https://movie.douban.com/subject/34825959/\n采集中：https://movie.douban.com/subject/35086930/\n采集中：https://movie.douban.com/subject/34836613/\n采集中：https://movie.douban.com/subject/30457155/\n采集中：https://movie.douban.com/subject/34868361/\n采集中：https://movie.douban.com/subject/34887140/\n采集中：https://movie.douban.com/subject/26985839/\n采集中：https://movie.douban.com/subject/33423926/\n采集中：https://movie.douban.com/subject/25941405/\n采集中：https://movie.douban.com/subject/33399866/\n采集中：https://movie.douban.com/subject/34460763/\n采集中：https://movie.douban.com/subject/34906611/\n采集中：https://movie.douban.com/subject/30160393/\n采集中：https://movie.douban.com/subject/34802738/\n采集中：https://movie.douban.com/subject/27002371/\n采集中：https://movie.douban.com/subject/30204446/\n采集中：https://movie.douban.com/subject/34800651/\n采集中：https://movie.douban.com/subject/34937473/\n采集中：https://movie.douban.com/subject/30143838/\n采集中：https://movie.douban.com/subject/30354186/\n采集中：https://movie.douban.com/subject/27062059/\n采集中：https://movie.douban.com/subject/26981442/\n采集中：https://movie.douban.com/subject/34781677/\n采集中：https://movie.douban.com/subject/34886500/\n采集中：https://movie.douban.com/subject/30320204/\n采集中：https://movie.douban.com/subject/34977898/\n采集中：https://movie.douban.com/subject/33414580/\n采集中：https://movie.douban.com/subject/30294332/\n采集中：https://movie.douban.com/subject/34815926/\n采集中：https://movie.douban.com/subject/30425206/\n采集中：https://movie.douban.com/subject/30400499/\n采集中：https://movie.douban.com/subject/27624665/\n采集中：https://movie.douban.com/subject/5151788/\n采集中：https://movie.douban.com/subject/27040158/\n采集中：https://movie.douban.com/subject/30214085/\n采集中：https://movie.douban.com/subject/26320776/\n采集中：https://movie.douban.com/subject/30432964/\n采集中：https://movie.douban.com/subject/34606671/\n采集中：https://movie.douban.com/subject/4014397/\n采集中：https://movie.douban.com/subject/26762744/\n采集中：https://movie.douban.com/subject/34806231/\n采集中：https://movie.douban.com/subject/30220880/\n采集中：https://movie.douban.com/subject/30139659/\n采集中：https://movie.douban.com/subject/26979057/\n采集中：https://movie.douban.com/subject/34968329/\n采集中：https://movie.douban.com/subject/33397766/\n采集中：https://movie.douban.com/subject/30304015/\n采集中：https://movie.douban.com/subject/34661071/\n采集中：https://movie.douban.com/subject/30345300/\n采集中：https://movie.douban.com/subject/34851342/\n采集中：https://movie.douban.com/subject/27177463/\n采集中：https://movie.douban.com/subject/26612258/\n采集中：https://movie.douban.com/subject/20369526/\n采集中：https://movie.douban.com/subject/35086931/\n采集中：https://movie.douban.com/subject/30224749/\n采集中：https://movie.douban.com/subject/33399978/\n采集中：https://movie.douban.com/subject/30433391/\n采集中：https://movie.douban.com/subject/27145041/\n采集中：https://movie.douban.com/subject/30198715/\n采集中：https://movie.douban.com/subject/34852765/\n采集中：https://movie.douban.com/subject/34935840/\n采集中：https://movie.douban.com/subject/30403235/\n采集中：https://movie.douban.com/subject/30141343/\n采集中：https://movie.douban.com/subject/27192028/\n采集中：https://movie.douban.com/subject/30395544/\n采集中：https://movie.douban.com/subject/30288636/\n采集中：https://movie.douban.com/subject/35140001/\n采集中：https://movie.douban.com/subject/34607890/\n采集中：https://movie.douban.com/subject/26969026/\n采集中：https://movie.douban.com/subject/34839475/\n采集中：https://movie.douban.com/subject/26331839/\n采集中：https://movie.douban.com/subject/30151474/\n采集中：https://movie.douban.com/subject/26705567/\n采集中：https://movie.douban.com/subject/30465281/\n采集中：https://movie.douban.com/subject/34964056/\n采集中：https://movie.douban.com/subject/26726815/\n采集中：https://movie.douban.com/subject/30355043/\n采集中：https://movie.douban.com/subject/26974334/\n采集中：https://movie.douban.com/subject/30243342/\n采集中：https://movie.douban.com/subject/34960097/\n采集中：https://movie.douban.com/subject/30258631/\n采集中：https://movie.douban.com/subject/33218378/\n采集中：https://movie.douban.com/subject/30235440/\n采集中：https://movie.douban.com/subject/34964410/\n采集中：https://movie.douban.com/subject/33459814/\n采集中：https://movie.douban.com/subject/30241301/\n采集中：https://movie.douban.com/subject/30479817/\n采集中：https://movie.douban.com/subject/30242270/\n采集中：https://movie.douban.com/subject/30196875/\n采集中：https://movie.douban.com/subject/34454765/\n采集中：https://movie.douban.com/subject/26786097/\n采集中：https://movie.douban.com/subject/30488584/\n采集中：https://movie.douban.com/subject/30396302/\n采集中：https://movie.douban.com/subject/27594919/\n采集中：https://movie.douban.com/subject/34834828/\n采集中：https://movie.douban.com/subject/33973066/\n采集中：https://movie.douban.com/subject/27066172/\n采集中：https://movie.douban.com/subject/30362186/\n采集中：https://movie.douban.com/subject/30286098/\n采集中：https://movie.douban.com/subject/34951154/\n采集中：https://movie.douban.com/subject/30368414/\n采集中：https://movie.douban.com/subject/34825511/\n采集中：https://movie.douban.com/subject/33437017/\n采集中：https://movie.douban.com/subject/30458826/\n采集中：https://movie.douban.com/subject/33441928/\n采集中：https://movie.douban.com/subject/30337935/\n采集中：https://movie.douban.com/subject/33395014/\n采集中：https://movie.douban.com/subject/30435840/\n采集中：https://movie.douban.com/subject/2364001/\n采集中：https://movie.douban.com/subject/34797534/\n采集中：https://movie.douban.com/subject/30481964/\n采集中：https://movie.douban.com/subject/26868553/\n采集中：https://movie.douban.com/subject/30129753/\n采集中：https://movie.douban.com/subject/30142414/\n采集中：https://movie.douban.com/subject/30177286/\n采集中：https://movie.douban.com/subject/33218225/\n采集中：https://movie.douban.com/subject/30385361/\n采集中：https://movie.douban.com/subject/34796295/\n采集中：https://movie.douban.com/subject/30317706/\n采集中：https://movie.douban.com/subject/33479277/\n采集中：https://movie.douban.com/subject/30204527/\n采集中：https://movie.douban.com/subject/30309627/\n采集中：https://movie.douban.com/subject/30230592/\n采集中：https://movie.douban.com/subject/30170213/\n采集中：https://movie.douban.com/subject/27186353/\n采集中：https://movie.douban.com/subject/26791681/\n采集中：https://movie.douban.com/subject/30318245/\n采集中：https://movie.douban.com/subject/30305551/\n采集中：https://movie.douban.com/subject/30177221/\n采集中：https://movie.douban.com/subject/30459669/\n采集中：https://movie.douban.com/subject/34861255/\n采集中：https://movie.douban.com/subject/30403681/\n采集中：https://movie.douban.com/subject/25779217/\n采集中：https://movie.douban.com/subject/25826020/\n采集中：https://movie.douban.com/subject/34819537/\n采集中：https://movie.douban.com/subject/34807058/\n采集中：https://movie.douban.com/subject/33412928/\n采集中：https://movie.douban.com/subject/30234426/\n采集中：https://movie.douban.com/subject/27150264/\n采集中：https://movie.douban.com/subject/27131218/\n采集中：https://movie.douban.com/subject/30221628/\n采集中：https://movie.douban.com/subject/30428030/\n采集中：https://movie.douban.com/subject/34785746/\n采集中：https://movie.douban.com/subject/33418683/\n采集中：https://movie.douban.com/subject/30371775/\n采集中：https://movie.douban.com/subject/34786971/\n采集中：https://movie.douban.com/subject/30456649/\n采集中：https://movie.douban.com/subject/33159421/\n采集中：https://movie.douban.com/subject/30230604/\n采集中：https://movie.douban.com/subject/30346023/\n采集中：https://movie.douban.com/subject/30424207/\n采集中：https://movie.douban.com/subject/30309632/\n采集中：https://movie.douban.com/subject/27063867/\n采集中：https://movie.douban.com/subject/27088813/\n采集中：https://movie.douban.com/subject/30454698/\n采集中：https://movie.douban.com/subject/27668334/\n采集中：https://movie.douban.com/subject/30283389/\n采集中：https://movie.douban.com/subject/30468842/\n采集中：https://movie.douban.com/subject/30359790/\n采集中：https://movie.douban.com/subject/30466885/\n采集中：https://movie.douban.com/subject/25851683/\n采集中：https://movie.douban.com/subject/30357885/\n采集中：https://movie.douban.com/subject/30469287/\n采集中：https://movie.douban.com/subject/27595272/\n采集中：https://movie.douban.com/subject/27156540/\n采集中：https://movie.douban.com/subject/33458819/\n采集中：https://movie.douban.com/subject/27132180/\n采集中：https://movie.douban.com/subject/30413195/\n采集中：https://movie.douban.com/subject/30279883/\n采集中：https://movie.douban.com/subject/27605034/\n采集中：https://movie.douban.com/subject/34926591/\n采集中：https://movie.douban.com/subject/26263417/\n采集中：https://movie.douban.com/subject/26787585/\n采集中：https://movie.douban.com/subject/26367602/\n完成\n"
    }
   ],
   "source": [
    "import json\n",
    "\n",
    "flag=True\n",
    "pageIndxe=0\n",
    "while(flag):\n",
    "    mlist=requests.get('https://movie.douban.com/j/search_subjects?type=movie&tag=%E7%83%AD%E9%97%A8&sort=rank&page_limit=20&page_start='+str(pageIndxe),headers=headers)\n",
    "    mdict = json.loads(mlist.text)\n",
    "    mplist=mdict[\"subjects\"]\n",
    "    if len(mplist)==0:\n",
    "        flag=False\n",
    "    pageIndxe=pageIndxe+20\n",
    "\n",
    "    for mp in mplist:\n",
    "        m=get_movie_details(mp[\"url\"])\n",
    "        # 添加电影数据\n",
    "        mdata.loc[len(mdata)]=m\n",
    "        \n",
    "        # 添加标签数据\n",
    "        for tmp_tag in m['标签'].split('\\n'):\n",
    "            add_tag(tmp_tag,mp[\"url\"])\n",
    "    \n",
    "\n",
    "        print(\"采集中：\"+mp[\"url\"])\n",
    "print(\"完成\") "
   ]
  },
  {
   "cell_type": "markdown",
   "metadata": {},
   "source": [
    "### 抓取完成"
   ]
  },
  {
   "cell_type": "code",
   "execution_count": 3,
   "metadata": {},
   "outputs": [
    {
     "output_type": "error",
     "ename": "NameError",
     "evalue": "name 'mdata' is not defined",
     "traceback": [
      "\u001b[0;31m---------------------------------------------------------------------------\u001b[0m",
      "\u001b[0;31mNameError\u001b[0m                                 Traceback (most recent call last)",
      "\u001b[0;32m<ipython-input-3-94737a861609>\u001b[0m in \u001b[0;36m<module>\u001b[0;34m\u001b[0m\n\u001b[0;32m----> 1\u001b[0;31m \u001b[0mmdata\u001b[0m\u001b[0;34m.\u001b[0m\u001b[0mhead\u001b[0m\u001b[0;34m(\u001b[0m\u001b[0;36m10\u001b[0m\u001b[0;34m)\u001b[0m\u001b[0;34m\u001b[0m\u001b[0;34m\u001b[0m\u001b[0m\n\u001b[0m",
      "\u001b[0;31mNameError\u001b[0m: name 'mdata' is not defined"
     ]
    }
   ],
   "source": [
    "mdata.head(10)"
   ]
  },
  {
   "cell_type": "code",
   "execution_count": 87,
   "metadata": {},
   "outputs": [],
   "source": [
    "for i in range(0,len(mdata)):\n",
    "    for tmp_tag in str(mdata.iloc[i]['标签']).split('\\n'):\n",
    "        add_tag(tmp_tag,mdata.iloc[i]['链接地址'])\n"
   ]
  },
  {
   "cell_type": "code",
   "execution_count": 89,
   "metadata": {},
   "outputs": [],
   "source": [
    "a=mtag.groupby('标签').size()"
   ]
  },
  {
   "cell_type": "code",
   "execution_count": 103,
   "metadata": {},
   "outputs": [
    {
     "output_type": "execute_result",
     "data": {
      "text/plain": "标签\n2019       242\n剧情         191\n美国         143\n2020       130\n犯罪          97\n喜剧          85\n爱情          72\n悬疑          71\n电影          64\n惊悚          62\n动作          60\n日本          60\n科幻          42\n人性          41\n动画          38\n恐怖          37\n韩国          36\n温情          36\n青春          32\n中国大陆        31\n英国          31\n美国电影        31\n女性          30\nNetflix     30\n日本电影        29\n家庭          27\n文艺          26\n真实事件改编      25\n黑色幽默        25\n韩国电影        25\ndtype: int64"
     },
     "metadata": {},
     "execution_count": 103
    }
   ],
   "source": [
    "a.sort_values(ascending=False).head(30)"
   ]
  },
  {
   "cell_type": "code",
   "execution_count": 102,
   "metadata": {},
   "outputs": [
    {
     "output_type": "execute_result",
     "data": {
      "text/plain": "835"
     },
     "metadata": {},
     "execution_count": 102
    }
   ],
   "source": []
  },
  {
   "cell_type": "code",
   "execution_count": 127,
   "metadata": {},
   "outputs": [
    {
     "output_type": "execute_result",
     "data": {
      "text/plain": "名称      object\n年份      object\n评分      object\n评论数      int64\n影评数      int64\n标签      object\n链接地址    object\ndtype: object"
     },
     "metadata": {},
     "execution_count": 127
    }
   ],
   "source": [
    "mdata.dtypes"
   ]
  },
  {
   "cell_type": "code",
   "execution_count": 126,
   "metadata": {},
   "outputs": [],
   "source": [
    "#mdata['评论数']=mdata['评论数'].astype('int64')"
   ]
  },
  {
   "cell_type": "code",
   "execution_count": 129,
   "metadata": {},
   "outputs": [
    {
     "output_type": "execute_result",
     "data": {
      "text/plain": "                      名称    年份   评分     评论数    影评数  \\\n4                   少年的你  2019  8.3  370640  14772   \n389             诛仙1 诛仙 Ⅰ  2019  4.5  272320   7915   \n17                我和我的祖国  2019  7.7  231826   3540   \n0               小丑 Joker  2019  8.7  197940   4895   \n69                  中国机长  2019  6.7  191433   2294   \n177                   囧妈  2020  5.9  173307   2937   \n6        利刃出鞘 Knives Out  2019  8.2  150434   1707   \n9                  罗小黑战记  2019  8.2  136263   2509   \n31                  半个喜剧  2019  7.4  120327   2138   \n41       冰雪奇缘2 Frozen II  2019  7.2  100825   1614   \n158                  攀登者  2019  6.1   91679   1929   \n2      82年生的金智英 82년생 김지영  2019  8.6   89384   2242   \n68       双子杀手 Gemini Man  2019  6.9   84102   1660   \n186                   宠爱  2019  6.0   73375    949   \n3    婚姻故事 Marriage Story  2019  8.6   72776   1447   \n65           叶问4：完结篇 葉問4  2019  6.9   67005   1351   \n15      小妇人 Little Women  2019  8.1   63192   1321   \n21          饥饿站台 El hoyo  2019  7.8   55929   1254   \n1      爱尔兰人 The Irishman  2019  8.8   53690    680   \n7              阳光普照 陽光普照  2019  8.4   52910   1519   \n\n                                               标签  \\\n4      \\n校园霸凌\\n青春\\n校园暴力\\n成长\\n校园\\n人性\\n中国大陆\\n2019\\n   \n389      \\n仙侠\\n古装\\n小说改编\\n玄幻\\n武侠\\n良心\\n2019\\n中国大陆\\n   \n17   \\n建国70周年\\n爱国\\n正能量\\n献礼\\n主旋律\\n感动\\n中国大陆\\n2019\\n   \n0            \\n人性\\n犯罪\\nDC\\n心理\\n社会\\n美国\\n2019\\n暴力\\n   \n69      \\n真实事件改编\\n航空\\n中国\\n飞行员\\n空难\\n灾难\\n2019\\n迫降\\n   \n177        \\n喜剧\\n亲情\\n2020\\n家庭\\n温情\\n贺岁\\n搞笑\\n中国大陆\\n   \n6            \\n悬疑\\n推理\\n犯罪\\n美国\\n侦探\\n黑色幽默\\n剧情\\n反转\\n   \n9            \\n治愈\\n温情\\n动画\\n动漫\\n萌\\n中国大陆\\n二次元\\n成长\\n   \n31       \\n开心麻花\\n黑色幽默\\n喜剧\\n爱情\\n人性\\n成长\\n社会\\n中国大陆\\n   \n41          \\n迪士尼\\n动画\\n童话\\n音乐\\n美国\\n奇幻\\n魔幻\\n2019\\n   \n158   \\n珠峰\\n正能量\\n登山\\n真实事件改编\\n爱国\\n冒险\\n中国大陆\\n2019\\n   \n2              \\n女性\\n韩国\\n家庭\\n社会\\n平权\\n人生\\n女权\\n剧情\\n   \n68         \\n动作\\n美国\\n科幻\\n克隆\\n120帧\\n2019\\n剧情\\n悬疑\\n   \n186              \\n宠物\\n温情\\n暖心\\n感人\\n狗\\n搞笑\\n猫\\n爱情\\n   \n3       \\n婚姻\\n家庭\\n爱情\\n美国\\n剧情\\n女性\\n2019\\nNetflix\\n   \n65        \\n功夫\\n叶问\\n甄子丹\\n动作\\n香港\\n香港电影\\n武侠\\n国产电影\\n   \n15          \\n女性\\n小妇人\\n名著改编\\n经典\\n美国\\n成长\\n爱情\\n剧情\\n   \n21       \\n人性\\n惊悚\\n悬疑\\n西班牙\\n恐怖\\n科幻\\n西班牙电影\\n2019\\n   \n1       \\n黑帮\\n犯罪\\n美国\\n传记\\n剧情\\n人性\\n2019\\nNetflix\\n   \n7            \\n家庭\\n中国台湾\\n剧情\\n犯罪\\n人性\\n成长\\n人生\\n亲情\\n   \n\n                                           链接地址  \n4    https://movie.douban.com/subject/30166972/  \n389  https://movie.douban.com/subject/25779217/  \n17   https://movie.douban.com/subject/32659890/  \n0    https://movie.douban.com/subject/27119724/  \n69   https://movie.douban.com/subject/30295905/  \n177  https://movie.douban.com/subject/30306570/  \n6    https://movie.douban.com/subject/30318116/  \n9    https://movie.douban.com/subject/26709258/  \n31   https://movie.douban.com/subject/30269016/  \n41   https://movie.douban.com/subject/25887288/  \n158  https://movie.douban.com/subject/30413052/  \n2    https://movie.douban.com/subject/30327842/  \n68    https://movie.douban.com/subject/3097572/  \n186  https://movie.douban.com/subject/33417046/  \n3    https://movie.douban.com/subject/27202818/  \n65   https://movie.douban.com/subject/26885074/  \n15   https://movie.douban.com/subject/26348103/  \n21   https://movie.douban.com/subject/34805219/  \n1     https://movie.douban.com/subject/6981153/  \n7    https://movie.douban.com/subject/30292777/  ",
      "text/html": "<div>\n<style scoped>\n    .dataframe tbody tr th:only-of-type {\n        vertical-align: middle;\n    }\n\n    .dataframe tbody tr th {\n        vertical-align: top;\n    }\n\n    .dataframe thead th {\n        text-align: right;\n    }\n</style>\n<table border=\"1\" class=\"dataframe\">\n  <thead>\n    <tr style=\"text-align: right;\">\n      <th></th>\n      <th>名称</th>\n      <th>年份</th>\n      <th>评分</th>\n      <th>评论数</th>\n      <th>影评数</th>\n      <th>标签</th>\n      <th>链接地址</th>\n    </tr>\n  </thead>\n  <tbody>\n    <tr>\n      <th>4</th>\n      <td>少年的你</td>\n      <td>2019</td>\n      <td>8.3</td>\n      <td>370640</td>\n      <td>14772</td>\n      <td>\\n校园霸凌\\n青春\\n校园暴力\\n成长\\n校园\\n人性\\n中国大陆\\n2019\\n</td>\n      <td>https://movie.douban.com/subject/30166972/</td>\n    </tr>\n    <tr>\n      <th>389</th>\n      <td>诛仙1 诛仙 Ⅰ</td>\n      <td>2019</td>\n      <td>4.5</td>\n      <td>272320</td>\n      <td>7915</td>\n      <td>\\n仙侠\\n古装\\n小说改编\\n玄幻\\n武侠\\n良心\\n2019\\n中国大陆\\n</td>\n      <td>https://movie.douban.com/subject/25779217/</td>\n    </tr>\n    <tr>\n      <th>17</th>\n      <td>我和我的祖国</td>\n      <td>2019</td>\n      <td>7.7</td>\n      <td>231826</td>\n      <td>3540</td>\n      <td>\\n建国70周年\\n爱国\\n正能量\\n献礼\\n主旋律\\n感动\\n中国大陆\\n2019\\n</td>\n      <td>https://movie.douban.com/subject/32659890/</td>\n    </tr>\n    <tr>\n      <th>0</th>\n      <td>小丑 Joker</td>\n      <td>2019</td>\n      <td>8.7</td>\n      <td>197940</td>\n      <td>4895</td>\n      <td>\\n人性\\n犯罪\\nDC\\n心理\\n社会\\n美国\\n2019\\n暴力\\n</td>\n      <td>https://movie.douban.com/subject/27119724/</td>\n    </tr>\n    <tr>\n      <th>69</th>\n      <td>中国机长</td>\n      <td>2019</td>\n      <td>6.7</td>\n      <td>191433</td>\n      <td>2294</td>\n      <td>\\n真实事件改编\\n航空\\n中国\\n飞行员\\n空难\\n灾难\\n2019\\n迫降\\n</td>\n      <td>https://movie.douban.com/subject/30295905/</td>\n    </tr>\n    <tr>\n      <th>177</th>\n      <td>囧妈</td>\n      <td>2020</td>\n      <td>5.9</td>\n      <td>173307</td>\n      <td>2937</td>\n      <td>\\n喜剧\\n亲情\\n2020\\n家庭\\n温情\\n贺岁\\n搞笑\\n中国大陆\\n</td>\n      <td>https://movie.douban.com/subject/30306570/</td>\n    </tr>\n    <tr>\n      <th>6</th>\n      <td>利刃出鞘 Knives Out</td>\n      <td>2019</td>\n      <td>8.2</td>\n      <td>150434</td>\n      <td>1707</td>\n      <td>\\n悬疑\\n推理\\n犯罪\\n美国\\n侦探\\n黑色幽默\\n剧情\\n反转\\n</td>\n      <td>https://movie.douban.com/subject/30318116/</td>\n    </tr>\n    <tr>\n      <th>9</th>\n      <td>罗小黑战记</td>\n      <td>2019</td>\n      <td>8.2</td>\n      <td>136263</td>\n      <td>2509</td>\n      <td>\\n治愈\\n温情\\n动画\\n动漫\\n萌\\n中国大陆\\n二次元\\n成长\\n</td>\n      <td>https://movie.douban.com/subject/26709258/</td>\n    </tr>\n    <tr>\n      <th>31</th>\n      <td>半个喜剧</td>\n      <td>2019</td>\n      <td>7.4</td>\n      <td>120327</td>\n      <td>2138</td>\n      <td>\\n开心麻花\\n黑色幽默\\n喜剧\\n爱情\\n人性\\n成长\\n社会\\n中国大陆\\n</td>\n      <td>https://movie.douban.com/subject/30269016/</td>\n    </tr>\n    <tr>\n      <th>41</th>\n      <td>冰雪奇缘2 Frozen II</td>\n      <td>2019</td>\n      <td>7.2</td>\n      <td>100825</td>\n      <td>1614</td>\n      <td>\\n迪士尼\\n动画\\n童话\\n音乐\\n美国\\n奇幻\\n魔幻\\n2019\\n</td>\n      <td>https://movie.douban.com/subject/25887288/</td>\n    </tr>\n    <tr>\n      <th>158</th>\n      <td>攀登者</td>\n      <td>2019</td>\n      <td>6.1</td>\n      <td>91679</td>\n      <td>1929</td>\n      <td>\\n珠峰\\n正能量\\n登山\\n真实事件改编\\n爱国\\n冒险\\n中国大陆\\n2019\\n</td>\n      <td>https://movie.douban.com/subject/30413052/</td>\n    </tr>\n    <tr>\n      <th>2</th>\n      <td>82年生的金智英 82년생 김지영</td>\n      <td>2019</td>\n      <td>8.6</td>\n      <td>89384</td>\n      <td>2242</td>\n      <td>\\n女性\\n韩国\\n家庭\\n社会\\n平权\\n人生\\n女权\\n剧情\\n</td>\n      <td>https://movie.douban.com/subject/30327842/</td>\n    </tr>\n    <tr>\n      <th>68</th>\n      <td>双子杀手 Gemini Man</td>\n      <td>2019</td>\n      <td>6.9</td>\n      <td>84102</td>\n      <td>1660</td>\n      <td>\\n动作\\n美国\\n科幻\\n克隆\\n120帧\\n2019\\n剧情\\n悬疑\\n</td>\n      <td>https://movie.douban.com/subject/3097572/</td>\n    </tr>\n    <tr>\n      <th>186</th>\n      <td>宠爱</td>\n      <td>2019</td>\n      <td>6.0</td>\n      <td>73375</td>\n      <td>949</td>\n      <td>\\n宠物\\n温情\\n暖心\\n感人\\n狗\\n搞笑\\n猫\\n爱情\\n</td>\n      <td>https://movie.douban.com/subject/33417046/</td>\n    </tr>\n    <tr>\n      <th>3</th>\n      <td>婚姻故事 Marriage Story</td>\n      <td>2019</td>\n      <td>8.6</td>\n      <td>72776</td>\n      <td>1447</td>\n      <td>\\n婚姻\\n家庭\\n爱情\\n美国\\n剧情\\n女性\\n2019\\nNetflix\\n</td>\n      <td>https://movie.douban.com/subject/27202818/</td>\n    </tr>\n    <tr>\n      <th>65</th>\n      <td>叶问4：完结篇 葉問4</td>\n      <td>2019</td>\n      <td>6.9</td>\n      <td>67005</td>\n      <td>1351</td>\n      <td>\\n功夫\\n叶问\\n甄子丹\\n动作\\n香港\\n香港电影\\n武侠\\n国产电影\\n</td>\n      <td>https://movie.douban.com/subject/26885074/</td>\n    </tr>\n    <tr>\n      <th>15</th>\n      <td>小妇人 Little Women</td>\n      <td>2019</td>\n      <td>8.1</td>\n      <td>63192</td>\n      <td>1321</td>\n      <td>\\n女性\\n小妇人\\n名著改编\\n经典\\n美国\\n成长\\n爱情\\n剧情\\n</td>\n      <td>https://movie.douban.com/subject/26348103/</td>\n    </tr>\n    <tr>\n      <th>21</th>\n      <td>饥饿站台 El hoyo</td>\n      <td>2019</td>\n      <td>7.8</td>\n      <td>55929</td>\n      <td>1254</td>\n      <td>\\n人性\\n惊悚\\n悬疑\\n西班牙\\n恐怖\\n科幻\\n西班牙电影\\n2019\\n</td>\n      <td>https://movie.douban.com/subject/34805219/</td>\n    </tr>\n    <tr>\n      <th>1</th>\n      <td>爱尔兰人 The Irishman</td>\n      <td>2019</td>\n      <td>8.8</td>\n      <td>53690</td>\n      <td>680</td>\n      <td>\\n黑帮\\n犯罪\\n美国\\n传记\\n剧情\\n人性\\n2019\\nNetflix\\n</td>\n      <td>https://movie.douban.com/subject/6981153/</td>\n    </tr>\n    <tr>\n      <th>7</th>\n      <td>阳光普照 陽光普照</td>\n      <td>2019</td>\n      <td>8.4</td>\n      <td>52910</td>\n      <td>1519</td>\n      <td>\\n家庭\\n中国台湾\\n剧情\\n犯罪\\n人性\\n成长\\n人生\\n亲情\\n</td>\n      <td>https://movie.douban.com/subject/30292777/</td>\n    </tr>\n  </tbody>\n</table>\n</div>"
     },
     "metadata": {},
     "execution_count": 129
    }
   ],
   "source": [
    "mdata.sort_values('评论数',ascending=False).head(20)"
   ]
  },
  {
   "cell_type": "code",
   "execution_count": null,
   "metadata": {},
   "outputs": [],
   "source": []
  }
 ],
 "metadata": {
  "language_info": {
   "codemirror_mode": {
    "name": "ipython",
    "version": 3
   },
   "file_extension": ".py",
   "mimetype": "text/x-python",
   "name": "python",
   "nbconvert_exporter": "python",
   "pygments_lexer": "ipython3",
   "version": "3.7.6-final"
  },
  "orig_nbformat": 2,
  "kernelspec": {
   "name": "python37664bitd8650d54ae5d4b0988094c7fd5689777",
   "display_name": "Python 3.7.6 64-bit"
  }
 },
 "nbformat": 4,
 "nbformat_minor": 2
}