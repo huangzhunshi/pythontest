{
 "cells": [
  {
   "cell_type": "code",
   "execution_count": 101,
   "metadata": {},
   "outputs": [],
   "source": [
    "import json\n",
    "mdict = json.loads(mlist.text)\n",
    "mplist=mdict[\"subjects\"]\n",
    "for mp in mplist:\n",
    "    print(mp[\"url\"])\n"
   ]
  },
  {
   "cell_type": "code",
   "execution_count": 20,
   "metadata": {},
   "outputs": [],
   "source": [
    "import pandas as pd\n",
    "import requests\n",
    "\n",
    "headers = {\n",
    "    'User-Agent':'Mozilla/5.0 (Windows NT 6.1; WOW64) AppleWebKit/537.36 (KHTML, like Gecko) Chrome/63.0.3239.132 Safari/537.36 QIHU 360SE'\n",
    "}\n",
    "#请求相关地址\n",
    "mlist=requests.get('https://movie.douban.com/j/search_subjects?type=movie&tag=%E7%83%AD%E9%97%A8&sort=rank&page_limit=20&page_start=0',headers=headers)\n",
    "\n",
    "\n"
   ]
  },
  {
   "cell_type": "code",
   "execution_count": 143,
   "metadata": {},
   "outputs": [],
   "source": [
    "mhtml=requests.get('https://movie.douban.com/subject/6538866/',headers=headers)\n",
    "soup=BeautifulSoup(mhtml.text,'html.parser')\n",
    "\n",
    "# mhtml.text"
   ]
  },
  {
   "cell_type": "code",
   "execution_count": 144,
   "metadata": {},
   "outputs": [],
   "source": []
  },
  {
   "cell_type": "code",
   "execution_count": 142,
   "metadata": {},
   "outputs": [
    {
     "output_type": "execute_result",
     "data": {
      "text/plain": "[]"
     },
     "metadata": {},
     "execution_count": 142
    }
   ],
   "source": [
    "soup=BeautifulSoup(mhtml.text,'lxml')\n",
    "soup.find_all('dev',class_=\"tags-body\")\n"
   ]
  },
  {
   "cell_type": "code",
   "execution_count": 247,
   "metadata": {
    "tags": [
     "outputPrepend"
    ]
   },
   "outputs": [
    {
     "output_type": "stream",
     "name": "stdout",
     "text": "极速车王 Ford v Ferrari\n2019\n8.6\n\n\n            (\n                全部 34615 条\n            )\n            \n[]\n416\n"
    }
   ],
   "source": [
    "from bs4 import BeautifulSoup\n",
    "import re\n",
    "# print(mhtml.text)\n",
    "soup=BeautifulSoup(mhtml.text,'html.parser')\n",
    "\n",
    "soup.find('span',property=\"v:itemreviewed\").text\n",
    "\n",
    "# print(soup.title)\n",
    "print(soup.find('span',property=\"v:itemreviewed\").text)\n",
    "print(soup.find('span',class_=\"year\").text.replace('(','').replace(')',''))\n",
    "print(soup.find('strong',class_=\"ll rating_num\").text)\n",
    "print(soup.find_all('span',class_=\"pl\")[16].text.replace(' ','').replace('\\n','').replace('(全部','').replace('条)',''))\n",
    "print(soup.find_all('span',class_=\"pl\")[15].text)\n",
    "tmp=re.compile('''               · · · · · ·\n",
    "            <span class=\"pl\">\n",
    "            (\n",
    "\n",
    "(.*))\n",
    "            </span>''').findall(mhtml.text)\n",
    "print(tmp)            \n",
    "print(soup.find_all('a',href=\"reviews\")[0].text.replace(' ','').replace('全部','').replace('条',''))\n",
    "\n",
    "\n",
    "# print(soup.select('span'))',class_=\"pl\"))\n",
    "\n",
    "# print(soup.select('span'))\n",
    "\n"
   ]
  },
  {
   "cell_type": "code",
   "execution_count": null,
   "metadata": {},
   "outputs": [],
   "source": []
  },
  {
   "cell_type": "code",
   "execution_count": 106,
   "metadata": {},
   "outputs": [],
   "source": [
    "mdata=pd.DataFrame(columns=list(['名称','年份','评论数','影评数']))"
   ]
  },
  {
   "cell_type": "code",
   "execution_count": 107,
   "metadata": {},
   "outputs": [
    {
     "output_type": "execute_result",
     "data": {
      "text/plain": "Empty DataFrame\nColumns: [名称, 年份, 评论数, 影评数]\nIndex: []",
      "text/html": "<div>\n<style scoped>\n    .dataframe tbody tr th:only-of-type {\n        vertical-align: middle;\n    }\n\n    .dataframe tbody tr th {\n        vertical-align: top;\n    }\n\n    .dataframe thead th {\n        text-align: right;\n    }\n</style>\n<table border=\"1\" class=\"dataframe\">\n  <thead>\n    <tr style=\"text-align: right;\">\n      <th></th>\n      <th>名称</th>\n      <th>年份</th>\n      <th>评论数</th>\n      <th>影评数</th>\n    </tr>\n  </thead>\n  <tbody>\n  </tbody>\n</table>\n</div>"
     },
     "metadata": {},
     "execution_count": 107
    }
   ],
   "source": []
  },
  {
   "cell_type": "code",
   "execution_count": 120,
   "metadata": {},
   "outputs": [],
   "source": [
    "mdata.loc[2]={'名称':'啊啊','年份':'2001','评论数':'22','影评数':'122'}"
   ]
  },
  {
   "cell_type": "code",
   "execution_count": 181,
   "metadata": {},
   "outputs": [
    {
     "output_type": "execute_result",
     "data": {
      "text/plain": "   名称    年份 评论数  影评数\n1  啊啊  2001  22  122\n2  啊啊  2001  22  122",
      "text/html": "<div>\n<style scoped>\n    .dataframe tbody tr th:only-of-type {\n        vertical-align: middle;\n    }\n\n    .dataframe tbody tr th {\n        vertical-align: top;\n    }\n\n    .dataframe thead th {\n        text-align: right;\n    }\n</style>\n<table border=\"1\" class=\"dataframe\">\n  <thead>\n    <tr style=\"text-align: right;\">\n      <th></th>\n      <th>名称</th>\n      <th>年份</th>\n      <th>评论数</th>\n      <th>影评数</th>\n    </tr>\n  </thead>\n  <tbody>\n    <tr>\n      <th>1</th>\n      <td>啊啊</td>\n      <td>2001</td>\n      <td>22</td>\n      <td>122</td>\n    </tr>\n    <tr>\n      <th>2</th>\n      <td>啊啊</td>\n      <td>2001</td>\n      <td>22</td>\n      <td>122</td>\n    </tr>\n  </tbody>\n</table>\n</div>"
     },
     "metadata": {},
     "execution_count": 181
    }
   ],
   "source": [
    "mdata"
   ]
  },
  {
   "cell_type": "code",
   "execution_count": 106,
   "metadata": {},
   "outputs": [],
   "source": [
    "import pandas as pd\n",
    "import requests\n",
    "from bs4 import BeautifulSoup\n",
    "import re\n",
    "'''\n",
    "获取详情相关数据\n",
    "'''\n",
    "def getMovieDetails(url):\n",
    "    try:\n",
    "        mhtml=requests.get(url,headers=headers)\n",
    "        soup=BeautifulSoup(mhtml.text,'html.parser')\n",
    "        '''\n",
    "        名称\n",
    "        '''\n",
    "        name= soup.find('span',property=\"v:itemreviewed\").text\n",
    "        year= soup.find('span',class_=\"year\").text.replace('(','').replace(')','')\n",
    "        score =soup.find('strong',class_=\"ll rating_num\").text\n",
    "        # print(soup.find_all('span',class_=\"pl\"))\n",
    "        # commentCount=soup.find_all('span',class_=\"pl\")[16].text.replace(' ','').replace('\\n','').replace('(全部','').replace('条)','').replace('(','').replace(')','')\n",
    "        # if commentCount=='':\n",
    "        #     commentCount=soup.find_all('span',class_=\"pl\")[15].text.replace(' ','').replace('\\n','').replace('(全部','').replace('条)','').replace('(','').replace(')','')\n",
    "        commentCount=soup.find('a',href=url+\"comments?status=P\").text.replace(' ','').replace('全部','').replace('条','')\n",
    "\n",
    "        \n",
    "        reviewCount=soup.find_all('a',href=\"reviews\")[0].text.replace(' ','').replace('全部','').replace('条','')\n",
    "        # return {'名称':name,'年份':year,'评分':score,'评论数':commentCount,'影评数':reviewCount,'链接地址':url}\n",
    "        return {'名称': name, '年份': year, '评分': score, '评论数': commentCount, '影评数': reviewCount,'链接地址':url}\n",
    "    except(Exception) as err:\n",
    "        print(err)\n",
    "    \n",
    "    return {'名称': '', '年份': '', '评分': '', '评论数': '', '影评数': '','链接地址':url}\n",
    "        \n",
    "\n"
   ]
  },
  {
   "cell_type": "code",
   "execution_count": 107,
   "metadata": {},
   "outputs": [
    {
     "output_type": "execute_result",
     "data": {
      "text/plain": "{'名称': '极速车王 Ford v Ferrari',\n '年份': '2019',\n '评分': '8.6',\n '评论数': '36943',\n '影评数': '442',\n '链接地址': 'https://movie.douban.com/subject/6538866/'}"
     },
     "metadata": {},
     "execution_count": 107
    }
   ],
   "source": [
    "getMovieDetails('https://movie.douban.com/subject/6538866/')"
   ]
  },
  {
   "cell_type": "code",
   "execution_count": 108,
   "metadata": {},
   "outputs": [],
   "source": [
    "import json\n",
    "import pandas as pd\n",
    "import requests\n",
    "\n",
    "headers = {\n",
    "    'User-Agent':'Mozilla/5.0 (Windows NT 6.1; WOW64) AppleWebKit/537.36 (KHTML, like Gecko) Chrome/63.0.3239.132 Safari/537.36 QIHU 360SE'\n",
    "}\n",
    "#请求相关地址\n",
    "mlist=requests.get('https://movie.douban.com/j/search_subjects?type=movie&tag=%E7%83%AD%E9%97%A8&sort=rank&page_limit=20&page_start=0',headers=headers)\n",
    "\n"
   ]
  },
  {
   "cell_type": "code",
   "execution_count": 109,
   "metadata": {
    "tags": [
     "outputPrepend",
     "outputPrepend",
     "outputPrepend",
     "outputPrepend",
     "outputPrepend",
     "outputPrepend",
     "outputPrepend",
     "outputPrepend",
     "outputPrepend",
     "outputPrepend",
     "outputPrepend",
     "outputPrepend",
     "outputPrepend",
     "outputPrepend",
     "outputPrepend",
     "outputPrepend",
     "outputPrepend",
     "outputPrepend",
     "outputPrepend",
     "outputPrepend",
     "outputPrepend",
     "outputPrepend",
     "outputPrepend",
     "outputPrepend",
     "outputPrepend",
     "outputPrepend",
     "outputPrepend",
     "outputPrepend",
     "outputPrepend",
     "outputPrepend",
     "outputPrepend",
     "outputPrepend",
     "outputPrepend",
     "outputPrepend",
     "outputPrepend",
     "outputPrepend",
     "outputPrepend",
     "outputPrepend",
     "outputPrepend",
     "outputPrepend",
     "outputPrepend",
     "outputPrepend",
     "outputPrepend",
     "outputPrepend",
     "outputPrepend",
     "outputPrepend",
     "outputPrepend",
     "outputPrepend",
     "outputPrepend",
     "outputPrepend",
     "outputPrepend",
     "outputPrepend",
     "outputPrepend",
     "outputPrepend",
     "outputPrepend",
     "outputPrepend",
     "outputPrepend",
     "outputPrepend",
     "outputPrepend",
     "outputPrepend",
     "outputPrepend",
     "outputPrepend",
     "outputPrepend",
     "outputPrepend",
     "outputPrepend",
     "outputPrepend",
     "outputPrepend",
     "outputPrepend",
     "outputPrepend",
     "outputPrepend",
     "outputPrepend",
     "outputPrepend",
     "outputPrepend",
     "outputPrepend",
     "outputPrepend",
     "outputPrepend",
     "outputPrepend",
     "outputPrepend",
     "outputPrepend",
     "outputPrepend",
     "outputPrepend",
     "outputPrepend",
     "outputPrepend",
     "outputPrepend",
     "outputPrepend",
     "outputPrepend",
     "outputPrepend",
     "outputPrepend",
     "outputPrepend",
     "outputPrepend",
     "outputPrepend",
     "outputPrepend",
     "outputPrepend",
     "outputPrepend",
     "outputPrepend",
     "outputPrepend",
     "outputPrepend",
     "outputPrepend",
     "outputPrepend",
     "outputPrepend",
     "outputPrepend",
     "outputPrepend",
     "outputPrepend",
     "outputPrepend",
     "outputPrepend",
     "outputPrepend",
     "outputPrepend",
     "outputPrepend",
     "outputPrepend",
     "outputPrepend",
     "outputPrepend",
     "outputPrepend",
     "outputPrepend",
     "outputPrepend",
     "outputPrepend",
     "outputPrepend",
     "outputPrepend",
     "outputPrepend",
     "outputPrepend",
     "outputPrepend",
     "outputPrepend",
     "outputPrepend",
     "outputPrepend",
     "outputPrepend",
     "outputPrepend",
     "outputPrepend",
     "outputPrepend",
     "outputPrepend",
     "outputPrepend",
     "outputPrepend",
     "outputPrepend",
     "outputPrepend",
     "outputPrepend",
     "outputPrepend",
     "outputPrepend",
     "outputPrepend",
     "outputPrepend",
     "outputPrepend",
     "outputPrepend",
     "outputPrepend",
     "outputPrepend",
     "outputPrepend",
     "outputPrepend",
     "outputPrepend",
     "outputPrepend",
     "outputPrepend",
     "outputPrepend",
     "outputPrepend",
     "outputPrepend",
     "outputPrepend",
     "outputPrepend",
     "outputPrepend",
     "outputPrepend",
     "outputPrepend",
     "outputPrepend",
     "outputPrepend",
     "outputPrepend",
     "outputPrepend",
     "outputPrepend",
     "outputPrepend",
     "outputPrepend",
     "outputPrepend",
     "outputPrepend",
     "outputPrepend",
     "outputPrepend",
     "outputPrepend",
     "outputPrepend",
     "outputPrepend",
     "outputPrepend",
     "outputPrepend",
     "outputPrepend",
     "outputPrepend",
     "outputPrepend",
     "outputPrepend",
     "outputPrepend",
     "outputPrepend",
     "outputPrepend",
     "outputPrepend",
     "outputPrepend",
     "outputPrepend",
     "outputPrepend",
     "outputPrepend",
     "outputPrepend",
     "outputPrepend",
     "outputPrepend",
     "outputPrepend",
     "outputPrepend",
     "outputPrepend",
     "outputPrepend",
     "outputPrepend",
     "outputPrepend",
     "outputPrepend",
     "outputPrepend",
     "outputPrepend",
     "outputPrepend",
     "outputPrepend",
     "outputPrepend",
     "outputPrepend",
     "outputPrepend",
     "outputPrepend",
     "outputPrepend",
     "outputPrepend",
     "outputPrepend",
     "outputPrepend",
     "outputPrepend",
     "outputPrepend",
     "outputPrepend",
     "outputPrepend",
     "outputPrepend",
     "outputPrepend",
     "outputPrepend",
     "outputPrepend",
     "outputPrepend",
     "outputPrepend",
     "outputPrepend",
     "outputPrepend",
     "outputPrepend",
     "outputPrepend",
     "outputPrepend",
     "outputPrepend",
     "outputPrepend",
     "outputPrepend",
     "outputPrepend",
     "outputPrepend",
     "outputPrepend",
     "outputPrepend",
     "outputPrepend",
     "outputPrepend",
     "outputPrepend",
     "outputPrepend",
     "outputPrepend",
     "outputPrepend",
     "outputPrepend",
     "outputPrepend",
     "outputPrepend",
     "outputPrepend",
     "outputPrepend",
     "outputPrepend",
     "outputPrepend",
     "outputPrepend",
     "outputPrepend",
     "outputPrepend",
     "outputPrepend",
     "outputPrepend",
     "outputPrepend",
     "outputPrepend",
     "outputPrepend",
     "outputPrepend",
     "outputPrepend",
     "outputPrepend",
     "outputPrepend",
     "outputPrepend",
     "outputPrepend",
     "outputPrepend",
     "outputPrepend",
     "outputPrepend",
     "outputPrepend",
     "outputPrepend",
     "outputPrepend",
     "outputPrepend",
     "outputPrepend",
     "outputPrepend",
     "outputPrepend",
     "outputPrepend",
     "outputPrepend",
     "outputPrepend",
     "outputPrepend",
     "outputPrepend",
     "outputPrepend",
     "outputPrepend",
     "outputPrepend",
     "outputPrepend",
     "outputPrepend",
     "outputPrepend",
     "outputPrepend",
     "outputPrepend",
     "outputPrepend",
     "outputPrepend",
     "outputPrepend",
     "outputPrepend",
     "outputPrepend",
     "outputPrepend",
     "outputPrepend",
     "outputPrepend",
     "outputPrepend",
     "outputPrepend",
     "outputPrepend",
     "outputPrepend",
     "outputPrepend",
     "outputPrepend",
     "outputPrepend",
     "outputPrepend",
     "outputPrepend",
     "outputPrepend",
     "outputPrepend",
     "outputPrepend",
     "outputPrepend",
     "outputPrepend",
     "outputPrepend",
     "outputPrepend",
     "outputPrepend",
     "outputPrepend",
     "outputPrepend",
     "outputPrepend",
     "outputPrepend",
     "outputPrepend",
     "outputPrepend",
     "outputPrepend",
     "outputPrepend",
     "outputPrepend",
     "outputPrepend",
     "outputPrepend",
     "outputPrepend",
     "outputPrepend",
     "outputPrepend",
     "outputPrepend",
     "outputPrepend",
     "outputPrepend",
     "outputPrepend",
     "outputPrepend",
     "outputPrepend",
     "outputPrepend",
     "outputPrepend",
     "outputPrepend"
    ]
   },
   "outputs": [
    {
     "output_type": "stream",
     "name": "stdout",
     "text": "/\n{'名称': '凯利帮的真实历史 True History of the Kelly Gang', '年份': '2019', '评分': '6.2', '评论数': '651', '影评数': '12', '链接地址': 'https://movie.douban.com/subject/27192028/'}\n采集中：https://movie.douban.com/subject/27192028/\n{'名称': '一个船夫的故事 ある船頭の話', '年份': '2019', '评分': '6.4', '评论数': '265', '影评数': '4', '链接地址': 'https://movie.douban.com/subject/30395544/'}\n采集中：https://movie.douban.com/subject/30395544/\n{'名称': '我的间谍 My Spy', '年份': '2020', '评分': '6.0', '评论数': '954', '影评数': '11', '链接地址': 'https://movie.douban.com/subject/30288636/'}\n采集中：https://movie.douban.com/subject/30288636/\n{'名称': '美人皮', '年份': '2020', '评分': '5.6', '评论数': '3619', '影评数': '31', '链接地址': 'https://movie.douban.com/subject/35140001/'}\n采集中：https://movie.douban.com/subject/35140001/\n{'名称': '宝莱坞双雄之战 War', '年份': '2019', '评分': '6.3', '评论数': '652', '影评数': '18', '链接地址': 'https://movie.douban.com/subject/34607890/'}\n采集中：https://movie.douban.com/subject/34607890/\n{'名称': '失踪女孩 Lost Girls', '年份': '2020', '评分': '6.2', '评论数': '631', '影评数': '11', '链接地址': 'https://movie.douban.com/subject/26969026/'}\n采集中：https://movie.douban.com/subject/26969026/\n{'名称': '是非之地 Badland', '年份': '2019', '评分': '6.6', '评论数': '180', '影评数': '4', '链接地址': 'https://movie.douban.com/subject/34839475/'}\n采集中：https://movie.douban.com/subject/34839475/\n{'名称': '保持沉默', '年份': '2019', '评分': '5.4', '评论数': '15824', '影评数': '264', '链接地址': 'https://movie.douban.com/subject/26331839/'}\n采集中：https://movie.douban.com/subject/26331839/\n{'名称': '月影杀痕 In the Shadow of the Moon', '年份': '2019', '评分': '6.1', '评论数': '1124', '影评数': '28', '链接地址': 'https://movie.douban.com/subject/30151474/'}\n采集中：https://movie.douban.com/subject/30151474/\n{'名称': '征途', '年份': '2020', '评分': '5.2', '评论数': '6839', '影评数': '251', '链接地址': 'https://movie.douban.com/subject/26705567/'}\n采集中：https://movie.douban.com/subject/26705567/\n{'名称': '辉夜大小姐想让我告白：天才们的恋爱头脑战 かぐや様は告らせたい〜天才たちの恋愛頭脳戦〜', '年份': '2019', '评分': '5.9', '评论数': '1314', '影评数': '12', '链接地址': 'https://movie.douban.com/subject/30465281/'}\n采集中：https://movie.douban.com/subject/30465281/\n{'名称': '陈情令之乱魄', '年份': '2020', '评分': '5.5', '评论数': '13154', '影评数': '129', '链接地址': 'https://movie.douban.com/subject/34964056/'}\n采集中：https://movie.douban.com/subject/34964056/\n{'名称': '明信片杀戮 The Postcard Killings', '年份': '2020', '评分': '6.1', '评论数': '692', '影评数': '10', '链接地址': 'https://movie.douban.com/subject/26726815/'}\n采集中：https://movie.douban.com/subject/26726815/\n{'名称': '阿肯色 Arkansas', '年份': '2020', '评分': '6.1', '评论数': '543', '影评数': '10', '链接地址': 'https://movie.douban.com/subject/30355043/'}\n采集中：https://movie.douban.com/subject/30355043/\n{'名称': '追凶十九年', '年份': '2019', '评分': '5.7', '评论数': '3040', '影评数': '111', '链接地址': 'https://movie.douban.com/subject/26974334/'}\n采集中：https://movie.douban.com/subject/26974334/\n{'名称': '天文：问天 천문: 하늘에 묻는다', '年份': '2019', '评分': '6.5', '评论数': '150', '影评数': '7', '链接地址': 'https://movie.douban.com/subject/30243342/'}\n采集中：https://movie.douban.com/subject/30243342/\n{'名称': '希腊环游记 The Trip to Greece', '年份': '2020', '评分': '6.2', '评论数': '137', '影评数': '0', '链接地址': 'https://movie.douban.com/subject/34960097/'}\n采集中：https://movie.douban.com/subject/34960097/\n{'名称': '斯宾塞的机密任务 Spenser Confidential', '年份': '2020', '评分': '5.8', '评论数': '1111', '影评数': '8', '链接地址': 'https://movie.douban.com/subject/30258631/'}\n采集中：https://movie.douban.com/subject/30258631/\n{'名称': '奇门遁甲', '年份': '2020', '评分': '5.4', '评论数': '5367', '影评数': '99', '链接地址': 'https://movie.douban.com/subject/33218378/'}\n采集中：https://movie.douban.com/subject/33218378/\n{'名称': '小小的愿望', '年份': '2019', '评分': '5.1', '评论数': '36264', '影评数': '668', '链接地址': 'https://movie.douban.com/subject/30235440/'}\n采集中：https://movie.douban.com/subject/30235440/\n{'名称': '法医宋慈', '年份': '2020', '评分': '5.8', '评论数': '1589', '影评数': '22', '链接地址': 'https://movie.douban.com/subject/34964410/'}\n采集中：https://movie.douban.com/subject/34964410/\n{'名称': '恐怖之夜：噩梦电台 A Night of Horror: Nightmare Radio', '年份': '2019', '评分': '5.9', '评论数': '677', '影评数': '6', '链接地址': 'https://movie.douban.com/subject/33459814/'}\n采集中：https://movie.douban.com/subject/33459814/\n{'名称': '衣橱 클로젯', '年份': '2020', '评分': '5.6', '评论数': '1855', '影评数': '23', '链接地址': 'https://movie.douban.com/subject/30241301/'}\n采集中：https://movie.douban.com/subject/30241301/\n{'名称': '血亲 Bloodline', '年份': '2018', '评分': '6.1', '评论数': '425', '影评数': '4', '链接地址': 'https://movie.douban.com/subject/30479817/'}\n采集中：https://movie.douban.com/subject/30479817/\n{'名称': '莫斯科陷落2 Вторжение', '年份': '2020', '评分': '5.7', '评论数': '646', '影评数': '12', '链接地址': 'https://movie.douban.com/subject/30242270/'}\n采集中：https://movie.douban.com/subject/30242270/\n{'名称': '英雄 Герой', '年份': '2019', '评分': '5.8', '评论数': '200', '影评数': '1', '链接地址': 'https://movie.douban.com/subject/30196875/'}\n采集中：https://movie.douban.com/subject/30196875/\n{'名称': '羊与狼的恋爱和杀人 羊とオオカミの恋と殺人', '年份': '2019', '评分': '5.8', '评论数': '468', '影评数': '3', '链接地址': 'https://movie.douban.com/subject/34454765/'}\n采集中：https://movie.douban.com/subject/34454765/\n{'名称': '哈丽特 Harriet', '年份': '2019', '评分': '6.0', '评论数': '566', '影评数': '8', '链接地址': 'https://movie.douban.com/subject/26786097/'}\n采集中：https://movie.douban.com/subject/26786097/\n{'名称': '午夜0时的吻 午前0時、キスしに来てよ', '年份': '2019', '评分': '5.3', '评论数': '5186', '影评数': '21', '链接地址': 'https://movie.douban.com/subject/30488584/'}\n采集中：https://movie.douban.com/subject/30488584/\n{'名称': '尸人庄杀人事件 屍人荘の殺人', '年份': '2019', '评分': '5.6', '评论数': '1234', '影评数': '8', '链接地址': 'https://movie.douban.com/subject/30396302/'}\n采集中：https://movie.douban.com/subject/30396302/\n{'名称': '茜宝 Seberg', '年份': '2019', '评分': '6.0', '评论数': '382', '影评数': '7', '链接地址': 'https://movie.douban.com/subject/27594919/'}\n采集中：https://movie.douban.com/subject/27594919/\n{'名称': '金陵神捕', '年份': '2019', '评分': '5.8', '评论数': '1310', '影评数': '52', '链接地址': 'https://movie.douban.com/subject/34834828/'}\n采集中：https://movie.douban.com/subject/34834828/\n{'名称': '霍家拳之铁臂娇娃', '年份': '2020', '评分': '5.4', '评论数': '3034', '影评数': '11', '链接地址': 'https://movie.douban.com/subject/33973066/'}\n采集中：https://movie.douban.com/subject/33973066/\n{'名称': '8号警报 Code 8', '年份': '2019', '评分': '5.7', '评论数': '1128', '影评数': '11', '链接地址': 'https://movie.douban.com/subject/27066172/'}\n采集中：https://movie.douban.com/subject/27066172/\n{'名称': '大约在冬季', '年份': '2019', '评分': '5.1', '评论数': '22320', '影评数': '723', '链接地址': 'https://movie.douban.com/subject/30362186/'}\n采集中：https://movie.douban.com/subject/30362186/\n{'名称': '神奇女侠：血脉 Wonder Woman: Bloodlines', '年份': '2019', '评分': '5.9', '评论数': '596', '影评数': '9', '链接地址': 'https://movie.douban.com/subject/30286098/'}\n采集中：https://movie.douban.com/subject/30286098/\n{'名称': '夺皮', '年份': '2020', '评分': '5.6', '评论数': '1079', '影评数': '14', '链接地址': 'https://movie.douban.com/subject/34951154/'}\n采集中：https://movie.douban.com/subject/34951154/\n{'名称': '局内人2 Inside Man: Most Wanted', '年份': '2019', '评分': '5.8', '评论数': '793', '影评数': '6', '链接地址': 'https://movie.douban.com/subject/30368414/'}\n采集中：https://movie.douban.com/subject/30368414/\n{'名称': '新版降头女王 Ratu Ilmu Hitam', '年份': '2019', '评分': '5.8', '评论数': '171', '影评数': '1', '链接地址': 'https://movie.douban.com/subject/34825511/'}\n采集中：https://movie.douban.com/subject/34825511/\n{'名称': '郁川浮游', '年份': '2019', '评分': '6.2', '评论数': '332', '影评数': '12', '链接地址': 'https://movie.douban.com/subject/33437017/'}\n采集中：https://movie.douban.com/subject/33437017/\n{'名称': '赌博默示录3 カイジ ファイナルゲーム', '年份': '2020', '评分': '5.4', '评论数': '833', '影评数': '9', '链接地址': 'https://movie.douban.com/subject/30458826/'}\n采集中：https://movie.douban.com/subject/30458826/\n{'名称': '伏虎武松', '年份': '2020', '评分': '5.8', '评论数': '776', '影评数': '18', '链接地址': 'https://movie.douban.com/subject/33441928/'}\n采集中：https://movie.douban.com/subject/33441928/\n{'名称': '亲密旅行', '年份': '2019', '评分': '5.6', '评论数': '1346', '影评数': '49', '链接地址': 'https://movie.douban.com/subject/30337935/'}\n采集中：https://movie.douban.com/subject/30337935/\n{'名称': '消失的尸体 The Body', '年份': '2019', '评分': '6.0', '评论数': '218', '影评数': '2', '链接地址': 'https://movie.douban.com/subject/33395014/'}\n采集中：https://movie.douban.com/subject/33395014/\n{'名称': '爱情鸟的自救 The Lovebirds', '年份': '2020', '评分': '5.9', '评论数': '420', '影评数': '4', '链接地址': 'https://movie.douban.com/subject/30435840/'}\n采集中：https://movie.douban.com/subject/30435840/\n{'名称': '梦幻岛 Fantasy Island', '年份': '2020', '评分': '5.4', '评论数': '1872', '影评数': '18', '链接地址': 'https://movie.douban.com/subject/2364001/'}\n采集中：https://movie.douban.com/subject/2364001/\n{'名称': '量子物理学 양자물리학', '年份': '2019', '评分': '5.9', '评论数': '381', '影评数': '5', '链接地址': 'https://movie.douban.com/subject/34797534/'}\n采集中：https://movie.douban.com/subject/34797534/\n{'名称': '艾特所有人', '年份': '2019', '评分': '6.1', '评论数': '194', '影评数': '4', '链接地址': 'https://movie.douban.com/subject/30481964/'}\n采集中：https://movie.douban.com/subject/30481964/\n{'名称': '深夜食堂', '年份': '2019', '评分': '5.1', '评论数': '8855', '影评数': '255', '链接地址': 'https://movie.douban.com/subject/26868553/'}\n采集中：https://movie.douban.com/subject/26868553/\n{'名称': '费雪小姐和泪之穴 Miss Fisher & the Crypt of Tears', '年份': '2020', '评分': '6.0', '评论数': '212', '影评数': '2', '链接地址': 'https://movie.douban.com/subject/30129753/'}\n采集中：https://movie.douban.com/subject/30129753/\n{'名称': '夜班服务员 The Night Clerk', '年份': '2020', '评分': '5.6', '评论数': '744', '影评数': '14', '链接地址': 'https://movie.douban.com/subject/30142414/'}\n采集中：https://movie.douban.com/subject/30142414/\n{'名称': '海热症 Sea Fever', '年份': '2019', '评分': '5.5', '评论数': '528', '影评数': '16', '链接地址': 'https://movie.douban.com/subject/30177286/'}\n采集中：https://movie.douban.com/subject/30177286/\n{'名称': '谍海危情 Legacy of Lies', '年份': '2020', '评分': '5.5', '评论数': '174', '影评数': '7', '链接地址': 'https://movie.douban.com/subject/33218225/'}\n采集中：https://movie.douban.com/subject/33218225/\n{'名称': '少女佳禾', '年份': '2019', '评分': '5.9', '评论数': '256', '影评数': '4', '链接地址': 'https://movie.douban.com/subject/30385361/'}\n采集中：https://movie.douban.com/subject/30385361/\n{'名称': '遗落家庭 Relic', '年份': '2020', '评分': '5.3', '评论数': '726', '影评数': '15', '链接地址': 'https://movie.douban.com/subject/34796295/'}\n采集中：https://movie.douban.com/subject/34796295/\n{'名称': '特警队', '年份': '2019', '评分': '5.1', '评论数': '7522', '影评数': '193', '链接地址': 'https://movie.douban.com/subject/30317706/'}\n采集中：https://movie.douban.com/subject/30317706/\n{'名称': '江南', '年份': '2019', '评分': '5.5', '评论数': '1254', '影评数': '98', '链接地址': 'https://movie.douban.com/subject/33479277/'}\n采集中：https://movie.douban.com/subject/33479277/\n{'名称': '黄蜂网络 Wasp Network', '年份': '2019', '评分': '5.7', '评论数': '232', '影评数': '3', '链接地址': 'https://movie.douban.com/subject/30204527/'}\n采集中：https://movie.douban.com/subject/30204527/\n{'名称': '长沙里：被遗忘的英雄们 장사리 : 잊혀진 영웅들', '年份': '2019', '评分': '5.8', '评论数': '558', '影评数': '17', '链接地址': 'https://movie.douban.com/subject/30309627/'}\n采集中：https://movie.douban.com/subject/30309627/\n{'名称': '萨霍 Saaho', '年份': '2019', '评分': '6.0', '评论数': '120', '影评数': '8', '链接地址': 'https://movie.douban.com/subject/30230592/'}\n采集中：https://movie.douban.com/subject/30230592/\n{'名称': '与魔鬼同行 Running with the Devil', '年份': '2019', '评分': '5.8', '评论数': '470', '影评数': '8', '链接地址': 'https://movie.douban.com/subject/30170213/'}\n采集中：https://movie.douban.com/subject/30170213/\n{'名称': '鲨海逃生 47 Meters Down: Uncaged', '年份': '2019', '评分': '5.1', '评论数': '3462', '影评数': '54', '链接地址': 'https://movie.douban.com/subject/27186353/'}\n采集中：https://movie.douban.com/subject/27186353/\n{'名称': '超能追缉 Mortal', '年份': '2020', '评分': '5.6', '评论数': '205', '影评数': '4', '链接地址': 'https://movie.douban.com/subject/26791681/'}\n采集中：https://movie.douban.com/subject/26791681/\n{'名称': '汽车维修站 카센타', '年份': '2019', '评分': '5.9', '评论数': '95', '影评数': '2', '链接地址': 'https://movie.douban.com/subject/30318245/'}\n采集中：https://movie.douban.com/subject/30318245/\n{'名称': '乐园 楽園', '年份': '2019', '评分': '5.6', '评论数': '265', '影评数': '8', '链接地址': 'https://movie.douban.com/subject/30305551/'}\n采集中：https://movie.douban.com/subject/30305551/\n{'名称': '惊弓之鸟 Earthquake Bird', '年份': '2019', '评分': '5.8', '评论数': '347', '影评数': '7', '链接地址': 'https://movie.douban.com/subject/30177221/'}\n采集中：https://movie.douban.com/subject/30177221/\n{'名称': '生理酱 生理ちゃん', '年份': '2019', '评分': '5.7', '评论数': '153', '影评数': '0', '链接地址': 'https://movie.douban.com/subject/30459669/'}\n采集中：https://movie.douban.com/subject/30459669/\n{'名称': \"无重力男子 L'uomo senza gravità\", '年份': '2019', '评分': '5.7', '评论数': '242', '影评数': '7', '链接地址': 'https://movie.douban.com/subject/34861255/'}\n采集中：https://movie.douban.com/subject/34861255/\n{'名称': 'AI崩坏 AI崩壊', '年份': '2020', '评分': '5.7', '评论数': '278', '影评数': '13', '链接地址': 'https://movie.douban.com/subject/30403681/'}\n采集中：https://movie.douban.com/subject/30403681/\n{'名称': '诛仙1 诛仙 Ⅰ', '年份': '2019', '评分': '4.5', '评论数': '272316', '影评数': '7915', '链接地址': 'https://movie.douban.com/subject/25779217/'}\n采集中：https://movie.douban.com/subject/25779217/\n{'名称': '天空中的露西 Lucy in the Sky', '年份': '2019', '评分': '5.6', '评论数': '297', '影评数': '7', '链接地址': 'https://movie.douban.com/subject/25826020/'}\n采集中：https://movie.douban.com/subject/25826020/\n{'名称': '鱼雷 Torpedo', '年份': '2019', '评分': '5.7', '评论数': '120', '影评数': '8', '链接地址': 'https://movie.douban.com/subject/34819537/'}\n采集中：https://movie.douban.com/subject/34819537/\n{'名称': '格蕾特和韩塞尔 Gretel & Hansel', '年份': '2020', '评分': '5.4', '评论数': '512', '影评数': '9', '链接地址': 'https://movie.douban.com/subject/34807058/'}\n采集中：https://movie.douban.com/subject/34807058/\n{'名称': '大天蓬', '年份': '2020', '评分': '5.5', '评论数': '532', '影评数': '18', '链接地址': 'https://movie.douban.com/subject/33412928/'}\n采集中：https://movie.douban.com/subject/33412928/\n{'名称': '来者何人', '年份': '2019', '评分': '5.6', '评论数': '134', '影评数': '6', '链接地址': 'https://movie.douban.com/subject/30234426/'}\n采集中：https://movie.douban.com/subject/30234426/\n{'名称': '幸运日 Lucky Day', '年份': '2019', '评分': '5.7', '评论数': '223', '影评数': '3', '链接地址': 'https://movie.douban.com/subject/27150264/'}\n采集中：https://movie.douban.com/subject/27150264/\n{'名称': '肥龙过江 肥龍過江', '年份': '2020', '评分': '4.8', '评论数': '7103', '影评数': '118', '链接地址': 'https://movie.douban.com/subject/27131218/'}\n采集中：https://movie.douban.com/subject/27131218/\n{'名称': '狂犬病 Rabid', '年份': '2019', '评分': '5.3', '评论数': '611', '影评数': '9', '链接地址': 'https://movie.douban.com/subject/30221628/'}\n采集中：https://movie.douban.com/subject/30221628/\n{'名称': '救火奶爸 Playing with Fire', '年份': '2019', '评分': '5.4', '评论数': '375', '影评数': '5', '链接地址': 'https://movie.douban.com/subject/30428030/'}\n采集中：https://movie.douban.com/subject/30428030/\n{'名称': '锅盖头4：回归法制 Jarhead: Law of Return', '年份': '2019', '评分': '5.5', '评论数': '316', '影评数': '6', '链接地址': 'https://movie.douban.com/subject/34785746/'}\n采集中：https://movie.douban.com/subject/34785746/\n{'名称': '爱，婚礼，重演 Love Wedding Repeat', '年份': '2020', '评分': '5.4', '评论数': '376', '影评数': '5', '链接地址': 'https://movie.douban.com/subject/33418683/'}\n采集中：https://movie.douban.com/subject/33418683/\n{'名称': '恶之华 惡の華', '年份': '2019', '评分': '5.2', '评论数': '745', '影评数': '8', '链接地址': 'https://movie.douban.com/subject/30371775/'}\n采集中：https://movie.douban.com/subject/30371775/\n{'名称': '陈情令之生魂', '年份': '2019', '评分': '4.6', '评论数': '14936', '影评数': '155', '链接地址': 'https://movie.douban.com/subject/34786971/'}\n采集中：https://movie.douban.com/subject/34786971/\n{'名称': '二之国 二ノ国', '年份': '2019', '评分': '5.4', '评论数': '233', '影评数': '2', '链接地址': 'https://movie.douban.com/subject/30456649/'}\n采集中：https://movie.douban.com/subject/30456649/\n{'名称': '圣诞前夕的骑士 The Knight Before Christmas', '年份': '2019', '评分': '5.4', '评论数': '478', '影评数': '0', '链接地址': 'https://movie.douban.com/subject/33159421/'}\n采集中：https://movie.douban.com/subject/33159421/\n{'名称': '姐妹老板 Like a Boss', '年份': '2020', '评分': '5.0', '评论数': '270', '影评数': '5', '链接地址': 'https://movie.douban.com/subject/30230604/'}\n采集中：https://movie.douban.com/subject/30230604/\n{'名称': '第九分局', '年份': '2019', '评分': '5.4', '评论数': '254', '影评数': '4', '链接地址': 'https://movie.douban.com/subject/30346023/'}\n采集中：https://movie.douban.com/subject/30346023/\n{'名称': '野王', '年份': '2020', '评分': '5.6', '评论数': '229', '影评数': '7', '链接地址': 'https://movie.douban.com/subject/30424207/'}\n采集中：https://movie.douban.com/subject/30424207/\n{'名称': '虎尾 Tigertail', '年份': '2020', '评分': '5.3', '评论数': '510', '影评数': '11', '链接地址': 'https://movie.douban.com/subject/30309632/'}\n采集中：https://movie.douban.com/subject/30309632/\n{'名称': '逗爱熊仁镇', '年份': '2019', '评分': '4.8', '评论数': '1301', '影评数': '89', '链接地址': 'https://movie.douban.com/subject/27063867/'}\n采集中：https://movie.douban.com/subject/27063867/\n{'名称': '节奏组 The Rhythm Section', '年份': '2020', '评分': '5.0', '评论数': '444', '影评数': '8', '链接地址': 'https://movie.douban.com/subject/27088813/'}\n采集中：https://movie.douban.com/subject/27088813/\n{'名称': '解放·终局营救', '年份': '2019', '评分': '4.7', '评论数': '3442', '影评数': '175', '链接地址': 'https://movie.douban.com/subject/30454698/'}\n采集中：https://movie.douban.com/subject/30454698/\n{'名称': '超人：红色之子 Superman: Red Son', '年份': '2020', '评分': '4.8', '评论数': '1980', '影评数': '28', '链接地址': 'https://movie.douban.com/subject/27668334/'}\n采集中：https://movie.douban.com/subject/27668334/\n{'名称': '我的A级秘密 Can You Keep a Secret?', '年份': '2019', '评分': '5.1', '评论数': '434', '影评数': '3', '链接地址': 'https://movie.douban.com/subject/30283389/'}\n采集中：https://movie.douban.com/subject/30283389/\n{'名称': '我的灵魂是爱做的 我的靈魂是愛做的', '年份': '2019', '评分': '4.9', '评论数': '593', '影评数': '14', '链接地址': 'https://movie.douban.com/subject/30468842/'}\n采集中：https://movie.douban.com/subject/30468842/\n{'名称': '灵偶契约2 Brahms: The Boy II', '年份': '2020', '评分': '4.9', '评论数': '421', '影评数': '8', '链接地址': 'https://movie.douban.com/subject/30359790/'}\n采集中：https://movie.douban.com/subject/30359790/\n{'名称': '我们永不言弃 我們永不言棄', '年份': '2020', '评分': '4.9', '评论数': '839', '影评数': '57', '链接地址': 'https://movie.douban.com/subject/30466885/'}\n采集中：https://movie.douban.com/subject/30466885/\n{'名称': '新咒怨(美版) The Grudge', '年份': '2020', '评分': '4.6', '评论数': '1924', '影评数': '31', '链接地址': 'https://movie.douban.com/subject/25851683/'}\n采集中：https://movie.douban.com/subject/25851683/\n{'名称': '天·火', '年份': '2019', '评分': '4.4', '评论数': '5502', '影评数': '167', '链接地址': 'https://movie.douban.com/subject/30357885/'}\n采集中：https://movie.douban.com/subject/30357885/\n{'名称': '零号犯人 Patients of a Saint', '年份': '2019', '评分': '4.8', '评论数': '215', '影评数': '6', '链接地址': 'https://movie.douban.com/subject/30469287/'}\n采集中：https://movie.douban.com/subject/30469287/\n{'名称': '冰峰暴', '年份': '2019', '评分': '4.6', '评论数': '966', '影评数': '86', '链接地址': 'https://movie.douban.com/subject/27595272/'}\n采集中：https://movie.douban.com/subject/27595272/\n{'名称': '父亲的遗愿 The Last Thing He Wanted', '年份': '2020', '评分': '4.7', '评论数': '374', '影评数': '8', '链接地址': 'https://movie.douban.com/subject/27156540/'}\n采集中：https://movie.douban.com/subject/27156540/\n{'名称': '美味侦探', '年份': '2020', '评分': '4.6', '评论数': '426', '影评数': '10', '链接地址': 'https://movie.douban.com/subject/33458819/'}\n采集中：https://movie.douban.com/subject/33458819/\n{'名称': '我的拳王男友', '年份': '2019', '评分': '4.6', '评论数': '1543', '影评数': '158', '链接地址': 'https://movie.douban.com/subject/27132180/'}\n采集中：https://movie.douban.com/subject/27132180/\n{'名称': '狙击手', '年份': '2020', '评分': '4.7', '评论数': '436', '影评数': '10', '链接地址': 'https://movie.douban.com/subject/30413195/'}\n采集中：https://movie.douban.com/subject/30413195/\n{'名称': '失踪 失蹤', '年份': '2019', '评分': '4.6', '评论数': '430', '影评数': '7', '链接地址': 'https://movie.douban.com/subject/30279883/'}\n采集中：https://movie.douban.com/subject/30279883/\n{'名称': '拧紧 The Turning', '年份': '2020', '评分': '4.5', '评论数': '587', '影评数': '11', '链接地址': 'https://movie.douban.com/subject/27605034/'}\n采集中：https://movie.douban.com/subject/27605034/\n{'名称': '快进者', '年份': '2020', '评分': '4.7', '评论数': '226', '影评数': '6', '链接地址': 'https://movie.douban.com/subject/34926591/'}\n采集中：https://movie.douban.com/subject/34926591/\n{'名称': '一生有你2019', '年份': '2019', '评分': '4.0', '评论数': '1844', '影评数': '71', '链接地址': 'https://movie.douban.com/subject/26263417/'}\n采集中：https://movie.douban.com/subject/26263417/\n{'名称': '猫 Cats', '年份': '2019', '评分': '4.0', '评论数': '1821', '影评数': '38', '链接地址': 'https://movie.douban.com/subject/26787585/'}\n采集中：https://movie.douban.com/subject/26787585/\n{'名称': '龙牌之谜 Tayna pechati drakona', '年份': '2019', '评分': '3.6', '评论数': '4410', '影评数': '146', '链接地址': 'https://movie.douban.com/subject/26367602/'}\n采集中：https://movie.douban.com/subject/26367602/\n完成\n"
    }
   ],
   "source": [
    "mdata=pd.DataFrame(columns=list(['名称','年份','评分','评论数','影评数','链接地址']))\n",
    "mdataIndex=0\n",
    "\n",
    "flag=True\n",
    "pageIndxe=0\n",
    "# while(pageIndxe<1):\n",
    "while(flag):\n",
    "    mlist=requests.get('https://movie.douban.com/j/search_subjects?type=movie&tag=%E7%83%AD%E9%97%A8&sort=rank&page_limit=20&page_start='+str(pageIndxe),headers=headers)\n",
    "    mdict = json.loads(mlist.text)\n",
    "    mplist=mdict[\"subjects\"]\n",
    "    if len(mplist)==0:\n",
    "        flag=False\n",
    "    pageIndxe=pageIndxe+20\n",
    "\n",
    "    for mp in mplist:\n",
    "        m=getMovieDetails(mp[\"url\"])\n",
    "        print(m)\n",
    "        mdata.loc[mdataIndex]=m\n",
    "        mdataIndex=mdataIndex+1\n",
    "        print(\"采集中：\"+mp[\"url\"])\n",
    "print(\"完成\")        "
   ]
  },
  {
   "cell_type": "code",
   "execution_count": 110,
   "metadata": {},
   "outputs": [
    {
     "output_type": "execute_result",
     "data": {
      "text/plain": "                             名称    年份   评分     评论数    影评数  \\\n0                      小丑 Joker  2019  8.7  197916   4895   \n1             爱尔兰人 The Irishman  2019  8.8   53684    680   \n2             82年生的金智英 82년생 김지영  2019  8.6   89353   2241   \n3           婚姻故事 Marriage Story  2019  8.6   72750   1447   \n4                          少年的你  2019  8.3  370599  14773   \n..                          ...   ...  ...     ...    ...   \n426              拧紧 The Turning  2020  4.5     587     11   \n427                         快进者  2020  4.7     226      6   \n428                    一生有你2019  2019  4.0    1844     71   \n429                      猫 Cats  2019  4.0    1821     38   \n430  龙牌之谜 Tayna pechati drakona  2019  3.6    4410    146   \n\n                                           链接地址  \n0    https://movie.douban.com/subject/27119724/  \n1     https://movie.douban.com/subject/6981153/  \n2    https://movie.douban.com/subject/30327842/  \n3    https://movie.douban.com/subject/27202818/  \n4    https://movie.douban.com/subject/30166972/  \n..                                          ...  \n426  https://movie.douban.com/subject/27605034/  \n427  https://movie.douban.com/subject/34926591/  \n428  https://movie.douban.com/subject/26263417/  \n429  https://movie.douban.com/subject/26787585/  \n430  https://movie.douban.com/subject/26367602/  \n\n[431 rows x 6 columns]",
      "text/html": "<div>\n<style scoped>\n    .dataframe tbody tr th:only-of-type {\n        vertical-align: middle;\n    }\n\n    .dataframe tbody tr th {\n        vertical-align: top;\n    }\n\n    .dataframe thead th {\n        text-align: right;\n    }\n</style>\n<table border=\"1\" class=\"dataframe\">\n  <thead>\n    <tr style=\"text-align: right;\">\n      <th></th>\n      <th>名称</th>\n      <th>年份</th>\n      <th>评分</th>\n      <th>评论数</th>\n      <th>影评数</th>\n      <th>链接地址</th>\n    </tr>\n  </thead>\n  <tbody>\n    <tr>\n      <th>0</th>\n      <td>小丑 Joker</td>\n      <td>2019</td>\n      <td>8.7</td>\n      <td>197916</td>\n      <td>4895</td>\n      <td>https://movie.douban.com/subject/27119724/</td>\n    </tr>\n    <tr>\n      <th>1</th>\n      <td>爱尔兰人 The Irishman</td>\n      <td>2019</td>\n      <td>8.8</td>\n      <td>53684</td>\n      <td>680</td>\n      <td>https://movie.douban.com/subject/6981153/</td>\n    </tr>\n    <tr>\n      <th>2</th>\n      <td>82年生的金智英 82년생 김지영</td>\n      <td>2019</td>\n      <td>8.6</td>\n      <td>89353</td>\n      <td>2241</td>\n      <td>https://movie.douban.com/subject/30327842/</td>\n    </tr>\n    <tr>\n      <th>3</th>\n      <td>婚姻故事 Marriage Story</td>\n      <td>2019</td>\n      <td>8.6</td>\n      <td>72750</td>\n      <td>1447</td>\n      <td>https://movie.douban.com/subject/27202818/</td>\n    </tr>\n    <tr>\n      <th>4</th>\n      <td>少年的你</td>\n      <td>2019</td>\n      <td>8.3</td>\n      <td>370599</td>\n      <td>14773</td>\n      <td>https://movie.douban.com/subject/30166972/</td>\n    </tr>\n    <tr>\n      <th>...</th>\n      <td>...</td>\n      <td>...</td>\n      <td>...</td>\n      <td>...</td>\n      <td>...</td>\n      <td>...</td>\n    </tr>\n    <tr>\n      <th>426</th>\n      <td>拧紧 The Turning</td>\n      <td>2020</td>\n      <td>4.5</td>\n      <td>587</td>\n      <td>11</td>\n      <td>https://movie.douban.com/subject/27605034/</td>\n    </tr>\n    <tr>\n      <th>427</th>\n      <td>快进者</td>\n      <td>2020</td>\n      <td>4.7</td>\n      <td>226</td>\n      <td>6</td>\n      <td>https://movie.douban.com/subject/34926591/</td>\n    </tr>\n    <tr>\n      <th>428</th>\n      <td>一生有你2019</td>\n      <td>2019</td>\n      <td>4.0</td>\n      <td>1844</td>\n      <td>71</td>\n      <td>https://movie.douban.com/subject/26263417/</td>\n    </tr>\n    <tr>\n      <th>429</th>\n      <td>猫 Cats</td>\n      <td>2019</td>\n      <td>4.0</td>\n      <td>1821</td>\n      <td>38</td>\n      <td>https://movie.douban.com/subject/26787585/</td>\n    </tr>\n    <tr>\n      <th>430</th>\n      <td>龙牌之谜 Tayna pechati drakona</td>\n      <td>2019</td>\n      <td>3.6</td>\n      <td>4410</td>\n      <td>146</td>\n      <td>https://movie.douban.com/subject/26367602/</td>\n    </tr>\n  </tbody>\n</table>\n<p>431 rows × 6 columns</p>\n</div>"
     },
     "metadata": {},
     "execution_count": 110
    }
   ],
   "source": [
    "mdata"
   ]
  },
  {
   "cell_type": "code",
   "execution_count": 130,
   "metadata": {},
   "outputs": [
    {
     "output_type": "execute_result",
     "data": {
      "text/plain": "                                  名称    年份   评分     评论数   影评数  \\\n5                            多哥 Togo  2019  8.8   14530   188   \n45   路人女主的养成方法 Fine 冴えない彼女の育てかた Fine  2019  8.8     173     7   \n1                  爱尔兰人 The Irishman  2019  8.8   53684   680   \n0                           小丑 Joker  2019  8.7  197916  4895   \n10          给我翅膀 Donne-moi des ailes  2019  8.7    5397    72   \n..                               ...   ...  ...     ...   ...   \n389                         诛仙1 诛仙 Ⅰ  2019  4.5  272316  7915   \n418                              天·火  2019  4.4    5502   167   \n428                         一生有你2019  2019  4.0    1844    71   \n429                           猫 Cats  2019  4.0    1821    38   \n430       龙牌之谜 Tayna pechati drakona  2019  3.6    4410   146   \n\n                                           链接地址  \n5    https://movie.douban.com/subject/30271841/  \n45   https://movie.douban.com/subject/27596682/  \n1     https://movie.douban.com/subject/6981153/  \n0    https://movie.douban.com/subject/27119724/  \n10   https://movie.douban.com/subject/30410114/  \n..                                          ...  \n389  https://movie.douban.com/subject/25779217/  \n418  https://movie.douban.com/subject/30357885/  \n428  https://movie.douban.com/subject/26263417/  \n429  https://movie.douban.com/subject/26787585/  \n430  https://movie.douban.com/subject/26367602/  \n\n[431 rows x 6 columns]",
      "text/html": "<div>\n<style scoped>\n    .dataframe tbody tr th:only-of-type {\n        vertical-align: middle;\n    }\n\n    .dataframe tbody tr th {\n        vertical-align: top;\n    }\n\n    .dataframe thead th {\n        text-align: right;\n    }\n</style>\n<table border=\"1\" class=\"dataframe\">\n  <thead>\n    <tr style=\"text-align: right;\">\n      <th></th>\n      <th>名称</th>\n      <th>年份</th>\n      <th>评分</th>\n      <th>评论数</th>\n      <th>影评数</th>\n      <th>链接地址</th>\n    </tr>\n  </thead>\n  <tbody>\n    <tr>\n      <th>5</th>\n      <td>多哥 Togo</td>\n      <td>2019</td>\n      <td>8.8</td>\n      <td>14530</td>\n      <td>188</td>\n      <td>https://movie.douban.com/subject/30271841/</td>\n    </tr>\n    <tr>\n      <th>45</th>\n      <td>路人女主的养成方法 Fine 冴えない彼女の育てかた Fine</td>\n      <td>2019</td>\n      <td>8.8</td>\n      <td>173</td>\n      <td>7</td>\n      <td>https://movie.douban.com/subject/27596682/</td>\n    </tr>\n    <tr>\n      <th>1</th>\n      <td>爱尔兰人 The Irishman</td>\n      <td>2019</td>\n      <td>8.8</td>\n      <td>53684</td>\n      <td>680</td>\n      <td>https://movie.douban.com/subject/6981153/</td>\n    </tr>\n    <tr>\n      <th>0</th>\n      <td>小丑 Joker</td>\n      <td>2019</td>\n      <td>8.7</td>\n      <td>197916</td>\n      <td>4895</td>\n      <td>https://movie.douban.com/subject/27119724/</td>\n    </tr>\n    <tr>\n      <th>10</th>\n      <td>给我翅膀 Donne-moi des ailes</td>\n      <td>2019</td>\n      <td>8.7</td>\n      <td>5397</td>\n      <td>72</td>\n      <td>https://movie.douban.com/subject/30410114/</td>\n    </tr>\n    <tr>\n      <th>...</th>\n      <td>...</td>\n      <td>...</td>\n      <td>...</td>\n      <td>...</td>\n      <td>...</td>\n      <td>...</td>\n    </tr>\n    <tr>\n      <th>389</th>\n      <td>诛仙1 诛仙 Ⅰ</td>\n      <td>2019</td>\n      <td>4.5</td>\n      <td>272316</td>\n      <td>7915</td>\n      <td>https://movie.douban.com/subject/25779217/</td>\n    </tr>\n    <tr>\n      <th>418</th>\n      <td>天·火</td>\n      <td>2019</td>\n      <td>4.4</td>\n      <td>5502</td>\n      <td>167</td>\n      <td>https://movie.douban.com/subject/30357885/</td>\n    </tr>\n    <tr>\n      <th>428</th>\n      <td>一生有你2019</td>\n      <td>2019</td>\n      <td>4.0</td>\n      <td>1844</td>\n      <td>71</td>\n      <td>https://movie.douban.com/subject/26263417/</td>\n    </tr>\n    <tr>\n      <th>429</th>\n      <td>猫 Cats</td>\n      <td>2019</td>\n      <td>4.0</td>\n      <td>1821</td>\n      <td>38</td>\n      <td>https://movie.douban.com/subject/26787585/</td>\n    </tr>\n    <tr>\n      <th>430</th>\n      <td>龙牌之谜 Tayna pechati drakona</td>\n      <td>2019</td>\n      <td>3.6</td>\n      <td>4410</td>\n      <td>146</td>\n      <td>https://movie.douban.com/subject/26367602/</td>\n    </tr>\n  </tbody>\n</table>\n<p>431 rows × 6 columns</p>\n</div>"
     },
     "metadata": {},
     "execution_count": 130
    }
   ],
   "source": [
    "mdata.sort_values(by='评分',ascending=False)"
   ]
  },
  {
   "cell_type": "code",
   "execution_count": 132,
   "metadata": {},
   "outputs": [
    {
     "output_type": "execute_result",
     "data": {
      "text/plain": "                                                    名称    年份   评分     评论数  \\\n301                                黑帮大佬和我的365日 365 dni  2020  5.5    9917   \n154                                 皇后与瘦子 Queen & Slim  2019  7.2     989   \n164                   夕雾花园 The Garden of Evening Mists  2019  7.1     984   \n71                                        最后一封信 ラストレター  2020  7.4     983   \n187  Build NEW WORLD 假面骑士Grease ビルド NEW WORLD 仮面ライダ...  2019  7.7      98   \n..                                                 ...   ...  ...     ...   \n35                                       1/2的魔法 Onward  2020  7.7   10136   \n221                                    消失吧，群青 いなくなれ、群青  2019  6.6    1011   \n41                                     冰雪奇缘2 Frozen II  2019  7.2  100804   \n172                           杀不了的他与死不了的她 殺さない彼と死なない彼女  2019  7.0    1007   \n55                                             朱迪 Judy  2019  7.5   10020   \n\n      影评数                                        链接地址  \n301    64  https://movie.douban.com/subject/34968329/  \n154    21  https://movie.douban.com/subject/30279172/  \n164    25  https://movie.douban.com/subject/30238379/  \n71     22  https://movie.douban.com/subject/30271236/  \n187     0  https://movie.douban.com/subject/30463393/  \n..    ...                                         ...  \n35    105  https://movie.douban.com/subject/30401849/  \n221    18  https://movie.douban.com/subject/33377652/  \n41   1613  https://movie.douban.com/subject/25887288/  \n172    17  https://movie.douban.com/subject/30372314/  \n55    145  https://movie.douban.com/subject/27179039/  \n\n[431 rows x 6 columns]",
      "text/html": "<div>\n<style scoped>\n    .dataframe tbody tr th:only-of-type {\n        vertical-align: middle;\n    }\n\n    .dataframe tbody tr th {\n        vertical-align: top;\n    }\n\n    .dataframe thead th {\n        text-align: right;\n    }\n</style>\n<table border=\"1\" class=\"dataframe\">\n  <thead>\n    <tr style=\"text-align: right;\">\n      <th></th>\n      <th>名称</th>\n      <th>年份</th>\n      <th>评分</th>\n      <th>评论数</th>\n      <th>影评数</th>\n      <th>链接地址</th>\n    </tr>\n  </thead>\n  <tbody>\n    <tr>\n      <th>301</th>\n      <td>黑帮大佬和我的365日 365 dni</td>\n      <td>2020</td>\n      <td>5.5</td>\n      <td>9917</td>\n      <td>64</td>\n      <td>https://movie.douban.com/subject/34968329/</td>\n    </tr>\n    <tr>\n      <th>154</th>\n      <td>皇后与瘦子 Queen &amp; Slim</td>\n      <td>2019</td>\n      <td>7.2</td>\n      <td>989</td>\n      <td>21</td>\n      <td>https://movie.douban.com/subject/30279172/</td>\n    </tr>\n    <tr>\n      <th>164</th>\n      <td>夕雾花园 The Garden of Evening Mists</td>\n      <td>2019</td>\n      <td>7.1</td>\n      <td>984</td>\n      <td>25</td>\n      <td>https://movie.douban.com/subject/30238379/</td>\n    </tr>\n    <tr>\n      <th>71</th>\n      <td>最后一封信 ラストレター</td>\n      <td>2020</td>\n      <td>7.4</td>\n      <td>983</td>\n      <td>22</td>\n      <td>https://movie.douban.com/subject/30271236/</td>\n    </tr>\n    <tr>\n      <th>187</th>\n      <td>Build NEW WORLD 假面骑士Grease ビルド NEW WORLD 仮面ライダ...</td>\n      <td>2019</td>\n      <td>7.7</td>\n      <td>98</td>\n      <td>0</td>\n      <td>https://movie.douban.com/subject/30463393/</td>\n    </tr>\n    <tr>\n      <th>...</th>\n      <td>...</td>\n      <td>...</td>\n      <td>...</td>\n      <td>...</td>\n      <td>...</td>\n      <td>...</td>\n    </tr>\n    <tr>\n      <th>35</th>\n      <td>1/2的魔法 Onward</td>\n      <td>2020</td>\n      <td>7.7</td>\n      <td>10136</td>\n      <td>105</td>\n      <td>https://movie.douban.com/subject/30401849/</td>\n    </tr>\n    <tr>\n      <th>221</th>\n      <td>消失吧，群青 いなくなれ、群青</td>\n      <td>2019</td>\n      <td>6.6</td>\n      <td>1011</td>\n      <td>18</td>\n      <td>https://movie.douban.com/subject/33377652/</td>\n    </tr>\n    <tr>\n      <th>41</th>\n      <td>冰雪奇缘2 Frozen II</td>\n      <td>2019</td>\n      <td>7.2</td>\n      <td>100804</td>\n      <td>1613</td>\n      <td>https://movie.douban.com/subject/25887288/</td>\n    </tr>\n    <tr>\n      <th>172</th>\n      <td>杀不了的他与死不了的她 殺さない彼と死なない彼女</td>\n      <td>2019</td>\n      <td>7.0</td>\n      <td>1007</td>\n      <td>17</td>\n      <td>https://movie.douban.com/subject/30372314/</td>\n    </tr>\n    <tr>\n      <th>55</th>\n      <td>朱迪 Judy</td>\n      <td>2019</td>\n      <td>7.5</td>\n      <td>10020</td>\n      <td>145</td>\n      <td>https://movie.douban.com/subject/27179039/</td>\n    </tr>\n  </tbody>\n</table>\n<p>431 rows × 6 columns</p>\n</div>"
     },
     "metadata": {},
     "execution_count": 132
    }
   ],
   "source": [
    "mdata.sort_values(by='评论数',ascending=False)"
   ]
  },
  {
   "cell_type": "code",
   "execution_count": 112,
   "metadata": {},
   "outputs": [],
   "source": [
    "mdata.to_csv('/Users/yihui/Downloads/1.csv')"
   ]
  },
  {
   "cell_type": "code",
   "execution_count": 133,
   "metadata": {},
   "outputs": [],
   "source": [
    "mdataload=pd.read_csv('/Users/yihui/Downloads/1.csv')"
   ]
  },
  {
   "cell_type": "code",
   "execution_count": 138,
   "metadata": {},
   "outputs": [
    {
     "output_type": "execute_result",
     "data": {
      "text/plain": "     Unnamed: 0                                                 名称    年份   评分  \\\n4             4                                               少年的你  2019  8.3   \n389         389                                           诛仙1 诛仙 Ⅰ  2019  4.5   \n0             0                                           小丑 Joker  2019  8.7   \n17           17                                             我和我的祖国  2019  7.7   \n177         177                                                 囧妈  2020  5.9   \n..          ...                                                ...   ...  ...   \n336         336                           希腊环游记 The Trip to Greece  2020  6.2   \n310         310                              跟随节拍跳起来 Feel the Beat  2020  6.4   \n187         187  Build NEW WORLD 假面骑士Grease ビルド NEW WORLD 仮面ライダ...  2019  7.7   \n404         404                圣诞前夕的骑士 The Knight Before Christmas  2019  5.4   \n183         183                                  尘世之光 Gloria Mundi  2019  7.2   \n\n        评论数    影评数                                        链接地址  \n4    370599  14773  https://movie.douban.com/subject/30166972/  \n389  272316   7915  https://movie.douban.com/subject/25779217/  \n0    197916   4895  https://movie.douban.com/subject/27119724/  \n17   231798   3540  https://movie.douban.com/subject/32659890/  \n177  173302   2937  https://movie.douban.com/subject/30306570/  \n..      ...    ...                                         ...  \n336     137      0  https://movie.douban.com/subject/34960097/  \n310     183      0  https://movie.douban.com/subject/35086931/  \n187      98      0  https://movie.douban.com/subject/30463393/  \n404     478      0  https://movie.douban.com/subject/33159421/  \n183     248      0  https://movie.douban.com/subject/30394821/  \n\n[431 rows x 7 columns]",
      "text/html": "<div>\n<style scoped>\n    .dataframe tbody tr th:only-of-type {\n        vertical-align: middle;\n    }\n\n    .dataframe tbody tr th {\n        vertical-align: top;\n    }\n\n    .dataframe thead th {\n        text-align: right;\n    }\n</style>\n<table border=\"1\" class=\"dataframe\">\n  <thead>\n    <tr style=\"text-align: right;\">\n      <th></th>\n      <th>Unnamed: 0</th>\n      <th>名称</th>\n      <th>年份</th>\n      <th>评分</th>\n      <th>评论数</th>\n      <th>影评数</th>\n      <th>链接地址</th>\n    </tr>\n  </thead>\n  <tbody>\n    <tr>\n      <th>4</th>\n      <td>4</td>\n      <td>少年的你</td>\n      <td>2019</td>\n      <td>8.3</td>\n      <td>370599</td>\n      <td>14773</td>\n      <td>https://movie.douban.com/subject/30166972/</td>\n    </tr>\n    <tr>\n      <th>389</th>\n      <td>389</td>\n      <td>诛仙1 诛仙 Ⅰ</td>\n      <td>2019</td>\n      <td>4.5</td>\n      <td>272316</td>\n      <td>7915</td>\n      <td>https://movie.douban.com/subject/25779217/</td>\n    </tr>\n    <tr>\n      <th>0</th>\n      <td>0</td>\n      <td>小丑 Joker</td>\n      <td>2019</td>\n      <td>8.7</td>\n      <td>197916</td>\n      <td>4895</td>\n      <td>https://movie.douban.com/subject/27119724/</td>\n    </tr>\n    <tr>\n      <th>17</th>\n      <td>17</td>\n      <td>我和我的祖国</td>\n      <td>2019</td>\n      <td>7.7</td>\n      <td>231798</td>\n      <td>3540</td>\n      <td>https://movie.douban.com/subject/32659890/</td>\n    </tr>\n    <tr>\n      <th>177</th>\n      <td>177</td>\n      <td>囧妈</td>\n      <td>2020</td>\n      <td>5.9</td>\n      <td>173302</td>\n      <td>2937</td>\n      <td>https://movie.douban.com/subject/30306570/</td>\n    </tr>\n    <tr>\n      <th>...</th>\n      <td>...</td>\n      <td>...</td>\n      <td>...</td>\n      <td>...</td>\n      <td>...</td>\n      <td>...</td>\n      <td>...</td>\n    </tr>\n    <tr>\n      <th>336</th>\n      <td>336</td>\n      <td>希腊环游记 The Trip to Greece</td>\n      <td>2020</td>\n      <td>6.2</td>\n      <td>137</td>\n      <td>0</td>\n      <td>https://movie.douban.com/subject/34960097/</td>\n    </tr>\n    <tr>\n      <th>310</th>\n      <td>310</td>\n      <td>跟随节拍跳起来 Feel the Beat</td>\n      <td>2020</td>\n      <td>6.4</td>\n      <td>183</td>\n      <td>0</td>\n      <td>https://movie.douban.com/subject/35086931/</td>\n    </tr>\n    <tr>\n      <th>187</th>\n      <td>187</td>\n      <td>Build NEW WORLD 假面骑士Grease ビルド NEW WORLD 仮面ライダ...</td>\n      <td>2019</td>\n      <td>7.7</td>\n      <td>98</td>\n      <td>0</td>\n      <td>https://movie.douban.com/subject/30463393/</td>\n    </tr>\n    <tr>\n      <th>404</th>\n      <td>404</td>\n      <td>圣诞前夕的骑士 The Knight Before Christmas</td>\n      <td>2019</td>\n      <td>5.4</td>\n      <td>478</td>\n      <td>0</td>\n      <td>https://movie.douban.com/subject/33159421/</td>\n    </tr>\n    <tr>\n      <th>183</th>\n      <td>183</td>\n      <td>尘世之光 Gloria Mundi</td>\n      <td>2019</td>\n      <td>7.2</td>\n      <td>248</td>\n      <td>0</td>\n      <td>https://movie.douban.com/subject/30394821/</td>\n    </tr>\n  </tbody>\n</table>\n<p>431 rows × 7 columns</p>\n</div>"
     },
     "metadata": {},
     "execution_count": 138
    }
   ],
   "source": [
    "mdataload.sort_values('影评数',ascending=False)"
   ]
  },
  {
   "cell_type": "markdown",
   "metadata": {},
   "source": [
    "### 抓取地址\n",
    "\n",
    "#### 列表页\n",
    "https://movie.douban.com/j/search_subjects?type=movie&tag=%E7%83%AD%E9%97%A8&sort=rank&page_limit=20&page_start=20\n",
    "\n",
    "#### 详情页\n",
    "https://movie.douban.com/subject/34964056/\n",
    "\n"
   ]
  },
  {
   "cell_type": "code",
   "execution_count": 69,
   "metadata": {},
   "outputs": [],
   "source": [
    "import requests\n",
    "headers = {\n",
    "    'User-Agent':'Mozilla/5.0 (Windows NT 6.1; WOW64) AppleWebKit/537.36 (KHTML, like Gecko) Chrome/63.0.3239.132 Safari/537.36 QIHU 360SE'\n",
    "}\n",
    "mhtml=requests.get('https://movie.douban.com/subject/6538866/',headers=headers)\n"
   ]
  },
  {
   "cell_type": "code",
   "execution_count": 78,
   "metadata": {
    "tags": [
     "outputPrepend"
    ]
   },
   "outputs": [
    {
     "output_type": "stream",
     "name": "stdout",
     "text": "['类型:', '官方网站:', '制片国家/地区:', '语言:', '上映日期:', '片长:', '又名:', 'IMDb链接:', '( <span class=\"gallery_topics\">全部 <span id=\"topic-count\">', '( <a href=\"reviews\">全部 442 条</a> )']\n"
    }
   ],
   "source": [
    "#mhtml.text\n",
    "import re\n",
    "#pattern = re.compile(r'<div class=\"list_item clearfix\">.*?</span>')\n",
    "# basic_content = re.finditer(pattern,mhtml.text)\n",
    "# print(basic_content)\n",
    "\n",
    "# s2 = re.sub(r'''data-mode=\"plain\" data-name=\".*?\" \n",
    "#             data-type=\"movie\"''','',mhtml.text)\n",
    "# print(s2) \n",
    "\n",
    "reg = r'data-mode=\"plain\" data-name=\"(.+?)\"'\n",
    "hreflist = re.findall(reg, mhtml.text)\n",
    "#len(hreflist)\n",
    "\n",
    "\n",
    "# reg1 = r'''<a.*?>(.*?)</a>'''\n",
    "\n",
    "reg1 = r'''<span class=\"pl\">(.*?)</span>'''\n",
    "\n",
    "a=re.findall(reg1, mhtml.text)\n",
    "print(a)\n",
    "\n",
    "\n"
   ]
  },
  {
   "cell_type": "code",
   "execution_count": 157,
   "metadata": {},
   "outputs": [
    {
     "output_type": "execute_result",
     "data": {
      "text/plain": "<div class=\"tags-body\">\n<a class=\"\" href=\"/tag/赛车\">赛车</a>\n<a class=\"\" href=\"/tag/传记\">传记</a>\n<a class=\"\" href=\"/tag/真实事件改编\">真实事件改编</a>\n<a class=\"\" href=\"/tag/美国\">美国</a>\n<a class=\"\" href=\"/tag/剧情\">剧情</a>\n<a class=\"\" href=\"/tag/运动\">运动</a>\n<a class=\"\" href=\"/tag/2019\">2019</a>\n<a class=\"\" href=\"/tag/动作\">动作</a>\n</div>"
     },
     "metadata": {},
     "execution_count": 157
    }
   ],
   "source": [
    "div_tag=soup.find('div',class_='tags-body')\n",
    "div_tag"
   ]
  },
  {
   "cell_type": "code",
   "execution_count": 171,
   "metadata": {},
   "outputs": [
    {
     "output_type": "execute_result",
     "data": {
      "text/plain": "['', '赛车', '传记', '真实事件改编', '美国', '剧情', '运动', '2019', '动作', '']"
     },
     "metadata": {},
     "execution_count": 171
    }
   ],
   "source": [
    "a=div_tag.text.split('\\n')"
   ]
  },
  {
   "cell_type": "code",
   "execution_count": 169,
   "metadata": {},
   "outputs": [
    {
     "output_type": "execute_result",
     "data": {
      "text/plain": "bs4.element.Tag"
     },
     "metadata": {},
     "execution_count": 169
    }
   ],
   "source": [
    "import pandas as pd\n",
    "mtag=pd.DataFrame(columns=list(['标签名称','链接地址']))\n"
   ]
  },
  {
   "cell_type": "code",
   "execution_count": 170,
   "metadata": {},
   "outputs": [
    {
     "output_type": "execute_result",
     "data": {
      "text/plain": "list"
     },
     "metadata": {},
     "execution_count": 170
    }
   ],
   "source": [
    "type(div_tag.text.split('\\n'))"
   ]
  },
  {
   "cell_type": "code",
   "execution_count": null,
   "metadata": {},
   "outputs": [],
   "source": [
    "def add_tag(tag_index,list):\n",
    " "
   ]
  },
  {
   "cell_type": "code",
   "execution_count": 150,
   "metadata": {},
   "outputs": [],
   "source": [
    "mhtml=requests.get('https://movie.douban.com/subject/6538866/',headers=headers)\n",
    "soup=BeautifulSoup(mhtml.text,'html.parser')"
   ]
  }
 ],
 "metadata": {
  "language_info": {
   "codemirror_mode": {
    "name": "ipython",
    "version": 3
   },
   "file_extension": ".py",
   "mimetype": "text/x-python",
   "name": "python",
   "nbconvert_exporter": "python",
   "pygments_lexer": "ipython3",
   "version": "3.7.6-final"
  },
  "orig_nbformat": 2,
  "kernelspec": {
   "name": "python37664bitd8650d54ae5d4b0988094c7fd5689777",
   "display_name": "Python 3.7.6 64-bit"
  }
 },
 "nbformat": 4,
 "nbformat_minor": 2
}