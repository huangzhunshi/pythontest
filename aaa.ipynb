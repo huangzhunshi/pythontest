{
 "cells": [
  {
   "cell_type": "code",
   "execution_count": 2,
   "metadata": {
    "collapsed": true,
    "pycharm": {
     "is_executing": false
    }
   },
   "outputs": [
    {
     "output_type": "stream",
     "name": "stdout",
     "text": "xxxx\n"
    }
   ],
   "source": [
    "print('xxxx')"
   ]
  },
  {
   "cell_type": "markdown",
   "source": [
    "相关数据获取\n",
    "师德师风"
   ],
   "metadata": {
    "collapsed": false,
    "pycharm": {
     "name": "#%% md\n"
    }
   }
  },
  {
   "cell_type": "code",
   "execution_count": null,
   "metadata": {
    "collapsed": false,
    "pycharm": {
     "is_executing": false,
     "name": "#%%\n"
    }
   },
   "outputs": [],
   "source": [
    "print('haha1111222')\n",
    "print('ssssss')\n",
    "print('xxxxx')\n"
   ]
  },
  {
   "cell_type": "code",
   "execution_count": 12,
   "metadata": {},
   "outputs": [
    {
     "output_type": "stream",
     "name": "stdout",
     "text": "id       mobile  agent_id  ...  excellent pay_salary_date last_work_date\n0          0  18800000000         1  ...        NaN             NaT            NaT\n1          1  18857133137         1  ...        NaN             NaT            NaT\n2          2  18667127792         1  ...        NaN             NaT            NaT\n3          3  18069445953         1  ...        NaN             NaT            NaT\n4          4  17326068045         1  ...        NaN             NaT            NaT\n...      ...          ...       ...  ...        ...             ...            ...\n22330  23004  18008385333      1125  ...        NaN             NaT            NaT\n22331  23005  18716834222      1125  ...        NaN             NaT            NaT\n22332  23006  13594983551      2423  ...        NaN             NaT            NaT\n22333  23007  18778896273       333  ...        NaN             NaT            NaT\n22334  23008  14008790000         1  ...        NaN             NaT            NaT\n\n[22335 rows x 38 columns]\n"
    }
   ],
   "source": [
    "import pandas as pd\n",
    "import pymysql\n",
    "db = pymysql.connect('mysql-backup.dian.so','yihui','GMYAvsgzE9fRRC1r','oss_view') # 打开数据库连接\n",
    "user=pd.read_sql(\"select * from agent_employee\",con=db)\n",
    "print(user)\n",
    "db.close()"
   ]
  },
  {
   "cell_type": "code",
   "execution_count": 29,
   "metadata": {},
   "outputs": [],
   "source": [
    "userz=user[user.agent_id==1]"
   ]
  },
  {
   "cell_type": "code",
   "execution_count": 32,
   "metadata": {},
   "outputs": [
    {
     "output_type": "execute_result",
     "data": {
      "text/plain": "          id       mobile  agent_id  ...  excellent pay_salary_date last_work_date\n0          0  18800000000         1  ...        NaN             NaT            NaT\n1          1  18857133137         1  ...        NaN             NaT            NaT\n2          2  18667127792         1  ...        NaN             NaT            NaT\n3          3  18069445953         1  ...        NaN             NaT            NaT\n4          4  17326068045         1  ...        NaN             NaT            NaT\n...      ...          ...       ...  ...        ...             ...            ...\n22321  22995  14006270000         1  ...        NaN             NaT            NaT\n22322  22996  13456560949         1  ...        NaN             NaT            NaT\n22323  22997  15058822102         1  ...        NaN             NaT            NaT\n22324  22998  13999179598         1  ...        NaN             NaT            NaT\n22334  23008  14008790000         1  ...        NaN             NaT            NaT\n\n[16120 rows x 38 columns]",
      "text/html": "<div>\n<style scoped>\n    .dataframe tbody tr th:only-of-type {\n        vertical-align: middle;\n    }\n\n    .dataframe tbody tr th {\n        vertical-align: top;\n    }\n\n    .dataframe thead th {\n        text-align: right;\n    }\n</style>\n<table border=\"1\" class=\"dataframe\">\n  <thead>\n    <tr style=\"text-align: right;\">\n      <th></th>\n      <th>id</th>\n      <th>mobile</th>\n      <th>agent_id</th>\n      <th>department_id</th>\n      <th>name</th>\n      <th>nick_name</th>\n      <th>sex</th>\n      <th>id_card_no</th>\n      <th>email</th>\n      <th>employee_no</th>\n      <th>avatar_url</th>\n      <th>dingding_user_id</th>\n      <th>status</th>\n      <th>access_token</th>\n      <th>type</th>\n      <th>role</th>\n      <th>is_ka</th>\n      <th>tag</th>\n      <th>city_code</th>\n      <th>create_time</th>\n      <th>update_time</th>\n      <th>level_id</th>\n      <th>position_id</th>\n      <th>form_status</th>\n      <th>creator</th>\n      <th>updator</th>\n      <th>comment</th>\n      <th>enter_date</th>\n      <th>employee_type</th>\n      <th>real_status</th>\n      <th>beisen_id</th>\n      <th>work_place_code</th>\n      <th>city_type</th>\n      <th>leave_date</th>\n      <th>beisen_leave_date</th>\n      <th>excellent</th>\n      <th>pay_salary_date</th>\n      <th>last_work_date</th>\n    </tr>\n  </thead>\n  <tbody>\n    <tr>\n      <th>0</th>\n      <td>0</td>\n      <td>18800000000</td>\n      <td>1</td>\n      <td>370.0</td>\n      <td>系统用户</td>\n      <td>系统用户</td>\n      <td>1.0</td>\n      <td>11111</td>\n      <td>zabbix@dian.so</td>\n      <td>0</td>\n      <td>None</td>\n      <td>None</td>\n      <td>0</td>\n      <td>850064</td>\n      <td>1.0</td>\n      <td>0.0</td>\n      <td>0.0</td>\n      <td>NaN</td>\n      <td>330100</td>\n      <td>2018-04-19 23:22:32</td>\n      <td>2019-05-15 12:42:32</td>\n      <td>NaN</td>\n      <td>1.0</td>\n      <td>1</td>\n      <td>None</td>\n      <td>侃侃</td>\n      <td>None</td>\n      <td>NaT</td>\n      <td>0.0</td>\n      <td>0</td>\n      <td>0.0</td>\n      <td>NaN</td>\n      <td>NaN</td>\n      <td>NaT</td>\n      <td>NaT</td>\n      <td>NaN</td>\n      <td>NaT</td>\n      <td>NaT</td>\n    </tr>\n    <tr>\n      <th>1</th>\n      <td>1</td>\n      <td>18857133137</td>\n      <td>1</td>\n      <td>516.0</td>\n      <td>唐永波</td>\n      <td>谷鬼</td>\n      <td>1.0</td>\n      <td>420106198201130417</td>\n      <td>tangyongbo@dian.so</td>\n      <td>1</td>\n      <td>https://static-legacy.dingtalk.com/media/lADPD...</td>\n      <td>3044271152485</td>\n      <td>0</td>\n      <td>514374</td>\n      <td>1.0</td>\n      <td>5.0</td>\n      <td>0.0</td>\n      <td>NaN</td>\n      <td>330100</td>\n      <td>2017-03-09 21:54:41</td>\n      <td>2020-06-26 07:10:59</td>\n      <td>14.0</td>\n      <td>6.0</td>\n      <td>1</td>\n      <td>None</td>\n      <td>灰莉</td>\n      <td></td>\n      <td>2015-06-16</td>\n      <td>0.0</td>\n      <td>1</td>\n      <td>127659263.0</td>\n      <td>330100.0</td>\n      <td>NaN</td>\n      <td>NaT</td>\n      <td>NaT</td>\n      <td>NaN</td>\n      <td>NaT</td>\n      <td>NaT</td>\n    </tr>\n    <tr>\n      <th>2</th>\n      <td>2</td>\n      <td>18667127792</td>\n      <td>1</td>\n      <td>516.0</td>\n      <td>黄巧玲</td>\n      <td>小虎</td>\n      <td>1.0</td>\n      <td>331081198801072111</td>\n      <td>xiaohu@dian.so</td>\n      <td>2</td>\n      <td>https://static-legacy.dingtalk.com/media/lADPD...</td>\n      <td>284128764959</td>\n      <td>0</td>\n      <td>551891</td>\n      <td>1.0</td>\n      <td>0.0</td>\n      <td>0.0</td>\n      <td>NaN</td>\n      <td>330100</td>\n      <td>2017-03-09 21:54:41</td>\n      <td>2020-06-25 23:45:14</td>\n      <td>12.0</td>\n      <td>64.0</td>\n      <td>1</td>\n      <td>None</td>\n      <td>None</td>\n      <td></td>\n      <td>2015-06-18</td>\n      <td>0.0</td>\n      <td>1</td>\n      <td>127659258.0</td>\n      <td>330100.0</td>\n      <td>NaN</td>\n      <td>NaT</td>\n      <td>NaT</td>\n      <td>NaN</td>\n      <td>NaT</td>\n      <td>NaT</td>\n    </tr>\n    <tr>\n      <th>3</th>\n      <td>3</td>\n      <td>18069445953</td>\n      <td>1</td>\n      <td>516.0</td>\n      <td>袁新梅</td>\n      <td>书颖</td>\n      <td>2.0</td>\n      <td>420115198509146243</td>\n      <td>shuying@dian.so</td>\n      <td>3</td>\n      <td>https://static-legacy.dingtalk.com/media/lADPD...</td>\n      <td>01210660661232</td>\n      <td>0</td>\n      <td>331955</td>\n      <td>1.0</td>\n      <td>5.0</td>\n      <td>0.0</td>\n      <td>NaN</td>\n      <td>330100</td>\n      <td>2017-03-09 21:54:42</td>\n      <td>2020-06-30 10:45:14</td>\n      <td>12.0</td>\n      <td>103.0</td>\n      <td>1</td>\n      <td>None</td>\n      <td>昕雅</td>\n      <td>None</td>\n      <td>2015-07-16</td>\n      <td>0.0</td>\n      <td>1</td>\n      <td>127659260.0</td>\n      <td>330100.0</td>\n      <td>NaN</td>\n      <td>NaT</td>\n      <td>NaT</td>\n      <td>NaN</td>\n      <td>NaT</td>\n      <td>NaT</td>\n    </tr>\n    <tr>\n      <th>4</th>\n      <td>4</td>\n      <td>17326068045</td>\n      <td>1</td>\n      <td>516.0</td>\n      <td>李向东</td>\n      <td>智通</td>\n      <td>1.0</td>\n      <td>411325198003202415</td>\n      <td>zhitong@dian.so</td>\n      <td>4</td>\n      <td>https://static-legacy.dingtalk.com/media/lADPD...</td>\n      <td>336800850144</td>\n      <td>0</td>\n      <td>252735</td>\n      <td>1.0</td>\n      <td>0.0</td>\n      <td>0.0</td>\n      <td>NaN</td>\n      <td>330100</td>\n      <td>2017-03-09 21:54:42</td>\n      <td>2020-06-21 00:03:56</td>\n      <td>12.0</td>\n      <td>269.0</td>\n      <td>1</td>\n      <td>None</td>\n      <td>秋萍</td>\n      <td>None</td>\n      <td>2015-06-16</td>\n      <td>0.0</td>\n      <td>1</td>\n      <td>129003004.0</td>\n      <td>330100.0</td>\n      <td>NaN</td>\n      <td>NaT</td>\n      <td>NaT</td>\n      <td>NaN</td>\n      <td>NaT</td>\n      <td>NaT</td>\n    </tr>\n    <tr>\n      <th>...</th>\n      <td>...</td>\n      <td>...</td>\n      <td>...</td>\n      <td>...</td>\n      <td>...</td>\n      <td>...</td>\n      <td>...</td>\n      <td>...</td>\n      <td>...</td>\n      <td>...</td>\n      <td>...</td>\n      <td>...</td>\n      <td>...</td>\n      <td>...</td>\n      <td>...</td>\n      <td>...</td>\n      <td>...</td>\n      <td>...</td>\n      <td>...</td>\n      <td>...</td>\n      <td>...</td>\n      <td>...</td>\n      <td>...</td>\n      <td>...</td>\n      <td>...</td>\n      <td>...</td>\n      <td>...</td>\n      <td>...</td>\n      <td>...</td>\n      <td>...</td>\n      <td>...</td>\n      <td>...</td>\n      <td>...</td>\n      <td>...</td>\n      <td>...</td>\n      <td>...</td>\n      <td>...</td>\n      <td>...</td>\n    </tr>\n    <tr>\n      <th>22321</th>\n      <td>22995</td>\n      <td>14006270000</td>\n      <td>1</td>\n      <td>1624.0</td>\n      <td>桂林代理CM-圣徒</td>\n      <td>桂林代理CM--圣徒</td>\n      <td>NaN</td>\n      <td>None</td>\n      <td>None</td>\n      <td>None</td>\n      <td>None</td>\n      <td>010920022107-1926102095</td>\n      <td>0</td>\n      <td>651151</td>\n      <td>NaN</td>\n      <td>3.0</td>\n      <td>0.0</td>\n      <td>NaN</td>\n      <td>450300</td>\n      <td>2020-07-03 18:11:51</td>\n      <td>2020-07-03 18:11:51</td>\n      <td>NaN</td>\n      <td>7.0</td>\n      <td>1</td>\n      <td>昕雅</td>\n      <td>None</td>\n      <td>None</td>\n      <td>NaT</td>\n      <td>NaN</td>\n      <td>0</td>\n      <td>0.0</td>\n      <td>NaN</td>\n      <td>NaN</td>\n      <td>NaT</td>\n      <td>NaT</td>\n      <td>NaN</td>\n      <td>NaT</td>\n      <td>NaT</td>\n    </tr>\n    <tr>\n      <th>22322</th>\n      <td>22996</td>\n      <td>13456560949</td>\n      <td>1</td>\n      <td>1203.0</td>\n      <td>杨雪晴</td>\n      <td>盼巧</td>\n      <td>2.0</td>\n      <td>411625199711212041</td>\n      <td>panqiao@dian.so</td>\n      <td>14909</td>\n      <td>None</td>\n      <td>1037045665968299</td>\n      <td>0</td>\n      <td>225406</td>\n      <td>4.0</td>\n      <td>1.0</td>\n      <td>0.0</td>\n      <td>NaN</td>\n      <td>330600</td>\n      <td>2020-07-03 18:15:01</td>\n      <td>2020-07-04 09:58:29</td>\n      <td>2.0</td>\n      <td>3.0</td>\n      <td>1</td>\n      <td>None</td>\n      <td>None</td>\n      <td>None</td>\n      <td>2020-07-06</td>\n      <td>NaN</td>\n      <td>1</td>\n      <td>142294258.0</td>\n      <td>330600.0</td>\n      <td>1.0</td>\n      <td>NaT</td>\n      <td>NaT</td>\n      <td>NaN</td>\n      <td>NaT</td>\n      <td>NaT</td>\n    </tr>\n    <tr>\n      <th>22323</th>\n      <td>22997</td>\n      <td>15058822102</td>\n      <td>1</td>\n      <td>1203.0</td>\n      <td>张志宇</td>\n      <td>九幽</td>\n      <td>1.0</td>\n      <td>362330199412053774</td>\n      <td>jiuyou@dian.so</td>\n      <td>14908</td>\n      <td>None</td>\n      <td>1823021801646080</td>\n      <td>0</td>\n      <td>238648</td>\n      <td>4.0</td>\n      <td>1.0</td>\n      <td>0.0</td>\n      <td>NaN</td>\n      <td>330600</td>\n      <td>2020-07-03 18:15:05</td>\n      <td>2020-07-03 18:38:53</td>\n      <td>2.0</td>\n      <td>3.0</td>\n      <td>1</td>\n      <td>None</td>\n      <td>None</td>\n      <td>None</td>\n      <td>2020-07-06</td>\n      <td>NaN</td>\n      <td>1</td>\n      <td>142294534.0</td>\n      <td>330600.0</td>\n      <td>1.0</td>\n      <td>NaT</td>\n      <td>NaT</td>\n      <td>NaN</td>\n      <td>NaT</td>\n      <td>NaT</td>\n    </tr>\n    <tr>\n      <th>22324</th>\n      <td>22998</td>\n      <td>13999179598</td>\n      <td>1</td>\n      <td>2778.0</td>\n      <td>李旭</td>\n      <td>魁麟</td>\n      <td>1.0</td>\n      <td>622628199410220055</td>\n      <td>kuilin@dian.so</td>\n      <td>14910</td>\n      <td>None</td>\n      <td>0109102968001272702</td>\n      <td>0</td>\n      <td>471365</td>\n      <td>4.0</td>\n      <td>1.0</td>\n      <td>0.0</td>\n      <td>NaN</td>\n      <td>650100</td>\n      <td>2020-07-03 19:15:04</td>\n      <td>2020-07-03 19:30:30</td>\n      <td>2.0</td>\n      <td>3.0</td>\n      <td>1</td>\n      <td>None</td>\n      <td>沫冰</td>\n      <td>None</td>\n      <td>2020-07-03</td>\n      <td>NaN</td>\n      <td>1</td>\n      <td>142333115.0</td>\n      <td>650100.0</td>\n      <td>1.0</td>\n      <td>NaT</td>\n      <td>NaT</td>\n      <td>NaN</td>\n      <td>NaT</td>\n      <td>NaT</td>\n    </tr>\n    <tr>\n      <th>22334</th>\n      <td>23008</td>\n      <td>14008790000</td>\n      <td>1</td>\n      <td>1855.0</td>\n      <td>三亚虚拟BDM1-竣霆</td>\n      <td>三亚虚拟BDM1-竣霆</td>\n      <td>NaN</td>\n      <td>None</td>\n      <td>None</td>\n      <td>None</td>\n      <td>None</td>\n      <td>010925223366-43261836</td>\n      <td>0</td>\n      <td>914182</td>\n      <td>NaN</td>\n      <td>2.0</td>\n      <td>0.0</td>\n      <td>NaN</td>\n      <td>460200</td>\n      <td>2020-07-05 15:55:45</td>\n      <td>2020-07-05 15:55:45</td>\n      <td>NaN</td>\n      <td>4.0</td>\n      <td>1</td>\n      <td>昕雅</td>\n      <td>None</td>\n      <td>None</td>\n      <td>NaT</td>\n      <td>NaN</td>\n      <td>0</td>\n      <td>0.0</td>\n      <td>NaN</td>\n      <td>NaN</td>\n      <td>NaT</td>\n      <td>NaT</td>\n      <td>NaN</td>\n      <td>NaT</td>\n      <td>NaT</td>\n    </tr>\n  </tbody>\n</table>\n<p>16120 rows × 38 columns</p>\n</div>"
     },
     "metadata": {},
     "execution_count": 32
    }
   ],
   "source": []
  },
  {
   "cell_type": "code",
   "execution_count": null,
   "metadata": {},
   "outputs": [],
   "source": [
    "usersex=userz.groupby(\"sex\").count()\n",
    "usersex"
   ]
  },
  {
   "cell_type": "raw",
   "source": [],
   "metadata": {
    "collapsed": false
   }
  },
  {
   "cell_type": "code",
   "execution_count": 68,
   "metadata": {},
   "outputs": [
    {
     "output_type": "display_data",
     "data": {
      "text/plain": "<Figure size 432x288 with 1 Axes>",
      "image/svg+xml": "<?xml version=\"1.0\" encoding=\"utf-8\" standalone=\"no\"?>\n<!DOCTYPE svg PUBLIC \"-//W3C//DTD SVG 1.1//EN\"\n  \"http://www.w3.org/Graphics/SVG/1.1/DTD/svg11.dtd\">\n<!-- Created with matplotlib (https://matplotlib.org/) -->\n<svg height=\"254.523186pt\" version=\"1.1\" viewBox=\"0 0 265.363923 254.523186\" width=\"265.363923pt\" xmlns=\"http://www.w3.org/2000/svg\" xmlns:xlink=\"http://www.w3.org/1999/xlink\">\n <defs>\n  <style type=\"text/css\">\n*{stroke-linecap:butt;stroke-linejoin:round;}\n  </style>\n </defs>\n <g id=\"figure_1\">\n  <g id=\"patch_1\">\n   <path d=\"M 0 254.523186 \nL 265.363923 254.523186 \nL 265.363923 0 \nL 0 0 \nz\n\" style=\"fill:#ffffff;\"/>\n  </g>\n  <g id=\"axes_1\">\n   <g id=\"matplotlib.axis_1\"/>\n   <g id=\"matplotlib.axis_2\"/>\n   <g id=\"patch_2\">\n    <path d=\"M 255.18419 135.072883 \nC 256.424403 123.27305 255.799606 111.351204 253.332769 99.745649 \nC 250.865932 88.140094 246.587661 76.994818 240.655246 66.719574 \nL 142.734793 123.253974 \nL 255.18419 135.072883 \nz\n\" style=\"fill:#4c0000;opacity:0.5;stroke:#4c0000;stroke-linejoin:miter;\"/>\n   </g>\n   <g id=\"patch_3\">\n    <path d=\"M 226.761285 198.91177 \nC 234.700406 190.094483 241.20242 180.082261 246.028281 169.2432 \nC 250.854142 158.404138 253.943978 146.872716 255.18419 135.072883 \nL 142.734793 123.253974 \nL 226.761285 198.91177 \nz\n\" style=\"fill:#002600;opacity:0.5;stroke:#002600;stroke-linejoin:miter;\"/>\n   </g>\n   <g id=\"patch_4\">\n    <path d=\"M 98.553898 235.054998 \nC 120.363951 244.76546 144.699077 247.323186 168.051448 242.359487 \nC 191.403818 237.395788 212.594742 225.161203 228.569618 207.419307 \nL 144.543126 131.761511 \nL 98.553898 235.054998 \nz\n\" style=\"fill:#393900;opacity:0.5;stroke:#393900;stroke-linejoin:miter;\"/>\n   </g>\n   <g id=\"patch_5\">\n    <path d=\"M 240.655257 66.719592 \nC 231.733978 51.267477 219.280523 38.144269 204.316491 28.42651 \nC 189.35246 18.70875 172.298538 12.669637 154.553718 10.804578 \nC 136.808898 8.93952 118.872042 11.300949 102.214573 17.69515 \nC 85.557104 24.089351 70.647315 34.336562 58.708308 47.59617 \nC 46.769301 60.855778 38.136719 76.755012 33.518722 93.989605 \nC 28.900725 111.224198 28.42714 129.30963 32.136816 146.762291 \nC 35.846492 164.214952 43.635139 180.544193 54.863828 194.41047 \nC 66.092516 208.276748 80.445572 219.290236 96.745565 226.547461 \nL 142.734793 123.253974 \nL 240.655257 66.719592 \nz\n\" style=\"fill:#00004c;opacity:0.5;stroke:#00004c;stroke-linejoin:miter;\"/>\n   </g>\n   <g id=\"patch_6\">\n    <path d=\"M 256.92371 133.333363 \nC 258.163923 121.53353 257.539126 109.611684 255.072289 98.006129 \nC 252.605452 86.400574 248.327181 75.255298 242.394766 64.980054 \nL 144.474313 121.514454 \nL 256.92371 133.333363 \nz\n\" style=\"fill:#ff0000;stroke:#ffffff;stroke-linejoin:miter;\"/>\n   </g>\n   <g id=\"patch_7\">\n    <path d=\"M 228.500805 197.17225 \nC 236.439926 188.354963 242.94194 178.342741 247.767801 167.50368 \nC 252.593662 156.664618 255.683498 145.133196 256.92371 133.333363 \nL 144.474313 121.514454 \nL 228.500805 197.17225 \nz\n\" style=\"fill:#008000;stroke:#ffffff;stroke-linejoin:miter;\"/>\n   </g>\n   <g id=\"patch_8\">\n    <path d=\"M 100.293418 233.315478 \nC 122.103471 243.02594 146.438597 245.583666 169.790968 240.619967 \nC 193.143338 235.656268 214.334262 223.421683 230.309138 205.679787 \nL 146.282646 130.021991 \nL 100.293418 233.315478 \nz\n\" style=\"fill:#bfbf00;stroke:#ffffff;stroke-linejoin:miter;\"/>\n   </g>\n   <g id=\"patch_9\">\n    <path d=\"M 242.394777 64.980072 \nC 233.473498 49.527957 221.020043 36.404749 206.056011 26.68699 \nC 191.09198 16.96923 174.038058 10.930117 156.293238 9.065058 \nC 138.548418 7.2 120.611562 9.561429 103.954093 15.95563 \nC 87.296624 22.349831 72.386835 32.597042 60.447828 45.85665 \nC 48.508821 59.116258 39.876239 75.015492 35.258242 92.250085 \nC 30.640245 109.484678 30.16666 127.57011 33.876336 145.022771 \nC 37.586012 162.475432 45.374659 178.804673 56.603348 192.67095 \nC 67.832036 206.537228 82.185092 217.550716 98.485085 224.807941 \nL 144.474313 121.514454 \nL 242.394777 64.980072 \nz\n\" style=\"fill:#0000ff;stroke:#ffffff;stroke-linejoin:miter;\"/>\n   </g>\n   <g id=\"text_1\">\n    <!-- A -->\n    <defs>\n     <path d=\"M 66.796875 0 \nL 56.109375 0 \nL 47.703125 21.78125 \nL 17.828125 21.78125 \nL 9.90625 0 \nL -0.09375 0 \nL 27.390625 71.578125 \nL 37.59375 71.578125 \nz\nM 44.828125 29.296875 \nQ 36.03125 52.546875 34.90625 55.6875 \nQ 33.796875 58.84375 32.421875 64.109375 \nL 32.171875 64.109375 \nQ 30.8125 56.890625 28.515625 50.734375 \nL 20.515625 29.296875 \nz\n\" id=\"ArialUnicodeMS-65\"/>\n    </defs>\n    <g transform=\"translate(232.952694 107.873419)scale(0.2 -0.2)\">\n     <use xlink:href=\"#ArialUnicodeMS-65\"/>\n    </g>\n   </g>\n   <g id=\"text_2\">\n    <!-- 10.00% -->\n    <defs>\n     <path d=\"M 37.5 0 \nL 28.71875 0 \nL 28.71875 56 \nQ 22.125 49.75 11.078125 45.40625 \nL 11.078125 53.90625 \nQ 26.265625 61.1875 31.78125 71.921875 \nL 37.5 71.921875 \nz\n\" id=\"ArialUnicodeMS-49\"/>\n     <path d=\"M 27.78125 71.921875 \nQ 51.125 71.921875 51.125 35.296875 \nQ 51.125 16.796875 45.09375 7.78125 \nQ 39.0625 -1.21875 27.78125 -1.21875 \nQ 4.5 -1.21875 4.5 35.296875 \nQ 4.5 53.8125 10.515625 62.859375 \nQ 16.546875 71.921875 27.78125 71.921875 \nz\nM 27.78125 6 \nQ 34.859375 6 38.46875 12.859375 \nQ 42.09375 19.734375 42.09375 35.296875 \nQ 42.09375 46.140625 40.5 52.359375 \nQ 38.921875 58.59375 35.71875 61.640625 \nQ 32.515625 64.703125 27.6875 64.703125 \nQ 20.609375 64.703125 17.046875 57.71875 \nQ 13.484375 50.734375 13.484375 35.296875 \nQ 13.484375 24.609375 15.09375 18.359375 \nQ 16.703125 12.109375 19.875 9.046875 \nQ 23.046875 6 27.78125 6 \nz\n\" id=\"ArialUnicodeMS-48\"/>\n     <path d=\"M 18.890625 0 \nL 8.890625 0 \nL 8.890625 10.015625 \nL 18.890625 10.015625 \nz\n\" id=\"ArialUnicodeMS-46\"/>\n     <path d=\"M 67.578125 72.796875 \nL 28.71875 -2.484375 \nL 21.390625 -2.484375 \nL 60.5 72.796875 \nz\nM 22.3125 72.703125 \nQ 29 72.703125 33.390625 67.859375 \nQ 37.796875 63.03125 37.796875 53.71875 \nQ 37.796875 44.53125 33.296875 39.671875 \nQ 28.8125 34.8125 22.40625 34.8125 \nQ 15.765625 34.8125 11.546875 39.6875 \nQ 7.328125 44.578125 7.328125 54.296875 \nQ 7.328125 62.25 11.28125 67.46875 \nQ 15.234375 72.703125 22.3125 72.703125 \nz\nM 22.515625 40.921875 \nQ 30.171875 40.921875 30.171875 54.109375 \nQ 30.171875 66.703125 22.515625 66.703125 \nQ 14.890625 66.703125 14.890625 53.421875 \nQ 14.890625 40.921875 22.515625 40.921875 \nz\nM 66.40625 35.203125 \nQ 73.140625 35.203125 77.515625 30.359375 \nQ 81.890625 25.53125 81.890625 16.21875 \nQ 81.890625 9.375 79.484375 5.125 \nQ 77.09375 0.875 73.578125 -0.90625 \nQ 70.0625 -2.6875 66.5 -2.6875 \nQ 59.859375 -2.6875 55.640625 2.1875 \nQ 51.421875 7.078125 51.421875 16.796875 \nQ 51.421875 24.75 55.375 29.96875 \nQ 59.328125 35.203125 66.40625 35.203125 \nz\nM 66.609375 3.421875 \nQ 74.3125 3.421875 74.3125 16.609375 \nQ 74.3125 29.203125 66.609375 29.203125 \nQ 58.984375 29.203125 58.984375 15.921875 \nQ 58.984375 3.421875 66.609375 3.421875 \nz\n\" id=\"ArialUnicodeMS-37\"/>\n    </defs>\n    <g transform=\"translate(154.799441 117.276749)scale(0.2 -0.2)\">\n     <use xlink:href=\"#ArialUnicodeMS-49\"/>\n     <use x=\"55.615234\" xlink:href=\"#ArialUnicodeMS-48\"/>\n     <use x=\"111.230469\" xlink:href=\"#ArialUnicodeMS-46\"/>\n     <use x=\"139.013672\" xlink:href=\"#ArialUnicodeMS-48\"/>\n     <use x=\"194.628906\" xlink:href=\"#ArialUnicodeMS-48\"/>\n     <use x=\"250.244141\" xlink:href=\"#ArialUnicodeMS-37\"/>\n    </g>\n   </g>\n   <g id=\"text_3\">\n    <!-- B -->\n    <defs>\n     <path d=\"M 48.09375 38.09375 \nQ 54.828125 36.03125 58.171875 31.421875 \nQ 61.53125 26.8125 61.53125 20.796875 \nQ 61.53125 14.796875 58.5 9.765625 \nQ 55.46875 4.734375 49.90625 2.359375 \nQ 44.34375 0 34.8125 0 \nL 7.421875 0 \nL 7.421875 71.578125 \nL 34.28125 71.578125 \nQ 47.3125 71.578125 52.65625 65.90625 \nQ 58.015625 60.25 58.015625 53.328125 \nQ 58.015625 48.640625 55.546875 44.65625 \nQ 53.078125 40.671875 48.09375 38.09375 \nz\nM 16.890625 41.609375 \nL 32.421875 41.609375 \nQ 37.203125 41.609375 40.453125 42.140625 \nQ 43.703125 42.671875 46.1875 44.96875 \nQ 48.6875 47.265625 48.6875 52.09375 \nQ 48.6875 57.171875 46.171875 59.59375 \nQ 43.65625 62.015625 40.15625 62.546875 \nQ 36.671875 63.09375 31.203125 63.09375 \nL 16.890625 63.09375 \nz\nM 16.890625 8.5 \nL 34.71875 8.5 \nQ 44.28125 8.5 47.984375 11.765625 \nQ 51.703125 15.046875 51.703125 20.796875 \nQ 51.703125 26.609375 47.75 29.859375 \nQ 43.796875 33.109375 33.5 33.109375 \nL 16.890625 33.109375 \nz\n\" id=\"ArialUnicodeMS-66\"/>\n    </defs>\n    <g transform=\"translate(227.109104 163.471459)scale(0.2 -0.2)\">\n     <use xlink:href=\"#ArialUnicodeMS-66\"/>\n    </g>\n   </g>\n   <g id=\"text_4\">\n    <!-- 10.00% -->\n    <g transform=\"translate(151.877646 145.075769)scale(0.2 -0.2)\">\n     <use xlink:href=\"#ArialUnicodeMS-49\"/>\n     <use x=\"55.615234\" xlink:href=\"#ArialUnicodeMS-48\"/>\n     <use x=\"111.230469\" xlink:href=\"#ArialUnicodeMS-46\"/>\n     <use x=\"139.013672\" xlink:href=\"#ArialUnicodeMS-48\"/>\n     <use x=\"194.628906\" xlink:href=\"#ArialUnicodeMS-48\"/>\n     <use x=\"250.244141\" xlink:href=\"#ArialUnicodeMS-37\"/>\n    </g>\n   </g>\n   <g id=\"text_5\">\n    <!-- C -->\n    <defs>\n     <path d=\"M 68.3125 22.703125 \nQ 65.1875 10.640625 57.390625 4.703125 \nQ 49.609375 -1.21875 38.71875 -1.21875 \nQ 21.140625 -1.21875 13.109375 9.78125 \nQ 5.078125 20.796875 5.078125 36.28125 \nQ 5.078125 53.421875 14.515625 63.109375 \nQ 23.96875 72.796875 38.8125 72.796875 \nQ 49.265625 72.796875 56.6875 67.46875 \nQ 64.109375 62.15625 67.09375 51.90625 \nL 57.8125 49.703125 \nQ 55.46875 57.171875 50.6875 60.9375 \nQ 45.90625 64.703125 38.71875 64.703125 \nQ 27 64.703125 20.9375 57 \nQ 14.890625 49.3125 14.890625 36.375 \nQ 14.890625 21.4375 21.265625 14.15625 \nQ 27.640625 6.890625 37.890625 6.890625 \nQ 46.296875 6.890625 51.53125 11.421875 \nQ 56.78125 15.96875 58.890625 25.09375 \nz\n\" id=\"ArialUnicodeMS-67\"/>\n    </defs>\n    <g transform=\"translate(165.089303 223.665996)scale(0.2 -0.2)\">\n     <use xlink:href=\"#ArialUnicodeMS-67\"/>\n    </g>\n   </g>\n   <g id=\"text_6\">\n    <!-- 20.00% -->\n    <defs>\n     <path d=\"M 50.484375 0 \nL 3.078125 0 \nQ 3.078125 6.0625 7.296875 12.25 \nQ 11.53125 18.453125 23.09375 27.78125 \nQ 30.171875 33.453125 35.734375 39.671875 \nQ 41.3125 45.90625 41.3125 52.203125 \nQ 41.3125 57.625 37.46875 61.15625 \nQ 33.640625 64.703125 27.78125 64.703125 \nQ 21.875 64.703125 17.875 61.0625 \nQ 13.875 57.421875 13.8125 50.203125 \nL 4.78125 51.21875 \nQ 5.609375 61.28125 11.9375 66.59375 \nQ 18.265625 71.921875 27.984375 71.921875 \nQ 38.53125 71.921875 44.40625 66.078125 \nQ 50.296875 60.25 50.296875 52 \nQ 50.296875 45.125 45.328125 38.0625 \nQ 40.375 31 25.59375 19.1875 \nQ 17.828125 12.984375 15.28125 8.5 \nL 50.484375 8.5 \nz\n\" id=\"ArialUnicodeMS-50\"/>\n    </defs>\n    <g transform=\"translate(121.771912 179.426806)scale(0.2 -0.2)\">\n     <use xlink:href=\"#ArialUnicodeMS-50\"/>\n     <use x=\"55.615234\" xlink:href=\"#ArialUnicodeMS-48\"/>\n     <use x=\"111.230469\" xlink:href=\"#ArialUnicodeMS-46\"/>\n     <use x=\"139.013672\" xlink:href=\"#ArialUnicodeMS-48\"/>\n     <use x=\"194.628906\" xlink:href=\"#ArialUnicodeMS-48\"/>\n     <use x=\"250.244141\" xlink:href=\"#ArialUnicodeMS-37\"/>\n    </g>\n   </g>\n   <g id=\"text_7\">\n    <!-- Change -->\n    <defs>\n     <path d=\"M 49.03125 0 \nL 40.1875 0 \nL 40.1875 32.71875 \nQ 40.1875 39.0625 37.453125 42.234375 \nQ 34.71875 45.40625 29.296875 45.40625 \nQ 23.921875 45.40625 19.703125 41.671875 \nQ 15.484375 37.9375 15.484375 28.328125 \nL 15.484375 0 \nL 6.6875 0 \nL 6.6875 71.578125 \nL 15.484375 71.578125 \nL 15.484375 45.90625 \nQ 21.734375 52.984375 31.109375 52.984375 \nQ 36.140625 52.984375 40.71875 50.921875 \nQ 45.3125 48.875 47.171875 44.625 \nQ 49.03125 40.375 49.03125 32.8125 \nz\n\" id=\"ArialUnicodeMS-104\"/>\n     <path d=\"M 51.609375 0 \nL 42.390625 0 \nQ 41.109375 2.4375 40.578125 6.390625 \nQ 31.734375 -1.21875 21.484375 -1.21875 \nQ 13.28125 -1.21875 8.546875 2.875 \nQ 3.8125 6.984375 3.8125 13.71875 \nQ 3.8125 20.171875 8.375 24.34375 \nQ 12.9375 28.515625 24.21875 29.890625 \nL 32.421875 31.109375 \nQ 37.015625 31.84375 39.984375 32.90625 \nQ 39.984375 36.859375 39.734375 38.5 \nQ 39.5 40.140625 38.296875 41.890625 \nQ 37.109375 43.65625 34.46875 44.71875 \nQ 31.84375 45.796875 27.390625 45.796875 \nQ 21.734375 45.796875 18.4375 43.703125 \nQ 15.140625 41.609375 13.921875 35.890625 \nL 5.328125 37.015625 \nQ 6.734375 44.96875 12.59375 48.96875 \nQ 18.453125 52.984375 28.71875 52.984375 \nQ 38.03125 52.984375 42.40625 50.21875 \nQ 46.78125 47.46875 47.78125 43.5625 \nQ 48.78125 39.65625 48.78125 33.5 \nL 48.78125 21.6875 \nQ 48.78125 10.890625 49.1875 7.203125 \nQ 49.609375 3.515625 51.609375 0 \nz\nM 39.984375 22.796875 \nL 39.984375 25.984375 \nQ 33.109375 23.6875 23.140625 22.34375 \nQ 13.1875 21 13.1875 13.921875 \nQ 13.1875 10.359375 15.875 8.03125 \nQ 18.5625 5.71875 23.578125 5.71875 \nQ 30.078125 5.71875 35.03125 9.59375 \nQ 39.984375 13.484375 39.984375 22.796875 \nz\n\" id=\"ArialUnicodeMS-97\"/>\n     <path d=\"M 49.03125 0 \nL 40.1875 0 \nL 40.1875 31.5 \nQ 40.1875 39.453125 37.328125 42.421875 \nQ 34.46875 45.40625 29.390625 45.40625 \nQ 25.484375 45.40625 21.984375 43.5 \nQ 18.5 41.609375 17.03125 38.140625 \nQ 15.578125 34.671875 15.578125 28.328125 \nL 15.578125 0 \nL 6.78125 0 \nL 6.78125 51.8125 \nL 14.703125 51.8125 \nL 14.703125 44.484375 \nL 14.890625 44.484375 \nQ 17.671875 48.734375 21.75 50.859375 \nQ 25.828125 52.984375 31.203125 52.984375 \nQ 35.296875 52.984375 39.296875 51.515625 \nQ 43.3125 50.046875 45.578125 47.109375 \nQ 47.859375 44.1875 48.4375 40.859375 \nQ 49.03125 37.546875 49.03125 31.890625 \nz\n\" id=\"ArialUnicodeMS-110\"/>\n     <path d=\"M 49.125 6.984375 \nQ 49.125 -4.046875 46.921875 -9.484375 \nQ 44.734375 -14.9375 39.109375 -17.96875 \nQ 33.5 -21 25.6875 -21 \nQ 16.890625 -21 11.03125 -17.09375 \nQ 5.171875 -13.1875 5.171875 -4.296875 \nL 13.71875 -5.609375 \nQ 14.203125 -9.71875 17.15625 -11.765625 \nQ 20.125 -13.8125 25.59375 -13.8125 \nQ 32.421875 -13.8125 35.59375 -11.03125 \nQ 38.765625 -8.25 39.46875 -4.25 \nQ 40.1875 -0.25 40.1875 6.78125 \nQ 34.46875 0 25.78125 0 \nQ 15.671875 0 9.546875 7.46875 \nQ 3.421875 14.9375 3.421875 26.3125 \nQ 3.421875 37.75 9.375 45.359375 \nQ 15.328125 52.984375 25.875 52.984375 \nQ 35.0625 52.984375 40.828125 45.609375 \nL 41.015625 45.609375 \nL 41.015625 51.8125 \nL 49.125 51.8125 \nz\nM 26.609375 7.171875 \nQ 32.234375 7.171875 36.578125 11.640625 \nQ 40.921875 16.109375 40.921875 26.609375 \nQ 40.921875 35.890625 36.765625 40.84375 \nQ 32.625 45.796875 26.515625 45.796875 \nQ 20.265625 45.796875 16.328125 40.71875 \nQ 12.40625 35.640625 12.40625 26.8125 \nQ 12.40625 16.609375 16.53125 11.890625 \nQ 20.65625 7.171875 26.609375 7.171875 \nz\n\" id=\"ArialUnicodeMS-103\"/>\n     <path d=\"M 51.703125 23.6875 \nL 12.890625 23.6875 \nQ 13.421875 15.09375 17.796875 10.546875 \nQ 22.171875 6 28.71875 6 \nQ 33.734375 6 37.15625 8.65625 \nQ 40.578125 11.328125 42.390625 16.703125 \nL 51.421875 15.578125 \nQ 49.21875 7.46875 43.359375 3.125 \nQ 37.5 -1.21875 28.71875 -1.21875 \nQ 17.046875 -1.21875 10.46875 5.9375 \nQ 3.90625 13.09375 3.90625 25.484375 \nQ 3.90625 37.75 10.28125 45.359375 \nQ 16.65625 52.984375 28.21875 52.984375 \nQ 33.890625 52.984375 39.140625 50.484375 \nQ 44.390625 48 48.046875 42.015625 \nQ 51.703125 36.03125 51.703125 23.6875 \nz\nM 42.671875 30.90625 \nQ 42.140625 38.8125 37.765625 42.296875 \nQ 33.40625 45.796875 28.21875 45.796875 \nQ 22.015625 45.796875 18.015625 41.640625 \nQ 14.015625 37.5 13.375 30.90625 \nz\n\" id=\"ArialUnicodeMS-101\"/>\n    </defs>\n    <g transform=\"translate(7.2 66.167898)scale(0.2 -0.2)\">\n     <use xlink:href=\"#ArialUnicodeMS-67\"/>\n     <use x=\"72.216797\" xlink:href=\"#ArialUnicodeMS-104\"/>\n     <use x=\"127.832031\" xlink:href=\"#ArialUnicodeMS-97\"/>\n     <use x=\"183.447266\" xlink:href=\"#ArialUnicodeMS-110\"/>\n     <use x=\"239.0625\" xlink:href=\"#ArialUnicodeMS-103\"/>\n     <use x=\"294.677734\" xlink:href=\"#ArialUnicodeMS-101\"/>\n    </g>\n   </g>\n   <g id=\"text_8\">\n    <!-- 60.00% -->\n    <defs>\n     <path d=\"M 13.09375 36.921875 \nQ 19.140625 46.390625 30.328125 46.390625 \nQ 39.109375 46.390625 45.265625 39.890625 \nQ 51.421875 33.40625 51.421875 23.296875 \nQ 51.421875 13.09375 45.28125 5.9375 \nQ 39.15625 -1.21875 29 -1.21875 \nQ 18.703125 -1.21875 11.453125 6.390625 \nQ 4.203125 14.015625 4.203125 33.5 \nQ 4.203125 52.640625 10.765625 62.28125 \nQ 17.328125 71.921875 29.78125 71.921875 \nQ 37.84375 71.921875 43.40625 67.421875 \nQ 48.96875 62.9375 50.203125 54.109375 \nL 41.40625 53.328125 \nQ 39.015625 64.703125 29.296875 64.703125 \nQ 22.5625 64.703125 17.71875 58 \nQ 12.890625 51.3125 12.890625 36.921875 \nz\nM 28.8125 6 \nQ 34.859375 6 38.625 10.875 \nQ 42.390625 15.765625 42.390625 22.703125 \nQ 42.390625 29.640625 38.625 34.171875 \nQ 34.859375 38.71875 28.515625 38.71875 \nQ 22.703125 38.71875 18.5 34.4375 \nQ 14.3125 30.171875 14.3125 23.1875 \nQ 14.3125 16.0625 18.4375 11.03125 \nQ 22.5625 6 28.8125 6 \nz\n\" id=\"ArialUnicodeMS-54\"/>\n    </defs>\n    <g transform=\"translate(76.949657 96.416957)scale(0.2 -0.2)\">\n     <use xlink:href=\"#ArialUnicodeMS-54\"/>\n     <use x=\"55.615234\" xlink:href=\"#ArialUnicodeMS-48\"/>\n     <use x=\"111.230469\" xlink:href=\"#ArialUnicodeMS-46\"/>\n     <use x=\"139.013672\" xlink:href=\"#ArialUnicodeMS-48\"/>\n     <use x=\"194.628906\" xlink:href=\"#ArialUnicodeMS-48\"/>\n     <use x=\"250.244141\" xlink:href=\"#ArialUnicodeMS-37\"/>\n    </g>\n   </g>\n  </g>\n </g>\n</svg>\n",
      "image/png": "[encoded data removed]"
     },
     "metadata": {}
    }
   ],
   "source": [
    "import matplotlib.pyplot as plt\n",
    "import seaborn as sns\n",
    "\n",
    "plt.rcParams['font.family'] = ['Arial Unicode MS'] #用来正常显示中文标签\n",
    "plt.rcParams['axes.unicode_minus'] = False #用来正常显示负号\n",
    " \n",
    "sns.set_style('whitegrid',{'font.sans-serif':['Arial Unicode MS','Arial']})\n",
    "\n",
    "labels = 'A','B','C','Change'\n",
    " # sizes = [10,10,10,70]\n",
    "sizes = [10,10,20,60]\n",
    "explode = (0,0,0.1,0)\n",
    "colors = ['r','g','y','b']\n",
    " \n",
    "plt.pie(sizes,explode=explode,labels=labels,colors=colors,autopct='%1.2f%%',\n",
    "         pctdistance=0.4,shadow=True,labeldistance=0.8,startangle=30,radius=1.3,\n",
    "         counterclock=False,textprops={'fontsize':20,'color':'black'})\n",
    "plt.show()  # 可视化呈现"
   ]
  },
  {
   "cell_type": "code",
   "execution_count": 62,
   "metadata": {},
   "outputs": [
    {
     "output_type": "display_data",
     "data": {
      "text/plain": "<Figure size 432x288 with 1 Axes>",
      "image/svg+xml": "<?xml version=\"1.0\" encoding=\"utf-8\" standalone=\"no\"?>\n<!DOCTYPE svg PUBLIC \"-//W3C//DTD SVG 1.1//EN\"\n  \"http://www.w3.org/Graphics/SVG/1.1/DTD/svg11.dtd\">\n<!-- Created with matplotlib (https://matplotlib.org/) -->\n<svg height=\"255.01057pt\" version=\"1.1\" viewBox=\"0 0 278.925554 255.01057\" width=\"278.925554pt\" xmlns=\"http://www.w3.org/2000/svg\" xmlns:xlink=\"http://www.w3.org/1999/xlink\">\n <defs>\n  <style type=\"text/css\">\n*{stroke-linecap:butt;stroke-linejoin:round;}\n  </style>\n </defs>\n <g id=\"figure_1\">\n  <g id=\"patch_1\">\n   <path d=\"M 0 255.01057 \nL 278.925554 255.01057 \nL 278.925554 0 \nL 0 0 \nz\n\" style=\"fill:#ffffff;\"/>\n  </g>\n  <g id=\"axes_1\">\n   <g id=\"matplotlib.axis_1\"/>\n   <g id=\"matplotlib.axis_2\"/>\n   <g id=\"patch_2\">\n    <path d=\"M 233.957051 144.067804 \nC 235.197263 132.267971 234.572466 120.346125 232.105629 108.74057 \nC 229.638792 97.135015 225.360522 85.989739 219.428107 75.714495 \nL 121.507654 132.248895 \nL 233.957051 144.067804 \nz\n\" style=\"fill:#092436;opacity:0.5;stroke:#092436;stroke-linejoin:miter;\"/>\n   </g>\n   <g id=\"patch_3\">\n    <path d=\"M 205.534146 207.906691 \nC 213.473267 199.089404 219.97528 189.077182 224.801142 178.238121 \nC 229.627003 167.399059 232.716838 155.867637 233.957051 144.067804 \nL 121.507654 132.248895 \nL 205.534146 207.906691 \nz\n\" style=\"fill:#4c2604;opacity:0.5;stroke:#4c2604;stroke-linejoin:miter;\"/>\n   </g>\n   <g id=\"patch_4\">\n    <path d=\"M 75.518426 235.542382 \nC 97.328479 245.252844 121.663605 247.81057 145.015976 242.846871 \nC 168.368346 237.883172 189.55927 225.648587 205.534146 207.906691 \nL 121.507654 132.248895 \nL 75.518426 235.542382 \nz\n\" style=\"fill:#0d300d;opacity:0.5;stroke:#0d300d;stroke-linejoin:miter;\"/>\n   </g>\n   <g id=\"patch_5\">\n    <path d=\"M 219.428117 75.714513 \nC 210.506838 60.262398 198.053383 47.13919 183.089352 37.421431 \nC 168.12532 27.703671 151.071399 21.664558 133.326578 19.799499 \nC 115.581758 17.934441 97.644903 20.29587 80.987433 26.690071 \nC 64.329964 33.084272 49.420176 43.331483 37.481168 56.591091 \nC 25.542161 69.850699 16.909579 85.749933 12.291582 102.984526 \nC 7.673585 120.219119 7.2 138.304551 10.909676 155.757212 \nC 14.619353 173.209874 22.408 189.539114 33.636688 203.405391 \nC 44.865377 217.271669 59.218433 228.285157 75.518426 235.542382 \nL 121.507654 132.248895 \nL 219.428117 75.714513 \nz\n\" style=\"fill:#400c0c;opacity:0.5;stroke:#400c0c;stroke-linejoin:miter;\"/>\n   </g>\n   <g id=\"patch_6\">\n    <path d=\"M 235.696571 142.328284 \nC 236.936783 130.528451 236.311986 118.606605 233.845149 107.00105 \nC 231.378312 95.395495 227.100042 84.250219 221.167627 73.974975 \nL 123.247174 130.509375 \nL 235.696571 142.328284 \nz\n\" style=\"fill:#1f77b4;stroke:#ffffff;stroke-linejoin:miter;\"/>\n   </g>\n   <g id=\"patch_7\">\n    <path d=\"M 207.273666 206.167171 \nC 215.212787 197.349884 221.7148 187.337662 226.540662 176.498601 \nC 231.366523 165.659539 234.456358 154.128117 235.696571 142.328284 \nL 123.247174 130.509375 \nL 207.273666 206.167171 \nz\n\" style=\"fill:#ff7f0e;stroke:#ffffff;stroke-linejoin:miter;\"/>\n   </g>\n   <g id=\"patch_8\">\n    <path d=\"M 77.257946 233.802862 \nC 99.067999 243.513324 123.403125 246.07105 146.755496 241.107351 \nC 170.107866 236.143652 191.29879 223.909067 207.273666 206.167171 \nL 123.247174 130.509375 \nL 77.257946 233.802862 \nz\n\" style=\"fill:#2ca02c;stroke:#ffffff;stroke-linejoin:miter;\"/>\n   </g>\n   <g id=\"patch_9\">\n    <path d=\"M 221.167637 73.974993 \nC 212.246358 58.522878 199.792903 45.39967 184.828872 35.681911 \nC 169.86484 25.964151 152.810919 19.925038 135.066098 18.059979 \nC 117.321278 16.194921 99.384423 18.55635 82.726953 24.950551 \nC 66.069484 31.344752 51.159696 41.591963 39.220688 54.851571 \nC 27.281681 68.111179 18.649099 84.010413 14.031102 101.245006 \nC 9.413105 118.479599 8.93952 136.565031 12.649196 154.017692 \nC 16.358873 171.470354 24.14752 187.799594 35.376208 201.665871 \nC 46.604897 215.532149 60.957953 226.545637 77.257946 233.802862 \nL 123.247174 130.509375 \nL 221.167637 73.974993 \nz\n\" style=\"fill:#d62728;stroke:#ffffff;stroke-linejoin:miter;\"/>\n   </g>\n   <g id=\"text_1\">\n    <!-- 西红柿 -->\n    <defs>\n     <path d=\"M 92.921875 69.921875 \nL 62.796875 69.921875 \nL 62.796875 54.984375 \nL 86.078125 54.984375 \nL 86.078125 -5.328125 \nL 78.515625 -5.328125 \nL 78.515625 2.6875 \nL 21.578125 2.6875 \nL 21.578125 -5.328125 \nL 13.921875 -5.328125 \nL 13.921875 54.984375 \nL 36.28125 54.984375 \nL 36.28125 69.921875 \nL 7.328125 69.921875 \nL 7.328125 77.203125 \nL 92.921875 77.203125 \nz\nM 55.171875 54.984375 \nL 55.171875 69.921875 \nL 43.796875 69.921875 \nL 43.796875 54.984375 \nz\nM 78.515625 10.015625 \nL 78.515625 47.703125 \nL 62.796875 47.703125 \nL 62.796875 31.890625 \nQ 62.796875 29.5 65.375 29.5 \nL 68.109375 29.5 \nQ 69.828125 29.5 71.296875 36.375 \nL 77.984375 32.625 \nQ 75.78125 22.21875 69.390625 22.21875 \nL 62.59375 22.21875 \nQ 55.328125 22.21875 55.328125 30.078125 \nL 55.328125 47.703125 \nL 43.890625 47.703125 \nQ 43.890625 27.828125 26.703125 17.671875 \nL 21.484375 22.703125 \nL 21.484375 10.015625 \nz\nM 35.984375 47.703125 \nL 21.484375 47.703125 \nL 21.484375 23.875 \nQ 29.734375 29 32.859375 34.390625 \nQ 35.984375 39.796875 35.984375 47.703125 \nz\n\" id=\"ArialUnicodeMS-35199\"/>\n     <path d=\"M 41.5 27.203125 \nQ 18.5 21.734375 11.625 19.484375 \nL 7.8125 26.609375 \nQ 17.578125 36.421875 22.015625 43.21875 \nQ 16.453125 41.84375 11.1875 40.1875 \nL 7.421875 47.015625 \nQ 18.015625 66.890625 24.21875 82.8125 \nL 31.203125 79.59375 \nQ 24.21875 63.1875 16.5 49.21875 \nL 27 51.421875 \nQ 29.4375 55.03125 33.6875 63.375 \nL 40.71875 60.203125 \nQ 30.71875 39.796875 20.015625 29.78125 \nL 20.21875 29.59375 \nL 41.5 34.8125 \nz\nM 93.609375 0.296875 \nL 38.09375 0.296875 \nL 38.09375 7.625 \nL 61.375 7.625 \nL 61.375 67.09375 \nL 41.703125 67.09375 \nL 41.703125 74.421875 \nL 89.3125 74.421875 \nL 89.3125 67.09375 \nL 69.578125 67.09375 \nL 69.578125 7.625 \nL 93.609375 7.625 \nz\nM 43.609375 12.203125 \nL 11.71875 1.125 \nL 8.015625 8.015625 \nQ 31.0625 15.71875 43.609375 19.671875 \nz\n\" id=\"ArialUnicodeMS-32418\"/>\n     <path d=\"M 42.828125 31.59375 \nL 35.5 27.203125 \nQ 32.953125 35.59375 28.90625 40.71875 \nL 28.90625 -6.390625 \nL 21.296875 -6.390625 \nL 21.296875 32.171875 \nQ 18.703125 24.75 10.109375 16.015625 \nL 4 21 \nQ 17.671875 34.671875 21.09375 56.203125 \nL 7.078125 56.203125 \nL 7.078125 63.484375 \nL 21.296875 63.484375 \nL 21.296875 82.71875 \nL 28.90625 82.71875 \nL 28.90625 63.484375 \nL 39.203125 63.484375 \nL 39.203125 56.203125 \nL 28.90625 56.203125 \nL 28.90625 46.78125 \nL 31.984375 48.390625 \nQ 39.9375 39.703125 42.828125 31.59375 \nz\nM 94.921875 61.078125 \nL 70.21875 61.078125 \nL 70.21875 50.203125 \nL 89.59375 50.203125 \nL 89.59375 18.40625 \nQ 88.8125 14.5 86.59375 12.84375 \nQ 84.375 11.1875 82.328125 11.1875 \nL 75.78125 11.1875 \nL 72.90625 19.28125 \nQ 77.09375 18.40625 78.609375 18.40625 \nQ 81.984375 18.40625 81.984375 20.40625 \nL 81.984375 42.921875 \nL 70.21875 42.921875 \nL 70.21875 -6.390625 \nL 62.59375 -6.390625 \nL 62.59375 42.921875 \nL 51.3125 42.921875 \nL 51.3125 9.90625 \nL 43.703125 9.90625 \nL 43.703125 50.203125 \nL 62.59375 50.203125 \nL 62.59375 61.078125 \nL 41.015625 61.078125 \nL 41.015625 68.40625 \nL 62.59375 68.40625 \nL 62.59375 82.171875 \nL 70.21875 82.171875 \nL 70.21875 68.40625 \nL 94.921875 68.40625 \nz\n\" id=\"ArialUnicodeMS-26623\"/>\n    </defs>\n    <g transform=\"translate(211.725554 116.86834)scale(0.2 -0.2)\">\n     <use xlink:href=\"#ArialUnicodeMS-35199\"/>\n     <use x=\"100\" xlink:href=\"#ArialUnicodeMS-32418\"/>\n     <use x=\"200\" xlink:href=\"#ArialUnicodeMS-26623\"/>\n    </g>\n   </g>\n   <g id=\"text_2\">\n    <!-- 10.00% -->\n    <defs>\n     <path d=\"M 37.5 0 \nL 28.71875 0 \nL 28.71875 56 \nQ 22.125 49.75 11.078125 45.40625 \nL 11.078125 53.90625 \nQ 26.265625 61.1875 31.78125 71.921875 \nL 37.5 71.921875 \nz\n\" id=\"ArialUnicodeMS-49\"/>\n     <path d=\"M 27.78125 71.921875 \nQ 51.125 71.921875 51.125 35.296875 \nQ 51.125 16.796875 45.09375 7.78125 \nQ 39.0625 -1.21875 27.78125 -1.21875 \nQ 4.5 -1.21875 4.5 35.296875 \nQ 4.5 53.8125 10.515625 62.859375 \nQ 16.546875 71.921875 27.78125 71.921875 \nz\nM 27.78125 6 \nQ 34.859375 6 38.46875 12.859375 \nQ 42.09375 19.734375 42.09375 35.296875 \nQ 42.09375 46.140625 40.5 52.359375 \nQ 38.921875 58.59375 35.71875 61.640625 \nQ 32.515625 64.703125 27.6875 64.703125 \nQ 20.609375 64.703125 17.046875 57.71875 \nQ 13.484375 50.734375 13.484375 35.296875 \nQ 13.484375 24.609375 15.09375 18.359375 \nQ 16.703125 12.109375 19.875 9.046875 \nQ 23.046875 6 27.78125 6 \nz\n\" id=\"ArialUnicodeMS-48\"/>\n     <path d=\"M 18.890625 0 \nL 8.890625 0 \nL 8.890625 10.015625 \nL 18.890625 10.015625 \nz\n\" id=\"ArialUnicodeMS-46\"/>\n     <path d=\"M 67.578125 72.796875 \nL 28.71875 -2.484375 \nL 21.390625 -2.484375 \nL 60.5 72.796875 \nz\nM 22.3125 72.703125 \nQ 29 72.703125 33.390625 67.859375 \nQ 37.796875 63.03125 37.796875 53.71875 \nQ 37.796875 44.53125 33.296875 39.671875 \nQ 28.8125 34.8125 22.40625 34.8125 \nQ 15.765625 34.8125 11.546875 39.6875 \nQ 7.328125 44.578125 7.328125 54.296875 \nQ 7.328125 62.25 11.28125 67.46875 \nQ 15.234375 72.703125 22.3125 72.703125 \nz\nM 22.515625 40.921875 \nQ 30.171875 40.921875 30.171875 54.109375 \nQ 30.171875 66.703125 22.515625 66.703125 \nQ 14.890625 66.703125 14.890625 53.421875 \nQ 14.890625 40.921875 22.515625 40.921875 \nz\nM 66.40625 35.203125 \nQ 73.140625 35.203125 77.515625 30.359375 \nQ 81.890625 25.53125 81.890625 16.21875 \nQ 81.890625 9.375 79.484375 5.125 \nQ 77.09375 0.875 73.578125 -0.90625 \nQ 70.0625 -2.6875 66.5 -2.6875 \nQ 59.859375 -2.6875 55.640625 2.1875 \nQ 51.421875 7.078125 51.421875 16.796875 \nQ 51.421875 24.75 55.375 29.96875 \nQ 59.328125 35.203125 66.40625 35.203125 \nz\nM 66.609375 3.421875 \nQ 74.3125 3.421875 74.3125 16.609375 \nQ 74.3125 29.203125 66.609375 29.203125 \nQ 58.984375 29.203125 58.984375 15.921875 \nQ 58.984375 3.421875 66.609375 3.421875 \nz\n\" id=\"ArialUnicodeMS-37\"/>\n    </defs>\n    <g transform=\"translate(133.572301 126.27167)scale(0.2 -0.2)\">\n     <use xlink:href=\"#ArialUnicodeMS-49\"/>\n     <use x=\"55.615234\" xlink:href=\"#ArialUnicodeMS-48\"/>\n     <use x=\"111.230469\" xlink:href=\"#ArialUnicodeMS-46\"/>\n     <use x=\"139.013672\" xlink:href=\"#ArialUnicodeMS-48\"/>\n     <use x=\"194.628906\" xlink:href=\"#ArialUnicodeMS-48\"/>\n     <use x=\"250.244141\" xlink:href=\"#ArialUnicodeMS-37\"/>\n    </g>\n   </g>\n   <g id=\"text_3\">\n    <!-- 苹果 -->\n    <defs>\n     <path d=\"M 93.796875 65.71875 \nL 72.40625 65.71875 \nL 72.40625 57.625 \nL 64.5 57.625 \nL 64.5 65.71875 \nL 35.984375 65.71875 \nL 35.984375 57.625 \nL 28.078125 57.625 \nL 28.078125 65.71875 \nL 6.78125 65.71875 \nL 6.78125 73 \nL 28.078125 73 \nL 28.078125 82.71875 \nL 35.984375 82.71875 \nL 35.984375 73 \nL 64.5 73 \nL 64.5 82.71875 \nL 72.40625 82.71875 \nL 72.40625 73 \nL 93.796875 73 \nz\nM 94.921875 16.5 \nL 54.203125 16.5 \nL 54.203125 -6.390625 \nL 46.296875 -6.390625 \nL 46.296875 16.5 \nL 5.515625 16.5 \nL 5.515625 23.78125 \nL 46.296875 23.78125 \nL 46.296875 47.703125 \nL 13.375 47.703125 \nL 13.375 54.984375 \nL 87.015625 54.984375 \nL 87.015625 47.703125 \nL 54.203125 47.703125 \nL 54.203125 23.78125 \nL 94.921875 23.78125 \nz\nM 38.1875 41.796875 \nQ 31.453125 30.375 20.90625 25.09375 \nL 14.796875 31.296875 \nQ 25.34375 35.296875 31.984375 46.578125 \nz\nM 83.796875 29.296875 \nL 77.09375 24.515625 \nQ 71.578125 35.359375 60.890625 41.109375 \nL 66.609375 46.484375 \nQ 77.34375 40.140625 83.796875 29.296875 \nz\n\" id=\"ArialUnicodeMS-33529\"/>\n     <path d=\"M 96 5.171875 \nL 91.40625 -1.21875 \nQ 66.453125 7.078125 54 24.03125 \nL 54 -6.6875 \nL 46.296875 -6.5 \nL 46.296875 23.78125 \nQ 35.796875 6.984375 10.015625 -1.421875 \nL 4.78125 4.6875 \nQ 26.125 10.5 37.703125 23.875 \nL 9.515625 23.875 \nL 9.515625 31.203125 \nL 46.390625 31.203125 \nL 46.390625 38.28125 \nL 19.390625 38.28125 \nL 19.390625 78.8125 \nL 81.203125 78.8125 \nL 81.203125 38.28125 \nL 54 38.28125 \nL 54 31.203125 \nL 90.828125 31.203125 \nL 90.828125 23.875 \nL 63.484375 23.875 \nQ 73.921875 11.671875 96 5.171875 \nz\nM 73.578125 62.203125 \nL 73.578125 71.484375 \nL 54 71.484375 \nL 54 62.203125 \nz\nM 46.390625 62.203125 \nL 46.390625 71.484375 \nL 27 71.484375 \nL 27 62.203125 \nz\nM 73.578125 45.609375 \nL 73.578125 54.890625 \nL 54 54.890625 \nL 54 45.609375 \nz\nM 46.390625 45.609375 \nL 46.390625 54.890625 \nL 27 54.890625 \nL 27 45.609375 \nz\n\" id=\"ArialUnicodeMS-26524\"/>\n    </defs>\n    <g transform=\"translate(205.881964 172.46638)scale(0.2 -0.2)\">\n     <use xlink:href=\"#ArialUnicodeMS-33529\"/>\n     <use x=\"100\" xlink:href=\"#ArialUnicodeMS-26524\"/>\n    </g>\n   </g>\n   <g id=\"text_4\">\n    <!-- 10.00% -->\n    <g transform=\"translate(130.650506 154.07069)scale(0.2 -0.2)\">\n     <use xlink:href=\"#ArialUnicodeMS-49\"/>\n     <use x=\"55.615234\" xlink:href=\"#ArialUnicodeMS-48\"/>\n     <use x=\"111.230469\" xlink:href=\"#ArialUnicodeMS-46\"/>\n     <use x=\"139.013672\" xlink:href=\"#ArialUnicodeMS-48\"/>\n     <use x=\"194.628906\" xlink:href=\"#ArialUnicodeMS-48\"/>\n     <use x=\"250.244141\" xlink:href=\"#ArialUnicodeMS-37\"/>\n    </g>\n   </g>\n   <g id=\"text_5\">\n    <!-- 香蕉 -->\n    <defs>\n     <path d=\"M 95.515625 35.796875 \nL 90.09375 29.5 \nQ 82.625 32.078125 75.390625 35.6875 \nL 75.390625 -6.5 \nL 67.828125 -6.5 \nL 67.828125 -1.3125 \nL 29.5 -1.3125 \nL 29.5 -6.5 \nL 21.921875 -6.5 \nL 21.921875 33.5 \nQ 17.4375 30.859375 9.625 28.328125 \nL 4 34.625 \nQ 25.984375 41.109375 36.53125 54.296875 \nL 9.28125 54.296875 \nL 9.28125 61.625 \nL 44.828125 61.625 \nL 44.828125 69.09375 \nQ 24.125 67.484375 15.828125 67.484375 \nL 10.59375 74.703125 \nQ 53.46875 74.703125 78.609375 81.6875 \nL 84.28125 75.984375 \nQ 72.859375 72.40625 52.390625 70.015625 \nL 52.390625 61.625 \nL 88.375 61.625 \nL 88.375 54.296875 \nL 61.375 54.296875 \nQ 74.953125 42.53125 95.515625 35.796875 \nz\nM 44.828125 36.375 \nL 44.828125 52.984375 \nQ 38.578125 43.21875 26.609375 36.375 \nz\nM 74.609375 36.375 \nQ 62.359375 43.109375 52.390625 52.484375 \nL 52.390625 36.375 \nz\nM 67.828125 21.78125 \nL 67.828125 29.109375 \nL 29.5 29.109375 \nL 29.5 21.78125 \nz\nM 67.828125 6.109375 \nL 67.828125 14.5 \nL 29.5 14.5 \nL 29.5 6.109375 \nz\n\" id=\"ArialUnicodeMS-39321\"/>\n     <path d=\"M 92.09375 68.21875 \nL 70.40625 68.21875 \nL 70.40625 61.28125 \nL 62.796875 61.28125 \nL 62.796875 68.21875 \nL 36.53125 68.21875 \nL 36.53125 61.28125 \nL 30.90625 61.28125 \nQ 30.515625 60.59375 29.703125 59.390625 \nQ 28.90625 58.203125 28.8125 57.8125 \nL 49.515625 57.8125 \nQ 51.5625 62.9375 52.390625 67 \nL 60.015625 64.984375 \nQ 59.1875 62.0625 57.625 57.8125 \nL 87.015625 57.8125 \nL 87.015625 50.59375 \nL 56.390625 50.59375 \nL 56.390625 46.296875 \nL 82.171875 46.296875 \nL 82.171875 39.59375 \nL 56.390625 39.59375 \nL 56.390625 35.203125 \nL 82.171875 35.203125 \nL 82.171875 27.984375 \nL 56.390625 27.984375 \nL 56.390625 23.09375 \nL 89.703125 23.09375 \nL 89.703125 15.921875 \nL 18.703125 15.921875 \nL 18.703125 43.703125 \nQ 13.578125 38.53125 9.8125 35.6875 \nL 4.203125 41.3125 \nQ 16.15625 49.609375 24.90625 66.609375 \nL 28.90625 64.5 \nL 28.90625 68.21875 \nL 6.6875 68.21875 \nL 6.6875 75.390625 \nL 28.90625 75.390625 \nL 28.90625 83.6875 \nL 36.53125 83.6875 \nL 36.53125 75.390625 \nL 62.796875 75.390625 \nL 62.796875 83.40625 \nL 70.40625 83.40625 \nL 70.40625 75.390625 \nL 92.09375 75.390625 \nz\nM 48.78125 46.296875 \nL 48.78125 50.59375 \nL 26.609375 50.59375 \nL 26.609375 46.296875 \nz\nM 48.78125 35.203125 \nL 48.78125 39.59375 \nL 26.609375 39.59375 \nL 26.609375 35.203125 \nz\nM 48.78125 23.09375 \nL 48.78125 27.984375 \nL 26.609375 27.984375 \nL 26.609375 23.09375 \nz\nM 93.796875 -2.59375 \nL 86.078125 -5.609375 \nQ 82.328125 5.328125 72.796875 11.71875 \nL 80.328125 14.890625 \nQ 88.71875 8.890625 93.796875 -2.59375 \nz\nM 25.78125 11.28125 \nQ 22.21875 1.609375 10.59375 -6.109375 \nL 4.390625 -0.78125 \nQ 15.71875 5.375 18.796875 14.5 \nz\nM 69.1875 -2.203125 \nL 61.625 -4.296875 \nQ 59.46875 4.390625 52 12.3125 \nL 59.625 14.3125 \nQ 66.359375 7.5625 69.1875 -2.203125 \nz\nM 46 -2.59375 \nL 37.984375 -4.296875 \nQ 37.703125 3.90625 31.109375 12.59375 \nL 38.921875 14.203125 \nQ 44.78125 6.84375 46 -2.59375 \nz\n\" id=\"ArialUnicodeMS-34121\"/>\n    </defs>\n    <g transform=\"translate(142.053831 224.153381)scale(0.2 -0.2)\">\n     <use xlink:href=\"#ArialUnicodeMS-39321\"/>\n     <use x=\"100\" xlink:href=\"#ArialUnicodeMS-34121\"/>\n    </g>\n   </g>\n   <g id=\"text_6\">\n    <!-- 20.00% -->\n    <defs>\n     <path d=\"M 50.484375 0 \nL 3.078125 0 \nQ 3.078125 6.0625 7.296875 12.25 \nQ 11.53125 18.453125 23.09375 27.78125 \nQ 30.171875 33.453125 35.734375 39.671875 \nQ 41.3125 45.90625 41.3125 52.203125 \nQ 41.3125 57.625 37.46875 61.15625 \nQ 33.640625 64.703125 27.78125 64.703125 \nQ 21.875 64.703125 17.875 61.0625 \nQ 13.875 57.421875 13.8125 50.203125 \nL 4.78125 51.21875 \nQ 5.609375 61.28125 11.9375 66.59375 \nQ 18.265625 71.921875 27.984375 71.921875 \nQ 38.53125 71.921875 44.40625 66.078125 \nQ 50.296875 60.25 50.296875 52 \nQ 50.296875 45.125 45.328125 38.0625 \nQ 40.375 31 25.59375 19.1875 \nQ 17.828125 12.984375 15.28125 8.5 \nL 50.484375 8.5 \nz\n\" id=\"ArialUnicodeMS-50\"/>\n    </defs>\n    <g transform=\"translate(98.73644 179.91419)scale(0.2 -0.2)\">\n     <use xlink:href=\"#ArialUnicodeMS-50\"/>\n     <use x=\"55.615234\" xlink:href=\"#ArialUnicodeMS-48\"/>\n     <use x=\"111.230469\" xlink:href=\"#ArialUnicodeMS-46\"/>\n     <use x=\"139.013672\" xlink:href=\"#ArialUnicodeMS-48\"/>\n     <use x=\"194.628906\" xlink:href=\"#ArialUnicodeMS-48\"/>\n     <use x=\"250.244141\" xlink:href=\"#ArialUnicodeMS-37\"/>\n    </g>\n   </g>\n   <g id=\"text_7\">\n    <!-- 栗子 -->\n    <defs>\n     <path d=\"M 90.828125 71.484375 \nL 64.890625 71.484375 \nL 64.890625 64.984375 \nL 85.59375 64.984375 \nL 85.59375 38.375 \nL 16.015625 38.375 \nL 16.015625 64.984375 \nL 36.8125 64.984375 \nL 36.8125 71.484375 \nL 11.28125 71.484375 \nL 11.28125 78.8125 \nL 90.828125 78.8125 \nz\nM 57.328125 64.984375 \nL 57.328125 71.484375 \nL 44.390625 71.484375 \nL 44.390625 64.984375 \nz\nM 77.984375 45.703125 \nL 77.984375 57.71875 \nL 64.890625 57.71875 \nL 64.890625 45.703125 \nz\nM 57.328125 45.703125 \nL 57.328125 57.71875 \nL 44.390625 57.71875 \nL 44.390625 45.703125 \nz\nM 36.8125 45.703125 \nL 36.8125 57.71875 \nL 23.875 57.71875 \nL 23.875 45.703125 \nz\nM 95.703125 5.515625 \nL 90.1875 -1.125 \nQ 63.8125 7.328125 54.78125 21.390625 \nL 54.78125 -6.5 \nL 47.21875 -6.5 \nL 47.21875 21.78125 \nQ 37.84375 5.859375 10.984375 -1.21875 \nL 6 5.421875 \nQ 29.4375 11.421875 38.625 22.796875 \nL 10.203125 22.796875 \nL 10.203125 30.078125 \nL 47.21875 30.078125 \nL 47.21875 37.203125 \nL 54.78125 37.203125 \nL 54.78125 30.078125 \nL 91.40625 30.078125 \nL 91.40625 22.796875 \nL 63.8125 22.796875 \nQ 73.734375 11.375 95.703125 5.515625 \nz\n\" id=\"ArialUnicodeMS-26647\"/>\n     <path d=\"M 92.09375 36.375 \nL 55.71875 36.375 \nL 55.71875 2.984375 \nQ 55.71875 -0.484375 53.515625 -2.6875 \nQ 51.3125 -4.890625 47.40625 -4.890625 \nL 35.109375 -4.890625 \nL 31.5 2.875 \nL 44.09375 2.296875 \nQ 48.09375 2.15625 48.09375 6.984375 \nL 48.09375 36.375 \nL 9.8125 36.375 \nL 9.8125 43.703125 \nL 48.09375 43.703125 \nL 48.09375 53.71875 \nQ 60.25 61.671875 68.796875 71.390625 \nL 22.125 71.390625 \nL 22.125 78.71875 \nL 79.6875 78.71875 \nL 79.6875 73.09375 \nQ 69.34375 59.28125 55.71875 50 \nL 55.71875 43.703125 \nL 92.09375 43.703125 \nz\n\" id=\"ArialUnicodeMS-23376\"/>\n    </defs>\n    <g transform=\"translate(16.025985 75.148757)scale(0.2 -0.2)\">\n     <use xlink:href=\"#ArialUnicodeMS-26647\"/>\n     <use x=\"100\" xlink:href=\"#ArialUnicodeMS-23376\"/>\n    </g>\n   </g>\n   <g id=\"text_8\">\n    <!-- 60.00% -->\n    <defs>\n     <path d=\"M 13.09375 36.921875 \nQ 19.140625 46.390625 30.328125 46.390625 \nQ 39.109375 46.390625 45.265625 39.890625 \nQ 51.421875 33.40625 51.421875 23.296875 \nQ 51.421875 13.09375 45.28125 5.9375 \nQ 39.15625 -1.21875 29 -1.21875 \nQ 18.703125 -1.21875 11.453125 6.390625 \nQ 4.203125 14.015625 4.203125 33.5 \nQ 4.203125 52.640625 10.765625 62.28125 \nQ 17.328125 71.921875 29.78125 71.921875 \nQ 37.84375 71.921875 43.40625 67.421875 \nQ 48.96875 62.9375 50.203125 54.109375 \nL 41.40625 53.328125 \nQ 39.015625 64.703125 29.296875 64.703125 \nQ 22.5625 64.703125 17.71875 58 \nQ 12.890625 51.3125 12.890625 36.921875 \nz\nM 28.8125 6 \nQ 34.859375 6 38.625 10.875 \nQ 42.390625 15.765625 42.390625 22.703125 \nQ 42.390625 29.640625 38.625 34.171875 \nQ 34.859375 38.71875 28.515625 38.71875 \nQ 22.703125 38.71875 18.5 34.4375 \nQ 14.3125 30.171875 14.3125 23.1875 \nQ 14.3125 16.0625 18.4375 11.03125 \nQ 22.5625 6 28.8125 6 \nz\n\" id=\"ArialUnicodeMS-54\"/>\n    </defs>\n    <g transform=\"translate(55.722517 105.411878)scale(0.2 -0.2)\">\n     <use xlink:href=\"#ArialUnicodeMS-54\"/>\n     <use x=\"55.615234\" xlink:href=\"#ArialUnicodeMS-48\"/>\n     <use x=\"111.230469\" xlink:href=\"#ArialUnicodeMS-46\"/>\n     <use x=\"139.013672\" xlink:href=\"#ArialUnicodeMS-48\"/>\n     <use x=\"194.628906\" xlink:href=\"#ArialUnicodeMS-48\"/>\n     <use x=\"250.244141\" xlink:href=\"#ArialUnicodeMS-37\"/>\n    </g>\n   </g>\n   <g id=\"text_9\">\n    <!-- 相关比例分布 -->\n    <defs>\n     <path d=\"M 47.015625 27.984375 \nL 40.09375 23.484375 \nQ 36.28125 30.859375 31.296875 37.59375 \nL 31.296875 -6.5 \nL 23.578125 -6.5 \nL 23.578125 32.71875 \nQ 20.515625 23.390625 10.296875 10.59375 \nL 4.296875 15.1875 \nQ 16.453125 30.765625 22.796875 56.296875 \nL 8.109375 56.296875 \nL 8.109375 63.625 \nL 23.6875 63.625 \nL 23.6875 82.8125 \nL 31.296875 82.8125 \nL 31.296875 63.625 \nL 45.015625 63.625 \nL 45.015625 56.296875 \nL 31.296875 56.296875 \nL 31.296875 45.3125 \nL 33.296875 46.484375 \nQ 41.890625 38.03125 47.015625 27.984375 \nz\nM 88.921875 -6.5 \nL 80.90625 -6.5 \nL 80.90625 0.59375 \nL 57.171875 0.59375 \nL 57.171875 -6.5 \nL 49.21875 -6.5 \nL 49.21875 77.59375 \nL 88.921875 77.59375 \nz\nM 80.90625 55.421875 \nL 80.90625 70.3125 \nL 57.171875 70.3125 \nL 57.171875 55.421875 \nz\nM 80.90625 32.171875 \nL 80.90625 48.09375 \nL 57.171875 48.09375 \nL 57.171875 32.171875 \nz\nM 80.90625 7.90625 \nL 80.90625 24.90625 \nL 57.171875 24.90625 \nL 57.171875 7.90625 \nz\n\" id=\"ArialUnicodeMS-30456\"/>\n     <path d=\"M 91.890625 -0.59375 \nL 86.1875 -6.203125 \nQ 73.296875 -0.984375 64.875 7.1875 \nQ 56.453125 15.375 50.6875 30.328125 \nL 49.3125 30.328125 \nQ 45.015625 17.71875 33.421875 7.296875 \nQ 21.828125 -3.125 8.984375 -6.203125 \nL 3.8125 -0.203125 \nQ 17.53125 4.25 27.609375 12.546875 \nQ 37.703125 20.84375 41.3125 30.328125 \nL 5.71875 30.328125 \nL 5.71875 37.59375 \nL 43.109375 37.59375 \nQ 43.5 41.0625 43.5 55.078125 \nL 11.53125 55.078125 \nL 11.53125 62.015625 \nL 34.71875 62.015625 \nQ 29.4375 72.078125 22.515625 79.78125 \nL 28.71875 82.90625 \nQ 36.859375 74.75 42.921875 62.015625 \nL 52.78125 62.015625 \nQ 58.203125 69.53125 63.625 83.109375 \nL 70.609375 79.984375 \nQ 65.765625 69.140625 60.984375 62.015625 \nL 85.015625 62.015625 \nL 85.015625 55.078125 \nL 51.125 55.078125 \nQ 50.828125 40.53125 50.484375 37.59375 \nL 90.921875 37.59375 \nL 90.921875 30.328125 \nL 59.078125 30.328125 \nQ 66.75 10.453125 91.890625 -0.59375 \nz\n\" id=\"ArialUnicodeMS-20851\"/>\n     <path d=\"M 95.609375 17.1875 \nQ 93.359375 -3.078125 82.8125 -3.078125 \nL 64.109375 -3.078125 \nQ 59.8125 -3.078125 57.15625 -0.65625 \nQ 54.5 1.765625 54.5 5.90625 \nL 54.5 81.109375 \nL 62.40625 81.109375 \nL 62.40625 45.40625 \nQ 74.609375 49.5625 87.5 61.1875 \nL 93.5 56 \nQ 78.328125 42.234375 62.40625 37.3125 \nL 62.40625 7.90625 \nQ 62.84375 4.203125 66.015625 4.203125 \nL 80.515625 4.203125 \nQ 83.984375 4.203125 85.375 7.25 \nQ 86.765625 10.296875 87.890625 20.703125 \nz\nM 50.59375 4.78125 \nL 10.203125 -3.609375 \nL 5.90625 3.90625 \nL 17.671875 6.109375 \nL 17.671875 80.71875 \nL 25.59375 80.71875 \nL 25.59375 53.90625 \nL 50.59375 53.90625 \nL 50.59375 46.578125 \nL 25.59375 46.578125 \nL 25.59375 7.8125 \nL 50.59375 12.796875 \nz\n\" id=\"ArialUnicodeMS-27604\"/>\n     <path d=\"M 32.515625 81.984375 \nQ 31.640625 77.296875 28.71875 67.78125 \nL 25.78125 58.40625 \nL 25.78125 -6.296875 \nL 18.21875 -6.296875 \nL 18.21875 41.890625 \nQ 16.265625 37.84375 10.796875 31.78125 \nL 4.109375 35.59375 \nQ 20.40625 55.171875 25.59375 84.515625 \nz\nM 91.109375 2.09375 \nQ 91.109375 -6.34375 80.515625 -6.203125 \nL 73.78125 -6.109375 \nL 70.515625 1.90625 \nL 77.78125 1.515625 \nQ 80.078125 1.3125 81.734375 2.875 \nQ 83.40625 4.4375 83.40625 6.890625 \nL 83.203125 83.203125 \nL 91.109375 83.203125 \nz\nM 66.109375 70.40625 \nL 48.6875 70.40625 \nQ 48 62.453125 47.40625 57.625 \nL 64.703125 57.625 \nQ 64.59375 31.296875 57.53125 18.75 \nQ 50.484375 6.203125 35.203125 -6.203125 \nL 29.78125 -0.390625 \nQ 45.90625 12.453125 51.21875 23.578125 \nQ 46.96875 29.5 40.578125 33.203125 \nL 45.21875 39.015625 \nQ 49.3125 36.71875 54 31 \nQ 56.109375 38.328125 56.984375 50.296875 \nL 46 50.296875 \nQ 41.40625 33.40625 33.59375 24.515625 \nL 26.421875 28.609375 \nQ 40.71875 44.875 40.71875 70.40625 \nL 33.40625 70.40625 \nL 33.40625 77.6875 \nL 66.109375 77.6875 \nz\nM 77.203125 13.625 \nL 69.578125 13.625 \nL 69.578125 69.390625 \nL 77.203125 69.390625 \nz\n\" id=\"ArialUnicodeMS-20363\"/>\n     <path d=\"M 93.609375 46.921875 \nL 88.8125 39.890625 \nQ 75.875 47.515625 69.546875 55.21875 \nQ 63.234375 62.9375 59.078125 75.484375 \nL 67.484375 77.875 \nQ 68.359375 68.0625 75.453125 59.765625 \nQ 82.5625 51.46875 93.609375 46.921875 \nz\nM 40.828125 73.390625 \nQ 33.890625 54.4375 12.5 39.796875 \nL 6.5 45.609375 \nQ 27.046875 58.453125 34.1875 77.09375 \nz\nM 76.125 45.796875 \nQ 75.6875 30.5625 73.90625 17.0625 \nQ 72.125 3.5625 69.21875 0.109375 \nQ 66.3125 -3.328125 60.109375 -3.328125 \nQ 54.203125 -3.328125 45.21875 -1.21875 \nL 42.921875 7.515625 \nQ 54.734375 4.203125 59.90625 4.203125 \nQ 62.703125 4.203125 64.5 9.984375 \nQ 66.3125 15.765625 67.828125 38.484375 \nL 49.03125 38.484375 \nQ 44.828125 4.109375 12.984375 -6.890625 \nL 8.203125 -0.484375 \nQ 37.0625 7.46875 41.109375 38.484375 \nL 24.3125 38.484375 \nL 24.3125 45.796875 \nz\n\" id=\"ArialUnicodeMS-20998\"/>\n     <path d=\"M 92 61.625 \nL 40.578125 61.625 \nQ 35.9375 50.25 32.078125 44.390625 \nL 51.125 44.390625 \nL 51.125 57.078125 \nL 58.6875 57.078125 \nL 58.6875 44.390625 \nL 83.40625 44.390625 \nL 83.40625 14.703125 \nQ 83.40625 5.078125 76.21875 5.078125 \nL 67.09375 5.078125 \nL 64.703125 12.796875 \nQ 70.015625 12.109375 72.3125 12.109375 \nQ 75.78125 12.109375 75.78125 14.703125 \nL 75.78125 37.109375 \nL 58.6875 37.109375 \nL 58.6875 -6.6875 \nL 51.125 -6.6875 \nL 51.125 37.109375 \nL 36.28125 37.109375 \nL 36.28125 2.390625 \nL 28.71875 2.390625 \nL 28.515625 39.59375 \nQ 23.6875 32.125 12.40625 20.125 \nL 5.8125 24.703125 \nQ 27.046875 45.609375 32.71875 61.625 \nL 10.296875 61.625 \nL 10.296875 68.890625 \nL 35.40625 68.890625 \nQ 37.15625 73.53125 39.890625 83.5 \nL 47.015625 81.296875 \nQ 43.65625 69.4375 43.40625 68.890625 \nL 92 68.890625 \nz\n\" id=\"ArialUnicodeMS-24067\"/>\n    </defs>\n    <g style=\"fill:#262626;\" transform=\"translate(87.247174 15.789375)scale(0.12 -0.12)\">\n     <use xlink:href=\"#ArialUnicodeMS-30456\"/>\n     <use x=\"100\" xlink:href=\"#ArialUnicodeMS-20851\"/>\n     <use x=\"200\" xlink:href=\"#ArialUnicodeMS-27604\"/>\n     <use x=\"300\" xlink:href=\"#ArialUnicodeMS-20363\"/>\n     <use x=\"400\" xlink:href=\"#ArialUnicodeMS-20998\"/>\n     <use x=\"500\" xlink:href=\"#ArialUnicodeMS-24067\"/>\n    </g>\n   </g>\n  </g>\n </g>\n</svg>\n",
      "image/png": "[encoded data removed]"
     },
     "metadata": {}
    }
   ],
   "source": [
    "labels = '西红柿','苹果','香蕉','栗子'\n",
    " # sizes = [10,10,10,70]\n",
    "sizes = [10,10,20,60]\n",
    "#explode = (0,0,0.1,0)\n",
    "#colors = ['r','g','y','b']\n",
    " \n",
    "plt.pie(sizes,labels=labels,autopct='%1.2f%%',\n",
    "         pctdistance=0.4,shadow=True,labeldistance=0.8,startangle=30,radius=1.3,\n",
    "         counterclock=False,textprops={'fontsize':20,'color':'black'})\n",
    "plt.title('相关比例分布')         \n",
    "plt.show()  # 可视化呈现"
   ]
  },
  {
   "cell_type": "code",
   "execution_count": 67,
   "metadata": {},
   "outputs": [
    {
     "output_type": "display_data",
     "data": {
      "text/plain": "<Figure size 432x288 with 1 Axes>",
      "image/svg+xml": "<?xml version=\"1.0\" encoding=\"utf-8\" standalone=\"no\"?>\n<!DOCTYPE svg PUBLIC \"-//W3C//DTD SVG 1.1//EN\"\n  \"http://www.w3.org/Graphics/SVG/1.1/DTD/svg11.dtd\">\n<!-- Created with matplotlib (https://matplotlib.org/) -->\n<svg height=\"253.207141pt\" version=\"1.1\" viewBox=\"0 0 243.175085 253.207141\" width=\"243.175085pt\" xmlns=\"http://www.w3.org/2000/svg\" xmlns:xlink=\"http://www.w3.org/1999/xlink\">\n <defs>\n  <style type=\"text/css\">\n*{stroke-linecap:butt;stroke-linejoin:round;}\n  </style>\n </defs>\n <g id=\"figure_1\">\n  <g id=\"patch_1\">\n   <path d=\"M 0 253.207141 \nL 243.175085 253.207141 \nL 243.175085 0 \nL 0 0 \nz\n\" style=\"fill:#ffffff;\"/>\n  </g>\n  <g id=\"axes_1\">\n   <g id=\"matplotlib.axis_1\"/>\n   <g id=\"matplotlib.axis_2\"/>\n   <g id=\"patch_2\">\n    <path d=\"M 127.557364 19.399115 \nC 115.072618 18.620905 102.544832 19.919872 90.485341 23.242998 \nC 78.42585 26.566123 67.000992 31.867571 56.677084 38.930956 \nC 46.353176 45.994341 37.272617 54.722239 29.80604 64.758409 \nC 22.339463 74.794579 16.589855 86.000593 12.791893 97.919065 \nC 8.993931 109.837537 7.2 122.304074 7.483321 134.809841 \nC 7.766643 147.315608 10.123309 159.688113 14.45713 171.422357 \nC 18.79095 183.156601 25.042149 194.090733 32.955576 203.778466 \nC 40.869003 213.466198 50.335508 221.773907 60.968705 228.362503 \nC 71.601902 234.9511 83.255127 239.729707 95.45274 242.503282 \nC 107.650353 245.276856 120.224113 246.007141 132.660806 244.66433 \nC 145.097499 243.321518 157.225587 239.924132 168.550047 234.610838 \nC 179.874507 229.297545 190.239141 222.14163 199.220904 213.435172 \nC 208.202668 204.728714 215.677675 194.591801 221.340825 183.438182 \nC 227.003975 172.284563 230.777155 160.268081 232.50636 147.879201 \nC 234.235565 135.490322 233.896943 122.899926 231.504316 110.621904 \nC 229.111688 98.343882 224.698057 86.547586 218.443569 75.714495 \nL 120.523116 132.248895 \nL 127.557364 19.399115 \nz\n\" style=\"fill:#092436;opacity:0.5;stroke:#092436;stroke-linejoin:miter;\"/>\n   </g>\n   <g id=\"patch_3\">\n    <path d=\"M 218.443579 75.714513 \nC 209.116397 59.559353 195.934595 45.960728 180.077535 36.135292 \nC 164.220476 26.309857 146.1756 20.559642 127.557364 19.399115 \nL 120.523116 132.248895 \nL 218.443579 75.714513 \nz\n\" style=\"fill:#4c2604;opacity:0.5;stroke:#4c2604;stroke-linejoin:miter;\"/>\n   </g>\n   <g id=\"patch_4\">\n    <path d=\"M 129.296884 17.659595 \nC 116.812138 16.881385 104.284352 18.180352 92.224861 21.503478 \nC 80.16537 24.826603 68.740512 30.128051 58.416604 37.191436 \nC 48.092696 44.254821 39.012137 52.982719 31.54556 63.018889 \nC 24.078983 73.055059 18.329375 84.261073 14.531413 96.179545 \nC 10.733451 108.098017 8.93952 120.564554 9.222841 133.070321 \nC 9.506163 145.576088 11.862829 157.948593 16.19665 169.682837 \nC 20.53047 181.417081 26.781669 192.351213 34.695096 202.038946 \nC 42.608523 211.726678 52.075028 220.034387 62.708225 226.622983 \nC 73.341422 233.21158 84.994647 237.990187 97.19226 240.763762 \nC 109.389873 243.537336 121.963633 244.267621 134.400326 242.92481 \nC 146.837019 241.581998 158.965107 238.184612 170.289567 232.871318 \nC 181.614027 227.558025 191.978661 220.40211 200.960424 211.695652 \nC 209.942188 202.989194 217.417195 192.852281 223.080345 181.698662 \nC 228.743495 170.545043 232.516675 158.528561 234.24588 146.139681 \nC 235.975085 133.750802 235.636463 121.160406 233.243836 108.882384 \nC 230.851208 96.604362 226.437577 84.808066 220.183089 73.974975 \nL 122.262636 130.509375 \nL 129.296884 17.659595 \nz\n\" style=\"fill:#1f77b4;stroke:#ffffff;stroke-linejoin:miter;\"/>\n   </g>\n   <g id=\"patch_5\">\n    <path d=\"M 220.183099 73.974993 \nC 210.855917 57.819833 197.674115 44.221208 181.817055 34.395772 \nC 165.959996 24.570337 147.91512 18.820122 129.296884 17.659595 \nL 122.262636 130.509375 \nL 220.183099 73.974993 \nz\n\" style=\"fill:#ff7f0e;stroke:#ffffff;stroke-linejoin:miter;\"/>\n   </g>\n   <g id=\"text_1\">\n    <!-- 男 -->\n    <defs>\n     <path d=\"M 84.90625 38.921875 \nL 20.3125 38.921875 \nL 20.3125 78.328125 \nL 84.90625 78.328125 \nz\nM 76.515625 62.3125 \nL 76.515625 71 \nL 56.203125 71 \nL 56.203125 62.3125 \nz\nM 48.296875 62.3125 \nL 48.296875 71 \nL 28.21875 71 \nL 28.21875 62.3125 \nz\nM 76.515625 46.1875 \nL 76.515625 54.984375 \nL 56.203125 54.984375 \nL 56.203125 46.1875 \nz\nM 48.296875 46.1875 \nL 48.296875 54.984375 \nL 28.21875 54.984375 \nL 28.21875 46.1875 \nz\nM 88.921875 29.6875 \nQ 88.1875 21.875 85.765625 11.328125 \nQ 83.34375 0.78125 80.046875 -1.3125 \nQ 76.765625 -3.421875 71.09375 -3.421875 \nQ 67.828125 -3.421875 56.78125 -2.296875 \nL 54.109375 6.59375 \nQ 66.265625 4.5 72.859375 4.5 \nQ 75.046875 4.5 76.265625 6.71875 \nQ 77.484375 8.9375 78.53125 14.25 \nQ 79.59375 19.578125 79.59375 22.40625 \nL 53.328125 22.40625 \nQ 49.5625 9.96875 40.03125 3.046875 \nQ 30.515625 -3.859375 12.40625 -6.203125 \nL 8.5 1.21875 \nQ 25.09375 2.984375 33.3125 8.15625 \nQ 41.546875 13.328125 44.921875 22.40625 \nL 15.71875 22.40625 \nL 15.71875 29.6875 \nL 46.921875 29.6875 \nL 47.90625 37.890625 \nL 55.609375 36.921875 \nQ 55.328125 32.71875 54.6875 29.6875 \nz\n\" id=\"ArialUnicodeMS-30007\"/>\n    </defs>\n    <g transform=\"translate(54.619107 212.565887)scale(0.2 -0.2)\">\n     <use xlink:href=\"#ArialUnicodeMS-30007\"/>\n    </g>\n   </g>\n   <g id=\"text_2\">\n    <!-- 84.32% -->\n    <defs>\n     <path d=\"M 37.890625 38.71875 \nQ 51.3125 34.421875 51.3125 20.40625 \nQ 51.3125 11.1875 44.71875 4.984375 \nQ 38.140625 -1.21875 27.78125 -1.21875 \nQ 17.328125 -1.21875 10.765625 5.03125 \nQ 4.203125 11.28125 4.203125 20.703125 \nQ 4.203125 27.484375 7.890625 32.5625 \nQ 11.578125 37.640625 17.828125 38.71875 \nL 17.828125 38.921875 \nQ 7.078125 42.234375 7.078125 53.421875 \nQ 7.078125 61.328125 12.734375 66.625 \nQ 18.40625 71.921875 27.59375 71.921875 \nQ 36.921875 71.921875 42.65625 66.453125 \nQ 48.390625 60.984375 48.390625 53.21875 \nQ 48.390625 42.671875 37.890625 38.921875 \nz\nM 27.78125 42.1875 \nQ 32.71875 42.1875 36.0625 45.328125 \nQ 39.40625 48.484375 39.40625 53.21875 \nQ 39.40625 58.0625 36.015625 61.375 \nQ 32.625 64.703125 27.6875 64.703125 \nQ 22.65625 64.703125 19.375 61.421875 \nQ 16.109375 58.15625 16.109375 53.71875 \nQ 16.109375 48.390625 19.484375 45.28125 \nQ 22.859375 42.1875 27.78125 42.1875 \nz\nM 27.78125 6 \nQ 33.984375 6 38.125 10 \nQ 42.28125 14.015625 42.28125 20.40625 \nQ 42.28125 26.8125 38 30.90625 \nQ 33.734375 35.015625 27.59375 35.015625 \nQ 21.1875 35.015625 17.1875 30.78125 \nQ 13.1875 26.5625 13.1875 20.609375 \nQ 13.1875 14.40625 17.3125 10.203125 \nQ 21.4375 6 27.78125 6 \nz\n\" id=\"ArialUnicodeMS-56\"/>\n     <path d=\"M 50.984375 17.09375 \nL 41.3125 17.09375 \nL 41.3125 0 \nL 32.515625 0 \nL 32.515625 17.09375 \nL 1.515625 17.09375 \nL 1.515625 25.203125 \nL 34.078125 71.578125 \nL 41.3125 71.578125 \nL 41.3125 25.203125 \nL 50.984375 25.203125 \nz\nM 32.515625 25.203125 \nL 32.515625 57.515625 \nL 32.328125 57.515625 \nL 10.109375 25.203125 \nz\n\" id=\"ArialUnicodeMS-52\"/>\n     <path d=\"M 18.890625 0 \nL 8.890625 0 \nL 8.890625 10.015625 \nL 18.890625 10.015625 \nz\n\" id=\"ArialUnicodeMS-46\"/>\n     <path d=\"M 37.890625 38.71875 \nQ 44.53125 37.453125 47.921875 32.296875 \nQ 51.3125 27.15625 51.3125 21.09375 \nQ 51.3125 11.328125 44.203125 5.046875 \nQ 37.109375 -1.21875 27.203125 -1.21875 \nQ 17.71875 -1.21875 11.5625 4.296875 \nQ 5.421875 9.8125 4.390625 18.890625 \nL 13.1875 20.125 \nQ 14.5 13.03125 17.984375 9.515625 \nQ 21.484375 6 27.203125 6 \nQ 33.34375 6 37.609375 10.328125 \nQ 41.890625 14.65625 41.890625 20.90625 \nQ 41.890625 26.90625 38 30.859375 \nQ 34.125 34.8125 27.875 34.8125 \nQ 25.34375 34.8125 21.6875 33.890625 \nL 22.703125 41.609375 \nQ 26.21875 41.609375 28.265625 41.9375 \nQ 30.328125 42.28125 32.859375 43.59375 \nQ 35.40625 44.921875 37.0625 47.390625 \nQ 38.71875 49.859375 38.71875 53.515625 \nQ 38.71875 58.84375 35.171875 61.765625 \nQ 31.640625 64.703125 27 64.703125 \nQ 21.6875 64.703125 18.328125 61.328125 \nQ 14.984375 57.953125 14.109375 51.703125 \nL 5.328125 53.328125 \nQ 7.03125 62.640625 12.859375 67.28125 \nQ 18.703125 71.921875 26.8125 71.921875 \nQ 35.75 71.921875 41.71875 66.53125 \nQ 47.703125 61.140625 47.703125 53.328125 \nQ 47.703125 43.3125 37.890625 38.921875 \nz\n\" id=\"ArialUnicodeMS-51\"/>\n     <path d=\"M 50.484375 0 \nL 3.078125 0 \nQ 3.078125 6.0625 7.296875 12.25 \nQ 11.53125 18.453125 23.09375 27.78125 \nQ 30.171875 33.453125 35.734375 39.671875 \nQ 41.3125 45.90625 41.3125 52.203125 \nQ 41.3125 57.625 37.46875 61.15625 \nQ 33.640625 64.703125 27.78125 64.703125 \nQ 21.875 64.703125 17.875 61.0625 \nQ 13.875 57.421875 13.8125 50.203125 \nL 4.78125 51.21875 \nQ 5.609375 61.28125 11.9375 66.59375 \nQ 18.265625 71.921875 27.984375 71.921875 \nQ 38.53125 71.921875 44.40625 66.078125 \nQ 50.296875 60.25 50.296875 52 \nQ 50.296875 45.125 45.328125 38.0625 \nQ 40.375 31 25.59375 19.1875 \nQ 17.828125 12.984375 15.28125 8.5 \nL 50.484375 8.5 \nz\n\" id=\"ArialUnicodeMS-50\"/>\n     <path d=\"M 67.578125 72.796875 \nL 28.71875 -2.484375 \nL 21.390625 -2.484375 \nL 60.5 72.796875 \nz\nM 22.3125 72.703125 \nQ 29 72.703125 33.390625 67.859375 \nQ 37.796875 63.03125 37.796875 53.71875 \nQ 37.796875 44.53125 33.296875 39.671875 \nQ 28.8125 34.8125 22.40625 34.8125 \nQ 15.765625 34.8125 11.546875 39.6875 \nQ 7.328125 44.578125 7.328125 54.296875 \nQ 7.328125 62.25 11.28125 67.46875 \nQ 15.234375 72.703125 22.3125 72.703125 \nz\nM 22.515625 40.921875 \nQ 30.171875 40.921875 30.171875 54.109375 \nQ 30.171875 66.703125 22.515625 66.703125 \nQ 14.890625 66.703125 14.890625 53.421875 \nQ 14.890625 40.921875 22.515625 40.921875 \nz\nM 66.40625 35.203125 \nQ 73.140625 35.203125 77.515625 30.359375 \nQ 81.890625 25.53125 81.890625 16.21875 \nQ 81.890625 9.375 79.484375 5.125 \nQ 77.09375 0.875 73.578125 -0.90625 \nQ 70.0625 -2.6875 66.5 -2.6875 \nQ 59.859375 -2.6875 55.640625 2.1875 \nQ 51.421875 7.078125 51.421875 16.796875 \nQ 51.421875 24.75 55.375 29.96875 \nQ 59.328125 35.203125 66.40625 35.203125 \nz\nM 66.609375 3.421875 \nQ 74.3125 3.421875 74.3125 16.609375 \nQ 74.3125 29.203125 66.609375 29.203125 \nQ 58.984375 29.203125 58.984375 15.921875 \nQ 58.984375 3.421875 66.609375 3.421875 \nz\n\" id=\"ArialUnicodeMS-37\"/>\n    </defs>\n    <g transform=\"translate(64.526809 174.120443)scale(0.2 -0.2)\">\n     <use xlink:href=\"#ArialUnicodeMS-56\"/>\n     <use x=\"55.615234\" xlink:href=\"#ArialUnicodeMS-52\"/>\n     <use x=\"111.230469\" xlink:href=\"#ArialUnicodeMS-46\"/>\n     <use x=\"139.013672\" xlink:href=\"#ArialUnicodeMS-51\"/>\n     <use x=\"194.628906\" xlink:href=\"#ArialUnicodeMS-50\"/>\n     <use x=\"250.244141\" xlink:href=\"#ArialUnicodeMS-37\"/>\n    </g>\n   </g>\n   <g id=\"text_3\">\n    <!-- 女 -->\n    <defs>\n     <path d=\"M 91.109375 2.59375 \nL 86.28125 -4.296875 \nQ 72.65625 6.15625 53.21875 12.984375 \nQ 37.890625 -0.34375 13.09375 -5.328125 \nL 8.59375 2.09375 \nQ 32.03125 6.734375 44.578125 16.3125 \nQ 33.734375 20.015625 20.40625 23 \nQ 27.734375 35.75 34.8125 52.203125 \nL 13.09375 52.203125 \nL 13.09375 59.8125 \nL 37.890625 59.8125 \nQ 43.109375 71.4375 47.015625 83.59375 \nL 54.5 80.328125 \nL 46.484375 59.8125 \nL 90.484375 59.8125 \nL 90.484375 52.203125 \nL 77.09375 52.203125 \nQ 69.140625 29.890625 59.1875 19.28125 \nQ 81.109375 10.890625 91.109375 2.59375 \nz\nM 68.109375 52.203125 \nL 43.40625 52.203125 \nQ 40.671875 45.609375 31.984375 27.6875 \nQ 50.203125 22.5625 51.3125 22.21875 \nQ 61.328125 31.9375 68.109375 52.203125 \nz\n\" id=\"ArialUnicodeMS-22899\"/>\n    </defs>\n    <g transform=\"translate(169.906172 58.784118)scale(0.2 -0.2)\">\n     <use xlink:href=\"#ArialUnicodeMS-22899\"/>\n    </g>\n   </g>\n   <g id=\"text_4\">\n    <!-- 15.68% -->\n    <defs>\n     <path d=\"M 37.5 0 \nL 28.71875 0 \nL 28.71875 56 \nQ 22.125 49.75 11.078125 45.40625 \nL 11.078125 53.90625 \nQ 26.265625 61.1875 31.78125 71.921875 \nL 37.5 71.921875 \nz\n\" id=\"ArialUnicodeMS-49\"/>\n     <path d=\"M 15.828125 43.015625 \nQ 22.359375 47.515625 29.390625 47.515625 \nQ 38.328125 47.515625 44.96875 41.1875 \nQ 51.609375 34.859375 51.609375 24.3125 \nQ 51.609375 13.671875 44.875 6.21875 \nQ 38.140625 -1.21875 27.203125 -1.21875 \nQ 18.265625 -1.21875 11.71875 3.828125 \nQ 5.171875 8.890625 4.203125 18.796875 \nL 13.375 19.484375 \nQ 14.5 12.703125 18.15625 9.34375 \nQ 21.828125 6 27.203125 6 \nQ 33.890625 6 38.03125 11.046875 \nQ 42.1875 16.109375 42.1875 23.484375 \nQ 42.1875 31 37.9375 35.34375 \nQ 33.6875 39.703125 27 39.703125 \nQ 18.5625 39.703125 14.015625 32.8125 \nL 5.71875 33.796875 \nL 12.703125 70.609375 \nL 48.1875 70.609375 \nL 48.1875 62.109375 \nL 19.671875 62.109375 \nz\n\" id=\"ArialUnicodeMS-53\"/>\n     <path d=\"M 13.09375 36.921875 \nQ 19.140625 46.390625 30.328125 46.390625 \nQ 39.109375 46.390625 45.265625 39.890625 \nQ 51.421875 33.40625 51.421875 23.296875 \nQ 51.421875 13.09375 45.28125 5.9375 \nQ 39.15625 -1.21875 29 -1.21875 \nQ 18.703125 -1.21875 11.453125 6.390625 \nQ 4.203125 14.015625 4.203125 33.5 \nQ 4.203125 52.640625 10.765625 62.28125 \nQ 17.328125 71.921875 29.78125 71.921875 \nQ 37.84375 71.921875 43.40625 67.421875 \nQ 48.96875 62.9375 50.203125 54.109375 \nL 41.40625 53.328125 \nQ 39.015625 64.703125 29.296875 64.703125 \nQ 22.5625 64.703125 17.71875 58 \nQ 12.890625 51.3125 12.890625 36.921875 \nz\nM 28.8125 6 \nQ 34.859375 6 38.625 10.875 \nQ 42.390625 15.765625 42.390625 22.703125 \nQ 42.390625 29.640625 38.625 34.171875 \nQ 34.859375 38.71875 28.515625 38.71875 \nQ 22.703125 38.71875 18.5 34.4375 \nQ 14.3125 30.171875 14.3125 23.1875 \nQ 14.3125 16.0625 18.4375 11.03125 \nQ 22.5625 6 28.8125 6 \nz\n\" id=\"ArialUnicodeMS-54\"/>\n    </defs>\n    <g transform=\"translate(112.170341 97.229559)scale(0.2 -0.2)\">\n     <use xlink:href=\"#ArialUnicodeMS-49\"/>\n     <use x=\"55.615234\" xlink:href=\"#ArialUnicodeMS-53\"/>\n     <use x=\"111.230469\" xlink:href=\"#ArialUnicodeMS-46\"/>\n     <use x=\"139.013672\" xlink:href=\"#ArialUnicodeMS-54\"/>\n     <use x=\"194.628906\" xlink:href=\"#ArialUnicodeMS-56\"/>\n     <use x=\"250.244141\" xlink:href=\"#ArialUnicodeMS-37\"/>\n    </g>\n   </g>\n   <g id=\"text_5\">\n    <!-- 小电性别分布 -->\n    <defs>\n     <path d=\"M 54.296875 6.78125 \nQ 54.296875 0.921875 51.046875 -1.5625 \nQ 47.796875 -4.046875 41.15625 -4.046875 \nL 35.0625 -3.90625 \nQ 33.546875 -3.90625 32.328125 -4 \nL 29 4.203125 \nQ 35.203125 3.71875 39.5 3.71875 \nQ 44.390625 3.71875 45.390625 4.390625 \nQ 46.390625 5.078125 46.390625 6.78125 \nL 46.390625 81.78125 \nL 54.296875 81.78125 \nz\nM 92.671875 26.703125 \nL 85.5 23.1875 \nQ 79.5 42.390625 62.796875 57.625 \nL 69.921875 61.375 \nQ 87.25 45.65625 92.671875 26.703125 \nz\nM 34.078125 57.90625 \nQ 27.640625 36.8125 13.28125 22.796875 \nL 7.078125 27.984375 \nQ 21.4375 42.1875 27.390625 61.28125 \nz\n\" id=\"ArialUnicodeMS-23567\"/>\n     <path d=\"M 95.40625 14.984375 \nQ 95.40625 5.859375 93.453125 1.390625 \nQ 91.5 -3.078125 85.40625 -3.078125 \nL 52.59375 -3.078125 \nQ 44.390625 -3.078125 44.390625 6.78125 \nL 44.390625 18.3125 \nL 14.796875 18.3125 \nL 14.796875 67.09375 \nL 44.390625 67.09375 \nL 44.390625 82.421875 \nL 52 82.421875 \nL 52 67.09375 \nL 82.328125 67.09375 \nL 82.328125 18.3125 \nL 52 18.3125 \nL 52 6.203125 \nQ 52 3.8125 54.78125 3.8125 \nL 84.90625 3.8125 \nQ 87.59375 4.640625 87.890625 10.6875 \nL 88.28125 18.5 \nL 95.40625 15.09375 \nz\nM 74.703125 46.6875 \nL 74.703125 59.71875 \nL 52 59.71875 \nL 52 46.6875 \nz\nM 44.390625 46.6875 \nL 44.390625 59.71875 \nL 22.015625 59.71875 \nL 22.015625 46.6875 \nz\nM 74.703125 25.484375 \nL 74.703125 39.40625 \nL 52 39.40625 \nL 52 25.484375 \nz\nM 44.390625 25.484375 \nL 44.390625 39.40625 \nL 22.015625 39.40625 \nL 22.015625 25.484375 \nz\n\" id=\"ArialUnicodeMS-30005\"/>\n     <path d=\"M 95.125 0.09375 \nL 36.28125 0.09375 \nL 36.28125 7.421875 \nL 61.375 7.421875 \nL 61.375 27.78125 \nL 41.703125 27.78125 \nL 41.703125 35.109375 \nL 61.375 35.109375 \nL 61.375 54.109375 \nL 49.515625 54.109375 \nQ 46.53125 45.015625 40.71875 37.109375 \nL 33.015625 40.578125 \nQ 36.921875 44.34375 38.09375 46.921875 \nL 34.421875 45.3125 \nQ 32.46875 54.59375 27.59375 60.40625 \nL 27.59375 -6.78125 \nL 20.015625 -6.78125 \nL 20.015625 82.515625 \nL 27.59375 82.515625 \nL 27.59375 61.375 \nL 33.40625 64.5 \nQ 37.703125 59.578125 40.578125 52.296875 \nQ 44.4375 58.796875 45.21875 74.609375 \nL 52.78125 72.609375 \nQ 52.546875 67.78125 51.421875 61.375 \nL 61.375 61.375 \nL 61.375 82.71875 \nL 69 82.71875 \nL 69 61.375 \nL 89.984375 61.375 \nL 89.984375 54.109375 \nL 69 54.109375 \nL 69 35.109375 \nL 87.015625 35.109375 \nL 87.015625 27.78125 \nL 69 27.78125 \nL 69 7.421875 \nL 95.125 7.421875 \nz\nM 19.390625 60.890625 \nQ 18.359375 46.1875 11.921875 36.625 \nL 5.421875 39.5 \nQ 12.796875 53.21875 12.796875 62.890625 \nz\n\" id=\"ArialUnicodeMS-24615\"/>\n     <path d=\"M 88.28125 1.8125 \nQ 88.28125 -1.609375 86.203125 -4 \nQ 84.125 -6.390625 80.71875 -6.390625 \nL 68.890625 -6.390625 \nL 65.375 1.421875 \nQ 71.6875 1.078125 74.125 1.078125 \nQ 78.375 1.078125 79.546875 1.640625 \nQ 80.71875 2.203125 80.71875 4.59375 \nL 80.71875 82.078125 \nL 88.28125 82.078125 \nz\nM 53.90625 47.515625 \nL 13.8125 47.515625 \nL 13.8125 78.21875 \nL 53.90625 78.21875 \nz\nM 46.296875 54.78125 \nL 46.296875 70.90625 \nL 21.390625 70.90625 \nL 21.390625 54.78125 \nz\nM 72.125 14.203125 \nL 64.203125 14.203125 \nL 64.203125 72.515625 \nL 72.125 72.515625 \nz\nM 56.78125 36.1875 \nQ 56.34375 19.34375 54.171875 7.28125 \nQ 52 -4.78125 40.1875 -4.78125 \nQ 35.9375 -4.78125 30.609375 -3.21875 \nL 28.8125 5.328125 \nL 37.5 3.078125 \nQ 38.875 2.78125 40.046875 2.78125 \nQ 43.40625 2.78125 44.8125 5.171875 \nQ 46.234375 7.5625 47.1875 13.515625 \nQ 48.140625 19.484375 48.390625 28.609375 \nL 33.203125 28.609375 \nQ 32.171875 18.5 26.796875 7.96875 \nQ 21.4375 -2.546875 13.1875 -6.984375 \nL 6.984375 -1.21875 \nQ 22.171875 7.125 25.203125 28.609375 \nL 9.078125 28.609375 \nL 9.078125 36.1875 \nL 26.421875 36.1875 \nQ 27.046875 40.140625 26.90625 46.578125 \nL 34.625 45.609375 \nQ 34.328125 38.8125 33.890625 36.1875 \nz\n\" id=\"ArialUnicodeMS-21035\"/>\n     <path d=\"M 93.609375 46.921875 \nL 88.8125 39.890625 \nQ 75.875 47.515625 69.546875 55.21875 \nQ 63.234375 62.9375 59.078125 75.484375 \nL 67.484375 77.875 \nQ 68.359375 68.0625 75.453125 59.765625 \nQ 82.5625 51.46875 93.609375 46.921875 \nz\nM 40.828125 73.390625 \nQ 33.890625 54.4375 12.5 39.796875 \nL 6.5 45.609375 \nQ 27.046875 58.453125 34.1875 77.09375 \nz\nM 76.125 45.796875 \nQ 75.6875 30.5625 73.90625 17.0625 \nQ 72.125 3.5625 69.21875 0.109375 \nQ 66.3125 -3.328125 60.109375 -3.328125 \nQ 54.203125 -3.328125 45.21875 -1.21875 \nL 42.921875 7.515625 \nQ 54.734375 4.203125 59.90625 4.203125 \nQ 62.703125 4.203125 64.5 9.984375 \nQ 66.3125 15.765625 67.828125 38.484375 \nL 49.03125 38.484375 \nQ 44.828125 4.109375 12.984375 -6.890625 \nL 8.203125 -0.484375 \nQ 37.0625 7.46875 41.109375 38.484375 \nL 24.3125 38.484375 \nL 24.3125 45.796875 \nz\n\" id=\"ArialUnicodeMS-20998\"/>\n     <path d=\"M 92 61.625 \nL 40.578125 61.625 \nQ 35.9375 50.25 32.078125 44.390625 \nL 51.125 44.390625 \nL 51.125 57.078125 \nL 58.6875 57.078125 \nL 58.6875 44.390625 \nL 83.40625 44.390625 \nL 83.40625 14.703125 \nQ 83.40625 5.078125 76.21875 5.078125 \nL 67.09375 5.078125 \nL 64.703125 12.796875 \nQ 70.015625 12.109375 72.3125 12.109375 \nQ 75.78125 12.109375 75.78125 14.703125 \nL 75.78125 37.109375 \nL 58.6875 37.109375 \nL 58.6875 -6.6875 \nL 51.125 -6.6875 \nL 51.125 37.109375 \nL 36.28125 37.109375 \nL 36.28125 2.390625 \nL 28.71875 2.390625 \nL 28.515625 39.59375 \nQ 23.6875 32.125 12.40625 20.125 \nL 5.8125 24.703125 \nQ 27.046875 45.609375 32.71875 61.625 \nL 10.296875 61.625 \nL 10.296875 68.890625 \nL 35.40625 68.890625 \nQ 37.15625 73.53125 39.890625 83.5 \nL 47.015625 81.296875 \nQ 43.65625 69.4375 43.40625 68.890625 \nL 92 68.890625 \nz\n\" id=\"ArialUnicodeMS-24067\"/>\n    </defs>\n    <g style=\"fill:#262626;\" transform=\"translate(86.262636 15.789375)scale(0.12 -0.12)\">\n     <use xlink:href=\"#ArialUnicodeMS-23567\"/>\n     <use x=\"100\" xlink:href=\"#ArialUnicodeMS-30005\"/>\n     <use x=\"200\" xlink:href=\"#ArialUnicodeMS-24615\"/>\n     <use x=\"300\" xlink:href=\"#ArialUnicodeMS-21035\"/>\n     <use x=\"400\" xlink:href=\"#ArialUnicodeMS-20998\"/>\n     <use x=\"500\" xlink:href=\"#ArialUnicodeMS-24067\"/>\n    </g>\n   </g>\n  </g>\n </g>\n</svg>\n",
      "image/png": "[encoded data removed]"
     },
     "metadata": {}
    }
   ],
   "source": [
    "labels = '男','女'\n",
    " # sizes = [10,10,10,70]\n",
    "sizes = [usersex.id]\n",
    "#explode = (0,0,0.1,0)\n",
    "#colors = ['r','g','y','b']\n",
    " \n",
    "plt.pie(sizes,labels=labels,autopct='%1.2f%%',\n",
    "         pctdistance=0.4,shadow=True,labeldistance=0.8,startangle=30,radius=1.3,\n",
    "         counterclock=False,textprops={'fontsize':20,'color':'black'})\n",
    "plt.title('小电性别分布')         \n",
    "plt.show()  # 可视化呈现"
   ]
  },
  {
   "cell_type": "code",
   "execution_count": 18,
   "metadata": {},
   "outputs": [
    {
     "output_type": "display_data",
     "data": {
      "text/plain": "<Figure size 432x288 with 1 Axes>",
      "image/svg+xml": "<?xml version=\"1.0\" encoding=\"utf-8\" standalone=\"no\"?>\n<!DOCTYPE svg PUBLIC \"-//W3C//DTD SVG 1.1//EN\"\n  \"http://www.w3.org/Graphics/SVG/1.1/DTD/svg11.dtd\">\n<!-- Created with matplotlib (https://matplotlib.org/) -->\n<svg height=\"248.518125pt\" version=\"1.1\" viewBox=\"0 0 370.942187 248.518125\" width=\"370.942187pt\" xmlns=\"http://www.w3.org/2000/svg\" xmlns:xlink=\"http://www.w3.org/1999/xlink\">\n <defs>\n  <style type=\"text/css\">\n*{stroke-linecap:butt;stroke-linejoin:round;}\n  </style>\n </defs>\n <g id=\"figure_1\">\n  <g id=\"patch_1\">\n   <path d=\"M 0 248.518125 \nL 370.942187 248.518125 \nL 370.942187 0 \nL 0 0 \nz\n\" style=\"fill:none;\"/>\n  </g>\n  <g id=\"axes_1\">\n   <g id=\"patch_2\">\n    <path d=\"M 28.942188 224.64 \nL 363.742188 224.64 \nL 363.742188 7.2 \nL 28.942188 7.2 \nz\n\" style=\"fill:#ffffff;\"/>\n   </g>\n   <g id=\"matplotlib.axis_1\">\n    <g id=\"xtick_1\">\n     <g id=\"line2d_1\">\n      <defs>\n       <path d=\"M 0 0 \nL 0 3.5 \n\" id=\"md3342da133\" style=\"stroke:#000000;stroke-width:0.8;\"/>\n      </defs>\n      <g>\n       <use style=\"stroke:#000000;stroke-width:0.8;\" x=\"70.792188\" xlink:href=\"#md3342da133\" y=\"224.64\"/>\n      </g>\n     </g>\n     <g id=\"text_1\">\n      <!-- A -->\n      <defs>\n       <path d=\"M 34.1875 63.1875 \nL 20.796875 26.90625 \nL 47.609375 26.90625 \nz\nM 28.609375 72.90625 \nL 39.796875 72.90625 \nL 67.578125 0 \nL 57.328125 0 \nL 50.6875 18.703125 \nL 17.828125 18.703125 \nL 11.1875 0 \nL 0.78125 0 \nz\n\" id=\"DejaVuSans-65\"/>\n      </defs>\n      <g transform=\"translate(67.371875 239.238437)scale(0.1 -0.1)\">\n       <use xlink:href=\"#DejaVuSans-65\"/>\n      </g>\n     </g>\n    </g>\n    <g id=\"xtick_2\">\n     <g id=\"line2d_2\">\n      <g>\n       <use style=\"stroke:#000000;stroke-width:0.8;\" x=\"154.492188\" xlink:href=\"#md3342da133\" y=\"224.64\"/>\n      </g>\n     </g>\n     <g id=\"text_2\">\n      <!-- B -->\n      <defs>\n       <path d=\"M 19.671875 34.8125 \nL 19.671875 8.109375 \nL 35.5 8.109375 \nQ 43.453125 8.109375 47.28125 11.40625 \nQ 51.125 14.703125 51.125 21.484375 \nQ 51.125 28.328125 47.28125 31.5625 \nQ 43.453125 34.8125 35.5 34.8125 \nz\nM 19.671875 64.796875 \nL 19.671875 42.828125 \nL 34.28125 42.828125 \nQ 41.5 42.828125 45.03125 45.53125 \nQ 48.578125 48.25 48.578125 53.8125 \nQ 48.578125 59.328125 45.03125 62.0625 \nQ 41.5 64.796875 34.28125 64.796875 \nz\nM 9.8125 72.90625 \nL 35.015625 72.90625 \nQ 46.296875 72.90625 52.390625 68.21875 \nQ 58.5 63.53125 58.5 54.890625 \nQ 58.5 48.1875 55.375 44.234375 \nQ 52.25 40.28125 46.1875 39.3125 \nQ 53.46875 37.75 57.5 32.78125 \nQ 61.53125 27.828125 61.53125 20.40625 \nQ 61.53125 10.640625 54.890625 5.3125 \nQ 48.25 0 35.984375 0 \nL 9.8125 0 \nz\n\" id=\"DejaVuSans-66\"/>\n      </defs>\n      <g transform=\"translate(151.061719 239.238437)scale(0.1 -0.1)\">\n       <use xlink:href=\"#DejaVuSans-66\"/>\n      </g>\n     </g>\n    </g>\n    <g id=\"xtick_3\">\n     <g id=\"line2d_3\">\n      <g>\n       <use style=\"stroke:#000000;stroke-width:0.8;\" x=\"238.192188\" xlink:href=\"#md3342da133\" y=\"224.64\"/>\n      </g>\n     </g>\n     <g id=\"text_3\">\n      <!-- C -->\n      <defs>\n       <path d=\"M 64.40625 67.28125 \nL 64.40625 56.890625 \nQ 59.421875 61.53125 53.78125 63.8125 \nQ 48.140625 66.109375 41.796875 66.109375 \nQ 29.296875 66.109375 22.65625 58.46875 \nQ 16.015625 50.828125 16.015625 36.375 \nQ 16.015625 21.96875 22.65625 14.328125 \nQ 29.296875 6.6875 41.796875 6.6875 \nQ 48.140625 6.6875 53.78125 8.984375 \nQ 59.421875 11.28125 64.40625 15.921875 \nL 64.40625 5.609375 \nQ 59.234375 2.09375 53.4375 0.328125 \nQ 47.65625 -1.421875 41.21875 -1.421875 \nQ 24.65625 -1.421875 15.125 8.703125 \nQ 5.609375 18.84375 5.609375 36.375 \nQ 5.609375 53.953125 15.125 64.078125 \nQ 24.65625 74.21875 41.21875 74.21875 \nQ 47.75 74.21875 53.53125 72.484375 \nQ 59.328125 70.75 64.40625 67.28125 \nz\n\" id=\"DejaVuSans-67\"/>\n      </defs>\n      <g transform=\"translate(234.700781 239.238437)scale(0.1 -0.1)\">\n       <use xlink:href=\"#DejaVuSans-67\"/>\n      </g>\n     </g>\n    </g>\n    <g id=\"xtick_4\">\n     <g id=\"line2d_4\">\n      <g>\n       <use style=\"stroke:#000000;stroke-width:0.8;\" x=\"321.892188\" xlink:href=\"#md3342da133\" y=\"224.64\"/>\n      </g>\n     </g>\n     <g id=\"text_4\">\n      <!-- D -->\n      <defs>\n       <path d=\"M 19.671875 64.796875 \nL 19.671875 8.109375 \nL 31.59375 8.109375 \nQ 46.6875 8.109375 53.6875 14.9375 \nQ 60.6875 21.78125 60.6875 36.53125 \nQ 60.6875 51.171875 53.6875 57.984375 \nQ 46.6875 64.796875 31.59375 64.796875 \nz\nM 9.8125 72.90625 \nL 30.078125 72.90625 \nQ 51.265625 72.90625 61.171875 64.09375 \nQ 71.09375 55.28125 71.09375 36.53125 \nQ 71.09375 17.671875 61.125 8.828125 \nQ 51.171875 0 30.078125 0 \nL 9.8125 0 \nz\n\" id=\"DejaVuSans-68\"/>\n      </defs>\n      <g transform=\"translate(318.042188 239.238437)scale(0.1 -0.1)\">\n       <use xlink:href=\"#DejaVuSans-68\"/>\n      </g>\n     </g>\n    </g>\n   </g>\n   <g id=\"matplotlib.axis_2\">\n    <g id=\"ytick_1\">\n     <g id=\"line2d_5\">\n      <defs>\n       <path d=\"M 0 0 \nL -3.5 0 \n\" id=\"maeb23e7d64\" style=\"stroke:#000000;stroke-width:0.8;\"/>\n      </defs>\n      <g>\n       <use style=\"stroke:#000000;stroke-width:0.8;\" x=\"28.942188\" xlink:href=\"#maeb23e7d64\" y=\"208.243619\"/>\n      </g>\n     </g>\n     <g id=\"text_5\">\n      <!-- −2 -->\n      <defs>\n       <path d=\"M 10.59375 35.5 \nL 73.1875 35.5 \nL 73.1875 27.203125 \nL 10.59375 27.203125 \nz\n\" id=\"DejaVuSans-8722\"/>\n       <path d=\"M 19.1875 8.296875 \nL 53.609375 8.296875 \nL 53.609375 0 \nL 7.328125 0 \nL 7.328125 8.296875 \nQ 12.9375 14.109375 22.625 23.890625 \nQ 32.328125 33.6875 34.8125 36.53125 \nQ 39.546875 41.84375 41.421875 45.53125 \nQ 43.3125 49.21875 43.3125 52.78125 \nQ 43.3125 58.59375 39.234375 62.25 \nQ 35.15625 65.921875 28.609375 65.921875 \nQ 23.96875 65.921875 18.8125 64.3125 \nQ 13.671875 62.703125 7.8125 59.421875 \nL 7.8125 69.390625 \nQ 13.765625 71.78125 18.9375 73 \nQ 24.125 74.21875 28.421875 74.21875 \nQ 39.75 74.21875 46.484375 68.546875 \nQ 53.21875 62.890625 53.21875 53.421875 \nQ 53.21875 48.921875 51.53125 44.890625 \nQ 49.859375 40.875 45.40625 35.40625 \nQ 44.1875 33.984375 37.640625 27.21875 \nQ 31.109375 20.453125 19.1875 8.296875 \nz\n\" id=\"DejaVuSans-50\"/>\n      </defs>\n      <g transform=\"translate(7.2 212.042837)scale(0.1 -0.1)\">\n       <use xlink:href=\"#DejaVuSans-8722\"/>\n       <use x=\"83.789062\" xlink:href=\"#DejaVuSans-50\"/>\n      </g>\n     </g>\n    </g>\n    <g id=\"ytick_2\">\n     <g id=\"line2d_6\">\n      <g>\n       <use style=\"stroke:#000000;stroke-width:0.8;\" x=\"28.942188\" xlink:href=\"#maeb23e7d64\" y=\"170.164407\"/>\n      </g>\n     </g>\n     <g id=\"text_6\">\n      <!-- −1 -->\n      <defs>\n       <path d=\"M 12.40625 8.296875 \nL 28.515625 8.296875 \nL 28.515625 63.921875 \nL 10.984375 60.40625 \nL 10.984375 69.390625 \nL 28.421875 72.90625 \nL 38.28125 72.90625 \nL 38.28125 8.296875 \nL 54.390625 8.296875 \nL 54.390625 0 \nL 12.40625 0 \nz\n\" id=\"DejaVuSans-49\"/>\n      </defs>\n      <g transform=\"translate(7.2 173.963626)scale(0.1 -0.1)\">\n       <use xlink:href=\"#DejaVuSans-8722\"/>\n       <use x=\"83.789062\" xlink:href=\"#DejaVuSans-49\"/>\n      </g>\n     </g>\n    </g>\n    <g id=\"ytick_3\">\n     <g id=\"line2d_7\">\n      <g>\n       <use style=\"stroke:#000000;stroke-width:0.8;\" x=\"28.942188\" xlink:href=\"#maeb23e7d64\" y=\"132.085196\"/>\n      </g>\n     </g>\n     <g id=\"text_7\">\n      <!-- 0 -->\n      <defs>\n       <path d=\"M 31.78125 66.40625 \nQ 24.171875 66.40625 20.328125 58.90625 \nQ 16.5 51.421875 16.5 36.375 \nQ 16.5 21.390625 20.328125 13.890625 \nQ 24.171875 6.390625 31.78125 6.390625 \nQ 39.453125 6.390625 43.28125 13.890625 \nQ 47.125 21.390625 47.125 36.375 \nQ 47.125 51.421875 43.28125 58.90625 \nQ 39.453125 66.40625 31.78125 66.40625 \nz\nM 31.78125 74.21875 \nQ 44.046875 74.21875 50.515625 64.515625 \nQ 56.984375 54.828125 56.984375 36.375 \nQ 56.984375 17.96875 50.515625 8.265625 \nQ 44.046875 -1.421875 31.78125 -1.421875 \nQ 19.53125 -1.421875 13.0625 8.265625 \nQ 6.59375 17.96875 6.59375 36.375 \nQ 6.59375 54.828125 13.0625 64.515625 \nQ 19.53125 74.21875 31.78125 74.21875 \nz\n\" id=\"DejaVuSans-48\"/>\n      </defs>\n      <g transform=\"translate(15.579688 135.884414)scale(0.1 -0.1)\">\n       <use xlink:href=\"#DejaVuSans-48\"/>\n      </g>\n     </g>\n    </g>\n    <g id=\"ytick_4\">\n     <g id=\"line2d_8\">\n      <g>\n       <use style=\"stroke:#000000;stroke-width:0.8;\" x=\"28.942188\" xlink:href=\"#maeb23e7d64\" y=\"94.005984\"/>\n      </g>\n     </g>\n     <g id=\"text_8\">\n      <!-- 1 -->\n      <g transform=\"translate(15.579688 97.805203)scale(0.1 -0.1)\">\n       <use xlink:href=\"#DejaVuSans-49\"/>\n      </g>\n     </g>\n    </g>\n    <g id=\"ytick_5\">\n     <g id=\"line2d_9\">\n      <g>\n       <use style=\"stroke:#000000;stroke-width:0.8;\" x=\"28.942188\" xlink:href=\"#maeb23e7d64\" y=\"55.926773\"/>\n      </g>\n     </g>\n     <g id=\"text_9\">\n      <!-- 2 -->\n      <g transform=\"translate(15.579688 59.725992)scale(0.1 -0.1)\">\n       <use xlink:href=\"#DejaVuSans-50\"/>\n      </g>\n     </g>\n    </g>\n    <g id=\"ytick_6\">\n     <g id=\"line2d_10\">\n      <g>\n       <use style=\"stroke:#000000;stroke-width:0.8;\" x=\"28.942188\" xlink:href=\"#maeb23e7d64\" y=\"17.847561\"/>\n      </g>\n     </g>\n     <g id=\"text_10\">\n      <!-- 3 -->\n      <defs>\n       <path d=\"M 40.578125 39.3125 \nQ 47.65625 37.796875 51.625 33 \nQ 55.609375 28.21875 55.609375 21.1875 \nQ 55.609375 10.40625 48.1875 4.484375 \nQ 40.765625 -1.421875 27.09375 -1.421875 \nQ 22.515625 -1.421875 17.65625 -0.515625 \nQ 12.796875 0.390625 7.625 2.203125 \nL 7.625 11.71875 \nQ 11.71875 9.328125 16.59375 8.109375 \nQ 21.484375 6.890625 26.8125 6.890625 \nQ 36.078125 6.890625 40.9375 10.546875 \nQ 45.796875 14.203125 45.796875 21.1875 \nQ 45.796875 27.640625 41.28125 31.265625 \nQ 36.765625 34.90625 28.71875 34.90625 \nL 20.21875 34.90625 \nL 20.21875 43.015625 \nL 29.109375 43.015625 \nQ 36.375 43.015625 40.234375 45.921875 \nQ 44.09375 48.828125 44.09375 54.296875 \nQ 44.09375 59.90625 40.109375 62.90625 \nQ 36.140625 65.921875 28.71875 65.921875 \nQ 24.65625 65.921875 20.015625 65.03125 \nQ 15.375 64.15625 9.8125 62.3125 \nL 9.8125 71.09375 \nQ 15.4375 72.65625 20.34375 73.4375 \nQ 25.25 74.21875 29.59375 74.21875 \nQ 40.828125 74.21875 47.359375 69.109375 \nQ 53.90625 64.015625 53.90625 55.328125 \nQ 53.90625 49.265625 50.4375 45.09375 \nQ 46.96875 40.921875 40.578125 39.3125 \nz\n\" id=\"DejaVuSans-51\"/>\n      </defs>\n      <g transform=\"translate(15.579688 21.64678)scale(0.1 -0.1)\">\n       <use xlink:href=\"#DejaVuSans-51\"/>\n      </g>\n     </g>\n    </g>\n   </g>\n   <g id=\"line2d_11\">\n    <path clip-path=\"url(#p6f6314f04e)\" d=\"M 51.959688 177.033306 \nL 89.624688 177.033306 \nL 89.624688 121.460581 \nL 51.959688 121.460581 \nL 51.959688 177.033306 \n\" style=\"fill:none;stroke:#000000;stroke-linecap:square;\"/>\n   </g>\n   <g id=\"line2d_12\">\n    <path clip-path=\"url(#p6f6314f04e)\" d=\"M 70.792188 177.033306 \nL 70.792188 214.756364 \n\" style=\"fill:none;stroke:#000000;stroke-linecap:square;\"/>\n   </g>\n   <g id=\"line2d_13\">\n    <path clip-path=\"url(#p6f6314f04e)\" d=\"M 70.792188 121.460581 \nL 70.792188 98.548506 \n\" style=\"fill:none;stroke:#000000;stroke-linecap:square;\"/>\n   </g>\n   <g id=\"line2d_14\">\n    <path clip-path=\"url(#p6f6314f04e)\" d=\"M 61.375937 214.756364 \nL 80.208438 214.756364 \n\" style=\"fill:none;stroke:#000000;stroke-linecap:square;\"/>\n   </g>\n   <g id=\"line2d_15\">\n    <path clip-path=\"url(#p6f6314f04e)\" d=\"M 61.375937 98.548506 \nL 80.208438 98.548506 \n\" style=\"fill:none;stroke:#000000;stroke-linecap:square;\"/>\n   </g>\n   <g id=\"line2d_16\"/>\n   <g id=\"line2d_17\">\n    <path clip-path=\"url(#p6f6314f04e)\" d=\"M 135.659687 166.078552 \nL 173.324688 166.078552 \nL 173.324688 119.759654 \nL 135.659687 119.759654 \nL 135.659687 166.078552 \n\" style=\"fill:none;stroke:#000000;stroke-linecap:square;\"/>\n   </g>\n   <g id=\"line2d_18\">\n    <path clip-path=\"url(#p6f6314f04e)\" d=\"M 154.492188 166.078552 \nL 154.492188 204.013718 \n\" style=\"fill:none;stroke:#000000;stroke-linecap:square;\"/>\n   </g>\n   <g id=\"line2d_19\">\n    <path clip-path=\"url(#p6f6314f04e)\" d=\"M 154.492188 119.759654 \nL 154.492188 101.086676 \n\" style=\"fill:none;stroke:#000000;stroke-linecap:square;\"/>\n   </g>\n   <g id=\"line2d_20\">\n    <path clip-path=\"url(#p6f6314f04e)\" d=\"M 145.075938 204.013718 \nL 163.908437 204.013718 \n\" style=\"fill:none;stroke:#000000;stroke-linecap:square;\"/>\n   </g>\n   <g id=\"line2d_21\">\n    <path clip-path=\"url(#p6f6314f04e)\" d=\"M 145.075938 101.086676 \nL 163.908437 101.086676 \n\" style=\"fill:none;stroke:#000000;stroke-linecap:square;\"/>\n   </g>\n   <g id=\"line2d_22\">\n    <defs>\n     <path d=\"M 0 3 \nC 0.795609 3 1.55874 2.683901 2.12132 2.12132 \nC 2.683901 1.55874 3 0.795609 3 0 \nC 3 -0.795609 2.683901 -1.55874 2.12132 -2.12132 \nC 1.55874 -2.683901 0.795609 -3 0 -3 \nC -0.795609 -3 -1.55874 -2.683901 -2.12132 -2.12132 \nC -2.683901 -1.55874 -3 -0.795609 -3 0 \nC -3 0.795609 -2.683901 1.55874 -2.12132 2.12132 \nC -1.55874 2.683901 -0.795609 3 0 3 \nz\n\" id=\"mfe3bfa25b9\" style=\"stroke:#000000;\"/>\n    </defs>\n    <g clip-path=\"url(#p6f6314f04e)\">\n     <use style=\"fill-opacity:0;stroke:#000000;\" x=\"154.492188\" xlink:href=\"#mfe3bfa25b9\" y=\"50.215578\"/>\n    </g>\n   </g>\n   <g id=\"line2d_23\">\n    <path clip-path=\"url(#p6f6314f04e)\" d=\"M 219.359688 156.885055 \nL 257.024688 156.885055 \nL 257.024688 118.018336 \nL 219.359688 118.018336 \nL 219.359688 156.885055 \n\" style=\"fill:none;stroke:#000000;stroke-linecap:square;\"/>\n   </g>\n   <g id=\"line2d_24\">\n    <path clip-path=\"url(#p6f6314f04e)\" d=\"M 238.192188 156.885055 \nL 238.192188 213.338858 \n\" style=\"fill:none;stroke:#000000;stroke-linecap:square;\"/>\n   </g>\n   <g id=\"line2d_25\">\n    <path clip-path=\"url(#p6f6314f04e)\" d=\"M 238.192188 118.018336 \nL 238.192188 77.198854 \n\" style=\"fill:none;stroke:#000000;stroke-linecap:square;\"/>\n   </g>\n   <g id=\"line2d_26\">\n    <path clip-path=\"url(#p6f6314f04e)\" d=\"M 228.775938 213.338858 \nL 247.608438 213.338858 \n\" style=\"fill:none;stroke:#000000;stroke-linecap:square;\"/>\n   </g>\n   <g id=\"line2d_27\">\n    <path clip-path=\"url(#p6f6314f04e)\" d=\"M 228.775938 77.198854 \nL 247.608438 77.198854 \n\" style=\"fill:none;stroke:#000000;stroke-linecap:square;\"/>\n   </g>\n   <g id=\"line2d_28\"/>\n   <g id=\"line2d_29\">\n    <path clip-path=\"url(#p6f6314f04e)\" d=\"M 303.059688 142.415286 \nL 340.724688 142.415286 \nL 340.724688 114.452279 \nL 303.059688 114.452279 \nL 303.059688 142.415286 \n\" style=\"fill:none;stroke:#000000;stroke-linecap:square;\"/>\n   </g>\n   <g id=\"line2d_30\">\n    <path clip-path=\"url(#p6f6314f04e)\" d=\"M 321.892188 142.415286 \nL 321.892188 161.625319 \n\" style=\"fill:none;stroke:#000000;stroke-linecap:square;\"/>\n   </g>\n   <g id=\"line2d_31\">\n    <path clip-path=\"url(#p6f6314f04e)\" d=\"M 321.892188 114.452279 \nL 321.892188 101.915598 \n\" style=\"fill:none;stroke:#000000;stroke-linecap:square;\"/>\n   </g>\n   <g id=\"line2d_32\">\n    <path clip-path=\"url(#p6f6314f04e)\" d=\"M 312.475938 161.625319 \nL 331.308438 161.625319 \n\" style=\"fill:none;stroke:#000000;stroke-linecap:square;\"/>\n   </g>\n   <g id=\"line2d_33\">\n    <path clip-path=\"url(#p6f6314f04e)\" d=\"M 312.475938 101.915598 \nL 331.308438 101.915598 \n\" style=\"fill:none;stroke:#000000;stroke-linecap:square;\"/>\n   </g>\n   <g id=\"line2d_34\">\n    <g clip-path=\"url(#p6f6314f04e)\">\n     <use style=\"fill-opacity:0;stroke:#000000;\" x=\"321.892188\" xlink:href=\"#mfe3bfa25b9\" y=\"17.083636\"/>\n    </g>\n   </g>\n   <g id=\"line2d_35\">\n    <path clip-path=\"url(#p6f6314f04e)\" d=\"M 51.959688 158.845521 \nL 89.624688 158.845521 \n\" style=\"fill:none;stroke:#ff7f0e;stroke-linecap:square;\"/>\n   </g>\n   <g id=\"line2d_36\">\n    <path clip-path=\"url(#p6f6314f04e)\" d=\"M 135.659687 142.334557 \nL 173.324688 142.334557 \n\" style=\"fill:none;stroke:#ff7f0e;stroke-linecap:square;\"/>\n   </g>\n   <g id=\"line2d_37\">\n    <path clip-path=\"url(#p6f6314f04e)\" d=\"M 219.359688 131.350124 \nL 257.024688 131.350124 \n\" style=\"fill:none;stroke:#ff7f0e;stroke-linecap:square;\"/>\n   </g>\n   <g id=\"line2d_38\">\n    <path clip-path=\"url(#p6f6314f04e)\" d=\"M 303.059688 133.637987 \nL 340.724688 133.637987 \n\" style=\"fill:none;stroke:#ff7f0e;stroke-linecap:square;\"/>\n   </g>\n   <g id=\"patch_3\">\n    <path d=\"M 28.942188 224.64 \nL 28.942188 7.2 \n\" style=\"fill:none;stroke:#000000;stroke-linecap:square;stroke-linejoin:miter;stroke-width:0.8;\"/>\n   </g>\n   <g id=\"patch_4\">\n    <path d=\"M 363.742188 224.64 \nL 363.742188 7.2 \n\" style=\"fill:none;stroke:#000000;stroke-linecap:square;stroke-linejoin:miter;stroke-width:0.8;\"/>\n   </g>\n   <g id=\"patch_5\">\n    <path d=\"M 28.942188 224.64 \nL 363.742188 224.64 \n\" style=\"fill:none;stroke:#000000;stroke-linecap:square;stroke-linejoin:miter;stroke-width:0.8;\"/>\n   </g>\n   <g id=\"patch_6\">\n    <path d=\"M 28.942188 7.2 \nL 363.742188 7.2 \n\" style=\"fill:none;stroke:#000000;stroke-linecap:square;stroke-linejoin:miter;stroke-width:0.8;\"/>\n   </g>\n  </g>\n </g>\n <defs>\n  <clipPath id=\"p6f6314f04e\">\n   <rect height=\"217.44\" width=\"334.8\" x=\"28.942188\" y=\"7.2\"/>\n  </clipPath>\n </defs>\n</svg>\n",
      "image/png": "[encoded data removed]"
     },
     "metadata": {
      "needs_background": "light"
     }
    },
    {
     "output_type": "error",
     "ename": "NameError",
     "evalue": "name 'pd' is not defined",
     "traceback": [
      "\u001b[0;31m---------------------------------------------------------------------------\u001b[0m",
      "\u001b[0;31mNameError\u001b[0m                                 Traceback (most recent call last)",
      "\u001b[0;32m<ipython-input-18-05a84a035763>\u001b[0m in \u001b[0;36m<module>\u001b[0;34m\u001b[0m\n\u001b[1;32m      6\u001b[0m \u001b[0mplt\u001b[0m\u001b[0;34m.\u001b[0m\u001b[0mshow\u001b[0m\u001b[0;34m(\u001b[0m\u001b[0;34m)\u001b[0m\u001b[0;34m\u001b[0m\u001b[0;34m\u001b[0m\u001b[0m\n\u001b[1;32m      7\u001b[0m \u001b[0;31m# 用Seaborn画箱线图d\u001b[0m\u001b[0;34m\u001b[0m\u001b[0;34m\u001b[0m\u001b[0;34m\u001b[0m\u001b[0m\n\u001b[0;32m----> 8\u001b[0;31m \u001b[0mf\u001b[0m \u001b[0;34m=\u001b[0m \u001b[0mpd\u001b[0m\u001b[0;34m.\u001b[0m\u001b[0mDataFrame\u001b[0m\u001b[0;34m(\u001b[0m\u001b[0mdata\u001b[0m\u001b[0;34m,\u001b[0m \u001b[0mcolumns\u001b[0m\u001b[0;34m=\u001b[0m\u001b[0mlables\u001b[0m\u001b[0;34m)\u001b[0m\u001b[0;34m\u001b[0m\u001b[0;34m\u001b[0m\u001b[0m\n\u001b[0m\u001b[1;32m      9\u001b[0m \u001b[0msns\u001b[0m\u001b[0;34m.\u001b[0m\u001b[0mboxplot\u001b[0m\u001b[0;34m(\u001b[0m\u001b[0;34m)\u001b[0m\u001b[0;34m\u001b[0m\u001b[0;34m\u001b[0m\u001b[0m\n\u001b[1;32m     10\u001b[0m \u001b[0msns\u001b[0m\u001b[0;34m.\u001b[0m\u001b[0mboxplot\u001b[0m\u001b[0;34m(\u001b[0m\u001b[0mdata\u001b[0m\u001b[0;34m=\u001b[0m\u001b[0mdata\u001b[0m\u001b[0;34m)\u001b[0m\u001b[0;34m\u001b[0m\u001b[0;34m\u001b[0m\u001b[0m\n",
      "\u001b[0;31mNameError\u001b[0m: name 'pd' is not defined"
     ]
    }
   ],
   "source": [
    "import numpy as np\n",
    "data=np.random.normal(size=(10,4)) \n",
    "lables = ['A','B','C','D']\n",
    "# 用Matplotlib画箱线图\n",
    "plt.boxplot(data,labels=lables)\n",
    "plt.show()\n",
    "# 用Seaborn画箱线图d\n",
    "f = pd.DataFrame(data, columns=lables)\n",
    "sns.boxplot()\n",
    "sns.boxplot(data=data)\n",
    "plt.show()\n"
   ]
  },
  {
   "cell_type": "code",
   "execution_count": 7,
   "metadata": {},
   "outputs": [
    {
     "output_type": "display_data",
     "data": {
      "text/plain": "<Figure size 432x288 with 1 Axes>",
      "image/svg+xml": "<?xml version=\"1.0\" encoding=\"utf-8\" standalone=\"no\"?>\n<!DOCTYPE svg PUBLIC \"-//W3C//DTD SVG 1.1//EN\"\n  \"http://www.w3.org/Graphics/SVG/1.1/DTD/svg11.dtd\">\n<!-- Created with matplotlib (https://matplotlib.org/) -->\n<svg height=\"248.518125pt\" version=\"1.1\" viewBox=\"0 0 368.925 248.518125\" width=\"368.925pt\" xmlns=\"http://www.w3.org/2000/svg\" xmlns:xlink=\"http://www.w3.org/1999/xlink\">\n <defs>\n  <style type=\"text/css\">\n*{stroke-linecap:butt;stroke-linejoin:round;}\n  </style>\n </defs>\n <g id=\"figure_1\">\n  <g id=\"patch_1\">\n   <path d=\"M -0 248.518125 \nL 368.925 248.518125 \nL 368.925 0 \nL -0 0 \nz\n\" style=\"fill:none;\"/>\n  </g>\n  <g id=\"axes_1\">\n   <g id=\"patch_2\">\n    <path d=\"M 26.925 224.64 \nL 361.725 224.64 \nL 361.725 7.2 \nL 26.925 7.2 \nz\n\" style=\"fill:#ffffff;\"/>\n   </g>\n   <g id=\"patch_3\">\n    <path clip-path=\"url(#p0f79194d8f)\" d=\"M 42.143182 224.64 \nL 92.870455 224.64 \nL 92.870455 138.354286 \nL 42.143182 138.354286 \nz\n\" style=\"fill:#1f77b4;\"/>\n   </g>\n   <g id=\"patch_4\">\n    <path clip-path=\"url(#p0f79194d8f)\" d=\"M 105.552273 224.64 \nL 156.279545 224.64 \nL 156.279545 155.611429 \nL 105.552273 155.611429 \nz\n\" style=\"fill:#1f77b4;\"/>\n   </g>\n   <g id=\"patch_5\">\n    <path clip-path=\"url(#p0f79194d8f)\" d=\"M 168.961364 224.64 \nL 219.688636 224.64 \nL 219.688636 86.582857 \nL 168.961364 86.582857 \nz\n\" style=\"fill:#1f77b4;\"/>\n   </g>\n   <g id=\"patch_6\">\n    <path clip-path=\"url(#p0f79194d8f)\" d=\"M 232.370455 224.64 \nL 283.097727 224.64 \nL 283.097727 17.554286 \nL 232.370455 17.554286 \nz\n\" style=\"fill:#1f77b4;\"/>\n   </g>\n   <g id=\"patch_7\">\n    <path clip-path=\"url(#p0f79194d8f)\" d=\"M 295.779545 224.64 \nL 346.506818 224.64 \nL 346.506818 103.84 \nL 295.779545 103.84 \nz\n\" style=\"fill:#1f77b4;\"/>\n   </g>\n   <g id=\"matplotlib.axis_1\">\n    <g id=\"xtick_1\">\n     <g id=\"line2d_1\">\n      <defs>\n       <path d=\"M 0 0 \nL 0 3.5 \n\" id=\"m9d3cc65990\" style=\"stroke:#000000;stroke-width:0.8;\"/>\n      </defs>\n      <g>\n       <use style=\"stroke:#000000;stroke-width:0.8;\" x=\"67.506818\" xlink:href=\"#m9d3cc65990\" y=\"224.64\"/>\n      </g>\n     </g>\n     <g id=\"text_1\">\n      <!-- Cat1 -->\n      <defs>\n       <path d=\"M 64.40625 67.28125 \nL 64.40625 56.890625 \nQ 59.421875 61.53125 53.78125 63.8125 \nQ 48.140625 66.109375 41.796875 66.109375 \nQ 29.296875 66.109375 22.65625 58.46875 \nQ 16.015625 50.828125 16.015625 36.375 \nQ 16.015625 21.96875 22.65625 14.328125 \nQ 29.296875 6.6875 41.796875 6.6875 \nQ 48.140625 6.6875 53.78125 8.984375 \nQ 59.421875 11.28125 64.40625 15.921875 \nL 64.40625 5.609375 \nQ 59.234375 2.09375 53.4375 0.328125 \nQ 47.65625 -1.421875 41.21875 -1.421875 \nQ 24.65625 -1.421875 15.125 8.703125 \nQ 5.609375 18.84375 5.609375 36.375 \nQ 5.609375 53.953125 15.125 64.078125 \nQ 24.65625 74.21875 41.21875 74.21875 \nQ 47.75 74.21875 53.53125 72.484375 \nQ 59.328125 70.75 64.40625 67.28125 \nz\n\" id=\"DejaVuSans-67\"/>\n       <path d=\"M 34.28125 27.484375 \nQ 23.390625 27.484375 19.1875 25 \nQ 14.984375 22.515625 14.984375 16.5 \nQ 14.984375 11.71875 18.140625 8.90625 \nQ 21.296875 6.109375 26.703125 6.109375 \nQ 34.1875 6.109375 38.703125 11.40625 \nQ 43.21875 16.703125 43.21875 25.484375 \nL 43.21875 27.484375 \nz\nM 52.203125 31.203125 \nL 52.203125 0 \nL 43.21875 0 \nL 43.21875 8.296875 \nQ 40.140625 3.328125 35.546875 0.953125 \nQ 30.953125 -1.421875 24.3125 -1.421875 \nQ 15.921875 -1.421875 10.953125 3.296875 \nQ 6 8.015625 6 15.921875 \nQ 6 25.140625 12.171875 29.828125 \nQ 18.359375 34.515625 30.609375 34.515625 \nL 43.21875 34.515625 \nL 43.21875 35.40625 \nQ 43.21875 41.609375 39.140625 45 \nQ 35.0625 48.390625 27.6875 48.390625 \nQ 23 48.390625 18.546875 47.265625 \nQ 14.109375 46.140625 10.015625 43.890625 \nL 10.015625 52.203125 \nQ 14.9375 54.109375 19.578125 55.046875 \nQ 24.21875 56 28.609375 56 \nQ 40.484375 56 46.34375 49.84375 \nQ 52.203125 43.703125 52.203125 31.203125 \nz\n\" id=\"DejaVuSans-97\"/>\n       <path d=\"M 18.3125 70.21875 \nL 18.3125 54.6875 \nL 36.8125 54.6875 \nL 36.8125 47.703125 \nL 18.3125 47.703125 \nL 18.3125 18.015625 \nQ 18.3125 11.328125 20.140625 9.421875 \nQ 21.96875 7.515625 27.59375 7.515625 \nL 36.8125 7.515625 \nL 36.8125 0 \nL 27.59375 0 \nQ 17.1875 0 13.234375 3.875 \nQ 9.28125 7.765625 9.28125 18.015625 \nL 9.28125 47.703125 \nL 2.6875 47.703125 \nL 2.6875 54.6875 \nL 9.28125 54.6875 \nL 9.28125 70.21875 \nz\n\" id=\"DejaVuSans-116\"/>\n       <path d=\"M 12.40625 8.296875 \nL 28.515625 8.296875 \nL 28.515625 63.921875 \nL 10.984375 60.40625 \nL 10.984375 69.390625 \nL 28.421875 72.90625 \nL 38.28125 72.90625 \nL 38.28125 8.296875 \nL 54.390625 8.296875 \nL 54.390625 0 \nL 12.40625 0 \nz\n\" id=\"DejaVuSans-49\"/>\n      </defs>\n      <g transform=\"translate(55.809943 239.238437)scale(0.1 -0.1)\">\n       <use xlink:href=\"#DejaVuSans-67\"/>\n       <use x=\"69.824219\" xlink:href=\"#DejaVuSans-97\"/>\n       <use x=\"131.103516\" xlink:href=\"#DejaVuSans-116\"/>\n       <use x=\"170.3125\" xlink:href=\"#DejaVuSans-49\"/>\n      </g>\n     </g>\n    </g>\n    <g id=\"xtick_2\">\n     <g id=\"line2d_2\">\n      <g>\n       <use style=\"stroke:#000000;stroke-width:0.8;\" x=\"130.915909\" xlink:href=\"#m9d3cc65990\" y=\"224.64\"/>\n      </g>\n     </g>\n     <g id=\"text_2\">\n      <!-- Cat2 -->\n      <defs>\n       <path d=\"M 19.1875 8.296875 \nL 53.609375 8.296875 \nL 53.609375 0 \nL 7.328125 0 \nL 7.328125 8.296875 \nQ 12.9375 14.109375 22.625 23.890625 \nQ 32.328125 33.6875 34.8125 36.53125 \nQ 39.546875 41.84375 41.421875 45.53125 \nQ 43.3125 49.21875 43.3125 52.78125 \nQ 43.3125 58.59375 39.234375 62.25 \nQ 35.15625 65.921875 28.609375 65.921875 \nQ 23.96875 65.921875 18.8125 64.3125 \nQ 13.671875 62.703125 7.8125 59.421875 \nL 7.8125 69.390625 \nQ 13.765625 71.78125 18.9375 73 \nQ 24.125 74.21875 28.421875 74.21875 \nQ 39.75 74.21875 46.484375 68.546875 \nQ 53.21875 62.890625 53.21875 53.421875 \nQ 53.21875 48.921875 51.53125 44.890625 \nQ 49.859375 40.875 45.40625 35.40625 \nQ 44.1875 33.984375 37.640625 27.21875 \nQ 31.109375 20.453125 19.1875 8.296875 \nz\n\" id=\"DejaVuSans-50\"/>\n      </defs>\n      <g transform=\"translate(119.219034 239.238437)scale(0.1 -0.1)\">\n       <use xlink:href=\"#DejaVuSans-67\"/>\n       <use x=\"69.824219\" xlink:href=\"#DejaVuSans-97\"/>\n       <use x=\"131.103516\" xlink:href=\"#DejaVuSans-116\"/>\n       <use x=\"170.3125\" xlink:href=\"#DejaVuSans-50\"/>\n      </g>\n     </g>\n    </g>\n    <g id=\"xtick_3\">\n     <g id=\"line2d_3\">\n      <g>\n       <use style=\"stroke:#000000;stroke-width:0.8;\" x=\"194.325\" xlink:href=\"#m9d3cc65990\" y=\"224.64\"/>\n      </g>\n     </g>\n     <g id=\"text_3\">\n      <!-- Cat3 -->\n      <defs>\n       <path d=\"M 40.578125 39.3125 \nQ 47.65625 37.796875 51.625 33 \nQ 55.609375 28.21875 55.609375 21.1875 \nQ 55.609375 10.40625 48.1875 4.484375 \nQ 40.765625 -1.421875 27.09375 -1.421875 \nQ 22.515625 -1.421875 17.65625 -0.515625 \nQ 12.796875 0.390625 7.625 2.203125 \nL 7.625 11.71875 \nQ 11.71875 9.328125 16.59375 8.109375 \nQ 21.484375 6.890625 26.8125 6.890625 \nQ 36.078125 6.890625 40.9375 10.546875 \nQ 45.796875 14.203125 45.796875 21.1875 \nQ 45.796875 27.640625 41.28125 31.265625 \nQ 36.765625 34.90625 28.71875 34.90625 \nL 20.21875 34.90625 \nL 20.21875 43.015625 \nL 29.109375 43.015625 \nQ 36.375 43.015625 40.234375 45.921875 \nQ 44.09375 48.828125 44.09375 54.296875 \nQ 44.09375 59.90625 40.109375 62.90625 \nQ 36.140625 65.921875 28.71875 65.921875 \nQ 24.65625 65.921875 20.015625 65.03125 \nQ 15.375 64.15625 9.8125 62.3125 \nL 9.8125 71.09375 \nQ 15.4375 72.65625 20.34375 73.4375 \nQ 25.25 74.21875 29.59375 74.21875 \nQ 40.828125 74.21875 47.359375 69.109375 \nQ 53.90625 64.015625 53.90625 55.328125 \nQ 53.90625 49.265625 50.4375 45.09375 \nQ 46.96875 40.921875 40.578125 39.3125 \nz\n\" id=\"DejaVuSans-51\"/>\n      </defs>\n      <g transform=\"translate(182.628125 239.238437)scale(0.1 -0.1)\">\n       <use xlink:href=\"#DejaVuSans-67\"/>\n       <use x=\"69.824219\" xlink:href=\"#DejaVuSans-97\"/>\n       <use x=\"131.103516\" xlink:href=\"#DejaVuSans-116\"/>\n       <use x=\"170.3125\" xlink:href=\"#DejaVuSans-51\"/>\n      </g>\n     </g>\n    </g>\n    <g id=\"xtick_4\">\n     <g id=\"line2d_4\">\n      <g>\n       <use style=\"stroke:#000000;stroke-width:0.8;\" x=\"257.734091\" xlink:href=\"#m9d3cc65990\" y=\"224.64\"/>\n      </g>\n     </g>\n     <g id=\"text_4\">\n      <!-- Cat4 -->\n      <defs>\n       <path d=\"M 37.796875 64.3125 \nL 12.890625 25.390625 \nL 37.796875 25.390625 \nz\nM 35.203125 72.90625 \nL 47.609375 72.90625 \nL 47.609375 25.390625 \nL 58.015625 25.390625 \nL 58.015625 17.1875 \nL 47.609375 17.1875 \nL 47.609375 0 \nL 37.796875 0 \nL 37.796875 17.1875 \nL 4.890625 17.1875 \nL 4.890625 26.703125 \nz\n\" id=\"DejaVuSans-52\"/>\n      </defs>\n      <g transform=\"translate(246.037216 239.238437)scale(0.1 -0.1)\">\n       <use xlink:href=\"#DejaVuSans-67\"/>\n       <use x=\"69.824219\" xlink:href=\"#DejaVuSans-97\"/>\n       <use x=\"131.103516\" xlink:href=\"#DejaVuSans-116\"/>\n       <use x=\"170.3125\" xlink:href=\"#DejaVuSans-52\"/>\n      </g>\n     </g>\n    </g>\n    <g id=\"xtick_5\">\n     <g id=\"line2d_5\">\n      <g>\n       <use style=\"stroke:#000000;stroke-width:0.8;\" x=\"321.143182\" xlink:href=\"#m9d3cc65990\" y=\"224.64\"/>\n      </g>\n     </g>\n     <g id=\"text_5\">\n      <!-- Cat5 -->\n      <defs>\n       <path d=\"M 10.796875 72.90625 \nL 49.515625 72.90625 \nL 49.515625 64.59375 \nL 19.828125 64.59375 \nL 19.828125 46.734375 \nQ 21.96875 47.46875 24.109375 47.828125 \nQ 26.265625 48.1875 28.421875 48.1875 \nQ 40.625 48.1875 47.75 41.5 \nQ 54.890625 34.8125 54.890625 23.390625 \nQ 54.890625 11.625 47.5625 5.09375 \nQ 40.234375 -1.421875 26.90625 -1.421875 \nQ 22.3125 -1.421875 17.546875 -0.640625 \nQ 12.796875 0.140625 7.71875 1.703125 \nL 7.71875 11.625 \nQ 12.109375 9.234375 16.796875 8.0625 \nQ 21.484375 6.890625 26.703125 6.890625 \nQ 35.15625 6.890625 40.078125 11.328125 \nQ 45.015625 15.765625 45.015625 23.390625 \nQ 45.015625 31 40.078125 35.4375 \nQ 35.15625 39.890625 26.703125 39.890625 \nQ 22.75 39.890625 18.8125 39.015625 \nQ 14.890625 38.140625 10.796875 36.28125 \nz\n\" id=\"DejaVuSans-53\"/>\n      </defs>\n      <g transform=\"translate(309.446307 239.238437)scale(0.1 -0.1)\">\n       <use xlink:href=\"#DejaVuSans-67\"/>\n       <use x=\"69.824219\" xlink:href=\"#DejaVuSans-97\"/>\n       <use x=\"131.103516\" xlink:href=\"#DejaVuSans-116\"/>\n       <use x=\"170.3125\" xlink:href=\"#DejaVuSans-53\"/>\n      </g>\n     </g>\n    </g>\n   </g>\n   <g id=\"matplotlib.axis_2\">\n    <g id=\"ytick_1\">\n     <g id=\"line2d_6\">\n      <defs>\n       <path d=\"M 0 0 \nL -3.5 0 \n\" id=\"m3c889c8a6d\" style=\"stroke:#000000;stroke-width:0.8;\"/>\n      </defs>\n      <g>\n       <use style=\"stroke:#000000;stroke-width:0.8;\" x=\"26.925\" xlink:href=\"#m3c889c8a6d\" y=\"224.64\"/>\n      </g>\n     </g>\n     <g id=\"text_6\">\n      <!-- 0 -->\n      <defs>\n       <path d=\"M 31.78125 66.40625 \nQ 24.171875 66.40625 20.328125 58.90625 \nQ 16.5 51.421875 16.5 36.375 \nQ 16.5 21.390625 20.328125 13.890625 \nQ 24.171875 6.390625 31.78125 6.390625 \nQ 39.453125 6.390625 43.28125 13.890625 \nQ 47.125 21.390625 47.125 36.375 \nQ 47.125 51.421875 43.28125 58.90625 \nQ 39.453125 66.40625 31.78125 66.40625 \nz\nM 31.78125 74.21875 \nQ 44.046875 74.21875 50.515625 64.515625 \nQ 56.984375 54.828125 56.984375 36.375 \nQ 56.984375 17.96875 50.515625 8.265625 \nQ 44.046875 -1.421875 31.78125 -1.421875 \nQ 19.53125 -1.421875 13.0625 8.265625 \nQ 6.59375 17.96875 6.59375 36.375 \nQ 6.59375 54.828125 13.0625 64.515625 \nQ 19.53125 74.21875 31.78125 74.21875 \nz\n\" id=\"DejaVuSans-48\"/>\n      </defs>\n      <g transform=\"translate(13.5625 228.439219)scale(0.1 -0.1)\">\n       <use xlink:href=\"#DejaVuSans-48\"/>\n      </g>\n     </g>\n    </g>\n    <g id=\"ytick_2\">\n     <g id=\"line2d_7\">\n      <g>\n       <use style=\"stroke:#000000;stroke-width:0.8;\" x=\"26.925\" xlink:href=\"#m3c889c8a6d\" y=\"190.125714\"/>\n      </g>\n     </g>\n     <g id=\"text_7\">\n      <!-- 2 -->\n      <g transform=\"translate(13.5625 193.924933)scale(0.1 -0.1)\">\n       <use xlink:href=\"#DejaVuSans-50\"/>\n      </g>\n     </g>\n    </g>\n    <g id=\"ytick_3\">\n     <g id=\"line2d_8\">\n      <g>\n       <use style=\"stroke:#000000;stroke-width:0.8;\" x=\"26.925\" xlink:href=\"#m3c889c8a6d\" y=\"155.611429\"/>\n      </g>\n     </g>\n     <g id=\"text_8\">\n      <!-- 4 -->\n      <g transform=\"translate(13.5625 159.410647)scale(0.1 -0.1)\">\n       <use xlink:href=\"#DejaVuSans-52\"/>\n      </g>\n     </g>\n    </g>\n    <g id=\"ytick_4\">\n     <g id=\"line2d_9\">\n      <g>\n       <use style=\"stroke:#000000;stroke-width:0.8;\" x=\"26.925\" xlink:href=\"#m3c889c8a6d\" y=\"121.097143\"/>\n      </g>\n     </g>\n     <g id=\"text_9\">\n      <!-- 6 -->\n      <defs>\n       <path d=\"M 33.015625 40.375 \nQ 26.375 40.375 22.484375 35.828125 \nQ 18.609375 31.296875 18.609375 23.390625 \nQ 18.609375 15.53125 22.484375 10.953125 \nQ 26.375 6.390625 33.015625 6.390625 \nQ 39.65625 6.390625 43.53125 10.953125 \nQ 47.40625 15.53125 47.40625 23.390625 \nQ 47.40625 31.296875 43.53125 35.828125 \nQ 39.65625 40.375 33.015625 40.375 \nz\nM 52.59375 71.296875 \nL 52.59375 62.3125 \nQ 48.875 64.0625 45.09375 64.984375 \nQ 41.3125 65.921875 37.59375 65.921875 \nQ 27.828125 65.921875 22.671875 59.328125 \nQ 17.53125 52.734375 16.796875 39.40625 \nQ 19.671875 43.65625 24.015625 45.921875 \nQ 28.375 48.1875 33.59375 48.1875 \nQ 44.578125 48.1875 50.953125 41.515625 \nQ 57.328125 34.859375 57.328125 23.390625 \nQ 57.328125 12.15625 50.6875 5.359375 \nQ 44.046875 -1.421875 33.015625 -1.421875 \nQ 20.359375 -1.421875 13.671875 8.265625 \nQ 6.984375 17.96875 6.984375 36.375 \nQ 6.984375 53.65625 15.1875 63.9375 \nQ 23.390625 74.21875 37.203125 74.21875 \nQ 40.921875 74.21875 44.703125 73.484375 \nQ 48.484375 72.75 52.59375 71.296875 \nz\n\" id=\"DejaVuSans-54\"/>\n      </defs>\n      <g transform=\"translate(13.5625 124.896362)scale(0.1 -0.1)\">\n       <use xlink:href=\"#DejaVuSans-54\"/>\n      </g>\n     </g>\n    </g>\n    <g id=\"ytick_5\">\n     <g id=\"line2d_10\">\n      <g>\n       <use style=\"stroke:#000000;stroke-width:0.8;\" x=\"26.925\" xlink:href=\"#m3c889c8a6d\" y=\"86.582857\"/>\n      </g>\n     </g>\n     <g id=\"text_10\">\n      <!-- 8 -->\n      <defs>\n       <path d=\"M 31.78125 34.625 \nQ 24.75 34.625 20.71875 30.859375 \nQ 16.703125 27.09375 16.703125 20.515625 \nQ 16.703125 13.921875 20.71875 10.15625 \nQ 24.75 6.390625 31.78125 6.390625 \nQ 38.8125 6.390625 42.859375 10.171875 \nQ 46.921875 13.96875 46.921875 20.515625 \nQ 46.921875 27.09375 42.890625 30.859375 \nQ 38.875 34.625 31.78125 34.625 \nz\nM 21.921875 38.8125 \nQ 15.578125 40.375 12.03125 44.71875 \nQ 8.5 49.078125 8.5 55.328125 \nQ 8.5 64.0625 14.71875 69.140625 \nQ 20.953125 74.21875 31.78125 74.21875 \nQ 42.671875 74.21875 48.875 69.140625 \nQ 55.078125 64.0625 55.078125 55.328125 \nQ 55.078125 49.078125 51.53125 44.71875 \nQ 48 40.375 41.703125 38.8125 \nQ 48.828125 37.15625 52.796875 32.3125 \nQ 56.78125 27.484375 56.78125 20.515625 \nQ 56.78125 9.90625 50.3125 4.234375 \nQ 43.84375 -1.421875 31.78125 -1.421875 \nQ 19.734375 -1.421875 13.25 4.234375 \nQ 6.78125 9.90625 6.78125 20.515625 \nQ 6.78125 27.484375 10.78125 32.3125 \nQ 14.796875 37.15625 21.921875 38.8125 \nz\nM 18.3125 54.390625 \nQ 18.3125 48.734375 21.84375 45.5625 \nQ 25.390625 42.390625 31.78125 42.390625 \nQ 38.140625 42.390625 41.71875 45.5625 \nQ 45.3125 48.734375 45.3125 54.390625 \nQ 45.3125 60.0625 41.71875 63.234375 \nQ 38.140625 66.40625 31.78125 66.40625 \nQ 25.390625 66.40625 21.84375 63.234375 \nQ 18.3125 60.0625 18.3125 54.390625 \nz\n\" id=\"DejaVuSans-56\"/>\n      </defs>\n      <g transform=\"translate(13.5625 90.382076)scale(0.1 -0.1)\">\n       <use xlink:href=\"#DejaVuSans-56\"/>\n      </g>\n     </g>\n    </g>\n    <g id=\"ytick_6\">\n     <g id=\"line2d_11\">\n      <g>\n       <use style=\"stroke:#000000;stroke-width:0.8;\" x=\"26.925\" xlink:href=\"#m3c889c8a6d\" y=\"52.068571\"/>\n      </g>\n     </g>\n     <g id=\"text_11\">\n      <!-- 10 -->\n      <g transform=\"translate(7.2 55.86779)scale(0.1 -0.1)\">\n       <use xlink:href=\"#DejaVuSans-49\"/>\n       <use x=\"63.623047\" xlink:href=\"#DejaVuSans-48\"/>\n      </g>\n     </g>\n    </g>\n    <g id=\"ytick_7\">\n     <g id=\"line2d_12\">\n      <g>\n       <use style=\"stroke:#000000;stroke-width:0.8;\" x=\"26.925\" xlink:href=\"#m3c889c8a6d\" y=\"17.554286\"/>\n      </g>\n     </g>\n     <g id=\"text_12\">\n      <!-- 12 -->\n      <g transform=\"translate(7.2 21.353504)scale(0.1 -0.1)\">\n       <use xlink:href=\"#DejaVuSans-49\"/>\n       <use x=\"63.623047\" xlink:href=\"#DejaVuSans-50\"/>\n      </g>\n     </g>\n    </g>\n   </g>\n   <g id=\"patch_8\">\n    <path d=\"M 26.925 224.64 \nL 26.925 7.2 \n\" style=\"fill:none;stroke:#000000;stroke-linecap:square;stroke-linejoin:miter;stroke-width:0.8;\"/>\n   </g>\n   <g id=\"patch_9\">\n    <path d=\"M 361.725 224.64 \nL 361.725 7.2 \n\" style=\"fill:none;stroke:#000000;stroke-linecap:square;stroke-linejoin:miter;stroke-width:0.8;\"/>\n   </g>\n   <g id=\"patch_10\">\n    <path d=\"M 26.925 224.64 \nL 361.725 224.64 \n\" style=\"fill:none;stroke:#000000;stroke-linecap:square;stroke-linejoin:miter;stroke-width:0.8;\"/>\n   </g>\n   <g id=\"patch_11\">\n    <path d=\"M 26.925 7.2 \nL 361.725 7.2 \n\" style=\"fill:none;stroke:#000000;stroke-linecap:square;stroke-linejoin:miter;stroke-width:0.8;\"/>\n   </g>\n  </g>\n </g>\n <defs>\n  <clipPath id=\"p0f79194d8f\">\n   <rect height=\"217.44\" width=\"334.8\" x=\"26.925\" y=\"7.2\"/>\n  </clipPath>\n </defs>\n</svg>\n",
      "image/png": "[encoded data removed]"
     },
     "metadata": {
      "needs_background": "light"
     }
    },
    {
     "output_type": "display_data",
     "data": {
      "text/plain": "<Figure size 432x288 with 1 Axes>",
      "image/svg+xml": "<?xml version=\"1.0\" encoding=\"utf-8\" standalone=\"no\"?>\n<!DOCTYPE svg PUBLIC \"-//W3C//DTD SVG 1.1//EN\"\n  \"http://www.w3.org/Graphics/SVG/1.1/DTD/svg11.dtd\">\n<!-- Created with matplotlib (https://matplotlib.org/) -->\n<svg height=\"248.518125pt\" version=\"1.1\" viewBox=\"0 0 368.925 248.518125\" width=\"368.925pt\" xmlns=\"http://www.w3.org/2000/svg\" xmlns:xlink=\"http://www.w3.org/1999/xlink\">\n <defs>\n  <style type=\"text/css\">\n*{stroke-linecap:butt;stroke-linejoin:round;}\n  </style>\n </defs>\n <g id=\"figure_1\">\n  <g id=\"patch_1\">\n   <path d=\"M -0 248.518125 \nL 368.925 248.518125 \nL 368.925 0 \nL -0 0 \nz\n\" style=\"fill:none;\"/>\n  </g>\n  <g id=\"axes_1\">\n   <g id=\"patch_2\">\n    <path d=\"M 26.925 224.64 \nL 361.725 224.64 \nL 361.725 7.2 \nL 26.925 7.2 \nz\n\" style=\"fill:#ffffff;\"/>\n   </g>\n   <g id=\"patch_3\">\n    <path clip-path=\"url(#p815de81658)\" d=\"M 33.621 224.64 \nL 87.189 224.64 \nL 87.189 138.354286 \nL 33.621 138.354286 \nz\n\" style=\"fill:#3274a1;\"/>\n   </g>\n   <g id=\"patch_4\">\n    <path clip-path=\"url(#p815de81658)\" d=\"M 100.581 224.64 \nL 154.149 224.64 \nL 154.149 155.611429 \nL 100.581 155.611429 \nz\n\" style=\"fill:#e1812c;\"/>\n   </g>\n   <g id=\"patch_5\">\n    <path clip-path=\"url(#p815de81658)\" d=\"M 167.541 224.64 \nL 221.109 224.64 \nL 221.109 86.582857 \nL 167.541 86.582857 \nz\n\" style=\"fill:#3a923a;\"/>\n   </g>\n   <g id=\"patch_6\">\n    <path clip-path=\"url(#p815de81658)\" d=\"M 234.501 224.64 \nL 288.069 224.64 \nL 288.069 17.554286 \nL 234.501 17.554286 \nz\n\" style=\"fill:#c03d3e;\"/>\n   </g>\n   <g id=\"patch_7\">\n    <path clip-path=\"url(#p815de81658)\" d=\"M 301.461 224.64 \nL 355.029 224.64 \nL 355.029 103.84 \nL 301.461 103.84 \nz\n\" style=\"fill:#9372b2;\"/>\n   </g>\n   <g id=\"matplotlib.axis_1\">\n    <g id=\"xtick_1\">\n     <g id=\"line2d_1\">\n      <defs>\n       <path d=\"M 0 0 \nL 0 3.5 \n\" id=\"md22755b858\" style=\"stroke:#000000;stroke-width:0.8;\"/>\n      </defs>\n      <g>\n       <use style=\"stroke:#000000;stroke-width:0.8;\" x=\"60.405\" xlink:href=\"#md22755b858\" y=\"224.64\"/>\n      </g>\n     </g>\n     <g id=\"text_1\">\n      <!-- Cat1 -->\n      <defs>\n       <path d=\"M 64.40625 67.28125 \nL 64.40625 56.890625 \nQ 59.421875 61.53125 53.78125 63.8125 \nQ 48.140625 66.109375 41.796875 66.109375 \nQ 29.296875 66.109375 22.65625 58.46875 \nQ 16.015625 50.828125 16.015625 36.375 \nQ 16.015625 21.96875 22.65625 14.328125 \nQ 29.296875 6.6875 41.796875 6.6875 \nQ 48.140625 6.6875 53.78125 8.984375 \nQ 59.421875 11.28125 64.40625 15.921875 \nL 64.40625 5.609375 \nQ 59.234375 2.09375 53.4375 0.328125 \nQ 47.65625 -1.421875 41.21875 -1.421875 \nQ 24.65625 -1.421875 15.125 8.703125 \nQ 5.609375 18.84375 5.609375 36.375 \nQ 5.609375 53.953125 15.125 64.078125 \nQ 24.65625 74.21875 41.21875 74.21875 \nQ 47.75 74.21875 53.53125 72.484375 \nQ 59.328125 70.75 64.40625 67.28125 \nz\n\" id=\"DejaVuSans-67\"/>\n       <path d=\"M 34.28125 27.484375 \nQ 23.390625 27.484375 19.1875 25 \nQ 14.984375 22.515625 14.984375 16.5 \nQ 14.984375 11.71875 18.140625 8.90625 \nQ 21.296875 6.109375 26.703125 6.109375 \nQ 34.1875 6.109375 38.703125 11.40625 \nQ 43.21875 16.703125 43.21875 25.484375 \nL 43.21875 27.484375 \nz\nM 52.203125 31.203125 \nL 52.203125 0 \nL 43.21875 0 \nL 43.21875 8.296875 \nQ 40.140625 3.328125 35.546875 0.953125 \nQ 30.953125 -1.421875 24.3125 -1.421875 \nQ 15.921875 -1.421875 10.953125 3.296875 \nQ 6 8.015625 6 15.921875 \nQ 6 25.140625 12.171875 29.828125 \nQ 18.359375 34.515625 30.609375 34.515625 \nL 43.21875 34.515625 \nL 43.21875 35.40625 \nQ 43.21875 41.609375 39.140625 45 \nQ 35.0625 48.390625 27.6875 48.390625 \nQ 23 48.390625 18.546875 47.265625 \nQ 14.109375 46.140625 10.015625 43.890625 \nL 10.015625 52.203125 \nQ 14.9375 54.109375 19.578125 55.046875 \nQ 24.21875 56 28.609375 56 \nQ 40.484375 56 46.34375 49.84375 \nQ 52.203125 43.703125 52.203125 31.203125 \nz\n\" id=\"DejaVuSans-97\"/>\n       <path d=\"M 18.3125 70.21875 \nL 18.3125 54.6875 \nL 36.8125 54.6875 \nL 36.8125 47.703125 \nL 18.3125 47.703125 \nL 18.3125 18.015625 \nQ 18.3125 11.328125 20.140625 9.421875 \nQ 21.96875 7.515625 27.59375 7.515625 \nL 36.8125 7.515625 \nL 36.8125 0 \nL 27.59375 0 \nQ 17.1875 0 13.234375 3.875 \nQ 9.28125 7.765625 9.28125 18.015625 \nL 9.28125 47.703125 \nL 2.6875 47.703125 \nL 2.6875 54.6875 \nL 9.28125 54.6875 \nL 9.28125 70.21875 \nz\n\" id=\"DejaVuSans-116\"/>\n       <path d=\"M 12.40625 8.296875 \nL 28.515625 8.296875 \nL 28.515625 63.921875 \nL 10.984375 60.40625 \nL 10.984375 69.390625 \nL 28.421875 72.90625 \nL 38.28125 72.90625 \nL 38.28125 8.296875 \nL 54.390625 8.296875 \nL 54.390625 0 \nL 12.40625 0 \nz\n\" id=\"DejaVuSans-49\"/>\n      </defs>\n      <g transform=\"translate(48.708125 239.238437)scale(0.1 -0.1)\">\n       <use xlink:href=\"#DejaVuSans-67\"/>\n       <use x=\"69.824219\" xlink:href=\"#DejaVuSans-97\"/>\n       <use x=\"131.103516\" xlink:href=\"#DejaVuSans-116\"/>\n       <use x=\"170.3125\" xlink:href=\"#DejaVuSans-49\"/>\n      </g>\n     </g>\n    </g>\n    <g id=\"xtick_2\">\n     <g id=\"line2d_2\">\n      <g>\n       <use style=\"stroke:#000000;stroke-width:0.8;\" x=\"127.365\" xlink:href=\"#md22755b858\" y=\"224.64\"/>\n      </g>\n     </g>\n     <g id=\"text_2\">\n      <!-- Cat2 -->\n      <defs>\n       <path d=\"M 19.1875 8.296875 \nL 53.609375 8.296875 \nL 53.609375 0 \nL 7.328125 0 \nL 7.328125 8.296875 \nQ 12.9375 14.109375 22.625 23.890625 \nQ 32.328125 33.6875 34.8125 36.53125 \nQ 39.546875 41.84375 41.421875 45.53125 \nQ 43.3125 49.21875 43.3125 52.78125 \nQ 43.3125 58.59375 39.234375 62.25 \nQ 35.15625 65.921875 28.609375 65.921875 \nQ 23.96875 65.921875 18.8125 64.3125 \nQ 13.671875 62.703125 7.8125 59.421875 \nL 7.8125 69.390625 \nQ 13.765625 71.78125 18.9375 73 \nQ 24.125 74.21875 28.421875 74.21875 \nQ 39.75 74.21875 46.484375 68.546875 \nQ 53.21875 62.890625 53.21875 53.421875 \nQ 53.21875 48.921875 51.53125 44.890625 \nQ 49.859375 40.875 45.40625 35.40625 \nQ 44.1875 33.984375 37.640625 27.21875 \nQ 31.109375 20.453125 19.1875 8.296875 \nz\n\" id=\"DejaVuSans-50\"/>\n      </defs>\n      <g transform=\"translate(115.668125 239.238437)scale(0.1 -0.1)\">\n       <use xlink:href=\"#DejaVuSans-67\"/>\n       <use x=\"69.824219\" xlink:href=\"#DejaVuSans-97\"/>\n       <use x=\"131.103516\" xlink:href=\"#DejaVuSans-116\"/>\n       <use x=\"170.3125\" xlink:href=\"#DejaVuSans-50\"/>\n      </g>\n     </g>\n    </g>\n    <g id=\"xtick_3\">\n     <g id=\"line2d_3\">\n      <g>\n       <use style=\"stroke:#000000;stroke-width:0.8;\" x=\"194.325\" xlink:href=\"#md22755b858\" y=\"224.64\"/>\n      </g>\n     </g>\n     <g id=\"text_3\">\n      <!-- Cat3 -->\n      <defs>\n       <path d=\"M 40.578125 39.3125 \nQ 47.65625 37.796875 51.625 33 \nQ 55.609375 28.21875 55.609375 21.1875 \nQ 55.609375 10.40625 48.1875 4.484375 \nQ 40.765625 -1.421875 27.09375 -1.421875 \nQ 22.515625 -1.421875 17.65625 -0.515625 \nQ 12.796875 0.390625 7.625 2.203125 \nL 7.625 11.71875 \nQ 11.71875 9.328125 16.59375 8.109375 \nQ 21.484375 6.890625 26.8125 6.890625 \nQ 36.078125 6.890625 40.9375 10.546875 \nQ 45.796875 14.203125 45.796875 21.1875 \nQ 45.796875 27.640625 41.28125 31.265625 \nQ 36.765625 34.90625 28.71875 34.90625 \nL 20.21875 34.90625 \nL 20.21875 43.015625 \nL 29.109375 43.015625 \nQ 36.375 43.015625 40.234375 45.921875 \nQ 44.09375 48.828125 44.09375 54.296875 \nQ 44.09375 59.90625 40.109375 62.90625 \nQ 36.140625 65.921875 28.71875 65.921875 \nQ 24.65625 65.921875 20.015625 65.03125 \nQ 15.375 64.15625 9.8125 62.3125 \nL 9.8125 71.09375 \nQ 15.4375 72.65625 20.34375 73.4375 \nQ 25.25 74.21875 29.59375 74.21875 \nQ 40.828125 74.21875 47.359375 69.109375 \nQ 53.90625 64.015625 53.90625 55.328125 \nQ 53.90625 49.265625 50.4375 45.09375 \nQ 46.96875 40.921875 40.578125 39.3125 \nz\n\" id=\"DejaVuSans-51\"/>\n      </defs>\n      <g transform=\"translate(182.628125 239.238437)scale(0.1 -0.1)\">\n       <use xlink:href=\"#DejaVuSans-67\"/>\n       <use x=\"69.824219\" xlink:href=\"#DejaVuSans-97\"/>\n       <use x=\"131.103516\" xlink:href=\"#DejaVuSans-116\"/>\n       <use x=\"170.3125\" xlink:href=\"#DejaVuSans-51\"/>\n      </g>\n     </g>\n    </g>\n    <g id=\"xtick_4\">\n     <g id=\"line2d_4\">\n      <g>\n       <use style=\"stroke:#000000;stroke-width:0.8;\" x=\"261.285\" xlink:href=\"#md22755b858\" y=\"224.64\"/>\n      </g>\n     </g>\n     <g id=\"text_4\">\n      <!-- Cat4 -->\n      <defs>\n       <path d=\"M 37.796875 64.3125 \nL 12.890625 25.390625 \nL 37.796875 25.390625 \nz\nM 35.203125 72.90625 \nL 47.609375 72.90625 \nL 47.609375 25.390625 \nL 58.015625 25.390625 \nL 58.015625 17.1875 \nL 47.609375 17.1875 \nL 47.609375 0 \nL 37.796875 0 \nL 37.796875 17.1875 \nL 4.890625 17.1875 \nL 4.890625 26.703125 \nz\n\" id=\"DejaVuSans-52\"/>\n      </defs>\n      <g transform=\"translate(249.588125 239.238437)scale(0.1 -0.1)\">\n       <use xlink:href=\"#DejaVuSans-67\"/>\n       <use x=\"69.824219\" xlink:href=\"#DejaVuSans-97\"/>\n       <use x=\"131.103516\" xlink:href=\"#DejaVuSans-116\"/>\n       <use x=\"170.3125\" xlink:href=\"#DejaVuSans-52\"/>\n      </g>\n     </g>\n    </g>\n    <g id=\"xtick_5\">\n     <g id=\"line2d_5\">\n      <g>\n       <use style=\"stroke:#000000;stroke-width:0.8;\" x=\"328.245\" xlink:href=\"#md22755b858\" y=\"224.64\"/>\n      </g>\n     </g>\n     <g id=\"text_5\">\n      <!-- Cat5 -->\n      <defs>\n       <path d=\"M 10.796875 72.90625 \nL 49.515625 72.90625 \nL 49.515625 64.59375 \nL 19.828125 64.59375 \nL 19.828125 46.734375 \nQ 21.96875 47.46875 24.109375 47.828125 \nQ 26.265625 48.1875 28.421875 48.1875 \nQ 40.625 48.1875 47.75 41.5 \nQ 54.890625 34.8125 54.890625 23.390625 \nQ 54.890625 11.625 47.5625 5.09375 \nQ 40.234375 -1.421875 26.90625 -1.421875 \nQ 22.3125 -1.421875 17.546875 -0.640625 \nQ 12.796875 0.140625 7.71875 1.703125 \nL 7.71875 11.625 \nQ 12.109375 9.234375 16.796875 8.0625 \nQ 21.484375 6.890625 26.703125 6.890625 \nQ 35.15625 6.890625 40.078125 11.328125 \nQ 45.015625 15.765625 45.015625 23.390625 \nQ 45.015625 31 40.078125 35.4375 \nQ 35.15625 39.890625 26.703125 39.890625 \nQ 22.75 39.890625 18.8125 39.015625 \nQ 14.890625 38.140625 10.796875 36.28125 \nz\n\" id=\"DejaVuSans-53\"/>\n      </defs>\n      <g transform=\"translate(316.548125 239.238437)scale(0.1 -0.1)\">\n       <use xlink:href=\"#DejaVuSans-67\"/>\n       <use x=\"69.824219\" xlink:href=\"#DejaVuSans-97\"/>\n       <use x=\"131.103516\" xlink:href=\"#DejaVuSans-116\"/>\n       <use x=\"170.3125\" xlink:href=\"#DejaVuSans-53\"/>\n      </g>\n     </g>\n    </g>\n   </g>\n   <g id=\"matplotlib.axis_2\">\n    <g id=\"ytick_1\">\n     <g id=\"line2d_6\">\n      <defs>\n       <path d=\"M 0 0 \nL -3.5 0 \n\" id=\"me4d41077c7\" style=\"stroke:#000000;stroke-width:0.8;\"/>\n      </defs>\n      <g>\n       <use style=\"stroke:#000000;stroke-width:0.8;\" x=\"26.925\" xlink:href=\"#me4d41077c7\" y=\"224.64\"/>\n      </g>\n     </g>\n     <g id=\"text_6\">\n      <!-- 0 -->\n      <defs>\n       <path d=\"M 31.78125 66.40625 \nQ 24.171875 66.40625 20.328125 58.90625 \nQ 16.5 51.421875 16.5 36.375 \nQ 16.5 21.390625 20.328125 13.890625 \nQ 24.171875 6.390625 31.78125 6.390625 \nQ 39.453125 6.390625 43.28125 13.890625 \nQ 47.125 21.390625 47.125 36.375 \nQ 47.125 51.421875 43.28125 58.90625 \nQ 39.453125 66.40625 31.78125 66.40625 \nz\nM 31.78125 74.21875 \nQ 44.046875 74.21875 50.515625 64.515625 \nQ 56.984375 54.828125 56.984375 36.375 \nQ 56.984375 17.96875 50.515625 8.265625 \nQ 44.046875 -1.421875 31.78125 -1.421875 \nQ 19.53125 -1.421875 13.0625 8.265625 \nQ 6.59375 17.96875 6.59375 36.375 \nQ 6.59375 54.828125 13.0625 64.515625 \nQ 19.53125 74.21875 31.78125 74.21875 \nz\n\" id=\"DejaVuSans-48\"/>\n      </defs>\n      <g transform=\"translate(13.5625 228.439219)scale(0.1 -0.1)\">\n       <use xlink:href=\"#DejaVuSans-48\"/>\n      </g>\n     </g>\n    </g>\n    <g id=\"ytick_2\">\n     <g id=\"line2d_7\">\n      <g>\n       <use style=\"stroke:#000000;stroke-width:0.8;\" x=\"26.925\" xlink:href=\"#me4d41077c7\" y=\"190.125714\"/>\n      </g>\n     </g>\n     <g id=\"text_7\">\n      <!-- 2 -->\n      <g transform=\"translate(13.5625 193.924933)scale(0.1 -0.1)\">\n       <use xlink:href=\"#DejaVuSans-50\"/>\n      </g>\n     </g>\n    </g>\n    <g id=\"ytick_3\">\n     <g id=\"line2d_8\">\n      <g>\n       <use style=\"stroke:#000000;stroke-width:0.8;\" x=\"26.925\" xlink:href=\"#me4d41077c7\" y=\"155.611429\"/>\n      </g>\n     </g>\n     <g id=\"text_8\">\n      <!-- 4 -->\n      <g transform=\"translate(13.5625 159.410647)scale(0.1 -0.1)\">\n       <use xlink:href=\"#DejaVuSans-52\"/>\n      </g>\n     </g>\n    </g>\n    <g id=\"ytick_4\">\n     <g id=\"line2d_9\">\n      <g>\n       <use style=\"stroke:#000000;stroke-width:0.8;\" x=\"26.925\" xlink:href=\"#me4d41077c7\" y=\"121.097143\"/>\n      </g>\n     </g>\n     <g id=\"text_9\">\n      <!-- 6 -->\n      <defs>\n       <path d=\"M 33.015625 40.375 \nQ 26.375 40.375 22.484375 35.828125 \nQ 18.609375 31.296875 18.609375 23.390625 \nQ 18.609375 15.53125 22.484375 10.953125 \nQ 26.375 6.390625 33.015625 6.390625 \nQ 39.65625 6.390625 43.53125 10.953125 \nQ 47.40625 15.53125 47.40625 23.390625 \nQ 47.40625 31.296875 43.53125 35.828125 \nQ 39.65625 40.375 33.015625 40.375 \nz\nM 52.59375 71.296875 \nL 52.59375 62.3125 \nQ 48.875 64.0625 45.09375 64.984375 \nQ 41.3125 65.921875 37.59375 65.921875 \nQ 27.828125 65.921875 22.671875 59.328125 \nQ 17.53125 52.734375 16.796875 39.40625 \nQ 19.671875 43.65625 24.015625 45.921875 \nQ 28.375 48.1875 33.59375 48.1875 \nQ 44.578125 48.1875 50.953125 41.515625 \nQ 57.328125 34.859375 57.328125 23.390625 \nQ 57.328125 12.15625 50.6875 5.359375 \nQ 44.046875 -1.421875 33.015625 -1.421875 \nQ 20.359375 -1.421875 13.671875 8.265625 \nQ 6.984375 17.96875 6.984375 36.375 \nQ 6.984375 53.65625 15.1875 63.9375 \nQ 23.390625 74.21875 37.203125 74.21875 \nQ 40.921875 74.21875 44.703125 73.484375 \nQ 48.484375 72.75 52.59375 71.296875 \nz\n\" id=\"DejaVuSans-54\"/>\n      </defs>\n      <g transform=\"translate(13.5625 124.896362)scale(0.1 -0.1)\">\n       <use xlink:href=\"#DejaVuSans-54\"/>\n      </g>\n     </g>\n    </g>\n    <g id=\"ytick_5\">\n     <g id=\"line2d_10\">\n      <g>\n       <use style=\"stroke:#000000;stroke-width:0.8;\" x=\"26.925\" xlink:href=\"#me4d41077c7\" y=\"86.582857\"/>\n      </g>\n     </g>\n     <g id=\"text_10\">\n      <!-- 8 -->\n      <defs>\n       <path d=\"M 31.78125 34.625 \nQ 24.75 34.625 20.71875 30.859375 \nQ 16.703125 27.09375 16.703125 20.515625 \nQ 16.703125 13.921875 20.71875 10.15625 \nQ 24.75 6.390625 31.78125 6.390625 \nQ 38.8125 6.390625 42.859375 10.171875 \nQ 46.921875 13.96875 46.921875 20.515625 \nQ 46.921875 27.09375 42.890625 30.859375 \nQ 38.875 34.625 31.78125 34.625 \nz\nM 21.921875 38.8125 \nQ 15.578125 40.375 12.03125 44.71875 \nQ 8.5 49.078125 8.5 55.328125 \nQ 8.5 64.0625 14.71875 69.140625 \nQ 20.953125 74.21875 31.78125 74.21875 \nQ 42.671875 74.21875 48.875 69.140625 \nQ 55.078125 64.0625 55.078125 55.328125 \nQ 55.078125 49.078125 51.53125 44.71875 \nQ 48 40.375 41.703125 38.8125 \nQ 48.828125 37.15625 52.796875 32.3125 \nQ 56.78125 27.484375 56.78125 20.515625 \nQ 56.78125 9.90625 50.3125 4.234375 \nQ 43.84375 -1.421875 31.78125 -1.421875 \nQ 19.734375 -1.421875 13.25 4.234375 \nQ 6.78125 9.90625 6.78125 20.515625 \nQ 6.78125 27.484375 10.78125 32.3125 \nQ 14.796875 37.15625 21.921875 38.8125 \nz\nM 18.3125 54.390625 \nQ 18.3125 48.734375 21.84375 45.5625 \nQ 25.390625 42.390625 31.78125 42.390625 \nQ 38.140625 42.390625 41.71875 45.5625 \nQ 45.3125 48.734375 45.3125 54.390625 \nQ 45.3125 60.0625 41.71875 63.234375 \nQ 38.140625 66.40625 31.78125 66.40625 \nQ 25.390625 66.40625 21.84375 63.234375 \nQ 18.3125 60.0625 18.3125 54.390625 \nz\n\" id=\"DejaVuSans-56\"/>\n      </defs>\n      <g transform=\"translate(13.5625 90.382076)scale(0.1 -0.1)\">\n       <use xlink:href=\"#DejaVuSans-56\"/>\n      </g>\n     </g>\n    </g>\n    <g id=\"ytick_6\">\n     <g id=\"line2d_11\">\n      <g>\n       <use style=\"stroke:#000000;stroke-width:0.8;\" x=\"26.925\" xlink:href=\"#me4d41077c7\" y=\"52.068571\"/>\n      </g>\n     </g>\n     <g id=\"text_11\">\n      <!-- 10 -->\n      <g transform=\"translate(7.2 55.86779)scale(0.1 -0.1)\">\n       <use xlink:href=\"#DejaVuSans-49\"/>\n       <use x=\"63.623047\" xlink:href=\"#DejaVuSans-48\"/>\n      </g>\n     </g>\n    </g>\n    <g id=\"ytick_7\">\n     <g id=\"line2d_12\">\n      <g>\n       <use style=\"stroke:#000000;stroke-width:0.8;\" x=\"26.925\" xlink:href=\"#me4d41077c7\" y=\"17.554286\"/>\n      </g>\n     </g>\n     <g id=\"text_12\">\n      <!-- 12 -->\n      <g transform=\"translate(7.2 21.353504)scale(0.1 -0.1)\">\n       <use xlink:href=\"#DejaVuSans-49\"/>\n       <use x=\"63.623047\" xlink:href=\"#DejaVuSans-50\"/>\n      </g>\n     </g>\n    </g>\n   </g>\n   <g id=\"line2d_13\">\n    <path clip-path=\"url(#p815de81658)\" d=\"M 0 0 \n\" style=\"fill:none;stroke:#424242;stroke-linecap:square;stroke-width:2.7;\"/>\n   </g>\n   <g id=\"line2d_14\">\n    <path clip-path=\"url(#p815de81658)\" d=\"M 0 0 \n\" style=\"fill:none;stroke:#424242;stroke-linecap:square;stroke-width:2.7;\"/>\n   </g>\n   <g id=\"line2d_15\">\n    <path clip-path=\"url(#p815de81658)\" d=\"M 0 0 \n\" style=\"fill:none;stroke:#424242;stroke-linecap:square;stroke-width:2.7;\"/>\n   </g>\n   <g id=\"line2d_16\">\n    <path clip-path=\"url(#p815de81658)\" d=\"M 0 0 \n\" style=\"fill:none;stroke:#424242;stroke-linecap:square;stroke-width:2.7;\"/>\n   </g>\n   <g id=\"line2d_17\">\n    <path clip-path=\"url(#p815de81658)\" d=\"M 0 0 \n\" style=\"fill:none;stroke:#424242;stroke-linecap:square;stroke-width:2.7;\"/>\n   </g>\n   <g id=\"patch_8\">\n    <path d=\"M 26.925 224.64 \nL 26.925 7.2 \n\" style=\"fill:none;stroke:#000000;stroke-linecap:square;stroke-linejoin:miter;stroke-width:0.8;\"/>\n   </g>\n   <g id=\"patch_9\">\n    <path d=\"M 361.725 224.64 \nL 361.725 7.2 \n\" style=\"fill:none;stroke:#000000;stroke-linecap:square;stroke-linejoin:miter;stroke-width:0.8;\"/>\n   </g>\n   <g id=\"patch_10\">\n    <path d=\"M 26.925 224.64 \nL 361.725 224.64 \n\" style=\"fill:none;stroke:#000000;stroke-linecap:square;stroke-linejoin:miter;stroke-width:0.8;\"/>\n   </g>\n   <g id=\"patch_11\">\n    <path d=\"M 26.925 7.2 \nL 361.725 7.2 \n\" style=\"fill:none;stroke:#000000;stroke-linecap:square;stroke-linejoin:miter;stroke-width:0.8;\"/>\n   </g>\n  </g>\n </g>\n <defs>\n  <clipPath id=\"p815de81658\">\n   <rect height=\"217.44\" width=\"334.8\" x=\"26.925\" y=\"7.2\"/>\n  </clipPath>\n </defs>\n</svg>\n",
      "image/png": "[encoded data removed]"
     },
     "metadata": {
      "needs_background": "light"
     }
    }
   ],
   "source": [
    "import matplotlib.pyplot as plt\n",
    "import seaborn as sns\n",
    "# 数据准备\n",
    "x = ['Cat1', 'Cat2', 'Cat3', 'Cat4', 'Cat5']\n",
    "y = [5, 4, 8, 12, 7]\n",
    "# 用Matplotlib画条形图\n",
    "plt.bar(x, y)\n",
    "plt.show()\n",
    "# 用Seaborn画条形图\n",
    "sns.barplot(x, y)\n",
    "plt.show()"
   ]
  },
  {
   "cell_type": "code",
   "execution_count": 16,
   "metadata": {},
   "outputs": [
    {
     "output_type": "execute_result",
     "data": {
      "text/plain": "([], <a list of 0 Text major ticklabel objects>)"
     },
     "metadata": {},
     "execution_count": 16
    },
    {
     "output_type": "display_data",
     "data": {
      "text/plain": "<Figure size 432x288 with 1 Axes>",
      "image/svg+xml": "<?xml version=\"1.0\" encoding=\"utf-8\" standalone=\"no\"?>\n<!DOCTYPE svg PUBLIC \"-//W3C//DTD SVG 1.1//EN\"\n  \"http://www.w3.org/Graphics/SVG/1.1/DTD/svg11.dtd\">\n<!-- Created with matplotlib (https://matplotlib.org/) -->\n<svg height=\"235.34pt\" version=\"1.1\" viewBox=\"0 0 352.7 235.34\" width=\"352.7pt\" xmlns=\"http://www.w3.org/2000/svg\" xmlns:xlink=\"http://www.w3.org/1999/xlink\">\n <defs>\n  <style type=\"text/css\">\n*{stroke-linecap:butt;stroke-linejoin:round;}\n  </style>\n </defs>\n <g id=\"figure_1\">\n  <g id=\"patch_1\">\n   <path d=\"M 0 235.34 \nL 352.7 235.34 \nL 352.7 0 \nL 0 0 \nz\n\" style=\"fill:none;\"/>\n  </g>\n  <g id=\"axes_1\">\n   <g id=\"patch_2\">\n    <path d=\"M 10.7 224.64 \nL 345.5 224.64 \nL 345.5 7.2 \nL 10.7 7.2 \nz\n\" style=\"fill:#ffffff;\"/>\n   </g>\n   <g id=\"patch_3\">\n    <path clip-path=\"url(#p037f5a22cb)\" d=\"M 13.3784 115.92 \nL 34.8056 115.92 \nL 34.8056 57.519236 \nL 13.3784 57.519236 \nz\n\" style=\"fill:#1f77b4;\"/>\n   </g>\n   <g id=\"patch_4\">\n    <path clip-path=\"url(#p037f5a22cb)\" d=\"M 40.1624 115.92 \nL 61.5896 115.92 \nL 61.5896 70.0685 \nL 40.1624 70.0685 \nz\n\" style=\"fill:#1f77b4;\"/>\n   </g>\n   <g id=\"patch_5\">\n    <path clip-path=\"url(#p037f5a22cb)\" d=\"M 66.9464 115.92 \nL 88.3736 115.92 \nL 88.3736 67.446877 \nL 66.9464 67.446877 \nz\n\" style=\"fill:#1f77b4;\"/>\n   </g>\n   <g id=\"patch_6\">\n    <path clip-path=\"url(#p037f5a22cb)\" d=\"M 93.7304 115.92 \nL 115.1576 115.92 \nL 115.1576 64.704214 \nL 93.7304 64.704214 \nz\n\" style=\"fill:#1f77b4;\"/>\n   </g>\n   <g id=\"patch_7\">\n    <path clip-path=\"url(#p037f5a22cb)\" d=\"M 120.5144 115.92 \nL 141.9416 115.92 \nL 141.9416 83.155628 \nL 120.5144 83.155628 \nz\n\" style=\"fill:#1f77b4;\"/>\n   </g>\n   <g id=\"patch_8\">\n    <path clip-path=\"url(#p037f5a22cb)\" d=\"M 147.2984 115.92 \nL 168.7256 115.92 \nL 168.7256 87.306766 \nL 147.2984 87.306766 \nz\n\" style=\"fill:#1f77b4;\"/>\n   </g>\n   <g id=\"patch_9\">\n    <path clip-path=\"url(#p037f5a22cb)\" d=\"M 174.0824 115.92 \nL 195.5096 115.92 \nL 195.5096 93.644438 \nL 174.0824 93.644438 \nz\n\" style=\"fill:#1f77b4;\"/>\n   </g>\n   <g id=\"patch_10\">\n    <path clip-path=\"url(#p037f5a22cb)\" d=\"M 200.8664 115.92 \nL 222.2936 115.92 \nL 222.2936 93.216375 \nL 200.8664 93.216375 \nz\n\" style=\"fill:#1f77b4;\"/>\n   </g>\n   <g id=\"patch_11\">\n    <path clip-path=\"url(#p037f5a22cb)\" d=\"M 227.6504 115.92 \nL 249.0776 115.92 \nL 249.0776 96.540634 \nL 227.6504 96.540634 \nz\n\" style=\"fill:#1f77b4;\"/>\n   </g>\n   <g id=\"patch_12\">\n    <path clip-path=\"url(#p037f5a22cb)\" d=\"M 254.4344 115.92 \nL 275.8616 115.92 \nL 275.8616 99.488628 \nL 254.4344 99.488628 \nz\n\" style=\"fill:#1f77b4;\"/>\n   </g>\n   <g id=\"patch_13\">\n    <path clip-path=\"url(#p037f5a22cb)\" d=\"M 281.2184 115.92 \nL 302.6456 115.92 \nL 302.6456 107.563973 \nL 281.2184 107.563973 \nz\n\" style=\"fill:#1f77b4;\"/>\n   </g>\n   <g id=\"patch_14\">\n    <path clip-path=\"url(#p037f5a22cb)\" d=\"M 308.0024 115.92 \nL 329.4296 115.92 \nL 329.4296 109.88241 \nL 308.0024 109.88241 \nz\n\" style=\"fill:#1f77b4;\"/>\n   </g>\n   <g id=\"patch_15\">\n    <path clip-path=\"url(#p037f5a22cb)\" d=\"M 13.3784 115.92 \nL 34.8056 115.92 \nL 34.8056 163.875148 \nL 13.3784 163.875148 \nz\n\" style=\"fill:#ff7f0e;\"/>\n   </g>\n   <g id=\"patch_16\">\n    <path clip-path=\"url(#p037f5a22cb)\" d=\"M 40.1624 115.92 \nL 61.5896 115.92 \nL 61.5896 173.760911 \nL 40.1624 173.760911 \nz\n\" style=\"fill:#ff7f0e;\"/>\n   </g>\n   <g id=\"patch_17\">\n    <path clip-path=\"url(#p037f5a22cb)\" d=\"M 66.9464 115.92 \nL 88.3736 115.92 \nL 88.3736 170.929971 \nL 66.9464 170.929971 \nz\n\" style=\"fill:#ff7f0e;\"/>\n   </g>\n   <g id=\"patch_18\">\n    <path clip-path=\"url(#p037f5a22cb)\" d=\"M 93.7304 115.92 \nL 115.1576 115.92 \nL 115.1576 157.857599 \nL 93.7304 157.857599 \nz\n\" style=\"fill:#ff7f0e;\"/>\n   </g>\n   <g id=\"patch_19\">\n    <path clip-path=\"url(#p037f5a22cb)\" d=\"M 120.5144 115.92 \nL 141.9416 115.92 \nL 141.9416 149.409202 \nL 120.5144 149.409202 \nz\n\" style=\"fill:#ff7f0e;\"/>\n   </g>\n   <g id=\"patch_20\">\n    <path clip-path=\"url(#p037f5a22cb)\" d=\"M 147.2984 115.92 \nL 168.7256 115.92 \nL 168.7256 165.733039 \nL 147.2984 165.733039 \nz\n\" style=\"fill:#ff7f0e;\"/>\n   </g>\n   <g id=\"patch_21\">\n    <path clip-path=\"url(#p037f5a22cb)\" d=\"M 174.0824 115.92 \nL 195.5096 115.92 \nL 195.5096 143.597744 \nL 174.0824 143.597744 \nz\n\" style=\"fill:#ff7f0e;\"/>\n   </g>\n   <g id=\"patch_22\">\n    <path clip-path=\"url(#p037f5a22cb)\" d=\"M 200.8664 115.92 \nL 222.2936 115.92 \nL 222.2936 140.365094 \nL 200.8664 140.365094 \nz\n\" style=\"fill:#ff7f0e;\"/>\n   </g>\n   <g id=\"patch_23\">\n    <path clip-path=\"url(#p037f5a22cb)\" d=\"M 227.6504 115.92 \nL 249.0776 115.92 \nL 249.0776 137.728349 \nL 227.6504 137.728349 \nz\n\" style=\"fill:#ff7f0e;\"/>\n   </g>\n   <g id=\"patch_24\">\n    <path clip-path=\"url(#p037f5a22cb)\" d=\"M 254.4344 115.92 \nL 275.8616 115.92 \nL 275.8616 135.001379 \nL 254.4344 135.001379 \nz\n\" style=\"fill:#ff7f0e;\"/>\n   </g>\n   <g id=\"patch_25\">\n    <path clip-path=\"url(#p037f5a22cb)\" d=\"M 281.2184 115.92 \nL 302.6456 115.92 \nL 302.6456 123.979938 \nL 281.2184 123.979938 \nz\n\" style=\"fill:#ff7f0e;\"/>\n   </g>\n   <g id=\"patch_26\">\n    <path clip-path=\"url(#p037f5a22cb)\" d=\"M 308.0024 115.92 \nL 329.4296 115.92 \nL 329.4296 123.147217 \nL 308.0024 123.147217 \nz\n\" style=\"fill:#ff7f0e;\"/>\n   </g>\n   <g id=\"matplotlib.axis_1\"/>\n   <g id=\"matplotlib.axis_2\"/>\n   <g id=\"patch_27\">\n    <path d=\"M 10.7 224.64 \nL 10.7 7.2 \n\" style=\"fill:none;stroke:#000000;stroke-linecap:square;stroke-linejoin:miter;stroke-width:0.8;\"/>\n   </g>\n   <g id=\"patch_28\">\n    <path d=\"M 345.5 224.64 \nL 345.5 7.2 \n\" style=\"fill:none;stroke:#000000;stroke-linecap:square;stroke-linejoin:miter;stroke-width:0.8;\"/>\n   </g>\n   <g id=\"patch_29\">\n    <path d=\"M 10.7 224.64 \nL 345.5 224.64 \n\" style=\"fill:none;stroke:#000000;stroke-linecap:square;stroke-linejoin:miter;stroke-width:0.8;\"/>\n   </g>\n   <g id=\"patch_30\">\n    <path d=\"M 10.7 7.2 \nL 345.5 7.2 \n\" style=\"fill:none;stroke:#000000;stroke-linecap:square;stroke-linejoin:miter;stroke-width:0.8;\"/>\n   </g>\n   <g id=\"text_1\">\n    <!-- 0.67 -->\n    <defs>\n     <path d=\"M 31.78125 66.40625 \nQ 24.171875 66.40625 20.328125 58.90625 \nQ 16.5 51.421875 16.5 36.375 \nQ 16.5 21.390625 20.328125 13.890625 \nQ 24.171875 6.390625 31.78125 6.390625 \nQ 39.453125 6.390625 43.28125 13.890625 \nQ 47.125 21.390625 47.125 36.375 \nQ 47.125 51.421875 43.28125 58.90625 \nQ 39.453125 66.40625 31.78125 66.40625 \nz\nM 31.78125 74.21875 \nQ 44.046875 74.21875 50.515625 64.515625 \nQ 56.984375 54.828125 56.984375 36.375 \nQ 56.984375 17.96875 50.515625 8.265625 \nQ 44.046875 -1.421875 31.78125 -1.421875 \nQ 19.53125 -1.421875 13.0625 8.265625 \nQ 6.59375 17.96875 6.59375 36.375 \nQ 6.59375 54.828125 13.0625 64.515625 \nQ 19.53125 74.21875 31.78125 74.21875 \nz\n\" id=\"DejaVuSans-48\"/>\n     <path d=\"M 10.6875 12.40625 \nL 21 12.40625 \nL 21 0 \nL 10.6875 0 \nz\n\" id=\"DejaVuSans-46\"/>\n     <path d=\"M 33.015625 40.375 \nQ 26.375 40.375 22.484375 35.828125 \nQ 18.609375 31.296875 18.609375 23.390625 \nQ 18.609375 15.53125 22.484375 10.953125 \nQ 26.375 6.390625 33.015625 6.390625 \nQ 39.65625 6.390625 43.53125 10.953125 \nQ 47.40625 15.53125 47.40625 23.390625 \nQ 47.40625 31.296875 43.53125 35.828125 \nQ 39.65625 40.375 33.015625 40.375 \nz\nM 52.59375 71.296875 \nL 52.59375 62.3125 \nQ 48.875 64.0625 45.09375 64.984375 \nQ 41.3125 65.921875 37.59375 65.921875 \nQ 27.828125 65.921875 22.671875 59.328125 \nQ 17.53125 52.734375 16.796875 39.40625 \nQ 19.671875 43.65625 24.015625 45.921875 \nQ 28.375 48.1875 33.59375 48.1875 \nQ 44.578125 48.1875 50.953125 41.515625 \nQ 57.328125 34.859375 57.328125 23.390625 \nQ 57.328125 12.15625 50.6875 5.359375 \nQ 44.046875 -1.421875 33.015625 -1.421875 \nQ 20.359375 -1.421875 13.671875 8.265625 \nQ 6.984375 17.96875 6.984375 36.375 \nQ 6.984375 53.65625 15.1875 63.9375 \nQ 23.390625 74.21875 37.203125 74.21875 \nQ 40.921875 74.21875 44.703125 73.484375 \nQ 48.484375 72.75 52.59375 71.296875 \nz\n\" id=\"DejaVuSans-54\"/>\n     <path d=\"M 8.203125 72.90625 \nL 55.078125 72.90625 \nL 55.078125 68.703125 \nL 28.609375 0 \nL 18.3125 0 \nL 43.21875 64.59375 \nL 8.203125 64.59375 \nz\n\" id=\"DejaVuSans-55\"/>\n    </defs>\n    <g transform=\"translate(14.298388 51.090748)scale(0.1 -0.1)\">\n     <use xlink:href=\"#DejaVuSans-48\"/>\n     <use x=\"63.623047\" xlink:href=\"#DejaVuSans-46\"/>\n     <use x=\"95.410156\" xlink:href=\"#DejaVuSans-54\"/>\n     <use x=\"159.033203\" xlink:href=\"#DejaVuSans-55\"/>\n    </g>\n   </g>\n   <g id=\"text_2\">\n    <!-- 0.53 -->\n    <defs>\n     <path d=\"M 10.796875 72.90625 \nL 49.515625 72.90625 \nL 49.515625 64.59375 \nL 19.828125 64.59375 \nL 19.828125 46.734375 \nQ 21.96875 47.46875 24.109375 47.828125 \nQ 26.265625 48.1875 28.421875 48.1875 \nQ 40.625 48.1875 47.75 41.5 \nQ 54.890625 34.8125 54.890625 23.390625 \nQ 54.890625 11.625 47.5625 5.09375 \nQ 40.234375 -1.421875 26.90625 -1.421875 \nQ 22.3125 -1.421875 17.546875 -0.640625 \nQ 12.796875 0.140625 7.71875 1.703125 \nL 7.71875 11.625 \nQ 12.109375 9.234375 16.796875 8.0625 \nQ 21.484375 6.890625 26.703125 6.890625 \nQ 35.15625 6.890625 40.078125 11.328125 \nQ 45.015625 15.765625 45.015625 23.390625 \nQ 45.015625 31 40.078125 35.4375 \nQ 35.15625 39.890625 26.703125 39.890625 \nQ 22.75 39.890625 18.8125 39.015625 \nQ 14.890625 38.140625 10.796875 36.28125 \nz\n\" id=\"DejaVuSans-53\"/>\n     <path d=\"M 40.578125 39.3125 \nQ 47.65625 37.796875 51.625 33 \nQ 55.609375 28.21875 55.609375 21.1875 \nQ 55.609375 10.40625 48.1875 4.484375 \nQ 40.765625 -1.421875 27.09375 -1.421875 \nQ 22.515625 -1.421875 17.65625 -0.515625 \nQ 12.796875 0.390625 7.625 2.203125 \nL 7.625 11.71875 \nQ 11.71875 9.328125 16.59375 8.109375 \nQ 21.484375 6.890625 26.8125 6.890625 \nQ 36.078125 6.890625 40.9375 10.546875 \nQ 45.796875 14.203125 45.796875 21.1875 \nQ 45.796875 27.640625 41.28125 31.265625 \nQ 36.765625 34.90625 28.71875 34.90625 \nL 20.21875 34.90625 \nL 20.21875 43.015625 \nL 29.109375 43.015625 \nQ 36.375 43.015625 40.234375 45.921875 \nQ 44.09375 48.828125 44.09375 54.296875 \nQ 44.09375 59.90625 40.109375 62.90625 \nQ 36.140625 65.921875 28.71875 65.921875 \nQ 24.65625 65.921875 20.015625 65.03125 \nQ 15.375 64.15625 9.8125 62.3125 \nL 9.8125 71.09375 \nQ 15.4375 72.65625 20.34375 73.4375 \nQ 25.25 74.21875 29.59375 74.21875 \nQ 40.828125 74.21875 47.359375 69.109375 \nQ 53.90625 64.015625 53.90625 55.328125 \nQ 53.90625 49.265625 50.4375 45.09375 \nQ 46.96875 40.921875 40.578125 39.3125 \nz\n\" id=\"DejaVuSans-51\"/>\n    </defs>\n    <g transform=\"translate(41.082388 63.640013)scale(0.1 -0.1)\">\n     <use xlink:href=\"#DejaVuSans-48\"/>\n     <use x=\"63.623047\" xlink:href=\"#DejaVuSans-46\"/>\n     <use x=\"95.410156\" xlink:href=\"#DejaVuSans-53\"/>\n     <use x=\"159.033203\" xlink:href=\"#DejaVuSans-51\"/>\n    </g>\n   </g>\n   <g id=\"text_3\">\n    <!-- 0.56 -->\n    <g transform=\"translate(67.866388 61.01839)scale(0.1 -0.1)\">\n     <use xlink:href=\"#DejaVuSans-48\"/>\n     <use x=\"63.623047\" xlink:href=\"#DejaVuSans-46\"/>\n     <use x=\"95.410156\" xlink:href=\"#DejaVuSans-53\"/>\n     <use x=\"159.033203\" xlink:href=\"#DejaVuSans-54\"/>\n    </g>\n   </g>\n   <g id=\"text_4\">\n    <!-- 0.59 -->\n    <defs>\n     <path d=\"M 10.984375 1.515625 \nL 10.984375 10.5 \nQ 14.703125 8.734375 18.5 7.8125 \nQ 22.3125 6.890625 25.984375 6.890625 \nQ 35.75 6.890625 40.890625 13.453125 \nQ 46.046875 20.015625 46.78125 33.40625 \nQ 43.953125 29.203125 39.59375 26.953125 \nQ 35.25 24.703125 29.984375 24.703125 \nQ 19.046875 24.703125 12.671875 31.3125 \nQ 6.296875 37.9375 6.296875 49.421875 \nQ 6.296875 60.640625 12.9375 67.421875 \nQ 19.578125 74.21875 30.609375 74.21875 \nQ 43.265625 74.21875 49.921875 64.515625 \nQ 56.59375 54.828125 56.59375 36.375 \nQ 56.59375 19.140625 48.40625 8.859375 \nQ 40.234375 -1.421875 26.421875 -1.421875 \nQ 22.703125 -1.421875 18.890625 -0.6875 \nQ 15.09375 0.046875 10.984375 1.515625 \nz\nM 30.609375 32.421875 \nQ 37.25 32.421875 41.125 36.953125 \nQ 45.015625 41.5 45.015625 49.421875 \nQ 45.015625 57.28125 41.125 61.84375 \nQ 37.25 66.40625 30.609375 66.40625 \nQ 23.96875 66.40625 20.09375 61.84375 \nQ 16.21875 57.28125 16.21875 49.421875 \nQ 16.21875 41.5 20.09375 36.953125 \nQ 23.96875 32.421875 30.609375 32.421875 \nz\n\" id=\"DejaVuSans-57\"/>\n    </defs>\n    <g transform=\"translate(94.650388 58.275726)scale(0.1 -0.1)\">\n     <use xlink:href=\"#DejaVuSans-48\"/>\n     <use x=\"63.623047\" xlink:href=\"#DejaVuSans-46\"/>\n     <use x=\"95.410156\" xlink:href=\"#DejaVuSans-53\"/>\n     <use x=\"159.033203\" xlink:href=\"#DejaVuSans-57\"/>\n    </g>\n   </g>\n   <g id=\"text_5\">\n    <!-- 0.38 -->\n    <defs>\n     <path d=\"M 31.78125 34.625 \nQ 24.75 34.625 20.71875 30.859375 \nQ 16.703125 27.09375 16.703125 20.515625 \nQ 16.703125 13.921875 20.71875 10.15625 \nQ 24.75 6.390625 31.78125 6.390625 \nQ 38.8125 6.390625 42.859375 10.171875 \nQ 46.921875 13.96875 46.921875 20.515625 \nQ 46.921875 27.09375 42.890625 30.859375 \nQ 38.875 34.625 31.78125 34.625 \nz\nM 21.921875 38.8125 \nQ 15.578125 40.375 12.03125 44.71875 \nQ 8.5 49.078125 8.5 55.328125 \nQ 8.5 64.0625 14.71875 69.140625 \nQ 20.953125 74.21875 31.78125 74.21875 \nQ 42.671875 74.21875 48.875 69.140625 \nQ 55.078125 64.0625 55.078125 55.328125 \nQ 55.078125 49.078125 51.53125 44.71875 \nQ 48 40.375 41.703125 38.8125 \nQ 48.828125 37.15625 52.796875 32.3125 \nQ 56.78125 27.484375 56.78125 20.515625 \nQ 56.78125 9.90625 50.3125 4.234375 \nQ 43.84375 -1.421875 31.78125 -1.421875 \nQ 19.734375 -1.421875 13.25 4.234375 \nQ 6.78125 9.90625 6.78125 20.515625 \nQ 6.78125 27.484375 10.78125 32.3125 \nQ 14.796875 37.15625 21.921875 38.8125 \nz\nM 18.3125 54.390625 \nQ 18.3125 48.734375 21.84375 45.5625 \nQ 25.390625 42.390625 31.78125 42.390625 \nQ 38.140625 42.390625 41.71875 45.5625 \nQ 45.3125 48.734375 45.3125 54.390625 \nQ 45.3125 60.0625 41.71875 63.234375 \nQ 38.140625 66.40625 31.78125 66.40625 \nQ 25.390625 66.40625 21.84375 63.234375 \nQ 18.3125 60.0625 18.3125 54.390625 \nz\n\" id=\"DejaVuSans-56\"/>\n    </defs>\n    <g transform=\"translate(121.434388 76.727141)scale(0.1 -0.1)\">\n     <use xlink:href=\"#DejaVuSans-48\"/>\n     <use x=\"63.623047\" xlink:href=\"#DejaVuSans-46\"/>\n     <use x=\"95.410156\" xlink:href=\"#DejaVuSans-51\"/>\n     <use x=\"159.033203\" xlink:href=\"#DejaVuSans-56\"/>\n    </g>\n   </g>\n   <g id=\"text_6\">\n    <!-- 0.33 -->\n    <g transform=\"translate(148.218388 80.878278)scale(0.1 -0.1)\">\n     <use xlink:href=\"#DejaVuSans-48\"/>\n     <use x=\"63.623047\" xlink:href=\"#DejaVuSans-46\"/>\n     <use x=\"95.410156\" xlink:href=\"#DejaVuSans-51\"/>\n     <use x=\"159.033203\" xlink:href=\"#DejaVuSans-51\"/>\n    </g>\n   </g>\n   <g id=\"text_7\">\n    <!-- 0.26 -->\n    <defs>\n     <path d=\"M 19.1875 8.296875 \nL 53.609375 8.296875 \nL 53.609375 0 \nL 7.328125 0 \nL 7.328125 8.296875 \nQ 12.9375 14.109375 22.625 23.890625 \nQ 32.328125 33.6875 34.8125 36.53125 \nQ 39.546875 41.84375 41.421875 45.53125 \nQ 43.3125 49.21875 43.3125 52.78125 \nQ 43.3125 58.59375 39.234375 62.25 \nQ 35.15625 65.921875 28.609375 65.921875 \nQ 23.96875 65.921875 18.8125 64.3125 \nQ 13.671875 62.703125 7.8125 59.421875 \nL 7.8125 69.390625 \nQ 13.765625 71.78125 18.9375 73 \nQ 24.125 74.21875 28.421875 74.21875 \nQ 39.75 74.21875 46.484375 68.546875 \nQ 53.21875 62.890625 53.21875 53.421875 \nQ 53.21875 48.921875 51.53125 44.890625 \nQ 49.859375 40.875 45.40625 35.40625 \nQ 44.1875 33.984375 37.640625 27.21875 \nQ 31.109375 20.453125 19.1875 8.296875 \nz\n\" id=\"DejaVuSans-50\"/>\n    </defs>\n    <g transform=\"translate(175.002388 87.21595)scale(0.1 -0.1)\">\n     <use xlink:href=\"#DejaVuSans-48\"/>\n     <use x=\"63.623047\" xlink:href=\"#DejaVuSans-46\"/>\n     <use x=\"95.410156\" xlink:href=\"#DejaVuSans-50\"/>\n     <use x=\"159.033203\" xlink:href=\"#DejaVuSans-54\"/>\n    </g>\n   </g>\n   <g id=\"text_8\">\n    <!-- 0.26 -->\n    <g transform=\"translate(201.786388 86.787888)scale(0.1 -0.1)\">\n     <use xlink:href=\"#DejaVuSans-48\"/>\n     <use x=\"63.623047\" xlink:href=\"#DejaVuSans-46\"/>\n     <use x=\"95.410156\" xlink:href=\"#DejaVuSans-50\"/>\n     <use x=\"159.033203\" xlink:href=\"#DejaVuSans-54\"/>\n    </g>\n   </g>\n   <g id=\"text_9\">\n    <!-- 0.22 -->\n    <g transform=\"translate(228.570388 90.112147)scale(0.1 -0.1)\">\n     <use xlink:href=\"#DejaVuSans-48\"/>\n     <use x=\"63.623047\" xlink:href=\"#DejaVuSans-46\"/>\n     <use x=\"95.410156\" xlink:href=\"#DejaVuSans-50\"/>\n     <use x=\"159.033203\" xlink:href=\"#DejaVuSans-50\"/>\n    </g>\n   </g>\n   <g id=\"text_10\">\n    <!-- 0.19 -->\n    <defs>\n     <path d=\"M 12.40625 8.296875 \nL 28.515625 8.296875 \nL 28.515625 63.921875 \nL 10.984375 60.40625 \nL 10.984375 69.390625 \nL 28.421875 72.90625 \nL 38.28125 72.90625 \nL 38.28125 8.296875 \nL 54.390625 8.296875 \nL 54.390625 0 \nL 12.40625 0 \nz\n\" id=\"DejaVuSans-49\"/>\n    </defs>\n    <g transform=\"translate(255.354388 93.060141)scale(0.1 -0.1)\">\n     <use xlink:href=\"#DejaVuSans-48\"/>\n     <use x=\"63.623047\" xlink:href=\"#DejaVuSans-46\"/>\n     <use x=\"95.410156\" xlink:href=\"#DejaVuSans-49\"/>\n     <use x=\"159.033203\" xlink:href=\"#DejaVuSans-57\"/>\n    </g>\n   </g>\n   <g id=\"text_11\">\n    <!-- 0.10 -->\n    <g transform=\"translate(282.138388 101.135486)scale(0.1 -0.1)\">\n     <use xlink:href=\"#DejaVuSans-48\"/>\n     <use x=\"63.623047\" xlink:href=\"#DejaVuSans-46\"/>\n     <use x=\"95.410156\" xlink:href=\"#DejaVuSans-49\"/>\n     <use x=\"159.033203\" xlink:href=\"#DejaVuSans-48\"/>\n    </g>\n   </g>\n   <g id=\"text_12\">\n    <!-- 0.07 -->\n    <g transform=\"translate(308.922388 103.453922)scale(0.1 -0.1)\">\n     <use xlink:href=\"#DejaVuSans-48\"/>\n     <use x=\"63.623047\" xlink:href=\"#DejaVuSans-46\"/>\n     <use x=\"95.410156\" xlink:href=\"#DejaVuSans-48\"/>\n     <use x=\"159.033203\" xlink:href=\"#DejaVuSans-55\"/>\n    </g>\n   </g>\n   <g id=\"text_13\">\n    <!-- 0.55 -->\n    <g transform=\"translate(14.298388 174.84186)scale(0.1 -0.1)\">\n     <use xlink:href=\"#DejaVuSans-48\"/>\n     <use x=\"63.623047\" xlink:href=\"#DejaVuSans-46\"/>\n     <use x=\"95.410156\" xlink:href=\"#DejaVuSans-53\"/>\n     <use x=\"159.033203\" xlink:href=\"#DejaVuSans-53\"/>\n    </g>\n   </g>\n   <g id=\"text_14\">\n    <!-- 0.67 -->\n    <g transform=\"translate(41.082388 184.727624)scale(0.1 -0.1)\">\n     <use xlink:href=\"#DejaVuSans-48\"/>\n     <use x=\"63.623047\" xlink:href=\"#DejaVuSans-46\"/>\n     <use x=\"95.410156\" xlink:href=\"#DejaVuSans-54\"/>\n     <use x=\"159.033203\" xlink:href=\"#DejaVuSans-55\"/>\n    </g>\n   </g>\n   <g id=\"text_15\">\n    <!-- 0.63 -->\n    <g transform=\"translate(67.866388 181.896683)scale(0.1 -0.1)\">\n     <use xlink:href=\"#DejaVuSans-48\"/>\n     <use x=\"63.623047\" xlink:href=\"#DejaVuSans-46\"/>\n     <use x=\"95.410156\" xlink:href=\"#DejaVuSans-54\"/>\n     <use x=\"159.033203\" xlink:href=\"#DejaVuSans-51\"/>\n    </g>\n   </g>\n   <g id=\"text_16\">\n    <!-- 0.48 -->\n    <defs>\n     <path d=\"M 37.796875 64.3125 \nL 12.890625 25.390625 \nL 37.796875 25.390625 \nz\nM 35.203125 72.90625 \nL 47.609375 72.90625 \nL 47.609375 25.390625 \nL 58.015625 25.390625 \nL 58.015625 17.1875 \nL 47.609375 17.1875 \nL 47.609375 0 \nL 37.796875 0 \nL 37.796875 17.1875 \nL 4.890625 17.1875 \nL 4.890625 26.703125 \nz\n\" id=\"DejaVuSans-52\"/>\n    </defs>\n    <g transform=\"translate(94.650388 168.824312)scale(0.1 -0.1)\">\n     <use xlink:href=\"#DejaVuSans-48\"/>\n     <use x=\"63.623047\" xlink:href=\"#DejaVuSans-46\"/>\n     <use x=\"95.410156\" xlink:href=\"#DejaVuSans-52\"/>\n     <use x=\"159.033203\" xlink:href=\"#DejaVuSans-56\"/>\n    </g>\n   </g>\n   <g id=\"text_17\">\n    <!-- 0.39 -->\n    <g transform=\"translate(121.434388 160.375915)scale(0.1 -0.1)\">\n     <use xlink:href=\"#DejaVuSans-48\"/>\n     <use x=\"63.623047\" xlink:href=\"#DejaVuSans-46\"/>\n     <use x=\"95.410156\" xlink:href=\"#DejaVuSans-51\"/>\n     <use x=\"159.033203\" xlink:href=\"#DejaVuSans-57\"/>\n    </g>\n   </g>\n   <g id=\"text_18\">\n    <!-- 0.57 -->\n    <g transform=\"translate(148.218388 176.699752)scale(0.1 -0.1)\">\n     <use xlink:href=\"#DejaVuSans-48\"/>\n     <use x=\"63.623047\" xlink:href=\"#DejaVuSans-46\"/>\n     <use x=\"95.410156\" xlink:href=\"#DejaVuSans-53\"/>\n     <use x=\"159.033203\" xlink:href=\"#DejaVuSans-55\"/>\n    </g>\n   </g>\n   <g id=\"text_19\">\n    <!-- 0.32 -->\n    <g transform=\"translate(175.002388 154.564456)scale(0.1 -0.1)\">\n     <use xlink:href=\"#DejaVuSans-48\"/>\n     <use x=\"63.623047\" xlink:href=\"#DejaVuSans-46\"/>\n     <use x=\"95.410156\" xlink:href=\"#DejaVuSans-51\"/>\n     <use x=\"159.033203\" xlink:href=\"#DejaVuSans-50\"/>\n    </g>\n   </g>\n   <g id=\"text_20\">\n    <!-- 0.28 -->\n    <g transform=\"translate(201.786388 151.331807)scale(0.1 -0.1)\">\n     <use xlink:href=\"#DejaVuSans-48\"/>\n     <use x=\"63.623047\" xlink:href=\"#DejaVuSans-46\"/>\n     <use x=\"95.410156\" xlink:href=\"#DejaVuSans-50\"/>\n     <use x=\"159.033203\" xlink:href=\"#DejaVuSans-56\"/>\n    </g>\n   </g>\n   <g id=\"text_21\">\n    <!-- 0.25 -->\n    <g transform=\"translate(228.570388 148.695062)scale(0.1 -0.1)\">\n     <use xlink:href=\"#DejaVuSans-48\"/>\n     <use x=\"63.623047\" xlink:href=\"#DejaVuSans-46\"/>\n     <use x=\"95.410156\" xlink:href=\"#DejaVuSans-50\"/>\n     <use x=\"159.033203\" xlink:href=\"#DejaVuSans-53\"/>\n    </g>\n   </g>\n   <g id=\"text_22\">\n    <!-- 0.22 -->\n    <g transform=\"translate(255.354388 145.968091)scale(0.1 -0.1)\">\n     <use xlink:href=\"#DejaVuSans-48\"/>\n     <use x=\"63.623047\" xlink:href=\"#DejaVuSans-46\"/>\n     <use x=\"95.410156\" xlink:href=\"#DejaVuSans-50\"/>\n     <use x=\"159.033203\" xlink:href=\"#DejaVuSans-50\"/>\n    </g>\n   </g>\n   <g id=\"text_23\">\n    <!-- 0.09 -->\n    <g transform=\"translate(282.138388 134.946651)scale(0.1 -0.1)\">\n     <use xlink:href=\"#DejaVuSans-48\"/>\n     <use x=\"63.623047\" xlink:href=\"#DejaVuSans-46\"/>\n     <use x=\"95.410156\" xlink:href=\"#DejaVuSans-48\"/>\n     <use x=\"159.033203\" xlink:href=\"#DejaVuSans-57\"/>\n    </g>\n   </g>\n   <g id=\"text_24\">\n    <!-- 0.08 -->\n    <g transform=\"translate(308.922388 134.113929)scale(0.1 -0.1)\">\n     <use xlink:href=\"#DejaVuSans-48\"/>\n     <use x=\"63.623047\" xlink:href=\"#DejaVuSans-46\"/>\n     <use x=\"95.410156\" xlink:href=\"#DejaVuSans-48\"/>\n     <use x=\"159.033203\" xlink:href=\"#DejaVuSans-56\"/>\n    </g>\n   </g>\n  </g>\n </g>\n <defs>\n  <clipPath id=\"p037f5a22cb\">\n   <rect height=\"217.44\" width=\"334.8\" x=\"10.7\" y=\"7.2\"/>\n  </clipPath>\n </defs>\n</svg>\n",
      "image/png": "[encoded data removed]"
     },
     "metadata": {}
    }
   ],
   "source": [
    "import matplotlib.pyplot as plt\n",
    "import numpy as np\n",
    "n = 12\n",
    "X = np.arange(n)\n",
    "Y1 = (1 - X/float(n)) * np.random.uniform(0.5,1.0,n)\n",
    "Y2 = (1 - X/float(n)) * np.random.uniform(0.5,1.0,n)\n",
    "\n",
    "# plt.bar(X,+Y1,facecolor='#9999ff',edgecolor='white')\n",
    "# plt.bar(X,-Y2,facecolor='#ff9999',edgecolor='white')\n",
    "plt.bar(X,+Y1)\n",
    "plt.bar(X,-Y2)\n",
    "\n",
    "for x,y in zip(X,Y1):\n",
    "    plt.text(x+0.05,y+0.05,'%.2f' %y, ha='center',va='bottom')\n",
    "for x, y in zip(X, Y2):\n",
    "    plt.text(x+0.05,-y-0.15,'%.2f'%y, ha='center',va='bottom')\n",
    "plt.xlim(-.5,n)\n",
    "plt.xticks(())\n",
    "plt.ylim(-1.25,1.25)\n",
    "plt.yticks(())"
   ]
  },
  {
   "cell_type": "code",
   "execution_count": 75,
   "metadata": {},
   "outputs": [
    {
     "output_type": "display_data",
     "data": {
      "text/plain": "<Figure size 432x288 with 1 Axes>",
      "image/svg+xml": "<?xml version=\"1.0\" encoding=\"utf-8\" standalone=\"no\"?>\n<!DOCTYPE svg PUBLIC \"-//W3C//DTD SVG 1.1//EN\"\n  \"http://www.w3.org/Graphics/SVG/1.1/DTD/svg11.dtd\">\n<!-- Created with matplotlib (https://matplotlib.org/) -->\n<svg height=\"248.068125pt\" version=\"1.1\" viewBox=\"0 0 375.660938 248.068125\" width=\"375.660938pt\" xmlns=\"http://www.w3.org/2000/svg\" xmlns:xlink=\"http://www.w3.org/1999/xlink\">\n <defs>\n  <style type=\"text/css\">\n*{stroke-linecap:butt;stroke-linejoin:round;}\n  </style>\n </defs>\n <g id=\"figure_1\">\n  <g id=\"patch_1\">\n   <path d=\"M 0 248.068125 \nL 375.660938 248.068125 \nL 375.660938 0 \nL 0 0 \nz\n\" style=\"fill:#ffffff;\"/>\n  </g>\n  <g id=\"axes_1\">\n   <g id=\"patch_2\">\n    <path d=\"M 33.660938 224.64 \nL 368.460938 224.64 \nL 368.460938 7.2 \nL 33.660938 7.2 \nz\n\" style=\"fill:#ffffff;\"/>\n   </g>\n   <g id=\"matplotlib.axis_1\">\n    <g id=\"xtick_1\">\n     <g id=\"line2d_1\">\n      <path clip-path=\"url(#p21d8460c07)\" d=\"M 67.513628 224.64 \nL 67.513628 7.2 \n\" style=\"fill:none;stroke:#cccccc;stroke-linecap:round;stroke-width:0.8;\"/>\n     </g>\n     <g id=\"text_1\">\n      <!-- 上海 -->\n      <defs>\n       <path d=\"M 92.671875 0.984375 \nL 9.1875 0.984375 \nL 9.1875 8.296875 \nL 42 8.296875 \nL 42 81.390625 \nL 49.609375 81.390625 \nL 49.609375 52.390625 \nL 83.890625 52.390625 \nL 83.890625 45.125 \nL 49.609375 45.125 \nL 49.609375 8.296875 \nL 92.671875 8.296875 \nz\n\" id=\"ArialUnicodeMS-19978\"/>\n       <path d=\"M 95.609375 30.421875 \nL 86.375 30.421875 \nL 85.015625 14.40625 \nL 92.09375 14.40625 \nL 92.09375 7.078125 \nL 84.078125 7.078125 \nQ 82.671875 -6.203125 71.390625 -6.203125 \nQ 66.359375 -6.203125 61.8125 -5.71875 \nL 60.109375 2.203125 \nQ 66.109375 0.984375 70.90625 0.984375 \nQ 73.140625 0.984375 74.328125 2.078125 \nQ 75.53125 3.171875 75.984375 7.078125 \nL 39.109375 7.078125 \nL 38.28125 2.78125 \nL 30.515625 3.609375 \nL 34.90625 30.421875 \nL 27.484375 30.421875 \nL 27.484375 37.703125 \nL 35.59375 37.703125 \nL 38.1875 56.6875 \nQ 34.90625 52.09375 31.5 49.125 \nL 24.421875 53.078125 \nQ 40.96875 68.015625 43.5 84.28125 \nL 51.421875 81.5 \nQ 50.53125 77.9375 48.875 74.609375 \nL 93.796875 74.609375 \nL 93.796875 67.28125 \nL 45.515625 67.28125 \nQ 44.140625 64.59375 40.71875 59.8125 \nL 88.484375 59.8125 \nL 87.109375 37.703125 \nL 95.609375 37.703125 \nz\nM 80.171875 52.484375 \nL 66.890625 52.484375 \nL 64.890625 37.703125 \nL 78.90625 37.703125 \nQ 79.734375 43.015625 80.171875 52.484375 \nz\nM 59.515625 52.484375 \nL 45.703125 52.484375 \nL 43.609375 37.703125 \nL 57.515625 37.703125 \nz\nM 56.59375 30.421875 \nL 42.390625 30.421875 \nL 39.984375 14.40625 \nL 54.5 14.40625 \nz\nM 78.515625 30.421875 \nL 64.015625 30.421875 \nL 61.921875 14.40625 \nL 77.09375 14.40625 \nQ 77.484375 17.578125 78.515625 30.421875 \nz\nM 32.078125 66.609375 \nL 26.421875 61.71875 \nQ 20.65625 71.390625 9.8125 74.8125 \nL 15.375 80.171875 \nQ 25.4375 76.265625 32.078125 66.609375 \nz\nM 26.703125 44.921875 \nL 20.796875 39.984375 \nQ 14.5 50.828125 4.203125 54.296875 \nL 10.109375 59.421875 \nQ 19.390625 55.671875 26.703125 44.921875 \nz\nM 26.515625 31.5 \nQ 22.5625 9.90625 12.59375 -3.515625 \nL 6.296875 2.09375 \nQ 16.15625 14.453125 19.1875 34.078125 \nz\n\" id=\"ArialUnicodeMS-28023\"/>\n      </defs>\n      <g style=\"fill:#262626;\" transform=\"translate(57.513628 238.797812)scale(0.1 -0.1)\">\n       <use xlink:href=\"#ArialUnicodeMS-19978\"/>\n       <use x=\"100\" xlink:href=\"#ArialUnicodeMS-28023\"/>\n      </g>\n     </g>\n    </g>\n    <g id=\"xtick_2\">\n     <g id=\"line2d_2\">\n      <path clip-path=\"url(#p21d8460c07)\" d=\"M 129.628655 224.64 \nL 129.628655 7.2 \n\" style=\"fill:none;stroke:#cccccc;stroke-linecap:round;stroke-width:0.8;\"/>\n     </g>\n     <g id=\"text_2\">\n      <!-- 武汉 -->\n      <defs>\n       <path d=\"M 94.1875 12.796875 \nQ 92.234375 -5.8125 85.109375 -5.8125 \nQ 79.6875 -5.8125 71.09375 8.484375 \nQ 62.5 22.796875 59.515625 49.8125 \nL 7.625 49.8125 \nL 7.625 57.078125 \nL 58.890625 57.078125 \nQ 58.296875 62.796875 57.71875 83.40625 \nL 65.1875 83.40625 \nQ 65.328125 71.53125 66.40625 57.078125 \nL 90.1875 57.078125 \nL 90.1875 49.8125 \nL 67.09375 49.8125 \nQ 68.890625 29.109375 75.84375 16.09375 \nQ 82.8125 3.078125 84.71875 3.078125 \nQ 85.359375 3.078125 86.0625 7.03125 \nQ 86.765625 10.984375 86.921875 15.28125 \nz\nM 88.1875 64.984375 \nL 82.421875 60.296875 \nQ 76.46875 70.125 66.890625 73.875 \nL 72.3125 78.71875 \nQ 80.515625 76.03125 88.1875 64.984375 \nz\nM 52 67.390625 \nL 12.40625 67.390625 \nL 12.40625 74.703125 \nL 52 74.703125 \nz\nM 63.71875 7.078125 \nL 10.796875 -4.296875 \nL 6.296875 2.78125 \nL 15.28125 4.390625 \nL 15.28125 39.59375 \nL 22.90625 39.59375 \nL 22.90625 6 \nL 34.078125 8.203125 \nL 34.078125 46.296875 \nL 41.703125 46.296875 \nL 41.703125 35.015625 \nL 56.390625 35.015625 \nL 56.390625 27.6875 \nL 41.703125 27.6875 \nL 41.703125 10.015625 \nL 63.71875 14.703125 \nz\n\" id=\"ArialUnicodeMS-27494\"/>\n       <path d=\"M 32.71875 69.09375 \nL 27.78125 62.40625 \nQ 19.96875 70.609375 7.90625 74.421875 \nL 12.59375 80.421875 \nQ 24.421875 77.25 32.71875 69.09375 \nz\nM 95.609375 1.609375 \nL 89.703125 -5.421875 \nQ 71.140625 5.078125 62.890625 15.09375 \nQ 52.09375 2.390625 35.40625 -5.90625 \nL 30.609375 0.78125 \nQ 49.265625 10.640625 58.015625 21.484375 \nQ 45.40625 39.15625 41.703125 68.21875 \nL 35.984375 68.21875 \nL 35.984375 75.09375 \nL 84.90625 75.09375 \nQ 84.8125 65.625 80.390625 49.265625 \nQ 75.984375 32.90625 67.921875 21.390625 \nQ 77.828125 9.671875 95.609375 1.609375 \nz\nM 76.90625 68.21875 \nL 49.03125 68.21875 \nQ 52.875 43.703125 62.703125 28.421875 \nQ 73.484375 44.578125 76.90625 68.21875 \nz\nM 28.328125 50.59375 \nL 24.03125 43.703125 \nQ 16.015625 51.171875 4 54.5 \nL 8.015625 61.078125 \nQ 20.21875 57.8125 28.328125 50.59375 \nz\nM 33.109375 31.390625 \nL 29.203125 21.140625 \nQ 26.125 12.796875 22.359375 6.984375 \nQ 18.609375 1.171875 12.703125 -4.984375 \nL 6.5 0.203125 \nQ 20.171875 13.875 26.421875 34.90625 \nz\n\" id=\"ArialUnicodeMS-27721\"/>\n      </defs>\n      <g style=\"fill:#262626;\" transform=\"translate(119.628655 238.797812)scale(0.1 -0.1)\">\n       <use xlink:href=\"#ArialUnicodeMS-27494\"/>\n       <use x=\"100\" xlink:href=\"#ArialUnicodeMS-27721\"/>\n      </g>\n     </g>\n    </g>\n    <g id=\"xtick_3\">\n     <g id=\"line2d_3\">\n      <path clip-path=\"url(#p21d8460c07)\" d=\"M 191.743683 224.64 \nL 191.743683 7.2 \n\" style=\"fill:none;stroke:#cccccc;stroke-linecap:round;stroke-width:0.8;\"/>\n     </g>\n     <g id=\"text_3\">\n      <!-- 南京 -->\n      <defs>\n       <path d=\"M 94.1875 66.703125 \nL 54.390625 66.703125 \nL 54.390625 57.8125 \nL 87.59375 57.8125 \nL 87.59375 2.09375 \nQ 87.59375 -1.65625 85 -3.359375 \nQ 82.421875 -5.078125 79.890625 -5.078125 \nL 68.109375 -5.078125 \nL 66.21875 2.59375 \nL 74.171875 2.34375 \nQ 79.984375 2.34375 79.984375 6 \nL 79.984375 50.484375 \nL 64.3125 50.484375 \nL 69.578125 47.3125 \nQ 66.109375 38.140625 62.3125 34.515625 \nL 74.3125 34.515625 \nL 74.3125 27.203125 \nL 54.390625 27.203125 \nL 54.390625 21 \nL 76.125 21 \nL 76.125 13.71875 \nL 54.390625 13.71875 \nL 54.390625 -3.328125 \nL 46.78125 -3.328125 \nL 46.78125 13.71875 \nL 25.203125 13.71875 \nL 25.203125 21 \nL 46.78125 21 \nL 46.78125 27.203125 \nL 26.90625 27.203125 \nL 26.90625 34.515625 \nL 39.3125 34.515625 \nQ 36.96875 41.703125 28.90625 46.6875 \nL 36.078125 50.203125 \nQ 44.578125 43.703125 46.78125 36.71875 \nL 41.40625 34.515625 \nL 52.875 34.515625 \nQ 58.984375 40.484375 62.703125 50.484375 \nL 21 50.484375 \nL 21 -7.171875 \nL 13.375 -7.171875 \nL 13.375 57.8125 \nL 46.78125 57.8125 \nL 46.78125 66.703125 \nL 6.78125 66.703125 \nL 6.78125 74.03125 \nL 46.78125 74.03125 \nL 46.78125 83.015625 \nL 54.390625 83.015625 \nL 54.390625 74.03125 \nL 94.1875 74.03125 \nz\n\" id=\"ArialUnicodeMS-21335\"/>\n       <path d=\"M 92.921875 64.890625 \nL 7.421875 64.890625 \nL 7.421875 72.515625 \nL 45.90625 72.515625 \nL 45.90625 82.515625 \nL 53.8125 82.515625 \nL 53.8125 72.515625 \nL 92.921875 72.515625 \nz\nM 78.21875 27.203125 \nL 54.296875 27.203125 \nL 54.296875 1.703125 \nQ 54.296875 -1.90625 52.21875 -4.140625 \nQ 50.140625 -6.390625 46.6875 -6.390625 \nL 36.1875 -6.390625 \nL 33.5 1.8125 \nQ 41.75 1.21875 42.28125 1.21875 \nQ 46.6875 1.21875 46.6875 3.90625 \nL 46.6875 27.203125 \nL 22.125 27.203125 \nL 22.125 56.890625 \nL 78.21875 56.890625 \nz\nM 70.609375 34.515625 \nL 70.609375 49.609375 \nL 29.6875 49.609375 \nL 29.6875 34.515625 \nz\nM 95.015625 6.109375 \nL 89.796875 0.390625 \nQ 75.09375 14.75 61.1875 17.921875 \nL 66.109375 24.03125 \nQ 80.859375 19.625 95.015625 6.109375 \nz\nM 39.203125 19 \nQ 27.9375 6.25 9.90625 -0.09375 \nL 5.328125 6.6875 \nQ 24.078125 11.921875 34.1875 24.03125 \nz\n\" id=\"ArialUnicodeMS-20140\"/>\n      </defs>\n      <g style=\"fill:#262626;\" transform=\"translate(181.743683 238.797812)scale(0.1 -0.1)\">\n       <use xlink:href=\"#ArialUnicodeMS-21335\"/>\n       <use x=\"100\" xlink:href=\"#ArialUnicodeMS-20140\"/>\n      </g>\n     </g>\n    </g>\n    <g id=\"xtick_4\">\n     <g id=\"line2d_4\">\n      <path clip-path=\"url(#p21d8460c07)\" d=\"M 253.858711 224.64 \nL 253.858711 7.2 \n\" style=\"fill:none;stroke:#cccccc;stroke-linecap:round;stroke-width:0.8;\"/>\n     </g>\n     <g id=\"text_4\">\n      <!-- 天津 -->\n      <defs>\n       <path d=\"M 94.671875 1.125 \nL 89.109375 -5.078125 \nQ 58.15625 8.890625 52.296875 39.203125 \nQ 49.609375 25.59375 38.625 13.484375 \nQ 27.640625 1.375 12.59375 -4.984375 \nL 6.109375 1.609375 \nQ 38.234375 14.0625 44.1875 40.828125 \nL 14.015625 40.828125 \nL 14.015625 48.09375 \nL 45.515625 48.09375 \nQ 46.578125 54.4375 46.921875 70.21875 \nL 10.984375 70.21875 \nL 10.984375 77.78125 \nL 90.578125 77.78125 \nL 90.578125 70.21875 \nL 55.078125 70.21875 \nQ 54.78125 53.171875 54.203125 48.09375 \nL 87.796875 48.09375 \nL 87.796875 40.828125 \nL 59.8125 40.828125 \nQ 64.984375 14.9375 94.671875 1.125 \nz\n\" id=\"ArialUnicodeMS-22825\"/>\n       <path d=\"M 95.90625 54.5 \nL 85.59375 54.5 \nL 85.59375 39.703125 \nL 63.375 39.703125 \nL 63.375 33.59375 \nL 88.8125 33.59375 \nL 88.8125 26.421875 \nL 63.375 26.421875 \nL 63.375 18.5 \nL 95.609375 18.5 \nL 95.609375 11.28125 \nL 63.375 11.28125 \nL 63.375 -6.203125 \nL 55.515625 -6.203125 \nL 55.515625 11.28125 \nL 27.484375 11.28125 \nL 27.484375 18.5 \nL 55.515625 18.5 \nL 55.515625 26.421875 \nL 33.015625 26.421875 \nL 33.015625 33.59375 \nL 55.515625 33.59375 \nL 55.515625 39.703125 \nL 34.8125 39.703125 \nL 34.8125 46.921875 \nL 55.515625 46.921875 \nL 55.515625 54.5 \nL 27.484375 54.5 \nL 27.484375 61.71875 \nL 55.515625 61.71875 \nL 55.515625 67.484375 \nL 35.203125 67.484375 \nL 35.203125 74.703125 \nL 55.515625 74.703125 \nL 55.515625 84.1875 \nL 63.375 84.1875 \nL 63.375 74.703125 \nL 85.59375 74.703125 \nL 85.59375 61.71875 \nL 95.90625 61.71875 \nz\nM 77.984375 61.71875 \nL 77.984375 67.484375 \nL 63.375 67.484375 \nL 63.375 61.71875 \nz\nM 77.984375 46.921875 \nL 77.984375 54.5 \nL 63.375 54.5 \nL 63.375 46.921875 \nz\nM 31.59375 67.921875 \nL 25.484375 62.796875 \nQ 18.453125 73.828125 10.109375 77.984375 \nL 16.21875 83.015625 \nQ 22.75 80.328125 31.59375 67.921875 \nz\nM 26.515625 46 \nL 20.796875 40.71875 \nQ 14.453125 53.71875 4.78125 58.59375 \nL 10.5 63.484375 \nQ 20.21875 58.25 26.515625 46 \nz\nM 29.5 32.71875 \nQ 24.65625 10.359375 12.5 -3.609375 \nL 5.328125 1.421875 \nQ 18.015625 13.375 22.40625 36.1875 \nz\n\" id=\"ArialUnicodeMS-27941\"/>\n      </defs>\n      <g style=\"fill:#262626;\" transform=\"translate(243.858711 238.797812)scale(0.1 -0.1)\">\n       <use xlink:href=\"#ArialUnicodeMS-22825\"/>\n       <use x=\"100\" xlink:href=\"#ArialUnicodeMS-27941\"/>\n      </g>\n     </g>\n    </g>\n    <g id=\"xtick_5\">\n     <g id=\"line2d_5\">\n      <path clip-path=\"url(#p21d8460c07)\" d=\"M 315.973739 224.64 \nL 315.973739 7.2 \n\" style=\"fill:none;stroke:#cccccc;stroke-linecap:round;stroke-width:0.8;\"/>\n     </g>\n     <g id=\"text_5\">\n      <!-- 南宁 -->\n      <defs>\n       <path d=\"M 91.40625 51.3125 \nL 83.890625 51.3125 \nL 83.890625 62.703125 \nL 17.671875 62.703125 \nL 17.671875 51.3125 \nL 10.109375 51.3125 \nL 10.109375 70.21875 \nL 49.703125 70.21875 \nQ 45.125 75.34375 35.40625 79.6875 \nL 40.09375 85.109375 \nQ 49.703125 81.5 58.015625 72.609375 \nL 55.328125 70.21875 \nL 91.40625 70.21875 \nz\nM 93.40625 36.1875 \nL 55.609375 36.1875 \nL 55.609375 2.09375 \nQ 55.609375 -0.046875 54.015625 -2.046875 \nQ 52.4375 -4.046875 50.5 -4.609375 \nQ 48.578125 -5.171875 44.484375 -5.171875 \nL 35.5 -5.171875 \nL 32.625 2.984375 \nL 45.21875 2.203125 \nQ 47.609375 2 47.609375 4.203125 \nL 47.609375 36.078125 \nL 7.90625 36.078125 \nL 7.90625 43.609375 \nL 93.40625 43.609375 \nz\n\" id=\"ArialUnicodeMS-23425\"/>\n      </defs>\n      <g style=\"fill:#262626;\" transform=\"translate(305.973739 238.875937)scale(0.1 -0.1)\">\n       <use xlink:href=\"#ArialUnicodeMS-21335\"/>\n       <use x=\"100\" xlink:href=\"#ArialUnicodeMS-23425\"/>\n      </g>\n     </g>\n    </g>\n   </g>\n   <g id=\"matplotlib.axis_2\">\n    <g id=\"ytick_1\">\n     <g id=\"line2d_6\">\n      <path clip-path=\"url(#p21d8460c07)\" d=\"M 33.660938 224.64 \nL 368.460938 224.64 \n\" style=\"fill:none;stroke:#cccccc;stroke-linecap:round;stroke-width:0.8;\"/>\n     </g>\n     <g id=\"text_6\">\n      <!-- 0.0 -->\n      <defs>\n       <path d=\"M 27.78125 71.921875 \nQ 51.125 71.921875 51.125 35.296875 \nQ 51.125 16.796875 45.09375 7.78125 \nQ 39.0625 -1.21875 27.78125 -1.21875 \nQ 4.5 -1.21875 4.5 35.296875 \nQ 4.5 53.8125 10.515625 62.859375 \nQ 16.546875 71.921875 27.78125 71.921875 \nz\nM 27.78125 6 \nQ 34.859375 6 38.46875 12.859375 \nQ 42.09375 19.734375 42.09375 35.296875 \nQ 42.09375 46.140625 40.5 52.359375 \nQ 38.921875 58.59375 35.71875 61.640625 \nQ 32.515625 64.703125 27.6875 64.703125 \nQ 20.609375 64.703125 17.046875 57.71875 \nQ 13.484375 50.734375 13.484375 35.296875 \nQ 13.484375 24.609375 15.09375 18.359375 \nQ 16.703125 12.109375 19.875 9.046875 \nQ 23.046875 6 27.78125 6 \nz\n\" id=\"ArialUnicodeMS-48\"/>\n       <path d=\"M 18.890625 0 \nL 8.890625 0 \nL 8.890625 10.015625 \nL 18.890625 10.015625 \nz\n\" id=\"ArialUnicodeMS-46\"/>\n      </defs>\n      <g style=\"fill:#262626;\" transform=\"translate(12.760938 228.218906)scale(0.1 -0.1)\">\n       <use xlink:href=\"#ArialUnicodeMS-48\"/>\n       <use x=\"55.615234\" xlink:href=\"#ArialUnicodeMS-46\"/>\n       <use x=\"83.398438\" xlink:href=\"#ArialUnicodeMS-48\"/>\n      </g>\n     </g>\n    </g>\n    <g id=\"ytick_2\">\n     <g id=\"line2d_7\">\n      <path clip-path=\"url(#p21d8460c07)\" d=\"M 33.660938 199.986939 \nL 368.460938 199.986939 \n\" style=\"fill:none;stroke:#cccccc;stroke-linecap:round;stroke-width:0.8;\"/>\n     </g>\n     <g id=\"text_7\">\n      <!-- 2.5 -->\n      <defs>\n       <path d=\"M 50.484375 0 \nL 3.078125 0 \nQ 3.078125 6.0625 7.296875 12.25 \nQ 11.53125 18.453125 23.09375 27.78125 \nQ 30.171875 33.453125 35.734375 39.671875 \nQ 41.3125 45.90625 41.3125 52.203125 \nQ 41.3125 57.625 37.46875 61.15625 \nQ 33.640625 64.703125 27.78125 64.703125 \nQ 21.875 64.703125 17.875 61.0625 \nQ 13.875 57.421875 13.8125 50.203125 \nL 4.78125 51.21875 \nQ 5.609375 61.28125 11.9375 66.59375 \nQ 18.265625 71.921875 27.984375 71.921875 \nQ 38.53125 71.921875 44.40625 66.078125 \nQ 50.296875 60.25 50.296875 52 \nQ 50.296875 45.125 45.328125 38.0625 \nQ 40.375 31 25.59375 19.1875 \nQ 17.828125 12.984375 15.28125 8.5 \nL 50.484375 8.5 \nz\n\" id=\"ArialUnicodeMS-50\"/>\n       <path d=\"M 15.828125 43.015625 \nQ 22.359375 47.515625 29.390625 47.515625 \nQ 38.328125 47.515625 44.96875 41.1875 \nQ 51.609375 34.859375 51.609375 24.3125 \nQ 51.609375 13.671875 44.875 6.21875 \nQ 38.140625 -1.21875 27.203125 -1.21875 \nQ 18.265625 -1.21875 11.71875 3.828125 \nQ 5.171875 8.890625 4.203125 18.796875 \nL 13.375 19.484375 \nQ 14.5 12.703125 18.15625 9.34375 \nQ 21.828125 6 27.203125 6 \nQ 33.890625 6 38.03125 11.046875 \nQ 42.1875 16.109375 42.1875 23.484375 \nQ 42.1875 31 37.9375 35.34375 \nQ 33.6875 39.703125 27 39.703125 \nQ 18.5625 39.703125 14.015625 32.8125 \nL 5.71875 33.796875 \nL 12.703125 70.609375 \nL 48.1875 70.609375 \nL 48.1875 62.109375 \nL 19.671875 62.109375 \nz\n\" id=\"ArialUnicodeMS-53\"/>\n      </defs>\n      <g style=\"fill:#262626;\" transform=\"translate(12.760938 203.565845)scale(0.1 -0.1)\">\n       <use xlink:href=\"#ArialUnicodeMS-50\"/>\n       <use x=\"55.615234\" xlink:href=\"#ArialUnicodeMS-46\"/>\n       <use x=\"83.398438\" xlink:href=\"#ArialUnicodeMS-53\"/>\n      </g>\n     </g>\n    </g>\n    <g id=\"ytick_3\">\n     <g id=\"line2d_8\">\n      <path clip-path=\"url(#p21d8460c07)\" d=\"M 33.660938 175.333878 \nL 368.460938 175.333878 \n\" style=\"fill:none;stroke:#cccccc;stroke-linecap:round;stroke-width:0.8;\"/>\n     </g>\n     <g id=\"text_8\">\n      <!-- 5.0 -->\n      <g style=\"fill:#262626;\" transform=\"translate(12.760938 178.912784)scale(0.1 -0.1)\">\n       <use xlink:href=\"#ArialUnicodeMS-53\"/>\n       <use x=\"55.615234\" xlink:href=\"#ArialUnicodeMS-46\"/>\n       <use x=\"83.398438\" xlink:href=\"#ArialUnicodeMS-48\"/>\n      </g>\n     </g>\n    </g>\n    <g id=\"ytick_4\">\n     <g id=\"line2d_9\">\n      <path clip-path=\"url(#p21d8460c07)\" d=\"M 33.660938 150.680816 \nL 368.460938 150.680816 \n\" style=\"fill:none;stroke:#cccccc;stroke-linecap:round;stroke-width:0.8;\"/>\n     </g>\n     <g id=\"text_9\">\n      <!-- 7.5 -->\n      <defs>\n       <path d=\"M 51.125 63.8125 \nQ 40.578125 52.25 32.859375 35.203125 \nQ 25.140625 18.171875 23.78125 0 \nL 14.796875 0 \nQ 15.140625 14.59375 22 32.046875 \nQ 28.859375 49.515625 39.796875 62.109375 \nL 4.78125 62.109375 \nL 4.78125 70.609375 \nL 51.125 70.609375 \nz\n\" id=\"ArialUnicodeMS-55\"/>\n      </defs>\n      <g style=\"fill:#262626;\" transform=\"translate(12.760938 154.259723)scale(0.1 -0.1)\">\n       <use xlink:href=\"#ArialUnicodeMS-55\"/>\n       <use x=\"55.615234\" xlink:href=\"#ArialUnicodeMS-46\"/>\n       <use x=\"83.398438\" xlink:href=\"#ArialUnicodeMS-53\"/>\n      </g>\n     </g>\n    </g>\n    <g id=\"ytick_5\">\n     <g id=\"line2d_10\">\n      <path clip-path=\"url(#p21d8460c07)\" d=\"M 33.660938 126.027755 \nL 368.460938 126.027755 \n\" style=\"fill:none;stroke:#cccccc;stroke-linecap:round;stroke-width:0.8;\"/>\n     </g>\n     <g id=\"text_10\">\n      <!-- 10.0 -->\n      <defs>\n       <path d=\"M 37.5 0 \nL 28.71875 0 \nL 28.71875 56 \nQ 22.125 49.75 11.078125 45.40625 \nL 11.078125 53.90625 \nQ 26.265625 61.1875 31.78125 71.921875 \nL 37.5 71.921875 \nz\n\" id=\"ArialUnicodeMS-49\"/>\n      </defs>\n      <g style=\"fill:#262626;\" transform=\"translate(7.2 129.606661)scale(0.1 -0.1)\">\n       <use xlink:href=\"#ArialUnicodeMS-49\"/>\n       <use x=\"55.615234\" xlink:href=\"#ArialUnicodeMS-48\"/>\n       <use x=\"111.230469\" xlink:href=\"#ArialUnicodeMS-46\"/>\n       <use x=\"139.013672\" xlink:href=\"#ArialUnicodeMS-48\"/>\n      </g>\n     </g>\n    </g>\n    <g id=\"ytick_6\">\n     <g id=\"line2d_11\">\n      <path clip-path=\"url(#p21d8460c07)\" d=\"M 33.660938 101.374694 \nL 368.460938 101.374694 \n\" style=\"fill:none;stroke:#cccccc;stroke-linecap:round;stroke-width:0.8;\"/>\n     </g>\n     <g id=\"text_11\">\n      <!-- 12.5 -->\n      <g style=\"fill:#262626;\" transform=\"translate(7.2 104.9536)scale(0.1 -0.1)\">\n       <use xlink:href=\"#ArialUnicodeMS-49\"/>\n       <use x=\"55.615234\" xlink:href=\"#ArialUnicodeMS-50\"/>\n       <use x=\"111.230469\" xlink:href=\"#ArialUnicodeMS-46\"/>\n       <use x=\"139.013672\" xlink:href=\"#ArialUnicodeMS-53\"/>\n      </g>\n     </g>\n    </g>\n    <g id=\"ytick_7\">\n     <g id=\"line2d_12\">\n      <path clip-path=\"url(#p21d8460c07)\" d=\"M 33.660938 76.721633 \nL 368.460938 76.721633 \n\" style=\"fill:none;stroke:#cccccc;stroke-linecap:round;stroke-width:0.8;\"/>\n     </g>\n     <g id=\"text_12\">\n      <!-- 15.0 -->\n      <g style=\"fill:#262626;\" transform=\"translate(7.2 80.300539)scale(0.1 -0.1)\">\n       <use xlink:href=\"#ArialUnicodeMS-49\"/>\n       <use x=\"55.615234\" xlink:href=\"#ArialUnicodeMS-53\"/>\n       <use x=\"111.230469\" xlink:href=\"#ArialUnicodeMS-46\"/>\n       <use x=\"139.013672\" xlink:href=\"#ArialUnicodeMS-48\"/>\n      </g>\n     </g>\n    </g>\n    <g id=\"ytick_8\">\n     <g id=\"line2d_13\">\n      <path clip-path=\"url(#p21d8460c07)\" d=\"M 33.660938 52.068571 \nL 368.460938 52.068571 \n\" style=\"fill:none;stroke:#cccccc;stroke-linecap:round;stroke-width:0.8;\"/>\n     </g>\n     <g id=\"text_13\">\n      <!-- 17.5 -->\n      <g style=\"fill:#262626;\" transform=\"translate(7.2 55.647478)scale(0.1 -0.1)\">\n       <use xlink:href=\"#ArialUnicodeMS-49\"/>\n       <use x=\"55.615234\" xlink:href=\"#ArialUnicodeMS-55\"/>\n       <use x=\"111.230469\" xlink:href=\"#ArialUnicodeMS-46\"/>\n       <use x=\"139.013672\" xlink:href=\"#ArialUnicodeMS-53\"/>\n      </g>\n     </g>\n    </g>\n    <g id=\"ytick_9\">\n     <g id=\"line2d_14\">\n      <path clip-path=\"url(#p21d8460c07)\" d=\"M 33.660938 27.41551 \nL 368.460938 27.41551 \n\" style=\"fill:none;stroke:#cccccc;stroke-linecap:round;stroke-width:0.8;\"/>\n     </g>\n     <g id=\"text_14\">\n      <!-- 20.0 -->\n      <g style=\"fill:#262626;\" transform=\"translate(7.2 30.994416)scale(0.1 -0.1)\">\n       <use xlink:href=\"#ArialUnicodeMS-50\"/>\n       <use x=\"55.615234\" xlink:href=\"#ArialUnicodeMS-48\"/>\n       <use x=\"111.230469\" xlink:href=\"#ArialUnicodeMS-46\"/>\n       <use x=\"139.013672\" xlink:href=\"#ArialUnicodeMS-48\"/>\n      </g>\n     </g>\n    </g>\n   </g>\n   <g id=\"patch_3\">\n    <path clip-path=\"url(#p21d8460c07)\" d=\"M 48.879119 224.64 \nL 67.513628 224.64 \nL 67.513628 214.778776 \nL 48.879119 214.778776 \nz\n\" style=\"fill:#fa8072;stroke:#ffffff;stroke-linejoin:miter;\"/>\n   </g>\n   <g id=\"patch_4\">\n    <path clip-path=\"url(#p21d8460c07)\" d=\"M 110.994147 224.64 \nL 129.628655 224.64 \nL 129.628655 195.056327 \nL 110.994147 195.056327 \nz\n\" style=\"fill:#fa8072;stroke:#ffffff;stroke-linejoin:miter;\"/>\n   </g>\n   <g id=\"patch_5\">\n    <path clip-path=\"url(#p21d8460c07)\" d=\"M 173.109175 224.64 \nL 191.743683 224.64 \nL 191.743683 175.333878 \nL 173.109175 175.333878 \nz\n\" style=\"fill:#fa8072;stroke:#ffffff;stroke-linejoin:miter;\"/>\n   </g>\n   <g id=\"patch_6\">\n    <path clip-path=\"url(#p21d8460c07)\" d=\"M 235.224203 224.64 \nL 253.858711 224.64 \nL 253.858711 185.195102 \nL 235.224203 185.195102 \nz\n\" style=\"fill:#fa8072;stroke:#ffffff;stroke-linejoin:miter;\"/>\n   </g>\n   <g id=\"patch_7\">\n    <path clip-path=\"url(#p21d8460c07)\" d=\"M 297.339231 224.64 \nL 315.973739 224.64 \nL 315.973739 204.917551 \nL 297.339231 204.917551 \nz\n\" style=\"fill:#fa8072;stroke:#ffffff;stroke-linejoin:miter;\"/>\n   </g>\n   <g id=\"patch_8\">\n    <path clip-path=\"url(#p21d8460c07)\" d=\"M 67.513628 224.64 \nL 86.148136 224.64 \nL 86.148136 204.917551 \nL 67.513628 204.917551 \nz\n\" style=\"fill:#da70d6;stroke:#ffffff;stroke-linejoin:miter;\"/>\n   </g>\n   <g id=\"patch_9\">\n    <path clip-path=\"url(#p21d8460c07)\" d=\"M 129.628655 224.64 \nL 148.263164 224.64 \nL 148.263164 175.333878 \nL 129.628655 175.333878 \nz\n\" style=\"fill:#da70d6;stroke:#ffffff;stroke-linejoin:miter;\"/>\n   </g>\n   <g id=\"patch_10\">\n    <path clip-path=\"url(#p21d8460c07)\" d=\"M 191.743683 224.64 \nL 210.378192 224.64 \nL 210.378192 195.056327 \nL 191.743683 195.056327 \nz\n\" style=\"fill:#da70d6;stroke:#ffffff;stroke-linejoin:miter;\"/>\n   </g>\n   <g id=\"patch_11\">\n    <path clip-path=\"url(#p21d8460c07)\" d=\"M 253.858711 224.64 \nL 272.49322 224.64 \nL 272.49322 214.778776 \nL 253.858711 214.778776 \nz\n\" style=\"fill:#da70d6;stroke:#ffffff;stroke-linejoin:miter;\"/>\n   </g>\n   <g id=\"patch_12\">\n    <path clip-path=\"url(#p21d8460c07)\" d=\"M 315.973739 224.64 \nL 334.608247 224.64 \nL 334.608247 165.472653 \nL 315.973739 165.472653 \nz\n\" style=\"fill:#da70d6;stroke:#ffffff;stroke-linejoin:miter;\"/>\n   </g>\n   <g id=\"patch_13\">\n    <path clip-path=\"url(#p21d8460c07)\" d=\"M 86.148136 224.64 \nL 104.782644 224.64 \nL 104.782644 135.88898 \nL 86.148136 135.88898 \nz\n\" style=\"fill:#da70d6;stroke:#ffffff;stroke-linejoin:miter;\"/>\n   </g>\n   <g id=\"patch_14\">\n    <path clip-path=\"url(#p21d8460c07)\" d=\"M 148.263164 224.64 \nL 166.897672 224.64 \nL 166.897672 155.611429 \nL 148.263164 155.611429 \nz\n\" style=\"fill:#da70d6;stroke:#ffffff;stroke-linejoin:miter;\"/>\n   </g>\n   <g id=\"patch_15\">\n    <path clip-path=\"url(#p21d8460c07)\" d=\"M 210.378192 224.64 \nL 229.0127 224.64 \nL 229.0127 214.778776 \nL 210.378192 214.778776 \nz\n\" style=\"fill:#da70d6;stroke:#ffffff;stroke-linejoin:miter;\"/>\n   </g>\n   <g id=\"patch_16\">\n    <path clip-path=\"url(#p21d8460c07)\" d=\"M 272.49322 224.64 \nL 291.127728 224.64 \nL 291.127728 17.554286 \nL 272.49322 17.554286 \nz\n\" style=\"fill:#da70d6;stroke:#ffffff;stroke-linejoin:miter;\"/>\n   </g>\n   <g id=\"patch_17\">\n    <path clip-path=\"url(#p21d8460c07)\" d=\"M 334.608247 224.64 \nL 353.242756 224.64 \nL 353.242756 204.917551 \nL 334.608247 204.917551 \nz\n\" style=\"fill:#da70d6;stroke:#ffffff;stroke-linejoin:miter;\"/>\n   </g>\n   <g id=\"patch_18\">\n    <path d=\"M 33.660938 224.64 \nL 33.660938 7.2 \n\" style=\"fill:none;stroke:#cccccc;stroke-linecap:square;stroke-linejoin:miter;stroke-width:0.8;\"/>\n   </g>\n   <g id=\"patch_19\">\n    <path d=\"M 368.460938 224.64 \nL 368.460938 7.2 \n\" style=\"fill:none;stroke:#cccccc;stroke-linecap:square;stroke-linejoin:miter;stroke-width:0.8;\"/>\n   </g>\n   <g id=\"patch_20\">\n    <path d=\"M 33.660938 224.64 \nL 368.460938 224.64 \n\" style=\"fill:none;stroke:#cccccc;stroke-linecap:square;stroke-linejoin:miter;stroke-width:0.8;\"/>\n   </g>\n   <g id=\"patch_21\">\n    <path d=\"M 33.660938 7.2 \nL 368.460938 7.2 \n\" style=\"fill:none;stroke:#cccccc;stroke-linecap:square;stroke-linejoin:miter;stroke-width:0.8;\"/>\n   </g>\n   <g id=\"legend_1\">\n    <g id=\"patch_22\">\n     <path d=\"M 302.239062 57.65 \nL 361.460938 57.65 \nQ 363.460938 57.65 363.460938 55.65 \nL 363.460938 14.2 \nQ 363.460938 12.2 361.460938 12.2 \nL 302.239062 12.2 \nQ 300.239062 12.2 300.239062 14.2 \nL 300.239062 55.65 \nQ 300.239062 57.65 302.239062 57.65 \nz\n\" style=\"fill:#ffffff;opacity:0.8;stroke:#cccccc;stroke-linejoin:miter;\"/>\n    </g>\n    <g id=\"patch_23\">\n     <path d=\"M 304.239062 23.357812 \nL 324.239062 23.357812 \nL 324.239062 16.357812 \nL 304.239062 16.357812 \nz\n\" style=\"fill:#fa8072;stroke:#ffffff;stroke-linejoin:miter;\"/>\n    </g>\n    <g id=\"text_15\">\n     <!-- 类别A -->\n     <defs>\n      <path d=\"M 88.484375 56.78125 \nL 52.296875 56.78125 \nL 52.296875 37.984375 \nL 44.671875 37.984375 \nL 44.671875 55.421875 \nL 44.390625 55.421875 \nQ 33.296875 41.84375 9.078125 36.375 \nL 4.5 42.921875 \nQ 24.90625 47.125 35.5 56.78125 \nL 8.5 56.78125 \nL 8.5 64.109375 \nL 44.671875 64.109375 \nL 44.671875 83.40625 \nL 52.296875 83.40625 \nL 52.296875 64.109375 \nL 88.484375 64.109375 \nz\nM 79.109375 78.328125 \nQ 72.078125 69.140625 63.1875 65.578125 \nL 57.515625 70.90625 \nQ 68.796875 76.078125 73 82.515625 \nz\nM 39.203125 70.3125 \nL 32.8125 65.09375 \nQ 26.703125 72.90625 18.796875 77.203125 \nL 24.515625 81.6875 \nQ 32.328125 78.265625 39.203125 70.3125 \nz\nM 85.59375 43.21875 \nL 81.6875 37.3125 \nQ 69.53125 45.40625 54 49.8125 \nL 57.90625 55.328125 \nQ 72.40625 52.203125 85.59375 43.21875 \nz\nM 94.828125 0.875 \nL 90.28125 -5.515625 \nQ 74.46875 -1.421875 65.5 4.4375 \nQ 56.546875 10.296875 51.21875 23 \nL 49.8125 23 \nQ 42.625 0.78125 8.203125 -6.203125 \nL 3.90625 0.59375 \nQ 21.140625 3.421875 30.21875 9.734375 \nQ 39.3125 16.0625 41.890625 23 \nL 6.296875 23 \nL 6.296875 30.328125 \nL 44.09375 30.328125 \nL 45.015625 36.8125 \nL 51.90625 36.375 \nQ 51.90625 33.984375 51.125 30.328125 \nL 91.40625 30.328125 \nL 91.40625 23 \nL 58.5 23 \nQ 60.84375 17.921875 66.015625 13.234375 \nQ 71.1875 8.546875 75.625 6.828125 \nQ 80.078125 5.125 94.828125 0.875 \nz\n\" id=\"ArialUnicodeMS-31867\"/>\n      <path d=\"M 88.28125 1.8125 \nQ 88.28125 -1.609375 86.203125 -4 \nQ 84.125 -6.390625 80.71875 -6.390625 \nL 68.890625 -6.390625 \nL 65.375 1.421875 \nQ 71.6875 1.078125 74.125 1.078125 \nQ 78.375 1.078125 79.546875 1.640625 \nQ 80.71875 2.203125 80.71875 4.59375 \nL 80.71875 82.078125 \nL 88.28125 82.078125 \nz\nM 53.90625 47.515625 \nL 13.8125 47.515625 \nL 13.8125 78.21875 \nL 53.90625 78.21875 \nz\nM 46.296875 54.78125 \nL 46.296875 70.90625 \nL 21.390625 70.90625 \nL 21.390625 54.78125 \nz\nM 72.125 14.203125 \nL 64.203125 14.203125 \nL 64.203125 72.515625 \nL 72.125 72.515625 \nz\nM 56.78125 36.1875 \nQ 56.34375 19.34375 54.171875 7.28125 \nQ 52 -4.78125 40.1875 -4.78125 \nQ 35.9375 -4.78125 30.609375 -3.21875 \nL 28.8125 5.328125 \nL 37.5 3.078125 \nQ 38.875 2.78125 40.046875 2.78125 \nQ 43.40625 2.78125 44.8125 5.171875 \nQ 46.234375 7.5625 47.1875 13.515625 \nQ 48.140625 19.484375 48.390625 28.609375 \nL 33.203125 28.609375 \nQ 32.171875 18.5 26.796875 7.96875 \nQ 21.4375 -2.546875 13.1875 -6.984375 \nL 6.984375 -1.21875 \nQ 22.171875 7.125 25.203125 28.609375 \nL 9.078125 28.609375 \nL 9.078125 36.1875 \nL 26.421875 36.1875 \nQ 27.046875 40.140625 26.90625 46.578125 \nL 34.625 45.609375 \nQ 34.328125 38.8125 33.890625 36.1875 \nz\n\" id=\"ArialUnicodeMS-21035\"/>\n      <path d=\"M 66.796875 0 \nL 56.109375 0 \nL 47.703125 21.78125 \nL 17.828125 21.78125 \nL 9.90625 0 \nL -0.09375 0 \nL 27.390625 71.578125 \nL 37.59375 71.578125 \nz\nM 44.828125 29.296875 \nQ 36.03125 52.546875 34.90625 55.6875 \nQ 33.796875 58.84375 32.421875 64.109375 \nL 32.171875 64.109375 \nQ 30.8125 56.890625 28.515625 50.734375 \nL 20.515625 29.296875 \nz\n\" id=\"ArialUnicodeMS-65\"/>\n     </defs>\n     <g style=\"fill:#262626;\" transform=\"translate(332.239062 23.357812)scale(0.1 -0.1)\">\n      <use xlink:href=\"#ArialUnicodeMS-31867\"/>\n      <use x=\"100\" xlink:href=\"#ArialUnicodeMS-21035\"/>\n      <use x=\"200\" xlink:href=\"#ArialUnicodeMS-65\"/>\n     </g>\n    </g>\n    <g id=\"patch_24\">\n     <path d=\"M 304.239062 37.507812 \nL 324.239062 37.507812 \nL 324.239062 30.507812 \nL 304.239062 30.507812 \nz\n\" style=\"fill:#da70d6;stroke:#ffffff;stroke-linejoin:miter;\"/>\n    </g>\n    <g id=\"text_16\">\n     <!-- 类别B -->\n     <defs>\n      <path d=\"M 48.09375 38.09375 \nQ 54.828125 36.03125 58.171875 31.421875 \nQ 61.53125 26.8125 61.53125 20.796875 \nQ 61.53125 14.796875 58.5 9.765625 \nQ 55.46875 4.734375 49.90625 2.359375 \nQ 44.34375 0 34.8125 0 \nL 7.421875 0 \nL 7.421875 71.578125 \nL 34.28125 71.578125 \nQ 47.3125 71.578125 52.65625 65.90625 \nQ 58.015625 60.25 58.015625 53.328125 \nQ 58.015625 48.640625 55.546875 44.65625 \nQ 53.078125 40.671875 48.09375 38.09375 \nz\nM 16.890625 41.609375 \nL 32.421875 41.609375 \nQ 37.203125 41.609375 40.453125 42.140625 \nQ 43.703125 42.671875 46.1875 44.96875 \nQ 48.6875 47.265625 48.6875 52.09375 \nQ 48.6875 57.171875 46.171875 59.59375 \nQ 43.65625 62.015625 40.15625 62.546875 \nQ 36.671875 63.09375 31.203125 63.09375 \nL 16.890625 63.09375 \nz\nM 16.890625 8.5 \nL 34.71875 8.5 \nQ 44.28125 8.5 47.984375 11.765625 \nQ 51.703125 15.046875 51.703125 20.796875 \nQ 51.703125 26.609375 47.75 29.859375 \nQ 43.796875 33.109375 33.5 33.109375 \nL 16.890625 33.109375 \nz\n\" id=\"ArialUnicodeMS-66\"/>\n     </defs>\n     <g style=\"fill:#262626;\" transform=\"translate(332.239062 37.507812)scale(0.1 -0.1)\">\n      <use xlink:href=\"#ArialUnicodeMS-31867\"/>\n      <use x=\"100\" xlink:href=\"#ArialUnicodeMS-21035\"/>\n      <use x=\"200\" xlink:href=\"#ArialUnicodeMS-66\"/>\n     </g>\n    </g>\n    <g id=\"patch_25\">\n     <path d=\"M 304.239062 51.657812 \nL 324.239062 51.657812 \nL 324.239062 44.657812 \nL 304.239062 44.657812 \nz\n\" style=\"fill:#da70d6;stroke:#ffffff;stroke-linejoin:miter;\"/>\n    </g>\n    <g id=\"text_17\">\n     <!-- 类别C -->\n     <defs>\n      <path d=\"M 68.3125 22.703125 \nQ 65.1875 10.640625 57.390625 4.703125 \nQ 49.609375 -1.21875 38.71875 -1.21875 \nQ 21.140625 -1.21875 13.109375 9.78125 \nQ 5.078125 20.796875 5.078125 36.28125 \nQ 5.078125 53.421875 14.515625 63.109375 \nQ 23.96875 72.796875 38.8125 72.796875 \nQ 49.265625 72.796875 56.6875 67.46875 \nQ 64.109375 62.15625 67.09375 51.90625 \nL 57.8125 49.703125 \nQ 55.46875 57.171875 50.6875 60.9375 \nQ 45.90625 64.703125 38.71875 64.703125 \nQ 27 64.703125 20.9375 57 \nQ 14.890625 49.3125 14.890625 36.375 \nQ 14.890625 21.4375 21.265625 14.15625 \nQ 27.640625 6.890625 37.890625 6.890625 \nQ 46.296875 6.890625 51.53125 11.421875 \nQ 56.78125 15.96875 58.890625 25.09375 \nz\n\" id=\"ArialUnicodeMS-67\"/>\n     </defs>\n     <g style=\"fill:#262626;\" transform=\"translate(332.239062 51.657812)scale(0.1 -0.1)\">\n      <use xlink:href=\"#ArialUnicodeMS-31867\"/>\n      <use x=\"100\" xlink:href=\"#ArialUnicodeMS-21035\"/>\n      <use x=\"200\" xlink:href=\"#ArialUnicodeMS-67\"/>\n     </g>\n    </g>\n   </g>\n  </g>\n </g>\n <defs>\n  <clipPath id=\"p21d8460c07\">\n   <rect height=\"217.44\" width=\"334.8\" x=\"33.660938\" y=\"7.2\"/>\n  </clipPath>\n </defs>\n</svg>\n",
      "image/png": "[encoded data removed]"
     },
     "metadata": {}
    }
   ],
   "source": [
    "# 并列柱状图\n",
    "import matplotlib.pyplot as plt\n",
    "import numpy as np\n",
    "plt.rcParams['font.family'] = ['Arial Unicode MS'] #用来正常显示中文标签\n",
    "plt.rcParams['axes.unicode_minus'] = False #用来正常显示负号\n",
    " \n",
    "sns.set_style('whitegrid',{'font.sans-serif':['Arial Unicode MS','Arial']})\n",
    "x=np.arange(5)#柱状图在横坐标上的位置\n",
    "#列出你要显示的数据，数据的列表长度与x长度相同\n",
    "y1=[1,3,5,4,2]\n",
    "y2=[2,5,3,1,6]\n",
    "y3=[9,7,1,21,2]\n",
    "\n",
    "bar_width=0.3#设置柱状图的宽度\n",
    "tick_label=['上海','武汉','南京','天津','南宁']\n",
    "\n",
    "#绘制并列柱状图\n",
    "plt.bar(x,y1,bar_width,color='salmon',label='类别A')\n",
    "plt.bar(x+bar_width,y2,bar_width,color='orchid',label='类别B')\n",
    "plt.bar(x+bar_width+bar_width,y3,bar_width,color='orchid',label='类别C')\n",
    "\n",
    "plt.legend()#显示图例，即label\n",
    "plt.xticks(x+bar_width/2,tick_label)#显示x坐标轴的标签,即tick_label,调整位置，使其落在两个直方图中间位置\n",
    "plt.show()"
   ]
  },
  {
   "cell_type": "code",
   "execution_count": 94,
   "metadata": {},
   "outputs": [
    {
     "output_type": "display_data",
     "data": {
      "text/plain": "<Figure size 432x288 with 1 Axes>",
      "image/svg+xml": "<?xml version=\"1.0\" encoding=\"utf-8\" standalone=\"no\"?>\n<!DOCTYPE svg PUBLIC \"-//W3C//DTD SVG 1.1//EN\"\n  \"http://www.w3.org/Graphics/SVG/1.1/DTD/svg11.dtd\">\n<!-- Created with matplotlib (https://matplotlib.org/) -->\n<svg height=\"248.068125pt\" version=\"1.1\" viewBox=\"0 0 375.660938 248.068125\" width=\"375.660938pt\" xmlns=\"http://www.w3.org/2000/svg\" xmlns:xlink=\"http://www.w3.org/1999/xlink\">\n <defs>\n  <style type=\"text/css\">\n*{stroke-linecap:butt;stroke-linejoin:round;}\n  </style>\n </defs>\n <g id=\"figure_1\">\n  <g id=\"patch_1\">\n   <path d=\"M 0 248.068125 \nL 375.660938 248.068125 \nL 375.660938 0 \nL 0 0 \nz\n\" style=\"fill:#ffffff;\"/>\n  </g>\n  <g id=\"axes_1\">\n   <g id=\"patch_2\">\n    <path d=\"M 33.660938 224.64 \nL 368.460938 224.64 \nL 368.460938 7.2 \nL 33.660938 7.2 \nz\n\" style=\"fill:#ffffff;\"/>\n   </g>\n   <g id=\"matplotlib.axis_1\">\n    <g id=\"xtick_1\">\n     <g id=\"line2d_1\">\n      <path clip-path=\"url(#p32b667a158)\" d=\"M 67.513628 224.64 \nL 67.513628 7.2 \n\" style=\"fill:none;stroke:#cccccc;stroke-linecap:round;stroke-width:0.8;\"/>\n     </g>\n     <g id=\"text_1\">\n      <!-- 上海 -->\n      <defs>\n       <path d=\"M 92.671875 0.984375 \nL 9.1875 0.984375 \nL 9.1875 8.296875 \nL 42 8.296875 \nL 42 81.390625 \nL 49.609375 81.390625 \nL 49.609375 52.390625 \nL 83.890625 52.390625 \nL 83.890625 45.125 \nL 49.609375 45.125 \nL 49.609375 8.296875 \nL 92.671875 8.296875 \nz\n\" id=\"ArialUnicodeMS-19978\"/>\n       <path d=\"M 95.609375 30.421875 \nL 86.375 30.421875 \nL 85.015625 14.40625 \nL 92.09375 14.40625 \nL 92.09375 7.078125 \nL 84.078125 7.078125 \nQ 82.671875 -6.203125 71.390625 -6.203125 \nQ 66.359375 -6.203125 61.8125 -5.71875 \nL 60.109375 2.203125 \nQ 66.109375 0.984375 70.90625 0.984375 \nQ 73.140625 0.984375 74.328125 2.078125 \nQ 75.53125 3.171875 75.984375 7.078125 \nL 39.109375 7.078125 \nL 38.28125 2.78125 \nL 30.515625 3.609375 \nL 34.90625 30.421875 \nL 27.484375 30.421875 \nL 27.484375 37.703125 \nL 35.59375 37.703125 \nL 38.1875 56.6875 \nQ 34.90625 52.09375 31.5 49.125 \nL 24.421875 53.078125 \nQ 40.96875 68.015625 43.5 84.28125 \nL 51.421875 81.5 \nQ 50.53125 77.9375 48.875 74.609375 \nL 93.796875 74.609375 \nL 93.796875 67.28125 \nL 45.515625 67.28125 \nQ 44.140625 64.59375 40.71875 59.8125 \nL 88.484375 59.8125 \nL 87.109375 37.703125 \nL 95.609375 37.703125 \nz\nM 80.171875 52.484375 \nL 66.890625 52.484375 \nL 64.890625 37.703125 \nL 78.90625 37.703125 \nQ 79.734375 43.015625 80.171875 52.484375 \nz\nM 59.515625 52.484375 \nL 45.703125 52.484375 \nL 43.609375 37.703125 \nL 57.515625 37.703125 \nz\nM 56.59375 30.421875 \nL 42.390625 30.421875 \nL 39.984375 14.40625 \nL 54.5 14.40625 \nz\nM 78.515625 30.421875 \nL 64.015625 30.421875 \nL 61.921875 14.40625 \nL 77.09375 14.40625 \nQ 77.484375 17.578125 78.515625 30.421875 \nz\nM 32.078125 66.609375 \nL 26.421875 61.71875 \nQ 20.65625 71.390625 9.8125 74.8125 \nL 15.375 80.171875 \nQ 25.4375 76.265625 32.078125 66.609375 \nz\nM 26.703125 44.921875 \nL 20.796875 39.984375 \nQ 14.5 50.828125 4.203125 54.296875 \nL 10.109375 59.421875 \nQ 19.390625 55.671875 26.703125 44.921875 \nz\nM 26.515625 31.5 \nQ 22.5625 9.90625 12.59375 -3.515625 \nL 6.296875 2.09375 \nQ 16.15625 14.453125 19.1875 34.078125 \nz\n\" id=\"ArialUnicodeMS-28023\"/>\n      </defs>\n      <g style=\"fill:#262626;\" transform=\"translate(57.513628 238.797812)scale(0.1 -0.1)\">\n       <use xlink:href=\"#ArialUnicodeMS-19978\"/>\n       <use x=\"100\" xlink:href=\"#ArialUnicodeMS-28023\"/>\n      </g>\n     </g>\n    </g>\n    <g id=\"xtick_2\">\n     <g id=\"line2d_2\">\n      <path clip-path=\"url(#p32b667a158)\" d=\"M 129.628655 224.64 \nL 129.628655 7.2 \n\" style=\"fill:none;stroke:#cccccc;stroke-linecap:round;stroke-width:0.8;\"/>\n     </g>\n     <g id=\"text_2\">\n      <!-- 武汉 -->\n      <defs>\n       <path d=\"M 94.1875 12.796875 \nQ 92.234375 -5.8125 85.109375 -5.8125 \nQ 79.6875 -5.8125 71.09375 8.484375 \nQ 62.5 22.796875 59.515625 49.8125 \nL 7.625 49.8125 \nL 7.625 57.078125 \nL 58.890625 57.078125 \nQ 58.296875 62.796875 57.71875 83.40625 \nL 65.1875 83.40625 \nQ 65.328125 71.53125 66.40625 57.078125 \nL 90.1875 57.078125 \nL 90.1875 49.8125 \nL 67.09375 49.8125 \nQ 68.890625 29.109375 75.84375 16.09375 \nQ 82.8125 3.078125 84.71875 3.078125 \nQ 85.359375 3.078125 86.0625 7.03125 \nQ 86.765625 10.984375 86.921875 15.28125 \nz\nM 88.1875 64.984375 \nL 82.421875 60.296875 \nQ 76.46875 70.125 66.890625 73.875 \nL 72.3125 78.71875 \nQ 80.515625 76.03125 88.1875 64.984375 \nz\nM 52 67.390625 \nL 12.40625 67.390625 \nL 12.40625 74.703125 \nL 52 74.703125 \nz\nM 63.71875 7.078125 \nL 10.796875 -4.296875 \nL 6.296875 2.78125 \nL 15.28125 4.390625 \nL 15.28125 39.59375 \nL 22.90625 39.59375 \nL 22.90625 6 \nL 34.078125 8.203125 \nL 34.078125 46.296875 \nL 41.703125 46.296875 \nL 41.703125 35.015625 \nL 56.390625 35.015625 \nL 56.390625 27.6875 \nL 41.703125 27.6875 \nL 41.703125 10.015625 \nL 63.71875 14.703125 \nz\n\" id=\"ArialUnicodeMS-27494\"/>\n       <path d=\"M 32.71875 69.09375 \nL 27.78125 62.40625 \nQ 19.96875 70.609375 7.90625 74.421875 \nL 12.59375 80.421875 \nQ 24.421875 77.25 32.71875 69.09375 \nz\nM 95.609375 1.609375 \nL 89.703125 -5.421875 \nQ 71.140625 5.078125 62.890625 15.09375 \nQ 52.09375 2.390625 35.40625 -5.90625 \nL 30.609375 0.78125 \nQ 49.265625 10.640625 58.015625 21.484375 \nQ 45.40625 39.15625 41.703125 68.21875 \nL 35.984375 68.21875 \nL 35.984375 75.09375 \nL 84.90625 75.09375 \nQ 84.8125 65.625 80.390625 49.265625 \nQ 75.984375 32.90625 67.921875 21.390625 \nQ 77.828125 9.671875 95.609375 1.609375 \nz\nM 76.90625 68.21875 \nL 49.03125 68.21875 \nQ 52.875 43.703125 62.703125 28.421875 \nQ 73.484375 44.578125 76.90625 68.21875 \nz\nM 28.328125 50.59375 \nL 24.03125 43.703125 \nQ 16.015625 51.171875 4 54.5 \nL 8.015625 61.078125 \nQ 20.21875 57.8125 28.328125 50.59375 \nz\nM 33.109375 31.390625 \nL 29.203125 21.140625 \nQ 26.125 12.796875 22.359375 6.984375 \nQ 18.609375 1.171875 12.703125 -4.984375 \nL 6.5 0.203125 \nQ 20.171875 13.875 26.421875 34.90625 \nz\n\" id=\"ArialUnicodeMS-27721\"/>\n      </defs>\n      <g style=\"fill:#262626;\" transform=\"translate(119.628655 238.797812)scale(0.1 -0.1)\">\n       <use xlink:href=\"#ArialUnicodeMS-27494\"/>\n       <use x=\"100\" xlink:href=\"#ArialUnicodeMS-27721\"/>\n      </g>\n     </g>\n    </g>\n    <g id=\"xtick_3\">\n     <g id=\"line2d_3\">\n      <path clip-path=\"url(#p32b667a158)\" d=\"M 191.743683 224.64 \nL 191.743683 7.2 \n\" style=\"fill:none;stroke:#cccccc;stroke-linecap:round;stroke-width:0.8;\"/>\n     </g>\n     <g id=\"text_3\">\n      <!-- 南京 -->\n      <defs>\n       <path d=\"M 94.1875 66.703125 \nL 54.390625 66.703125 \nL 54.390625 57.8125 \nL 87.59375 57.8125 \nL 87.59375 2.09375 \nQ 87.59375 -1.65625 85 -3.359375 \nQ 82.421875 -5.078125 79.890625 -5.078125 \nL 68.109375 -5.078125 \nL 66.21875 2.59375 \nL 74.171875 2.34375 \nQ 79.984375 2.34375 79.984375 6 \nL 79.984375 50.484375 \nL 64.3125 50.484375 \nL 69.578125 47.3125 \nQ 66.109375 38.140625 62.3125 34.515625 \nL 74.3125 34.515625 \nL 74.3125 27.203125 \nL 54.390625 27.203125 \nL 54.390625 21 \nL 76.125 21 \nL 76.125 13.71875 \nL 54.390625 13.71875 \nL 54.390625 -3.328125 \nL 46.78125 -3.328125 \nL 46.78125 13.71875 \nL 25.203125 13.71875 \nL 25.203125 21 \nL 46.78125 21 \nL 46.78125 27.203125 \nL 26.90625 27.203125 \nL 26.90625 34.515625 \nL 39.3125 34.515625 \nQ 36.96875 41.703125 28.90625 46.6875 \nL 36.078125 50.203125 \nQ 44.578125 43.703125 46.78125 36.71875 \nL 41.40625 34.515625 \nL 52.875 34.515625 \nQ 58.984375 40.484375 62.703125 50.484375 \nL 21 50.484375 \nL 21 -7.171875 \nL 13.375 -7.171875 \nL 13.375 57.8125 \nL 46.78125 57.8125 \nL 46.78125 66.703125 \nL 6.78125 66.703125 \nL 6.78125 74.03125 \nL 46.78125 74.03125 \nL 46.78125 83.015625 \nL 54.390625 83.015625 \nL 54.390625 74.03125 \nL 94.1875 74.03125 \nz\n\" id=\"ArialUnicodeMS-21335\"/>\n       <path d=\"M 92.921875 64.890625 \nL 7.421875 64.890625 \nL 7.421875 72.515625 \nL 45.90625 72.515625 \nL 45.90625 82.515625 \nL 53.8125 82.515625 \nL 53.8125 72.515625 \nL 92.921875 72.515625 \nz\nM 78.21875 27.203125 \nL 54.296875 27.203125 \nL 54.296875 1.703125 \nQ 54.296875 -1.90625 52.21875 -4.140625 \nQ 50.140625 -6.390625 46.6875 -6.390625 \nL 36.1875 -6.390625 \nL 33.5 1.8125 \nQ 41.75 1.21875 42.28125 1.21875 \nQ 46.6875 1.21875 46.6875 3.90625 \nL 46.6875 27.203125 \nL 22.125 27.203125 \nL 22.125 56.890625 \nL 78.21875 56.890625 \nz\nM 70.609375 34.515625 \nL 70.609375 49.609375 \nL 29.6875 49.609375 \nL 29.6875 34.515625 \nz\nM 95.015625 6.109375 \nL 89.796875 0.390625 \nQ 75.09375 14.75 61.1875 17.921875 \nL 66.109375 24.03125 \nQ 80.859375 19.625 95.015625 6.109375 \nz\nM 39.203125 19 \nQ 27.9375 6.25 9.90625 -0.09375 \nL 5.328125 6.6875 \nQ 24.078125 11.921875 34.1875 24.03125 \nz\n\" id=\"ArialUnicodeMS-20140\"/>\n      </defs>\n      <g style=\"fill:#262626;\" transform=\"translate(181.743683 238.797812)scale(0.1 -0.1)\">\n       <use xlink:href=\"#ArialUnicodeMS-21335\"/>\n       <use x=\"100\" xlink:href=\"#ArialUnicodeMS-20140\"/>\n      </g>\n     </g>\n    </g>\n    <g id=\"xtick_4\">\n     <g id=\"line2d_4\">\n      <path clip-path=\"url(#p32b667a158)\" d=\"M 253.858711 224.64 \nL 253.858711 7.2 \n\" style=\"fill:none;stroke:#cccccc;stroke-linecap:round;stroke-width:0.8;\"/>\n     </g>\n     <g id=\"text_4\">\n      <!-- 天津 -->\n      <defs>\n       <path d=\"M 94.671875 1.125 \nL 89.109375 -5.078125 \nQ 58.15625 8.890625 52.296875 39.203125 \nQ 49.609375 25.59375 38.625 13.484375 \nQ 27.640625 1.375 12.59375 -4.984375 \nL 6.109375 1.609375 \nQ 38.234375 14.0625 44.1875 40.828125 \nL 14.015625 40.828125 \nL 14.015625 48.09375 \nL 45.515625 48.09375 \nQ 46.578125 54.4375 46.921875 70.21875 \nL 10.984375 70.21875 \nL 10.984375 77.78125 \nL 90.578125 77.78125 \nL 90.578125 70.21875 \nL 55.078125 70.21875 \nQ 54.78125 53.171875 54.203125 48.09375 \nL 87.796875 48.09375 \nL 87.796875 40.828125 \nL 59.8125 40.828125 \nQ 64.984375 14.9375 94.671875 1.125 \nz\n\" id=\"ArialUnicodeMS-22825\"/>\n       <path d=\"M 95.90625 54.5 \nL 85.59375 54.5 \nL 85.59375 39.703125 \nL 63.375 39.703125 \nL 63.375 33.59375 \nL 88.8125 33.59375 \nL 88.8125 26.421875 \nL 63.375 26.421875 \nL 63.375 18.5 \nL 95.609375 18.5 \nL 95.609375 11.28125 \nL 63.375 11.28125 \nL 63.375 -6.203125 \nL 55.515625 -6.203125 \nL 55.515625 11.28125 \nL 27.484375 11.28125 \nL 27.484375 18.5 \nL 55.515625 18.5 \nL 55.515625 26.421875 \nL 33.015625 26.421875 \nL 33.015625 33.59375 \nL 55.515625 33.59375 \nL 55.515625 39.703125 \nL 34.8125 39.703125 \nL 34.8125 46.921875 \nL 55.515625 46.921875 \nL 55.515625 54.5 \nL 27.484375 54.5 \nL 27.484375 61.71875 \nL 55.515625 61.71875 \nL 55.515625 67.484375 \nL 35.203125 67.484375 \nL 35.203125 74.703125 \nL 55.515625 74.703125 \nL 55.515625 84.1875 \nL 63.375 84.1875 \nL 63.375 74.703125 \nL 85.59375 74.703125 \nL 85.59375 61.71875 \nL 95.90625 61.71875 \nz\nM 77.984375 61.71875 \nL 77.984375 67.484375 \nL 63.375 67.484375 \nL 63.375 61.71875 \nz\nM 77.984375 46.921875 \nL 77.984375 54.5 \nL 63.375 54.5 \nL 63.375 46.921875 \nz\nM 31.59375 67.921875 \nL 25.484375 62.796875 \nQ 18.453125 73.828125 10.109375 77.984375 \nL 16.21875 83.015625 \nQ 22.75 80.328125 31.59375 67.921875 \nz\nM 26.515625 46 \nL 20.796875 40.71875 \nQ 14.453125 53.71875 4.78125 58.59375 \nL 10.5 63.484375 \nQ 20.21875 58.25 26.515625 46 \nz\nM 29.5 32.71875 \nQ 24.65625 10.359375 12.5 -3.609375 \nL 5.328125 1.421875 \nQ 18.015625 13.375 22.40625 36.1875 \nz\n\" id=\"ArialUnicodeMS-27941\"/>\n      </defs>\n      <g style=\"fill:#262626;\" transform=\"translate(243.858711 238.797812)scale(0.1 -0.1)\">\n       <use xlink:href=\"#ArialUnicodeMS-22825\"/>\n       <use x=\"100\" xlink:href=\"#ArialUnicodeMS-27941\"/>\n      </g>\n     </g>\n    </g>\n    <g id=\"xtick_5\">\n     <g id=\"line2d_5\">\n      <path clip-path=\"url(#p32b667a158)\" d=\"M 315.973739 224.64 \nL 315.973739 7.2 \n\" style=\"fill:none;stroke:#cccccc;stroke-linecap:round;stroke-width:0.8;\"/>\n     </g>\n     <g id=\"text_5\">\n      <!-- 南宁 -->\n      <defs>\n       <path d=\"M 91.40625 51.3125 \nL 83.890625 51.3125 \nL 83.890625 62.703125 \nL 17.671875 62.703125 \nL 17.671875 51.3125 \nL 10.109375 51.3125 \nL 10.109375 70.21875 \nL 49.703125 70.21875 \nQ 45.125 75.34375 35.40625 79.6875 \nL 40.09375 85.109375 \nQ 49.703125 81.5 58.015625 72.609375 \nL 55.328125 70.21875 \nL 91.40625 70.21875 \nz\nM 93.40625 36.1875 \nL 55.609375 36.1875 \nL 55.609375 2.09375 \nQ 55.609375 -0.046875 54.015625 -2.046875 \nQ 52.4375 -4.046875 50.5 -4.609375 \nQ 48.578125 -5.171875 44.484375 -5.171875 \nL 35.5 -5.171875 \nL 32.625 2.984375 \nL 45.21875 2.203125 \nQ 47.609375 2 47.609375 4.203125 \nL 47.609375 36.078125 \nL 7.90625 36.078125 \nL 7.90625 43.609375 \nL 93.40625 43.609375 \nz\n\" id=\"ArialUnicodeMS-23425\"/>\n      </defs>\n      <g style=\"fill:#262626;\" transform=\"translate(305.973739 238.875937)scale(0.1 -0.1)\">\n       <use xlink:href=\"#ArialUnicodeMS-21335\"/>\n       <use x=\"100\" xlink:href=\"#ArialUnicodeMS-23425\"/>\n      </g>\n     </g>\n    </g>\n   </g>\n   <g id=\"matplotlib.axis_2\">\n    <g id=\"ytick_1\">\n     <g id=\"line2d_6\">\n      <path clip-path=\"url(#p32b667a158)\" d=\"M 33.660938 224.64 \nL 368.460938 224.64 \n\" style=\"fill:none;stroke:#cccccc;stroke-linecap:round;stroke-width:0.8;\"/>\n     </g>\n     <g id=\"text_6\">\n      <!-- 0.0 -->\n      <defs>\n       <path d=\"M 27.78125 71.921875 \nQ 51.125 71.921875 51.125 35.296875 \nQ 51.125 16.796875 45.09375 7.78125 \nQ 39.0625 -1.21875 27.78125 -1.21875 \nQ 4.5 -1.21875 4.5 35.296875 \nQ 4.5 53.8125 10.515625 62.859375 \nQ 16.546875 71.921875 27.78125 71.921875 \nz\nM 27.78125 6 \nQ 34.859375 6 38.46875 12.859375 \nQ 42.09375 19.734375 42.09375 35.296875 \nQ 42.09375 46.140625 40.5 52.359375 \nQ 38.921875 58.59375 35.71875 61.640625 \nQ 32.515625 64.703125 27.6875 64.703125 \nQ 20.609375 64.703125 17.046875 57.71875 \nQ 13.484375 50.734375 13.484375 35.296875 \nQ 13.484375 24.609375 15.09375 18.359375 \nQ 16.703125 12.109375 19.875 9.046875 \nQ 23.046875 6 27.78125 6 \nz\n\" id=\"ArialUnicodeMS-48\"/>\n       <path d=\"M 18.890625 0 \nL 8.890625 0 \nL 8.890625 10.015625 \nL 18.890625 10.015625 \nz\n\" id=\"ArialUnicodeMS-46\"/>\n      </defs>\n      <g style=\"fill:#262626;\" transform=\"translate(12.760938 228.218906)scale(0.1 -0.1)\">\n       <use xlink:href=\"#ArialUnicodeMS-48\"/>\n       <use x=\"55.615234\" xlink:href=\"#ArialUnicodeMS-46\"/>\n       <use x=\"83.398438\" xlink:href=\"#ArialUnicodeMS-48\"/>\n      </g>\n     </g>\n    </g>\n    <g id=\"ytick_2\">\n     <g id=\"line2d_7\">\n      <path clip-path=\"url(#p32b667a158)\" d=\"M 33.660938 199.986939 \nL 368.460938 199.986939 \n\" style=\"fill:none;stroke:#cccccc;stroke-linecap:round;stroke-width:0.8;\"/>\n     </g>\n     <g id=\"text_7\">\n      <!-- 2.5 -->\n      <defs>\n       <path d=\"M 50.484375 0 \nL 3.078125 0 \nQ 3.078125 6.0625 7.296875 12.25 \nQ 11.53125 18.453125 23.09375 27.78125 \nQ 30.171875 33.453125 35.734375 39.671875 \nQ 41.3125 45.90625 41.3125 52.203125 \nQ 41.3125 57.625 37.46875 61.15625 \nQ 33.640625 64.703125 27.78125 64.703125 \nQ 21.875 64.703125 17.875 61.0625 \nQ 13.875 57.421875 13.8125 50.203125 \nL 4.78125 51.21875 \nQ 5.609375 61.28125 11.9375 66.59375 \nQ 18.265625 71.921875 27.984375 71.921875 \nQ 38.53125 71.921875 44.40625 66.078125 \nQ 50.296875 60.25 50.296875 52 \nQ 50.296875 45.125 45.328125 38.0625 \nQ 40.375 31 25.59375 19.1875 \nQ 17.828125 12.984375 15.28125 8.5 \nL 50.484375 8.5 \nz\n\" id=\"ArialUnicodeMS-50\"/>\n       <path d=\"M 15.828125 43.015625 \nQ 22.359375 47.515625 29.390625 47.515625 \nQ 38.328125 47.515625 44.96875 41.1875 \nQ 51.609375 34.859375 51.609375 24.3125 \nQ 51.609375 13.671875 44.875 6.21875 \nQ 38.140625 -1.21875 27.203125 -1.21875 \nQ 18.265625 -1.21875 11.71875 3.828125 \nQ 5.171875 8.890625 4.203125 18.796875 \nL 13.375 19.484375 \nQ 14.5 12.703125 18.15625 9.34375 \nQ 21.828125 6 27.203125 6 \nQ 33.890625 6 38.03125 11.046875 \nQ 42.1875 16.109375 42.1875 23.484375 \nQ 42.1875 31 37.9375 35.34375 \nQ 33.6875 39.703125 27 39.703125 \nQ 18.5625 39.703125 14.015625 32.8125 \nL 5.71875 33.796875 \nL 12.703125 70.609375 \nL 48.1875 70.609375 \nL 48.1875 62.109375 \nL 19.671875 62.109375 \nz\n\" id=\"ArialUnicodeMS-53\"/>\n      </defs>\n      <g style=\"fill:#262626;\" transform=\"translate(12.760938 203.565845)scale(0.1 -0.1)\">\n       <use xlink:href=\"#ArialUnicodeMS-50\"/>\n       <use x=\"55.615234\" xlink:href=\"#ArialUnicodeMS-46\"/>\n       <use x=\"83.398438\" xlink:href=\"#ArialUnicodeMS-53\"/>\n      </g>\n     </g>\n    </g>\n    <g id=\"ytick_3\">\n     <g id=\"line2d_8\">\n      <path clip-path=\"url(#p32b667a158)\" d=\"M 33.660938 175.333878 \nL 368.460938 175.333878 \n\" style=\"fill:none;stroke:#cccccc;stroke-linecap:round;stroke-width:0.8;\"/>\n     </g>\n     <g id=\"text_8\">\n      <!-- 5.0 -->\n      <g style=\"fill:#262626;\" transform=\"translate(12.760938 178.912784)scale(0.1 -0.1)\">\n       <use xlink:href=\"#ArialUnicodeMS-53\"/>\n       <use x=\"55.615234\" xlink:href=\"#ArialUnicodeMS-46\"/>\n       <use x=\"83.398438\" xlink:href=\"#ArialUnicodeMS-48\"/>\n      </g>\n     </g>\n    </g>\n    <g id=\"ytick_4\">\n     <g id=\"line2d_9\">\n      <path clip-path=\"url(#p32b667a158)\" d=\"M 33.660938 150.680816 \nL 368.460938 150.680816 \n\" style=\"fill:none;stroke:#cccccc;stroke-linecap:round;stroke-width:0.8;\"/>\n     </g>\n     <g id=\"text_9\">\n      <!-- 7.5 -->\n      <defs>\n       <path d=\"M 51.125 63.8125 \nQ 40.578125 52.25 32.859375 35.203125 \nQ 25.140625 18.171875 23.78125 0 \nL 14.796875 0 \nQ 15.140625 14.59375 22 32.046875 \nQ 28.859375 49.515625 39.796875 62.109375 \nL 4.78125 62.109375 \nL 4.78125 70.609375 \nL 51.125 70.609375 \nz\n\" id=\"ArialUnicodeMS-55\"/>\n      </defs>\n      <g style=\"fill:#262626;\" transform=\"translate(12.760938 154.259723)scale(0.1 -0.1)\">\n       <use xlink:href=\"#ArialUnicodeMS-55\"/>\n       <use x=\"55.615234\" xlink:href=\"#ArialUnicodeMS-46\"/>\n       <use x=\"83.398438\" xlink:href=\"#ArialUnicodeMS-53\"/>\n      </g>\n     </g>\n    </g>\n    <g id=\"ytick_5\">\n     <g id=\"line2d_10\">\n      <path clip-path=\"url(#p32b667a158)\" d=\"M 33.660938 126.027755 \nL 368.460938 126.027755 \n\" style=\"fill:none;stroke:#cccccc;stroke-linecap:round;stroke-width:0.8;\"/>\n     </g>\n     <g id=\"text_10\">\n      <!-- 10.0 -->\n      <defs>\n       <path d=\"M 37.5 0 \nL 28.71875 0 \nL 28.71875 56 \nQ 22.125 49.75 11.078125 45.40625 \nL 11.078125 53.90625 \nQ 26.265625 61.1875 31.78125 71.921875 \nL 37.5 71.921875 \nz\n\" id=\"ArialUnicodeMS-49\"/>\n      </defs>\n      <g style=\"fill:#262626;\" transform=\"translate(7.2 129.606661)scale(0.1 -0.1)\">\n       <use xlink:href=\"#ArialUnicodeMS-49\"/>\n       <use x=\"55.615234\" xlink:href=\"#ArialUnicodeMS-48\"/>\n       <use x=\"111.230469\" xlink:href=\"#ArialUnicodeMS-46\"/>\n       <use x=\"139.013672\" xlink:href=\"#ArialUnicodeMS-48\"/>\n      </g>\n     </g>\n    </g>\n    <g id=\"ytick_6\">\n     <g id=\"line2d_11\">\n      <path clip-path=\"url(#p32b667a158)\" d=\"M 33.660938 101.374694 \nL 368.460938 101.374694 \n\" style=\"fill:none;stroke:#cccccc;stroke-linecap:round;stroke-width:0.8;\"/>\n     </g>\n     <g id=\"text_11\">\n      <!-- 12.5 -->\n      <g style=\"fill:#262626;\" transform=\"translate(7.2 104.9536)scale(0.1 -0.1)\">\n       <use xlink:href=\"#ArialUnicodeMS-49\"/>\n       <use x=\"55.615234\" xlink:href=\"#ArialUnicodeMS-50\"/>\n       <use x=\"111.230469\" xlink:href=\"#ArialUnicodeMS-46\"/>\n       <use x=\"139.013672\" xlink:href=\"#ArialUnicodeMS-53\"/>\n      </g>\n     </g>\n    </g>\n    <g id=\"ytick_7\">\n     <g id=\"line2d_12\">\n      <path clip-path=\"url(#p32b667a158)\" d=\"M 33.660938 76.721633 \nL 368.460938 76.721633 \n\" style=\"fill:none;stroke:#cccccc;stroke-linecap:round;stroke-width:0.8;\"/>\n     </g>\n     <g id=\"text_12\">\n      <!-- 15.0 -->\n      <g style=\"fill:#262626;\" transform=\"translate(7.2 80.300539)scale(0.1 -0.1)\">\n       <use xlink:href=\"#ArialUnicodeMS-49\"/>\n       <use x=\"55.615234\" xlink:href=\"#ArialUnicodeMS-53\"/>\n       <use x=\"111.230469\" xlink:href=\"#ArialUnicodeMS-46\"/>\n       <use x=\"139.013672\" xlink:href=\"#ArialUnicodeMS-48\"/>\n      </g>\n     </g>\n    </g>\n    <g id=\"ytick_8\">\n     <g id=\"line2d_13\">\n      <path clip-path=\"url(#p32b667a158)\" d=\"M 33.660938 52.068571 \nL 368.460938 52.068571 \n\" style=\"fill:none;stroke:#cccccc;stroke-linecap:round;stroke-width:0.8;\"/>\n     </g>\n     <g id=\"text_13\">\n      <!-- 17.5 -->\n      <g style=\"fill:#262626;\" transform=\"translate(7.2 55.647478)scale(0.1 -0.1)\">\n       <use xlink:href=\"#ArialUnicodeMS-49\"/>\n       <use x=\"55.615234\" xlink:href=\"#ArialUnicodeMS-55\"/>\n       <use x=\"111.230469\" xlink:href=\"#ArialUnicodeMS-46\"/>\n       <use x=\"139.013672\" xlink:href=\"#ArialUnicodeMS-53\"/>\n      </g>\n     </g>\n    </g>\n    <g id=\"ytick_9\">\n     <g id=\"line2d_14\">\n      <path clip-path=\"url(#p32b667a158)\" d=\"M 33.660938 27.41551 \nL 368.460938 27.41551 \n\" style=\"fill:none;stroke:#cccccc;stroke-linecap:round;stroke-width:0.8;\"/>\n     </g>\n     <g id=\"text_14\">\n      <!-- 20.0 -->\n      <g style=\"fill:#262626;\" transform=\"translate(7.2 30.994416)scale(0.1 -0.1)\">\n       <use xlink:href=\"#ArialUnicodeMS-50\"/>\n       <use x=\"55.615234\" xlink:href=\"#ArialUnicodeMS-48\"/>\n       <use x=\"111.230469\" xlink:href=\"#ArialUnicodeMS-46\"/>\n       <use x=\"139.013672\" xlink:href=\"#ArialUnicodeMS-48\"/>\n      </g>\n     </g>\n    </g>\n   </g>\n   <g id=\"patch_3\">\n    <path clip-path=\"url(#p32b667a158)\" d=\"M 48.879119 224.64 \nL 67.513628 224.64 \nL 67.513628 214.778776 \nL 48.879119 214.778776 \nz\n\" style=\"fill:#1f77b4;stroke:#ffffff;stroke-linejoin:miter;\"/>\n   </g>\n   <g id=\"patch_4\">\n    <path clip-path=\"url(#p32b667a158)\" d=\"M 110.994147 224.64 \nL 129.628655 224.64 \nL 129.628655 195.056327 \nL 110.994147 195.056327 \nz\n\" style=\"fill:#1f77b4;stroke:#ffffff;stroke-linejoin:miter;\"/>\n   </g>\n   <g id=\"patch_5\">\n    <path clip-path=\"url(#p32b667a158)\" d=\"M 173.109175 224.64 \nL 191.743683 224.64 \nL 191.743683 175.333878 \nL 173.109175 175.333878 \nz\n\" style=\"fill:#1f77b4;stroke:#ffffff;stroke-linejoin:miter;\"/>\n   </g>\n   <g id=\"patch_6\">\n    <path clip-path=\"url(#p32b667a158)\" d=\"M 235.224203 224.64 \nL 253.858711 224.64 \nL 253.858711 185.195102 \nL 235.224203 185.195102 \nz\n\" style=\"fill:#1f77b4;stroke:#ffffff;stroke-linejoin:miter;\"/>\n   </g>\n   <g id=\"patch_7\">\n    <path clip-path=\"url(#p32b667a158)\" d=\"M 297.339231 224.64 \nL 315.973739 224.64 \nL 315.973739 204.917551 \nL 297.339231 204.917551 \nz\n\" style=\"fill:#1f77b4;stroke:#ffffff;stroke-linejoin:miter;\"/>\n   </g>\n   <g id=\"patch_8\">\n    <path clip-path=\"url(#p32b667a158)\" d=\"M 67.513628 224.64 \nL 86.148136 224.64 \nL 86.148136 204.917551 \nL 67.513628 204.917551 \nz\n\" style=\"fill:#ff7f0e;stroke:#ffffff;stroke-linejoin:miter;\"/>\n   </g>\n   <g id=\"patch_9\">\n    <path clip-path=\"url(#p32b667a158)\" d=\"M 129.628655 224.64 \nL 148.263164 224.64 \nL 148.263164 175.333878 \nL 129.628655 175.333878 \nz\n\" style=\"fill:#ff7f0e;stroke:#ffffff;stroke-linejoin:miter;\"/>\n   </g>\n   <g id=\"patch_10\">\n    <path clip-path=\"url(#p32b667a158)\" d=\"M 191.743683 224.64 \nL 210.378192 224.64 \nL 210.378192 195.056327 \nL 191.743683 195.056327 \nz\n\" style=\"fill:#ff7f0e;stroke:#ffffff;stroke-linejoin:miter;\"/>\n   </g>\n   <g id=\"patch_11\">\n    <path clip-path=\"url(#p32b667a158)\" d=\"M 253.858711 224.64 \nL 272.49322 224.64 \nL 272.49322 214.778776 \nL 253.858711 214.778776 \nz\n\" style=\"fill:#ff7f0e;stroke:#ffffff;stroke-linejoin:miter;\"/>\n   </g>\n   <g id=\"patch_12\">\n    <path clip-path=\"url(#p32b667a158)\" d=\"M 315.973739 224.64 \nL 334.608247 224.64 \nL 334.608247 165.472653 \nL 315.973739 165.472653 \nz\n\" style=\"fill:#ff7f0e;stroke:#ffffff;stroke-linejoin:miter;\"/>\n   </g>\n   <g id=\"patch_13\">\n    <path clip-path=\"url(#p32b667a158)\" d=\"M 86.148136 224.64 \nL 104.782644 224.64 \nL 104.782644 135.88898 \nL 86.148136 135.88898 \nz\n\" style=\"fill:#2ca02c;stroke:#ffffff;stroke-linejoin:miter;\"/>\n   </g>\n   <g id=\"patch_14\">\n    <path clip-path=\"url(#p32b667a158)\" d=\"M 148.263164 224.64 \nL 166.897672 224.64 \nL 166.897672 155.611429 \nL 148.263164 155.611429 \nz\n\" style=\"fill:#2ca02c;stroke:#ffffff;stroke-linejoin:miter;\"/>\n   </g>\n   <g id=\"patch_15\">\n    <path clip-path=\"url(#p32b667a158)\" d=\"M 210.378192 224.64 \nL 229.0127 224.64 \nL 229.0127 214.778776 \nL 210.378192 214.778776 \nz\n\" style=\"fill:#2ca02c;stroke:#ffffff;stroke-linejoin:miter;\"/>\n   </g>\n   <g id=\"patch_16\">\n    <path clip-path=\"url(#p32b667a158)\" d=\"M 272.49322 224.64 \nL 291.127728 224.64 \nL 291.127728 17.554286 \nL 272.49322 17.554286 \nz\n\" style=\"fill:#2ca02c;stroke:#ffffff;stroke-linejoin:miter;\"/>\n   </g>\n   <g id=\"patch_17\">\n    <path clip-path=\"url(#p32b667a158)\" d=\"M 334.608247 224.64 \nL 353.242756 224.64 \nL 353.242756 204.917551 \nL 334.608247 204.917551 \nz\n\" style=\"fill:#2ca02c;stroke:#ffffff;stroke-linejoin:miter;\"/>\n   </g>\n   <g id=\"patch_18\">\n    <path d=\"M 33.660938 224.64 \nL 33.660938 7.2 \n\" style=\"fill:none;stroke:#cccccc;stroke-linecap:square;stroke-linejoin:miter;stroke-width:0.8;\"/>\n   </g>\n   <g id=\"patch_19\">\n    <path d=\"M 368.460938 224.64 \nL 368.460938 7.2 \n\" style=\"fill:none;stroke:#cccccc;stroke-linecap:square;stroke-linejoin:miter;stroke-width:0.8;\"/>\n   </g>\n   <g id=\"patch_20\">\n    <path d=\"M 33.660938 224.64 \nL 368.460938 224.64 \n\" style=\"fill:none;stroke:#cccccc;stroke-linecap:square;stroke-linejoin:miter;stroke-width:0.8;\"/>\n   </g>\n   <g id=\"patch_21\">\n    <path d=\"M 33.660938 7.2 \nL 368.460938 7.2 \n\" style=\"fill:none;stroke:#cccccc;stroke-linecap:square;stroke-linejoin:miter;stroke-width:0.8;\"/>\n   </g>\n   <g id=\"text_15\">\n    <!-- 1 -->\n    <g style=\"fill:#262626;\" transform=\"translate(55.415905 212.293527)scale(0.1 -0.1)\">\n     <use xlink:href=\"#ArialUnicodeMS-49\"/>\n    </g>\n   </g>\n   <g id=\"text_16\">\n    <!-- 2 -->\n    <g style=\"fill:#262626;\" transform=\"translate(74.050413 202.432302)scale(0.1 -0.1)\">\n     <use xlink:href=\"#ArialUnicodeMS-50\"/>\n    </g>\n   </g>\n   <g id=\"text_17\">\n    <!-- 9 -->\n    <defs>\n     <path d=\"M 42.390625 33.6875 \nQ 39.796875 29.5 35.28125 26.90625 \nQ 30.765625 24.3125 25.484375 24.3125 \nQ 16.65625 24.3125 10.46875 30.78125 \nQ 4.296875 37.25 4.296875 47.703125 \nQ 4.296875 58.34375 10.59375 65.125 \nQ 16.890625 71.921875 26.8125 71.921875 \nQ 36.765625 71.921875 44.03125 64.15625 \nQ 51.3125 56.390625 51.3125 37.3125 \nQ 51.3125 17.921875 44.671875 8.34375 \nQ 38.03125 -1.21875 25.6875 -1.21875 \nQ 17.625 -1.21875 12.203125 3.203125 \nQ 6.78125 7.625 5.609375 16.609375 \nL 14.015625 17.28125 \nQ 16.015625 6 25.875 6 \nQ 33.984375 6 38.28125 13.390625 \nQ 42.578125 20.796875 42.578125 33.6875 \nz\nM 27.59375 31.984375 \nQ 34.03125 31.984375 37.8125 36.546875 \nQ 41.609375 41.109375 41.609375 48.09375 \nQ 41.609375 55.171875 37.71875 59.9375 \nQ 33.84375 64.703125 27.78125 64.703125 \nQ 21.6875 64.703125 17.484375 59.640625 \nQ 13.28125 54.59375 13.28125 47.40625 \nQ 13.28125 40.625 17.40625 36.296875 \nQ 21.53125 31.984375 27.59375 31.984375 \nz\n\" id=\"ArialUnicodeMS-57\"/>\n    </defs>\n    <g style=\"fill:#262626;\" transform=\"translate(92.684921 133.403731)scale(0.1 -0.1)\">\n     <use xlink:href=\"#ArialUnicodeMS-57\"/>\n    </g>\n   </g>\n   <g id=\"text_18\">\n    <!-- 3 -->\n    <defs>\n     <path d=\"M 37.890625 38.71875 \nQ 44.53125 37.453125 47.921875 32.296875 \nQ 51.3125 27.15625 51.3125 21.09375 \nQ 51.3125 11.328125 44.203125 5.046875 \nQ 37.109375 -1.21875 27.203125 -1.21875 \nQ 17.71875 -1.21875 11.5625 4.296875 \nQ 5.421875 9.8125 4.390625 18.890625 \nL 13.1875 20.125 \nQ 14.5 13.03125 17.984375 9.515625 \nQ 21.484375 6 27.203125 6 \nQ 33.34375 6 37.609375 10.328125 \nQ 41.890625 14.65625 41.890625 20.90625 \nQ 41.890625 26.90625 38 30.859375 \nQ 34.125 34.8125 27.875 34.8125 \nQ 25.34375 34.8125 21.6875 33.890625 \nL 22.703125 41.609375 \nQ 26.21875 41.609375 28.265625 41.9375 \nQ 30.328125 42.28125 32.859375 43.59375 \nQ 35.40625 44.921875 37.0625 47.390625 \nQ 38.71875 49.859375 38.71875 53.515625 \nQ 38.71875 58.84375 35.171875 61.765625 \nQ 31.640625 64.703125 27 64.703125 \nQ 21.6875 64.703125 18.328125 61.328125 \nQ 14.984375 57.953125 14.109375 51.703125 \nL 5.328125 53.328125 \nQ 7.03125 62.640625 12.859375 67.28125 \nQ 18.703125 71.921875 26.8125 71.921875 \nQ 35.75 71.921875 41.71875 66.53125 \nQ 47.703125 61.140625 47.703125 53.328125 \nQ 47.703125 43.3125 37.890625 38.921875 \nz\n\" id=\"ArialUnicodeMS-51\"/>\n    </defs>\n    <g style=\"fill:#262626;\" transform=\"translate(117.530933 192.571078)scale(0.1 -0.1)\">\n     <use xlink:href=\"#ArialUnicodeMS-51\"/>\n    </g>\n   </g>\n   <g id=\"text_19\">\n    <!-- 5 -->\n    <g style=\"fill:#262626;\" transform=\"translate(136.165441 172.848629)scale(0.1 -0.1)\">\n     <use xlink:href=\"#ArialUnicodeMS-53\"/>\n    </g>\n   </g>\n   <g id=\"text_20\">\n    <!-- 7 -->\n    <g style=\"fill:#262626;\" transform=\"translate(154.799949 153.12618)scale(0.1 -0.1)\">\n     <use xlink:href=\"#ArialUnicodeMS-55\"/>\n    </g>\n   </g>\n   <g id=\"text_21\">\n    <!-- 5 -->\n    <g style=\"fill:#262626;\" transform=\"translate(179.64596 172.848629)scale(0.1 -0.1)\">\n     <use xlink:href=\"#ArialUnicodeMS-53\"/>\n    </g>\n   </g>\n   <g id=\"text_22\">\n    <!-- 3 -->\n    <g style=\"fill:#262626;\" transform=\"translate(198.280469 192.571078)scale(0.1 -0.1)\">\n     <use xlink:href=\"#ArialUnicodeMS-51\"/>\n    </g>\n   </g>\n   <g id=\"text_23\">\n    <!-- 1 -->\n    <g style=\"fill:#262626;\" transform=\"translate(216.914977 212.293527)scale(0.1 -0.1)\">\n     <use xlink:href=\"#ArialUnicodeMS-49\"/>\n    </g>\n   </g>\n   <g id=\"text_24\">\n    <!-- 4 -->\n    <defs>\n     <path d=\"M 50.984375 17.09375 \nL 41.3125 17.09375 \nL 41.3125 0 \nL 32.515625 0 \nL 32.515625 17.09375 \nL 1.515625 17.09375 \nL 1.515625 25.203125 \nL 34.078125 71.578125 \nL 41.3125 71.578125 \nL 41.3125 25.203125 \nL 50.984375 25.203125 \nz\nM 32.515625 25.203125 \nL 32.515625 57.515625 \nL 32.328125 57.515625 \nL 10.109375 25.203125 \nz\n\" id=\"ArialUnicodeMS-52\"/>\n    </defs>\n    <g style=\"fill:#262626;\" transform=\"translate(241.760988 182.709853)scale(0.1 -0.1)\">\n     <use xlink:href=\"#ArialUnicodeMS-52\"/>\n    </g>\n   </g>\n   <g id=\"text_25\">\n    <!-- 1 -->\n    <g style=\"fill:#262626;\" transform=\"translate(260.395497 212.293527)scale(0.1 -0.1)\">\n     <use xlink:href=\"#ArialUnicodeMS-49\"/>\n    </g>\n   </g>\n   <g id=\"text_26\">\n    <!-- 21 -->\n    <g style=\"fill:#262626;\" transform=\"translate(276.249536 15.069037)scale(0.1 -0.1)\">\n     <use xlink:href=\"#ArialUnicodeMS-50\"/>\n     <use x=\"55.615234\" xlink:href=\"#ArialUnicodeMS-49\"/>\n    </g>\n   </g>\n   <g id=\"text_27\">\n    <!-- 2 -->\n    <g style=\"fill:#262626;\" transform=\"translate(303.876016 202.432302)scale(0.1 -0.1)\">\n     <use xlink:href=\"#ArialUnicodeMS-50\"/>\n    </g>\n   </g>\n   <g id=\"text_28\">\n    <!-- 6 -->\n    <defs>\n     <path d=\"M 13.09375 36.921875 \nQ 19.140625 46.390625 30.328125 46.390625 \nQ 39.109375 46.390625 45.265625 39.890625 \nQ 51.421875 33.40625 51.421875 23.296875 \nQ 51.421875 13.09375 45.28125 5.9375 \nQ 39.15625 -1.21875 29 -1.21875 \nQ 18.703125 -1.21875 11.453125 6.390625 \nQ 4.203125 14.015625 4.203125 33.5 \nQ 4.203125 52.640625 10.765625 62.28125 \nQ 17.328125 71.921875 29.78125 71.921875 \nQ 37.84375 71.921875 43.40625 67.421875 \nQ 48.96875 62.9375 50.203125 54.109375 \nL 41.40625 53.328125 \nQ 39.015625 64.703125 29.296875 64.703125 \nQ 22.5625 64.703125 17.71875 58 \nQ 12.890625 51.3125 12.890625 36.921875 \nz\nM 28.8125 6 \nQ 34.859375 6 38.625 10.875 \nQ 42.390625 15.765625 42.390625 22.703125 \nQ 42.390625 29.640625 38.625 34.171875 \nQ 34.859375 38.71875 28.515625 38.71875 \nQ 22.703125 38.71875 18.5 34.4375 \nQ 14.3125 30.171875 14.3125 23.1875 \nQ 14.3125 16.0625 18.4375 11.03125 \nQ 22.5625 6 28.8125 6 \nz\n\" id=\"ArialUnicodeMS-54\"/>\n    </defs>\n    <g style=\"fill:#262626;\" transform=\"translate(322.510524 162.987404)scale(0.1 -0.1)\">\n     <use xlink:href=\"#ArialUnicodeMS-54\"/>\n    </g>\n   </g>\n   <g id=\"text_29\">\n    <!-- 2 -->\n    <g style=\"fill:#262626;\" transform=\"translate(341.145033 202.432302)scale(0.1 -0.1)\">\n     <use xlink:href=\"#ArialUnicodeMS-50\"/>\n    </g>\n   </g>\n   <g id=\"legend_1\">\n    <g id=\"patch_22\">\n     <path d=\"M 302.239062 57.65 \nL 361.460938 57.65 \nQ 363.460938 57.65 363.460938 55.65 \nL 363.460938 14.2 \nQ 363.460938 12.2 361.460938 12.2 \nL 302.239062 12.2 \nQ 300.239062 12.2 300.239062 14.2 \nL 300.239062 55.65 \nQ 300.239062 57.65 302.239062 57.65 \nz\n\" style=\"fill:#ffffff;opacity:0.8;stroke:#cccccc;stroke-linejoin:miter;\"/>\n    </g>\n    <g id=\"patch_23\">\n     <path d=\"M 304.239062 23.357812 \nL 324.239062 23.357812 \nL 324.239062 16.357812 \nL 304.239062 16.357812 \nz\n\" style=\"fill:#1f77b4;stroke:#ffffff;stroke-linejoin:miter;\"/>\n    </g>\n    <g id=\"text_30\">\n     <!-- 类别A -->\n     <defs>\n      <path d=\"M 88.484375 56.78125 \nL 52.296875 56.78125 \nL 52.296875 37.984375 \nL 44.671875 37.984375 \nL 44.671875 55.421875 \nL 44.390625 55.421875 \nQ 33.296875 41.84375 9.078125 36.375 \nL 4.5 42.921875 \nQ 24.90625 47.125 35.5 56.78125 \nL 8.5 56.78125 \nL 8.5 64.109375 \nL 44.671875 64.109375 \nL 44.671875 83.40625 \nL 52.296875 83.40625 \nL 52.296875 64.109375 \nL 88.484375 64.109375 \nz\nM 79.109375 78.328125 \nQ 72.078125 69.140625 63.1875 65.578125 \nL 57.515625 70.90625 \nQ 68.796875 76.078125 73 82.515625 \nz\nM 39.203125 70.3125 \nL 32.8125 65.09375 \nQ 26.703125 72.90625 18.796875 77.203125 \nL 24.515625 81.6875 \nQ 32.328125 78.265625 39.203125 70.3125 \nz\nM 85.59375 43.21875 \nL 81.6875 37.3125 \nQ 69.53125 45.40625 54 49.8125 \nL 57.90625 55.328125 \nQ 72.40625 52.203125 85.59375 43.21875 \nz\nM 94.828125 0.875 \nL 90.28125 -5.515625 \nQ 74.46875 -1.421875 65.5 4.4375 \nQ 56.546875 10.296875 51.21875 23 \nL 49.8125 23 \nQ 42.625 0.78125 8.203125 -6.203125 \nL 3.90625 0.59375 \nQ 21.140625 3.421875 30.21875 9.734375 \nQ 39.3125 16.0625 41.890625 23 \nL 6.296875 23 \nL 6.296875 30.328125 \nL 44.09375 30.328125 \nL 45.015625 36.8125 \nL 51.90625 36.375 \nQ 51.90625 33.984375 51.125 30.328125 \nL 91.40625 30.328125 \nL 91.40625 23 \nL 58.5 23 \nQ 60.84375 17.921875 66.015625 13.234375 \nQ 71.1875 8.546875 75.625 6.828125 \nQ 80.078125 5.125 94.828125 0.875 \nz\n\" id=\"ArialUnicodeMS-31867\"/>\n      <path d=\"M 88.28125 1.8125 \nQ 88.28125 -1.609375 86.203125 -4 \nQ 84.125 -6.390625 80.71875 -6.390625 \nL 68.890625 -6.390625 \nL 65.375 1.421875 \nQ 71.6875 1.078125 74.125 1.078125 \nQ 78.375 1.078125 79.546875 1.640625 \nQ 80.71875 2.203125 80.71875 4.59375 \nL 80.71875 82.078125 \nL 88.28125 82.078125 \nz\nM 53.90625 47.515625 \nL 13.8125 47.515625 \nL 13.8125 78.21875 \nL 53.90625 78.21875 \nz\nM 46.296875 54.78125 \nL 46.296875 70.90625 \nL 21.390625 70.90625 \nL 21.390625 54.78125 \nz\nM 72.125 14.203125 \nL 64.203125 14.203125 \nL 64.203125 72.515625 \nL 72.125 72.515625 \nz\nM 56.78125 36.1875 \nQ 56.34375 19.34375 54.171875 7.28125 \nQ 52 -4.78125 40.1875 -4.78125 \nQ 35.9375 -4.78125 30.609375 -3.21875 \nL 28.8125 5.328125 \nL 37.5 3.078125 \nQ 38.875 2.78125 40.046875 2.78125 \nQ 43.40625 2.78125 44.8125 5.171875 \nQ 46.234375 7.5625 47.1875 13.515625 \nQ 48.140625 19.484375 48.390625 28.609375 \nL 33.203125 28.609375 \nQ 32.171875 18.5 26.796875 7.96875 \nQ 21.4375 -2.546875 13.1875 -6.984375 \nL 6.984375 -1.21875 \nQ 22.171875 7.125 25.203125 28.609375 \nL 9.078125 28.609375 \nL 9.078125 36.1875 \nL 26.421875 36.1875 \nQ 27.046875 40.140625 26.90625 46.578125 \nL 34.625 45.609375 \nQ 34.328125 38.8125 33.890625 36.1875 \nz\n\" id=\"ArialUnicodeMS-21035\"/>\n      <path d=\"M 66.796875 0 \nL 56.109375 0 \nL 47.703125 21.78125 \nL 17.828125 21.78125 \nL 9.90625 0 \nL -0.09375 0 \nL 27.390625 71.578125 \nL 37.59375 71.578125 \nz\nM 44.828125 29.296875 \nQ 36.03125 52.546875 34.90625 55.6875 \nQ 33.796875 58.84375 32.421875 64.109375 \nL 32.171875 64.109375 \nQ 30.8125 56.890625 28.515625 50.734375 \nL 20.515625 29.296875 \nz\n\" id=\"ArialUnicodeMS-65\"/>\n     </defs>\n     <g style=\"fill:#262626;\" transform=\"translate(332.239062 23.357812)scale(0.1 -0.1)\">\n      <use xlink:href=\"#ArialUnicodeMS-31867\"/>\n      <use x=\"100\" xlink:href=\"#ArialUnicodeMS-21035\"/>\n      <use x=\"200\" xlink:href=\"#ArialUnicodeMS-65\"/>\n     </g>\n    </g>\n    <g id=\"patch_24\">\n     <path d=\"M 304.239062 37.507812 \nL 324.239062 37.507812 \nL 324.239062 30.507812 \nL 304.239062 30.507812 \nz\n\" style=\"fill:#ff7f0e;stroke:#ffffff;stroke-linejoin:miter;\"/>\n    </g>\n    <g id=\"text_31\">\n     <!-- 类别B -->\n     <defs>\n      <path d=\"M 48.09375 38.09375 \nQ 54.828125 36.03125 58.171875 31.421875 \nQ 61.53125 26.8125 61.53125 20.796875 \nQ 61.53125 14.796875 58.5 9.765625 \nQ 55.46875 4.734375 49.90625 2.359375 \nQ 44.34375 0 34.8125 0 \nL 7.421875 0 \nL 7.421875 71.578125 \nL 34.28125 71.578125 \nQ 47.3125 71.578125 52.65625 65.90625 \nQ 58.015625 60.25 58.015625 53.328125 \nQ 58.015625 48.640625 55.546875 44.65625 \nQ 53.078125 40.671875 48.09375 38.09375 \nz\nM 16.890625 41.609375 \nL 32.421875 41.609375 \nQ 37.203125 41.609375 40.453125 42.140625 \nQ 43.703125 42.671875 46.1875 44.96875 \nQ 48.6875 47.265625 48.6875 52.09375 \nQ 48.6875 57.171875 46.171875 59.59375 \nQ 43.65625 62.015625 40.15625 62.546875 \nQ 36.671875 63.09375 31.203125 63.09375 \nL 16.890625 63.09375 \nz\nM 16.890625 8.5 \nL 34.71875 8.5 \nQ 44.28125 8.5 47.984375 11.765625 \nQ 51.703125 15.046875 51.703125 20.796875 \nQ 51.703125 26.609375 47.75 29.859375 \nQ 43.796875 33.109375 33.5 33.109375 \nL 16.890625 33.109375 \nz\n\" id=\"ArialUnicodeMS-66\"/>\n     </defs>\n     <g style=\"fill:#262626;\" transform=\"translate(332.239062 37.507812)scale(0.1 -0.1)\">\n      <use xlink:href=\"#ArialUnicodeMS-31867\"/>\n      <use x=\"100\" xlink:href=\"#ArialUnicodeMS-21035\"/>\n      <use x=\"200\" xlink:href=\"#ArialUnicodeMS-66\"/>\n     </g>\n    </g>\n    <g id=\"patch_25\">\n     <path d=\"M 304.239062 51.657812 \nL 324.239062 51.657812 \nL 324.239062 44.657812 \nL 304.239062 44.657812 \nz\n\" style=\"fill:#2ca02c;stroke:#ffffff;stroke-linejoin:miter;\"/>\n    </g>\n    <g id=\"text_32\">\n     <!-- 类别C -->\n     <defs>\n      <path d=\"M 68.3125 22.703125 \nQ 65.1875 10.640625 57.390625 4.703125 \nQ 49.609375 -1.21875 38.71875 -1.21875 \nQ 21.140625 -1.21875 13.109375 9.78125 \nQ 5.078125 20.796875 5.078125 36.28125 \nQ 5.078125 53.421875 14.515625 63.109375 \nQ 23.96875 72.796875 38.8125 72.796875 \nQ 49.265625 72.796875 56.6875 67.46875 \nQ 64.109375 62.15625 67.09375 51.90625 \nL 57.8125 49.703125 \nQ 55.46875 57.171875 50.6875 60.9375 \nQ 45.90625 64.703125 38.71875 64.703125 \nQ 27 64.703125 20.9375 57 \nQ 14.890625 49.3125 14.890625 36.375 \nQ 14.890625 21.4375 21.265625 14.15625 \nQ 27.640625 6.890625 37.890625 6.890625 \nQ 46.296875 6.890625 51.53125 11.421875 \nQ 56.78125 15.96875 58.890625 25.09375 \nz\n\" id=\"ArialUnicodeMS-67\"/>\n     </defs>\n     <g style=\"fill:#262626;\" transform=\"translate(332.239062 51.657812)scale(0.1 -0.1)\">\n      <use xlink:href=\"#ArialUnicodeMS-31867\"/>\n      <use x=\"100\" xlink:href=\"#ArialUnicodeMS-21035\"/>\n      <use x=\"200\" xlink:href=\"#ArialUnicodeMS-67\"/>\n     </g>\n    </g>\n   </g>\n  </g>\n </g>\n <defs>\n  <clipPath id=\"p32b667a158\">\n   <rect height=\"217.44\" width=\"334.8\" x=\"33.660938\" y=\"7.2\"/>\n  </clipPath>\n </defs>\n</svg>\n",
      "image/png": "[encoded data removed]"
     },
     "metadata": {}
    }
   ],
   "source": [
    "# 并列柱状图\n",
    "import matplotlib.pyplot as plt\n",
    "import seaborn as sns\n",
    "\n",
    "plt.rcParams['font.family'] = ['Arial Unicode MS'] #用来正常显示中文标签\n",
    "plt.rcParams['axes.unicode_minus'] = False #用来正常显示负号\n",
    " \n",
    "sns.set_style('whitegrid',{'font.sans-serif':['Arial Unicode MS','Arial']})\n",
    "x=np.arange(5)#柱状图在横坐标上的位置\n",
    "#列出你要显示的数据，数据的列表长度与x长度相同\n",
    "y1=[1,3,5,4,2]\n",
    "y2=[2,5,3,1,6]\n",
    "y3=[9,7,1,21,2]\n",
    "\n",
    "bar_width=0.3#设置柱状图的宽度\n",
    "tick_label=['上海','武汉','南京','天津','南宁']\n",
    "\n",
    "#绘制并列柱状图\n",
    "plt.bar(x,y1,bar_width,label='类别A')\n",
    "plt.bar(x+bar_width,y2,bar_width,label='类别B')\n",
    "plt.bar(x+bar_width+bar_width,y3,bar_width,label='类别C')\n",
    "\n",
    "plt.legend()#显示图例，即label\n",
    "plt.xticks(x+bar_width/2,tick_label)#显示x坐标轴的标签,即tick_label,调整位置，使其落在两个直方图中间位置\n",
    "\n",
    "for x,y1,y2,y3 in zip(x,y1,y2,y3):\n",
    "    plt.text(x,y1+0.05,'%.d' %y1, ha='center',va='bottom')\n",
    "    plt.text(x+bar_width,y2+0.05,'%.d' %y2, ha='center',va='bottom')\n",
    "    plt.text(x+bar_width*2,y3+0.05,'%.d' %y3, ha='center',va='bottom')\n",
    "\n",
    "\n",
    "plt.show()"
   ]
  },
  {
   "cell_type": "code",
   "execution_count": 93,
   "metadata": {},
   "outputs": [
    {
     "output_type": "display_data",
     "data": {
      "text/plain": "<Figure size 432x288 with 1 Axes>",
      "image/svg+xml": "<?xml version=\"1.0\" encoding=\"utf-8\" standalone=\"no\"?>\n<!DOCTYPE svg PUBLIC \"-//W3C//DTD SVG 1.1//EN\"\n  \"http://www.w3.org/Graphics/SVG/1.1/DTD/svg11.dtd\">\n<!-- Created with matplotlib (https://matplotlib.org/) -->\n<svg height=\"246.015649pt\" version=\"1.1\" viewBox=\"0 0 270.099569 246.015649\" width=\"270.099569pt\" xmlns=\"http://www.w3.org/2000/svg\" xmlns:xlink=\"http://www.w3.org/1999/xlink\">\n <defs>\n  <style type=\"text/css\">\n*{stroke-linecap:butt;stroke-linejoin:round;}\n  </style>\n </defs>\n <g id=\"figure_1\">\n  <g id=\"patch_1\">\n   <path d=\"M 0 246.015649 \nL 270.099569 246.015649 \nL 270.099569 0 \nL 0 0 \nz\n\" style=\"fill:#ffffff;\"/>\n  </g>\n  <g id=\"axes_1\">\n   <g id=\"matplotlib.axis_1\"/>\n   <g id=\"matplotlib.axis_2\"/>\n   <g id=\"patch_2\">\n    <path d=\"M 245.131065 135.072883 \nC 246.371278 123.27305 245.746481 111.351204 243.279644 99.745649 \nC 240.812807 88.140094 236.534536 76.994818 230.602121 66.719574 \nL 132.681668 123.253974 \nL 245.131065 135.072883 \nz\n\" style=\"fill:#092436;opacity:0.5;stroke:#092436;stroke-linejoin:miter;\"/>\n   </g>\n   <g id=\"patch_3\">\n    <path d=\"M 216.70816 198.91177 \nC 224.647281 190.094483 231.149295 180.082261 235.975156 169.2432 \nC 240.801017 158.404138 243.890853 146.872716 245.131065 135.072883 \nL 132.681668 123.253974 \nL 216.70816 198.91177 \nz\n\" style=\"fill:#4c2604;opacity:0.5;stroke:#4c2604;stroke-linejoin:miter;\"/>\n   </g>\n   <g id=\"patch_4\">\n    <path d=\"M 86.69244 226.547461 \nC 108.502494 236.257923 132.83762 238.815649 156.18999 233.85195 \nC 179.542361 228.888251 200.733285 216.653666 216.70816 198.91177 \nL 132.681668 123.253974 \nL 86.69244 226.547461 \nz\n\" style=\"fill:#0d300d;opacity:0.5;stroke:#0d300d;stroke-linejoin:miter;\"/>\n   </g>\n   <g id=\"patch_5\">\n    <path d=\"M 230.602132 66.719592 \nC 221.680853 51.267477 209.227398 38.144269 194.263366 28.42651 \nC 179.299335 18.70875 162.245413 12.669637 144.500593 10.804578 \nC 126.755773 8.93952 108.818917 11.300949 92.161448 17.69515 \nC 75.503979 24.089351 60.59419 34.336562 48.655183 47.59617 \nC 36.716176 60.855778 28.083594 76.755012 23.465597 93.989605 \nC 18.8476 111.224198 18.374015 129.30963 22.083691 146.762291 \nC 25.793367 164.214952 33.582014 180.544193 44.810703 194.41047 \nC 56.039391 208.276748 70.392447 219.290236 86.69244 226.547461 \nL 132.681668 123.253974 \nL 230.602132 66.719592 \nz\n\" style=\"fill:#400c0c;opacity:0.5;stroke:#400c0c;stroke-linejoin:miter;\"/>\n   </g>\n   <g id=\"patch_6\">\n    <path d=\"M 246.870585 133.333363 \nC 248.110798 121.53353 247.486001 109.611684 245.019164 98.006129 \nC 242.552327 86.400574 238.274056 75.255298 232.341641 64.980054 \nL 134.421188 121.514454 \nL 246.870585 133.333363 \nz\n\" style=\"fill:#1f77b4;stroke:#ffffff;stroke-linejoin:miter;\"/>\n   </g>\n   <g id=\"patch_7\">\n    <path d=\"M 218.44768 197.17225 \nC 226.386801 188.354963 232.888815 178.342741 237.714676 167.50368 \nC 242.540537 156.664618 245.630373 145.133196 246.870585 133.333363 \nL 134.421188 121.514454 \nL 218.44768 197.17225 \nz\n\" style=\"fill:#ff7f0e;stroke:#ffffff;stroke-linejoin:miter;\"/>\n   </g>\n   <g id=\"patch_8\">\n    <path d=\"M 88.43196 224.807941 \nC 110.242014 234.518403 134.57714 237.076129 157.92951 232.11243 \nC 181.281881 227.148731 202.472805 214.914146 218.44768 197.17225 \nL 134.421188 121.514454 \nL 88.43196 224.807941 \nz\n\" style=\"fill:#2ca02c;stroke:#ffffff;stroke-linejoin:miter;\"/>\n   </g>\n   <g id=\"patch_9\">\n    <path d=\"M 232.341652 64.980072 \nC 223.420373 49.527957 210.966918 36.404749 196.002886 26.68699 \nC 181.038855 16.96923 163.984933 10.930117 146.240113 9.065058 \nC 128.495293 7.2 110.558437 9.561429 93.900968 15.95563 \nC 77.243499 22.349831 62.33371 32.597042 50.394703 45.85665 \nC 38.455696 59.116258 29.823114 75.015492 25.205117 92.250085 \nC 20.58712 109.484678 20.113535 127.57011 23.823211 145.022771 \nC 27.532887 162.475432 35.321534 178.804673 46.550223 192.67095 \nC 57.778911 206.537228 72.131967 217.550716 88.43196 224.807941 \nL 134.421188 121.514454 \nL 232.341652 64.980072 \nz\n\" style=\"fill:#d62728;stroke:#ffffff;stroke-linejoin:miter;\"/>\n   </g>\n   <g id=\"text_1\">\n    <!-- 桃子 -->\n    <defs>\n     <path d=\"M 60.984375 36.8125 \nQ 60.984375 4.734375 39.5 -7.171875 \nL 33.984375 -1.609375 \nQ 51.515625 10.5 53.328125 28.8125 \nL 39.40625 20.015625 \nL 32.625 25.390625 \nQ 45.796875 31.984375 53.609375 37.203125 \nL 53.421875 82.71875 \nL 60.984375 82.8125 \nz\nM 94.484375 15.1875 \nQ 93.796875 11.765625 93.5 7.421875 \nQ 92.484375 -4.390625 79.78125 -4.390625 \nQ 67.484375 -4.390625 67.484375 4.6875 \nL 67.484375 82.71875 \nL 75.09375 82.71875 \nL 75.09375 39.984375 \nQ 84.078125 35.296875 93.40625 26.421875 \nL 88.484375 20.125 \nQ 81.390625 27.984375 75.09375 31.6875 \nL 75.09375 5.90625 \nQ 75.09375 4 76.3125 3.390625 \nQ 77.546875 2.78125 83.6875 2.78125 \nQ 84.96875 2.78125 85.71875 5.09375 \nQ 86.46875 7.421875 86.8125 17.1875 \nz\nM 52.78125 49.8125 \nL 45.796875 46.921875 \nQ 42.78125 56.296875 39.59375 61.1875 \nL 39.59375 56.296875 \nL 30.171875 56.296875 \nL 30.171875 49.125 \nL 31.78125 49.90625 \nQ 39.0625 43.84375 43.21875 34.078125 \nQ 37.015625 30.078125 36.28125 29.78125 \nQ 34.1875 37.453125 30.171875 41.3125 \nL 30.171875 -6.296875 \nL 22.609375 -6.296875 \nL 22.609375 33.5 \nL 22.3125 33.5 \nQ 18.5625 23.734375 10.015625 14.3125 \nL 3.90625 19.09375 \nQ 19.484375 35.40625 22.3125 56.296875 \nL 7.8125 56.296875 \nL 7.8125 63.625 \nL 22.609375 63.625 \nL 22.609375 82.71875 \nL 30.171875 82.71875 \nL 30.171875 63.625 \nL 37.3125 63.625 \nQ 36.078125 64.984375 35.296875 65.578125 \nL 42.484375 68.5 \nQ 50 60.984375 52.78125 49.8125 \nz\nM 92.09375 65.28125 \nQ 88.765625 53.90625 82.078125 46.78125 \nL 75.296875 50.984375 \nQ 83.453125 59.28125 85.5 69.28125 \nz\n\" id=\"ArialUnicodeMS-26691\"/>\n     <path d=\"M 92.09375 36.375 \nL 55.71875 36.375 \nL 55.71875 2.984375 \nQ 55.71875 -0.484375 53.515625 -2.6875 \nQ 51.3125 -4.890625 47.40625 -4.890625 \nL 35.109375 -4.890625 \nL 31.5 2.875 \nL 44.09375 2.296875 \nQ 48.09375 2.15625 48.09375 6.984375 \nL 48.09375 36.375 \nL 9.8125 36.375 \nL 9.8125 43.703125 \nL 48.09375 43.703125 \nL 48.09375 53.71875 \nQ 60.25 61.671875 68.796875 71.390625 \nL 22.125 71.390625 \nL 22.125 78.71875 \nL 79.6875 78.71875 \nL 79.6875 73.09375 \nQ 69.34375 59.28125 55.71875 50 \nL 55.71875 43.703125 \nL 92.09375 43.703125 \nz\n\" id=\"ArialUnicodeMS-23376\"/>\n    </defs>\n    <g transform=\"translate(222.899569 107.873419)scale(0.2 -0.2)\">\n     <use xlink:href=\"#ArialUnicodeMS-26691\"/>\n     <use x=\"100\" xlink:href=\"#ArialUnicodeMS-23376\"/>\n    </g>\n   </g>\n   <g id=\"text_2\">\n    <!-- 10.00% -->\n    <defs>\n     <path d=\"M 37.5 0 \nL 28.71875 0 \nL 28.71875 56 \nQ 22.125 49.75 11.078125 45.40625 \nL 11.078125 53.90625 \nQ 26.265625 61.1875 31.78125 71.921875 \nL 37.5 71.921875 \nz\n\" id=\"ArialUnicodeMS-49\"/>\n     <path d=\"M 27.78125 71.921875 \nQ 51.125 71.921875 51.125 35.296875 \nQ 51.125 16.796875 45.09375 7.78125 \nQ 39.0625 -1.21875 27.78125 -1.21875 \nQ 4.5 -1.21875 4.5 35.296875 \nQ 4.5 53.8125 10.515625 62.859375 \nQ 16.546875 71.921875 27.78125 71.921875 \nz\nM 27.78125 6 \nQ 34.859375 6 38.46875 12.859375 \nQ 42.09375 19.734375 42.09375 35.296875 \nQ 42.09375 46.140625 40.5 52.359375 \nQ 38.921875 58.59375 35.71875 61.640625 \nQ 32.515625 64.703125 27.6875 64.703125 \nQ 20.609375 64.703125 17.046875 57.71875 \nQ 13.484375 50.734375 13.484375 35.296875 \nQ 13.484375 24.609375 15.09375 18.359375 \nQ 16.703125 12.109375 19.875 9.046875 \nQ 23.046875 6 27.78125 6 \nz\n\" id=\"ArialUnicodeMS-48\"/>\n     <path d=\"M 18.890625 0 \nL 8.890625 0 \nL 8.890625 10.015625 \nL 18.890625 10.015625 \nz\n\" id=\"ArialUnicodeMS-46\"/>\n     <path d=\"M 67.578125 72.796875 \nL 28.71875 -2.484375 \nL 21.390625 -2.484375 \nL 60.5 72.796875 \nz\nM 22.3125 72.703125 \nQ 29 72.703125 33.390625 67.859375 \nQ 37.796875 63.03125 37.796875 53.71875 \nQ 37.796875 44.53125 33.296875 39.671875 \nQ 28.8125 34.8125 22.40625 34.8125 \nQ 15.765625 34.8125 11.546875 39.6875 \nQ 7.328125 44.578125 7.328125 54.296875 \nQ 7.328125 62.25 11.28125 67.46875 \nQ 15.234375 72.703125 22.3125 72.703125 \nz\nM 22.515625 40.921875 \nQ 30.171875 40.921875 30.171875 54.109375 \nQ 30.171875 66.703125 22.515625 66.703125 \nQ 14.890625 66.703125 14.890625 53.421875 \nQ 14.890625 40.921875 22.515625 40.921875 \nz\nM 66.40625 35.203125 \nQ 73.140625 35.203125 77.515625 30.359375 \nQ 81.890625 25.53125 81.890625 16.21875 \nQ 81.890625 9.375 79.484375 5.125 \nQ 77.09375 0.875 73.578125 -0.90625 \nQ 70.0625 -2.6875 66.5 -2.6875 \nQ 59.859375 -2.6875 55.640625 2.1875 \nQ 51.421875 7.078125 51.421875 16.796875 \nQ 51.421875 24.75 55.375 29.96875 \nQ 59.328125 35.203125 66.40625 35.203125 \nz\nM 66.609375 3.421875 \nQ 74.3125 3.421875 74.3125 16.609375 \nQ 74.3125 29.203125 66.609375 29.203125 \nQ 58.984375 29.203125 58.984375 15.921875 \nQ 58.984375 3.421875 66.609375 3.421875 \nz\n\" id=\"ArialUnicodeMS-37\"/>\n    </defs>\n    <g transform=\"translate(144.746316 117.276749)scale(0.2 -0.2)\">\n     <use xlink:href=\"#ArialUnicodeMS-49\"/>\n     <use x=\"55.615234\" xlink:href=\"#ArialUnicodeMS-48\"/>\n     <use x=\"111.230469\" xlink:href=\"#ArialUnicodeMS-46\"/>\n     <use x=\"139.013672\" xlink:href=\"#ArialUnicodeMS-48\"/>\n     <use x=\"194.628906\" xlink:href=\"#ArialUnicodeMS-48\"/>\n     <use x=\"250.244141\" xlink:href=\"#ArialUnicodeMS-37\"/>\n    </g>\n   </g>\n   <g id=\"text_3\">\n    <!-- 苹果 -->\n    <defs>\n     <path d=\"M 93.796875 65.71875 \nL 72.40625 65.71875 \nL 72.40625 57.625 \nL 64.5 57.625 \nL 64.5 65.71875 \nL 35.984375 65.71875 \nL 35.984375 57.625 \nL 28.078125 57.625 \nL 28.078125 65.71875 \nL 6.78125 65.71875 \nL 6.78125 73 \nL 28.078125 73 \nL 28.078125 82.71875 \nL 35.984375 82.71875 \nL 35.984375 73 \nL 64.5 73 \nL 64.5 82.71875 \nL 72.40625 82.71875 \nL 72.40625 73 \nL 93.796875 73 \nz\nM 94.921875 16.5 \nL 54.203125 16.5 \nL 54.203125 -6.390625 \nL 46.296875 -6.390625 \nL 46.296875 16.5 \nL 5.515625 16.5 \nL 5.515625 23.78125 \nL 46.296875 23.78125 \nL 46.296875 47.703125 \nL 13.375 47.703125 \nL 13.375 54.984375 \nL 87.015625 54.984375 \nL 87.015625 47.703125 \nL 54.203125 47.703125 \nL 54.203125 23.78125 \nL 94.921875 23.78125 \nz\nM 38.1875 41.796875 \nQ 31.453125 30.375 20.90625 25.09375 \nL 14.796875 31.296875 \nQ 25.34375 35.296875 31.984375 46.578125 \nz\nM 83.796875 29.296875 \nL 77.09375 24.515625 \nQ 71.578125 35.359375 60.890625 41.109375 \nL 66.609375 46.484375 \nQ 77.34375 40.140625 83.796875 29.296875 \nz\n\" id=\"ArialUnicodeMS-33529\"/>\n     <path d=\"M 96 5.171875 \nL 91.40625 -1.21875 \nQ 66.453125 7.078125 54 24.03125 \nL 54 -6.6875 \nL 46.296875 -6.5 \nL 46.296875 23.78125 \nQ 35.796875 6.984375 10.015625 -1.421875 \nL 4.78125 4.6875 \nQ 26.125 10.5 37.703125 23.875 \nL 9.515625 23.875 \nL 9.515625 31.203125 \nL 46.390625 31.203125 \nL 46.390625 38.28125 \nL 19.390625 38.28125 \nL 19.390625 78.8125 \nL 81.203125 78.8125 \nL 81.203125 38.28125 \nL 54 38.28125 \nL 54 31.203125 \nL 90.828125 31.203125 \nL 90.828125 23.875 \nL 63.484375 23.875 \nQ 73.921875 11.671875 96 5.171875 \nz\nM 73.578125 62.203125 \nL 73.578125 71.484375 \nL 54 71.484375 \nL 54 62.203125 \nz\nM 46.390625 62.203125 \nL 46.390625 71.484375 \nL 27 71.484375 \nL 27 62.203125 \nz\nM 73.578125 45.609375 \nL 73.578125 54.890625 \nL 54 54.890625 \nL 54 45.609375 \nz\nM 46.390625 45.609375 \nL 46.390625 54.890625 \nL 27 54.890625 \nL 27 45.609375 \nz\n\" id=\"ArialUnicodeMS-26524\"/>\n    </defs>\n    <g transform=\"translate(217.055979 163.471459)scale(0.2 -0.2)\">\n     <use xlink:href=\"#ArialUnicodeMS-33529\"/>\n     <use x=\"100\" xlink:href=\"#ArialUnicodeMS-26524\"/>\n    </g>\n   </g>\n   <g id=\"text_4\">\n    <!-- 10.00% -->\n    <g transform=\"translate(141.824521 145.075769)scale(0.2 -0.2)\">\n     <use xlink:href=\"#ArialUnicodeMS-49\"/>\n     <use x=\"55.615234\" xlink:href=\"#ArialUnicodeMS-48\"/>\n     <use x=\"111.230469\" xlink:href=\"#ArialUnicodeMS-46\"/>\n     <use x=\"139.013672\" xlink:href=\"#ArialUnicodeMS-48\"/>\n     <use x=\"194.628906\" xlink:href=\"#ArialUnicodeMS-48\"/>\n     <use x=\"250.244141\" xlink:href=\"#ArialUnicodeMS-37\"/>\n    </g>\n   </g>\n   <g id=\"text_5\">\n    <!-- 西瓜 -->\n    <defs>\n     <path d=\"M 92.921875 69.921875 \nL 62.796875 69.921875 \nL 62.796875 54.984375 \nL 86.078125 54.984375 \nL 86.078125 -5.328125 \nL 78.515625 -5.328125 \nL 78.515625 2.6875 \nL 21.578125 2.6875 \nL 21.578125 -5.328125 \nL 13.921875 -5.328125 \nL 13.921875 54.984375 \nL 36.28125 54.984375 \nL 36.28125 69.921875 \nL 7.328125 69.921875 \nL 7.328125 77.203125 \nL 92.921875 77.203125 \nz\nM 55.171875 54.984375 \nL 55.171875 69.921875 \nL 43.796875 69.921875 \nL 43.796875 54.984375 \nz\nM 78.515625 10.015625 \nL 78.515625 47.703125 \nL 62.796875 47.703125 \nL 62.796875 31.890625 \nQ 62.796875 29.5 65.375 29.5 \nL 68.109375 29.5 \nQ 69.828125 29.5 71.296875 36.375 \nL 77.984375 32.625 \nQ 75.78125 22.21875 69.390625 22.21875 \nL 62.59375 22.21875 \nQ 55.328125 22.21875 55.328125 30.078125 \nL 55.328125 47.703125 \nL 43.890625 47.703125 \nQ 43.890625 27.828125 26.703125 17.671875 \nL 21.484375 22.703125 \nL 21.484375 10.015625 \nz\nM 35.984375 47.703125 \nL 21.484375 47.703125 \nL 21.484375 23.875 \nQ 29.734375 29 32.859375 34.390625 \nQ 35.984375 39.796875 35.984375 47.703125 \nz\n\" id=\"ArialUnicodeMS-35199\"/>\n     <path d=\"M 95.609375 0.09375 \nL 89.703125 -5.71875 \nQ 77.734375 6.34375 73.671875 22.484375 \nQ 69.625 38.625 68.40625 71.09375 \nQ 59.46875 69.34375 51.90625 68.703125 \nL 51.90625 11.1875 \nQ 59.578125 12.109375 62.5 12.703125 \nQ 59.515625 19.140625 55.078125 24.703125 \nL 62.015625 27.09375 \nQ 71.875 15.921875 75.09375 -1.125 \nQ 68.265625 -3.375 67.578125 -3.515625 \nQ 67.578125 -3.265625 65.09375 6.109375 \nL 31.984375 1.21875 \nL 29 8.296875 \nL 44.28125 10.203125 \nL 44.28125 67.578125 \nL 27.6875 66.609375 \nL 27.6875 34.8125 \nQ 27.828125 22.90625 24.328125 13.765625 \nQ 20.84375 4.640625 12.3125 -5.71875 \nL 5.90625 -0.09375 \nQ 11.859375 6.109375 14.9375 12.375 \nQ 18.015625 18.65625 19.109375 25.90625 \nQ 20.21875 33.15625 20.171875 48.78125 \nL 20.125 74.3125 \nQ 58.296875 74.90625 81.390625 83.40625 \nL 87.203125 77.296875 \nQ 84.234375 75.734375 75.6875 73.09375 \nQ 75.6875 71.1875 77.171875 50.046875 \nQ 78.65625 28.90625 83.140625 18.359375 \nQ 87.640625 7.8125 95.609375 0.09375 \nz\n\" id=\"ArialUnicodeMS-29916\"/>\n    </defs>\n    <g transform=\"translate(153.227846 215.15846)scale(0.2 -0.2)\">\n     <use xlink:href=\"#ArialUnicodeMS-35199\"/>\n     <use x=\"100\" xlink:href=\"#ArialUnicodeMS-29916\"/>\n    </g>\n   </g>\n   <g id=\"text_6\">\n    <!-- 20.00% -->\n    <defs>\n     <path d=\"M 50.484375 0 \nL 3.078125 0 \nQ 3.078125 6.0625 7.296875 12.25 \nQ 11.53125 18.453125 23.09375 27.78125 \nQ 30.171875 33.453125 35.734375 39.671875 \nQ 41.3125 45.90625 41.3125 52.203125 \nQ 41.3125 57.625 37.46875 61.15625 \nQ 33.640625 64.703125 27.78125 64.703125 \nQ 21.875 64.703125 17.875 61.0625 \nQ 13.875 57.421875 13.8125 50.203125 \nL 4.78125 51.21875 \nQ 5.609375 61.28125 11.9375 66.59375 \nQ 18.265625 71.921875 27.984375 71.921875 \nQ 38.53125 71.921875 44.40625 66.078125 \nQ 50.296875 60.25 50.296875 52 \nQ 50.296875 45.125 45.328125 38.0625 \nQ 40.375 31 25.59375 19.1875 \nQ 17.828125 12.984375 15.28125 8.5 \nL 50.484375 8.5 \nz\n\" id=\"ArialUnicodeMS-50\"/>\n    </defs>\n    <g transform=\"translate(109.910455 170.919269)scale(0.2 -0.2)\">\n     <use xlink:href=\"#ArialUnicodeMS-50\"/>\n     <use x=\"55.615234\" xlink:href=\"#ArialUnicodeMS-48\"/>\n     <use x=\"111.230469\" xlink:href=\"#ArialUnicodeMS-46\"/>\n     <use x=\"139.013672\" xlink:href=\"#ArialUnicodeMS-48\"/>\n     <use x=\"194.628906\" xlink:href=\"#ArialUnicodeMS-48\"/>\n     <use x=\"250.244141\" xlink:href=\"#ArialUnicodeMS-37\"/>\n    </g>\n   </g>\n   <g id=\"text_7\">\n    <!-- 西红柿 -->\n    <defs>\n     <path d=\"M 41.5 27.203125 \nQ 18.5 21.734375 11.625 19.484375 \nL 7.8125 26.609375 \nQ 17.578125 36.421875 22.015625 43.21875 \nQ 16.453125 41.84375 11.1875 40.1875 \nL 7.421875 47.015625 \nQ 18.015625 66.890625 24.21875 82.8125 \nL 31.203125 79.59375 \nQ 24.21875 63.1875 16.5 49.21875 \nL 27 51.421875 \nQ 29.4375 55.03125 33.6875 63.375 \nL 40.71875 60.203125 \nQ 30.71875 39.796875 20.015625 29.78125 \nL 20.21875 29.59375 \nL 41.5 34.8125 \nz\nM 93.609375 0.296875 \nL 38.09375 0.296875 \nL 38.09375 7.625 \nL 61.375 7.625 \nL 61.375 67.09375 \nL 41.703125 67.09375 \nL 41.703125 74.421875 \nL 89.3125 74.421875 \nL 89.3125 67.09375 \nL 69.578125 67.09375 \nL 69.578125 7.625 \nL 93.609375 7.625 \nz\nM 43.609375 12.203125 \nL 11.71875 1.125 \nL 8.015625 8.015625 \nQ 31.0625 15.71875 43.609375 19.671875 \nz\n\" id=\"ArialUnicodeMS-32418\"/>\n     <path d=\"M 42.828125 31.59375 \nL 35.5 27.203125 \nQ 32.953125 35.59375 28.90625 40.71875 \nL 28.90625 -6.390625 \nL 21.296875 -6.390625 \nL 21.296875 32.171875 \nQ 18.703125 24.75 10.109375 16.015625 \nL 4 21 \nQ 17.671875 34.671875 21.09375 56.203125 \nL 7.078125 56.203125 \nL 7.078125 63.484375 \nL 21.296875 63.484375 \nL 21.296875 82.71875 \nL 28.90625 82.71875 \nL 28.90625 63.484375 \nL 39.203125 63.484375 \nL 39.203125 56.203125 \nL 28.90625 56.203125 \nL 28.90625 46.78125 \nL 31.984375 48.390625 \nQ 39.9375 39.703125 42.828125 31.59375 \nz\nM 94.921875 61.078125 \nL 70.21875 61.078125 \nL 70.21875 50.203125 \nL 89.59375 50.203125 \nL 89.59375 18.40625 \nQ 88.8125 14.5 86.59375 12.84375 \nQ 84.375 11.1875 82.328125 11.1875 \nL 75.78125 11.1875 \nL 72.90625 19.28125 \nQ 77.09375 18.40625 78.609375 18.40625 \nQ 81.984375 18.40625 81.984375 20.40625 \nL 81.984375 42.921875 \nL 70.21875 42.921875 \nL 70.21875 -6.390625 \nL 62.59375 -6.390625 \nL 62.59375 42.921875 \nL 51.3125 42.921875 \nL 51.3125 9.90625 \nL 43.703125 9.90625 \nL 43.703125 50.203125 \nL 62.59375 50.203125 \nL 62.59375 61.078125 \nL 41.015625 61.078125 \nL 41.015625 68.40625 \nL 62.59375 68.40625 \nL 62.59375 82.171875 \nL 70.21875 82.171875 \nL 70.21875 68.40625 \nL 94.921875 68.40625 \nz\n\" id=\"ArialUnicodeMS-26623\"/>\n    </defs>\n    <g transform=\"translate(7.2 66.153836)scale(0.2 -0.2)\">\n     <use xlink:href=\"#ArialUnicodeMS-35199\"/>\n     <use x=\"100\" xlink:href=\"#ArialUnicodeMS-32418\"/>\n     <use x=\"200\" xlink:href=\"#ArialUnicodeMS-26623\"/>\n    </g>\n   </g>\n   <g id=\"text_8\">\n    <!-- 60.00% -->\n    <defs>\n     <path d=\"M 13.09375 36.921875 \nQ 19.140625 46.390625 30.328125 46.390625 \nQ 39.109375 46.390625 45.265625 39.890625 \nQ 51.421875 33.40625 51.421875 23.296875 \nQ 51.421875 13.09375 45.28125 5.9375 \nQ 39.15625 -1.21875 29 -1.21875 \nQ 18.703125 -1.21875 11.453125 6.390625 \nQ 4.203125 14.015625 4.203125 33.5 \nQ 4.203125 52.640625 10.765625 62.28125 \nQ 17.328125 71.921875 29.78125 71.921875 \nQ 37.84375 71.921875 43.40625 67.421875 \nQ 48.96875 62.9375 50.203125 54.109375 \nL 41.40625 53.328125 \nQ 39.015625 64.703125 29.296875 64.703125 \nQ 22.5625 64.703125 17.71875 58 \nQ 12.890625 51.3125 12.890625 36.921875 \nz\nM 28.8125 6 \nQ 34.859375 6 38.625 10.875 \nQ 42.390625 15.765625 42.390625 22.703125 \nQ 42.390625 29.640625 38.625 34.171875 \nQ 34.859375 38.71875 28.515625 38.71875 \nQ 22.703125 38.71875 18.5 34.4375 \nQ 14.3125 30.171875 14.3125 23.1875 \nQ 14.3125 16.0625 18.4375 11.03125 \nQ 22.5625 6 28.8125 6 \nz\n\" id=\"ArialUnicodeMS-54\"/>\n    </defs>\n    <g transform=\"translate(66.896532 96.416957)scale(0.2 -0.2)\">\n     <use xlink:href=\"#ArialUnicodeMS-54\"/>\n     <use x=\"55.615234\" xlink:href=\"#ArialUnicodeMS-48\"/>\n     <use x=\"111.230469\" xlink:href=\"#ArialUnicodeMS-46\"/>\n     <use x=\"139.013672\" xlink:href=\"#ArialUnicodeMS-48\"/>\n     <use x=\"194.628906\" xlink:href=\"#ArialUnicodeMS-48\"/>\n     <use x=\"250.244141\" xlink:href=\"#ArialUnicodeMS-37\"/>\n    </g>\n   </g>\n  </g>\n </g>\n</svg>\n",
      "image/png": "[encoded data removed]"
     },
     "metadata": {}
    }
   ],
   "source": [
    "import matplotlib.pyplot as plt\n",
    "import seaborn as sns\n",
    "\n",
    "plt.rcParams['font.family'] = ['Arial Unicode MS'] #用来正常显示中文标签\n",
    "plt.rcParams['axes.unicode_minus'] = False #用来正常显示负号\n",
    " \n",
    "sns.set_style('whitegrid',{'font.sans-serif':['Arial Unicode MS','Arial']})\n",
    "\n",
    "labels = '桃子','苹果','西瓜','西红柿'\n",
    " # sizes = [10,10,10,70]\n",
    "sizes = [10,10,20,60]\n",
    " \n",
    "plt.pie(sizes,labels=labels,autopct='%1.2f%%',\n",
    "         pctdistance=0.4,shadow=True,labeldistance=0.8,startangle=30,radius=1.3,\n",
    "         counterclock=False,textprops={'fontsize':20,'color':'black'})\n",
    "plt.show()  # 可视化呈现\n"
   ]
  },
  {
   "cell_type": "code",
   "execution_count": 112,
   "metadata": {},
   "outputs": [
    {
     "output_type": "display_data",
     "data": {
      "text/plain": "<Figure size 432x288 with 1 Axes>",
      "image/svg+xml": "<?xml version=\"1.0\" encoding=\"utf-8\" standalone=\"no\"?>\n<!DOCTYPE svg PUBLIC \"-//W3C//DTD SVG 1.1//EN\"\n  \"http://www.w3.org/Graphics/SVG/1.1/DTD/svg11.dtd\">\n<!-- Created with matplotlib (https://matplotlib.org/) -->\n<svg height=\"275.729375pt\" version=\"1.1\" viewBox=\"0 0 392.500893 275.729375\" width=\"392.500893pt\" xmlns=\"http://www.w3.org/2000/svg\" xmlns:xlink=\"http://www.w3.org/1999/xlink\">\n <defs>\n  <style type=\"text/css\">\n*{stroke-linecap:butt;stroke-linejoin:round;}\n  </style>\n </defs>\n <g id=\"figure_1\">\n  <g id=\"patch_1\">\n   <path d=\"M 0 275.729375 \nL 392.500893 275.729375 \nL 392.500893 0 \nL 0 0 \nz\n\" style=\"fill:#ffffff;\"/>\n  </g>\n  <g id=\"axes_1\">\n   <g id=\"patch_2\">\n    <path d=\"M 44.2 239.229375 \nL 379 239.229375 \nL 379 21.789375 \nL 44.2 21.789375 \nz\n\" style=\"fill:#ffffff;\"/>\n   </g>\n   <g id=\"matplotlib.axis_1\">\n    <g id=\"xtick_1\">\n     <g id=\"line2d_1\">\n      <path clip-path=\"url(#p7fdcda0f72)\" d=\"M 44.2 239.229375 \nL 44.2 21.789375 \n\" style=\"fill:none;stroke:#cccccc;stroke-linecap:round;stroke-width:0.8;\"/>\n     </g>\n     <g id=\"text_1\">\n      <!-- 0 -->\n      <defs>\n       <path d=\"M 27.78125 71.921875 \nQ 51.125 71.921875 51.125 35.296875 \nQ 51.125 16.796875 45.09375 7.78125 \nQ 39.0625 -1.21875 27.78125 -1.21875 \nQ 4.5 -1.21875 4.5 35.296875 \nQ 4.5 53.8125 10.515625 62.859375 \nQ 16.546875 71.921875 27.78125 71.921875 \nz\nM 27.78125 6 \nQ 34.859375 6 38.46875 12.859375 \nQ 42.09375 19.734375 42.09375 35.296875 \nQ 42.09375 46.140625 40.5 52.359375 \nQ 38.921875 58.59375 35.71875 61.640625 \nQ 32.515625 64.703125 27.6875 64.703125 \nQ 20.609375 64.703125 17.046875 57.71875 \nQ 13.484375 50.734375 13.484375 35.296875 \nQ 13.484375 24.609375 15.09375 18.359375 \nQ 16.703125 12.109375 19.875 9.046875 \nQ 23.046875 6 27.78125 6 \nz\n\" id=\"ArialUnicodeMS-48\"/>\n      </defs>\n      <g style=\"fill:#262626;\" transform=\"translate(41.419531 253.387188)scale(0.1 -0.1)\">\n       <use xlink:href=\"#ArialUnicodeMS-48\"/>\n      </g>\n     </g>\n    </g>\n    <g id=\"xtick_2\">\n     <g id=\"line2d_2\">\n      <path clip-path=\"url(#p7fdcda0f72)\" d=\"M 97.342857 239.229375 \nL 97.342857 21.789375 \n\" style=\"fill:none;stroke:#cccccc;stroke-linecap:round;stroke-width:0.8;\"/>\n     </g>\n     <g id=\"text_2\">\n      <!-- 500 -->\n      <defs>\n       <path d=\"M 15.828125 43.015625 \nQ 22.359375 47.515625 29.390625 47.515625 \nQ 38.328125 47.515625 44.96875 41.1875 \nQ 51.609375 34.859375 51.609375 24.3125 \nQ 51.609375 13.671875 44.875 6.21875 \nQ 38.140625 -1.21875 27.203125 -1.21875 \nQ 18.265625 -1.21875 11.71875 3.828125 \nQ 5.171875 8.890625 4.203125 18.796875 \nL 13.375 19.484375 \nQ 14.5 12.703125 18.15625 9.34375 \nQ 21.828125 6 27.203125 6 \nQ 33.890625 6 38.03125 11.046875 \nQ 42.1875 16.109375 42.1875 23.484375 \nQ 42.1875 31 37.9375 35.34375 \nQ 33.6875 39.703125 27 39.703125 \nQ 18.5625 39.703125 14.015625 32.8125 \nL 5.71875 33.796875 \nL 12.703125 70.609375 \nL 48.1875 70.609375 \nL 48.1875 62.109375 \nL 19.671875 62.109375 \nz\n\" id=\"ArialUnicodeMS-53\"/>\n      </defs>\n      <g style=\"fill:#262626;\" transform=\"translate(89.001451 253.387188)scale(0.1 -0.1)\">\n       <use xlink:href=\"#ArialUnicodeMS-53\"/>\n       <use x=\"55.615234\" xlink:href=\"#ArialUnicodeMS-48\"/>\n       <use x=\"111.230469\" xlink:href=\"#ArialUnicodeMS-48\"/>\n      </g>\n     </g>\n    </g>\n    <g id=\"xtick_3\">\n     <g id=\"line2d_3\">\n      <path clip-path=\"url(#p7fdcda0f72)\" d=\"M 150.485714 239.229375 \nL 150.485714 21.789375 \n\" style=\"fill:none;stroke:#cccccc;stroke-linecap:round;stroke-width:0.8;\"/>\n     </g>\n     <g id=\"text_3\">\n      <!-- 1000 -->\n      <defs>\n       <path d=\"M 37.5 0 \nL 28.71875 0 \nL 28.71875 56 \nQ 22.125 49.75 11.078125 45.40625 \nL 11.078125 53.90625 \nQ 26.265625 61.1875 31.78125 71.921875 \nL 37.5 71.921875 \nz\n\" id=\"ArialUnicodeMS-49\"/>\n      </defs>\n      <g style=\"fill:#262626;\" transform=\"translate(139.363839 253.387188)scale(0.1 -0.1)\">\n       <use xlink:href=\"#ArialUnicodeMS-49\"/>\n       <use x=\"55.615234\" xlink:href=\"#ArialUnicodeMS-48\"/>\n       <use x=\"111.230469\" xlink:href=\"#ArialUnicodeMS-48\"/>\n       <use x=\"166.845703\" xlink:href=\"#ArialUnicodeMS-48\"/>\n      </g>\n     </g>\n    </g>\n    <g id=\"xtick_4\">\n     <g id=\"line2d_4\">\n      <path clip-path=\"url(#p7fdcda0f72)\" d=\"M 203.628571 239.229375 \nL 203.628571 21.789375 \n\" style=\"fill:none;stroke:#cccccc;stroke-linecap:round;stroke-width:0.8;\"/>\n     </g>\n     <g id=\"text_4\">\n      <!-- 1500 -->\n      <g style=\"fill:#262626;\" transform=\"translate(192.506696 253.387188)scale(0.1 -0.1)\">\n       <use xlink:href=\"#ArialUnicodeMS-49\"/>\n       <use x=\"55.615234\" xlink:href=\"#ArialUnicodeMS-53\"/>\n       <use x=\"111.230469\" xlink:href=\"#ArialUnicodeMS-48\"/>\n       <use x=\"166.845703\" xlink:href=\"#ArialUnicodeMS-48\"/>\n      </g>\n     </g>\n    </g>\n    <g id=\"xtick_5\">\n     <g id=\"line2d_5\">\n      <path clip-path=\"url(#p7fdcda0f72)\" d=\"M 256.771429 239.229375 \nL 256.771429 21.789375 \n\" style=\"fill:none;stroke:#cccccc;stroke-linecap:round;stroke-width:0.8;\"/>\n     </g>\n     <g id=\"text_5\">\n      <!-- 2000 -->\n      <defs>\n       <path d=\"M 50.484375 0 \nL 3.078125 0 \nQ 3.078125 6.0625 7.296875 12.25 \nQ 11.53125 18.453125 23.09375 27.78125 \nQ 30.171875 33.453125 35.734375 39.671875 \nQ 41.3125 45.90625 41.3125 52.203125 \nQ 41.3125 57.625 37.46875 61.15625 \nQ 33.640625 64.703125 27.78125 64.703125 \nQ 21.875 64.703125 17.875 61.0625 \nQ 13.875 57.421875 13.8125 50.203125 \nL 4.78125 51.21875 \nQ 5.609375 61.28125 11.9375 66.59375 \nQ 18.265625 71.921875 27.984375 71.921875 \nQ 38.53125 71.921875 44.40625 66.078125 \nQ 50.296875 60.25 50.296875 52 \nQ 50.296875 45.125 45.328125 38.0625 \nQ 40.375 31 25.59375 19.1875 \nQ 17.828125 12.984375 15.28125 8.5 \nL 50.484375 8.5 \nz\n\" id=\"ArialUnicodeMS-50\"/>\n      </defs>\n      <g style=\"fill:#262626;\" transform=\"translate(245.649554 253.387188)scale(0.1 -0.1)\">\n       <use xlink:href=\"#ArialUnicodeMS-50\"/>\n       <use x=\"55.615234\" xlink:href=\"#ArialUnicodeMS-48\"/>\n       <use x=\"111.230469\" xlink:href=\"#ArialUnicodeMS-48\"/>\n       <use x=\"166.845703\" xlink:href=\"#ArialUnicodeMS-48\"/>\n      </g>\n     </g>\n    </g>\n    <g id=\"xtick_6\">\n     <g id=\"line2d_6\">\n      <path clip-path=\"url(#p7fdcda0f72)\" d=\"M 309.914286 239.229375 \nL 309.914286 21.789375 \n\" style=\"fill:none;stroke:#cccccc;stroke-linecap:round;stroke-width:0.8;\"/>\n     </g>\n     <g id=\"text_6\">\n      <!-- 2500 -->\n      <g style=\"fill:#262626;\" transform=\"translate(298.792411 253.387188)scale(0.1 -0.1)\">\n       <use xlink:href=\"#ArialUnicodeMS-50\"/>\n       <use x=\"55.615234\" xlink:href=\"#ArialUnicodeMS-53\"/>\n       <use x=\"111.230469\" xlink:href=\"#ArialUnicodeMS-48\"/>\n       <use x=\"166.845703\" xlink:href=\"#ArialUnicodeMS-48\"/>\n      </g>\n     </g>\n    </g>\n    <g id=\"xtick_7\">\n     <g id=\"line2d_7\">\n      <path clip-path=\"url(#p7fdcda0f72)\" d=\"M 363.057143 239.229375 \nL 363.057143 21.789375 \n\" style=\"fill:none;stroke:#cccccc;stroke-linecap:round;stroke-width:0.8;\"/>\n     </g>\n     <g id=\"text_7\">\n      <!-- 3000 -->\n      <defs>\n       <path d=\"M 37.890625 38.71875 \nQ 44.53125 37.453125 47.921875 32.296875 \nQ 51.3125 27.15625 51.3125 21.09375 \nQ 51.3125 11.328125 44.203125 5.046875 \nQ 37.109375 -1.21875 27.203125 -1.21875 \nQ 17.71875 -1.21875 11.5625 4.296875 \nQ 5.421875 9.8125 4.390625 18.890625 \nL 13.1875 20.125 \nQ 14.5 13.03125 17.984375 9.515625 \nQ 21.484375 6 27.203125 6 \nQ 33.34375 6 37.609375 10.328125 \nQ 41.890625 14.65625 41.890625 20.90625 \nQ 41.890625 26.90625 38 30.859375 \nQ 34.125 34.8125 27.875 34.8125 \nQ 25.34375 34.8125 21.6875 33.890625 \nL 22.703125 41.609375 \nQ 26.21875 41.609375 28.265625 41.9375 \nQ 30.328125 42.28125 32.859375 43.59375 \nQ 35.40625 44.921875 37.0625 47.390625 \nQ 38.71875 49.859375 38.71875 53.515625 \nQ 38.71875 58.84375 35.171875 61.765625 \nQ 31.640625 64.703125 27 64.703125 \nQ 21.6875 64.703125 18.328125 61.328125 \nQ 14.984375 57.953125 14.109375 51.703125 \nL 5.328125 53.328125 \nQ 7.03125 62.640625 12.859375 67.28125 \nQ 18.703125 71.921875 26.8125 71.921875 \nQ 35.75 71.921875 41.71875 66.53125 \nQ 47.703125 61.140625 47.703125 53.328125 \nQ 47.703125 43.3125 37.890625 38.921875 \nz\n\" id=\"ArialUnicodeMS-51\"/>\n      </defs>\n      <g style=\"fill:#262626;\" transform=\"translate(351.935268 253.387188)scale(0.1 -0.1)\">\n       <use xlink:href=\"#ArialUnicodeMS-51\"/>\n       <use x=\"55.615234\" xlink:href=\"#ArialUnicodeMS-48\"/>\n       <use x=\"111.230469\" xlink:href=\"#ArialUnicodeMS-48\"/>\n       <use x=\"166.845703\" xlink:href=\"#ArialUnicodeMS-48\"/>\n      </g>\n     </g>\n    </g>\n    <g id=\"text_8\">\n     <!-- 销量/吨 -->\n     <defs>\n      <path d=\"M 88.484375 3.609375 \nQ 88.484375 0 85.796875 -2.53125 \nQ 83.109375 -5.078125 79.109375 -5.078125 \nL 70.21875 -5.078125 \nL 67.671875 2.875 \nQ 74.75 2.390625 77 2.390625 \nQ 80.90625 2.390625 80.90625 5.609375 \nL 80.90625 14.40625 \nL 53.8125 14.40625 \nL 53.8125 -6.890625 \nL 46.1875 -6.890625 \nL 46.1875 53.515625 \nL 63.375 53.515625 \nL 63.375 83.109375 \nL 71 83.109375 \nL 71 53.515625 \nL 88.484375 53.515625 \nz\nM 80.90625 37.796875 \nL 80.90625 46.1875 \nL 53.8125 46.1875 \nL 53.8125 37.796875 \nz\nM 80.90625 21.6875 \nL 80.90625 30.515625 \nL 53.8125 30.515625 \nL 53.8125 21.6875 \nz\nM 43.609375 63.484375 \nL 23.6875 63.484375 \nQ 22.078125 58.59375 19.828125 54.5 \nL 42.28125 54.5 \nL 42.28125 47.21875 \nL 29.984375 47.21875 \nL 29.984375 36.921875 \nL 43.5 36.921875 \nL 43.5 29.59375 \nL 29.984375 29.59375 \nL 29.984375 8.203125 \nL 43.5 14.890625 \nL 43.5 6.6875 \nL 25 -2.78125 \nL 20.90625 3.8125 \nQ 22.3125 5.375 22.3125 6.984375 \nL 22.3125 29.59375 \nL 7.71875 29.59375 \nL 7.71875 36.921875 \nL 22.3125 36.921875 \nL 22.3125 47.21875 \nL 15.71875 47.21875 \nQ 13.28125 43.453125 10.015625 39.984375 \nL 3.90625 44.671875 \nQ 16.9375 59.234375 21.09375 83.015625 \nL 28.21875 80.71875 \nQ 27.546875 76.703125 25.875 70.796875 \nL 43.609375 70.796875 \nz\nM 92.28125 75.390625 \nQ 87.9375 63.765625 79.296875 56 \nL 73.09375 60.796875 \nQ 81.546875 67.578125 86.625 79.78125 \nz\nM 60.40625 59.625 \nL 53.515625 55.8125 \nQ 50.921875 65.625 41.21875 75.390625 \nL 47.90625 78.8125 \nQ 56.890625 70.0625 60.40625 59.625 \nz\n\" id=\"ArialUnicodeMS-38144\"/>\n      <path d=\"M 79 52.78125 \nL 20.515625 52.78125 \nL 20.515625 78.90625 \nL 79 78.90625 \nz\nM 71.390625 68.796875 \nL 71.390625 72.015625 \nL 28.078125 72.015625 \nL 28.078125 68.796875 \nz\nM 71.390625 59.28125 \nL 71.390625 62.984375 \nL 28.078125 62.984375 \nL 28.078125 59.28125 \nz\nM 90.578125 44 \nL 9.078125 44 \nL 9.078125 50.484375 \nL 90.578125 50.484375 \nz\nM 94.671875 -2.984375 \nL 5.328125 -2.984375 \nL 5.328125 4.296875 \nL 46.09375 4.296875 \nL 46.09375 7.171875 \nL 14.015625 7.171875 \nL 14.015625 13.71875 \nL 46.09375 13.71875 \nL 46.09375 16.3125 \nL 17.578125 16.3125 \nL 17.578125 41.703125 \nL 82.328125 41.703125 \nL 82.328125 16.3125 \nL 53.71875 16.3125 \nL 53.71875 13.71875 \nL 86.078125 13.71875 \nL 86.078125 7.171875 \nL 53.71875 7.171875 \nL 53.71875 4.296875 \nL 94.671875 4.296875 \nz\nM 74.703125 32.078125 \nL 74.703125 35.203125 \nL 53.71875 35.203125 \nL 53.71875 32.078125 \nz\nM 46.09375 32.078125 \nL 46.09375 35.203125 \nL 25.203125 35.203125 \nL 25.203125 32.078125 \nz\nM 74.703125 22.796875 \nL 74.703125 26.515625 \nL 53.71875 26.515625 \nL 53.71875 22.796875 \nz\nM 46.09375 22.796875 \nL 46.09375 26.515625 \nL 25.203125 26.515625 \nL 25.203125 22.796875 \nz\n\" id=\"ArialUnicodeMS-37327\"/>\n      <path d=\"M 27.78125 71.578125 \nL 7.078125 -2.390625 \nL 0 -2.390625 \nL 20.703125 71.578125 \nz\n\" id=\"ArialUnicodeMS-47\"/>\n      <path d=\"M 93.3125 11.921875 \nQ 91.65625 2.875 89.375 -0.609375 \nQ 87.109375 -4.109375 81.109375 -4.109375 \nL 64.703125 -4.109375 \nQ 62.203125 -4.109375 60.046875 -1.984375 \nQ 57.90625 0.140625 57.90625 2.390625 \nL 57.90625 23.390625 \nL 39.015625 23.390625 \nL 39.015625 53.421875 \nL 46.578125 53.421875 \nL 46.578125 30.71875 \nL 57.90625 30.71875 \nL 57.90625 59.078125 \nL 33.40625 59.078125 \nL 33.40625 66.40625 \nL 57.90625 66.40625 \nL 57.90625 82.421875 \nL 65.484375 82.421875 \nL 65.484375 66.40625 \nL 90.828125 66.40625 \nL 90.828125 59.078125 \nL 65.484375 59.078125 \nL 65.484375 30.71875 \nL 77.09375 30.71875 \nL 77.09375 53.421875 \nL 84.71875 53.421875 \nL 84.71875 20.40625 \nL 77.09375 20.40625 \nL 77.09375 23.390625 \nL 65.484375 23.390625 \nL 65.484375 4.890625 \nQ 65.484375 3.21875 67.1875 3.21875 \nL 81 3.21875 \nQ 84.1875 4.046875 86.28125 17 \nz\nM 31.6875 13.09375 \nL 24.125 13.09375 \nL 24.125 19.578125 \nL 16.21875 19.578125 \nL 16.21875 13.09375 \nL 8.59375 13.09375 \nL 8.59375 72.515625 \nL 31.6875 72.515625 \nz\nM 24.125 26.90625 \nL 24.125 65.1875 \nL 16.21875 65.1875 \nL 16.21875 26.90625 \nz\n\" id=\"ArialUnicodeMS-21544\"/>\n     </defs>\n     <g style=\"fill:#262626;\" transform=\"translate(195.210938 266.537188)scale(0.1 -0.1)\">\n      <use xlink:href=\"#ArialUnicodeMS-38144\"/>\n      <use x=\"100\" xlink:href=\"#ArialUnicodeMS-37327\"/>\n      <use x=\"200\" xlink:href=\"#ArialUnicodeMS-47\"/>\n      <use x=\"227.783203\" xlink:href=\"#ArialUnicodeMS-21544\"/>\n     </g>\n    </g>\n   </g>\n   <g id=\"matplotlib.axis_2\">\n    <g id=\"ytick_1\">\n     <g id=\"line2d_8\">\n      <path clip-path=\"url(#p7fdcda0f72)\" d=\"M 44.2 208.795604 \nL 379 208.795604 \n\" style=\"fill:none;stroke:#cccccc;stroke-linecap:round;stroke-width:0.8;\"/>\n     </g>\n     <g id=\"text_9\">\n      <!-- 苹果 -->\n      <defs>\n       <path d=\"M 93.796875 65.71875 \nL 72.40625 65.71875 \nL 72.40625 57.625 \nL 64.5 57.625 \nL 64.5 65.71875 \nL 35.984375 65.71875 \nL 35.984375 57.625 \nL 28.078125 57.625 \nL 28.078125 65.71875 \nL 6.78125 65.71875 \nL 6.78125 73 \nL 28.078125 73 \nL 28.078125 82.71875 \nL 35.984375 82.71875 \nL 35.984375 73 \nL 64.5 73 \nL 64.5 82.71875 \nL 72.40625 82.71875 \nL 72.40625 73 \nL 93.796875 73 \nz\nM 94.921875 16.5 \nL 54.203125 16.5 \nL 54.203125 -6.390625 \nL 46.296875 -6.390625 \nL 46.296875 16.5 \nL 5.515625 16.5 \nL 5.515625 23.78125 \nL 46.296875 23.78125 \nL 46.296875 47.703125 \nL 13.375 47.703125 \nL 13.375 54.984375 \nL 87.015625 54.984375 \nL 87.015625 47.703125 \nL 54.203125 47.703125 \nL 54.203125 23.78125 \nL 94.921875 23.78125 \nz\nM 38.1875 41.796875 \nQ 31.453125 30.375 20.90625 25.09375 \nL 14.796875 31.296875 \nQ 25.34375 35.296875 31.984375 46.578125 \nz\nM 83.796875 29.296875 \nL 77.09375 24.515625 \nQ 71.578125 35.359375 60.890625 41.109375 \nL 66.609375 46.484375 \nQ 77.34375 40.140625 83.796875 29.296875 \nz\n\" id=\"ArialUnicodeMS-33529\"/>\n       <path d=\"M 96 5.171875 \nL 91.40625 -1.21875 \nQ 66.453125 7.078125 54 24.03125 \nL 54 -6.6875 \nL 46.296875 -6.5 \nL 46.296875 23.78125 \nQ 35.796875 6.984375 10.015625 -1.421875 \nL 4.78125 4.6875 \nQ 26.125 10.5 37.703125 23.875 \nL 9.515625 23.875 \nL 9.515625 31.203125 \nL 46.390625 31.203125 \nL 46.390625 38.28125 \nL 19.390625 38.28125 \nL 19.390625 78.8125 \nL 81.203125 78.8125 \nL 81.203125 38.28125 \nL 54 38.28125 \nL 54 31.203125 \nL 90.828125 31.203125 \nL 90.828125 23.875 \nL 63.484375 23.875 \nQ 73.921875 11.671875 96 5.171875 \nz\nM 73.578125 62.203125 \nL 73.578125 71.484375 \nL 54 71.484375 \nL 54 62.203125 \nz\nM 46.390625 62.203125 \nL 46.390625 71.484375 \nL 27 71.484375 \nL 27 62.203125 \nz\nM 73.578125 45.609375 \nL 73.578125 54.890625 \nL 54 54.890625 \nL 54 45.609375 \nz\nM 46.390625 45.609375 \nL 46.390625 54.890625 \nL 27 54.890625 \nL 27 45.609375 \nz\n\" id=\"ArialUnicodeMS-26524\"/>\n      </defs>\n      <g style=\"fill:#262626;\" transform=\"translate(17.2 212.37451)scale(0.1 -0.1)\">\n       <use xlink:href=\"#ArialUnicodeMS-33529\"/>\n       <use x=\"100\" xlink:href=\"#ArialUnicodeMS-26524\"/>\n      </g>\n     </g>\n    </g>\n    <g id=\"ytick_2\">\n     <g id=\"line2d_9\">\n      <path clip-path=\"url(#p7fdcda0f72)\" d=\"M 44.2 130.509375 \nL 379 130.509375 \n\" style=\"fill:none;stroke:#cccccc;stroke-linecap:round;stroke-width:0.8;\"/>\n     </g>\n     <g id=\"text_10\">\n      <!-- 梨子 -->\n      <defs>\n       <path d=\"M 87.015625 39.5 \nQ 87.015625 36.765625 84.25 33.875 \nQ 81.5 31 75.59375 31.296875 \nL 69.1875 31.59375 \nL 66.5 39.5 \nQ 72.609375 38.875 75.6875 38.875 \nQ 79.390625 38.875 79.390625 41.40625 \nL 79.390625 82.328125 \nL 87.015625 82.328125 \nz\nM 57.625 55.421875 \nL 38.625 55.421875 \nL 38.625 52 \nL 40.484375 54 \nQ 51.125 51.5625 57.421875 43.21875 \nL 52 38.28125 \nQ 45.953125 44.921875 38.625 47.703125 \nL 38.625 31 \nL 31 31 \nL 31 51.90625 \nQ 27.25 42.625 10.890625 31.6875 \nL 5.8125 37.5 \nQ 19.1875 45.84375 24.609375 55.421875 \nL 9.515625 55.421875 \nL 9.515625 62.703125 \nL 31 62.703125 \nL 31 69.28125 \nQ 22.171875 68.109375 12.984375 67.828125 \nL 9.8125 74.8125 \nQ 35.0625 74.953125 49.90625 81.984375 \nL 54.59375 76.3125 \nQ 45.953125 72.46875 38.625 70.796875 \nL 38.625 62.703125 \nL 57.625 62.703125 \nz\nM 69.09375 42.484375 \nL 61.53125 42.484375 \nL 61.53125 75.484375 \nL 69.09375 75.484375 \nz\nM 95.015625 4 \nL 90.578125 -2.59375 \nQ 67.921875 2.4375 53.21875 20.796875 \nL 53.21875 -6.78125 \nL 45.609375 -6.78125 \nL 45.609375 19 \nQ 41.015625 11.8125 30.09375 5.359375 \nQ 19.1875 -1.078125 8.203125 -3.71875 \nL 4.109375 2.984375 \nQ 25.6875 8.6875 37.3125 21.1875 \nL 7.71875 21.1875 \nL 7.71875 28.515625 \nL 45.609375 28.515625 \nL 45.609375 37.109375 \nL 53.21875 37.109375 \nL 53.21875 28.515625 \nL 90.921875 28.515625 \nL 90.921875 21.1875 \nL 62.59375 21.1875 \nQ 77.25 6.9375 95.015625 4 \nz\n\" id=\"ArialUnicodeMS-26792\"/>\n       <path d=\"M 92.09375 36.375 \nL 55.71875 36.375 \nL 55.71875 2.984375 \nQ 55.71875 -0.484375 53.515625 -2.6875 \nQ 51.3125 -4.890625 47.40625 -4.890625 \nL 35.109375 -4.890625 \nL 31.5 2.875 \nL 44.09375 2.296875 \nQ 48.09375 2.15625 48.09375 6.984375 \nL 48.09375 36.375 \nL 9.8125 36.375 \nL 9.8125 43.703125 \nL 48.09375 43.703125 \nL 48.09375 53.71875 \nQ 60.25 61.671875 68.796875 71.390625 \nL 22.125 71.390625 \nL 22.125 78.71875 \nL 79.6875 78.71875 \nL 79.6875 73.09375 \nQ 69.34375 59.28125 55.71875 50 \nL 55.71875 43.703125 \nL 92.09375 43.703125 \nz\n\" id=\"ArialUnicodeMS-23376\"/>\n      </defs>\n      <g style=\"fill:#262626;\" transform=\"translate(17.2 134.088281)scale(0.1 -0.1)\">\n       <use xlink:href=\"#ArialUnicodeMS-26792\"/>\n       <use x=\"100\" xlink:href=\"#ArialUnicodeMS-23376\"/>\n      </g>\n     </g>\n    </g>\n    <g id=\"ytick_3\">\n     <g id=\"line2d_10\">\n      <path clip-path=\"url(#p7fdcda0f72)\" d=\"M 44.2 52.223146 \nL 379 52.223146 \n\" style=\"fill:none;stroke:#cccccc;stroke-linecap:round;stroke-width:0.8;\"/>\n     </g>\n     <g id=\"text_11\">\n      <!-- 车厘子 -->\n      <defs>\n       <path d=\"M 95.609375 15.09375 \nL 56.203125 15.09375 \nL 56.203125 -6.109375 \nL 48.578125 -6.109375 \nL 48.578125 15.09375 \nL 4.203125 15.09375 \nL 4.203125 22.40625 \nL 48.578125 22.40625 \nL 48.578125 33.984375 \nL 20.3125 33.984375 \nL 20.3125 40.578125 \nL 32.515625 64.109375 \nL 9.515625 64.109375 \nL 9.515625 71.390625 \nL 36.078125 71.390625 \nL 42.1875 83.296875 \nL 49.03125 79.984375 \nL 44.578125 71.390625 \nL 89.109375 71.390625 \nL 89.109375 64.109375 \nL 41.015625 64.109375 \nL 29.203125 41.3125 \nL 48.578125 41.3125 \nL 48.578125 56.984375 \nL 56.203125 56.984375 \nL 56.203125 41.3125 \nL 82.421875 41.3125 \nL 82.421875 33.984375 \nL 56.203125 33.984375 \nL 56.203125 22.40625 \nL 95.609375 22.40625 \nz\n\" id=\"ArialUnicodeMS-36710\"/>\n       <path d=\"M 91.109375 70.609375 \nL 22.3125 70.609375 \nL 22.3125 33.6875 \nQ 22.3125 6.6875 11.53125 -7.421875 \nL 4.5 -3.21875 \nQ 9.234375 2.484375 11.96875 10.765625 \nQ 14.703125 19.046875 14.703125 33.984375 \nL 14.703125 77.875 \nL 91.109375 77.875 \nz\nM 93.21875 -2 \nL 21.1875 -2 \nL 21.1875 5.328125 \nL 52.59375 5.328125 \nL 52.59375 13.625 \nL 26.90625 13.625 \nL 26.90625 20.90625 \nL 52.59375 20.90625 \nL 52.59375 27.984375 \nL 29 27.984375 \nL 29 65.1875 \nL 84.28125 65.1875 \nL 84.28125 27.984375 \nL 60.203125 27.984375 \nL 60.203125 20.90625 \nL 86.078125 20.90625 \nL 86.078125 13.625 \nL 60.203125 13.625 \nL 60.203125 5.328125 \nL 93.21875 5.328125 \nz\nM 76.703125 50.390625 \nL 76.703125 57.90625 \nL 60.203125 57.90625 \nL 60.203125 50.390625 \nz\nM 52.59375 50.390625 \nL 52.59375 57.90625 \nL 36.625 57.90625 \nL 36.625 50.390625 \nz\nM 76.703125 35.296875 \nL 76.703125 43.109375 \nL 60.203125 43.109375 \nL 60.203125 35.296875 \nz\nM 52.59375 35.296875 \nL 52.59375 43.109375 \nL 36.625 43.109375 \nL 36.625 35.296875 \nz\n\" id=\"ArialUnicodeMS-21400\"/>\n      </defs>\n      <g style=\"fill:#262626;\" transform=\"translate(7.2 55.802053)scale(0.1 -0.1)\">\n       <use xlink:href=\"#ArialUnicodeMS-36710\"/>\n       <use x=\"100\" xlink:href=\"#ArialUnicodeMS-21400\"/>\n       <use x=\"200\" xlink:href=\"#ArialUnicodeMS-23376\"/>\n      </g>\n     </g>\n    </g>\n   </g>\n   <g id=\"patch_3\">\n    <path clip-path=\"url(#p7fdcda0f72)\" d=\"M 44.2 205.85987 \nL 150.485714 205.85987 \nL 150.485714 188.245469 \nL 44.2 188.245469 \nz\n\" style=\"fill:#1f77b4;stroke:#ffffff;stroke-linejoin:miter;\"/>\n   </g>\n   <g id=\"patch_4\">\n    <path clip-path=\"url(#p7fdcda0f72)\" d=\"M 44.2 127.573641 \nL 129.228571 127.573641 \nL 129.228571 109.95924 \nL 44.2 109.95924 \nz\n\" style=\"fill:#1f77b4;stroke:#ffffff;stroke-linejoin:miter;\"/>\n   </g>\n   <g id=\"patch_5\">\n    <path clip-path=\"url(#p7fdcda0f72)\" d=\"M 44.2 49.287413 \nL 363.057143 49.287413 \nL 363.057143 31.673011 \nL 44.2 31.673011 \nz\n\" style=\"fill:#1f77b4;stroke:#ffffff;stroke-linejoin:miter;\"/>\n   </g>\n   <g id=\"patch_6\">\n    <path clip-path=\"url(#p7fdcda0f72)\" d=\"M 44.2 229.345739 \nL 171.742857 229.345739 \nL 171.742857 211.731337 \nL 44.2 211.731337 \nz\n\" style=\"fill:#ff7f0e;stroke:#ffffff;stroke-linejoin:miter;\"/>\n   </g>\n   <g id=\"patch_7\">\n    <path clip-path=\"url(#p7fdcda0f72)\" d=\"M 44.2 151.05951 \nL 118.6 151.05951 \nL 118.6 133.445109 \nL 44.2 133.445109 \nz\n\" style=\"fill:#ff7f0e;stroke:#ffffff;stroke-linejoin:miter;\"/>\n   </g>\n   <g id=\"patch_8\">\n    <path clip-path=\"url(#p7fdcda0f72)\" d=\"M 44.2 72.773281 \nL 341.8 72.773281 \nL 341.8 55.15888 \nL 44.2 55.15888 \nz\n\" style=\"fill:#ff7f0e;stroke:#ffffff;stroke-linejoin:miter;\"/>\n   </g>\n   <g id=\"patch_9\">\n    <path d=\"M 44.2 239.229375 \nL 44.2 21.789375 \n\" style=\"fill:none;stroke:#cccccc;stroke-linecap:square;stroke-linejoin:miter;stroke-width:0.8;\"/>\n   </g>\n   <g id=\"patch_10\">\n    <path d=\"M 379 239.229375 \nL 379 21.789375 \n\" style=\"fill:none;stroke:#cccccc;stroke-linecap:square;stroke-linejoin:miter;stroke-width:0.8;\"/>\n   </g>\n   <g id=\"patch_11\">\n    <path d=\"M 44.2 239.229375 \nL 379 239.229375 \n\" style=\"fill:none;stroke:#cccccc;stroke-linecap:square;stroke-linejoin:miter;stroke-width:0.8;\"/>\n   </g>\n   <g id=\"patch_12\">\n    <path d=\"M 44.2 21.789375 \nL 379 21.789375 \n\" style=\"fill:none;stroke:#cccccc;stroke-linecap:square;stroke-linejoin:miter;stroke-width:0.8;\"/>\n   </g>\n   <g id=\"text_12\">\n    <!-- 1000 -->\n    <g style=\"fill:#262626;\" transform=\"translate(150.485714 197.052669)scale(0.1 -0.1)\">\n     <use xlink:href=\"#ArialUnicodeMS-49\"/>\n     <use x=\"55.615234\" xlink:href=\"#ArialUnicodeMS-48\"/>\n     <use x=\"111.230469\" xlink:href=\"#ArialUnicodeMS-48\"/>\n     <use x=\"166.845703\" xlink:href=\"#ArialUnicodeMS-48\"/>\n    </g>\n   </g>\n   <g id=\"text_13\">\n    <!-- 800 -->\n    <defs>\n     <path d=\"M 37.890625 38.71875 \nQ 51.3125 34.421875 51.3125 20.40625 \nQ 51.3125 11.1875 44.71875 4.984375 \nQ 38.140625 -1.21875 27.78125 -1.21875 \nQ 17.328125 -1.21875 10.765625 5.03125 \nQ 4.203125 11.28125 4.203125 20.703125 \nQ 4.203125 27.484375 7.890625 32.5625 \nQ 11.578125 37.640625 17.828125 38.71875 \nL 17.828125 38.921875 \nQ 7.078125 42.234375 7.078125 53.421875 \nQ 7.078125 61.328125 12.734375 66.625 \nQ 18.40625 71.921875 27.59375 71.921875 \nQ 36.921875 71.921875 42.65625 66.453125 \nQ 48.390625 60.984375 48.390625 53.21875 \nQ 48.390625 42.671875 37.890625 38.921875 \nz\nM 27.78125 42.1875 \nQ 32.71875 42.1875 36.0625 45.328125 \nQ 39.40625 48.484375 39.40625 53.21875 \nQ 39.40625 58.0625 36.015625 61.375 \nQ 32.625 64.703125 27.6875 64.703125 \nQ 22.65625 64.703125 19.375 61.421875 \nQ 16.109375 58.15625 16.109375 53.71875 \nQ 16.109375 48.390625 19.484375 45.28125 \nQ 22.859375 42.1875 27.78125 42.1875 \nz\nM 27.78125 6 \nQ 33.984375 6 38.125 10 \nQ 42.28125 14.015625 42.28125 20.40625 \nQ 42.28125 26.8125 38 30.90625 \nQ 33.734375 35.015625 27.59375 35.015625 \nQ 21.1875 35.015625 17.1875 30.78125 \nQ 13.1875 26.5625 13.1875 20.609375 \nQ 13.1875 14.40625 17.3125 10.203125 \nQ 21.4375 6 27.78125 6 \nz\n\" id=\"ArialUnicodeMS-56\"/>\n    </defs>\n    <g style=\"fill:#262626;\" transform=\"translate(129.228571 118.766441)scale(0.1 -0.1)\">\n     <use xlink:href=\"#ArialUnicodeMS-56\"/>\n     <use x=\"55.615234\" xlink:href=\"#ArialUnicodeMS-48\"/>\n     <use x=\"111.230469\" xlink:href=\"#ArialUnicodeMS-48\"/>\n    </g>\n   </g>\n   <g id=\"text_14\">\n    <!-- 3000 -->\n    <g style=\"fill:#262626;\" transform=\"translate(363.057143 40.480212)scale(0.1 -0.1)\">\n     <use xlink:href=\"#ArialUnicodeMS-51\"/>\n     <use x=\"55.615234\" xlink:href=\"#ArialUnicodeMS-48\"/>\n     <use x=\"111.230469\" xlink:href=\"#ArialUnicodeMS-48\"/>\n     <use x=\"166.845703\" xlink:href=\"#ArialUnicodeMS-48\"/>\n    </g>\n   </g>\n   <g id=\"text_15\">\n    <!-- 1200 -->\n    <g style=\"fill:#262626;\" transform=\"translate(171.742857 220.538538)scale(0.1 -0.1)\">\n     <use xlink:href=\"#ArialUnicodeMS-49\"/>\n     <use x=\"55.615234\" xlink:href=\"#ArialUnicodeMS-50\"/>\n     <use x=\"111.230469\" xlink:href=\"#ArialUnicodeMS-48\"/>\n     <use x=\"166.845703\" xlink:href=\"#ArialUnicodeMS-48\"/>\n    </g>\n   </g>\n   <g id=\"text_16\">\n    <!-- 700 -->\n    <defs>\n     <path d=\"M 51.125 63.8125 \nQ 40.578125 52.25 32.859375 35.203125 \nQ 25.140625 18.171875 23.78125 0 \nL 14.796875 0 \nQ 15.140625 14.59375 22 32.046875 \nQ 28.859375 49.515625 39.796875 62.109375 \nL 4.78125 62.109375 \nL 4.78125 70.609375 \nL 51.125 70.609375 \nz\n\" id=\"ArialUnicodeMS-55\"/>\n    </defs>\n    <g style=\"fill:#262626;\" transform=\"translate(118.6 142.252309)scale(0.1 -0.1)\">\n     <use xlink:href=\"#ArialUnicodeMS-55\"/>\n     <use x=\"55.615234\" xlink:href=\"#ArialUnicodeMS-48\"/>\n     <use x=\"111.230469\" xlink:href=\"#ArialUnicodeMS-48\"/>\n    </g>\n   </g>\n   <g id=\"text_17\">\n    <!-- 2800 -->\n    <g style=\"fill:#262626;\" transform=\"translate(341.8 63.966081)scale(0.1 -0.1)\">\n     <use xlink:href=\"#ArialUnicodeMS-50\"/>\n     <use x=\"55.615234\" xlink:href=\"#ArialUnicodeMS-56\"/>\n     <use x=\"111.230469\" xlink:href=\"#ArialUnicodeMS-48\"/>\n     <use x=\"166.845703\" xlink:href=\"#ArialUnicodeMS-48\"/>\n    </g>\n   </g>\n   <g id=\"text_18\">\n    <!-- Q1和Q2季度产品销售量 -->\n    <defs>\n     <path d=\"M 74.515625 0.984375 \nL 71.6875 -5.609375 \nQ 63.375 -2.4375 56.390625 3.21875 \nQ 48.296875 -1.21875 38.8125 -1.21875 \nQ 23.828125 -1.21875 14.25 9.15625 \nQ 4.6875 19.53125 4.6875 35.796875 \nQ 4.6875 51.90625 13.96875 62.34375 \nQ 23.25 72.796875 39.015625 72.796875 \nQ 54 72.796875 63.59375 62.59375 \nQ 73.1875 52.390625 73.1875 35.890625 \nQ 73.1875 18.21875 62.40625 7.71875 \nQ 68.453125 3.375 74.515625 0.984375 \nz\nM 54.984375 12.890625 \nQ 63.375 20.65625 63.375 35.796875 \nQ 63.375 49.3125 56.609375 57 \nQ 49.859375 64.703125 39.015625 64.703125 \nQ 28.171875 64.703125 21.328125 57.328125 \nQ 14.5 49.953125 14.5 35.796875 \nQ 14.5 21.921875 21.328125 14.40625 \nQ 28.171875 6.890625 39.015625 6.890625 \nQ 44.34375 6.890625 48.578125 8.796875 \nQ 43.84375 11.8125 39.203125 12.890625 \nL 41.5 19.828125 \nQ 50.25 17.328125 54.984375 12.890625 \nz\n\" id=\"ArialUnicodeMS-81\"/>\n     <path d=\"M 57.171875 23.6875 \nL 50.875 19.09375 \nQ 45.015625 31.640625 38.625 35.984375 \nL 38.625 -6.984375 \nL 30.90625 -6.984375 \nL 30.90625 32.328125 \nQ 26.46875 22.65625 12.3125 9.90625 \nL 5.328125 14.984375 \nQ 24.65625 30.421875 30.609375 48.390625 \nL 11.53125 48.390625 \nL 11.53125 55.71875 \nL 31 55.71875 \nL 31 68.3125 \nQ 16.40625 66.109375 12.984375 66.109375 \nL 9.90625 73 \nQ 36.03125 74.8125 49.703125 82.078125 \nL 54.296875 76.421875 \nQ 49.46875 73.484375 38.625 70.015625 \nL 38.625 55.71875 \nL 55.609375 55.71875 \nL 55.609375 48.390625 \nL 38.625 48.390625 \nL 38.625 41.21875 \nL 41.3125 43.109375 \nQ 51.90625 35.9375 57.171875 23.6875 \nz\nM 89.40625 -0.984375 \nL 81.78125 -0.984375 \nL 81.78125 8.984375 \nL 65.828125 8.984375 \nL 65.828125 -0.984375 \nL 58.203125 -0.984375 \nL 58.203125 74.03125 \nL 89.40625 74.03125 \nz\nM 81.78125 16.3125 \nL 81.78125 66.703125 \nL 65.828125 66.703125 \nL 65.828125 16.3125 \nz\n\" id=\"ArialUnicodeMS-21644\"/>\n     <path d=\"M 95.90625 41.609375 \nL 92 34.625 \nQ 68.890625 40.28125 54.390625 55.515625 \nL 54.390625 39.796875 \nL 46.78125 39.796875 \nL 46.78125 55.71875 \nQ 33.203125 40.71875 9.078125 33.59375 \nL 4.984375 40.1875 \nQ 25.6875 46.1875 37.015625 57.171875 \nL 10.890625 57.171875 \nL 10.890625 64.5 \nL 46.78125 64.5 \nL 46.78125 70.515625 \nQ 34.859375 69.484375 18.3125 69.828125 \nL 14.703125 77.59375 \nQ 21.140625 77.296875 27.59375 77.296875 \nQ 64.015625 77.296875 80.515625 83.796875 \nL 85.203125 77.390625 \nQ 71.1875 72.796875 54.390625 71.296875 \nL 54.390625 64.5 \nL 90.09375 64.5 \nL 90.09375 57.171875 \nL 63.1875 57.171875 \nQ 69.96875 51.21875 79.5625 46.625 \nQ 89.15625 42.046875 95.90625 41.609375 \nz\nM 93.109375 13.625 \nL 55.609375 13.625 \nL 55.609375 0.984375 \nQ 54.890625 -3.765625 52.3125 -5.171875 \nQ 49.75 -6.59375 42 -6.59375 \nQ 35.890625 -6.59375 35.796875 -6.6875 \nL 33.109375 1.421875 \nL 45.515625 0.875 \nQ 48 0.734375 48 3.328125 \nL 48 13.625 \nL 8.015625 13.625 \nL 8.015625 20.90625 \nL 48 20.90625 \nL 48 25.59375 \nQ 56.0625 28.515625 60.5 31.296875 \nL 60.5 31.5 \nL 23.875 31.5 \nL 23.875 38.8125 \nL 74.3125 38.8125 \nL 74.3125 32.328125 \nQ 65.625 25.09375 55.609375 21 \nL 55.609375 20.90625 \nL 93.109375 20.90625 \nz\n\" id=\"ArialUnicodeMS-23395\"/>\n     <path d=\"M 92.390625 66.703125 \nL 21.296875 66.703125 \nL 21.296875 35.59375 \nQ 21.296875 17.875 18.4375 8.25 \nQ 15.578125 -1.375 10.6875 -6.78125 \nL 4.59375 -2.296875 \nQ 10.453125 5.90625 12.078125 14.6875 \nQ 13.71875 23.484375 13.71875 36.71875 \nL 13.71875 74.03125 \nL 50 74.03125 \nL 50 82.625 \nL 57.90625 82.625 \nL 57.90625 74.03125 \nL 92.390625 74.03125 \nz\nM 90.28125 49.90625 \nL 73.875 49.90625 \nL 73.875 35.984375 \nL 36.71875 35.984375 \nL 36.71875 49.90625 \nL 23 49.90625 \nL 23 57.171875 \nL 36.71875 57.171875 \nL 36.71875 64.796875 \nL 44.1875 64.796875 \nL 44.1875 57.171875 \nL 66.3125 57.171875 \nL 66.3125 64.796875 \nL 73.875 64.796875 \nL 73.875 57.171875 \nL 90.28125 57.171875 \nz\nM 66.3125 42.921875 \nL 66.3125 49.90625 \nL 44.28125 49.90625 \nL 44.28125 42.921875 \nz\nM 95.015625 1.125 \nL 90.921875 -6.203125 \nQ 70.0625 -3.375 55.171875 4.109375 \nQ 38.96875 -3.65625 21.6875 -6.203125 \nL 17 0.6875 \nQ 32.46875 2.09375 47.40625 8.59375 \nQ 39.203125 14.59375 33.015625 23.875 \nL 25.390625 23.875 \nL 25.390625 30.8125 \nL 80.609375 30.8125 \nL 80.609375 24.125 \nQ 75.296875 16.015625 63.1875 8.40625 \nQ 77.546875 2.59375 95.015625 1.125 \nz\nM 71 23.875 \nL 42.1875 23.875 \nQ 48.828125 16.21875 55.171875 12.203125 \nQ 65.53125 18.109375 71 23.875 \nz\n\" id=\"ArialUnicodeMS-24230\"/>\n     <path d=\"M 88.921875 62.40625 \nL 7.515625 62.40625 \nL 7.515625 69.28125 \nL 47.703125 69.28125 \nQ 44 75.640625 37.984375 80.078125 \nL 43.21875 84.28125 \nQ 51.859375 77.296875 55.90625 71.09375 \nL 53.328125 69.484375 \nL 53.328125 69.28125 \nL 88.921875 69.28125 \nz\nM 88.921875 39.796875 \nL 23.578125 39.796875 \nL 23.578125 21.484375 \nQ 23.578125 3.421875 8.109375 -6.296875 \nL 2.484375 -0.59375 \nQ 16.015625 7.125 16.015625 23.6875 \nL 16.015625 46.6875 \nL 35.59375 46.6875 \nQ 33.15625 51.953125 26.421875 57.515625 \nL 31.203125 61.53125 \nQ 38.28125 56.890625 43.796875 49.03125 \nL 40.375 46.6875 \nL 53.328125 46.6875 \nQ 60.25 53.765625 63.375 61.375 \nL 70.015625 57.8125 \nQ 66.84375 51.65625 62.5 46.6875 \nL 88.921875 46.6875 \nz\n\" id=\"ArialUnicodeMS-20135\"/>\n     <path d=\"M 78.078125 46.296875 \nL 21.296875 46.296875 \nL 21.296875 79.203125 \nL 78.078125 79.203125 \nz\nM 71.484375 52.78125 \nL 71.484375 72.703125 \nL 28.21875 72.703125 \nL 28.21875 52.78125 \nz\nM 88.375 -5.8125 \nL 80.8125 -5.8125 \nL 80.8125 1.125 \nL 61.8125 1.125 \nL 61.8125 -5.8125 \nL 54.203125 -5.8125 \nL 54.203125 38.921875 \nL 88.375 38.921875 \nz\nM 80.8125 8.40625 \nL 80.8125 31.59375 \nL 61.8125 31.59375 \nL 61.8125 8.40625 \nz\nM 45.21875 -6.203125 \nL 37.59375 -6.203125 \nL 37.59375 0.59375 \nL 19.1875 0.59375 \nL 19.1875 -6.59375 \nL 11.625 -6.390625 \nL 11.625 38.625 \nL 45.21875 38.625 \nz\nM 37.59375 7.90625 \nL 37.59375 31.296875 \nL 19.1875 31.296875 \nL 19.1875 7.90625 \nz\n\" id=\"ArialUnicodeMS-21697\"/>\n     <path d=\"M 94.390625 28.078125 \nL 25.875 28.078125 \nL 25.78125 24.515625 \nL 18.3125 24.515625 \nL 18.3125 54.59375 \nQ 13.625 49.21875 10.890625 46.921875 \nL 4.203125 51.609375 \nQ 19 63.96875 26.3125 83.109375 \nL 33.015625 79.984375 \nQ 31.546875 76.265625 29.109375 72.015625 \nL 53.8125 72.015625 \nQ 56.546875 77.9375 57.90625 84.28125 \nL 65.484375 82.328125 \nQ 64.265625 77.296875 61.921875 72.015625 \nL 91.109375 72.015625 \nL 91.109375 64.703125 \nL 58.796875 64.703125 \nL 58.796875 59.28125 \nL 85.5 59.28125 \nL 85.5 52.78125 \nL 58.796875 52.78125 \nL 58.796875 47.515625 \nL 85.5 47.515625 \nL 85.5 41.015625 \nL 58.796875 41.015625 \nL 58.796875 35.40625 \nL 94.390625 35.40625 \nz\nM 51.21875 59.28125 \nL 51.21875 64.703125 \nL 25.875 64.703125 \nL 25.875 59.28125 \nz\nM 51.21875 47.515625 \nL 51.21875 52.78125 \nL 25.875 52.78125 \nL 25.875 47.515625 \nz\nM 51.21875 35.40625 \nL 51.21875 41.015625 \nL 25.875 41.015625 \nL 25.875 35.40625 \nz\nM 84.90625 -6.390625 \nL 77.296875 -6.390625 \nL 77.296875 -0.875 \nL 27.984375 -0.875 \nL 27.984375 -6.6875 \nL 20.40625 -6.6875 \nL 20.40625 23.390625 \nL 84.90625 23.390625 \nz\nM 77.296875 6.390625 \nL 77.296875 16.109375 \nL 27.984375 16.109375 \nL 27.984375 6.390625 \nz\n\" id=\"ArialUnicodeMS-21806\"/>\n    </defs>\n    <g style=\"fill:#262626;\" transform=\"translate(147.593125 15.789375)scale(0.12 -0.12)\">\n     <use xlink:href=\"#ArialUnicodeMS-81\"/>\n     <use x=\"77.783203\" xlink:href=\"#ArialUnicodeMS-49\"/>\n     <use x=\"133.398438\" xlink:href=\"#ArialUnicodeMS-21644\"/>\n     <use x=\"233.398438\" xlink:href=\"#ArialUnicodeMS-81\"/>\n     <use x=\"311.181641\" xlink:href=\"#ArialUnicodeMS-50\"/>\n     <use x=\"366.796875\" xlink:href=\"#ArialUnicodeMS-23395\"/>\n     <use x=\"466.796875\" xlink:href=\"#ArialUnicodeMS-24230\"/>\n     <use x=\"566.796875\" xlink:href=\"#ArialUnicodeMS-20135\"/>\n     <use x=\"666.796875\" xlink:href=\"#ArialUnicodeMS-21697\"/>\n     <use x=\"766.796875\" xlink:href=\"#ArialUnicodeMS-38144\"/>\n     <use x=\"866.796875\" xlink:href=\"#ArialUnicodeMS-21806\"/>\n     <use x=\"966.796875\" xlink:href=\"#ArialUnicodeMS-37327\"/>\n    </g>\n   </g>\n   <g id=\"legend_1\">\n    <g id=\"patch_13\">\n     <path d=\"M 326.660937 234.229375 \nL 372 234.229375 \nQ 374 234.229375 374 232.229375 \nL 374 204.929375 \nQ 374 202.929375 372 202.929375 \nL 326.660937 202.929375 \nQ 324.660937 202.929375 324.660937 204.929375 \nL 324.660937 232.229375 \nQ 324.660937 234.229375 326.660937 234.229375 \nz\n\" style=\"fill:#ffffff;opacity:0.8;stroke:#cccccc;stroke-linejoin:miter;\"/>\n    </g>\n    <g id=\"patch_14\">\n     <path d=\"M 328.660937 214.087187 \nL 348.660937 214.087187 \nL 348.660937 207.087187 \nL 328.660937 207.087187 \nz\n\" style=\"fill:#1f77b4;stroke:#ffffff;stroke-linejoin:miter;\"/>\n    </g>\n    <g id=\"text_19\">\n     <!-- Q1 -->\n     <g style=\"fill:#262626;\" transform=\"translate(356.660937 214.087187)scale(0.1 -0.1)\">\n      <use xlink:href=\"#ArialUnicodeMS-81\"/>\n      <use x=\"77.783203\" xlink:href=\"#ArialUnicodeMS-49\"/>\n     </g>\n    </g>\n    <g id=\"patch_15\">\n     <path d=\"M 328.660937 228.237188 \nL 348.660937 228.237188 \nL 348.660937 221.237188 \nL 328.660937 221.237188 \nz\n\" style=\"fill:#ff7f0e;stroke:#ffffff;stroke-linejoin:miter;\"/>\n    </g>\n    <g id=\"text_20\">\n     <!-- Q2 -->\n     <g style=\"fill:#262626;\" transform=\"translate(356.660937 228.237188)scale(0.1 -0.1)\">\n      <use xlink:href=\"#ArialUnicodeMS-81\"/>\n      <use x=\"77.783203\" xlink:href=\"#ArialUnicodeMS-50\"/>\n     </g>\n    </g>\n   </g>\n  </g>\n </g>\n <defs>\n  <clipPath id=\"p7fdcda0f72\">\n   <rect height=\"217.44\" width=\"334.8\" x=\"44.2\" y=\"21.789375\"/>\n  </clipPath>\n </defs>\n</svg>\n",
      "image/png": "[encoded data removed]"
     },
     "metadata": {}
    }
   ],
   "source": [
    "import matplotlib.pyplot as plt\n",
    "import seaborn as sns\n",
    "\n",
    "plt.rcParams['font.family'] = ['Arial Unicode MS'] #用来正常显示中文标签\n",
    "plt.rcParams['axes.unicode_minus'] = False #用来正常显示负号\n",
    " \n",
    "sns.set_style('whitegrid',{'font.sans-serif':['Arial Unicode MS','Arial']})\n",
    "\n",
    "y_label = [\"苹果\", \"梨子\", \"车厘子\"]\n",
    "y = np.arange(len(y_label))\n",
    "x_q1 = [1000, 800, 3000]\n",
    "x_q2 = [1200, 700, 2800]\n",
    "\n",
    "# 设置宽度\n",
    "height = 0.15\n",
    "\n",
    "# 设置图形位置\n",
    "y_q1 = y + height\n",
    "y_q2 = y - height\n",
    "\n",
    "# 水平条形图 \n",
    "plt.barh(y_q1, x_q1, height=1.5*height, label=\"Q1\")\n",
    "plt.barh(y_q2, x_q2, height=1.5*height, label=\"Q2\")\n",
    "# 显示图例\n",
    "plt.legend()\n",
    "# 设置刻度\n",
    "plt.yticks(y, y_label)\n",
    "\n",
    "# 设置轴标签\n",
    "plt.xlabel(\"销量/吨\")\n",
    "\n",
    "# 设置数据标签\n",
    "def text_data(x, y):\n",
    "    for i, j in zip(x, y):\n",
    "        plt.text(i, j, i)\n",
    "\n",
    "text_data(x_q1, y_q1)\n",
    "text_data(x_q2, y_q2)\n",
    "\n",
    "# 设置标题\n",
    "plt.title(\"Q1和Q2季度产品销售量\")\n",
    "\n",
    "\n",
    "plt.show()"
   ]
  },
  {
   "cell_type": "code",
   "execution_count": 126,
   "metadata": {},
   "outputs": [
    {
     "output_type": "display_data",
     "data": {
      "text/plain": "<Figure size 432x288 with 1 Axes>",
      "image/svg+xml": "<?xml version=\"1.0\" encoding=\"utf-8\" standalone=\"no\"?>\n<!DOCTYPE svg PUBLIC \"-//W3C//DTD SVG 1.1//EN\"\n  \"http://www.w3.org/Graphics/SVG/1.1/DTD/svg11.dtd\">\n<!-- Created with matplotlib (https://matplotlib.org/) -->\n<svg height=\"291.93125pt\" version=\"1.1\" viewBox=\"0 0 400.425937 291.93125\" width=\"400.425937pt\" xmlns=\"http://www.w3.org/2000/svg\" xmlns:xlink=\"http://www.w3.org/1999/xlink\">\n <defs>\n  <style type=\"text/css\">\n*{stroke-linecap:butt;stroke-linejoin:round;}\n  </style>\n </defs>\n <g id=\"figure_1\">\n  <g id=\"patch_1\">\n   <path d=\"M 0 291.93125 \nL 400.425937 291.93125 \nL 400.425937 0 \nL 0 0 \nz\n\" style=\"fill:#ffffff;\"/>\n  </g>\n  <g id=\"axes_1\">\n   <g id=\"patch_2\">\n    <path d=\"M 58.425938 248.11125 \nL 393.225938 248.11125 \nL 393.225938 30.67125 \nL 58.425938 30.67125 \nz\n\" style=\"fill:#ffffff;\"/>\n   </g>\n   <g id=\"matplotlib.axis_1\">\n    <g id=\"xtick_1\">\n     <g id=\"line2d_1\">\n      <path clip-path=\"url(#p7e4e4bba01)\" d=\"M 73.644119 248.11125 \nL 73.644119 30.67125 \n\" style=\"fill:none;stroke:#cccccc;stroke-linecap:round;stroke-width:0.8;\"/>\n     </g>\n     <g id=\"text_1\">\n      <!-- 1 -->\n      <defs>\n       <path d=\"M 37.5 0 \nL 28.71875 0 \nL 28.71875 56 \nQ 22.125 49.75 11.078125 45.40625 \nL 11.078125 53.90625 \nQ 26.265625 61.1875 31.78125 71.921875 \nL 37.5 71.921875 \nz\n\" id=\"ArialUnicodeMS-49\"/>\n      </defs>\n      <g style=\"fill:#262626;\" transform=\"translate(69.751463 265.132187)scale(0.14 -0.14)\">\n       <use xlink:href=\"#ArialUnicodeMS-49\"/>\n      </g>\n     </g>\n    </g>\n    <g id=\"xtick_2\">\n     <g id=\"line2d_2\">\n      <path clip-path=\"url(#p7e4e4bba01)\" d=\"M 149.735028 248.11125 \nL 149.735028 30.67125 \n\" style=\"fill:none;stroke:#cccccc;stroke-linecap:round;stroke-width:0.8;\"/>\n     </g>\n     <g id=\"text_2\">\n      <!-- 2 -->\n      <defs>\n       <path d=\"M 50.484375 0 \nL 3.078125 0 \nQ 3.078125 6.0625 7.296875 12.25 \nQ 11.53125 18.453125 23.09375 27.78125 \nQ 30.171875 33.453125 35.734375 39.671875 \nQ 41.3125 45.90625 41.3125 52.203125 \nQ 41.3125 57.625 37.46875 61.15625 \nQ 33.640625 64.703125 27.78125 64.703125 \nQ 21.875 64.703125 17.875 61.0625 \nQ 13.875 57.421875 13.8125 50.203125 \nL 4.78125 51.21875 \nQ 5.609375 61.28125 11.9375 66.59375 \nQ 18.265625 71.921875 27.984375 71.921875 \nQ 38.53125 71.921875 44.40625 66.078125 \nQ 50.296875 60.25 50.296875 52 \nQ 50.296875 45.125 45.328125 38.0625 \nQ 40.375 31 25.59375 19.1875 \nQ 17.828125 12.984375 15.28125 8.5 \nL 50.484375 8.5 \nz\n\" id=\"ArialUnicodeMS-50\"/>\n      </defs>\n      <g style=\"fill:#262626;\" transform=\"translate(145.842372 265.132187)scale(0.14 -0.14)\">\n       <use xlink:href=\"#ArialUnicodeMS-50\"/>\n      </g>\n     </g>\n    </g>\n    <g id=\"xtick_3\">\n     <g id=\"line2d_3\">\n      <path clip-path=\"url(#p7e4e4bba01)\" d=\"M 225.825938 248.11125 \nL 225.825938 30.67125 \n\" style=\"fill:none;stroke:#cccccc;stroke-linecap:round;stroke-width:0.8;\"/>\n     </g>\n     <g id=\"text_3\">\n      <!-- 3 -->\n      <defs>\n       <path d=\"M 37.890625 38.71875 \nQ 44.53125 37.453125 47.921875 32.296875 \nQ 51.3125 27.15625 51.3125 21.09375 \nQ 51.3125 11.328125 44.203125 5.046875 \nQ 37.109375 -1.21875 27.203125 -1.21875 \nQ 17.71875 -1.21875 11.5625 4.296875 \nQ 5.421875 9.8125 4.390625 18.890625 \nL 13.1875 20.125 \nQ 14.5 13.03125 17.984375 9.515625 \nQ 21.484375 6 27.203125 6 \nQ 33.34375 6 37.609375 10.328125 \nQ 41.890625 14.65625 41.890625 20.90625 \nQ 41.890625 26.90625 38 30.859375 \nQ 34.125 34.8125 27.875 34.8125 \nQ 25.34375 34.8125 21.6875 33.890625 \nL 22.703125 41.609375 \nQ 26.21875 41.609375 28.265625 41.9375 \nQ 30.328125 42.28125 32.859375 43.59375 \nQ 35.40625 44.921875 37.0625 47.390625 \nQ 38.71875 49.859375 38.71875 53.515625 \nQ 38.71875 58.84375 35.171875 61.765625 \nQ 31.640625 64.703125 27 64.703125 \nQ 21.6875 64.703125 18.328125 61.328125 \nQ 14.984375 57.953125 14.109375 51.703125 \nL 5.328125 53.328125 \nQ 7.03125 62.640625 12.859375 67.28125 \nQ 18.703125 71.921875 26.8125 71.921875 \nQ 35.75 71.921875 41.71875 66.53125 \nQ 47.703125 61.140625 47.703125 53.328125 \nQ 47.703125 43.3125 37.890625 38.921875 \nz\n\" id=\"ArialUnicodeMS-51\"/>\n      </defs>\n      <g style=\"fill:#262626;\" transform=\"translate(221.933281 265.132187)scale(0.14 -0.14)\">\n       <use xlink:href=\"#ArialUnicodeMS-51\"/>\n      </g>\n     </g>\n    </g>\n    <g id=\"xtick_4\">\n     <g id=\"line2d_4\">\n      <path clip-path=\"url(#p7e4e4bba01)\" d=\"M 301.916847 248.11125 \nL 301.916847 30.67125 \n\" style=\"fill:none;stroke:#cccccc;stroke-linecap:round;stroke-width:0.8;\"/>\n     </g>\n     <g id=\"text_4\">\n      <!-- 4 -->\n      <defs>\n       <path d=\"M 50.984375 17.09375 \nL 41.3125 17.09375 \nL 41.3125 0 \nL 32.515625 0 \nL 32.515625 17.09375 \nL 1.515625 17.09375 \nL 1.515625 25.203125 \nL 34.078125 71.578125 \nL 41.3125 71.578125 \nL 41.3125 25.203125 \nL 50.984375 25.203125 \nz\nM 32.515625 25.203125 \nL 32.515625 57.515625 \nL 32.328125 57.515625 \nL 10.109375 25.203125 \nz\n\" id=\"ArialUnicodeMS-52\"/>\n      </defs>\n      <g style=\"fill:#262626;\" transform=\"translate(298.02419 265.132187)scale(0.14 -0.14)\">\n       <use xlink:href=\"#ArialUnicodeMS-52\"/>\n      </g>\n     </g>\n    </g>\n    <g id=\"xtick_5\">\n     <g id=\"line2d_5\">\n      <path clip-path=\"url(#p7e4e4bba01)\" d=\"M 378.007756 248.11125 \nL 378.007756 30.67125 \n\" style=\"fill:none;stroke:#cccccc;stroke-linecap:round;stroke-width:0.8;\"/>\n     </g>\n     <g id=\"text_5\">\n      <!-- 5 -->\n      <defs>\n       <path d=\"M 15.828125 43.015625 \nQ 22.359375 47.515625 29.390625 47.515625 \nQ 38.328125 47.515625 44.96875 41.1875 \nQ 51.609375 34.859375 51.609375 24.3125 \nQ 51.609375 13.671875 44.875 6.21875 \nQ 38.140625 -1.21875 27.203125 -1.21875 \nQ 18.265625 -1.21875 11.71875 3.828125 \nQ 5.171875 8.890625 4.203125 18.796875 \nL 13.375 19.484375 \nQ 14.5 12.703125 18.15625 9.34375 \nQ 21.828125 6 27.203125 6 \nQ 33.890625 6 38.03125 11.046875 \nQ 42.1875 16.109375 42.1875 23.484375 \nQ 42.1875 31 37.9375 35.34375 \nQ 33.6875 39.703125 27 39.703125 \nQ 18.5625 39.703125 14.015625 32.8125 \nL 5.71875 33.796875 \nL 12.703125 70.609375 \nL 48.1875 70.609375 \nL 48.1875 62.109375 \nL 19.671875 62.109375 \nz\n\" id=\"ArialUnicodeMS-53\"/>\n      </defs>\n      <g style=\"fill:#262626;\" transform=\"translate(374.115099 265.132187)scale(0.14 -0.14)\">\n       <use xlink:href=\"#ArialUnicodeMS-53\"/>\n      </g>\n     </g>\n    </g>\n    <g id=\"text_6\">\n     <!-- Value -->\n     <defs>\n      <path d=\"M 66.015625 71.578125 \nL 37.984375 0 \nL 28.328125 0 \nL 0.59375 71.578125 \nL 10.796875 71.578125 \nL 29.390625 19.578125 \nQ 31.5 14.59375 33.109375 7.90625 \nL 33.296875 7.90625 \nQ 34.765625 13.625 37.015625 19.578125 \nL 56.390625 71.578125 \nz\n\" id=\"ArialUnicodeMS-86\"/>\n      <path d=\"M 51.609375 0 \nL 42.390625 0 \nQ 41.109375 2.4375 40.578125 6.390625 \nQ 31.734375 -1.21875 21.484375 -1.21875 \nQ 13.28125 -1.21875 8.546875 2.875 \nQ 3.8125 6.984375 3.8125 13.71875 \nQ 3.8125 20.171875 8.375 24.34375 \nQ 12.9375 28.515625 24.21875 29.890625 \nL 32.421875 31.109375 \nQ 37.015625 31.84375 39.984375 32.90625 \nQ 39.984375 36.859375 39.734375 38.5 \nQ 39.5 40.140625 38.296875 41.890625 \nQ 37.109375 43.65625 34.46875 44.71875 \nQ 31.84375 45.796875 27.390625 45.796875 \nQ 21.734375 45.796875 18.4375 43.703125 \nQ 15.140625 41.609375 13.921875 35.890625 \nL 5.328125 37.015625 \nQ 6.734375 44.96875 12.59375 48.96875 \nQ 18.453125 52.984375 28.71875 52.984375 \nQ 38.03125 52.984375 42.40625 50.21875 \nQ 46.78125 47.46875 47.78125 43.5625 \nQ 48.78125 39.65625 48.78125 33.5 \nL 48.78125 21.6875 \nQ 48.78125 10.890625 49.1875 7.203125 \nQ 49.609375 3.515625 51.609375 0 \nz\nM 39.984375 22.796875 \nL 39.984375 25.984375 \nQ 33.109375 23.6875 23.140625 22.34375 \nQ 13.1875 21 13.1875 13.921875 \nQ 13.1875 10.359375 15.875 8.03125 \nQ 18.5625 5.71875 23.578125 5.71875 \nQ 30.078125 5.71875 35.03125 9.59375 \nQ 39.984375 13.484375 39.984375 22.796875 \nz\n\" id=\"ArialUnicodeMS-97\"/>\n      <path d=\"M 15.484375 0 \nL 6.6875 0 \nL 6.6875 71.578125 \nL 15.484375 71.578125 \nz\n\" id=\"ArialUnicodeMS-108\"/>\n      <path d=\"M 48.6875 0 \nL 40.828125 0 \nL 40.828125 7.625 \nL 40.578125 7.625 \nQ 34.625 -1.21875 24.3125 -1.21875 \nQ 18.890625 -1.21875 14.28125 1.296875 \nQ 9.671875 3.8125 8.125 8.21875 \nQ 6.59375 12.640625 6.59375 19.671875 \nL 6.59375 51.8125 \nL 15.375 51.8125 \nL 15.375 23.09375 \nQ 15.375 16.21875 16.03125 13.234375 \nQ 16.703125 10.25 19.484375 8.3125 \nQ 22.265625 6.390625 26.125 6.390625 \nQ 31.109375 6.390625 35.5 9.828125 \nQ 39.890625 13.28125 39.890625 24.125 \nL 39.890625 51.8125 \nL 48.6875 51.8125 \nz\n\" id=\"ArialUnicodeMS-117\"/>\n      <path d=\"M 51.703125 23.6875 \nL 12.890625 23.6875 \nQ 13.421875 15.09375 17.796875 10.546875 \nQ 22.171875 6 28.71875 6 \nQ 33.734375 6 37.15625 8.65625 \nQ 40.578125 11.328125 42.390625 16.703125 \nL 51.421875 15.578125 \nQ 49.21875 7.46875 43.359375 3.125 \nQ 37.5 -1.21875 28.71875 -1.21875 \nQ 17.046875 -1.21875 10.46875 5.9375 \nQ 3.90625 13.09375 3.90625 25.484375 \nQ 3.90625 37.75 10.28125 45.359375 \nQ 16.65625 52.984375 28.21875 52.984375 \nQ 33.890625 52.984375 39.140625 50.484375 \nQ 44.390625 48 48.046875 42.015625 \nQ 51.703125 36.03125 51.703125 23.6875 \nz\nM 42.671875 30.90625 \nQ 42.140625 38.8125 37.765625 42.296875 \nQ 33.40625 45.796875 28.21875 45.796875 \nQ 22.015625 45.796875 18.015625 41.640625 \nQ 14.015625 37.5 13.375 30.90625 \nz\n\" id=\"ArialUnicodeMS-101\"/>\n     </defs>\n     <g style=\"fill:#262626;\" transform=\"translate(207.923438 281.942187)scale(0.14 -0.14)\">\n      <use xlink:href=\"#ArialUnicodeMS-86\"/>\n      <use x=\"66.699219\" xlink:href=\"#ArialUnicodeMS-97\"/>\n      <use x=\"122.314453\" xlink:href=\"#ArialUnicodeMS-108\"/>\n      <use x=\"144.53125\" xlink:href=\"#ArialUnicodeMS-117\"/>\n      <use x=\"200.146484\" xlink:href=\"#ArialUnicodeMS-101\"/>\n     </g>\n    </g>\n   </g>\n   <g id=\"matplotlib.axis_2\">\n    <g id=\"ytick_1\">\n     <g id=\"line2d_6\">\n      <path clip-path=\"url(#p7e4e4bba01)\" d=\"M 58.425938 218.460341 \nL 393.225938 218.460341 \n\" style=\"fill:none;stroke:#cccccc;stroke-linecap:round;stroke-width:0.8;\"/>\n     </g>\n     <g id=\"text_7\">\n      <!-- 2.5 -->\n      <defs>\n       <path d=\"M 18.890625 0 \nL 8.890625 0 \nL 8.890625 10.015625 \nL 18.890625 10.015625 \nz\n\" id=\"ArialUnicodeMS-46\"/>\n      </defs>\n      <g style=\"fill:#262626;\" transform=\"translate(31.965938 223.47081)scale(0.14 -0.14)\">\n       <use xlink:href=\"#ArialUnicodeMS-50\"/>\n       <use x=\"55.615234\" xlink:href=\"#ArialUnicodeMS-46\"/>\n       <use x=\"83.398438\" xlink:href=\"#ArialUnicodeMS-53\"/>\n      </g>\n     </g>\n    </g>\n    <g id=\"ytick_2\">\n     <g id=\"line2d_7\">\n      <path clip-path=\"url(#p7e4e4bba01)\" d=\"M 58.425938 185.514886 \nL 393.225938 185.514886 \n\" style=\"fill:none;stroke:#cccccc;stroke-linecap:round;stroke-width:0.8;\"/>\n     </g>\n     <g id=\"text_8\">\n      <!-- 5.0 -->\n      <defs>\n       <path d=\"M 27.78125 71.921875 \nQ 51.125 71.921875 51.125 35.296875 \nQ 51.125 16.796875 45.09375 7.78125 \nQ 39.0625 -1.21875 27.78125 -1.21875 \nQ 4.5 -1.21875 4.5 35.296875 \nQ 4.5 53.8125 10.515625 62.859375 \nQ 16.546875 71.921875 27.78125 71.921875 \nz\nM 27.78125 6 \nQ 34.859375 6 38.46875 12.859375 \nQ 42.09375 19.734375 42.09375 35.296875 \nQ 42.09375 46.140625 40.5 52.359375 \nQ 38.921875 58.59375 35.71875 61.640625 \nQ 32.515625 64.703125 27.6875 64.703125 \nQ 20.609375 64.703125 17.046875 57.71875 \nQ 13.484375 50.734375 13.484375 35.296875 \nQ 13.484375 24.609375 15.09375 18.359375 \nQ 16.703125 12.109375 19.875 9.046875 \nQ 23.046875 6 27.78125 6 \nz\n\" id=\"ArialUnicodeMS-48\"/>\n      </defs>\n      <g style=\"fill:#262626;\" transform=\"translate(31.965938 190.525355)scale(0.14 -0.14)\">\n       <use xlink:href=\"#ArialUnicodeMS-53\"/>\n       <use x=\"55.615234\" xlink:href=\"#ArialUnicodeMS-46\"/>\n       <use x=\"83.398438\" xlink:href=\"#ArialUnicodeMS-48\"/>\n      </g>\n     </g>\n    </g>\n    <g id=\"ytick_3\">\n     <g id=\"line2d_8\">\n      <path clip-path=\"url(#p7e4e4bba01)\" d=\"M 58.425938 152.569432 \nL 393.225938 152.569432 \n\" style=\"fill:none;stroke:#cccccc;stroke-linecap:round;stroke-width:0.8;\"/>\n     </g>\n     <g id=\"text_9\">\n      <!-- 7.5 -->\n      <defs>\n       <path d=\"M 51.125 63.8125 \nQ 40.578125 52.25 32.859375 35.203125 \nQ 25.140625 18.171875 23.78125 0 \nL 14.796875 0 \nQ 15.140625 14.59375 22 32.046875 \nQ 28.859375 49.515625 39.796875 62.109375 \nL 4.78125 62.109375 \nL 4.78125 70.609375 \nL 51.125 70.609375 \nz\n\" id=\"ArialUnicodeMS-55\"/>\n      </defs>\n      <g style=\"fill:#262626;\" transform=\"translate(31.965938 157.579901)scale(0.14 -0.14)\">\n       <use xlink:href=\"#ArialUnicodeMS-55\"/>\n       <use x=\"55.615234\" xlink:href=\"#ArialUnicodeMS-46\"/>\n       <use x=\"83.398438\" xlink:href=\"#ArialUnicodeMS-53\"/>\n      </g>\n     </g>\n    </g>\n    <g id=\"ytick_4\">\n     <g id=\"line2d_9\">\n      <path clip-path=\"url(#p7e4e4bba01)\" d=\"M 58.425938 119.623977 \nL 393.225938 119.623977 \n\" style=\"fill:none;stroke:#cccccc;stroke-linecap:round;stroke-width:0.8;\"/>\n     </g>\n     <g id=\"text_10\">\n      <!-- 10.0 -->\n      <g style=\"fill:#262626;\" transform=\"translate(24.180625 124.634446)scale(0.14 -0.14)\">\n       <use xlink:href=\"#ArialUnicodeMS-49\"/>\n       <use x=\"55.615234\" xlink:href=\"#ArialUnicodeMS-48\"/>\n       <use x=\"111.230469\" xlink:href=\"#ArialUnicodeMS-46\"/>\n       <use x=\"139.013672\" xlink:href=\"#ArialUnicodeMS-48\"/>\n      </g>\n     </g>\n    </g>\n    <g id=\"ytick_5\">\n     <g id=\"line2d_10\">\n      <path clip-path=\"url(#p7e4e4bba01)\" d=\"M 58.425938 86.678523 \nL 393.225938 86.678523 \n\" style=\"fill:none;stroke:#cccccc;stroke-linecap:round;stroke-width:0.8;\"/>\n     </g>\n     <g id=\"text_11\">\n      <!-- 12.5 -->\n      <g style=\"fill:#262626;\" transform=\"translate(24.180625 91.688991)scale(0.14 -0.14)\">\n       <use xlink:href=\"#ArialUnicodeMS-49\"/>\n       <use x=\"55.615234\" xlink:href=\"#ArialUnicodeMS-50\"/>\n       <use x=\"111.230469\" xlink:href=\"#ArialUnicodeMS-46\"/>\n       <use x=\"139.013672\" xlink:href=\"#ArialUnicodeMS-53\"/>\n      </g>\n     </g>\n    </g>\n    <g id=\"ytick_6\">\n     <g id=\"line2d_11\">\n      <path clip-path=\"url(#p7e4e4bba01)\" d=\"M 58.425938 53.733068 \nL 393.225938 53.733068 \n\" style=\"fill:none;stroke:#cccccc;stroke-linecap:round;stroke-width:0.8;\"/>\n     </g>\n     <g id=\"text_12\">\n      <!-- 15.0 -->\n      <g style=\"fill:#262626;\" transform=\"translate(24.180625 58.743537)scale(0.14 -0.14)\">\n       <use xlink:href=\"#ArialUnicodeMS-49\"/>\n       <use x=\"55.615234\" xlink:href=\"#ArialUnicodeMS-53\"/>\n       <use x=\"111.230469\" xlink:href=\"#ArialUnicodeMS-46\"/>\n       <use x=\"139.013672\" xlink:href=\"#ArialUnicodeMS-48\"/>\n      </g>\n     </g>\n    </g>\n    <g id=\"text_13\">\n     <!-- Square of Value -->\n     <defs>\n      <path d=\"M 50.203125 50.59375 \nQ 49.609375 57.421875 45.265625 60.859375 \nQ 40.921875 64.3125 32.8125 64.3125 \nQ 25.484375 64.3125 20.890625 61.578125 \nQ 16.3125 58.84375 16.3125 53.609375 \nQ 16.3125 48.96875 19.84375 46.703125 \nQ 23.390625 44.4375 33.40625 42.1875 \nQ 42.28125 40.234375 47.890625 38.1875 \nQ 53.515625 36.140625 57.515625 31.8125 \nQ 61.53125 27.484375 61.53125 20.21875 \nQ 61.53125 10.984375 54.171875 4.875 \nQ 46.828125 -1.21875 35.015625 -1.21875 \nQ 19.921875 -1.21875 12.421875 5.515625 \nQ 4.9375 12.25 4.5 23 \nL 13.484375 23.78125 \nQ 14.109375 15.1875 20.109375 11.25 \nQ 26.125 7.328125 34.625 7.328125 \nQ 42.578125 7.328125 47.484375 10.59375 \nQ 52.390625 13.875 52.390625 19.484375 \nQ 52.390625 25.34375 47.265625 28.03125 \nQ 42.140625 30.71875 30.046875 33.328125 \nQ 17.96875 35.9375 12.640625 40.671875 \nQ 7.328125 45.40625 7.328125 52.984375 \nQ 7.328125 61.578125 14.0625 67.1875 \nQ 20.796875 72.796875 32.421875 72.796875 \nQ 44.34375 72.796875 51.59375 67.203125 \nQ 58.84375 61.625 59.28125 51.3125 \nz\n\" id=\"ArialUnicodeMS-83\"/>\n      <path d=\"M 48.78125 -19.921875 \nL 39.984375 -19.921875 \nL 39.984375 5.421875 \nL 39.796875 5.421875 \nQ 34.71875 -1.21875 26.421875 -1.21875 \nQ 16.84375 -1.21875 10.328125 6.21875 \nQ 3.8125 13.671875 3.8125 26.3125 \nQ 3.8125 38.1875 9.71875 45.578125 \nQ 15.625 52.984375 25.78125 52.984375 \nQ 35.640625 52.984375 40.578125 45.125 \nL 40.828125 45.125 \nL 40.828125 51.8125 \nL 48.78125 51.8125 \nz\nM 27 6 \nQ 33.203125 6 37.0625 10.984375 \nQ 40.921875 15.96875 40.921875 25.59375 \nQ 40.921875 34.671875 36.90625 40.375 \nQ 32.90625 46.09375 26.609375 46.09375 \nQ 20.5625 46.09375 16.671875 40.96875 \nQ 12.796875 35.84375 12.796875 26.3125 \nQ 12.796875 19.625 14.59375 15.078125 \nQ 16.40625 10.546875 19.71875 8.265625 \nQ 23.046875 6 27 6 \nz\n\" id=\"ArialUnicodeMS-113\"/>\n      <path d=\"M 34.625 50.203125 \nL 31.59375 42.09375 \nQ 28.328125 44 25.203125 44 \nQ 20.265625 44 17.71875 39.578125 \nQ 15.1875 35.15625 15.1875 27.203125 \nL 15.1875 0 \nL 6.390625 0 \nL 6.390625 51.8125 \nL 14.40625 51.8125 \nL 14.40625 44 \nL 14.59375 44 \nQ 18.796875 52.984375 25.59375 52.984375 \nQ 30.078125 52.984375 34.625 50.203125 \nz\n\" id=\"ArialUnicodeMS-114\"/>\n      <path id=\"ArialUnicodeMS-32\"/>\n      <path d=\"M 27.78125 52.984375 \nQ 38.28125 52.984375 45.1875 46.140625 \nQ 52.09375 39.3125 52.09375 26.703125 \nQ 52.09375 11.421875 44.625 5.09375 \nQ 37.15625 -1.21875 27.78125 -1.21875 \nQ 17.96875 -1.21875 10.734375 5.265625 \nQ 3.515625 11.765625 3.515625 25.875 \nQ 3.515625 39.546875 10.5 46.265625 \nQ 17.484375 52.984375 27.78125 52.984375 \nz\nM 27.78125 6 \nQ 35.296875 6 39.203125 11.5625 \nQ 43.109375 17.140625 43.109375 26.21875 \nQ 43.109375 35.9375 38.6875 40.859375 \nQ 34.28125 45.796875 27.78125 45.796875 \nQ 21.09375 45.796875 16.796875 40.796875 \nQ 12.5 35.796875 12.5 25.875 \nQ 12.5 16.015625 16.859375 11 \nQ 21.234375 6 27.78125 6 \nz\n\" id=\"ArialUnicodeMS-111\"/>\n      <path d=\"M 31.109375 71.921875 \nL 29.78125 64.203125 \nQ 27.15625 64.703125 24.609375 64.703125 \nQ 21.4375 64.703125 19.40625 63.359375 \nQ 17.390625 62.015625 17.390625 56.6875 \nL 17.390625 51.8125 \nL 27.390625 51.8125 \nL 27.390625 45.015625 \nL 17.390625 45.015625 \nL 17.390625 0 \nL 8.59375 0 \nL 8.59375 45.015625 \nL 0.78125 45.015625 \nL 0.78125 51.8125 \nL 8.59375 51.8125 \nL 8.59375 57.421875 \nQ 8.59375 61.328125 9.328125 64.5 \nQ 10.0625 67.671875 13.203125 70.234375 \nQ 16.359375 72.796875 22.90625 72.796875 \nQ 26.8125 72.796875 31.109375 71.921875 \nz\n\" id=\"ArialUnicodeMS-102\"/>\n     </defs>\n     <g style=\"fill:#262626;\" transform=\"translate(17.391563 189.591094)rotate(-90)scale(0.14 -0.14)\">\n      <use xlink:href=\"#ArialUnicodeMS-83\"/>\n      <use x=\"66.699219\" xlink:href=\"#ArialUnicodeMS-113\"/>\n      <use x=\"122.314453\" xlink:href=\"#ArialUnicodeMS-117\"/>\n      <use x=\"177.929688\" xlink:href=\"#ArialUnicodeMS-97\"/>\n      <use x=\"233.544922\" xlink:href=\"#ArialUnicodeMS-114\"/>\n      <use x=\"266.845703\" xlink:href=\"#ArialUnicodeMS-101\"/>\n      <use x=\"322.460938\" xlink:href=\"#ArialUnicodeMS-32\"/>\n      <use x=\"350.244141\" xlink:href=\"#ArialUnicodeMS-111\"/>\n      <use x=\"405.859375\" xlink:href=\"#ArialUnicodeMS-102\"/>\n      <use x=\"433.642578\" xlink:href=\"#ArialUnicodeMS-32\"/>\n      <use x=\"461.425781\" xlink:href=\"#ArialUnicodeMS-86\"/>\n      <use x=\"528.125\" xlink:href=\"#ArialUnicodeMS-97\"/>\n      <use x=\"583.740234\" xlink:href=\"#ArialUnicodeMS-108\"/>\n      <use x=\"605.957031\" xlink:href=\"#ArialUnicodeMS-117\"/>\n      <use x=\"661.572266\" xlink:href=\"#ArialUnicodeMS-101\"/>\n     </g>\n    </g>\n   </g>\n   <g id=\"line2d_12\">\n    <path clip-path=\"url(#p7e4e4bba01)\" d=\"M 73.644119 238.227614 \nL 149.735028 198.693068 \nL 225.825938 132.802159 \nL 301.916847 40.554886 \nL 378.007756 93.267614 \n\" style=\"fill:none;stroke:#1f77b4;stroke-linecap:round;stroke-width:1.5;\"/>\n   </g>\n   <g id=\"line2d_13\">\n    <path clip-path=\"url(#p7e4e4bba01)\" d=\"M 73.644119 211.87125 \nL 149.735028 198.693068 \nL 225.825938 145.980341 \nL 301.916847 225.049432 \nL 378.007756 40.554886 \n\" style=\"fill:none;stroke:#ff7f0e;stroke-linecap:round;stroke-width:1.5;\"/>\n   </g>\n   <g id=\"patch_3\">\n    <path d=\"M 58.425938 248.11125 \nL 58.425938 30.67125 \n\" style=\"fill:none;stroke:#cccccc;stroke-linecap:square;stroke-linejoin:miter;stroke-width:0.8;\"/>\n   </g>\n   <g id=\"patch_4\">\n    <path d=\"M 393.225938 248.11125 \nL 393.225938 30.67125 \n\" style=\"fill:none;stroke:#cccccc;stroke-linecap:square;stroke-linejoin:miter;stroke-width:0.8;\"/>\n   </g>\n   <g id=\"patch_5\">\n    <path d=\"M 58.425938 248.11125 \nL 393.225938 248.11125 \n\" style=\"fill:none;stroke:#cccccc;stroke-linecap:square;stroke-linejoin:miter;stroke-width:0.8;\"/>\n   </g>\n   <g id=\"patch_6\">\n    <path d=\"M 58.425938 30.67125 \nL 393.225938 30.67125 \n\" style=\"fill:none;stroke:#cccccc;stroke-linecap:square;stroke-linejoin:miter;stroke-width:0.8;\"/>\n   </g>\n   <g id=\"text_14\">\n    <!-- 1 -->\n    <g style=\"fill:#262626;\" transform=\"translate(70.863651 235.576517)scale(0.1 -0.1)\">\n     <use xlink:href=\"#ArialUnicodeMS-49\"/>\n    </g>\n   </g>\n   <g id=\"text_15\">\n    <!-- 3 -->\n    <g style=\"fill:#262626;\" transform=\"translate(70.863651 209.220153)scale(0.1 -0.1)\">\n     <use xlink:href=\"#ArialUnicodeMS-51\"/>\n    </g>\n   </g>\n   <g id=\"text_16\">\n    <!-- 4 -->\n    <g style=\"fill:#262626;\" transform=\"translate(146.95456 196.041972)scale(0.1 -0.1)\">\n     <use xlink:href=\"#ArialUnicodeMS-52\"/>\n    </g>\n   </g>\n   <g id=\"text_17\">\n    <!-- 4 -->\n    <g style=\"fill:#262626;\" transform=\"translate(146.95456 196.041972)scale(0.1 -0.1)\">\n     <use xlink:href=\"#ArialUnicodeMS-52\"/>\n    </g>\n   </g>\n   <g id=\"text_18\">\n    <!-- 9 -->\n    <defs>\n     <path d=\"M 42.390625 33.6875 \nQ 39.796875 29.5 35.28125 26.90625 \nQ 30.765625 24.3125 25.484375 24.3125 \nQ 16.65625 24.3125 10.46875 30.78125 \nQ 4.296875 37.25 4.296875 47.703125 \nQ 4.296875 58.34375 10.59375 65.125 \nQ 16.890625 71.921875 26.8125 71.921875 \nQ 36.765625 71.921875 44.03125 64.15625 \nQ 51.3125 56.390625 51.3125 37.3125 \nQ 51.3125 17.921875 44.671875 8.34375 \nQ 38.03125 -1.21875 25.6875 -1.21875 \nQ 17.625 -1.21875 12.203125 3.203125 \nQ 6.78125 7.625 5.609375 16.609375 \nL 14.015625 17.28125 \nQ 16.015625 6 25.875 6 \nQ 33.984375 6 38.28125 13.390625 \nQ 42.578125 20.796875 42.578125 33.6875 \nz\nM 27.59375 31.984375 \nQ 34.03125 31.984375 37.8125 36.546875 \nQ 41.609375 41.109375 41.609375 48.09375 \nQ 41.609375 55.171875 37.71875 59.9375 \nQ 33.84375 64.703125 27.78125 64.703125 \nQ 21.6875 64.703125 17.484375 59.640625 \nQ 13.28125 54.59375 13.28125 47.40625 \nQ 13.28125 40.625 17.40625 36.296875 \nQ 21.53125 31.984375 27.59375 31.984375 \nz\n\" id=\"ArialUnicodeMS-57\"/>\n    </defs>\n    <g style=\"fill:#262626;\" transform=\"translate(223.045469 130.151062)scale(0.1 -0.1)\">\n     <use xlink:href=\"#ArialUnicodeMS-57\"/>\n    </g>\n   </g>\n   <g id=\"text_19\">\n    <!-- 8 -->\n    <defs>\n     <path d=\"M 37.890625 38.71875 \nQ 51.3125 34.421875 51.3125 20.40625 \nQ 51.3125 11.1875 44.71875 4.984375 \nQ 38.140625 -1.21875 27.78125 -1.21875 \nQ 17.328125 -1.21875 10.765625 5.03125 \nQ 4.203125 11.28125 4.203125 20.703125 \nQ 4.203125 27.484375 7.890625 32.5625 \nQ 11.578125 37.640625 17.828125 38.71875 \nL 17.828125 38.921875 \nQ 7.078125 42.234375 7.078125 53.421875 \nQ 7.078125 61.328125 12.734375 66.625 \nQ 18.40625 71.921875 27.59375 71.921875 \nQ 36.921875 71.921875 42.65625 66.453125 \nQ 48.390625 60.984375 48.390625 53.21875 \nQ 48.390625 42.671875 37.890625 38.921875 \nz\nM 27.78125 42.1875 \nQ 32.71875 42.1875 36.0625 45.328125 \nQ 39.40625 48.484375 39.40625 53.21875 \nQ 39.40625 58.0625 36.015625 61.375 \nQ 32.625 64.703125 27.6875 64.703125 \nQ 22.65625 64.703125 19.375 61.421875 \nQ 16.109375 58.15625 16.109375 53.71875 \nQ 16.109375 48.390625 19.484375 45.28125 \nQ 22.859375 42.1875 27.78125 42.1875 \nz\nM 27.78125 6 \nQ 33.984375 6 38.125 10 \nQ 42.28125 14.015625 42.28125 20.40625 \nQ 42.28125 26.8125 38 30.90625 \nQ 33.734375 35.015625 27.59375 35.015625 \nQ 21.1875 35.015625 17.1875 30.78125 \nQ 13.1875 26.5625 13.1875 20.609375 \nQ 13.1875 14.40625 17.3125 10.203125 \nQ 21.4375 6 27.78125 6 \nz\n\" id=\"ArialUnicodeMS-56\"/>\n    </defs>\n    <g style=\"fill:#262626;\" transform=\"translate(223.045469 143.329244)scale(0.1 -0.1)\">\n     <use xlink:href=\"#ArialUnicodeMS-56\"/>\n    </g>\n   </g>\n   <g id=\"text_20\">\n    <!-- 16 -->\n    <defs>\n     <path d=\"M 13.09375 36.921875 \nQ 19.140625 46.390625 30.328125 46.390625 \nQ 39.109375 46.390625 45.265625 39.890625 \nQ 51.421875 33.40625 51.421875 23.296875 \nQ 51.421875 13.09375 45.28125 5.9375 \nQ 39.15625 -1.21875 29 -1.21875 \nQ 18.703125 -1.21875 11.453125 6.390625 \nQ 4.203125 14.015625 4.203125 33.5 \nQ 4.203125 52.640625 10.765625 62.28125 \nQ 17.328125 71.921875 29.78125 71.921875 \nQ 37.84375 71.921875 43.40625 67.421875 \nQ 48.96875 62.9375 50.203125 54.109375 \nL 41.40625 53.328125 \nQ 39.015625 64.703125 29.296875 64.703125 \nQ 22.5625 64.703125 17.71875 58 \nQ 12.890625 51.3125 12.890625 36.921875 \nz\nM 28.8125 6 \nQ 34.859375 6 38.625 10.875 \nQ 42.390625 15.765625 42.390625 22.703125 \nQ 42.390625 29.640625 38.625 34.171875 \nQ 34.859375 38.71875 28.515625 38.71875 \nQ 22.703125 38.71875 18.5 34.4375 \nQ 14.3125 30.171875 14.3125 23.1875 \nQ 14.3125 16.0625 18.4375 11.03125 \nQ 22.5625 6 28.8125 6 \nz\n\" id=\"ArialUnicodeMS-54\"/>\n    </defs>\n    <g style=\"fill:#262626;\" transform=\"translate(296.355909 37.90379)scale(0.1 -0.1)\">\n     <use xlink:href=\"#ArialUnicodeMS-49\"/>\n     <use x=\"55.615234\" xlink:href=\"#ArialUnicodeMS-54\"/>\n    </g>\n   </g>\n   <g id=\"text_21\">\n    <!-- 2 -->\n    <g style=\"fill:#262626;\" transform=\"translate(299.136378 222.398335)scale(0.1 -0.1)\">\n     <use xlink:href=\"#ArialUnicodeMS-50\"/>\n    </g>\n   </g>\n   <g id=\"text_22\">\n    <!-- 12 -->\n    <g style=\"fill:#262626;\" transform=\"translate(372.446818 90.616517)scale(0.1 -0.1)\">\n     <use xlink:href=\"#ArialUnicodeMS-49\"/>\n     <use x=\"55.615234\" xlink:href=\"#ArialUnicodeMS-50\"/>\n    </g>\n   </g>\n   <g id=\"text_23\">\n    <!-- 16 -->\n    <g style=\"fill:#262626;\" transform=\"translate(372.446818 37.90379)scale(0.1 -0.1)\">\n     <use xlink:href=\"#ArialUnicodeMS-49\"/>\n     <use x=\"55.615234\" xlink:href=\"#ArialUnicodeMS-54\"/>\n    </g>\n   </g>\n   <g id=\"text_24\">\n    <!-- Square Numbers -->\n    <defs>\n     <path d=\"M 64.203125 0 \nL 54.5 0 \nL 17.09375 56.203125 \nL 16.890625 56.203125 \nL 16.890625 0 \nL 7.90625 0 \nL 7.90625 71.578125 \nL 17.578125 71.578125 \nL 54.984375 15.375 \nL 55.171875 15.375 \nL 55.171875 71.578125 \nL 64.203125 71.578125 \nz\n\" id=\"ArialUnicodeMS-78\"/>\n     <path d=\"M 76.90625 0 \nL 68.109375 0 \nL 68.109375 32.71875 \nQ 68.109375 36.328125 67.625 38.890625 \nQ 67.140625 41.453125 65.109375 43.421875 \nQ 63.09375 45.40625 58.796875 45.40625 \nQ 53.609375 45.40625 49.84375 41.796875 \nQ 46.09375 38.1875 46.09375 30.078125 \nL 46.09375 0 \nL 37.3125 0 \nL 37.3125 33.6875 \nQ 37.3125 40.4375 34.9375 42.921875 \nQ 32.5625 45.40625 28.21875 45.40625 \nQ 22.5625 45.40625 18.921875 41.5 \nQ 15.28125 37.59375 15.28125 26.90625 \nL 15.28125 0 \nL 6.5 0 \nL 6.5 51.8125 \nL 14.40625 51.8125 \nL 14.40625 44.578125 \nL 14.59375 44.578125 \nQ 19.875 52.984375 30.078125 52.984375 \nQ 35.796875 52.984375 39.484375 50.703125 \nQ 43.171875 48.4375 44.828125 43.890625 \nQ 50.59375 52.984375 60.796875 52.984375 \nQ 68.84375 52.984375 72.875 48.625 \nQ 76.90625 44.28125 76.90625 35.59375 \nz\n\" id=\"ArialUnicodeMS-109\"/>\n     <path d=\"M 15.71875 46 \nQ 20.609375 52.984375 29.6875 52.984375 \nQ 39.703125 52.984375 45.703125 45.703125 \nQ 51.703125 38.421875 51.703125 26.703125 \nQ 51.703125 13.1875 44.984375 5.984375 \nQ 38.28125 -1.21875 29.296875 -1.21875 \nQ 20.171875 -1.21875 15.09375 6.5 \nL 14.890625 6.5 \nL 14.890625 0 \nL 6.6875 0 \nL 6.6875 71.578125 \nL 15.484375 71.578125 \nL 15.484375 46 \nz\nM 28.609375 6 \nQ 34.71875 6 38.6875 11.25 \nQ 42.671875 16.5 42.671875 25.984375 \nQ 42.671875 35.109375 39.015625 40.453125 \nQ 35.359375 45.796875 28.90625 45.796875 \nQ 22.5625 45.796875 18.671875 40.28125 \nQ 14.796875 34.765625 14.796875 26.3125 \nQ 14.796875 18.0625 16.40625 14.5625 \nQ 18.015625 11.078125 21.265625 8.53125 \nQ 24.515625 6 28.609375 6 \nz\n\" id=\"ArialUnicodeMS-98\"/>\n     <path d=\"M 35.59375 37.3125 \nQ 35.015625 41.546875 32.15625 43.671875 \nQ 29.296875 45.796875 24.21875 45.796875 \nQ 19.1875 45.796875 16.078125 44.09375 \nQ 12.984375 42.390625 12.984375 39.109375 \nQ 12.984375 36.03125 15.453125 34.71875 \nQ 17.921875 33.40625 25.203125 31.5 \nQ 33.40625 29.390625 37.46875 27.78125 \nQ 41.546875 26.171875 43.8125 23.265625 \nQ 46.09375 20.359375 46.09375 15.1875 \nQ 46.09375 8.25 40.421875 3.515625 \nQ 34.765625 -1.21875 25.296875 -1.21875 \nQ 15.4375 -1.21875 9.890625 2.953125 \nQ 4.34375 7.125 3.078125 15.484375 \nL 11.8125 16.796875 \nQ 12.5 11.375 15.84375 8.6875 \nQ 19.1875 6 25.203125 6 \nQ 30.953125 6 34.03125 8.421875 \nQ 37.109375 10.84375 37.109375 14.3125 \nQ 37.109375 16.65625 35.6875 18.0625 \nQ 34.28125 19.484375 32.15625 20.1875 \nQ 30.03125 20.90625 22.609375 22.703125 \nQ 11.578125 25.34375 8.03125 29.09375 \nQ 4.5 32.859375 4.5 38.09375 \nQ 4.5 44.578125 9.671875 48.78125 \nQ 14.84375 52.984375 23.578125 52.984375 \nQ 32.859375 52.984375 38.015625 49.34375 \nQ 43.171875 45.703125 44.1875 38.484375 \nz\n\" id=\"ArialUnicodeMS-115\"/>\n    </defs>\n    <g style=\"fill:#262626;\" transform=\"translate(135.122813 24.67125)scale(0.24 -0.24)\">\n     <use xlink:href=\"#ArialUnicodeMS-83\"/>\n     <use x=\"66.699219\" xlink:href=\"#ArialUnicodeMS-113\"/>\n     <use x=\"122.314453\" xlink:href=\"#ArialUnicodeMS-117\"/>\n     <use x=\"177.929688\" xlink:href=\"#ArialUnicodeMS-97\"/>\n     <use x=\"233.544922\" xlink:href=\"#ArialUnicodeMS-114\"/>\n     <use x=\"266.845703\" xlink:href=\"#ArialUnicodeMS-101\"/>\n     <use x=\"322.460938\" xlink:href=\"#ArialUnicodeMS-32\"/>\n     <use x=\"350.244141\" xlink:href=\"#ArialUnicodeMS-78\"/>\n     <use x=\"422.460938\" xlink:href=\"#ArialUnicodeMS-117\"/>\n     <use x=\"478.076172\" xlink:href=\"#ArialUnicodeMS-109\"/>\n     <use x=\"561.376953\" xlink:href=\"#ArialUnicodeMS-98\"/>\n     <use x=\"616.992188\" xlink:href=\"#ArialUnicodeMS-101\"/>\n     <use x=\"672.607422\" xlink:href=\"#ArialUnicodeMS-114\"/>\n     <use x=\"705.908203\" xlink:href=\"#ArialUnicodeMS-115\"/>\n    </g>\n   </g>\n  </g>\n </g>\n <defs>\n  <clipPath id=\"p7e4e4bba01\">\n   <rect height=\"217.44\" width=\"334.8\" x=\"58.425938\" y=\"30.67125\"/>\n  </clipPath>\n </defs>\n</svg>\n",
      "image/png": "[encoded data removed]"
     },
     "metadata": {}
    }
   ],
   "source": [
    "import matplotlib.pyplot as plt\n",
    "import seaborn as sns\n",
    "\n",
    "plt.rcParams['font.family'] = ['Arial Unicode MS'] #用来正常显示中文标签\n",
    "plt.rcParams['axes.unicode_minus'] = False #用来正常显示负号\n",
    " \n",
    "sns.set_style('whitegrid',{'font.sans-serif':['Arial Unicode MS','Arial']})\n",
    "\n",
    " \n",
    "x=[1,2,3,4,5]\n",
    "y=[1,4,9,16,12]\n",
    "y1=[3,4,8,2,16]\n",
    "\n",
    "#plt.plot(squares)\n",
    "plt.plot(x,y)\n",
    "plt.plot(x,y1)\n",
    "\n",
    "#设置图表标题，并给坐标轴加标签\n",
    "plt.title(\"Square Numbers\",fontsize=24)\n",
    "plt.xlabel(\"Value\",fontsize=14)\n",
    "plt.ylabel(\"Square of Value\",fontsize=14)\n",
    " \n",
    "#设置刻度标记的大小\n",
    "plt.tick_params(axis='both',labelsize=14)\n",
    "\n",
    "for x,y,y1 in zip(x,y,y1):\n",
    "    plt.text(x,y+0.05,'%.d' %y, ha='center',va='bottom')\n",
    "    plt.text(x,y1+0.05,'%.d' %y1, ha='center',va='bottom')\n",
    "\n",
    " \n",
    "plt.show()"
   ]
  },
  {
   "cell_type": "code",
   "execution_count": 136,
   "metadata": {},
   "outputs": [
    {
     "output_type": "display_data",
     "data": {
      "text/plain": "<Figure size 432x288 with 1 Axes>",
      "image/svg+xml": "<?xml version=\"1.0\" encoding=\"utf-8\" standalone=\"no\"?>\n<!DOCTYPE svg PUBLIC \"-//W3C//DTD SVG 1.1//EN\"\n  \"http://www.w3.org/Graphics/SVG/1.1/DTD/svg11.dtd\">\n<!-- Created with matplotlib (https://matplotlib.org/) -->\n<svg height=\"264.349375pt\" version=\"1.1\" viewBox=\"0 0 367.321875 264.349375\" width=\"367.321875pt\" xmlns=\"http://www.w3.org/2000/svg\" xmlns:xlink=\"http://www.w3.org/1999/xlink\">\n <defs>\n  <style type=\"text/css\">\n*{stroke-linecap:butt;stroke-linejoin:round;}\n  </style>\n </defs>\n <g id=\"figure_1\">\n  <g id=\"patch_1\">\n   <path d=\"M 0 264.349375 \nL 367.321875 264.349375 \nL 367.321875 0 \nL 0 0 \nz\n\" style=\"fill:#ffffff;\"/>\n  </g>\n  <g id=\"axes_1\">\n   <g id=\"patch_2\">\n    <path d=\"M 25.321875 240.99 \nL 360.121875 240.99 \nL 360.121875 23.55 \nL 25.321875 23.55 \nz\n\" style=\"fill:#ffffff;\"/>\n   </g>\n   <g id=\"matplotlib.axis_1\">\n    <g id=\"xtick_1\">\n     <g id=\"line2d_1\">\n      <path clip-path=\"url(#pf2085bd5db)\" d=\"M 67.171875 240.99 \nL 67.171875 23.55 \n\" style=\"fill:none;stroke:#cccccc;stroke-linecap:round;stroke-width:0.8;\"/>\n     </g>\n     <g id=\"text_1\">\n      <!-- 英语 -->\n      <defs>\n       <path d=\"M 91.21875 63.921875 \nL 70.515625 63.921875 \nL 70.515625 54.890625 \nL 62.890625 54.890625 \nL 62.890625 63.921875 \nL 35.203125 63.921875 \nL 35.203125 54.890625 \nL 27.59375 54.890625 \nL 27.59375 63.921875 \nL 6.78125 63.921875 \nL 6.78125 71.1875 \nL 27.59375 71.1875 \nL 27.59375 82.328125 \nL 35.203125 82.328125 \nL 35.203125 71.1875 \nL 62.890625 71.1875 \nL 62.890625 82.328125 \nL 70.515625 82.328125 \nL 70.515625 71.1875 \nL 91.21875 71.1875 \nz\nM 93.5 1.515625 \nL 87.984375 -6.203125 \nQ 60.453125 0.53125 50.203125 20.125 \nL 49.125 20.125 \nQ 38.421875 -0.046875 10.109375 -7.078125 \nL 4.984375 0.203125 \nQ 30.28125 5.125 39.703125 20.125 \nL 8.203125 20.125 \nL 8.203125 27.390625 \nL 18.796875 27.390625 \nL 18.796875 50.984375 \nL 45.90625 50.984375 \nL 45.90625 59.625 \nL 53.515625 59.625 \nL 53.515625 50.984375 \nL 79 50.984375 \nL 79 27.390625 \nL 89.3125 27.390625 \nL 89.3125 20.125 \nL 59.1875 20.125 \nQ 62.84375 13.234375 72.609375 8.171875 \nQ 82.375 3.125 93.5 1.515625 \nz\nM 71.390625 27.390625 \nL 71.390625 43.703125 \nL 53.71875 43.703125 \nQ 53.71875 34.765625 51.703125 27.390625 \nz\nM 45.703125 43.703125 \nL 26.421875 43.703125 \nL 26.421875 27.390625 \nL 43.109375 27.390625 \nQ 45.703125 34.71875 45.703125 43.703125 \nz\n\" id=\"ArialUnicodeMS-33521\"/>\n       <path d=\"M 29.984375 64.59375 \nL 23.6875 59.8125 \nQ 19.828125 67.875 10.984375 74.90625 \nL 16.3125 79.5 \nQ 24.703125 73.875 29.984375 64.59375 \nz\nM 93.609375 34.28125 \nL 31.6875 34.28125 \nL 31.6875 41.609375 \nL 48.578125 41.609375 \nL 51.515625 56 \nL 39.40625 56 \nL 39.40625 63.28125 \nL 52.875 63.28125 \nL 54.5 71.296875 \nL 35.296875 71.296875 \nL 35.296875 78.609375 \nL 87.5 78.609375 \nL 87.5 71.296875 \nL 62.203125 71.296875 \nL 60.59375 63.28125 \nL 82.515625 63.28125 \nL 80.328125 41.609375 \nL 93.609375 41.609375 \nz\nM 74.21875 56 \nL 59.28125 56 \nL 56.390625 41.609375 \nL 72.703125 41.609375 \nz\nM 38.71875 6.203125 \nL 22.125 -2.484375 \nL 17.578125 3.90625 \nQ 17.921875 4.546875 17.921875 7.421875 \nL 17.921875 44.578125 \nL 5.328125 44.578125 \nL 5.328125 51.90625 \nL 25.484375 51.90625 \nL 25.484375 7.625 \nL 38.71875 14.40625 \nz\nM 83.015625 -6.984375 \nL 75.390625 -6.984375 \nL 75.390625 -0.59375 \nL 50.203125 -0.59375 \nL 50.203125 -6.984375 \nL 42.578125 -6.984375 \nL 42.578125 28.609375 \nL 83.015625 28.609375 \nz\nM 75.390625 6.6875 \nL 75.390625 21.296875 \nL 50.203125 21.296875 \nL 50.203125 6.6875 \nz\n\" id=\"ArialUnicodeMS-35821\"/>\n      </defs>\n      <g style=\"fill:#262626;\" transform=\"translate(57.171875 255.147813)scale(0.1 -0.1)\">\n       <use xlink:href=\"#ArialUnicodeMS-33521\"/>\n       <use x=\"100\" xlink:href=\"#ArialUnicodeMS-35821\"/>\n      </g>\n     </g>\n    </g>\n    <g id=\"xtick_2\">\n     <g id=\"line2d_2\">\n      <path clip-path=\"url(#pf2085bd5db)\" d=\"M 150.871875 240.99 \nL 150.871875 23.55 \n\" style=\"fill:none;stroke:#cccccc;stroke-linecap:round;stroke-width:0.8;\"/>\n     </g>\n     <g id=\"text_2\">\n      <!-- 经济数学 -->\n      <defs>\n       <path d=\"M 44.1875 58.015625 \nQ 23.140625 30.171875 17.578125 25.390625 \nL 17.828125 25.203125 \nL 39.3125 29.6875 \nL 39.3125 23 \nL 9.1875 16.21875 \nL 5.71875 22.90625 \nQ 9.71875 26.609375 15.328125 33.21875 \nQ 20.953125 39.84375 23.390625 42.578125 \nQ 19.53125 42.09375 9.078125 39.890625 \nL 5.71875 46.578125 \nQ 14.453125 58.796875 26.609375 81.890625 \nL 32.8125 77.59375 \nQ 22.3125 58.84375 15.28125 48.296875 \nQ 15.96875 48.296875 21.015625 49.140625 \nQ 26.078125 50 29.390625 50.203125 \nQ 32.125 53.90625 37.890625 62.5 \nz\nM 93.796875 36.375 \nL 88.625 31.109375 \nQ 76.5625 41.015625 64.015625 46.1875 \nQ 55.078125 37.453125 39.109375 32.171875 \nL 34.28125 38.625 \nQ 60.6875 47.40625 72.796875 70.3125 \nL 39.203125 70.3125 \nL 39.203125 77.203125 \nL 82.625 77.203125 \nL 82.625 70.796875 \nQ 76.65625 60.15625 69.1875 51.90625 \nQ 87.59375 42.828125 93.796875 36.375 \nz\nM 93.609375 -3.328125 \nL 33.890625 -3.328125 \nL 33.890625 3.609375 \nL 59.28125 3.609375 \nL 59.28125 24.125 \nL 41.40625 24.125 \nL 41.40625 31.390625 \nL 84.71875 31.390625 \nL 84.71875 24.125 \nL 66.890625 24.125 \nL 66.890625 3.609375 \nL 93.609375 3.609375 \nz\nM 42.09375 10.296875 \nL 10.109375 -2 \nL 5.8125 5.421875 \nQ 14.84375 8.109375 26.46875 12.328125 \nQ 38.09375 16.546875 42.09375 17.921875 \nz\n\" id=\"ArialUnicodeMS-32463\"/>\n       <path d=\"M 95.21875 39.40625 \nL 89.703125 32.515625 \nQ 70.453125 37.3125 61.1875 43.703125 \nQ 46.4375 34.671875 31.5 32.71875 \nL 26.90625 39.40625 \nQ 46.046875 42.53125 54.78125 48 \nQ 47.21875 55.03125 41.3125 63.484375 \nL 31.59375 63.484375 \nL 31.59375 70.40625 \nL 56.984375 70.40625 \nQ 53.5625 76.265625 47.515625 79.78125 \nL 52.875 83.5 \nQ 60.203125 78.65625 64.015625 72.609375 \nL 59.71875 70.609375 \nL 59.71875 70.40625 \nL 89.890625 70.40625 \nL 89.890625 63.484375 \nL 81 63.484375 \nQ 76.609375 55.609375 67.28125 48.1875 \nQ 74.8125 43.3125 95.21875 39.40625 \nz\nM 72.21875 63.484375 \nL 49.515625 63.484375 \nQ 56.453125 55.71875 61.1875 52.203125 \nQ 67.875 56.984375 72.21875 63.484375 \nz\nM 29.109375 66.703125 \nL 23.296875 62.3125 \nQ 18.609375 69.96875 7.328125 76.421875 \nL 12.3125 81 \nQ 23.828125 74.078125 29.109375 66.703125 \nz\nM 25.984375 44.390625 \nL 20.515625 39.796875 \nQ 15.96875 47.078125 4.203125 54.78125 \nL 9.078125 59.28125 \nQ 19.734375 53.125 25.984375 44.390625 \nz\nM 54.296875 24.609375 \nQ 54.296875 2.640625 34.078125 -6.390625 \nL 29.296875 -0.09375 \nQ 34.28125 1.703125 38.71875 5.78125 \nQ 43.171875 9.859375 44.921875 13.671875 \nQ 46.6875 17.484375 46.6875 24.125 \nL 46.6875 35.296875 \nL 54.296875 35.296875 \nz\nM 77.875 -5.8125 \nL 70.3125 -5.8125 \nL 70.3125 34.8125 \nL 77.875 34.8125 \nz\nM 28.90625 30.90625 \nQ 19.875 4.4375 9.421875 -5.078125 \nL 3.609375 -0.484375 \nQ 15.28125 12.0625 22.015625 33.796875 \nz\n\" id=\"ArialUnicodeMS-27982\"/>\n       <path d=\"M 95.90625 0.296875 \nL 90.71875 -5.90625 \nQ 78.609375 3.03125 73.390625 11.1875 \nQ 67.875 2.25 52 -6.890625 \nL 46.578125 -0.78125 \nQ 61.96875 6.78125 68.796875 18.015625 \nQ 63.09375 28.65625 60.40625 43.015625 \nQ 57.46875 36.8125 52.390625 29.984375 \nL 46.09375 34.421875 \nQ 59.96875 49.5625 61.921875 82.078125 \nL 68.890625 80.078125 \nQ 67.828125 68.5 66.703125 62.59375 \nL 93.5 62.59375 \nL 93.5 55.421875 \nL 87.796875 55.328125 \nL 87.40625 52.203125 \nQ 85.015625 33.015625 77.78125 18.609375 \nQ 82.515625 10.5 95.90625 0.296875 \nz\nM 80.71875 55.328125 \nL 65.1875 55.328125 \nQ 67.140625 37.796875 73.296875 25.78125 \nQ 78.71875 39.265625 80.71875 55.328125 \nz\nM 53.71875 57.078125 \nL 34.515625 57.078125 \nL 34.515625 36.53125 \nL 29.984375 36.53125 \nQ 29.6875 35.453125 27.390625 30.171875 \nL 50.390625 30.171875 \nL 50.390625 23 \nL 45.515625 23 \nQ 43.171875 15.484375 39.109375 10.40625 \nQ 46.046875 5.515625 48.484375 2.875 \nL 42.921875 -2.6875 \nQ 38.484375 2.15625 33.59375 4.890625 \nQ 20.65625 -3.515625 8.796875 -6.6875 \nL 4.203125 0.09375 \nQ 17.28125 2.546875 26.3125 8.796875 \nQ 20.171875 11.8125 10.984375 13.8125 \nL 16.21875 23 \nL 6.296875 23 \nL 6.296875 30.171875 \nL 19.671875 30.171875 \nQ 20.75 32.125 22.90625 39.890625 \nL 27.296875 38.8125 \nL 27.296875 57.078125 \nL 26.8125 57.078125 \nQ 22.078125 45.015625 10.59375 38.375 \nL 5.90625 43.796875 \nQ 14.65625 48.296875 19.390625 57.078125 \nL 6.296875 57.078125 \nL 6.296875 64.40625 \nL 27.296875 64.40625 \nL 27.296875 81.6875 \nL 34.515625 81.6875 \nL 34.515625 64.40625 \nL 53.71875 64.40625 \nz\nM 37.59375 23 \nL 24.03125 23 \nQ 22.21875 19.390625 21.390625 18.015625 \nQ 21.6875 18.109375 32.328125 13.8125 \nQ 34.671875 16.109375 37.59375 23 \nz\nM 25.390625 69.390625 \nL 20.125 64.984375 \nQ 15.96875 71.046875 8.984375 75.203125 \nL 13.71875 79.296875 \nQ 21.78125 75.6875 25.390625 69.390625 \nz\nM 52.875 75.6875 \nQ 48.390625 68.890625 41.703125 65.1875 \nL 36.28125 70.015625 \nQ 43.84375 74.359375 47.609375 79.203125 \nz\nM 51.609375 45.125 \nL 46 40.28125 \nQ 42.28125 47.265625 35.796875 51.515625 \nL 40.375 55.71875 \nQ 46.6875 52.484375 51.609375 45.125 \nz\n\" id=\"ArialUnicodeMS-25968\"/>\n       <path d=\"M 90.484375 44.09375 \nL 82.90625 44.09375 \nL 82.90625 53.609375 \nL 16.890625 53.609375 \nL 16.890625 44.09375 \nL 9.1875 44.09375 \nL 9.1875 60.890625 \nL 61.8125 60.890625 \nQ 68.40625 69.875 71.921875 82.625 \nL 79.296875 79.59375 \nQ 76.609375 68.703125 70.3125 60.890625 \nL 90.484375 60.890625 \nz\nM 55.90625 65.578125 \nL 48.875 62.109375 \nQ 45.75 72.015625 38.1875 79.109375 \nL 44.484375 82.421875 \nQ 51.765625 75.4375 55.90625 65.578125 \nz\nM 33.6875 65.578125 \nL 27 61.71875 \nQ 25.046875 68.796875 14.59375 77 \nL 21.09375 80.90625 \nQ 29.390625 74.65625 33.6875 65.578125 \nz\nM 92.578125 19.671875 \nL 54.6875 19.671875 \nL 54.6875 1.125 \nQ 54.6875 -2.15625 52.25 -3.78125 \nQ 49.8125 -5.421875 48.484375 -5.421875 \nL 38.28125 -5.421875 \nL 35.40625 2.484375 \nL 46 2.09375 \nQ 47.125 2.09375 47.125 4.109375 \nL 47.125 19.671875 \nL 7.421875 19.671875 \nL 7.421875 27 \nL 47.015625 27 \nL 47.015625 30.90625 \nQ 54.5 33.34375 62.59375 38.375 \nL 22.40625 38.375 \nL 22.40625 45.703125 \nL 75.390625 45.703125 \nL 75.390625 38.921875 \nQ 64.203125 30.421875 55.078125 27 \nL 92.578125 27 \nz\n\" id=\"ArialUnicodeMS-23398\"/>\n      </defs>\n      <g style=\"fill:#262626;\" transform=\"translate(130.871875 255.147813)scale(0.1 -0.1)\">\n       <use xlink:href=\"#ArialUnicodeMS-32463\"/>\n       <use x=\"100\" xlink:href=\"#ArialUnicodeMS-27982\"/>\n       <use x=\"200\" xlink:href=\"#ArialUnicodeMS-25968\"/>\n       <use x=\"300\" xlink:href=\"#ArialUnicodeMS-23398\"/>\n      </g>\n     </g>\n    </g>\n    <g id=\"xtick_3\">\n     <g id=\"line2d_3\">\n      <path clip-path=\"url(#pf2085bd5db)\" d=\"M 234.571875 240.99 \nL 234.571875 23.55 \n\" style=\"fill:none;stroke:#cccccc;stroke-linecap:round;stroke-width:0.8;\"/>\n     </g>\n     <g id=\"text_3\">\n      <!-- 西方经济学 -->\n      <defs>\n       <path d=\"M 92.921875 69.921875 \nL 62.796875 69.921875 \nL 62.796875 54.984375 \nL 86.078125 54.984375 \nL 86.078125 -5.328125 \nL 78.515625 -5.328125 \nL 78.515625 2.6875 \nL 21.578125 2.6875 \nL 21.578125 -5.328125 \nL 13.921875 -5.328125 \nL 13.921875 54.984375 \nL 36.28125 54.984375 \nL 36.28125 69.921875 \nL 7.328125 69.921875 \nL 7.328125 77.203125 \nL 92.921875 77.203125 \nz\nM 55.171875 54.984375 \nL 55.171875 69.921875 \nL 43.796875 69.921875 \nL 43.796875 54.984375 \nz\nM 78.515625 10.015625 \nL 78.515625 47.703125 \nL 62.796875 47.703125 \nL 62.796875 31.890625 \nQ 62.796875 29.5 65.375 29.5 \nL 68.109375 29.5 \nQ 69.828125 29.5 71.296875 36.375 \nL 77.984375 32.625 \nQ 75.78125 22.21875 69.390625 22.21875 \nL 62.59375 22.21875 \nQ 55.328125 22.21875 55.328125 30.078125 \nL 55.328125 47.703125 \nL 43.890625 47.703125 \nQ 43.890625 27.828125 26.703125 17.671875 \nL 21.484375 22.703125 \nL 21.484375 10.015625 \nz\nM 35.984375 47.703125 \nL 21.484375 47.703125 \nL 21.484375 23.875 \nQ 29.734375 29 32.859375 34.390625 \nQ 35.984375 39.796875 35.984375 47.703125 \nz\n\" id=\"ArialUnicodeMS-35199\"/>\n       <path d=\"M 93.609375 59.421875 \nL 43.3125 59.421875 \nQ 43.3125 53.328125 42.671875 42.921875 \nL 80.328125 42.921875 \nQ 79.984375 27.34375 77.703125 14.546875 \nQ 75.4375 1.765625 72.140625 -0.96875 \nQ 68.84375 -3.71875 65.09375 -3.71875 \nQ 60.109375 -3.71875 46.921875 -0.390625 \nL 45.40625 8.5 \nQ 58.59375 3.71875 63.375 3.71875 \nQ 65.28125 3.71875 66.671875 5.25 \nQ 68.0625 6.78125 69.625 15.15625 \nQ 71.1875 23.53125 71.484375 35.59375 \nL 42.09375 35.59375 \nQ 38.625 17.140625 30.703125 7.515625 \nQ 22.796875 -2.09375 10.40625 -6.6875 \nL 5.171875 0.484375 \nQ 18.5 5.328125 24.359375 12.578125 \nQ 30.21875 19.828125 32.65625 28.171875 \nQ 35.109375 36.53125 35.109375 59.421875 \nL 10.109375 59.421875 \nL 10.109375 66.703125 \nL 46.1875 66.703125 \nL 46.1875 82.171875 \nL 53.8125 82.171875 \nL 53.8125 66.703125 \nL 93.609375 66.703125 \nz\n\" id=\"ArialUnicodeMS-26041\"/>\n      </defs>\n      <g style=\"fill:#262626;\" transform=\"translate(209.571875 255.147813)scale(0.1 -0.1)\">\n       <use xlink:href=\"#ArialUnicodeMS-35199\"/>\n       <use x=\"100\" xlink:href=\"#ArialUnicodeMS-26041\"/>\n       <use x=\"200\" xlink:href=\"#ArialUnicodeMS-32463\"/>\n       <use x=\"300\" xlink:href=\"#ArialUnicodeMS-27982\"/>\n       <use x=\"400\" xlink:href=\"#ArialUnicodeMS-23398\"/>\n      </g>\n     </g>\n    </g>\n    <g id=\"xtick_4\">\n     <g id=\"line2d_4\">\n      <path clip-path=\"url(#pf2085bd5db)\" d=\"M 318.271875 240.99 \nL 318.271875 23.55 \n\" style=\"fill:none;stroke:#cccccc;stroke-linecap:round;stroke-width:0.8;\"/>\n     </g>\n     <g id=\"text_4\">\n      <!-- 计算机应用基础 -->\n      <defs>\n       <path d=\"M 32.421875 69.09375 \nL 26.125 64.3125 \nQ 22.359375 72.125 13.375 79.390625 \nL 18.796875 83.984375 \nQ 27.203125 78.21875 32.421875 69.09375 \nz\nM 93.703125 46.1875 \nL 70.40625 46.1875 \nL 70.40625 -6.59375 \nL 62.796875 -6.59375 \nL 62.796875 46.1875 \nL 39.5 46.1875 \nL 39.5 53.515625 \nL 62.796875 53.515625 \nL 62.796875 83.203125 \nL 70.40625 83.203125 \nL 70.40625 53.515625 \nL 93.703125 53.515625 \nz\nM 44.578125 6 \nL 25 -4.78125 \nL 20.515625 1.609375 \nQ 22.015625 3.171875 22.015625 5.8125 \nL 22.015625 48.6875 \nL 7.421875 48.6875 \nL 7.421875 56 \nL 29.59375 56 \nL 29.59375 6.109375 \nL 44.578125 14.3125 \nz\n\" id=\"ArialUnicodeMS-35745\"/>\n       <path d=\"M 93.5 68.5 \nL 79.109375 68.5 \nQ 82.375 64.59375 82.625 63.1875 \nL 75.875 60.203125 \nQ 73.4375 66.0625 70.703125 68.5 \nL 60.984375 68.5 \nQ 57.328125 62.546875 54.203125 59.421875 \nL 47.3125 63.484375 \nQ 57.375 72.65625 58.6875 84.078125 \nL 65.1875 81.390625 \nQ 64.890625 77.6875 63.8125 75.78125 \nL 93.5 75.78125 \nz\nM 51.125 68.109375 \nL 39.59375 68.109375 \nQ 42.09375 65.140625 43.015625 62.890625 \nL 36.1875 59.71875 \nQ 33.6875 65.921875 31.5 68.109375 \nL 23.6875 68.109375 \nQ 19.96875 61.03125 11.71875 54.59375 \nL 4.984375 59.421875 \nQ 19.34375 68.65625 21 83.890625 \nL 27.6875 81.5 \nQ 27.390625 77.203125 26.515625 75.390625 \nL 51.125 75.390625 \nz\nM 92.390625 10.015625 \nL 66.703125 10.015625 \nL 66.703125 -7.328125 \nL 59.078125 -7.328125 \nL 59.078125 10.015625 \nL 42.828125 10.015625 \nQ 35.546875 -5.21875 9.1875 -7.515625 \nL 5.171875 0.09375 \nQ 29.046875 0.984375 34.90625 10.015625 \nL 10.109375 10.015625 \nL 10.109375 17.28125 \nL 36.078125 17.28125 \nL 36.078125 21.6875 \nL 20.703125 21.6875 \nL 20.703125 58.984375 \nL 79.890625 58.984375 \nL 79.890625 21.6875 \nL 66.703125 21.6875 \nL 66.703125 17.28125 \nL 92.390625 17.28125 \nz\nM 72.3125 48.578125 \nL 72.3125 52.09375 \nL 28.328125 52.09375 \nL 28.328125 48.578125 \nz\nM 72.3125 39.015625 \nL 72.3125 42.28125 \nL 28.328125 42.28125 \nL 28.328125 39.015625 \nz\nM 72.3125 28.609375 \nL 72.3125 32.71875 \nL 28.328125 32.71875 \nL 28.328125 28.609375 \nz\nM 59.078125 17.28125 \nL 59.078125 21.6875 \nL 43.703125 21.6875 \nL 43.703125 17.28125 \nz\n\" id=\"ArialUnicodeMS-31639\"/>\n       <path d=\"M 45.609375 30.90625 \nL 38.375 26.421875 \nQ 36.53125 33.6875 31.390625 40.375 \nL 31.390625 -6.390625 \nL 23.390625 -6.390625 \nL 23.390625 35.5 \nQ 19.53125 26.421875 11.28125 17.921875 \nL 5.421875 23 \nQ 18.453125 36.328125 22.796875 56.5 \nL 8.40625 56.5 \nL 8.40625 63.71875 \nL 23.484375 63.71875 \nL 23.484375 82.71875 \nL 31.390625 82.71875 \nL 31.390625 63.71875 \nL 45.21875 63.71875 \nL 45.21875 56.5 \nL 31.390625 56.5 \nL 31.390625 46.578125 \nL 34.515625 48.484375 \nQ 42.4375 40.71875 45.609375 30.90625 \nz\nM 97.515625 15.1875 \nQ 94.921875 2.390625 92.8125 -0.1875 \nQ 90.71875 -2.78125 87.109375 -2.78125 \nL 80.328125 -2.78125 \nQ 72.90625 -2.78125 72.90625 3.328125 \nL 72.90625 71 \nL 57.328125 71 \nL 57.328125 25.59375 \nQ 57.328125 7.671875 41.3125 -7.328125 \nL 34.515625 -1.703125 \nQ 49.703125 12.015625 49.703125 26.609375 \nL 49.703125 78.21875 \nL 80.515625 78.21875 \nL 80.515625 5.71875 \nQ 80.515625 4.390625 82.328125 4.390625 \nL 85.5 4.390625 \nQ 86.71875 4.390625 87.734375 6.4375 \nQ 88.765625 8.5 90.484375 19.921875 \nz\n\" id=\"ArialUnicodeMS-26426\"/>\n       <path d=\"M 92.484375 61.625 \nL 25.59375 61.625 \nL 25.140625 36.859375 \nQ 24.859375 24.65625 23.484375 17.9375 \nQ 22.125 11.234375 19.09375 5.828125 \nQ 16.0625 0.4375 10.5 -5.90625 \nL 4.59375 -0.59375 \nQ 10.59375 4.640625 13.59375 11.546875 \nQ 16.609375 18.453125 17.453125 28.953125 \nQ 18.3125 39.453125 18.109375 68.5 \nL 54.59375 68.5 \nQ 52.59375 72.90625 44.828125 78.421875 \nL 50.09375 83.40625 \nQ 58.015625 79.046875 62.890625 71.1875 \nL 60.296875 68.5 \nL 92.484375 68.5 \nz\nM 64.5 22.40625 \nL 57.078125 18.796875 \nQ 54.9375 36.1875 44.578125 52.390625 \nL 50.875 55.71875 \nQ 61.859375 41.0625 64.5 22.40625 \nz\nM 92.828125 -1.90625 \nL 22.21875 -1.90625 \nL 22.21875 5.421875 \nL 64.40625 5.421875 \nQ 76.265625 25.4375 79.203125 53.328125 \nL 86.375 50.78125 \nQ 83.6875 22.90625 72.90625 5.421875 \nL 92.828125 5.421875 \nz\nM 49.703125 13.8125 \nL 42.390625 9.515625 \nQ 38.875 28.375 26.8125 44.09375 \nL 33.59375 47.3125 \nQ 45.953125 31.78125 49.703125 13.8125 \nz\n\" id=\"ArialUnicodeMS-24212\"/>\n       <path d=\"M 85.5 2.484375 \nQ 85.5 -1.03125 83.4375 -3.421875 \nQ 81.390625 -5.8125 78.328125 -5.8125 \nL 67.921875 -5.8125 \nL 65.484375 2 \nL 73.78125 1.765625 \nQ 77.59375 1.765625 77.59375 4 \nL 77.59375 26.90625 \nL 55.8125 26.90625 \nL 55.8125 0.203125 \nL 48.1875 0.203125 \nL 48.1875 26.90625 \nL 26.21875 26.90625 \nQ 24.75 7.28125 11.625 -7.328125 \nL 5.171875 -2.484375 \nQ 12.40625 6.15625 15.640625 14.625 \nQ 18.890625 23.09375 18.890625 34.28125 \nL 18.890625 78.8125 \nL 85.5 78.8125 \nz\nM 77.59375 56.890625 \nL 77.59375 71.484375 \nL 55.8125 71.484375 \nL 55.8125 56.890625 \nz\nM 48.1875 56.890625 \nL 48.1875 71.484375 \nL 26.515625 71.484375 \nL 26.515625 56.890625 \nz\nM 77.59375 34.1875 \nL 77.59375 49.609375 \nL 55.8125 49.609375 \nL 55.8125 34.1875 \nz\nM 48.1875 34.1875 \nL 48.1875 49.609375 \nL 26.515625 49.609375 \nL 26.515625 34.1875 \nz\n\" id=\"ArialUnicodeMS-29992\"/>\n       <path d=\"M 98 16.609375 \nL 93.5 9.71875 \nQ 81.984375 13.234375 74.125 17.921875 \nL 74.03125 11.625 \nL 53.90625 11.625 \nL 53.90625 4.390625 \nL 91.109375 4.390625 \nL 91.109375 -2.78125 \nL 10.40625 -2.78125 \nL 10.40625 4.390625 \nL 46.296875 4.390625 \nL 46.296875 11.625 \nL 27.484375 11.625 \nL 27.484375 17.28125 \nQ 19.828125 12.0625 8.5 8.796875 \nL 3.609375 15.71875 \nQ 21.1875 19.484375 29.109375 27.78125 \nL 9.421875 27.78125 \nL 9.421875 35.015625 \nL 25.203125 35.015625 \nL 25.203125 67.828125 \nL 11.28125 67.828125 \nL 11.28125 74.609375 \nL 25.203125 74.609375 \nL 25.203125 82.90625 \nL 32.8125 82.90625 \nL 32.8125 74.609375 \nL 67.390625 74.609375 \nL 67.390625 83.203125 \nL 75 83.203125 \nL 75 74.609375 \nL 88.921875 74.609375 \nL 88.921875 67.828125 \nL 75 67.828125 \nL 75 35.015625 \nL 91.109375 35.015625 \nL 91.109375 27.78125 \nL 72.3125 27.78125 \nQ 80.90625 19.484375 98 16.609375 \nz\nM 67.390625 61.71875 \nL 67.390625 67.828125 \nL 32.8125 67.828125 \nL 32.8125 61.71875 \nz\nM 67.390625 48.484375 \nL 67.390625 54.890625 \nL 32.8125 54.890625 \nL 32.8125 48.484375 \nz\nM 67.390625 35.015625 \nL 67.390625 41.703125 \nL 32.8125 41.703125 \nL 32.8125 35.015625 \nz\nM 73.390625 18.40625 \nQ 67.09375 22.5625 63.625 27.78125 \nL 37.703125 27.78125 \nQ 34.28125 22.265625 28.90625 18.40625 \nL 46.296875 18.40625 \nL 46.296875 25.78125 \nL 53.90625 25.78125 \nL 53.90625 18.40625 \nz\n\" id=\"ArialUnicodeMS-22522\"/>\n       <path d=\"M 90.484375 -6 \nL 83.296875 -6 \nL 83.296875 -0.78125 \nL 45.015625 -0.78125 \nL 45.015625 34.515625 \nL 52.203125 34.515625 \nL 52.203125 6 \nL 63.71875 6 \nL 63.71875 40.484375 \nL 46.09375 40.484375 \nL 46.09375 69.484375 \nL 53.328125 69.484375 \nL 53.328125 47.796875 \nL 63.71875 47.796875 \nL 63.71875 83.015625 \nL 70.90625 83.015625 \nL 70.90625 47.796875 \nL 81.390625 47.796875 \nL 81.390625 69.484375 \nL 88.1875 69.484375 \nL 88.1875 40.484375 \nL 70.90625 40.484375 \nL 70.90625 6 \nL 83.296875 6 \nL 83.296875 34.515625 \nL 90.484375 34.515625 \nz\nM 42.828125 66.109375 \nL 27.984375 66.109375 \nQ 27.875 60.890625 24.90625 50.78125 \nL 39.40625 50.78125 \nL 39.40625 5.421875 \nL 32.171875 5.421875 \nL 32.171875 10.984375 \nL 23.1875 10.984375 \nL 23.1875 2.6875 \nL 16.015625 2.6875 \nL 16.015625 30.421875 \nL 15.828125 30.421875 \nQ 13.28125 25.921875 9.71875 21.78125 \nL 3.515625 27.09375 \nQ 17.671875 42.484375 20.90625 66.109375 \nL 6.109375 66.109375 \nL 6.109375 72.90625 \nL 42.828125 72.90625 \nz\nM 32.171875 18.3125 \nL 32.171875 43.5 \nL 23.1875 43.5 \nL 23.1875 18.3125 \nz\n\" id=\"ArialUnicodeMS-30784\"/>\n      </defs>\n      <g style=\"fill:#262626;\" transform=\"translate(283.271875 255.157188)scale(0.1 -0.1)\">\n       <use xlink:href=\"#ArialUnicodeMS-35745\"/>\n       <use x=\"100\" xlink:href=\"#ArialUnicodeMS-31639\"/>\n       <use x=\"200\" xlink:href=\"#ArialUnicodeMS-26426\"/>\n       <use x=\"300\" xlink:href=\"#ArialUnicodeMS-24212\"/>\n       <use x=\"400\" xlink:href=\"#ArialUnicodeMS-29992\"/>\n       <use x=\"500\" xlink:href=\"#ArialUnicodeMS-22522\"/>\n       <use x=\"600\" xlink:href=\"#ArialUnicodeMS-30784\"/>\n      </g>\n     </g>\n    </g>\n   </g>\n   <g id=\"matplotlib.axis_2\">\n    <g id=\"ytick_1\">\n     <g id=\"line2d_5\">\n      <path clip-path=\"url(#pf2085bd5db)\" d=\"M 25.321875 235.403597 \nL 360.121875 235.403597 \n\" style=\"fill:none;stroke:#cccccc;stroke-linecap:round;stroke-width:0.8;\"/>\n     </g>\n     <g id=\"text_5\">\n      <!-- 50 -->\n      <defs>\n       <path d=\"M 15.828125 43.015625 \nQ 22.359375 47.515625 29.390625 47.515625 \nQ 38.328125 47.515625 44.96875 41.1875 \nQ 51.609375 34.859375 51.609375 24.3125 \nQ 51.609375 13.671875 44.875 6.21875 \nQ 38.140625 -1.21875 27.203125 -1.21875 \nQ 18.265625 -1.21875 11.71875 3.828125 \nQ 5.171875 8.890625 4.203125 18.796875 \nL 13.375 19.484375 \nQ 14.5 12.703125 18.15625 9.34375 \nQ 21.828125 6 27.203125 6 \nQ 33.890625 6 38.03125 11.046875 \nQ 42.1875 16.109375 42.1875 23.484375 \nQ 42.1875 31 37.9375 35.34375 \nQ 33.6875 39.703125 27 39.703125 \nQ 18.5625 39.703125 14.015625 32.8125 \nL 5.71875 33.796875 \nL 12.703125 70.609375 \nL 48.1875 70.609375 \nL 48.1875 62.109375 \nL 19.671875 62.109375 \nz\n\" id=\"ArialUnicodeMS-53\"/>\n       <path d=\"M 27.78125 71.921875 \nQ 51.125 71.921875 51.125 35.296875 \nQ 51.125 16.796875 45.09375 7.78125 \nQ 39.0625 -1.21875 27.78125 -1.21875 \nQ 4.5 -1.21875 4.5 35.296875 \nQ 4.5 53.8125 10.515625 62.859375 \nQ 16.546875 71.921875 27.78125 71.921875 \nz\nM 27.78125 6 \nQ 34.859375 6 38.46875 12.859375 \nQ 42.09375 19.734375 42.09375 35.296875 \nQ 42.09375 46.140625 40.5 52.359375 \nQ 38.921875 58.59375 35.71875 61.640625 \nQ 32.515625 64.703125 27.6875 64.703125 \nQ 20.609375 64.703125 17.046875 57.71875 \nQ 13.484375 50.734375 13.484375 35.296875 \nQ 13.484375 24.609375 15.09375 18.359375 \nQ 16.703125 12.109375 19.875 9.046875 \nQ 23.046875 6 27.78125 6 \nz\n\" id=\"ArialUnicodeMS-48\"/>\n      </defs>\n      <g style=\"fill:#262626;\" transform=\"translate(7.2 238.982503)scale(0.1 -0.1)\">\n       <use xlink:href=\"#ArialUnicodeMS-53\"/>\n       <use x=\"55.615234\" xlink:href=\"#ArialUnicodeMS-48\"/>\n      </g>\n     </g>\n    </g>\n    <g id=\"ytick_2\">\n     <g id=\"line2d_6\">\n      <path clip-path=\"url(#pf2085bd5db)\" d=\"M 25.321875 192.431265 \nL 360.121875 192.431265 \n\" style=\"fill:none;stroke:#cccccc;stroke-linecap:round;stroke-width:0.8;\"/>\n     </g>\n     <g id=\"text_6\">\n      <!-- 60 -->\n      <defs>\n       <path d=\"M 13.09375 36.921875 \nQ 19.140625 46.390625 30.328125 46.390625 \nQ 39.109375 46.390625 45.265625 39.890625 \nQ 51.421875 33.40625 51.421875 23.296875 \nQ 51.421875 13.09375 45.28125 5.9375 \nQ 39.15625 -1.21875 29 -1.21875 \nQ 18.703125 -1.21875 11.453125 6.390625 \nQ 4.203125 14.015625 4.203125 33.5 \nQ 4.203125 52.640625 10.765625 62.28125 \nQ 17.328125 71.921875 29.78125 71.921875 \nQ 37.84375 71.921875 43.40625 67.421875 \nQ 48.96875 62.9375 50.203125 54.109375 \nL 41.40625 53.328125 \nQ 39.015625 64.703125 29.296875 64.703125 \nQ 22.5625 64.703125 17.71875 58 \nQ 12.890625 51.3125 12.890625 36.921875 \nz\nM 28.8125 6 \nQ 34.859375 6 38.625 10.875 \nQ 42.390625 15.765625 42.390625 22.703125 \nQ 42.390625 29.640625 38.625 34.171875 \nQ 34.859375 38.71875 28.515625 38.71875 \nQ 22.703125 38.71875 18.5 34.4375 \nQ 14.3125 30.171875 14.3125 23.1875 \nQ 14.3125 16.0625 18.4375 11.03125 \nQ 22.5625 6 28.8125 6 \nz\n\" id=\"ArialUnicodeMS-54\"/>\n      </defs>\n      <g style=\"fill:#262626;\" transform=\"translate(7.2 196.010171)scale(0.1 -0.1)\">\n       <use xlink:href=\"#ArialUnicodeMS-54\"/>\n       <use x=\"55.615234\" xlink:href=\"#ArialUnicodeMS-48\"/>\n      </g>\n     </g>\n    </g>\n    <g id=\"ytick_3\">\n     <g id=\"line2d_7\">\n      <path clip-path=\"url(#pf2085bd5db)\" d=\"M 25.321875 149.458933 \nL 360.121875 149.458933 \n\" style=\"fill:none;stroke:#cccccc;stroke-linecap:round;stroke-width:0.8;\"/>\n     </g>\n     <g id=\"text_7\">\n      <!-- 70 -->\n      <defs>\n       <path d=\"M 51.125 63.8125 \nQ 40.578125 52.25 32.859375 35.203125 \nQ 25.140625 18.171875 23.78125 0 \nL 14.796875 0 \nQ 15.140625 14.59375 22 32.046875 \nQ 28.859375 49.515625 39.796875 62.109375 \nL 4.78125 62.109375 \nL 4.78125 70.609375 \nL 51.125 70.609375 \nz\n\" id=\"ArialUnicodeMS-55\"/>\n      </defs>\n      <g style=\"fill:#262626;\" transform=\"translate(7.2 153.037839)scale(0.1 -0.1)\">\n       <use xlink:href=\"#ArialUnicodeMS-55\"/>\n       <use x=\"55.615234\" xlink:href=\"#ArialUnicodeMS-48\"/>\n      </g>\n     </g>\n    </g>\n    <g id=\"ytick_4\">\n     <g id=\"line2d_8\">\n      <path clip-path=\"url(#pf2085bd5db)\" d=\"M 25.321875 106.486601 \nL 360.121875 106.486601 \n\" style=\"fill:none;stroke:#cccccc;stroke-linecap:round;stroke-width:0.8;\"/>\n     </g>\n     <g id=\"text_8\">\n      <!-- 80 -->\n      <defs>\n       <path d=\"M 37.890625 38.71875 \nQ 51.3125 34.421875 51.3125 20.40625 \nQ 51.3125 11.1875 44.71875 4.984375 \nQ 38.140625 -1.21875 27.78125 -1.21875 \nQ 17.328125 -1.21875 10.765625 5.03125 \nQ 4.203125 11.28125 4.203125 20.703125 \nQ 4.203125 27.484375 7.890625 32.5625 \nQ 11.578125 37.640625 17.828125 38.71875 \nL 17.828125 38.921875 \nQ 7.078125 42.234375 7.078125 53.421875 \nQ 7.078125 61.328125 12.734375 66.625 \nQ 18.40625 71.921875 27.59375 71.921875 \nQ 36.921875 71.921875 42.65625 66.453125 \nQ 48.390625 60.984375 48.390625 53.21875 \nQ 48.390625 42.671875 37.890625 38.921875 \nz\nM 27.78125 42.1875 \nQ 32.71875 42.1875 36.0625 45.328125 \nQ 39.40625 48.484375 39.40625 53.21875 \nQ 39.40625 58.0625 36.015625 61.375 \nQ 32.625 64.703125 27.6875 64.703125 \nQ 22.65625 64.703125 19.375 61.421875 \nQ 16.109375 58.15625 16.109375 53.71875 \nQ 16.109375 48.390625 19.484375 45.28125 \nQ 22.859375 42.1875 27.78125 42.1875 \nz\nM 27.78125 6 \nQ 33.984375 6 38.125 10 \nQ 42.28125 14.015625 42.28125 20.40625 \nQ 42.28125 26.8125 38 30.90625 \nQ 33.734375 35.015625 27.59375 35.015625 \nQ 21.1875 35.015625 17.1875 30.78125 \nQ 13.1875 26.5625 13.1875 20.609375 \nQ 13.1875 14.40625 17.3125 10.203125 \nQ 21.4375 6 27.78125 6 \nz\n\" id=\"ArialUnicodeMS-56\"/>\n      </defs>\n      <g style=\"fill:#262626;\" transform=\"translate(7.2 110.065507)scale(0.1 -0.1)\">\n       <use xlink:href=\"#ArialUnicodeMS-56\"/>\n       <use x=\"55.615234\" xlink:href=\"#ArialUnicodeMS-48\"/>\n      </g>\n     </g>\n    </g>\n    <g id=\"ytick_5\">\n     <g id=\"line2d_9\">\n      <path clip-path=\"url(#pf2085bd5db)\" d=\"M 25.321875 63.514269 \nL 360.121875 63.514269 \n\" style=\"fill:none;stroke:#cccccc;stroke-linecap:round;stroke-width:0.8;\"/>\n     </g>\n     <g id=\"text_9\">\n      <!-- 90 -->\n      <defs>\n       <path d=\"M 42.390625 33.6875 \nQ 39.796875 29.5 35.28125 26.90625 \nQ 30.765625 24.3125 25.484375 24.3125 \nQ 16.65625 24.3125 10.46875 30.78125 \nQ 4.296875 37.25 4.296875 47.703125 \nQ 4.296875 58.34375 10.59375 65.125 \nQ 16.890625 71.921875 26.8125 71.921875 \nQ 36.765625 71.921875 44.03125 64.15625 \nQ 51.3125 56.390625 51.3125 37.3125 \nQ 51.3125 17.921875 44.671875 8.34375 \nQ 38.03125 -1.21875 25.6875 -1.21875 \nQ 17.625 -1.21875 12.203125 3.203125 \nQ 6.78125 7.625 5.609375 16.609375 \nL 14.015625 17.28125 \nQ 16.015625 6 25.875 6 \nQ 33.984375 6 38.28125 13.390625 \nQ 42.578125 20.796875 42.578125 33.6875 \nz\nM 27.59375 31.984375 \nQ 34.03125 31.984375 37.8125 36.546875 \nQ 41.609375 41.109375 41.609375 48.09375 \nQ 41.609375 55.171875 37.71875 59.9375 \nQ 33.84375 64.703125 27.78125 64.703125 \nQ 21.6875 64.703125 17.484375 59.640625 \nQ 13.28125 54.59375 13.28125 47.40625 \nQ 13.28125 40.625 17.40625 36.296875 \nQ 21.53125 31.984375 27.59375 31.984375 \nz\n\" id=\"ArialUnicodeMS-57\"/>\n      </defs>\n      <g style=\"fill:#262626;\" transform=\"translate(7.2 67.093175)scale(0.1 -0.1)\">\n       <use xlink:href=\"#ArialUnicodeMS-57\"/>\n       <use x=\"55.615234\" xlink:href=\"#ArialUnicodeMS-48\"/>\n      </g>\n     </g>\n    </g>\n   </g>\n   <g id=\"line2d_10\">\n    <path clip-path=\"url(#pf2085bd5db)\" d=\"M 48.339375 119.3783 \nL 86.004375 119.3783 \nL 86.004375 72.108735 \nL 48.339375 72.108735 \nL 48.339375 119.3783 \n\" style=\"fill:none;stroke:#000000;stroke-linecap:round;\"/>\n   </g>\n   <g id=\"line2d_11\">\n    <path clip-path=\"url(#pf2085bd5db)\" d=\"M 67.171875 119.3783 \nL 67.171875 149.458933 \n\" style=\"fill:none;stroke:#000000;stroke-linecap:round;\"/>\n   </g>\n   <g id=\"line2d_12\">\n    <path clip-path=\"url(#pf2085bd5db)\" d=\"M 67.171875 72.108735 \nL 67.171875 33.433636 \n\" style=\"fill:none;stroke:#000000;stroke-linecap:round;\"/>\n   </g>\n   <g id=\"line2d_13\">\n    <path clip-path=\"url(#pf2085bd5db)\" d=\"M 57.755625 149.458933 \nL 76.588125 149.458933 \n\" style=\"fill:none;stroke:#000000;stroke-linecap:round;\"/>\n   </g>\n   <g id=\"line2d_14\">\n    <path clip-path=\"url(#pf2085bd5db)\" d=\"M 57.755625 33.433636 \nL 76.588125 33.433636 \n\" style=\"fill:none;stroke:#000000;stroke-linecap:round;\"/>\n   </g>\n   <g id=\"line2d_15\"/>\n   <g id=\"line2d_16\">\n    <path clip-path=\"url(#pf2085bd5db)\" d=\"M 132.039375 175.242332 \nL 169.704375 175.242332 \nL 169.704375 106.486601 \nL 132.039375 106.486601 \nL 132.039375 175.242332 \n\" style=\"fill:none;stroke:#000000;stroke-linecap:round;\"/>\n   </g>\n   <g id=\"line2d_17\">\n    <path clip-path=\"url(#pf2085bd5db)\" d=\"M 150.871875 175.242332 \nL 150.871875 231.106364 \n\" style=\"fill:none;stroke:#000000;stroke-linecap:round;\"/>\n   </g>\n   <g id=\"line2d_18\">\n    <path clip-path=\"url(#pf2085bd5db)\" d=\"M 150.871875 106.486601 \nL 150.871875 42.028103 \n\" style=\"fill:none;stroke:#000000;stroke-linecap:round;\"/>\n   </g>\n   <g id=\"line2d_19\">\n    <path clip-path=\"url(#pf2085bd5db)\" d=\"M 141.455625 231.106364 \nL 160.288125 231.106364 \n\" style=\"fill:none;stroke:#000000;stroke-linecap:round;\"/>\n   </g>\n   <g id=\"line2d_20\">\n    <path clip-path=\"url(#pf2085bd5db)\" d=\"M 141.455625 42.028103 \nL 160.288125 42.028103 \n\" style=\"fill:none;stroke:#000000;stroke-linecap:round;\"/>\n   </g>\n   <g id=\"line2d_21\"/>\n   <g id=\"line2d_22\">\n    <path clip-path=\"url(#pf2085bd5db)\" d=\"M 215.739375 115.081067 \nL 253.404375 115.081067 \nL 253.404375 76.405968 \nL 215.739375 76.405968 \nL 215.739375 115.081067 \n\" style=\"fill:none;stroke:#000000;stroke-linecap:round;\"/>\n   </g>\n   <g id=\"line2d_23\">\n    <path clip-path=\"url(#pf2085bd5db)\" d=\"M 234.571875 115.081067 \nL 234.571875 166.647866 \n\" style=\"fill:none;stroke:#000000;stroke-linecap:round;\"/>\n   </g>\n   <g id=\"line2d_24\">\n    <path clip-path=\"url(#pf2085bd5db)\" d=\"M 234.571875 76.405968 \nL 234.571875 50.622569 \n\" style=\"fill:none;stroke:#000000;stroke-linecap:round;\"/>\n   </g>\n   <g id=\"line2d_25\">\n    <path clip-path=\"url(#pf2085bd5db)\" d=\"M 225.155625 166.647866 \nL 243.988125 166.647866 \n\" style=\"fill:none;stroke:#000000;stroke-linecap:round;\"/>\n   </g>\n   <g id=\"line2d_26\">\n    <path clip-path=\"url(#pf2085bd5db)\" d=\"M 225.155625 50.622569 \nL 243.988125 50.622569 \n\" style=\"fill:none;stroke:#000000;stroke-linecap:round;\"/>\n   </g>\n   <g id=\"line2d_27\"/>\n   <g id=\"line2d_28\">\n    <path clip-path=\"url(#pf2085bd5db)\" d=\"M 299.439375 130.121383 \nL 337.104375 130.121383 \nL 337.104375 100.040751 \nL 299.439375 100.040751 \nL 299.439375 130.121383 \n\" style=\"fill:none;stroke:#000000;stroke-linecap:round;\"/>\n   </g>\n   <g id=\"line2d_29\">\n    <path clip-path=\"url(#pf2085bd5db)\" d=\"M 318.271875 130.121383 \nL 318.271875 162.350632 \n\" style=\"fill:none;stroke:#000000;stroke-linecap:round;\"/>\n   </g>\n   <g id=\"line2d_30\">\n    <path clip-path=\"url(#pf2085bd5db)\" d=\"M 318.271875 100.040751 \nL 318.271875 85.000435 \n\" style=\"fill:none;stroke:#000000;stroke-linecap:round;\"/>\n   </g>\n   <g id=\"line2d_31\">\n    <path clip-path=\"url(#pf2085bd5db)\" d=\"M 308.855625 162.350632 \nL 327.688125 162.350632 \n\" style=\"fill:none;stroke:#000000;stroke-linecap:round;\"/>\n   </g>\n   <g id=\"line2d_32\">\n    <path clip-path=\"url(#pf2085bd5db)\" d=\"M 308.855625 85.000435 \nL 327.688125 85.000435 \n\" style=\"fill:none;stroke:#000000;stroke-linecap:round;\"/>\n   </g>\n   <g id=\"line2d_33\">\n    <defs>\n     <path d=\"M 0 3 \nC 0.795609 3 1.55874 2.683901 2.12132 2.12132 \nC 2.683901 1.55874 3 0.795609 3 0 \nC 3 -0.795609 2.683901 -1.55874 2.12132 -2.12132 \nC 1.55874 -2.683901 0.795609 -3 0 -3 \nC -0.795609 -3 -1.55874 -2.683901 -2.12132 -2.12132 \nC -2.683901 -1.55874 -3 -0.795609 -3 0 \nC -3 0.795609 -2.683901 1.55874 -2.12132 2.12132 \nC -1.55874 2.683901 -0.795609 3 0 3 \nz\n\" id=\"mb4323070e5\" style=\"stroke:#000000;\"/>\n    </defs>\n    <g clip-path=\"url(#pf2085bd5db)\">\n     <use style=\"fill-opacity:0;stroke:#000000;\" x=\"318.271875\" xlink:href=\"#mb4323070e5\" y=\"42.028103\"/>\n    </g>\n   </g>\n   <g id=\"line2d_34\">\n    <path clip-path=\"url(#pf2085bd5db)\" d=\"M 48.339375 93.594901 \nL 86.004375 93.594901 \n\" style=\"fill:none;stroke:#348abd;stroke-linecap:round;\"/>\n   </g>\n   <g id=\"line2d_35\">\n    <path clip-path=\"url(#pf2085bd5db)\" d=\"M 132.039375 132.27 \nL 169.704375 132.27 \n\" style=\"fill:none;stroke:#348abd;stroke-linecap:round;\"/>\n   </g>\n   <g id=\"line2d_36\">\n    <path clip-path=\"url(#pf2085bd5db)\" d=\"M 215.739375 102.189368 \nL 253.404375 102.189368 \n\" style=\"fill:none;stroke:#348abd;stroke-linecap:round;\"/>\n   </g>\n   <g id=\"line2d_37\">\n    <path clip-path=\"url(#pf2085bd5db)\" d=\"M 299.439375 106.486601 \nL 337.104375 106.486601 \n\" style=\"fill:none;stroke:#348abd;stroke-linecap:round;\"/>\n   </g>\n   <g id=\"patch_3\">\n    <path d=\"M 25.321875 240.99 \nL 25.321875 23.55 \n\" style=\"fill:none;stroke:#cccccc;stroke-linecap:square;stroke-linejoin:miter;\"/>\n   </g>\n   <g id=\"patch_4\">\n    <path d=\"M 360.121875 240.99 \nL 360.121875 23.55 \n\" style=\"fill:none;stroke:#cccccc;stroke-linecap:square;stroke-linejoin:miter;\"/>\n   </g>\n   <g id=\"patch_5\">\n    <path d=\"M 25.321875 240.99 \nL 360.121875 240.99 \n\" style=\"fill:none;stroke:#cccccc;stroke-linecap:square;stroke-linejoin:miter;\"/>\n   </g>\n   <g id=\"patch_6\">\n    <path d=\"M 25.321875 23.55 \nL 360.121875 23.55 \n\" style=\"fill:none;stroke:#cccccc;stroke-linecap:square;stroke-linejoin:miter;\"/>\n   </g>\n   <g id=\"text_10\">\n    <!-- 相关成绩线箱图 -->\n    <defs>\n     <path d=\"M 47.015625 27.984375 \nL 40.09375 23.484375 \nQ 36.28125 30.859375 31.296875 37.59375 \nL 31.296875 -6.5 \nL 23.578125 -6.5 \nL 23.578125 32.71875 \nQ 20.515625 23.390625 10.296875 10.59375 \nL 4.296875 15.1875 \nQ 16.453125 30.765625 22.796875 56.296875 \nL 8.109375 56.296875 \nL 8.109375 63.625 \nL 23.6875 63.625 \nL 23.6875 82.8125 \nL 31.296875 82.8125 \nL 31.296875 63.625 \nL 45.015625 63.625 \nL 45.015625 56.296875 \nL 31.296875 56.296875 \nL 31.296875 45.3125 \nL 33.296875 46.484375 \nQ 41.890625 38.03125 47.015625 27.984375 \nz\nM 88.921875 -6.5 \nL 80.90625 -6.5 \nL 80.90625 0.59375 \nL 57.171875 0.59375 \nL 57.171875 -6.5 \nL 49.21875 -6.5 \nL 49.21875 77.59375 \nL 88.921875 77.59375 \nz\nM 80.90625 55.421875 \nL 80.90625 70.3125 \nL 57.171875 70.3125 \nL 57.171875 55.421875 \nz\nM 80.90625 32.171875 \nL 80.90625 48.09375 \nL 57.171875 48.09375 \nL 57.171875 32.171875 \nz\nM 80.90625 7.90625 \nL 80.90625 24.90625 \nL 57.171875 24.90625 \nL 57.171875 7.90625 \nz\n\" id=\"ArialUnicodeMS-30456\"/>\n     <path d=\"M 91.890625 -0.59375 \nL 86.1875 -6.203125 \nQ 73.296875 -0.984375 64.875 7.1875 \nQ 56.453125 15.375 50.6875 30.328125 \nL 49.3125 30.328125 \nQ 45.015625 17.71875 33.421875 7.296875 \nQ 21.828125 -3.125 8.984375 -6.203125 \nL 3.8125 -0.203125 \nQ 17.53125 4.25 27.609375 12.546875 \nQ 37.703125 20.84375 41.3125 30.328125 \nL 5.71875 30.328125 \nL 5.71875 37.59375 \nL 43.109375 37.59375 \nQ 43.5 41.0625 43.5 55.078125 \nL 11.53125 55.078125 \nL 11.53125 62.015625 \nL 34.71875 62.015625 \nQ 29.4375 72.078125 22.515625 79.78125 \nL 28.71875 82.90625 \nQ 36.859375 74.75 42.921875 62.015625 \nL 52.78125 62.015625 \nQ 58.203125 69.53125 63.625 83.109375 \nL 70.609375 79.984375 \nQ 65.765625 69.140625 60.984375 62.015625 \nL 85.015625 62.015625 \nL 85.015625 55.078125 \nL 51.125 55.078125 \nQ 50.828125 40.53125 50.484375 37.59375 \nL 90.921875 37.59375 \nL 90.921875 30.328125 \nL 59.078125 30.328125 \nQ 66.75 10.453125 91.890625 -0.59375 \nz\n\" id=\"ArialUnicodeMS-20851\"/>\n     <path d=\"M 94.484375 12.59375 \nQ 94.578125 10.40625 92.640625 4.078125 \nQ 90.71875 -2.25 89.203125 -4.3125 \nQ 87.703125 -6.390625 84.8125 -6.390625 \nQ 80.609375 -6.390625 74.234375 0.734375 \nQ 67.875 7.859375 64.890625 14.796875 \nQ 54.9375 4.25 44.671875 -2 \nL 37.796875 3.328125 \nQ 52.15625 11.078125 61.28125 22.015625 \nQ 56.109375 34.625 53.71875 58.890625 \nL 23.6875 58.890625 \nL 23.6875 45.3125 \nL 50.390625 45.3125 \nQ 49.703125 25.34375 47.1875 17.8125 \nQ 44.671875 10.296875 36.53125 10.296875 \nQ 33.59375 10.296875 28.421875 11.078125 \nL 25.09375 19.390625 \nQ 31.390625 17.484375 36.921875 17.484375 \nQ 40.375 17.484375 41.375 23.515625 \nQ 42.390625 29.546875 42.578125 37.984375 \nL 23.578125 37.984375 \nQ 23.140625 16.9375 19.84375 7.75 \nQ 16.546875 -1.421875 11.375 -7.171875 \nL 4.984375 -2.390625 \nQ 15.625 8.453125 15.828125 31.390625 \nL 16.109375 66.21875 \nL 52.984375 66.21875 \nQ 52.484375 78.078125 52.484375 83.109375 \nL 60.015625 83.109375 \nQ 60.15625 72.171875 60.59375 66.21875 \nL 89.796875 66.21875 \nL 89.796875 58.890625 \nL 61.078125 58.890625 \nQ 62.890625 39.015625 67 28.71875 \nQ 73.96875 37.703125 79.78125 53.609375 \nL 86.71875 51.3125 \nQ 79.890625 32.421875 70.3125 20.703125 \nQ 74.03125 13.578125 78.25 7.78125 \nQ 82.46875 2 84.515625 2 \nQ 85.15625 2 86.078125 7.21875 \nQ 87.015625 12.453125 87.109375 16.890625 \nz\nM 88.28125 72.796875 \nL 82.90625 68.109375 \nQ 73.25 75.921875 63.484375 77 \nL 69.484375 82.421875 \nQ 80.375 79.984375 88.28125 72.796875 \nz\n\" id=\"ArialUnicodeMS-25104\"/>\n     <path d=\"M 90.71875 45.515625 \nL 34.1875 45.515625 \nL 34.1875 52.390625 \nL 58.5 52.390625 \nL 58.5 57.078125 \nL 39.703125 57.078125 \nL 39.703125 64.015625 \nL 58.5 64.015625 \nL 58.5 68.40625 \nL 37.703125 68.40625 \nL 37.703125 75.296875 \nL 58.5 75.296875 \nL 58.5 83.296875 \nL 66.109375 83.296875 \nL 66.109375 75.296875 \nL 86.8125 75.296875 \nL 86.8125 68.40625 \nL 66.109375 68.40625 \nL 66.109375 64.015625 \nL 85.203125 64.015625 \nL 85.203125 57.078125 \nL 66.109375 57.078125 \nL 66.109375 52.390625 \nL 90.71875 52.390625 \nz\nM 36.71875 60.6875 \nQ 26.46875 41.890625 17.28125 32.90625 \nL 17.484375 32.71875 \nL 35.890625 36.71875 \nL 35.890625 29.59375 \nQ 14.890625 25.734375 9.1875 23 \nL 5.515625 29.984375 \nQ 14.015625 37.640625 20.515625 47.703125 \nQ 12.15625 46.1875 8.109375 45.21875 \nQ 6.640625 47.75 4.59375 52 \nQ 12.40625 61.234375 23.484375 82.625 \nL 29.890625 79.203125 \nQ 17.09375 56.78125 14.3125 53.8125 \nQ 20.453125 54.59375 24.8125 55.328125 \nQ 28.171875 60.40625 30.171875 64.59375 \nz\nM 83.890625 12.203125 \nL 76.3125 12.203125 \nL 76.3125 36.1875 \nL 48.1875 36.1875 \nL 48.1875 11.1875 \nL 40.578125 11.1875 \nL 40.578125 43.109375 \nL 83.890625 43.109375 \nz\nM 66.703125 33.6875 \nQ 66.703125 18.75 63.9375 12.59375 \nQ 61.1875 6.453125 51.609375 0.953125 \nQ 42.046875 -4.546875 25.484375 -6.203125 \nL 21 0.78125 \nQ 31 2.046875 37.5 3.46875 \nQ 44 4.890625 49.140625 7.6875 \nQ 54.296875 10.5 56.15625 13.578125 \nQ 58.015625 16.65625 58.40625 20.0625 \nQ 58.796875 23.484375 59.078125 33.6875 \nz\nM 37.796875 16.796875 \nQ 27.34375 12.3125 8.59375 6.296875 \nL 4.109375 13.484375 \nQ 23.34375 18.21875 37.796875 24.21875 \nz\nM 93.109375 -0.203125 \nL 88.484375 -5.71875 \nQ 78.171875 2.390625 69.28125 6 \nL 64.109375 8.109375 \nL 68.40625 13.625 \nQ 81.9375 9.515625 93.109375 -0.203125 \nz\n\" id=\"ArialUnicodeMS-32489\"/>\n     <path d=\"M 39.109375 62.203125 \nQ 29.734375 41.015625 17.828125 30.421875 \nL 18.015625 30.171875 \nL 38.1875 33.5 \nL 38.375 26.703125 \nQ 22.3125 23.96875 8.984375 20.515625 \nL 5.328125 27.6875 \nQ 14.59375 34.90625 21 45.609375 \nL 8.796875 42.578125 \nL 5.421875 50.09375 \nQ 16.546875 64.9375 20.703125 83.109375 \nQ 21.921875 82.625 24.234375 81.390625 \nQ 26.5625 80.171875 27.984375 79.6875 \nQ 22.515625 61.671875 14.984375 51.8125 \nQ 24.953125 52.734375 25.78125 53.078125 \nQ 30.375 61.53125 32.171875 66.015625 \nz\nM 93.703125 7.515625 \nQ 92.578125 0.6875 90.75 -2.65625 \nQ 88.921875 -6 85.890625 -6 \nQ 83.109375 -6 76.078125 -1.796875 \nQ 69.046875 2.390625 62.984375 10.40625 \nQ 56.15625 2.9375 37.3125 -5.328125 \nL 32.625 1.125 \nQ 48.390625 7.28125 58.796875 17 \nQ 54.734375 24.21875 53.21875 37.796875 \nL 38.8125 35.5 \nL 37.59375 42.578125 \nL 52.78125 45.3125 \nL 52.78125 53.078125 \nL 40.71875 51.21875 \nL 39.40625 58.296875 \nL 52.78125 60.796875 \nL 52.78125 81.390625 \nQ 58.796875 82.625 60.40625 82.71875 \nL 60.40625 62.109375 \nL 84.515625 66.109375 \nL 85.890625 59.078125 \nQ 71.09375 56.59375 60.40625 54.390625 \nL 60.40625 46.78125 \nL 90.1875 52.203125 \nQ 91.015625 49.21875 91.5 44.921875 \nL 60.6875 39.3125 \nQ 62.3125 28.03125 64.796875 22.90625 \nQ 73.921875 31.109375 79.296875 38.8125 \nL 85.203125 34.71875 \nQ 73.921875 21.140625 68.3125 16.015625 \nQ 74.265625 7.125 84.421875 2.390625 \nQ 85.84375 5.90625 86.078125 11.71875 \nz\nM 80.71875 71 \nL 75.484375 66.015625 \nQ 69.96875 72.75 62.796875 75.875 \nL 67.28125 80.90625 \nQ 74.75 77.4375 80.71875 71 \nz\nM 40.28125 13.625 \nL 8.296875 2.09375 \nQ 7.8125 3.078125 6.4375 5.421875 \nQ 5.078125 7.765625 4.390625 9.421875 \nL 40.28125 21.390625 \nz\n\" id=\"ArialUnicodeMS-32447\"/>\n     <path d=\"M 94.671875 66.796875 \nL 76.21875 66.796875 \nQ 77.546875 65.53125 81.390625 57.90625 \nL 73.78125 54.984375 \nQ 71.4375 62.890625 66.609375 66.796875 \nL 61.71875 66.796875 \nQ 58.0625 60.546875 51.703125 54.5 \nL 44.1875 58.40625 \nQ 49.46875 62.75 51.8125 66.109375 \nL 37.984375 66.109375 \nQ 40.625 61.859375 42 56.984375 \nQ 35.9375 53.375 35.109375 53.21875 \nQ 31.78125 64.015625 28.515625 66.109375 \nL 23.578125 66.109375 \nQ 20.75 60.796875 12.203125 51.515625 \nL 5.171875 56.390625 \nQ 17.28125 66.84375 21.78125 83.59375 \nL 28.515625 81 \nQ 28.375 77.15625 27.09375 73.390625 \nL 52.78125 73.390625 \nL 52.6875 66.890625 \nQ 57.765625 75.59375 60.109375 84.625 \nL 67 81.890625 \nQ 66.703125 78.171875 65.1875 74.125 \nL 94.671875 74.125 \nz\nM 49.8125 18.109375 \nL 44.1875 12.40625 \nQ 38.1875 24.8125 33.015625 27.296875 \nL 33.015625 -6.203125 \nL 25.390625 -6.203125 \nL 25.390625 22.703125 \nQ 22.125 16.3125 11.1875 6.59375 \nL 4.59375 11.1875 \nQ 21.6875 25.875 25.203125 37.984375 \nL 9.1875 37.984375 \nL 9.1875 45.3125 \nL 25.390625 45.3125 \nL 25.390625 58.203125 \nL 33.015625 58.203125 \nL 33.015625 45.3125 \nL 48.09375 45.3125 \nL 48.09375 37.984375 \nL 33.015625 37.984375 \nL 33.015625 32.8125 \nL 35.296875 34.1875 \nQ 45.453125 27.828125 49.8125 18.109375 \nz\nM 88.921875 -6.203125 \nL 81.296875 -6.203125 \nL 81.296875 0 \nL 57.515625 0 \nL 57.515625 -6.203125 \nL 49.90625 -6.203125 \nL 49.90625 53.8125 \nL 88.921875 53.8125 \nz\nM 81.296875 38.8125 \nL 81.296875 46.484375 \nL 57.515625 46.484375 \nL 57.515625 38.8125 \nz\nM 81.296875 23.578125 \nL 81.296875 31.5 \nL 57.515625 31.5 \nL 57.515625 23.578125 \nz\nM 81.296875 7.328125 \nL 81.296875 16.3125 \nL 57.515625 16.3125 \nL 57.515625 7.328125 \nz\n\" id=\"ArialUnicodeMS-31665\"/>\n     <path d=\"M 86.625 -6.59375 \nL 79 -6.59375 \nL 79 0.296875 \nL 18.5 0.296875 \nL 18.5 -6.59375 \nL 10.984375 -6.59375 \nL 10.984375 78.421875 \nL 86.625 78.421875 \nz\nM 79 37.5 \nL 79 71.09375 \nL 41.015625 71.09375 \nL 41.015625 70.90625 \nL 45.40625 69 \nQ 44.734375 67.53125 43.40625 65.28125 \nL 70.515625 65.28125 \nL 70.515625 59.078125 \nQ 65.671875 50.046875 57.421875 43.40625 \nQ 66.0625 38.375 79 37.5 \nz\nM 79 7.171875 \nL 79 33.796875 \nL 78.8125 33.796875 \nL 75.484375 28.90625 \nQ 62.703125 30.671875 49.8125 38.484375 \nQ 42.390625 34.1875 23.6875 29.6875 \nL 20.015625 37.3125 \nQ 36.578125 40.375 43.5 44.28125 \nQ 39.75 47.21875 35.296875 53.328125 \nQ 30.328125 47.359375 24.609375 44.828125 \nL 19.578125 51.515625 \nQ 32.375 57.125 37.796875 71.09375 \nL 18.609375 71.09375 \nL 18.609375 7.171875 \nL 50.484375 7.171875 \nQ 43.265625 14.84375 33.203125 19.1875 \nL 37.5 25.09375 \nQ 47.171875 21.4375 57.71875 11.1875 \nL 54.5 7.171875 \nz\nM 62.40625 23.296875 \nL 56.6875 17.671875 \nQ 49.953125 25.59375 40.828125 29.78125 \nL 46.296875 35.015625 \nQ 53.65625 32.375 62.40625 23.296875 \nz\nM 60.984375 58.015625 \nL 40.375 58.015625 \nQ 42.328125 54.890625 50.78125 47.703125 \nQ 56.984375 52 60.984375 58.015625 \nz\n\" id=\"ArialUnicodeMS-22270\"/>\n    </defs>\n    <g style=\"fill:#262626;\" transform=\"translate(142.321875 17.55)scale(0.144 -0.144)\">\n     <use xlink:href=\"#ArialUnicodeMS-30456\"/>\n     <use x=\"100\" xlink:href=\"#ArialUnicodeMS-20851\"/>\n     <use x=\"200\" xlink:href=\"#ArialUnicodeMS-25104\"/>\n     <use x=\"300\" xlink:href=\"#ArialUnicodeMS-32489\"/>\n     <use x=\"400\" xlink:href=\"#ArialUnicodeMS-32447\"/>\n     <use x=\"500\" xlink:href=\"#ArialUnicodeMS-31665\"/>\n     <use x=\"600\" xlink:href=\"#ArialUnicodeMS-22270\"/>\n    </g>\n   </g>\n  </g>\n </g>\n <defs>\n  <clipPath id=\"pf2085bd5db\">\n   <rect height=\"217.44\" width=\"334.8\" x=\"25.321875\" y=\"23.55\"/>\n  </clipPath>\n </defs>\n</svg>\n",
      "image/png": "[encoded data removed]"
     },
     "metadata": {}
    }
   ],
   "source": [
    "import matplotlib.pyplot as plt\n",
    "import seaborn as sns\n",
    "\n",
    "plt.rcParams['font.family'] = ['Arial Unicode MS'] #用来正常显示中文标签\n",
    "plt.rcParams['axes.unicode_minus'] = False #用来正常显示负号\n",
    " \n",
    "sns.set_style('whitegrid',{'font.sans-serif':['Arial Unicode MS','Arial']})\n",
    "\n",
    " \n",
    "# 新建一个空的DataFrame\n",
    "df = pd.DataFrame()\n",
    " \n",
    "df[\"英语\"] = [76, 90, 97, 71, 70, 93, 86, 83, 78, 85, 81]\n",
    "df[\"经济数学\"] = [65, 95, 51, 74, 78, 63, 91, 82, 75, 71, 55]\n",
    "df[\"西方经济学\"] = [93, 81, 76, 88, 66, 79, 83, 92, 78, 86, 78]\n",
    "df[\"计算机应用基础\"] = [85, 78, 81, 95, 70, 67, 82, 72, 80, 81, 77]\n",
    " \n",
    "plt.boxplot(x=df.values, labels=df.columns, whis=1.5)\n",
    "plt.title(\"相关成绩线箱图\")\n",
    "plt.show()\n"
   ]
  },
  {
   "cell_type": "code",
   "execution_count": 144,
   "metadata": {},
   "outputs": [
    {
     "output_type": "stream",
     "name": "stderr",
     "text": "No handles with labels found to put in legend.\n"
    },
    {
     "output_type": "display_data",
     "data": {
      "text/plain": "<Figure size 432x288 with 1 Axes>",
      "image/svg+xml": "<?xml version=\"1.0\" encoding=\"utf-8\" standalone=\"no\"?>\n<!DOCTYPE svg PUBLIC \"-//W3C//DTD SVG 1.1//EN\"\n  \"http://www.w3.org/Graphics/SVG/1.1/DTD/svg11.dtd\">\n<!-- Created with matplotlib (https://matplotlib.org/) -->\n<svg height=\"279.30425pt\" version=\"1.1\" viewBox=\"0 0 385.209375 279.30425\" width=\"385.209375pt\" xmlns=\"http://www.w3.org/2000/svg\" xmlns:xlink=\"http://www.w3.org/1999/xlink\">\n <defs>\n  <style type=\"text/css\">\n*{stroke-linecap:butt;stroke-linejoin:round;}\n  </style>\n </defs>\n <g id=\"figure_1\">\n  <g id=\"patch_1\">\n   <path d=\"M 0 279.30425 \nL 385.209375 279.30425 \nL 385.209375 0 \nL 0 0 \nz\n\" style=\"fill:#ffffff;\"/>\n  </g>\n  <g id=\"axes_1\">\n   <g id=\"patch_2\">\n    <path d=\"M 43.209375 240.97425 \nL 378.009375 240.97425 \nL 378.009375 23.53425 \nL 43.209375 23.53425 \nz\n\" style=\"fill:#ffffff;\"/>\n   </g>\n   <g id=\"matplotlib.axis_1\">\n    <g id=\"xtick_1\">\n     <g id=\"line2d_1\">\n      <path clip-path=\"url(#p95455fed9e)\" d=\"M 58.427557 240.97425 \nL 58.427557 23.53425 \n\" style=\"fill:none;stroke:#cccccc;stroke-linecap:round;stroke-width:0.8;\"/>\n     </g>\n     <g id=\"text_1\">\n      <!-- 1.00 -->\n      <defs>\n       <path d=\"M 37.5 0 \nL 28.71875 0 \nL 28.71875 56 \nQ 22.125 49.75 11.078125 45.40625 \nL 11.078125 53.90625 \nQ 26.265625 61.1875 31.78125 71.921875 \nL 37.5 71.921875 \nz\n\" id=\"ArialUnicodeMS-49\"/>\n       <path d=\"M 18.890625 0 \nL 8.890625 0 \nL 8.890625 10.015625 \nL 18.890625 10.015625 \nz\n\" id=\"ArialUnicodeMS-46\"/>\n       <path d=\"M 27.78125 71.921875 \nQ 51.125 71.921875 51.125 35.296875 \nQ 51.125 16.796875 45.09375 7.78125 \nQ 39.0625 -1.21875 27.78125 -1.21875 \nQ 4.5 -1.21875 4.5 35.296875 \nQ 4.5 53.8125 10.515625 62.859375 \nQ 16.546875 71.921875 27.78125 71.921875 \nz\nM 27.78125 6 \nQ 34.859375 6 38.46875 12.859375 \nQ 42.09375 19.734375 42.09375 35.296875 \nQ 42.09375 46.140625 40.5 52.359375 \nQ 38.921875 58.59375 35.71875 61.640625 \nQ 32.515625 64.703125 27.6875 64.703125 \nQ 20.609375 64.703125 17.046875 57.71875 \nQ 13.484375 50.734375 13.484375 35.296875 \nQ 13.484375 24.609375 15.09375 18.359375 \nQ 16.703125 12.109375 19.875 9.046875 \nQ 23.046875 6 27.78125 6 \nz\n\" id=\"ArialUnicodeMS-48\"/>\n      </defs>\n      <g style=\"fill:#262626;\" transform=\"translate(48.697088 255.132063)scale(0.1 -0.1)\">\n       <use xlink:href=\"#ArialUnicodeMS-49\"/>\n       <use x=\"55.615234\" xlink:href=\"#ArialUnicodeMS-46\"/>\n       <use x=\"83.398438\" xlink:href=\"#ArialUnicodeMS-48\"/>\n       <use x=\"139.013672\" xlink:href=\"#ArialUnicodeMS-48\"/>\n      </g>\n     </g>\n    </g>\n    <g id=\"xtick_2\">\n     <g id=\"line2d_2\">\n      <path clip-path=\"url(#p95455fed9e)\" d=\"M 96.473011 240.97425 \nL 96.473011 23.53425 \n\" style=\"fill:none;stroke:#cccccc;stroke-linecap:round;stroke-width:0.8;\"/>\n     </g>\n     <g id=\"text_2\">\n      <!-- 1.25 -->\n      <defs>\n       <path d=\"M 50.484375 0 \nL 3.078125 0 \nQ 3.078125 6.0625 7.296875 12.25 \nQ 11.53125 18.453125 23.09375 27.78125 \nQ 30.171875 33.453125 35.734375 39.671875 \nQ 41.3125 45.90625 41.3125 52.203125 \nQ 41.3125 57.625 37.46875 61.15625 \nQ 33.640625 64.703125 27.78125 64.703125 \nQ 21.875 64.703125 17.875 61.0625 \nQ 13.875 57.421875 13.8125 50.203125 \nL 4.78125 51.21875 \nQ 5.609375 61.28125 11.9375 66.59375 \nQ 18.265625 71.921875 27.984375 71.921875 \nQ 38.53125 71.921875 44.40625 66.078125 \nQ 50.296875 60.25 50.296875 52 \nQ 50.296875 45.125 45.328125 38.0625 \nQ 40.375 31 25.59375 19.1875 \nQ 17.828125 12.984375 15.28125 8.5 \nL 50.484375 8.5 \nz\n\" id=\"ArialUnicodeMS-50\"/>\n       <path d=\"M 15.828125 43.015625 \nQ 22.359375 47.515625 29.390625 47.515625 \nQ 38.328125 47.515625 44.96875 41.1875 \nQ 51.609375 34.859375 51.609375 24.3125 \nQ 51.609375 13.671875 44.875 6.21875 \nQ 38.140625 -1.21875 27.203125 -1.21875 \nQ 18.265625 -1.21875 11.71875 3.828125 \nQ 5.171875 8.890625 4.203125 18.796875 \nL 13.375 19.484375 \nQ 14.5 12.703125 18.15625 9.34375 \nQ 21.828125 6 27.203125 6 \nQ 33.890625 6 38.03125 11.046875 \nQ 42.1875 16.109375 42.1875 23.484375 \nQ 42.1875 31 37.9375 35.34375 \nQ 33.6875 39.703125 27 39.703125 \nQ 18.5625 39.703125 14.015625 32.8125 \nL 5.71875 33.796875 \nL 12.703125 70.609375 \nL 48.1875 70.609375 \nL 48.1875 62.109375 \nL 19.671875 62.109375 \nz\n\" id=\"ArialUnicodeMS-53\"/>\n      </defs>\n      <g style=\"fill:#262626;\" transform=\"translate(86.742543 255.132063)scale(0.1 -0.1)\">\n       <use xlink:href=\"#ArialUnicodeMS-49\"/>\n       <use x=\"55.615234\" xlink:href=\"#ArialUnicodeMS-46\"/>\n       <use x=\"83.398438\" xlink:href=\"#ArialUnicodeMS-50\"/>\n       <use x=\"139.013672\" xlink:href=\"#ArialUnicodeMS-53\"/>\n      </g>\n     </g>\n    </g>\n    <g id=\"xtick_3\">\n     <g id=\"line2d_3\">\n      <path clip-path=\"url(#p95455fed9e)\" d=\"M 134.518466 240.97425 \nL 134.518466 23.53425 \n\" style=\"fill:none;stroke:#cccccc;stroke-linecap:round;stroke-width:0.8;\"/>\n     </g>\n     <g id=\"text_3\">\n      <!-- 1.50 -->\n      <g style=\"fill:#262626;\" transform=\"translate(124.787997 255.132063)scale(0.1 -0.1)\">\n       <use xlink:href=\"#ArialUnicodeMS-49\"/>\n       <use x=\"55.615234\" xlink:href=\"#ArialUnicodeMS-46\"/>\n       <use x=\"83.398438\" xlink:href=\"#ArialUnicodeMS-53\"/>\n       <use x=\"139.013672\" xlink:href=\"#ArialUnicodeMS-48\"/>\n      </g>\n     </g>\n    </g>\n    <g id=\"xtick_4\">\n     <g id=\"line2d_4\">\n      <path clip-path=\"url(#p95455fed9e)\" d=\"M 172.56392 240.97425 \nL 172.56392 23.53425 \n\" style=\"fill:none;stroke:#cccccc;stroke-linecap:round;stroke-width:0.8;\"/>\n     </g>\n     <g id=\"text_4\">\n      <!-- 1.75 -->\n      <defs>\n       <path d=\"M 51.125 63.8125 \nQ 40.578125 52.25 32.859375 35.203125 \nQ 25.140625 18.171875 23.78125 0 \nL 14.796875 0 \nQ 15.140625 14.59375 22 32.046875 \nQ 28.859375 49.515625 39.796875 62.109375 \nL 4.78125 62.109375 \nL 4.78125 70.609375 \nL 51.125 70.609375 \nz\n\" id=\"ArialUnicodeMS-55\"/>\n      </defs>\n      <g style=\"fill:#262626;\" transform=\"translate(162.833452 255.132063)scale(0.1 -0.1)\">\n       <use xlink:href=\"#ArialUnicodeMS-49\"/>\n       <use x=\"55.615234\" xlink:href=\"#ArialUnicodeMS-46\"/>\n       <use x=\"83.398438\" xlink:href=\"#ArialUnicodeMS-55\"/>\n       <use x=\"139.013672\" xlink:href=\"#ArialUnicodeMS-53\"/>\n      </g>\n     </g>\n    </g>\n    <g id=\"xtick_5\">\n     <g id=\"line2d_5\">\n      <path clip-path=\"url(#p95455fed9e)\" d=\"M 210.609375 240.97425 \nL 210.609375 23.53425 \n\" style=\"fill:none;stroke:#cccccc;stroke-linecap:round;stroke-width:0.8;\"/>\n     </g>\n     <g id=\"text_5\">\n      <!-- 2.00 -->\n      <g style=\"fill:#262626;\" transform=\"translate(200.878906 255.132063)scale(0.1 -0.1)\">\n       <use xlink:href=\"#ArialUnicodeMS-50\"/>\n       <use x=\"55.615234\" xlink:href=\"#ArialUnicodeMS-46\"/>\n       <use x=\"83.398438\" xlink:href=\"#ArialUnicodeMS-48\"/>\n       <use x=\"139.013672\" xlink:href=\"#ArialUnicodeMS-48\"/>\n      </g>\n     </g>\n    </g>\n    <g id=\"xtick_6\">\n     <g id=\"line2d_6\">\n      <path clip-path=\"url(#p95455fed9e)\" d=\"M 248.65483 240.97425 \nL 248.65483 23.53425 \n\" style=\"fill:none;stroke:#cccccc;stroke-linecap:round;stroke-width:0.8;\"/>\n     </g>\n     <g id=\"text_6\">\n      <!-- 2.25 -->\n      <g style=\"fill:#262626;\" transform=\"translate(238.924361 255.132063)scale(0.1 -0.1)\">\n       <use xlink:href=\"#ArialUnicodeMS-50\"/>\n       <use x=\"55.615234\" xlink:href=\"#ArialUnicodeMS-46\"/>\n       <use x=\"83.398438\" xlink:href=\"#ArialUnicodeMS-50\"/>\n       <use x=\"139.013672\" xlink:href=\"#ArialUnicodeMS-53\"/>\n      </g>\n     </g>\n    </g>\n    <g id=\"xtick_7\">\n     <g id=\"line2d_7\">\n      <path clip-path=\"url(#p95455fed9e)\" d=\"M 286.700284 240.97425 \nL 286.700284 23.53425 \n\" style=\"fill:none;stroke:#cccccc;stroke-linecap:round;stroke-width:0.8;\"/>\n     </g>\n     <g id=\"text_7\">\n      <!-- 2.50 -->\n      <g style=\"fill:#262626;\" transform=\"translate(276.969815 255.132063)scale(0.1 -0.1)\">\n       <use xlink:href=\"#ArialUnicodeMS-50\"/>\n       <use x=\"55.615234\" xlink:href=\"#ArialUnicodeMS-46\"/>\n       <use x=\"83.398438\" xlink:href=\"#ArialUnicodeMS-53\"/>\n       <use x=\"139.013672\" xlink:href=\"#ArialUnicodeMS-48\"/>\n      </g>\n     </g>\n    </g>\n    <g id=\"xtick_8\">\n     <g id=\"line2d_8\">\n      <path clip-path=\"url(#p95455fed9e)\" d=\"M 324.745739 240.97425 \nL 324.745739 23.53425 \n\" style=\"fill:none;stroke:#cccccc;stroke-linecap:round;stroke-width:0.8;\"/>\n     </g>\n     <g id=\"text_8\">\n      <!-- 2.75 -->\n      <g style=\"fill:#262626;\" transform=\"translate(315.01527 255.132063)scale(0.1 -0.1)\">\n       <use xlink:href=\"#ArialUnicodeMS-50\"/>\n       <use x=\"55.615234\" xlink:href=\"#ArialUnicodeMS-46\"/>\n       <use x=\"83.398438\" xlink:href=\"#ArialUnicodeMS-55\"/>\n       <use x=\"139.013672\" xlink:href=\"#ArialUnicodeMS-53\"/>\n      </g>\n     </g>\n    </g>\n    <g id=\"xtick_9\">\n     <g id=\"line2d_9\">\n      <path clip-path=\"url(#p95455fed9e)\" d=\"M 362.791193 240.97425 \nL 362.791193 23.53425 \n\" style=\"fill:none;stroke:#cccccc;stroke-linecap:round;stroke-width:0.8;\"/>\n     </g>\n     <g id=\"text_9\">\n      <!-- 3.00 -->\n      <defs>\n       <path d=\"M 37.890625 38.71875 \nQ 44.53125 37.453125 47.921875 32.296875 \nQ 51.3125 27.15625 51.3125 21.09375 \nQ 51.3125 11.328125 44.203125 5.046875 \nQ 37.109375 -1.21875 27.203125 -1.21875 \nQ 17.71875 -1.21875 11.5625 4.296875 \nQ 5.421875 9.8125 4.390625 18.890625 \nL 13.1875 20.125 \nQ 14.5 13.03125 17.984375 9.515625 \nQ 21.484375 6 27.203125 6 \nQ 33.34375 6 37.609375 10.328125 \nQ 41.890625 14.65625 41.890625 20.90625 \nQ 41.890625 26.90625 38 30.859375 \nQ 34.125 34.8125 27.875 34.8125 \nQ 25.34375 34.8125 21.6875 33.890625 \nL 22.703125 41.609375 \nQ 26.21875 41.609375 28.265625 41.9375 \nQ 30.328125 42.28125 32.859375 43.59375 \nQ 35.40625 44.921875 37.0625 47.390625 \nQ 38.71875 49.859375 38.71875 53.515625 \nQ 38.71875 58.84375 35.171875 61.765625 \nQ 31.640625 64.703125 27 64.703125 \nQ 21.6875 64.703125 18.328125 61.328125 \nQ 14.984375 57.953125 14.109375 51.703125 \nL 5.328125 53.328125 \nQ 7.03125 62.640625 12.859375 67.28125 \nQ 18.703125 71.921875 26.8125 71.921875 \nQ 35.75 71.921875 41.71875 66.53125 \nQ 47.703125 61.140625 47.703125 53.328125 \nQ 47.703125 43.3125 37.890625 38.921875 \nz\n\" id=\"ArialUnicodeMS-51\"/>\n      </defs>\n      <g style=\"fill:#262626;\" transform=\"translate(353.060724 255.132063)scale(0.1 -0.1)\">\n       <use xlink:href=\"#ArialUnicodeMS-51\"/>\n       <use x=\"55.615234\" xlink:href=\"#ArialUnicodeMS-46\"/>\n       <use x=\"83.398438\" xlink:href=\"#ArialUnicodeMS-48\"/>\n       <use x=\"139.013672\" xlink:href=\"#ArialUnicodeMS-48\"/>\n      </g>\n     </g>\n    </g>\n    <g id=\"text_10\">\n     <!-- x-value -->\n     <defs>\n      <path d=\"M 49.3125 0 \nL 38.484375 0 \nL 25 20.515625 \nL 11.375 0 \nL 0.6875 0 \nL 19.671875 27 \nL 2.203125 51.8125 \nL 13.09375 51.8125 \nQ 23.734375 35.75 24.703125 33.890625 \nL 37.40625 51.8125 \nL 47.90625 51.8125 \nL 29.984375 27.484375 \nz\n\" id=\"ArialUnicodeMS-120\"/>\n      <path d=\"M 30.078125 21.484375 \nL 3.21875 21.484375 \nL 3.21875 30.328125 \nL 30.078125 30.328125 \nz\n\" id=\"ArialUnicodeMS-45\"/>\n      <path d=\"M 48.78125 51.8125 \nL 29.203125 0 \nL 21 0 \nL 1.3125 51.8125 \nL 10.59375 51.8125 \nL 21.296875 21.828125 \nQ 24.3125 13.328125 24.90625 10.296875 \nL 25.09375 10.296875 \nQ 25.875 13.421875 27.78125 18.703125 \nL 39.796875 51.8125 \nz\n\" id=\"ArialUnicodeMS-118\"/>\n      <path d=\"M 51.609375 0 \nL 42.390625 0 \nQ 41.109375 2.4375 40.578125 6.390625 \nQ 31.734375 -1.21875 21.484375 -1.21875 \nQ 13.28125 -1.21875 8.546875 2.875 \nQ 3.8125 6.984375 3.8125 13.71875 \nQ 3.8125 20.171875 8.375 24.34375 \nQ 12.9375 28.515625 24.21875 29.890625 \nL 32.421875 31.109375 \nQ 37.015625 31.84375 39.984375 32.90625 \nQ 39.984375 36.859375 39.734375 38.5 \nQ 39.5 40.140625 38.296875 41.890625 \nQ 37.109375 43.65625 34.46875 44.71875 \nQ 31.84375 45.796875 27.390625 45.796875 \nQ 21.734375 45.796875 18.4375 43.703125 \nQ 15.140625 41.609375 13.921875 35.890625 \nL 5.328125 37.015625 \nQ 6.734375 44.96875 12.59375 48.96875 \nQ 18.453125 52.984375 28.71875 52.984375 \nQ 38.03125 52.984375 42.40625 50.21875 \nQ 46.78125 47.46875 47.78125 43.5625 \nQ 48.78125 39.65625 48.78125 33.5 \nL 48.78125 21.6875 \nQ 48.78125 10.890625 49.1875 7.203125 \nQ 49.609375 3.515625 51.609375 0 \nz\nM 39.984375 22.796875 \nL 39.984375 25.984375 \nQ 33.109375 23.6875 23.140625 22.34375 \nQ 13.1875 21 13.1875 13.921875 \nQ 13.1875 10.359375 15.875 8.03125 \nQ 18.5625 5.71875 23.578125 5.71875 \nQ 30.078125 5.71875 35.03125 9.59375 \nQ 39.984375 13.484375 39.984375 22.796875 \nz\n\" id=\"ArialUnicodeMS-97\"/>\n      <path d=\"M 15.484375 0 \nL 6.6875 0 \nL 6.6875 71.578125 \nL 15.484375 71.578125 \nz\n\" id=\"ArialUnicodeMS-108\"/>\n      <path d=\"M 48.6875 0 \nL 40.828125 0 \nL 40.828125 7.625 \nL 40.578125 7.625 \nQ 34.625 -1.21875 24.3125 -1.21875 \nQ 18.890625 -1.21875 14.28125 1.296875 \nQ 9.671875 3.8125 8.125 8.21875 \nQ 6.59375 12.640625 6.59375 19.671875 \nL 6.59375 51.8125 \nL 15.375 51.8125 \nL 15.375 23.09375 \nQ 15.375 16.21875 16.03125 13.234375 \nQ 16.703125 10.25 19.484375 8.3125 \nQ 22.265625 6.390625 26.125 6.390625 \nQ 31.109375 6.390625 35.5 9.828125 \nQ 39.890625 13.28125 39.890625 24.125 \nL 39.890625 51.8125 \nL 48.6875 51.8125 \nz\n\" id=\"ArialUnicodeMS-117\"/>\n      <path d=\"M 51.703125 23.6875 \nL 12.890625 23.6875 \nQ 13.421875 15.09375 17.796875 10.546875 \nQ 22.171875 6 28.71875 6 \nQ 33.734375 6 37.15625 8.65625 \nQ 40.578125 11.328125 42.390625 16.703125 \nL 51.421875 15.578125 \nQ 49.21875 7.46875 43.359375 3.125 \nQ 37.5 -1.21875 28.71875 -1.21875 \nQ 17.046875 -1.21875 10.46875 5.9375 \nQ 3.90625 13.09375 3.90625 25.484375 \nQ 3.90625 37.75 10.28125 45.359375 \nQ 16.65625 52.984375 28.21875 52.984375 \nQ 33.890625 52.984375 39.140625 50.484375 \nQ 44.390625 48 48.046875 42.015625 \nQ 51.703125 36.03125 51.703125 23.6875 \nz\nM 42.671875 30.90625 \nQ 42.140625 38.8125 37.765625 42.296875 \nQ 33.40625 45.796875 28.21875 45.796875 \nQ 22.015625 45.796875 18.015625 41.640625 \nQ 14.015625 37.5 13.375 30.90625 \nz\n\" id=\"ArialUnicodeMS-101\"/>\n     </defs>\n     <g style=\"fill:#262626;\" transform=\"translate(191.26875 269.713625)scale(0.12 -0.12)\">\n      <use xlink:href=\"#ArialUnicodeMS-120\"/>\n      <use x=\"50\" xlink:href=\"#ArialUnicodeMS-45\"/>\n      <use x=\"83.300781\" xlink:href=\"#ArialUnicodeMS-118\"/>\n      <use x=\"133.300781\" xlink:href=\"#ArialUnicodeMS-97\"/>\n      <use x=\"188.916016\" xlink:href=\"#ArialUnicodeMS-108\"/>\n      <use x=\"211.132812\" xlink:href=\"#ArialUnicodeMS-117\"/>\n      <use x=\"266.748047\" xlink:href=\"#ArialUnicodeMS-101\"/>\n     </g>\n    </g>\n   </g>\n   <g id=\"matplotlib.axis_2\">\n    <g id=\"ytick_1\">\n     <g id=\"line2d_10\">\n      <path clip-path=\"url(#p95455fed9e)\" d=\"M 43.209375 231.090614 \nL 378.009375 231.090614 \n\" style=\"fill:none;stroke:#cccccc;stroke-linecap:round;stroke-width:0.8;\"/>\n     </g>\n     <g id=\"text_11\">\n      <!-- 2.0 -->\n      <g style=\"fill:#262626;\" transform=\"translate(22.309375 234.66952)scale(0.1 -0.1)\">\n       <use xlink:href=\"#ArialUnicodeMS-50\"/>\n       <use x=\"55.615234\" xlink:href=\"#ArialUnicodeMS-46\"/>\n       <use x=\"83.398438\" xlink:href=\"#ArialUnicodeMS-48\"/>\n      </g>\n     </g>\n    </g>\n    <g id=\"ytick_2\">\n     <g id=\"line2d_11\">\n      <path clip-path=\"url(#p95455fed9e)\" d=\"M 43.209375 198.145159 \nL 378.009375 198.145159 \n\" style=\"fill:none;stroke:#cccccc;stroke-linecap:round;stroke-width:0.8;\"/>\n     </g>\n     <g id=\"text_12\">\n      <!-- 2.5 -->\n      <g style=\"fill:#262626;\" transform=\"translate(22.309375 201.724065)scale(0.1 -0.1)\">\n       <use xlink:href=\"#ArialUnicodeMS-50\"/>\n       <use x=\"55.615234\" xlink:href=\"#ArialUnicodeMS-46\"/>\n       <use x=\"83.398438\" xlink:href=\"#ArialUnicodeMS-53\"/>\n      </g>\n     </g>\n    </g>\n    <g id=\"ytick_3\">\n     <g id=\"line2d_12\">\n      <path clip-path=\"url(#p95455fed9e)\" d=\"M 43.209375 165.199705 \nL 378.009375 165.199705 \n\" style=\"fill:none;stroke:#cccccc;stroke-linecap:round;stroke-width:0.8;\"/>\n     </g>\n     <g id=\"text_13\">\n      <!-- 3.0 -->\n      <g style=\"fill:#262626;\" transform=\"translate(22.309375 168.778611)scale(0.1 -0.1)\">\n       <use xlink:href=\"#ArialUnicodeMS-51\"/>\n       <use x=\"55.615234\" xlink:href=\"#ArialUnicodeMS-46\"/>\n       <use x=\"83.398438\" xlink:href=\"#ArialUnicodeMS-48\"/>\n      </g>\n     </g>\n    </g>\n    <g id=\"ytick_4\">\n     <g id=\"line2d_13\">\n      <path clip-path=\"url(#p95455fed9e)\" d=\"M 43.209375 132.25425 \nL 378.009375 132.25425 \n\" style=\"fill:none;stroke:#cccccc;stroke-linecap:round;stroke-width:0.8;\"/>\n     </g>\n     <g id=\"text_14\">\n      <!-- 3.5 -->\n      <g style=\"fill:#262626;\" transform=\"translate(22.309375 135.833156)scale(0.1 -0.1)\">\n       <use xlink:href=\"#ArialUnicodeMS-51\"/>\n       <use x=\"55.615234\" xlink:href=\"#ArialUnicodeMS-46\"/>\n       <use x=\"83.398438\" xlink:href=\"#ArialUnicodeMS-53\"/>\n      </g>\n     </g>\n    </g>\n    <g id=\"ytick_5\">\n     <g id=\"line2d_14\">\n      <path clip-path=\"url(#p95455fed9e)\" d=\"M 43.209375 99.308795 \nL 378.009375 99.308795 \n\" style=\"fill:none;stroke:#cccccc;stroke-linecap:round;stroke-width:0.8;\"/>\n     </g>\n     <g id=\"text_15\">\n      <!-- 4.0 -->\n      <defs>\n       <path d=\"M 50.984375 17.09375 \nL 41.3125 17.09375 \nL 41.3125 0 \nL 32.515625 0 \nL 32.515625 17.09375 \nL 1.515625 17.09375 \nL 1.515625 25.203125 \nL 34.078125 71.578125 \nL 41.3125 71.578125 \nL 41.3125 25.203125 \nL 50.984375 25.203125 \nz\nM 32.515625 25.203125 \nL 32.515625 57.515625 \nL 32.328125 57.515625 \nL 10.109375 25.203125 \nz\n\" id=\"ArialUnicodeMS-52\"/>\n      </defs>\n      <g style=\"fill:#262626;\" transform=\"translate(22.309375 102.887702)scale(0.1 -0.1)\">\n       <use xlink:href=\"#ArialUnicodeMS-52\"/>\n       <use x=\"55.615234\" xlink:href=\"#ArialUnicodeMS-46\"/>\n       <use x=\"83.398438\" xlink:href=\"#ArialUnicodeMS-48\"/>\n      </g>\n     </g>\n    </g>\n    <g id=\"ytick_6\">\n     <g id=\"line2d_15\">\n      <path clip-path=\"url(#p95455fed9e)\" d=\"M 43.209375 66.363341 \nL 378.009375 66.363341 \n\" style=\"fill:none;stroke:#cccccc;stroke-linecap:round;stroke-width:0.8;\"/>\n     </g>\n     <g id=\"text_16\">\n      <!-- 4.5 -->\n      <g style=\"fill:#262626;\" transform=\"translate(22.309375 69.942247)scale(0.1 -0.1)\">\n       <use xlink:href=\"#ArialUnicodeMS-52\"/>\n       <use x=\"55.615234\" xlink:href=\"#ArialUnicodeMS-46\"/>\n       <use x=\"83.398438\" xlink:href=\"#ArialUnicodeMS-53\"/>\n      </g>\n     </g>\n    </g>\n    <g id=\"ytick_7\">\n     <g id=\"line2d_16\">\n      <path clip-path=\"url(#p95455fed9e)\" d=\"M 43.209375 33.417886 \nL 378.009375 33.417886 \n\" style=\"fill:none;stroke:#cccccc;stroke-linecap:round;stroke-width:0.8;\"/>\n     </g>\n     <g id=\"text_17\">\n      <!-- 5.0 -->\n      <g style=\"fill:#262626;\" transform=\"translate(22.309375 36.996793)scale(0.1 -0.1)\">\n       <use xlink:href=\"#ArialUnicodeMS-53\"/>\n       <use x=\"55.615234\" xlink:href=\"#ArialUnicodeMS-46\"/>\n       <use x=\"83.398438\" xlink:href=\"#ArialUnicodeMS-48\"/>\n      </g>\n     </g>\n    </g>\n    <g id=\"text_18\">\n     <!-- y-label -->\n     <defs>\n      <path d=\"M 49.21875 51.8125 \nL 29.390625 -0.875 \nQ 29.34375 -0.984375 29.296875 -1.21875 \nQ 26.46875 -10.015625 22.671875 -15.5 \nQ 18.890625 -21 11.921875 -21 \nQ 9.578125 -21 6.203125 -20.015625 \nL 5.328125 -11.71875 \nQ 7.859375 -12.5 10.296875 -12.5 \nQ 15.1875 -12.5 17.0625 -9.8125 \nQ 18.953125 -7.125 21.296875 -0.09375 \nL 1.609375 51.8125 \nL 11.078125 51.8125 \nL 23.296875 17.875 \nQ 24.359375 14.75 25.59375 9.8125 \nL 25.78125 9.8125 \nQ 27 15.484375 28.90625 20.609375 \nL 40.28125 51.8125 \nz\n\" id=\"ArialUnicodeMS-121\"/>\n      <path d=\"M 15.71875 46 \nQ 20.609375 52.984375 29.6875 52.984375 \nQ 39.703125 52.984375 45.703125 45.703125 \nQ 51.703125 38.421875 51.703125 26.703125 \nQ 51.703125 13.1875 44.984375 5.984375 \nQ 38.28125 -1.21875 29.296875 -1.21875 \nQ 20.171875 -1.21875 15.09375 6.5 \nL 14.890625 6.5 \nL 14.890625 0 \nL 6.6875 0 \nL 6.6875 71.578125 \nL 15.484375 71.578125 \nL 15.484375 46 \nz\nM 28.609375 6 \nQ 34.71875 6 38.6875 11.25 \nQ 42.671875 16.5 42.671875 25.984375 \nQ 42.671875 35.109375 39.015625 40.453125 \nQ 35.359375 45.796875 28.90625 45.796875 \nQ 22.5625 45.796875 18.671875 40.28125 \nQ 14.796875 34.765625 14.796875 26.3125 \nQ 14.796875 18.0625 16.40625 14.5625 \nQ 18.015625 11.078125 21.265625 8.53125 \nQ 24.515625 6 28.609375 6 \nz\n\" id=\"ArialUnicodeMS-98\"/>\n     </defs>\n     <g style=\"fill:#262626;\" transform=\"translate(15.789375 149.928)rotate(-90)scale(0.12 -0.12)\">\n      <use xlink:href=\"#ArialUnicodeMS-121\"/>\n      <use x=\"50\" xlink:href=\"#ArialUnicodeMS-45\"/>\n      <use x=\"83.300781\" xlink:href=\"#ArialUnicodeMS-108\"/>\n      <use x=\"105.517578\" xlink:href=\"#ArialUnicodeMS-97\"/>\n      <use x=\"161.132812\" xlink:href=\"#ArialUnicodeMS-98\"/>\n      <use x=\"216.748047\" xlink:href=\"#ArialUnicodeMS-101\"/>\n      <use x=\"272.363281\" xlink:href=\"#ArialUnicodeMS-108\"/>\n     </g>\n    </g>\n   </g>\n   <g id=\"PathCollection_1\">\n    <defs>\n     <path d=\"M -2.236068 2.236068 \nL 2.236068 -2.236068 \nM -2.236068 -2.236068 \nL 2.236068 2.236068 \n\" id=\"m65f454425c\" style=\"stroke:#ff1212;stroke-width:1.5;\"/>\n    </defs>\n    <g clip-path=\"url(#p95455fed9e)\">\n     <use style=\"fill:#ff1212;stroke:#ff1212;stroke-width:1.5;\" x=\"58.427557\" xlink:href=\"#m65f454425c\" y=\"99.308795\"/>\n     <use style=\"fill:#ff1212;stroke:#ff1212;stroke-width:1.5;\" x=\"210.609375\" xlink:href=\"#m65f454425c\" y=\"33.417886\"/>\n     <use style=\"fill:#ff1212;stroke:#ff1212;stroke-width:1.5;\" x=\"362.791193\" xlink:href=\"#m65f454425c\" y=\"231.090614\"/>\n    </g>\n   </g>\n   <g id=\"patch_3\">\n    <path d=\"M 43.209375 240.97425 \nL 43.209375 23.53425 \n\" style=\"fill:none;stroke:#cccccc;stroke-linecap:square;stroke-linejoin:miter;\"/>\n   </g>\n   <g id=\"patch_4\">\n    <path d=\"M 378.009375 240.97425 \nL 378.009375 23.53425 \n\" style=\"fill:none;stroke:#cccccc;stroke-linecap:square;stroke-linejoin:miter;\"/>\n   </g>\n   <g id=\"patch_5\">\n    <path d=\"M 43.209375 240.97425 \nL 378.009375 240.97425 \n\" style=\"fill:none;stroke:#cccccc;stroke-linecap:square;stroke-linejoin:miter;\"/>\n   </g>\n   <g id=\"patch_6\">\n    <path d=\"M 43.209375 23.53425 \nL 378.009375 23.53425 \n\" style=\"fill:none;stroke:#cccccc;stroke-linecap:square;stroke-linejoin:miter;\"/>\n   </g>\n   <g id=\"text_19\">\n    <!-- 散点图示例 -->\n    <defs>\n     <path d=\"M 95.609375 -1.125 \nL 89.984375 -7.171875 \nQ 80.03125 1.265625 73.484375 11.1875 \nQ 65.625 0.296875 55.515625 -6.984375 \nL 50 -1.21875 \nQ 63.921875 8.984375 69.09375 18.703125 \nQ 64.0625 27.4375 61.078125 42.578125 \nL 56.203125 35.296875 \nL 50.6875 38.484375 \nL 50.6875 2.203125 \nQ 50.6875 -0.640625 48.4375 -2.421875 \nQ 46.1875 -4.203125 43.53125 -4.484375 \nQ 40.875 -4.78125 33.59375 -4.78125 \nL 31 2.875 \nL 40.578125 2.59375 \nQ 43.109375 2.4375 43.109375 5.078125 \nL 43.109375 10.984375 \nL 21.78125 10.984375 \nL 21.78125 -5.078125 \nL 14.59375 -5.078125 \nL 14.59375 43.21875 \nL 50.6875 43.21875 \nL 50.59375 40.921875 \nQ 53.265625 44.4375 55.609375 48.578125 \nL 6.5 48.578125 \nL 6.5 55.90625 \nL 17.921875 55.90625 \nL 17.921875 65.09375 \nL 9.90625 65.09375 \nL 9.90625 72.40625 \nL 17.921875 72.40625 \nL 17.921875 82.078125 \nL 25.484375 82.078125 \nL 25.484375 72.40625 \nL 37.40625 72.40625 \nL 37.40625 82.078125 \nL 45.015625 82.078125 \nL 45.015625 72.40625 \nL 52.78125 72.40625 \nL 52.78125 65.09375 \nL 45.015625 65.09375 \nL 45.015625 55.90625 \nL 56.390625 55.90625 \nL 56.390625 49.515625 \nQ 63.8125 67.78125 63.484375 83.40625 \nL 70.515625 81.78125 \nQ 70.515625 72.703125 68.796875 63.09375 \nL 91.3125 63.09375 \nL 91.3125 55.8125 \nL 85.6875 55.8125 \nQ 84.1875 32.375 77.484375 18.703125 \nQ 82.625 8.890625 95.609375 -1.125 \nz\nM 37.40625 55.90625 \nL 37.40625 65.09375 \nL 25.484375 65.09375 \nL 25.484375 55.90625 \nz\nM 77.875 55.8125 \nL 66.40625 55.8125 \nQ 68.65625 37.015625 73 27.6875 \nQ 77.59375 37.203125 77.875 55.8125 \nz\nM 43.109375 30.71875 \nL 43.109375 35.890625 \nL 21.78125 35.890625 \nL 21.78125 30.71875 \nz\nM 43.109375 18.3125 \nL 43.109375 23.390625 \nL 21.78125 23.390625 \nL 21.78125 18.3125 \nz\n\" id=\"ArialUnicodeMS-25955\"/>\n     <path d=\"M 86.28125 66.015625 \nL 50.203125 66.015625 \nL 50.203125 56.203125 \nL 77.6875 56.203125 \nL 77.6875 22.796875 \nL 20.90625 22.796875 \nL 20.90625 56.203125 \nL 42.578125 56.203125 \nL 42.578125 83.015625 \nL 50.203125 83.015625 \nL 50.203125 72.90625 \nL 86.28125 72.90625 \nz\nM 70.515625 29.6875 \nL 70.515625 49.3125 \nL 28.515625 49.3125 \nL 28.515625 29.6875 \nz\nM 95.015625 -0.875 \nL 87.796875 -5.078125 \nQ 81.0625 7.953125 71 16.109375 \nL 76.90625 20.125 \nQ 88.625 9.859375 95.015625 -0.875 \nz\nM 29 16.3125 \nQ 24.21875 2.203125 11.921875 -7.078125 \nL 4.984375 -1.421875 \nQ 16.546875 5.5625 22.609375 19.484375 \nL 28.90625 16.3125 \nz\nM 70.90625 -1.703125 \nL 63.625 -4.5 \nQ 58.734375 7.515625 51.125 15.578125 \nL 57.515625 18.703125 \nQ 65.875 10.203125 70.90625 -1.703125 \nz\nM 50 -2.09375 \nL 42.1875 -4.296875 \nQ 39.359375 6.9375 31.984375 15.828125 \nL 38.484375 18.5 \nQ 45.703125 9.375 50 -2.09375 \nz\n\" id=\"ArialUnicodeMS-28857\"/>\n     <path d=\"M 86.625 -6.59375 \nL 79 -6.59375 \nL 79 0.296875 \nL 18.5 0.296875 \nL 18.5 -6.59375 \nL 10.984375 -6.59375 \nL 10.984375 78.421875 \nL 86.625 78.421875 \nz\nM 79 37.5 \nL 79 71.09375 \nL 41.015625 71.09375 \nL 41.015625 70.90625 \nL 45.40625 69 \nQ 44.734375 67.53125 43.40625 65.28125 \nL 70.515625 65.28125 \nL 70.515625 59.078125 \nQ 65.671875 50.046875 57.421875 43.40625 \nQ 66.0625 38.375 79 37.5 \nz\nM 79 7.171875 \nL 79 33.796875 \nL 78.8125 33.796875 \nL 75.484375 28.90625 \nQ 62.703125 30.671875 49.8125 38.484375 \nQ 42.390625 34.1875 23.6875 29.6875 \nL 20.015625 37.3125 \nQ 36.578125 40.375 43.5 44.28125 \nQ 39.75 47.21875 35.296875 53.328125 \nQ 30.328125 47.359375 24.609375 44.828125 \nL 19.578125 51.515625 \nQ 32.375 57.125 37.796875 71.09375 \nL 18.609375 71.09375 \nL 18.609375 7.171875 \nL 50.484375 7.171875 \nQ 43.265625 14.84375 33.203125 19.1875 \nL 37.5 25.09375 \nQ 47.171875 21.4375 57.71875 11.1875 \nL 54.5 7.171875 \nz\nM 62.40625 23.296875 \nL 56.6875 17.671875 \nQ 49.953125 25.59375 40.828125 29.78125 \nL 46.296875 35.015625 \nQ 53.65625 32.375 62.40625 23.296875 \nz\nM 60.984375 58.015625 \nL 40.375 58.015625 \nQ 42.328125 54.890625 50.78125 47.703125 \nQ 56.984375 52 60.984375 58.015625 \nz\n\" id=\"ArialUnicodeMS-22270\"/>\n     <path d=\"M 82.078125 68.40625 \nL 19.828125 68.40625 \nL 19.828125 75.6875 \nL 82.078125 75.6875 \nz\nM 88.484375 46.6875 \nL 55.078125 46.6875 \nL 55.078125 1.125 \nQ 55.078125 -2.9375 52.21875 -4.859375 \nQ 49.359375 -6.78125 44.9375 -6.640625 \nQ 40.53125 -6.5 35.296875 -6.59375 \nL 32.328125 2 \nQ 38.671875 1.265625 43.0625 1.265625 \nQ 47.21875 1.265625 47.21875 4.296875 \nL 47.21875 46.6875 \nL 12.984375 46.6875 \nL 12.984375 54 \nL 88.484375 54 \nz\nM 37.015625 36.625 \nQ 30.21875 20.3125 14.40625 5.71875 \nL 9.078125 11.1875 \nQ 15.375 16.359375 21.96875 25.3125 \nQ 28.5625 34.28125 30.609375 40.828125 \nz\nM 93.21875 10.890625 \nL 87.015625 5.71875 \nQ 77.15625 24.609375 62.796875 35.203125 \nL 68.703125 40.375 \nQ 81.734375 31.546875 93.21875 10.890625 \nz\n\" id=\"ArialUnicodeMS-31034\"/>\n     <path d=\"M 32.515625 81.984375 \nQ 31.640625 77.296875 28.71875 67.78125 \nL 25.78125 58.40625 \nL 25.78125 -6.296875 \nL 18.21875 -6.296875 \nL 18.21875 41.890625 \nQ 16.265625 37.84375 10.796875 31.78125 \nL 4.109375 35.59375 \nQ 20.40625 55.171875 25.59375 84.515625 \nz\nM 91.109375 2.09375 \nQ 91.109375 -6.34375 80.515625 -6.203125 \nL 73.78125 -6.109375 \nL 70.515625 1.90625 \nL 77.78125 1.515625 \nQ 80.078125 1.3125 81.734375 2.875 \nQ 83.40625 4.4375 83.40625 6.890625 \nL 83.203125 83.203125 \nL 91.109375 83.203125 \nz\nM 66.109375 70.40625 \nL 48.6875 70.40625 \nQ 48 62.453125 47.40625 57.625 \nL 64.703125 57.625 \nQ 64.59375 31.296875 57.53125 18.75 \nQ 50.484375 6.203125 35.203125 -6.203125 \nL 29.78125 -0.390625 \nQ 45.90625 12.453125 51.21875 23.578125 \nQ 46.96875 29.5 40.578125 33.203125 \nL 45.21875 39.015625 \nQ 49.3125 36.71875 54 31 \nQ 56.109375 38.328125 56.984375 50.296875 \nL 46 50.296875 \nQ 41.40625 33.40625 33.59375 24.515625 \nL 26.421875 28.609375 \nQ 40.71875 44.875 40.71875 70.40625 \nL 33.40625 70.40625 \nL 33.40625 77.6875 \nL 66.109375 77.6875 \nz\nM 77.203125 13.625 \nL 69.578125 13.625 \nL 69.578125 69.390625 \nL 77.203125 69.390625 \nz\n\" id=\"ArialUnicodeMS-20363\"/>\n    </defs>\n    <g style=\"fill:#262626;\" transform=\"translate(174.609375 17.53425)scale(0.144 -0.144)\">\n     <use xlink:href=\"#ArialUnicodeMS-25955\"/>\n     <use x=\"100\" xlink:href=\"#ArialUnicodeMS-28857\"/>\n     <use x=\"200\" xlink:href=\"#ArialUnicodeMS-22270\"/>\n     <use x=\"300\" xlink:href=\"#ArialUnicodeMS-31034\"/>\n     <use x=\"400\" xlink:href=\"#ArialUnicodeMS-20363\"/>\n    </g>\n   </g>\n   <g id=\"legend_1\">\n    <g id=\"patch_7\">\n     <path d=\"M 367.009375 36.53425 \nL 371.009375 36.53425 \nQ 373.009375 36.53425 373.009375 34.53425 \nL 373.009375 30.53425 \nQ 373.009375 28.53425 371.009375 28.53425 \nL 367.009375 28.53425 \nQ 365.009375 28.53425 365.009375 30.53425 \nL 365.009375 34.53425 \nQ 365.009375 36.53425 367.009375 36.53425 \nz\n\" style=\"fill:#ffffff;opacity:0.8;stroke:#cccccc;stroke-linejoin:miter;stroke-width:0.5;\"/>\n    </g>\n   </g>\n  </g>\n </g>\n <defs>\n  <clipPath id=\"p95455fed9e\">\n   <rect height=\"217.44\" width=\"334.8\" x=\"43.209375\" y=\"23.53425\"/>\n  </clipPath>\n </defs>\n</svg>\n",
      "image/png": "[encoded data removed]"
     },
     "metadata": {}
    }
   ],
   "source": [
    "import matplotlib.pyplot as plt\n",
    "import seaborn as sns\n",
    "\n",
    "plt.rcParams['font.family'] = ['Arial Unicode MS'] #用来正常显示中文标签\n",
    "plt.rcParams['axes.unicode_minus'] = False #用来正常显示负号\n",
    " \n",
    "sns.set_style('whitegrid',{'font.sans-serif':['Arial Unicode MS','Arial']})\n",
    "\n",
    "# xValue = list(range(0, 101))\n",
    "# yValue = [x * np.random.rand() for x in xValue]\n",
    "\n",
    "xValue = [1,2,3]\n",
    "yValue = [4,5,2]\n",
    "\n",
    "plt.title(u'散点图示例')\n",
    "\n",
    "plt.xlabel('x-value')\n",
    "plt.ylabel('y-label')\n",
    "\n",
    "plt.legend()\n",
    "\n",
    "plt.scatter(xValue, yValue, s=20, c=\"#ff1212\", marker='x')\n",
    "plt.show()\n"
   ]
  },
  {
   "cell_type": "code",
   "execution_count": 148,
   "metadata": {},
   "outputs": [
    {
     "output_type": "display_data",
     "data": {
      "text/html": "        <script type=\"text/javascript\">\n        window.PlotlyConfig = {MathJaxConfig: 'local'};\n        if (window.MathJax) {MathJax.Hub.Config({SVG: {font: \"STIX-Web\"}});}\n        if (typeof require !== 'undefined') {\n        require.undef(\"plotly\");\n        requirejs.config({\n            paths: {\n                'plotly': ['https://cdn.plot.ly/plotly-latest.min']\n            }\n        });\n        require(['plotly'], function(Plotly) {\n            window._Plotly = Plotly;\n        });\n        }\n        </script>\n        "
     },
     "metadata": {}
    },
    {
     "output_type": "display_data",
     "data": {
      "application/vnd.plotly.v1+json": {
       "config": {
        "linkText": "Export to plot.ly",
        "plotlyServerURL": "https://plot.ly",
        "showLink": false
       },
       "data": [
        {
         "type": "scatter",
         "x": [
          1,
          2
         ],
         "y": [
          1,
          2
         ]
        },
        {
         "type": "scatter",
         "x": [
          1,
          2
         ],
         "y": [
          2,
          1
         ]
        }
       ],
       "layout": {
        "template": {
         "data": {
          "bar": [
           {
            "error_x": {
             "color": "#2a3f5f"
            },
            "error_y": {
             "color": "#2a3f5f"
            },
            "marker": {
             "line": {
              "color": "#E5ECF6",
              "width": 0.5
             }
            },
            "type": "bar"
           }
          ],
          "barpolar": [
           {
            "marker": {
             "line": {
              "color": "#E5ECF6",
              "width": 0.5
             }
            },
            "type": "barpolar"
           }
          ],
          "carpet": [
           {
            "aaxis": {
             "endlinecolor": "#2a3f5f",
             "gridcolor": "white",
             "linecolor": "white",
             "minorgridcolor": "white",
             "startlinecolor": "#2a3f5f"
            },
            "baxis": {
             "endlinecolor": "#2a3f5f",
             "gridcolor": "white",
             "linecolor": "white",
             "minorgridcolor": "white",
             "startlinecolor": "#2a3f5f"
            },
            "type": "carpet"
           }
          ],
          "choropleth": [
           {
            "colorbar": {
             "outlinewidth": 0,
             "ticks": ""
            },
            "type": "choropleth"
           }
          ],
          "contour": [
           {
            "colorbar": {
             "outlinewidth": 0,
             "ticks": ""
            },
            "colorscale": [
             [
              0,
              "#0d0887"
             ],
             [
              0.1111111111111111,
              "#46039f"
             ],
             [
              0.2222222222222222,
              "#7201a8"
             ],
             [
              0.3333333333333333,
              "#9c179e"
             ],
             [
              0.4444444444444444,
              "#bd3786"
             ],
             [
              0.5555555555555556,
              "#d8576b"
             ],
             [
              0.6666666666666666,
              "#ed7953"
             ],
             [
              0.7777777777777778,
              "#fb9f3a"
             ],
             [
              0.8888888888888888,
              "#fdca26"
             ],
             [
              1,
              "#f0f921"
             ]
            ],
            "type": "contour"
           }
          ],
          "contourcarpet": [
           {
            "colorbar": {
             "outlinewidth": 0,
             "ticks": ""
            },
            "type": "contourcarpet"
           }
          ],
          "heatmap": [
           {
            "colorbar": {
             "outlinewidth": 0,
             "ticks": ""
            },
            "colorscale": [
             [
              0,
              "#0d0887"
             ],
             [
              0.1111111111111111,
              "#46039f"
             ],
             [
              0.2222222222222222,
              "#7201a8"
             ],
             [
              0.3333333333333333,
              "#9c179e"
             ],
             [
              0.4444444444444444,
              "#bd3786"
             ],
             [
              0.5555555555555556,
              "#d8576b"
             ],
             [
              0.6666666666666666,
              "#ed7953"
             ],
             [
              0.7777777777777778,
              "#fb9f3a"
             ],
             [
              0.8888888888888888,
              "#fdca26"
             ],
             [
              1,
              "#f0f921"
             ]
            ],
            "type": "heatmap"
           }
          ],
          "heatmapgl": [
           {
            "colorbar": {
             "outlinewidth": 0,
             "ticks": ""
            },
            "colorscale": [
             [
              0,
              "#0d0887"
             ],
             [
              0.1111111111111111,
              "#46039f"
             ],
             [
              0.2222222222222222,
              "#7201a8"
             ],
             [
              0.3333333333333333,
              "#9c179e"
             ],
             [
              0.4444444444444444,
              "#bd3786"
             ],
             [
              0.5555555555555556,
              "#d8576b"
             ],
             [
              0.6666666666666666,
              "#ed7953"
             ],
             [
              0.7777777777777778,
              "#fb9f3a"
             ],
             [
              0.8888888888888888,
              "#fdca26"
             ],
             [
              1,
              "#f0f921"
             ]
            ],
            "type": "heatmapgl"
           }
          ],
          "histogram": [
           {
            "marker": {
             "colorbar": {
              "outlinewidth": 0,
              "ticks": ""
             }
            },
            "type": "histogram"
           }
          ],
          "histogram2d": [
           {
            "colorbar": {
             "outlinewidth": 0,
             "ticks": ""
            },
            "colorscale": [
             [
              0,
              "#0d0887"
             ],
             [
              0.1111111111111111,
              "#46039f"
             ],
             [
              0.2222222222222222,
              "#7201a8"
             ],
             [
              0.3333333333333333,
              "#9c179e"
             ],
             [
              0.4444444444444444,
              "#bd3786"
             ],
             [
              0.5555555555555556,
              "#d8576b"
             ],
             [
              0.6666666666666666,
              "#ed7953"
             ],
             [
              0.7777777777777778,
              "#fb9f3a"
             ],
             [
              0.8888888888888888,
              "#fdca26"
             ],
             [
              1,
              "#f0f921"
             ]
            ],
            "type": "histogram2d"
           }
          ],
          "histogram2dcontour": [
           {
            "colorbar": {
             "outlinewidth": 0,
             "ticks": ""
            },
            "colorscale": [
             [
              0,
              "#0d0887"
             ],
             [
              0.1111111111111111,
              "#46039f"
             ],
             [
              0.2222222222222222,
              "#7201a8"
             ],
             [
              0.3333333333333333,
              "#9c179e"
             ],
             [
              0.4444444444444444,
              "#bd3786"
             ],
             [
              0.5555555555555556,
              "#d8576b"
             ],
             [
              0.6666666666666666,
              "#ed7953"
             ],
             [
              0.7777777777777778,
              "#fb9f3a"
             ],
             [
              0.8888888888888888,
              "#fdca26"
             ],
             [
              1,
              "#f0f921"
             ]
            ],
            "type": "histogram2dcontour"
           }
          ],
          "mesh3d": [
           {
            "colorbar": {
             "outlinewidth": 0,
             "ticks": ""
            },
            "type": "mesh3d"
           }
          ],
          "parcoords": [
           {
            "line": {
             "colorbar": {
              "outlinewidth": 0,
              "ticks": ""
             }
            },
            "type": "parcoords"
           }
          ],
          "pie": [
           {
            "automargin": true,
            "type": "pie"
           }
          ],
          "scatter": [
           {
            "marker": {
             "colorbar": {
              "outlinewidth": 0,
              "ticks": ""
             }
            },
            "type": "scatter"
           }
          ],
          "scatter3d": [
           {
            "line": {
             "colorbar": {
              "outlinewidth": 0,
              "ticks": ""
             }
            },
            "marker": {
             "colorbar": {
              "outlinewidth": 0,
              "ticks": ""
             }
            },
            "type": "scatter3d"
           }
          ],
          "scattercarpet": [
           {
            "marker": {
             "colorbar": {
              "outlinewidth": 0,
              "ticks": ""
             }
            },
            "type": "scattercarpet"
           }
          ],
          "scattergeo": [
           {
            "marker": {
             "colorbar": {
              "outlinewidth": 0,
              "ticks": ""
             }
            },
            "type": "scattergeo"
           }
          ],
          "scattergl": [
           {
            "marker": {
             "colorbar": {
              "outlinewidth": 0,
              "ticks": ""
             }
            },
            "type": "scattergl"
           }
          ],
          "scattermapbox": [
           {
            "marker": {
             "colorbar": {
              "outlinewidth": 0,
              "ticks": ""
             }
            },
            "type": "scattermapbox"
           }
          ],
          "scatterpolar": [
           {
            "marker": {
             "colorbar": {
              "outlinewidth": 0,
              "ticks": ""
             }
            },
            "type": "scatterpolar"
           }
          ],
          "scatterpolargl": [
           {
            "marker": {
             "colorbar": {
              "outlinewidth": 0,
              "ticks": ""
             }
            },
            "type": "scatterpolargl"
           }
          ],
          "scatterternary": [
           {
            "marker": {
             "colorbar": {
              "outlinewidth": 0,
              "ticks": ""
             }
            },
            "type": "scatterternary"
           }
          ],
          "surface": [
           {
            "colorbar": {
             "outlinewidth": 0,
             "ticks": ""
            },
            "colorscale": [
             [
              0,
              "#0d0887"
             ],
             [
              0.1111111111111111,
              "#46039f"
             ],
             [
              0.2222222222222222,
              "#7201a8"
             ],
             [
              0.3333333333333333,
              "#9c179e"
             ],
             [
              0.4444444444444444,
              "#bd3786"
             ],
             [
              0.5555555555555556,
              "#d8576b"
             ],
             [
              0.6666666666666666,
              "#ed7953"
             ],
             [
              0.7777777777777778,
              "#fb9f3a"
             ],
             [
              0.8888888888888888,
              "#fdca26"
             ],
             [
              1,
              "#f0f921"
             ]
            ],
            "type": "surface"
           }
          ],
          "table": [
           {
            "cells": {
             "fill": {
              "color": "#EBF0F8"
             },
             "line": {
              "color": "white"
             }
            },
            "header": {
             "fill": {
              "color": "#C8D4E3"
             },
             "line": {
              "color": "white"
             }
            },
            "type": "table"
           }
          ]
         },
         "layout": {
          "annotationdefaults": {
           "arrowcolor": "#2a3f5f",
           "arrowhead": 0,
           "arrowwidth": 1
          },
          "coloraxis": {
           "colorbar": {
            "outlinewidth": 0,
            "ticks": ""
           }
          },
          "colorscale": {
           "diverging": [
            [
             0,
             "#8e0152"
            ],
            [
             0.1,
             "#c51b7d"
            ],
            [
             0.2,
             "#de77ae"
            ],
            [
             0.3,
             "#f1b6da"
            ],
            [
             0.4,
             "#fde0ef"
            ],
            [
             0.5,
             "#f7f7f7"
            ],
            [
             0.6,
             "#e6f5d0"
            ],
            [
             0.7,
             "#b8e186"
            ],
            [
             0.8,
             "#7fbc41"
            ],
            [
             0.9,
             "#4d9221"
            ],
            [
             1,
             "#276419"
            ]
           ],
           "sequential": [
            [
             0,
             "#0d0887"
            ],
            [
             0.1111111111111111,
             "#46039f"
            ],
            [
             0.2222222222222222,
             "#7201a8"
            ],
            [
             0.3333333333333333,
             "#9c179e"
            ],
            [
             0.4444444444444444,
             "#bd3786"
            ],
            [
             0.5555555555555556,
             "#d8576b"
            ],
            [
             0.6666666666666666,
             "#ed7953"
            ],
            [
             0.7777777777777778,
             "#fb9f3a"
            ],
            [
             0.8888888888888888,
             "#fdca26"
            ],
            [
             1,
             "#f0f921"
            ]
           ],
           "sequentialminus": [
            [
             0,
             "#0d0887"
            ],
            [
             0.1111111111111111,
             "#46039f"
            ],
            [
             0.2222222222222222,
             "#7201a8"
            ],
            [
             0.3333333333333333,
             "#9c179e"
            ],
            [
             0.4444444444444444,
             "#bd3786"
            ],
            [
             0.5555555555555556,
             "#d8576b"
            ],
            [
             0.6666666666666666,
             "#ed7953"
            ],
            [
             0.7777777777777778,
             "#fb9f3a"
            ],
            [
             0.8888888888888888,
             "#fdca26"
            ],
            [
             1,
             "#f0f921"
            ]
           ]
          },
          "colorway": [
           "#636efa",
           "#EF553B",
           "#00cc96",
           "#ab63fa",
           "#FFA15A",
           "#19d3f3",
           "#FF6692",
           "#B6E880",
           "#FF97FF",
           "#FECB52"
          ],
          "font": {
           "color": "#2a3f5f"
          },
          "geo": {
           "bgcolor": "white",
           "lakecolor": "white",
           "landcolor": "#E5ECF6",
           "showlakes": true,
           "showland": true,
           "subunitcolor": "white"
          },
          "hoverlabel": {
           "align": "left"
          },
          "hovermode": "closest",
          "mapbox": {
           "style": "light"
          },
          "paper_bgcolor": "white",
          "plot_bgcolor": "#E5ECF6",
          "polar": {
           "angularaxis": {
            "gridcolor": "white",
            "linecolor": "white",
            "ticks": ""
           },
           "bgcolor": "#E5ECF6",
           "radialaxis": {
            "gridcolor": "white",
            "linecolor": "white",
            "ticks": ""
           }
          },
          "scene": {
           "xaxis": {
            "backgroundcolor": "#E5ECF6",
            "gridcolor": "white",
            "gridwidth": 2,
            "linecolor": "white",
            "showbackground": true,
            "ticks": "",
            "zerolinecolor": "white"
           },
           "yaxis": {
            "backgroundcolor": "#E5ECF6",
            "gridcolor": "white",
            "gridwidth": 2,
            "linecolor": "white",
            "showbackground": true,
            "ticks": "",
            "zerolinecolor": "white"
           },
           "zaxis": {
            "backgroundcolor": "#E5ECF6",
            "gridcolor": "white",
            "gridwidth": 2,
            "linecolor": "white",
            "showbackground": true,
            "ticks": "",
            "zerolinecolor": "white"
           }
          },
          "shapedefaults": {
           "line": {
            "color": "#2a3f5f"
           }
          },
          "ternary": {
           "aaxis": {
            "gridcolor": "white",
            "linecolor": "white",
            "ticks": ""
           },
           "baxis": {
            "gridcolor": "white",
            "linecolor": "white",
            "ticks": ""
           },
           "bgcolor": "#E5ECF6",
           "caxis": {
            "gridcolor": "white",
            "linecolor": "white",
            "ticks": ""
           }
          },
          "title": {
           "x": 0.05
          },
          "xaxis": {
           "automargin": true,
           "gridcolor": "white",
           "linecolor": "white",
           "ticks": "",
           "title": {
            "standoff": 15
           },
           "zerolinecolor": "white",
           "zerolinewidth": 2
          },
          "yaxis": {
           "automargin": true,
           "gridcolor": "white",
           "linecolor": "white",
           "ticks": "",
           "title": {
            "standoff": 15
           },
           "zerolinecolor": "white",
           "zerolinewidth": 2
          }
         }
        }
       }
      },
      "text/html": "<div>\n        \n        \n            <div id=\"4bcb7673-4006-4500-b642-8619a300b265\" class=\"plotly-graph-div\" style=\"height:525px; width:100%;\"></div>\n            <script type=\"text/javascript\">\n                require([\"plotly\"], function(Plotly) {\n                    window.PLOTLYENV=window.PLOTLYENV || {};\n                    \n                if (document.getElementById(\"4bcb7673-4006-4500-b642-8619a300b265\")) {\n                    Plotly.newPlot(\n                        '4bcb7673-4006-4500-b642-8619a300b265',\n                        [{\"type\": \"scatter\", \"x\": [1, 2], \"y\": [1, 2]}, {\"type\": \"scatter\", \"x\": [1, 2], \"y\": [2, 1]}],\n                        {\"template\": {\"data\": {\"bar\": [{\"error_x\": {\"color\": \"#2a3f5f\"}, \"error_y\": {\"color\": \"#2a3f5f\"}, \"marker\": {\"line\": {\"color\": \"#E5ECF6\", \"width\": 0.5}}, \"type\": \"bar\"}], \"barpolar\": [{\"marker\": {\"line\": {\"color\": \"#E5ECF6\", \"width\": 0.5}}, \"type\": \"barpolar\"}], \"carpet\": [{\"aaxis\": {\"endlinecolor\": \"#2a3f5f\", \"gridcolor\": \"white\", \"linecolor\": \"white\", \"minorgridcolor\": \"white\", \"startlinecolor\": \"#2a3f5f\"}, \"baxis\": {\"endlinecolor\": \"#2a3f5f\", \"gridcolor\": \"white\", \"linecolor\": \"white\", \"minorgridcolor\": \"white\", \"startlinecolor\": \"#2a3f5f\"}, \"type\": \"carpet\"}], \"choropleth\": [{\"colorbar\": {\"outlinewidth\": 0, \"ticks\": \"\"}, \"type\": \"choropleth\"}], \"contour\": [{\"colorbar\": {\"outlinewidth\": 0, \"ticks\": \"\"}, \"colorscale\": [[0.0, \"#0d0887\"], [0.1111111111111111, \"#46039f\"], [0.2222222222222222, \"#7201a8\"], [0.3333333333333333, \"#9c179e\"], [0.4444444444444444, \"#bd3786\"], [0.5555555555555556, \"#d8576b\"], [0.6666666666666666, \"#ed7953\"], [0.7777777777777778, \"#fb9f3a\"], [0.8888888888888888, \"#fdca26\"], [1.0, \"#f0f921\"]], \"type\": \"contour\"}], \"contourcarpet\": [{\"colorbar\": {\"outlinewidth\": 0, \"ticks\": \"\"}, \"type\": \"contourcarpet\"}], \"heatmap\": [{\"colorbar\": {\"outlinewidth\": 0, \"ticks\": \"\"}, \"colorscale\": [[0.0, \"#0d0887\"], [0.1111111111111111, \"#46039f\"], [0.2222222222222222, \"#7201a8\"], [0.3333333333333333, \"#9c179e\"], [0.4444444444444444, \"#bd3786\"], [0.5555555555555556, \"#d8576b\"], [0.6666666666666666, \"#ed7953\"], [0.7777777777777778, \"#fb9f3a\"], [0.8888888888888888, \"#fdca26\"], [1.0, \"#f0f921\"]], \"type\": \"heatmap\"}], \"heatmapgl\": [{\"colorbar\": {\"outlinewidth\": 0, \"ticks\": \"\"}, \"colorscale\": [[0.0, \"#0d0887\"], [0.1111111111111111, \"#46039f\"], [0.2222222222222222, \"#7201a8\"], [0.3333333333333333, \"#9c179e\"], [0.4444444444444444, \"#bd3786\"], [0.5555555555555556, \"#d8576b\"], [0.6666666666666666, \"#ed7953\"], [0.7777777777777778, \"#fb9f3a\"], [0.8888888888888888, \"#fdca26\"], [1.0, \"#f0f921\"]], \"type\": \"heatmapgl\"}], \"histogram\": [{\"marker\": {\"colorbar\": {\"outlinewidth\": 0, \"ticks\": \"\"}}, \"type\": \"histogram\"}], \"histogram2d\": [{\"colorbar\": {\"outlinewidth\": 0, \"ticks\": \"\"}, \"colorscale\": [[0.0, \"#0d0887\"], [0.1111111111111111, \"#46039f\"], [0.2222222222222222, \"#7201a8\"], [0.3333333333333333, \"#9c179e\"], [0.4444444444444444, \"#bd3786\"], [0.5555555555555556, \"#d8576b\"], [0.6666666666666666, \"#ed7953\"], [0.7777777777777778, \"#fb9f3a\"], [0.8888888888888888, \"#fdca26\"], [1.0, \"#f0f921\"]], \"type\": \"histogram2d\"}], \"histogram2dcontour\": [{\"colorbar\": {\"outlinewidth\": 0, \"ticks\": \"\"}, \"colorscale\": [[0.0, \"#0d0887\"], [0.1111111111111111, \"#46039f\"], [0.2222222222222222, \"#7201a8\"], [0.3333333333333333, \"#9c179e\"], [0.4444444444444444, \"#bd3786\"], [0.5555555555555556, \"#d8576b\"], [0.6666666666666666, \"#ed7953\"], [0.7777777777777778, \"#fb9f3a\"], [0.8888888888888888, \"#fdca26\"], [1.0, \"#f0f921\"]], \"type\": \"histogram2dcontour\"}], \"mesh3d\": [{\"colorbar\": {\"outlinewidth\": 0, \"ticks\": \"\"}, \"type\": \"mesh3d\"}], \"parcoords\": [{\"line\": {\"colorbar\": {\"outlinewidth\": 0, \"ticks\": \"\"}}, \"type\": \"parcoords\"}], \"pie\": [{\"automargin\": true, \"type\": \"pie\"}], \"scatter\": [{\"marker\": {\"colorbar\": {\"outlinewidth\": 0, \"ticks\": \"\"}}, \"type\": \"scatter\"}], \"scatter3d\": [{\"line\": {\"colorbar\": {\"outlinewidth\": 0, \"ticks\": \"\"}}, \"marker\": {\"colorbar\": {\"outlinewidth\": 0, \"ticks\": \"\"}}, \"type\": \"scatter3d\"}], \"scattercarpet\": [{\"marker\": {\"colorbar\": {\"outlinewidth\": 0, \"ticks\": \"\"}}, \"type\": \"scattercarpet\"}], \"scattergeo\": [{\"marker\": {\"colorbar\": {\"outlinewidth\": 0, \"ticks\": \"\"}}, \"type\": \"scattergeo\"}], \"scattergl\": [{\"marker\": {\"colorbar\": {\"outlinewidth\": 0, \"ticks\": \"\"}}, \"type\": \"scattergl\"}], \"scattermapbox\": [{\"marker\": {\"colorbar\": {\"outlinewidth\": 0, \"ticks\": \"\"}}, \"type\": \"scattermapbox\"}], \"scatterpolar\": [{\"marker\": {\"colorbar\": {\"outlinewidth\": 0, \"ticks\": \"\"}}, \"type\": \"scatterpolar\"}], \"scatterpolargl\": [{\"marker\": {\"colorbar\": {\"outlinewidth\": 0, \"ticks\": \"\"}}, \"type\": \"scatterpolargl\"}], \"scatterternary\": [{\"marker\": {\"colorbar\": {\"outlinewidth\": 0, \"ticks\": \"\"}}, \"type\": \"scatterternary\"}], \"surface\": [{\"colorbar\": {\"outlinewidth\": 0, \"ticks\": \"\"}, \"colorscale\": [[0.0, \"#0d0887\"], [0.1111111111111111, \"#46039f\"], [0.2222222222222222, \"#7201a8\"], [0.3333333333333333, \"#9c179e\"], [0.4444444444444444, \"#bd3786\"], [0.5555555555555556, \"#d8576b\"], [0.6666666666666666, \"#ed7953\"], [0.7777777777777778, \"#fb9f3a\"], [0.8888888888888888, \"#fdca26\"], [1.0, \"#f0f921\"]], \"type\": \"surface\"}], \"table\": [{\"cells\": {\"fill\": {\"color\": \"#EBF0F8\"}, \"line\": {\"color\": \"white\"}}, \"header\": {\"fill\": {\"color\": \"#C8D4E3\"}, \"line\": {\"color\": \"white\"}}, \"type\": \"table\"}]}, \"layout\": {\"annotationdefaults\": {\"arrowcolor\": \"#2a3f5f\", \"arrowhead\": 0, \"arrowwidth\": 1}, \"coloraxis\": {\"colorbar\": {\"outlinewidth\": 0, \"ticks\": \"\"}}, \"colorscale\": {\"diverging\": [[0, \"#8e0152\"], [0.1, \"#c51b7d\"], [0.2, \"#de77ae\"], [0.3, \"#f1b6da\"], [0.4, \"#fde0ef\"], [0.5, \"#f7f7f7\"], [0.6, \"#e6f5d0\"], [0.7, \"#b8e186\"], [0.8, \"#7fbc41\"], [0.9, \"#4d9221\"], [1, \"#276419\"]], \"sequential\": [[0.0, \"#0d0887\"], [0.1111111111111111, \"#46039f\"], [0.2222222222222222, \"#7201a8\"], [0.3333333333333333, \"#9c179e\"], [0.4444444444444444, \"#bd3786\"], [0.5555555555555556, \"#d8576b\"], [0.6666666666666666, \"#ed7953\"], [0.7777777777777778, \"#fb9f3a\"], [0.8888888888888888, \"#fdca26\"], [1.0, \"#f0f921\"]], \"sequentialminus\": [[0.0, \"#0d0887\"], [0.1111111111111111, \"#46039f\"], [0.2222222222222222, \"#7201a8\"], [0.3333333333333333, \"#9c179e\"], [0.4444444444444444, \"#bd3786\"], [0.5555555555555556, \"#d8576b\"], [0.6666666666666666, \"#ed7953\"], [0.7777777777777778, \"#fb9f3a\"], [0.8888888888888888, \"#fdca26\"], [1.0, \"#f0f921\"]]}, \"colorway\": [\"#636efa\", \"#EF553B\", \"#00cc96\", \"#ab63fa\", \"#FFA15A\", \"#19d3f3\", \"#FF6692\", \"#B6E880\", \"#FF97FF\", \"#FECB52\"], \"font\": {\"color\": \"#2a3f5f\"}, \"geo\": {\"bgcolor\": \"white\", \"lakecolor\": \"white\", \"landcolor\": \"#E5ECF6\", \"showlakes\": true, \"showland\": true, \"subunitcolor\": \"white\"}, \"hoverlabel\": {\"align\": \"left\"}, \"hovermode\": \"closest\", \"mapbox\": {\"style\": \"light\"}, \"paper_bgcolor\": \"white\", \"plot_bgcolor\": \"#E5ECF6\", \"polar\": {\"angularaxis\": {\"gridcolor\": \"white\", \"linecolor\": \"white\", \"ticks\": \"\"}, \"bgcolor\": \"#E5ECF6\", \"radialaxis\": {\"gridcolor\": \"white\", \"linecolor\": \"white\", \"ticks\": \"\"}}, \"scene\": {\"xaxis\": {\"backgroundcolor\": \"#E5ECF6\", \"gridcolor\": \"white\", \"gridwidth\": 2, \"linecolor\": \"white\", \"showbackground\": true, \"ticks\": \"\", \"zerolinecolor\": \"white\"}, \"yaxis\": {\"backgroundcolor\": \"#E5ECF6\", \"gridcolor\": \"white\", \"gridwidth\": 2, \"linecolor\": \"white\", \"showbackground\": true, \"ticks\": \"\", \"zerolinecolor\": \"white\"}, \"zaxis\": {\"backgroundcolor\": \"#E5ECF6\", \"gridcolor\": \"white\", \"gridwidth\": 2, \"linecolor\": \"white\", \"showbackground\": true, \"ticks\": \"\", \"zerolinecolor\": \"white\"}}, \"shapedefaults\": {\"line\": {\"color\": \"#2a3f5f\"}}, \"ternary\": {\"aaxis\": {\"gridcolor\": \"white\", \"linecolor\": \"white\", \"ticks\": \"\"}, \"baxis\": {\"gridcolor\": \"white\", \"linecolor\": \"white\", \"ticks\": \"\"}, \"bgcolor\": \"#E5ECF6\", \"caxis\": {\"gridcolor\": \"white\", \"linecolor\": \"white\", \"ticks\": \"\"}}, \"title\": {\"x\": 0.05}, \"xaxis\": {\"automargin\": true, \"gridcolor\": \"white\", \"linecolor\": \"white\", \"ticks\": \"\", \"title\": {\"standoff\": 15}, \"zerolinecolor\": \"white\", \"zerolinewidth\": 2}, \"yaxis\": {\"automargin\": true, \"gridcolor\": \"white\", \"linecolor\": \"white\", \"ticks\": \"\", \"title\": {\"standoff\": 15}, \"zerolinecolor\": \"white\", \"zerolinewidth\": 2}}}},\n                        {\"responsive\": true}\n                    ).then(function(){\n                            \nvar gd = document.getElementById('4bcb7673-4006-4500-b642-8619a300b265');\nvar x = new MutationObserver(function (mutations, observer) {{\n        var display = window.getComputedStyle(gd).display;\n        if (!display || display === 'none') {{\n            console.log([gd, 'removed!']);\n            Plotly.purge(gd);\n            observer.disconnect();\n        }}\n}});\n\n// Listen for the removal of the full notebook cells\nvar notebookContainer = gd.closest('#notebook-container');\nif (notebookContainer) {{\n    x.observe(notebookContainer, {childList: true});\n}}\n\n// Listen for the clearing of the current output cell\nvar outputEl = gd.closest('.output');\nif (outputEl) {{\n    x.observe(outputEl, {childList: true});\n}}\n\n                        })\n                };\n                });\n            </script>\n        </div>"
     },
     "metadata": {}
    },
    {
     "output_type": "display_data",
     "data": {
      "application/vnd.plotly.v1+json": {
       "config": {
        "linkText": "Export to plot.ly",
        "plotlyServerURL": "https://plot.ly",
        "showLink": false
       },
       "data": [
        {
         "marker": {
          "color": [
           "red",
           "blue",
           "green"
          ],
          "size": [
           30,
           80,
           100
          ]
         },
         "mode": "markers",
         "type": "scatter",
         "x": [
          1,
          2,
          3
         ],
         "y": [
          1,
          2,
          3
         ]
        }
       ],
       "layout": {
        "template": {
         "data": {
          "bar": [
           {
            "error_x": {
             "color": "#2a3f5f"
            },
            "error_y": {
             "color": "#2a3f5f"
            },
            "marker": {
             "line": {
              "color": "#E5ECF6",
              "width": 0.5
             }
            },
            "type": "bar"
           }
          ],
          "barpolar": [
           {
            "marker": {
             "line": {
              "color": "#E5ECF6",
              "width": 0.5
             }
            },
            "type": "barpolar"
           }
          ],
          "carpet": [
           {
            "aaxis": {
             "endlinecolor": "#2a3f5f",
             "gridcolor": "white",
             "linecolor": "white",
             "minorgridcolor": "white",
             "startlinecolor": "#2a3f5f"
            },
            "baxis": {
             "endlinecolor": "#2a3f5f",
             "gridcolor": "white",
             "linecolor": "white",
             "minorgridcolor": "white",
             "startlinecolor": "#2a3f5f"
            },
            "type": "carpet"
           }
          ],
          "choropleth": [
           {
            "colorbar": {
             "outlinewidth": 0,
             "ticks": ""
            },
            "type": "choropleth"
           }
          ],
          "contour": [
           {
            "colorbar": {
             "outlinewidth": 0,
             "ticks": ""
            },
            "colorscale": [
             [
              0,
              "#0d0887"
             ],
             [
              0.1111111111111111,
              "#46039f"
             ],
             [
              0.2222222222222222,
              "#7201a8"
             ],
             [
              0.3333333333333333,
              "#9c179e"
             ],
             [
              0.4444444444444444,
              "#bd3786"
             ],
             [
              0.5555555555555556,
              "#d8576b"
             ],
             [
              0.6666666666666666,
              "#ed7953"
             ],
             [
              0.7777777777777778,
              "#fb9f3a"
             ],
             [
              0.8888888888888888,
              "#fdca26"
             ],
             [
              1,
              "#f0f921"
             ]
            ],
            "type": "contour"
           }
          ],
          "contourcarpet": [
           {
            "colorbar": {
             "outlinewidth": 0,
             "ticks": ""
            },
            "type": "contourcarpet"
           }
          ],
          "heatmap": [
           {
            "colorbar": {
             "outlinewidth": 0,
             "ticks": ""
            },
            "colorscale": [
             [
              0,
              "#0d0887"
             ],
             [
              0.1111111111111111,
              "#46039f"
             ],
             [
              0.2222222222222222,
              "#7201a8"
             ],
             [
              0.3333333333333333,
              "#9c179e"
             ],
             [
              0.4444444444444444,
              "#bd3786"
             ],
             [
              0.5555555555555556,
              "#d8576b"
             ],
             [
              0.6666666666666666,
              "#ed7953"
             ],
             [
              0.7777777777777778,
              "#fb9f3a"
             ],
             [
              0.8888888888888888,
              "#fdca26"
             ],
             [
              1,
              "#f0f921"
             ]
            ],
            "type": "heatmap"
           }
          ],
          "heatmapgl": [
           {
            "colorbar": {
             "outlinewidth": 0,
             "ticks": ""
            },
            "colorscale": [
             [
              0,
              "#0d0887"
             ],
             [
              0.1111111111111111,
              "#46039f"
             ],
             [
              0.2222222222222222,
              "#7201a8"
             ],
             [
              0.3333333333333333,
              "#9c179e"
             ],
             [
              0.4444444444444444,
              "#bd3786"
             ],
             [
              0.5555555555555556,
              "#d8576b"
             ],
             [
              0.6666666666666666,
              "#ed7953"
             ],
             [
              0.7777777777777778,
              "#fb9f3a"
             ],
             [
              0.8888888888888888,
              "#fdca26"
             ],
             [
              1,
              "#f0f921"
             ]
            ],
            "type": "heatmapgl"
           }
          ],
          "histogram": [
           {
            "marker": {
             "colorbar": {
              "outlinewidth": 0,
              "ticks": ""
             }
            },
            "type": "histogram"
           }
          ],
          "histogram2d": [
           {
            "colorbar": {
             "outlinewidth": 0,
             "ticks": ""
            },
            "colorscale": [
             [
              0,
              "#0d0887"
             ],
             [
              0.1111111111111111,
              "#46039f"
             ],
             [
              0.2222222222222222,
              "#7201a8"
             ],
             [
              0.3333333333333333,
              "#9c179e"
             ],
             [
              0.4444444444444444,
              "#bd3786"
             ],
             [
              0.5555555555555556,
              "#d8576b"
             ],
             [
              0.6666666666666666,
              "#ed7953"
             ],
             [
              0.7777777777777778,
              "#fb9f3a"
             ],
             [
              0.8888888888888888,
              "#fdca26"
             ],
             [
              1,
              "#f0f921"
             ]
            ],
            "type": "histogram2d"
           }
          ],
          "histogram2dcontour": [
           {
            "colorbar": {
             "outlinewidth": 0,
             "ticks": ""
            },
            "colorscale": [
             [
              0,
              "#0d0887"
             ],
             [
              0.1111111111111111,
              "#46039f"
             ],
             [
              0.2222222222222222,
              "#7201a8"
             ],
             [
              0.3333333333333333,
              "#9c179e"
             ],
             [
              0.4444444444444444,
              "#bd3786"
             ],
             [
              0.5555555555555556,
              "#d8576b"
             ],
             [
              0.6666666666666666,
              "#ed7953"
             ],
             [
              0.7777777777777778,
              "#fb9f3a"
             ],
             [
              0.8888888888888888,
              "#fdca26"
             ],
             [
              1,
              "#f0f921"
             ]
            ],
            "type": "histogram2dcontour"
           }
          ],
          "mesh3d": [
           {
            "colorbar": {
             "outlinewidth": 0,
             "ticks": ""
            },
            "type": "mesh3d"
           }
          ],
          "parcoords": [
           {
            "line": {
             "colorbar": {
              "outlinewidth": 0,
              "ticks": ""
             }
            },
            "type": "parcoords"
           }
          ],
          "pie": [
           {
            "automargin": true,
            "type": "pie"
           }
          ],
          "scatter": [
           {
            "marker": {
             "colorbar": {
              "outlinewidth": 0,
              "ticks": ""
             }
            },
            "type": "scatter"
           }
          ],
          "scatter3d": [
           {
            "line": {
             "colorbar": {
              "outlinewidth": 0,
              "ticks": ""
             }
            },
            "marker": {
             "colorbar": {
              "outlinewidth": 0,
              "ticks": ""
             }
            },
            "type": "scatter3d"
           }
          ],
          "scattercarpet": [
           {
            "marker": {
             "colorbar": {
              "outlinewidth": 0,
              "ticks": ""
             }
            },
            "type": "scattercarpet"
           }
          ],
          "scattergeo": [
           {
            "marker": {
             "colorbar": {
              "outlinewidth": 0,
              "ticks": ""
             }
            },
            "type": "scattergeo"
           }
          ],
          "scattergl": [
           {
            "marker": {
             "colorbar": {
              "outlinewidth": 0,
              "ticks": ""
             }
            },
            "type": "scattergl"
           }
          ],
          "scattermapbox": [
           {
            "marker": {
             "colorbar": {
              "outlinewidth": 0,
              "ticks": ""
             }
            },
            "type": "scattermapbox"
           }
          ],
          "scatterpolar": [
           {
            "marker": {
             "colorbar": {
              "outlinewidth": 0,
              "ticks": ""
             }
            },
            "type": "scatterpolar"
           }
          ],
          "scatterpolargl": [
           {
            "marker": {
             "colorbar": {
              "outlinewidth": 0,
              "ticks": ""
             }
            },
            "type": "scatterpolargl"
           }
          ],
          "scatterternary": [
           {
            "marker": {
             "colorbar": {
              "outlinewidth": 0,
              "ticks": ""
             }
            },
            "type": "scatterternary"
           }
          ],
          "surface": [
           {
            "colorbar": {
             "outlinewidth": 0,
             "ticks": ""
            },
            "colorscale": [
             [
              0,
              "#0d0887"
             ],
             [
              0.1111111111111111,
              "#46039f"
             ],
             [
              0.2222222222222222,
              "#7201a8"
             ],
             [
              0.3333333333333333,
              "#9c179e"
             ],
             [
              0.4444444444444444,
              "#bd3786"
             ],
             [
              0.5555555555555556,
              "#d8576b"
             ],
             [
              0.6666666666666666,
              "#ed7953"
             ],
             [
              0.7777777777777778,
              "#fb9f3a"
             ],
             [
              0.8888888888888888,
              "#fdca26"
             ],
             [
              1,
              "#f0f921"
             ]
            ],
            "type": "surface"
           }
          ],
          "table": [
           {
            "cells": {
             "fill": {
              "color": "#EBF0F8"
             },
             "line": {
              "color": "white"
             }
            },
            "header": {
             "fill": {
              "color": "#C8D4E3"
             },
             "line": {
              "color": "white"
             }
            },
            "type": "table"
           }
          ]
         },
         "layout": {
          "annotationdefaults": {
           "arrowcolor": "#2a3f5f",
           "arrowhead": 0,
           "arrowwidth": 1
          },
          "coloraxis": {
           "colorbar": {
            "outlinewidth": 0,
            "ticks": ""
           }
          },
          "colorscale": {
           "diverging": [
            [
             0,
             "#8e0152"
            ],
            [
             0.1,
             "#c51b7d"
            ],
            [
             0.2,
             "#de77ae"
            ],
            [
             0.3,
             "#f1b6da"
            ],
            [
             0.4,
             "#fde0ef"
            ],
            [
             0.5,
             "#f7f7f7"
            ],
            [
             0.6,
             "#e6f5d0"
            ],
            [
             0.7,
             "#b8e186"
            ],
            [
             0.8,
             "#7fbc41"
            ],
            [
             0.9,
             "#4d9221"
            ],
            [
             1,
             "#276419"
            ]
           ],
           "sequential": [
            [
             0,
             "#0d0887"
            ],
            [
             0.1111111111111111,
             "#46039f"
            ],
            [
             0.2222222222222222,
             "#7201a8"
            ],
            [
             0.3333333333333333,
             "#9c179e"
            ],
            [
             0.4444444444444444,
             "#bd3786"
            ],
            [
             0.5555555555555556,
             "#d8576b"
            ],
            [
             0.6666666666666666,
             "#ed7953"
            ],
            [
             0.7777777777777778,
             "#fb9f3a"
            ],
            [
             0.8888888888888888,
             "#fdca26"
            ],
            [
             1,
             "#f0f921"
            ]
           ],
           "sequentialminus": [
            [
             0,
             "#0d0887"
            ],
            [
             0.1111111111111111,
             "#46039f"
            ],
            [
             0.2222222222222222,
             "#7201a8"
            ],
            [
             0.3333333333333333,
             "#9c179e"
            ],
            [
             0.4444444444444444,
             "#bd3786"
            ],
            [
             0.5555555555555556,
             "#d8576b"
            ],
            [
             0.6666666666666666,
             "#ed7953"
            ],
            [
             0.7777777777777778,
             "#fb9f3a"
            ],
            [
             0.8888888888888888,
             "#fdca26"
            ],
            [
             1,
             "#f0f921"
            ]
           ]
          },
          "colorway": [
           "#636efa",
           "#EF553B",
           "#00cc96",
           "#ab63fa",
           "#FFA15A",
           "#19d3f3",
           "#FF6692",
           "#B6E880",
           "#FF97FF",
           "#FECB52"
          ],
          "font": {
           "color": "#2a3f5f"
          },
          "geo": {
           "bgcolor": "white",
           "lakecolor": "white",
           "landcolor": "#E5ECF6",
           "showlakes": true,
           "showland": true,
           "subunitcolor": "white"
          },
          "hoverlabel": {
           "align": "left"
          },
          "hovermode": "closest",
          "mapbox": {
           "style": "light"
          },
          "paper_bgcolor": "white",
          "plot_bgcolor": "#E5ECF6",
          "polar": {
           "angularaxis": {
            "gridcolor": "white",
            "linecolor": "white",
            "ticks": ""
           },
           "bgcolor": "#E5ECF6",
           "radialaxis": {
            "gridcolor": "white",
            "linecolor": "white",
            "ticks": ""
           }
          },
          "scene": {
           "xaxis": {
            "backgroundcolor": "#E5ECF6",
            "gridcolor": "white",
            "gridwidth": 2,
            "linecolor": "white",
            "showbackground": true,
            "ticks": "",
            "zerolinecolor": "white"
           },
           "yaxis": {
            "backgroundcolor": "#E5ECF6",
            "gridcolor": "white",
            "gridwidth": 2,
            "linecolor": "white",
            "showbackground": true,
            "ticks": "",
            "zerolinecolor": "white"
           },
           "zaxis": {
            "backgroundcolor": "#E5ECF6",
            "gridcolor": "white",
            "gridwidth": 2,
            "linecolor": "white",
            "showbackground": true,
            "ticks": "",
            "zerolinecolor": "white"
           }
          },
          "shapedefaults": {
           "line": {
            "color": "#2a3f5f"
           }
          },
          "ternary": {
           "aaxis": {
            "gridcolor": "white",
            "linecolor": "white",
            "ticks": ""
           },
           "baxis": {
            "gridcolor": "white",
            "linecolor": "white",
            "ticks": ""
           },
           "bgcolor": "#E5ECF6",
           "caxis": {
            "gridcolor": "white",
            "linecolor": "white",
            "ticks": ""
           }
          },
          "title": {
           "x": 0.05
          },
          "xaxis": {
           "automargin": true,
           "gridcolor": "white",
           "linecolor": "white",
           "ticks": "",
           "title": {
            "standoff": 15
           },
           "zerolinecolor": "white",
           "zerolinewidth": 2
          },
          "yaxis": {
           "automargin": true,
           "gridcolor": "white",
           "linecolor": "white",
           "ticks": "",
           "title": {
            "standoff": 15
           },
           "zerolinecolor": "white",
           "zerolinewidth": 2
          }
         }
        }
       }
      },
      "text/html": "<div>\n        \n        \n            <div id=\"c613b0fd-160b-442a-a868-f2bdb9857577\" class=\"plotly-graph-div\" style=\"height:525px; width:100%;\"></div>\n            <script type=\"text/javascript\">\n                require([\"plotly\"], function(Plotly) {\n                    window.PLOTLYENV=window.PLOTLYENV || {};\n                    \n                if (document.getElementById(\"c613b0fd-160b-442a-a868-f2bdb9857577\")) {\n                    Plotly.newPlot(\n                        'c613b0fd-160b-442a-a868-f2bdb9857577',\n                        [{\"marker\": {\"color\": [\"red\", \"blue\", \"green\"], \"size\": [30, 80, 100]}, \"mode\": \"markers\", \"type\": \"scatter\", \"x\": [1, 2, 3], \"y\": [1, 2, 3]}],\n                        {\"template\": {\"data\": {\"bar\": [{\"error_x\": {\"color\": \"#2a3f5f\"}, \"error_y\": {\"color\": \"#2a3f5f\"}, \"marker\": {\"line\": {\"color\": \"#E5ECF6\", \"width\": 0.5}}, \"type\": \"bar\"}], \"barpolar\": [{\"marker\": {\"line\": {\"color\": \"#E5ECF6\", \"width\": 0.5}}, \"type\": \"barpolar\"}], \"carpet\": [{\"aaxis\": {\"endlinecolor\": \"#2a3f5f\", \"gridcolor\": \"white\", \"linecolor\": \"white\", \"minorgridcolor\": \"white\", \"startlinecolor\": \"#2a3f5f\"}, \"baxis\": {\"endlinecolor\": \"#2a3f5f\", \"gridcolor\": \"white\", \"linecolor\": \"white\", \"minorgridcolor\": \"white\", \"startlinecolor\": \"#2a3f5f\"}, \"type\": \"carpet\"}], \"choropleth\": [{\"colorbar\": {\"outlinewidth\": 0, \"ticks\": \"\"}, \"type\": \"choropleth\"}], \"contour\": [{\"colorbar\": {\"outlinewidth\": 0, \"ticks\": \"\"}, \"colorscale\": [[0.0, \"#0d0887\"], [0.1111111111111111, \"#46039f\"], [0.2222222222222222, \"#7201a8\"], [0.3333333333333333, \"#9c179e\"], [0.4444444444444444, \"#bd3786\"], [0.5555555555555556, \"#d8576b\"], [0.6666666666666666, \"#ed7953\"], [0.7777777777777778, \"#fb9f3a\"], [0.8888888888888888, \"#fdca26\"], [1.0, \"#f0f921\"]], \"type\": \"contour\"}], \"contourcarpet\": [{\"colorbar\": {\"outlinewidth\": 0, \"ticks\": \"\"}, \"type\": \"contourcarpet\"}], \"heatmap\": [{\"colorbar\": {\"outlinewidth\": 0, \"ticks\": \"\"}, \"colorscale\": [[0.0, \"#0d0887\"], [0.1111111111111111, \"#46039f\"], [0.2222222222222222, \"#7201a8\"], [0.3333333333333333, \"#9c179e\"], [0.4444444444444444, \"#bd3786\"], [0.5555555555555556, \"#d8576b\"], [0.6666666666666666, \"#ed7953\"], [0.7777777777777778, \"#fb9f3a\"], [0.8888888888888888, \"#fdca26\"], [1.0, \"#f0f921\"]], \"type\": \"heatmap\"}], \"heatmapgl\": [{\"colorbar\": {\"outlinewidth\": 0, \"ticks\": \"\"}, \"colorscale\": [[0.0, \"#0d0887\"], [0.1111111111111111, \"#46039f\"], [0.2222222222222222, \"#7201a8\"], [0.3333333333333333, \"#9c179e\"], [0.4444444444444444, \"#bd3786\"], [0.5555555555555556, \"#d8576b\"], [0.6666666666666666, \"#ed7953\"], [0.7777777777777778, \"#fb9f3a\"], [0.8888888888888888, \"#fdca26\"], [1.0, \"#f0f921\"]], \"type\": \"heatmapgl\"}], \"histogram\": [{\"marker\": {\"colorbar\": {\"outlinewidth\": 0, \"ticks\": \"\"}}, \"type\": \"histogram\"}], \"histogram2d\": [{\"colorbar\": {\"outlinewidth\": 0, \"ticks\": \"\"}, \"colorscale\": [[0.0, \"#0d0887\"], [0.1111111111111111, \"#46039f\"], [0.2222222222222222, \"#7201a8\"], [0.3333333333333333, \"#9c179e\"], [0.4444444444444444, \"#bd3786\"], [0.5555555555555556, \"#d8576b\"], [0.6666666666666666, \"#ed7953\"], [0.7777777777777778, \"#fb9f3a\"], [0.8888888888888888, \"#fdca26\"], [1.0, \"#f0f921\"]], \"type\": \"histogram2d\"}], \"histogram2dcontour\": [{\"colorbar\": {\"outlinewidth\": 0, \"ticks\": \"\"}, \"colorscale\": [[0.0, \"#0d0887\"], [0.1111111111111111, \"#46039f\"], [0.2222222222222222, \"#7201a8\"], [0.3333333333333333, \"#9c179e\"], [0.4444444444444444, \"#bd3786\"], [0.5555555555555556, \"#d8576b\"], [0.6666666666666666, \"#ed7953\"], [0.7777777777777778, \"#fb9f3a\"], [0.8888888888888888, \"#fdca26\"], [1.0, \"#f0f921\"]], \"type\": \"histogram2dcontour\"}], \"mesh3d\": [{\"colorbar\": {\"outlinewidth\": 0, \"ticks\": \"\"}, \"type\": \"mesh3d\"}], \"parcoords\": [{\"line\": {\"colorbar\": {\"outlinewidth\": 0, \"ticks\": \"\"}}, \"type\": \"parcoords\"}], \"pie\": [{\"automargin\": true, \"type\": \"pie\"}], \"scatter\": [{\"marker\": {\"colorbar\": {\"outlinewidth\": 0, \"ticks\": \"\"}}, \"type\": \"scatter\"}], \"scatter3d\": [{\"line\": {\"colorbar\": {\"outlinewidth\": 0, \"ticks\": \"\"}}, \"marker\": {\"colorbar\": {\"outlinewidth\": 0, \"ticks\": \"\"}}, \"type\": \"scatter3d\"}], \"scattercarpet\": [{\"marker\": {\"colorbar\": {\"outlinewidth\": 0, \"ticks\": \"\"}}, \"type\": \"scattercarpet\"}], \"scattergeo\": [{\"marker\": {\"colorbar\": {\"outlinewidth\": 0, \"ticks\": \"\"}}, \"type\": \"scattergeo\"}], \"scattergl\": [{\"marker\": {\"colorbar\": {\"outlinewidth\": 0, \"ticks\": \"\"}}, \"type\": \"scattergl\"}], \"scattermapbox\": [{\"marker\": {\"colorbar\": {\"outlinewidth\": 0, \"ticks\": \"\"}}, \"type\": \"scattermapbox\"}], \"scatterpolar\": [{\"marker\": {\"colorbar\": {\"outlinewidth\": 0, \"ticks\": \"\"}}, \"type\": \"scatterpolar\"}], \"scatterpolargl\": [{\"marker\": {\"colorbar\": {\"outlinewidth\": 0, \"ticks\": \"\"}}, \"type\": \"scatterpolargl\"}], \"scatterternary\": [{\"marker\": {\"colorbar\": {\"outlinewidth\": 0, \"ticks\": \"\"}}, \"type\": \"scatterternary\"}], \"surface\": [{\"colorbar\": {\"outlinewidth\": 0, \"ticks\": \"\"}, \"colorscale\": [[0.0, \"#0d0887\"], [0.1111111111111111, \"#46039f\"], [0.2222222222222222, \"#7201a8\"], [0.3333333333333333, \"#9c179e\"], [0.4444444444444444, \"#bd3786\"], [0.5555555555555556, \"#d8576b\"], [0.6666666666666666, \"#ed7953\"], [0.7777777777777778, \"#fb9f3a\"], [0.8888888888888888, \"#fdca26\"], [1.0, \"#f0f921\"]], \"type\": \"surface\"}], \"table\": [{\"cells\": {\"fill\": {\"color\": \"#EBF0F8\"}, \"line\": {\"color\": \"white\"}}, \"header\": {\"fill\": {\"color\": \"#C8D4E3\"}, \"line\": {\"color\": \"white\"}}, \"type\": \"table\"}]}, \"layout\": {\"annotationdefaults\": {\"arrowcolor\": \"#2a3f5f\", \"arrowhead\": 0, \"arrowwidth\": 1}, \"coloraxis\": {\"colorbar\": {\"outlinewidth\": 0, \"ticks\": \"\"}}, \"colorscale\": {\"diverging\": [[0, \"#8e0152\"], [0.1, \"#c51b7d\"], [0.2, \"#de77ae\"], [0.3, \"#f1b6da\"], [0.4, \"#fde0ef\"], [0.5, \"#f7f7f7\"], [0.6, \"#e6f5d0\"], [0.7, \"#b8e186\"], [0.8, \"#7fbc41\"], [0.9, \"#4d9221\"], [1, \"#276419\"]], \"sequential\": [[0.0, \"#0d0887\"], [0.1111111111111111, \"#46039f\"], [0.2222222222222222, \"#7201a8\"], [0.3333333333333333, \"#9c179e\"], [0.4444444444444444, \"#bd3786\"], [0.5555555555555556, \"#d8576b\"], [0.6666666666666666, \"#ed7953\"], [0.7777777777777778, \"#fb9f3a\"], [0.8888888888888888, \"#fdca26\"], [1.0, \"#f0f921\"]], \"sequentialminus\": [[0.0, \"#0d0887\"], [0.1111111111111111, \"#46039f\"], [0.2222222222222222, \"#7201a8\"], [0.3333333333333333, \"#9c179e\"], [0.4444444444444444, \"#bd3786\"], [0.5555555555555556, \"#d8576b\"], [0.6666666666666666, \"#ed7953\"], [0.7777777777777778, \"#fb9f3a\"], [0.8888888888888888, \"#fdca26\"], [1.0, \"#f0f921\"]]}, \"colorway\": [\"#636efa\", \"#EF553B\", \"#00cc96\", \"#ab63fa\", \"#FFA15A\", \"#19d3f3\", \"#FF6692\", \"#B6E880\", \"#FF97FF\", \"#FECB52\"], \"font\": {\"color\": \"#2a3f5f\"}, \"geo\": {\"bgcolor\": \"white\", \"lakecolor\": \"white\", \"landcolor\": \"#E5ECF6\", \"showlakes\": true, \"showland\": true, \"subunitcolor\": \"white\"}, \"hoverlabel\": {\"align\": \"left\"}, \"hovermode\": \"closest\", \"mapbox\": {\"style\": \"light\"}, \"paper_bgcolor\": \"white\", \"plot_bgcolor\": \"#E5ECF6\", \"polar\": {\"angularaxis\": {\"gridcolor\": \"white\", \"linecolor\": \"white\", \"ticks\": \"\"}, \"bgcolor\": \"#E5ECF6\", \"radialaxis\": {\"gridcolor\": \"white\", \"linecolor\": \"white\", \"ticks\": \"\"}}, \"scene\": {\"xaxis\": {\"backgroundcolor\": \"#E5ECF6\", \"gridcolor\": \"white\", \"gridwidth\": 2, \"linecolor\": \"white\", \"showbackground\": true, \"ticks\": \"\", \"zerolinecolor\": \"white\"}, \"yaxis\": {\"backgroundcolor\": \"#E5ECF6\", \"gridcolor\": \"white\", \"gridwidth\": 2, \"linecolor\": \"white\", \"showbackground\": true, \"ticks\": \"\", \"zerolinecolor\": \"white\"}, \"zaxis\": {\"backgroundcolor\": \"#E5ECF6\", \"gridcolor\": \"white\", \"gridwidth\": 2, \"linecolor\": \"white\", \"showbackground\": true, \"ticks\": \"\", \"zerolinecolor\": \"white\"}}, \"shapedefaults\": {\"line\": {\"color\": \"#2a3f5f\"}}, \"ternary\": {\"aaxis\": {\"gridcolor\": \"white\", \"linecolor\": \"white\", \"ticks\": \"\"}, \"baxis\": {\"gridcolor\": \"white\", \"linecolor\": \"white\", \"ticks\": \"\"}, \"bgcolor\": \"#E5ECF6\", \"caxis\": {\"gridcolor\": \"white\", \"linecolor\": \"white\", \"ticks\": \"\"}}, \"title\": {\"x\": 0.05}, \"xaxis\": {\"automargin\": true, \"gridcolor\": \"white\", \"linecolor\": \"white\", \"ticks\": \"\", \"title\": {\"standoff\": 15}, \"zerolinecolor\": \"white\", \"zerolinewidth\": 2}, \"yaxis\": {\"automargin\": true, \"gridcolor\": \"white\", \"linecolor\": \"white\", \"ticks\": \"\", \"title\": {\"standoff\": 15}, \"zerolinecolor\": \"white\", \"zerolinewidth\": 2}}}},\n                        {\"responsive\": true}\n                    ).then(function(){\n                            \nvar gd = document.getElementById('c613b0fd-160b-442a-a868-f2bdb9857577');\nvar x = new MutationObserver(function (mutations, observer) {{\n        var display = window.getComputedStyle(gd).display;\n        if (!display || display === 'none') {{\n            console.log([gd, 'removed!']);\n            Plotly.purge(gd);\n            observer.disconnect();\n        }}\n}});\n\n// Listen for the removal of the full notebook cells\nvar notebookContainer = gd.closest('#notebook-container');\nif (notebookContainer) {{\n    x.observe(notebookContainer, {childList: true});\n}}\n\n// Listen for the clearing of the current output cell\nvar outputEl = gd.closest('.output');\nif (outputEl) {{\n    x.observe(outputEl, {childList: true});\n}}\n\n                        })\n                };\n                });\n            </script>\n        </div>"
     },
     "metadata": {}
    }
   ],
   "source": [
    "import plotly.offline as py\n",
    "from plotly.graph_objs import Scatter, Layout\n",
    "import plotly.graph_objs as go\n",
    "\n",
    "py.init_notebook_mode(connected=True)\n",
    "\n",
    "trace1=go.Scatter(\n",
    "    x=[1,2],\n",
    "    y=[1,2]\n",
    ")\n",
    "trace2=go.Scatter(\n",
    "    x=[1,2],\n",
    "    y=[2,1]\n",
    ")\n",
    "py.iplot([trace1, trace2])\n",
    "\n",
    "trace=go.Scatter(\n",
    "    x=[1,2,3],\n",
    "    y=[1,2,3],\n",
    "    marker=dict(\n",
    "        color=['red','blue','green'],\n",
    "        size=[30,80,100],\n",
    "    ),\n",
    "     mode='markers'\n",
    ")\n",
    "py.iplot([trace])\n",
    "\n",
    "\n"
   ]
  },
  {
   "cell_type": "code",
   "execution_count": 150,
   "metadata": {},
   "outputs": [
    {
     "output_type": "display_data",
     "data": {
      "application/vnd.plotly.v1+json": {
       "config": {
        "linkText": "Export to plot.ly",
        "plotlyServerURL": "https://plot.ly",
        "showLink": false
       },
       "data": [
        {
         "marker": {
          "color": [
           "#FF0000",
           "#00FF00"
          ]
         },
         "type": "bar",
         "x": [
          1,
          2
         ],
         "y": [
          1,
          22
         ]
        }
       ],
       "layout": {
        "template": {
         "data": {
          "bar": [
           {
            "error_x": {
             "color": "#2a3f5f"
            },
            "error_y": {
             "color": "#2a3f5f"
            },
            "marker": {
             "line": {
              "color": "#E5ECF6",
              "width": 0.5
             }
            },
            "type": "bar"
           }
          ],
          "barpolar": [
           {
            "marker": {
             "line": {
              "color": "#E5ECF6",
              "width": 0.5
             }
            },
            "type": "barpolar"
           }
          ],
          "carpet": [
           {
            "aaxis": {
             "endlinecolor": "#2a3f5f",
             "gridcolor": "white",
             "linecolor": "white",
             "minorgridcolor": "white",
             "startlinecolor": "#2a3f5f"
            },
            "baxis": {
             "endlinecolor": "#2a3f5f",
             "gridcolor": "white",
             "linecolor": "white",
             "minorgridcolor": "white",
             "startlinecolor": "#2a3f5f"
            },
            "type": "carpet"
           }
          ],
          "choropleth": [
           {
            "colorbar": {
             "outlinewidth": 0,
             "ticks": ""
            },
            "type": "choropleth"
           }
          ],
          "contour": [
           {
            "colorbar": {
             "outlinewidth": 0,
             "ticks": ""
            },
            "colorscale": [
             [
              0,
              "#0d0887"
             ],
             [
              0.1111111111111111,
              "#46039f"
             ],
             [
              0.2222222222222222,
              "#7201a8"
             ],
             [
              0.3333333333333333,
              "#9c179e"
             ],
             [
              0.4444444444444444,
              "#bd3786"
             ],
             [
              0.5555555555555556,
              "#d8576b"
             ],
             [
              0.6666666666666666,
              "#ed7953"
             ],
             [
              0.7777777777777778,
              "#fb9f3a"
             ],
             [
              0.8888888888888888,
              "#fdca26"
             ],
             [
              1,
              "#f0f921"
             ]
            ],
            "type": "contour"
           }
          ],
          "contourcarpet": [
           {
            "colorbar": {
             "outlinewidth": 0,
             "ticks": ""
            },
            "type": "contourcarpet"
           }
          ],
          "heatmap": [
           {
            "colorbar": {
             "outlinewidth": 0,
             "ticks": ""
            },
            "colorscale": [
             [
              0,
              "#0d0887"
             ],
             [
              0.1111111111111111,
              "#46039f"
             ],
             [
              0.2222222222222222,
              "#7201a8"
             ],
             [
              0.3333333333333333,
              "#9c179e"
             ],
             [
              0.4444444444444444,
              "#bd3786"
             ],
             [
              0.5555555555555556,
              "#d8576b"
             ],
             [
              0.6666666666666666,
              "#ed7953"
             ],
             [
              0.7777777777777778,
              "#fb9f3a"
             ],
             [
              0.8888888888888888,
              "#fdca26"
             ],
             [
              1,
              "#f0f921"
             ]
            ],
            "type": "heatmap"
           }
          ],
          "heatmapgl": [
           {
            "colorbar": {
             "outlinewidth": 0,
             "ticks": ""
            },
            "colorscale": [
             [
              0,
              "#0d0887"
             ],
             [
              0.1111111111111111,
              "#46039f"
             ],
             [
              0.2222222222222222,
              "#7201a8"
             ],
             [
              0.3333333333333333,
              "#9c179e"
             ],
             [
              0.4444444444444444,
              "#bd3786"
             ],
             [
              0.5555555555555556,
              "#d8576b"
             ],
             [
              0.6666666666666666,
              "#ed7953"
             ],
             [
              0.7777777777777778,
              "#fb9f3a"
             ],
             [
              0.8888888888888888,
              "#fdca26"
             ],
             [
              1,
              "#f0f921"
             ]
            ],
            "type": "heatmapgl"
           }
          ],
          "histogram": [
           {
            "marker": {
             "colorbar": {
              "outlinewidth": 0,
              "ticks": ""
             }
            },
            "type": "histogram"
           }
          ],
          "histogram2d": [
           {
            "colorbar": {
             "outlinewidth": 0,
             "ticks": ""
            },
            "colorscale": [
             [
              0,
              "#0d0887"
             ],
             [
              0.1111111111111111,
              "#46039f"
             ],
             [
              0.2222222222222222,
              "#7201a8"
             ],
             [
              0.3333333333333333,
              "#9c179e"
             ],
             [
              0.4444444444444444,
              "#bd3786"
             ],
             [
              0.5555555555555556,
              "#d8576b"
             ],
             [
              0.6666666666666666,
              "#ed7953"
             ],
             [
              0.7777777777777778,
              "#fb9f3a"
             ],
             [
              0.8888888888888888,
              "#fdca26"
             ],
             [
              1,
              "#f0f921"
             ]
            ],
            "type": "histogram2d"
           }
          ],
          "histogram2dcontour": [
           {
            "colorbar": {
             "outlinewidth": 0,
             "ticks": ""
            },
            "colorscale": [
             [
              0,
              "#0d0887"
             ],
             [
              0.1111111111111111,
              "#46039f"
             ],
             [
              0.2222222222222222,
              "#7201a8"
             ],
             [
              0.3333333333333333,
              "#9c179e"
             ],
             [
              0.4444444444444444,
              "#bd3786"
             ],
             [
              0.5555555555555556,
              "#d8576b"
             ],
             [
              0.6666666666666666,
              "#ed7953"
             ],
             [
              0.7777777777777778,
              "#fb9f3a"
             ],
             [
              0.8888888888888888,
              "#fdca26"
             ],
             [
              1,
              "#f0f921"
             ]
            ],
            "type": "histogram2dcontour"
           }
          ],
          "mesh3d": [
           {
            "colorbar": {
             "outlinewidth": 0,
             "ticks": ""
            },
            "type": "mesh3d"
           }
          ],
          "parcoords": [
           {
            "line": {
             "colorbar": {
              "outlinewidth": 0,
              "ticks": ""
             }
            },
            "type": "parcoords"
           }
          ],
          "pie": [
           {
            "automargin": true,
            "type": "pie"
           }
          ],
          "scatter": [
           {
            "marker": {
             "colorbar": {
              "outlinewidth": 0,
              "ticks": ""
             }
            },
            "type": "scatter"
           }
          ],
          "scatter3d": [
           {
            "line": {
             "colorbar": {
              "outlinewidth": 0,
              "ticks": ""
             }
            },
            "marker": {
             "colorbar": {
              "outlinewidth": 0,
              "ticks": ""
             }
            },
            "type": "scatter3d"
           }
          ],
          "scattercarpet": [
           {
            "marker": {
             "colorbar": {
              "outlinewidth": 0,
              "ticks": ""
             }
            },
            "type": "scattercarpet"
           }
          ],
          "scattergeo": [
           {
            "marker": {
             "colorbar": {
              "outlinewidth": 0,
              "ticks": ""
             }
            },
            "type": "scattergeo"
           }
          ],
          "scattergl": [
           {
            "marker": {
             "colorbar": {
              "outlinewidth": 0,
              "ticks": ""
             }
            },
            "type": "scattergl"
           }
          ],
          "scattermapbox": [
           {
            "marker": {
             "colorbar": {
              "outlinewidth": 0,
              "ticks": ""
             }
            },
            "type": "scattermapbox"
           }
          ],
          "scatterpolar": [
           {
            "marker": {
             "colorbar": {
              "outlinewidth": 0,
              "ticks": ""
             }
            },
            "type": "scatterpolar"
           }
          ],
          "scatterpolargl": [
           {
            "marker": {
             "colorbar": {
              "outlinewidth": 0,
              "ticks": ""
             }
            },
            "type": "scatterpolargl"
           }
          ],
          "scatterternary": [
           {
            "marker": {
             "colorbar": {
              "outlinewidth": 0,
              "ticks": ""
             }
            },
            "type": "scatterternary"
           }
          ],
          "surface": [
           {
            "colorbar": {
             "outlinewidth": 0,
             "ticks": ""
            },
            "colorscale": [
             [
              0,
              "#0d0887"
             ],
             [
              0.1111111111111111,
              "#46039f"
             ],
             [
              0.2222222222222222,
              "#7201a8"
             ],
             [
              0.3333333333333333,
              "#9c179e"
             ],
             [
              0.4444444444444444,
              "#bd3786"
             ],
             [
              0.5555555555555556,
              "#d8576b"
             ],
             [
              0.6666666666666666,
              "#ed7953"
             ],
             [
              0.7777777777777778,
              "#fb9f3a"
             ],
             [
              0.8888888888888888,
              "#fdca26"
             ],
             [
              1,
              "#f0f921"
             ]
            ],
            "type": "surface"
           }
          ],
          "table": [
           {
            "cells": {
             "fill": {
              "color": "#EBF0F8"
             },
             "line": {
              "color": "white"
             }
            },
            "header": {
             "fill": {
              "color": "#C8D4E3"
             },
             "line": {
              "color": "white"
             }
            },
            "type": "table"
           }
          ]
         },
         "layout": {
          "annotationdefaults": {
           "arrowcolor": "#2a3f5f",
           "arrowhead": 0,
           "arrowwidth": 1
          },
          "coloraxis": {
           "colorbar": {
            "outlinewidth": 0,
            "ticks": ""
           }
          },
          "colorscale": {
           "diverging": [
            [
             0,
             "#8e0152"
            ],
            [
             0.1,
             "#c51b7d"
            ],
            [
             0.2,
             "#de77ae"
            ],
            [
             0.3,
             "#f1b6da"
            ],
            [
             0.4,
             "#fde0ef"
            ],
            [
             0.5,
             "#f7f7f7"
            ],
            [
             0.6,
             "#e6f5d0"
            ],
            [
             0.7,
             "#b8e186"
            ],
            [
             0.8,
             "#7fbc41"
            ],
            [
             0.9,
             "#4d9221"
            ],
            [
             1,
             "#276419"
            ]
           ],
           "sequential": [
            [
             0,
             "#0d0887"
            ],
            [
             0.1111111111111111,
             "#46039f"
            ],
            [
             0.2222222222222222,
             "#7201a8"
            ],
            [
             0.3333333333333333,
             "#9c179e"
            ],
            [
             0.4444444444444444,
             "#bd3786"
            ],
            [
             0.5555555555555556,
             "#d8576b"
            ],
            [
             0.6666666666666666,
             "#ed7953"
            ],
            [
             0.7777777777777778,
             "#fb9f3a"
            ],
            [
             0.8888888888888888,
             "#fdca26"
            ],
            [
             1,
             "#f0f921"
            ]
           ],
           "sequentialminus": [
            [
             0,
             "#0d0887"
            ],
            [
             0.1111111111111111,
             "#46039f"
            ],
            [
             0.2222222222222222,
             "#7201a8"
            ],
            [
             0.3333333333333333,
             "#9c179e"
            ],
            [
             0.4444444444444444,
             "#bd3786"
            ],
            [
             0.5555555555555556,
             "#d8576b"
            ],
            [
             0.6666666666666666,
             "#ed7953"
            ],
            [
             0.7777777777777778,
             "#fb9f3a"
            ],
            [
             0.8888888888888888,
             "#fdca26"
            ],
            [
             1,
             "#f0f921"
            ]
           ]
          },
          "colorway": [
           "#636efa",
           "#EF553B",
           "#00cc96",
           "#ab63fa",
           "#FFA15A",
           "#19d3f3",
           "#FF6692",
           "#B6E880",
           "#FF97FF",
           "#FECB52"
          ],
          "font": {
           "color": "#2a3f5f"
          },
          "geo": {
           "bgcolor": "white",
           "lakecolor": "white",
           "landcolor": "#E5ECF6",
           "showlakes": true,
           "showland": true,
           "subunitcolor": "white"
          },
          "hoverlabel": {
           "align": "left"
          },
          "hovermode": "closest",
          "mapbox": {
           "style": "light"
          },
          "paper_bgcolor": "white",
          "plot_bgcolor": "#E5ECF6",
          "polar": {
           "angularaxis": {
            "gridcolor": "white",
            "linecolor": "white",
            "ticks": ""
           },
           "bgcolor": "#E5ECF6",
           "radialaxis": {
            "gridcolor": "white",
            "linecolor": "white",
            "ticks": ""
           }
          },
          "scene": {
           "xaxis": {
            "backgroundcolor": "#E5ECF6",
            "gridcolor": "white",
            "gridwidth": 2,
            "linecolor": "white",
            "showbackground": true,
            "ticks": "",
            "zerolinecolor": "white"
           },
           "yaxis": {
            "backgroundcolor": "#E5ECF6",
            "gridcolor": "white",
            "gridwidth": 2,
            "linecolor": "white",
            "showbackground": true,
            "ticks": "",
            "zerolinecolor": "white"
           },
           "zaxis": {
            "backgroundcolor": "#E5ECF6",
            "gridcolor": "white",
            "gridwidth": 2,
            "linecolor": "white",
            "showbackground": true,
            "ticks": "",
            "zerolinecolor": "white"
           }
          },
          "shapedefaults": {
           "line": {
            "color": "#2a3f5f"
           }
          },
          "ternary": {
           "aaxis": {
            "gridcolor": "white",
            "linecolor": "white",
            "ticks": ""
           },
           "baxis": {
            "gridcolor": "white",
            "linecolor": "white",
            "ticks": ""
           },
           "bgcolor": "#E5ECF6",
           "caxis": {
            "gridcolor": "white",
            "linecolor": "white",
            "ticks": ""
           }
          },
          "title": {
           "x": 0.05
          },
          "xaxis": {
           "automargin": true,
           "gridcolor": "white",
           "linecolor": "white",
           "ticks": "",
           "title": {
            "standoff": 15
           },
           "zerolinecolor": "white",
           "zerolinewidth": 2
          },
          "yaxis": {
           "automargin": true,
           "gridcolor": "white",
           "linecolor": "white",
           "ticks": "",
           "title": {
            "standoff": 15
           },
           "zerolinecolor": "white",
           "zerolinewidth": 2
          }
         }
        }
       }
      },
      "text/html": "<div>\n        \n        \n            <div id=\"175d660a-2159-4507-ae22-a0260ccbdb45\" class=\"plotly-graph-div\" style=\"height:525px; width:100%;\"></div>\n            <script type=\"text/javascript\">\n                require([\"plotly\"], function(Plotly) {\n                    window.PLOTLYENV=window.PLOTLYENV || {};\n                    \n                if (document.getElementById(\"175d660a-2159-4507-ae22-a0260ccbdb45\")) {\n                    Plotly.newPlot(\n                        '175d660a-2159-4507-ae22-a0260ccbdb45',\n                        [{\"marker\": {\"color\": [\"#FF0000\", \"#00FF00\"]}, \"type\": \"bar\", \"x\": [1, 2], \"y\": [1, 22]}],\n                        {\"template\": {\"data\": {\"bar\": [{\"error_x\": {\"color\": \"#2a3f5f\"}, \"error_y\": {\"color\": \"#2a3f5f\"}, \"marker\": {\"line\": {\"color\": \"#E5ECF6\", \"width\": 0.5}}, \"type\": \"bar\"}], \"barpolar\": [{\"marker\": {\"line\": {\"color\": \"#E5ECF6\", \"width\": 0.5}}, \"type\": \"barpolar\"}], \"carpet\": [{\"aaxis\": {\"endlinecolor\": \"#2a3f5f\", \"gridcolor\": \"white\", \"linecolor\": \"white\", \"minorgridcolor\": \"white\", \"startlinecolor\": \"#2a3f5f\"}, \"baxis\": {\"endlinecolor\": \"#2a3f5f\", \"gridcolor\": \"white\", \"linecolor\": \"white\", \"minorgridcolor\": \"white\", \"startlinecolor\": \"#2a3f5f\"}, \"type\": \"carpet\"}], \"choropleth\": [{\"colorbar\": {\"outlinewidth\": 0, \"ticks\": \"\"}, \"type\": \"choropleth\"}], \"contour\": [{\"colorbar\": {\"outlinewidth\": 0, \"ticks\": \"\"}, \"colorscale\": [[0.0, \"#0d0887\"], [0.1111111111111111, \"#46039f\"], [0.2222222222222222, \"#7201a8\"], [0.3333333333333333, \"#9c179e\"], [0.4444444444444444, \"#bd3786\"], [0.5555555555555556, \"#d8576b\"], [0.6666666666666666, \"#ed7953\"], [0.7777777777777778, \"#fb9f3a\"], [0.8888888888888888, \"#fdca26\"], [1.0, \"#f0f921\"]], \"type\": \"contour\"}], \"contourcarpet\": [{\"colorbar\": {\"outlinewidth\": 0, \"ticks\": \"\"}, \"type\": \"contourcarpet\"}], \"heatmap\": [{\"colorbar\": {\"outlinewidth\": 0, \"ticks\": \"\"}, \"colorscale\": [[0.0, \"#0d0887\"], [0.1111111111111111, \"#46039f\"], [0.2222222222222222, \"#7201a8\"], [0.3333333333333333, \"#9c179e\"], [0.4444444444444444, \"#bd3786\"], [0.5555555555555556, \"#d8576b\"], [0.6666666666666666, \"#ed7953\"], [0.7777777777777778, \"#fb9f3a\"], [0.8888888888888888, \"#fdca26\"], [1.0, \"#f0f921\"]], \"type\": \"heatmap\"}], \"heatmapgl\": [{\"colorbar\": {\"outlinewidth\": 0, \"ticks\": \"\"}, \"colorscale\": [[0.0, \"#0d0887\"], [0.1111111111111111, \"#46039f\"], [0.2222222222222222, \"#7201a8\"], [0.3333333333333333, \"#9c179e\"], [0.4444444444444444, \"#bd3786\"], [0.5555555555555556, \"#d8576b\"], [0.6666666666666666, \"#ed7953\"], [0.7777777777777778, \"#fb9f3a\"], [0.8888888888888888, \"#fdca26\"], [1.0, \"#f0f921\"]], \"type\": \"heatmapgl\"}], \"histogram\": [{\"marker\": {\"colorbar\": {\"outlinewidth\": 0, \"ticks\": \"\"}}, \"type\": \"histogram\"}], \"histogram2d\": [{\"colorbar\": {\"outlinewidth\": 0, \"ticks\": \"\"}, \"colorscale\": [[0.0, \"#0d0887\"], [0.1111111111111111, \"#46039f\"], [0.2222222222222222, \"#7201a8\"], [0.3333333333333333, \"#9c179e\"], [0.4444444444444444, \"#bd3786\"], [0.5555555555555556, \"#d8576b\"], [0.6666666666666666, \"#ed7953\"], [0.7777777777777778, \"#fb9f3a\"], [0.8888888888888888, \"#fdca26\"], [1.0, \"#f0f921\"]], \"type\": \"histogram2d\"}], \"histogram2dcontour\": [{\"colorbar\": {\"outlinewidth\": 0, \"ticks\": \"\"}, \"colorscale\": [[0.0, \"#0d0887\"], [0.1111111111111111, \"#46039f\"], [0.2222222222222222, \"#7201a8\"], [0.3333333333333333, \"#9c179e\"], [0.4444444444444444, \"#bd3786\"], [0.5555555555555556, \"#d8576b\"], [0.6666666666666666, \"#ed7953\"], [0.7777777777777778, \"#fb9f3a\"], [0.8888888888888888, \"#fdca26\"], [1.0, \"#f0f921\"]], \"type\": \"histogram2dcontour\"}], \"mesh3d\": [{\"colorbar\": {\"outlinewidth\": 0, \"ticks\": \"\"}, \"type\": \"mesh3d\"}], \"parcoords\": [{\"line\": {\"colorbar\": {\"outlinewidth\": 0, \"ticks\": \"\"}}, \"type\": \"parcoords\"}], \"pie\": [{\"automargin\": true, \"type\": \"pie\"}], \"scatter\": [{\"marker\": {\"colorbar\": {\"outlinewidth\": 0, \"ticks\": \"\"}}, \"type\": \"scatter\"}], \"scatter3d\": [{\"line\": {\"colorbar\": {\"outlinewidth\": 0, \"ticks\": \"\"}}, \"marker\": {\"colorbar\": {\"outlinewidth\": 0, \"ticks\": \"\"}}, \"type\": \"scatter3d\"}], \"scattercarpet\": [{\"marker\": {\"colorbar\": {\"outlinewidth\": 0, \"ticks\": \"\"}}, \"type\": \"scattercarpet\"}], \"scattergeo\": [{\"marker\": {\"colorbar\": {\"outlinewidth\": 0, \"ticks\": \"\"}}, \"type\": \"scattergeo\"}], \"scattergl\": [{\"marker\": {\"colorbar\": {\"outlinewidth\": 0, \"ticks\": \"\"}}, \"type\": \"scattergl\"}], \"scattermapbox\": [{\"marker\": {\"colorbar\": {\"outlinewidth\": 0, \"ticks\": \"\"}}, \"type\": \"scattermapbox\"}], \"scatterpolar\": [{\"marker\": {\"colorbar\": {\"outlinewidth\": 0, \"ticks\": \"\"}}, \"type\": \"scatterpolar\"}], \"scatterpolargl\": [{\"marker\": {\"colorbar\": {\"outlinewidth\": 0, \"ticks\": \"\"}}, \"type\": \"scatterpolargl\"}], \"scatterternary\": [{\"marker\": {\"colorbar\": {\"outlinewidth\": 0, \"ticks\": \"\"}}, \"type\": \"scatterternary\"}], \"surface\": [{\"colorbar\": {\"outlinewidth\": 0, \"ticks\": \"\"}, \"colorscale\": [[0.0, \"#0d0887\"], [0.1111111111111111, \"#46039f\"], [0.2222222222222222, \"#7201a8\"], [0.3333333333333333, \"#9c179e\"], [0.4444444444444444, \"#bd3786\"], [0.5555555555555556, \"#d8576b\"], [0.6666666666666666, \"#ed7953\"], [0.7777777777777778, \"#fb9f3a\"], [0.8888888888888888, \"#fdca26\"], [1.0, \"#f0f921\"]], \"type\": \"surface\"}], \"table\": [{\"cells\": {\"fill\": {\"color\": \"#EBF0F8\"}, \"line\": {\"color\": \"white\"}}, \"header\": {\"fill\": {\"color\": \"#C8D4E3\"}, \"line\": {\"color\": \"white\"}}, \"type\": \"table\"}]}, \"layout\": {\"annotationdefaults\": {\"arrowcolor\": \"#2a3f5f\", \"arrowhead\": 0, \"arrowwidth\": 1}, \"coloraxis\": {\"colorbar\": {\"outlinewidth\": 0, \"ticks\": \"\"}}, \"colorscale\": {\"diverging\": [[0, \"#8e0152\"], [0.1, \"#c51b7d\"], [0.2, \"#de77ae\"], [0.3, \"#f1b6da\"], [0.4, \"#fde0ef\"], [0.5, \"#f7f7f7\"], [0.6, \"#e6f5d0\"], [0.7, \"#b8e186\"], [0.8, \"#7fbc41\"], [0.9, \"#4d9221\"], [1, \"#276419\"]], \"sequential\": [[0.0, \"#0d0887\"], [0.1111111111111111, \"#46039f\"], [0.2222222222222222, \"#7201a8\"], [0.3333333333333333, \"#9c179e\"], [0.4444444444444444, \"#bd3786\"], [0.5555555555555556, \"#d8576b\"], [0.6666666666666666, \"#ed7953\"], [0.7777777777777778, \"#fb9f3a\"], [0.8888888888888888, \"#fdca26\"], [1.0, \"#f0f921\"]], \"sequentialminus\": [[0.0, \"#0d0887\"], [0.1111111111111111, \"#46039f\"], [0.2222222222222222, \"#7201a8\"], [0.3333333333333333, \"#9c179e\"], [0.4444444444444444, \"#bd3786\"], [0.5555555555555556, \"#d8576b\"], [0.6666666666666666, \"#ed7953\"], [0.7777777777777778, \"#fb9f3a\"], [0.8888888888888888, \"#fdca26\"], [1.0, \"#f0f921\"]]}, \"colorway\": [\"#636efa\", \"#EF553B\", \"#00cc96\", \"#ab63fa\", \"#FFA15A\", \"#19d3f3\", \"#FF6692\", \"#B6E880\", \"#FF97FF\", \"#FECB52\"], \"font\": {\"color\": \"#2a3f5f\"}, \"geo\": {\"bgcolor\": \"white\", \"lakecolor\": \"white\", \"landcolor\": \"#E5ECF6\", \"showlakes\": true, \"showland\": true, \"subunitcolor\": \"white\"}, \"hoverlabel\": {\"align\": \"left\"}, \"hovermode\": \"closest\", \"mapbox\": {\"style\": \"light\"}, \"paper_bgcolor\": \"white\", \"plot_bgcolor\": \"#E5ECF6\", \"polar\": {\"angularaxis\": {\"gridcolor\": \"white\", \"linecolor\": \"white\", \"ticks\": \"\"}, \"bgcolor\": \"#E5ECF6\", \"radialaxis\": {\"gridcolor\": \"white\", \"linecolor\": \"white\", \"ticks\": \"\"}}, \"scene\": {\"xaxis\": {\"backgroundcolor\": \"#E5ECF6\", \"gridcolor\": \"white\", \"gridwidth\": 2, \"linecolor\": \"white\", \"showbackground\": true, \"ticks\": \"\", \"zerolinecolor\": \"white\"}, \"yaxis\": {\"backgroundcolor\": \"#E5ECF6\", \"gridcolor\": \"white\", \"gridwidth\": 2, \"linecolor\": \"white\", \"showbackground\": true, \"ticks\": \"\", \"zerolinecolor\": \"white\"}, \"zaxis\": {\"backgroundcolor\": \"#E5ECF6\", \"gridcolor\": \"white\", \"gridwidth\": 2, \"linecolor\": \"white\", \"showbackground\": true, \"ticks\": \"\", \"zerolinecolor\": \"white\"}}, \"shapedefaults\": {\"line\": {\"color\": \"#2a3f5f\"}}, \"ternary\": {\"aaxis\": {\"gridcolor\": \"white\", \"linecolor\": \"white\", \"ticks\": \"\"}, \"baxis\": {\"gridcolor\": \"white\", \"linecolor\": \"white\", \"ticks\": \"\"}, \"bgcolor\": \"#E5ECF6\", \"caxis\": {\"gridcolor\": \"white\", \"linecolor\": \"white\", \"ticks\": \"\"}}, \"title\": {\"x\": 0.05}, \"xaxis\": {\"automargin\": true, \"gridcolor\": \"white\", \"linecolor\": \"white\", \"ticks\": \"\", \"title\": {\"standoff\": 15}, \"zerolinecolor\": \"white\", \"zerolinewidth\": 2}, \"yaxis\": {\"automargin\": true, \"gridcolor\": \"white\", \"linecolor\": \"white\", \"ticks\": \"\", \"title\": {\"standoff\": 15}, \"zerolinecolor\": \"white\", \"zerolinewidth\": 2}}}},\n                        {\"responsive\": true}\n                    ).then(function(){\n                            \nvar gd = document.getElementById('175d660a-2159-4507-ae22-a0260ccbdb45');\nvar x = new MutationObserver(function (mutations, observer) {{\n        var display = window.getComputedStyle(gd).display;\n        if (!display || display === 'none') {{\n            console.log([gd, 'removed!']);\n            Plotly.purge(gd);\n            observer.disconnect();\n        }}\n}});\n\n// Listen for the removal of the full notebook cells\nvar notebookContainer = gd.closest('#notebook-container');\nif (notebookContainer) {{\n    x.observe(notebookContainer, {childList: true});\n}}\n\n// Listen for the clearing of the current output cell\nvar outputEl = gd.closest('.output');\nif (outputEl) {{\n    x.observe(outputEl, {childList: true});\n}}\n\n                        })\n                };\n                });\n            </script>\n        </div>"
     },
     "metadata": {}
    }
   ],
   "source": [
    "trace=go.Bar(\n",
    "    x=[1,2],\n",
    "    y=[1,22],\n",
    "    marker=dict(\n",
    "        color=[\"#FF0000\", \"#00FF00\"],\n",
    "    )\n",
    ")\n",
    "data=[trace]\n",
    "py.iplot(data)"
   ]
  },
  {
   "cell_type": "code",
   "execution_count": 168,
   "metadata": {},
   "outputs": [
    {
     "output_type": "display_data",
     "data": {
      "text/html": "        <script type=\"text/javascript\">\n        window.PlotlyConfig = {MathJaxConfig: 'local'};\n        if (window.MathJax) {MathJax.Hub.Config({SVG: {font: \"STIX-Web\"}});}\n        if (typeof require !== 'undefined') {\n        require.undef(\"plotly\");\n        requirejs.config({\n            paths: {\n                'plotly': ['https://cdn.plot.ly/plotly-latest.min']\n            }\n        });\n        require(['plotly'], function(Plotly) {\n            window._Plotly = Plotly;\n        });\n        }\n        </script>\n        "
     },
     "metadata": {}
    },
    {
     "output_type": "display_data",
     "data": {
      "application/vnd.plotly.v1+json": {
       "config": {
        "linkText": "Export to plot.ly",
        "plotlyServerURL": "https://plot.ly",
        "showLink": false
       },
       "data": [
        {
         "type": "bar",
         "x": [
          "汽车",
          "火车",
          "轮船",
          "飞机",
          "坦克"
         ],
         "y": [
          1,
          2,
          3,
          2,
          4
         ]
        }
       ],
       "layout": {
        "template": {
         "data": {
          "bar": [
           {
            "error_x": {
             "color": "#2a3f5f"
            },
            "error_y": {
             "color": "#2a3f5f"
            },
            "marker": {
             "line": {
              "color": "#E5ECF6",
              "width": 0.5
             }
            },
            "type": "bar"
           }
          ],
          "barpolar": [
           {
            "marker": {
             "line": {
              "color": "#E5ECF6",
              "width": 0.5
             }
            },
            "type": "barpolar"
           }
          ],
          "carpet": [
           {
            "aaxis": {
             "endlinecolor": "#2a3f5f",
             "gridcolor": "white",
             "linecolor": "white",
             "minorgridcolor": "white",
             "startlinecolor": "#2a3f5f"
            },
            "baxis": {
             "endlinecolor": "#2a3f5f",
             "gridcolor": "white",
             "linecolor": "white",
             "minorgridcolor": "white",
             "startlinecolor": "#2a3f5f"
            },
            "type": "carpet"
           }
          ],
          "choropleth": [
           {
            "colorbar": {
             "outlinewidth": 0,
             "ticks": ""
            },
            "type": "choropleth"
           }
          ],
          "contour": [
           {
            "colorbar": {
             "outlinewidth": 0,
             "ticks": ""
            },
            "colorscale": [
             [
              0,
              "#0d0887"
             ],
             [
              0.1111111111111111,
              "#46039f"
             ],
             [
              0.2222222222222222,
              "#7201a8"
             ],
             [
              0.3333333333333333,
              "#9c179e"
             ],
             [
              0.4444444444444444,
              "#bd3786"
             ],
             [
              0.5555555555555556,
              "#d8576b"
             ],
             [
              0.6666666666666666,
              "#ed7953"
             ],
             [
              0.7777777777777778,
              "#fb9f3a"
             ],
             [
              0.8888888888888888,
              "#fdca26"
             ],
             [
              1,
              "#f0f921"
             ]
            ],
            "type": "contour"
           }
          ],
          "contourcarpet": [
           {
            "colorbar": {
             "outlinewidth": 0,
             "ticks": ""
            },
            "type": "contourcarpet"
           }
          ],
          "heatmap": [
           {
            "colorbar": {
             "outlinewidth": 0,
             "ticks": ""
            },
            "colorscale": [
             [
              0,
              "#0d0887"
             ],
             [
              0.1111111111111111,
              "#46039f"
             ],
             [
              0.2222222222222222,
              "#7201a8"
             ],
             [
              0.3333333333333333,
              "#9c179e"
             ],
             [
              0.4444444444444444,
              "#bd3786"
             ],
             [
              0.5555555555555556,
              "#d8576b"
             ],
             [
              0.6666666666666666,
              "#ed7953"
             ],
             [
              0.7777777777777778,
              "#fb9f3a"
             ],
             [
              0.8888888888888888,
              "#fdca26"
             ],
             [
              1,
              "#f0f921"
             ]
            ],
            "type": "heatmap"
           }
          ],
          "heatmapgl": [
           {
            "colorbar": {
             "outlinewidth": 0,
             "ticks": ""
            },
            "colorscale": [
             [
              0,
              "#0d0887"
             ],
             [
              0.1111111111111111,
              "#46039f"
             ],
             [
              0.2222222222222222,
              "#7201a8"
             ],
             [
              0.3333333333333333,
              "#9c179e"
             ],
             [
              0.4444444444444444,
              "#bd3786"
             ],
             [
              0.5555555555555556,
              "#d8576b"
             ],
             [
              0.6666666666666666,
              "#ed7953"
             ],
             [
              0.7777777777777778,
              "#fb9f3a"
             ],
             [
              0.8888888888888888,
              "#fdca26"
             ],
             [
              1,
              "#f0f921"
             ]
            ],
            "type": "heatmapgl"
           }
          ],
          "histogram": [
           {
            "marker": {
             "colorbar": {
              "outlinewidth": 0,
              "ticks": ""
             }
            },
            "type": "histogram"
           }
          ],
          "histogram2d": [
           {
            "colorbar": {
             "outlinewidth": 0,
             "ticks": ""
            },
            "colorscale": [
             [
              0,
              "#0d0887"
             ],
             [
              0.1111111111111111,
              "#46039f"
             ],
             [
              0.2222222222222222,
              "#7201a8"
             ],
             [
              0.3333333333333333,
              "#9c179e"
             ],
             [
              0.4444444444444444,
              "#bd3786"
             ],
             [
              0.5555555555555556,
              "#d8576b"
             ],
             [
              0.6666666666666666,
              "#ed7953"
             ],
             [
              0.7777777777777778,
              "#fb9f3a"
             ],
             [
              0.8888888888888888,
              "#fdca26"
             ],
             [
              1,
              "#f0f921"
             ]
            ],
            "type": "histogram2d"
           }
          ],
          "histogram2dcontour": [
           {
            "colorbar": {
             "outlinewidth": 0,
             "ticks": ""
            },
            "colorscale": [
             [
              0,
              "#0d0887"
             ],
             [
              0.1111111111111111,
              "#46039f"
             ],
             [
              0.2222222222222222,
              "#7201a8"
             ],
             [
              0.3333333333333333,
              "#9c179e"
             ],
             [
              0.4444444444444444,
              "#bd3786"
             ],
             [
              0.5555555555555556,
              "#d8576b"
             ],
             [
              0.6666666666666666,
              "#ed7953"
             ],
             [
              0.7777777777777778,
              "#fb9f3a"
             ],
             [
              0.8888888888888888,
              "#fdca26"
             ],
             [
              1,
              "#f0f921"
             ]
            ],
            "type": "histogram2dcontour"
           }
          ],
          "mesh3d": [
           {
            "colorbar": {
             "outlinewidth": 0,
             "ticks": ""
            },
            "type": "mesh3d"
           }
          ],
          "parcoords": [
           {
            "line": {
             "colorbar": {
              "outlinewidth": 0,
              "ticks": ""
             }
            },
            "type": "parcoords"
           }
          ],
          "pie": [
           {
            "automargin": true,
            "type": "pie"
           }
          ],
          "scatter": [
           {
            "marker": {
             "colorbar": {
              "outlinewidth": 0,
              "ticks": ""
             }
            },
            "type": "scatter"
           }
          ],
          "scatter3d": [
           {
            "line": {
             "colorbar": {
              "outlinewidth": 0,
              "ticks": ""
             }
            },
            "marker": {
             "colorbar": {
              "outlinewidth": 0,
              "ticks": ""
             }
            },
            "type": "scatter3d"
           }
          ],
          "scattercarpet": [
           {
            "marker": {
             "colorbar": {
              "outlinewidth": 0,
              "ticks": ""
             }
            },
            "type": "scattercarpet"
           }
          ],
          "scattergeo": [
           {
            "marker": {
             "colorbar": {
              "outlinewidth": 0,
              "ticks": ""
             }
            },
            "type": "scattergeo"
           }
          ],
          "scattergl": [
           {
            "marker": {
             "colorbar": {
              "outlinewidth": 0,
              "ticks": ""
             }
            },
            "type": "scattergl"
           }
          ],
          "scattermapbox": [
           {
            "marker": {
             "colorbar": {
              "outlinewidth": 0,
              "ticks": ""
             }
            },
            "type": "scattermapbox"
           }
          ],
          "scatterpolar": [
           {
            "marker": {
             "colorbar": {
              "outlinewidth": 0,
              "ticks": ""
             }
            },
            "type": "scatterpolar"
           }
          ],
          "scatterpolargl": [
           {
            "marker": {
             "colorbar": {
              "outlinewidth": 0,
              "ticks": ""
             }
            },
            "type": "scatterpolargl"
           }
          ],
          "scatterternary": [
           {
            "marker": {
             "colorbar": {
              "outlinewidth": 0,
              "ticks": ""
             }
            },
            "type": "scatterternary"
           }
          ],
          "surface": [
           {
            "colorbar": {
             "outlinewidth": 0,
             "ticks": ""
            },
            "colorscale": [
             [
              0,
              "#0d0887"
             ],
             [
              0.1111111111111111,
              "#46039f"
             ],
             [
              0.2222222222222222,
              "#7201a8"
             ],
             [
              0.3333333333333333,
              "#9c179e"
             ],
             [
              0.4444444444444444,
              "#bd3786"
             ],
             [
              0.5555555555555556,
              "#d8576b"
             ],
             [
              0.6666666666666666,
              "#ed7953"
             ],
             [
              0.7777777777777778,
              "#fb9f3a"
             ],
             [
              0.8888888888888888,
              "#fdca26"
             ],
             [
              1,
              "#f0f921"
             ]
            ],
            "type": "surface"
           }
          ],
          "table": [
           {
            "cells": {
             "fill": {
              "color": "#EBF0F8"
             },
             "line": {
              "color": "white"
             }
            },
            "header": {
             "fill": {
              "color": "#C8D4E3"
             },
             "line": {
              "color": "white"
             }
            },
            "type": "table"
           }
          ]
         },
         "layout": {
          "annotationdefaults": {
           "arrowcolor": "#2a3f5f",
           "arrowhead": 0,
           "arrowwidth": 1
          },
          "coloraxis": {
           "colorbar": {
            "outlinewidth": 0,
            "ticks": ""
           }
          },
          "colorscale": {
           "diverging": [
            [
             0,
             "#8e0152"
            ],
            [
             0.1,
             "#c51b7d"
            ],
            [
             0.2,
             "#de77ae"
            ],
            [
             0.3,
             "#f1b6da"
            ],
            [
             0.4,
             "#fde0ef"
            ],
            [
             0.5,
             "#f7f7f7"
            ],
            [
             0.6,
             "#e6f5d0"
            ],
            [
             0.7,
             "#b8e186"
            ],
            [
             0.8,
             "#7fbc41"
            ],
            [
             0.9,
             "#4d9221"
            ],
            [
             1,
             "#276419"
            ]
           ],
           "sequential": [
            [
             0,
             "#0d0887"
            ],
            [
             0.1111111111111111,
             "#46039f"
            ],
            [
             0.2222222222222222,
             "#7201a8"
            ],
            [
             0.3333333333333333,
             "#9c179e"
            ],
            [
             0.4444444444444444,
             "#bd3786"
            ],
            [
             0.5555555555555556,
             "#d8576b"
            ],
            [
             0.6666666666666666,
             "#ed7953"
            ],
            [
             0.7777777777777778,
             "#fb9f3a"
            ],
            [
             0.8888888888888888,
             "#fdca26"
            ],
            [
             1,
             "#f0f921"
            ]
           ],
           "sequentialminus": [
            [
             0,
             "#0d0887"
            ],
            [
             0.1111111111111111,
             "#46039f"
            ],
            [
             0.2222222222222222,
             "#7201a8"
            ],
            [
             0.3333333333333333,
             "#9c179e"
            ],
            [
             0.4444444444444444,
             "#bd3786"
            ],
            [
             0.5555555555555556,
             "#d8576b"
            ],
            [
             0.6666666666666666,
             "#ed7953"
            ],
            [
             0.7777777777777778,
             "#fb9f3a"
            ],
            [
             0.8888888888888888,
             "#fdca26"
            ],
            [
             1,
             "#f0f921"
            ]
           ]
          },
          "colorway": [
           "#636efa",
           "#EF553B",
           "#00cc96",
           "#ab63fa",
           "#FFA15A",
           "#19d3f3",
           "#FF6692",
           "#B6E880",
           "#FF97FF",
           "#FECB52"
          ],
          "font": {
           "color": "#2a3f5f"
          },
          "geo": {
           "bgcolor": "white",
           "lakecolor": "white",
           "landcolor": "#E5ECF6",
           "showlakes": true,
           "showland": true,
           "subunitcolor": "white"
          },
          "hoverlabel": {
           "align": "left"
          },
          "hovermode": "closest",
          "mapbox": {
           "style": "light"
          },
          "paper_bgcolor": "white",
          "plot_bgcolor": "#E5ECF6",
          "polar": {
           "angularaxis": {
            "gridcolor": "white",
            "linecolor": "white",
            "ticks": ""
           },
           "bgcolor": "#E5ECF6",
           "radialaxis": {
            "gridcolor": "white",
            "linecolor": "white",
            "ticks": ""
           }
          },
          "scene": {
           "xaxis": {
            "backgroundcolor": "#E5ECF6",
            "gridcolor": "white",
            "gridwidth": 2,
            "linecolor": "white",
            "showbackground": true,
            "ticks": "",
            "zerolinecolor": "white"
           },
           "yaxis": {
            "backgroundcolor": "#E5ECF6",
            "gridcolor": "white",
            "gridwidth": 2,
            "linecolor": "white",
            "showbackground": true,
            "ticks": "",
            "zerolinecolor": "white"
           },
           "zaxis": {
            "backgroundcolor": "#E5ECF6",
            "gridcolor": "white",
            "gridwidth": 2,
            "linecolor": "white",
            "showbackground": true,
            "ticks": "",
            "zerolinecolor": "white"
           }
          },
          "shapedefaults": {
           "line": {
            "color": "#2a3f5f"
           }
          },
          "ternary": {
           "aaxis": {
            "gridcolor": "white",
            "linecolor": "white",
            "ticks": ""
           },
           "baxis": {
            "gridcolor": "white",
            "linecolor": "white",
            "ticks": ""
           },
           "bgcolor": "#E5ECF6",
           "caxis": {
            "gridcolor": "white",
            "linecolor": "white",
            "ticks": ""
           }
          },
          "title": {
           "x": 0.05
          },
          "xaxis": {
           "automargin": true,
           "gridcolor": "white",
           "linecolor": "white",
           "ticks": "",
           "title": {
            "standoff": 15
           },
           "zerolinecolor": "white",
           "zerolinewidth": 2
          },
          "yaxis": {
           "automargin": true,
           "gridcolor": "white",
           "linecolor": "white",
           "ticks": "",
           "title": {
            "standoff": 15
           },
           "zerolinecolor": "white",
           "zerolinewidth": 2
          }
         }
        }
       }
      },
      "text/html": "<div>\n        \n        \n            <div id=\"21ed93a0-e4a0-48fd-8f10-8b4976a099d3\" class=\"plotly-graph-div\" style=\"height:525px; width:100%;\"></div>\n            <script type=\"text/javascript\">\n                require([\"plotly\"], function(Plotly) {\n                    window.PLOTLYENV=window.PLOTLYENV || {};\n                    \n                if (document.getElementById(\"21ed93a0-e4a0-48fd-8f10-8b4976a099d3\")) {\n                    Plotly.newPlot(\n                        '21ed93a0-e4a0-48fd-8f10-8b4976a099d3',\n                        [{\"type\": \"bar\", \"x\": [\"\\u6c7d\\u8f66\", \"\\u706b\\u8f66\", \"\\u8f6e\\u8239\", \"\\u98de\\u673a\", \"\\u5766\\u514b\"], \"y\": [1, 2, 3, 2, 4]}],\n                        {\"template\": {\"data\": {\"bar\": [{\"error_x\": {\"color\": \"#2a3f5f\"}, \"error_y\": {\"color\": \"#2a3f5f\"}, \"marker\": {\"line\": {\"color\": \"#E5ECF6\", \"width\": 0.5}}, \"type\": \"bar\"}], \"barpolar\": [{\"marker\": {\"line\": {\"color\": \"#E5ECF6\", \"width\": 0.5}}, \"type\": \"barpolar\"}], \"carpet\": [{\"aaxis\": {\"endlinecolor\": \"#2a3f5f\", \"gridcolor\": \"white\", \"linecolor\": \"white\", \"minorgridcolor\": \"white\", \"startlinecolor\": \"#2a3f5f\"}, \"baxis\": {\"endlinecolor\": \"#2a3f5f\", \"gridcolor\": \"white\", \"linecolor\": \"white\", \"minorgridcolor\": \"white\", \"startlinecolor\": \"#2a3f5f\"}, \"type\": \"carpet\"}], \"choropleth\": [{\"colorbar\": {\"outlinewidth\": 0, \"ticks\": \"\"}, \"type\": \"choropleth\"}], \"contour\": [{\"colorbar\": {\"outlinewidth\": 0, \"ticks\": \"\"}, \"colorscale\": [[0.0, \"#0d0887\"], [0.1111111111111111, \"#46039f\"], [0.2222222222222222, \"#7201a8\"], [0.3333333333333333, \"#9c179e\"], [0.4444444444444444, \"#bd3786\"], [0.5555555555555556, \"#d8576b\"], [0.6666666666666666, \"#ed7953\"], [0.7777777777777778, \"#fb9f3a\"], [0.8888888888888888, \"#fdca26\"], [1.0, \"#f0f921\"]], \"type\": \"contour\"}], \"contourcarpet\": [{\"colorbar\": {\"outlinewidth\": 0, \"ticks\": \"\"}, \"type\": \"contourcarpet\"}], \"heatmap\": [{\"colorbar\": {\"outlinewidth\": 0, \"ticks\": \"\"}, \"colorscale\": [[0.0, \"#0d0887\"], [0.1111111111111111, \"#46039f\"], [0.2222222222222222, \"#7201a8\"], [0.3333333333333333, \"#9c179e\"], [0.4444444444444444, \"#bd3786\"], [0.5555555555555556, \"#d8576b\"], [0.6666666666666666, \"#ed7953\"], [0.7777777777777778, \"#fb9f3a\"], [0.8888888888888888, \"#fdca26\"], [1.0, \"#f0f921\"]], \"type\": \"heatmap\"}], \"heatmapgl\": [{\"colorbar\": {\"outlinewidth\": 0, \"ticks\": \"\"}, \"colorscale\": [[0.0, \"#0d0887\"], [0.1111111111111111, \"#46039f\"], [0.2222222222222222, \"#7201a8\"], [0.3333333333333333, \"#9c179e\"], [0.4444444444444444, \"#bd3786\"], [0.5555555555555556, \"#d8576b\"], [0.6666666666666666, \"#ed7953\"], [0.7777777777777778, \"#fb9f3a\"], [0.8888888888888888, \"#fdca26\"], [1.0, \"#f0f921\"]], \"type\": \"heatmapgl\"}], \"histogram\": [{\"marker\": {\"colorbar\": {\"outlinewidth\": 0, \"ticks\": \"\"}}, \"type\": \"histogram\"}], \"histogram2d\": [{\"colorbar\": {\"outlinewidth\": 0, \"ticks\": \"\"}, \"colorscale\": [[0.0, \"#0d0887\"], [0.1111111111111111, \"#46039f\"], [0.2222222222222222, \"#7201a8\"], [0.3333333333333333, \"#9c179e\"], [0.4444444444444444, \"#bd3786\"], [0.5555555555555556, \"#d8576b\"], [0.6666666666666666, \"#ed7953\"], [0.7777777777777778, \"#fb9f3a\"], [0.8888888888888888, \"#fdca26\"], [1.0, \"#f0f921\"]], \"type\": \"histogram2d\"}], \"histogram2dcontour\": [{\"colorbar\": {\"outlinewidth\": 0, \"ticks\": \"\"}, \"colorscale\": [[0.0, \"#0d0887\"], [0.1111111111111111, \"#46039f\"], [0.2222222222222222, \"#7201a8\"], [0.3333333333333333, \"#9c179e\"], [0.4444444444444444, \"#bd3786\"], [0.5555555555555556, \"#d8576b\"], [0.6666666666666666, \"#ed7953\"], [0.7777777777777778, \"#fb9f3a\"], [0.8888888888888888, \"#fdca26\"], [1.0, \"#f0f921\"]], \"type\": \"histogram2dcontour\"}], \"mesh3d\": [{\"colorbar\": {\"outlinewidth\": 0, \"ticks\": \"\"}, \"type\": \"mesh3d\"}], \"parcoords\": [{\"line\": {\"colorbar\": {\"outlinewidth\": 0, \"ticks\": \"\"}}, \"type\": \"parcoords\"}], \"pie\": [{\"automargin\": true, \"type\": \"pie\"}], \"scatter\": [{\"marker\": {\"colorbar\": {\"outlinewidth\": 0, \"ticks\": \"\"}}, \"type\": \"scatter\"}], \"scatter3d\": [{\"line\": {\"colorbar\": {\"outlinewidth\": 0, \"ticks\": \"\"}}, \"marker\": {\"colorbar\": {\"outlinewidth\": 0, \"ticks\": \"\"}}, \"type\": \"scatter3d\"}], \"scattercarpet\": [{\"marker\": {\"colorbar\": {\"outlinewidth\": 0, \"ticks\": \"\"}}, \"type\": \"scattercarpet\"}], \"scattergeo\": [{\"marker\": {\"colorbar\": {\"outlinewidth\": 0, \"ticks\": \"\"}}, \"type\": \"scattergeo\"}], \"scattergl\": [{\"marker\": {\"colorbar\": {\"outlinewidth\": 0, \"ticks\": \"\"}}, \"type\": \"scattergl\"}], \"scattermapbox\": [{\"marker\": {\"colorbar\": {\"outlinewidth\": 0, \"ticks\": \"\"}}, \"type\": \"scattermapbox\"}], \"scatterpolar\": [{\"marker\": {\"colorbar\": {\"outlinewidth\": 0, \"ticks\": \"\"}}, \"type\": \"scatterpolar\"}], \"scatterpolargl\": [{\"marker\": {\"colorbar\": {\"outlinewidth\": 0, \"ticks\": \"\"}}, \"type\": \"scatterpolargl\"}], \"scatterternary\": [{\"marker\": {\"colorbar\": {\"outlinewidth\": 0, \"ticks\": \"\"}}, \"type\": \"scatterternary\"}], \"surface\": [{\"colorbar\": {\"outlinewidth\": 0, \"ticks\": \"\"}, \"colorscale\": [[0.0, \"#0d0887\"], [0.1111111111111111, \"#46039f\"], [0.2222222222222222, \"#7201a8\"], [0.3333333333333333, \"#9c179e\"], [0.4444444444444444, \"#bd3786\"], [0.5555555555555556, \"#d8576b\"], [0.6666666666666666, \"#ed7953\"], [0.7777777777777778, \"#fb9f3a\"], [0.8888888888888888, \"#fdca26\"], [1.0, \"#f0f921\"]], \"type\": \"surface\"}], \"table\": [{\"cells\": {\"fill\": {\"color\": \"#EBF0F8\"}, \"line\": {\"color\": \"white\"}}, \"header\": {\"fill\": {\"color\": \"#C8D4E3\"}, \"line\": {\"color\": \"white\"}}, \"type\": \"table\"}]}, \"layout\": {\"annotationdefaults\": {\"arrowcolor\": \"#2a3f5f\", \"arrowhead\": 0, \"arrowwidth\": 1}, \"coloraxis\": {\"colorbar\": {\"outlinewidth\": 0, \"ticks\": \"\"}}, \"colorscale\": {\"diverging\": [[0, \"#8e0152\"], [0.1, \"#c51b7d\"], [0.2, \"#de77ae\"], [0.3, \"#f1b6da\"], [0.4, \"#fde0ef\"], [0.5, \"#f7f7f7\"], [0.6, \"#e6f5d0\"], [0.7, \"#b8e186\"], [0.8, \"#7fbc41\"], [0.9, \"#4d9221\"], [1, \"#276419\"]], \"sequential\": [[0.0, \"#0d0887\"], [0.1111111111111111, \"#46039f\"], [0.2222222222222222, \"#7201a8\"], [0.3333333333333333, \"#9c179e\"], [0.4444444444444444, \"#bd3786\"], [0.5555555555555556, \"#d8576b\"], [0.6666666666666666, \"#ed7953\"], [0.7777777777777778, \"#fb9f3a\"], [0.8888888888888888, \"#fdca26\"], [1.0, \"#f0f921\"]], \"sequentialminus\": [[0.0, \"#0d0887\"], [0.1111111111111111, \"#46039f\"], [0.2222222222222222, \"#7201a8\"], [0.3333333333333333, \"#9c179e\"], [0.4444444444444444, \"#bd3786\"], [0.5555555555555556, \"#d8576b\"], [0.6666666666666666, \"#ed7953\"], [0.7777777777777778, \"#fb9f3a\"], [0.8888888888888888, \"#fdca26\"], [1.0, \"#f0f921\"]]}, \"colorway\": [\"#636efa\", \"#EF553B\", \"#00cc96\", \"#ab63fa\", \"#FFA15A\", \"#19d3f3\", \"#FF6692\", \"#B6E880\", \"#FF97FF\", \"#FECB52\"], \"font\": {\"color\": \"#2a3f5f\"}, \"geo\": {\"bgcolor\": \"white\", \"lakecolor\": \"white\", \"landcolor\": \"#E5ECF6\", \"showlakes\": true, \"showland\": true, \"subunitcolor\": \"white\"}, \"hoverlabel\": {\"align\": \"left\"}, \"hovermode\": \"closest\", \"mapbox\": {\"style\": \"light\"}, \"paper_bgcolor\": \"white\", \"plot_bgcolor\": \"#E5ECF6\", \"polar\": {\"angularaxis\": {\"gridcolor\": \"white\", \"linecolor\": \"white\", \"ticks\": \"\"}, \"bgcolor\": \"#E5ECF6\", \"radialaxis\": {\"gridcolor\": \"white\", \"linecolor\": \"white\", \"ticks\": \"\"}}, \"scene\": {\"xaxis\": {\"backgroundcolor\": \"#E5ECF6\", \"gridcolor\": \"white\", \"gridwidth\": 2, \"linecolor\": \"white\", \"showbackground\": true, \"ticks\": \"\", \"zerolinecolor\": \"white\"}, \"yaxis\": {\"backgroundcolor\": \"#E5ECF6\", \"gridcolor\": \"white\", \"gridwidth\": 2, \"linecolor\": \"white\", \"showbackground\": true, \"ticks\": \"\", \"zerolinecolor\": \"white\"}, \"zaxis\": {\"backgroundcolor\": \"#E5ECF6\", \"gridcolor\": \"white\", \"gridwidth\": 2, \"linecolor\": \"white\", \"showbackground\": true, \"ticks\": \"\", \"zerolinecolor\": \"white\"}}, \"shapedefaults\": {\"line\": {\"color\": \"#2a3f5f\"}}, \"ternary\": {\"aaxis\": {\"gridcolor\": \"white\", \"linecolor\": \"white\", \"ticks\": \"\"}, \"baxis\": {\"gridcolor\": \"white\", \"linecolor\": \"white\", \"ticks\": \"\"}, \"bgcolor\": \"#E5ECF6\", \"caxis\": {\"gridcolor\": \"white\", \"linecolor\": \"white\", \"ticks\": \"\"}}, \"title\": {\"x\": 0.05}, \"xaxis\": {\"automargin\": true, \"gridcolor\": \"white\", \"linecolor\": \"white\", \"ticks\": \"\", \"title\": {\"standoff\": 15}, \"zerolinecolor\": \"white\", \"zerolinewidth\": 2}, \"yaxis\": {\"automargin\": true, \"gridcolor\": \"white\", \"linecolor\": \"white\", \"ticks\": \"\", \"title\": {\"standoff\": 15}, \"zerolinecolor\": \"white\", \"zerolinewidth\": 2}}}},\n                        {\"responsive\": true}\n                    ).then(function(){\n                            \nvar gd = document.getElementById('21ed93a0-e4a0-48fd-8f10-8b4976a099d3');\nvar x = new MutationObserver(function (mutations, observer) {{\n        var display = window.getComputedStyle(gd).display;\n        if (!display || display === 'none') {{\n            console.log([gd, 'removed!']);\n            Plotly.purge(gd);\n            observer.disconnect();\n        }}\n}});\n\n// Listen for the removal of the full notebook cells\nvar notebookContainer = gd.closest('#notebook-container');\nif (notebookContainer) {{\n    x.observe(notebookContainer, {childList: true});\n}}\n\n// Listen for the clearing of the current output cell\nvar outputEl = gd.closest('.output');\nif (outputEl) {{\n    x.observe(outputEl, {childList: true});\n}}\n\n                        })\n                };\n                });\n            </script>\n        </div>"
     },
     "metadata": {}
    }
   ],
   "source": [
    "import plotly.offline as py\n",
    "from plotly.graph_objs import Scatter, Layout\n",
    "import plotly.graph_objs as go\n",
    "\n",
    "py.init_notebook_mode(connected=True)\n",
    "\n",
    "trace_basic = [go.Bar(\n",
    "            x = ['汽车', '火车', '轮船','飞机','坦克'],\n",
    "            y = [1, 2, 3, 2, 4],\n",
    "    )]\n",
    "\n",
    "\n",
    "py.iplot(trace_basic)\n",
    "\n",
    "\n"
   ]
  },
  {
   "cell_type": "code",
   "execution_count": 156,
   "metadata": {},
   "outputs": [
    {
     "output_type": "display_data",
     "data": {
      "text/html": "        <script type=\"text/javascript\">\n        window.PlotlyConfig = {MathJaxConfig: 'local'};\n        if (window.MathJax) {MathJax.Hub.Config({SVG: {font: \"STIX-Web\"}});}\n        if (typeof require !== 'undefined') {\n        require.undef(\"plotly\");\n        requirejs.config({\n            paths: {\n                'plotly': ['https://cdn.plot.ly/plotly-latest.min']\n            }\n        });\n        require(['plotly'], function(Plotly) {\n            window._Plotly = Plotly;\n        });\n        }\n        </script>\n        "
     },
     "metadata": {}
    },
    {
     "output_type": "display_data",
     "data": {
      "application/vnd.plotly.v1+json": {
       "config": {
        "linkText": "Export to plot.ly",
        "plotlyServerURL": "https://plot.ly",
        "showLink": false
       },
       "data": [
        {
         "name": "201609",
         "type": "bar",
         "x": [
          "西南石油",
          "东方明珠",
          "海泰发展"
         ],
         "y": [
          4.12,
          5.32,
          0.6
         ]
        },
        {
         "name": "201612",
         "type": "bar",
         "x": [
          "西南石油",
          "东方明珠",
          "海泰发展"
         ],
         "y": [
          3.65,
          6.14,
          0.58
         ]
        },
        {
         "name": "201703",
         "type": "bar",
         "x": [
          "西南石油",
          "东方明珠",
          "海泰发展"
         ],
         "y": [
          2.15,
          1.35,
          0.19
         ]
        }
       ],
       "layout": {
        "template": {
         "data": {
          "bar": [
           {
            "error_x": {
             "color": "#2a3f5f"
            },
            "error_y": {
             "color": "#2a3f5f"
            },
            "marker": {
             "line": {
              "color": "#E5ECF6",
              "width": 0.5
             }
            },
            "type": "bar"
           }
          ],
          "barpolar": [
           {
            "marker": {
             "line": {
              "color": "#E5ECF6",
              "width": 0.5
             }
            },
            "type": "barpolar"
           }
          ],
          "carpet": [
           {
            "aaxis": {
             "endlinecolor": "#2a3f5f",
             "gridcolor": "white",
             "linecolor": "white",
             "minorgridcolor": "white",
             "startlinecolor": "#2a3f5f"
            },
            "baxis": {
             "endlinecolor": "#2a3f5f",
             "gridcolor": "white",
             "linecolor": "white",
             "minorgridcolor": "white",
             "startlinecolor": "#2a3f5f"
            },
            "type": "carpet"
           }
          ],
          "choropleth": [
           {
            "colorbar": {
             "outlinewidth": 0,
             "ticks": ""
            },
            "type": "choropleth"
           }
          ],
          "contour": [
           {
            "colorbar": {
             "outlinewidth": 0,
             "ticks": ""
            },
            "colorscale": [
             [
              0,
              "#0d0887"
             ],
             [
              0.1111111111111111,
              "#46039f"
             ],
             [
              0.2222222222222222,
              "#7201a8"
             ],
             [
              0.3333333333333333,
              "#9c179e"
             ],
             [
              0.4444444444444444,
              "#bd3786"
             ],
             [
              0.5555555555555556,
              "#d8576b"
             ],
             [
              0.6666666666666666,
              "#ed7953"
             ],
             [
              0.7777777777777778,
              "#fb9f3a"
             ],
             [
              0.8888888888888888,
              "#fdca26"
             ],
             [
              1,
              "#f0f921"
             ]
            ],
            "type": "contour"
           }
          ],
          "contourcarpet": [
           {
            "colorbar": {
             "outlinewidth": 0,
             "ticks": ""
            },
            "type": "contourcarpet"
           }
          ],
          "heatmap": [
           {
            "colorbar": {
             "outlinewidth": 0,
             "ticks": ""
            },
            "colorscale": [
             [
              0,
              "#0d0887"
             ],
             [
              0.1111111111111111,
              "#46039f"
             ],
             [
              0.2222222222222222,
              "#7201a8"
             ],
             [
              0.3333333333333333,
              "#9c179e"
             ],
             [
              0.4444444444444444,
              "#bd3786"
             ],
             [
              0.5555555555555556,
              "#d8576b"
             ],
             [
              0.6666666666666666,
              "#ed7953"
             ],
             [
              0.7777777777777778,
              "#fb9f3a"
             ],
             [
              0.8888888888888888,
              "#fdca26"
             ],
             [
              1,
              "#f0f921"
             ]
            ],
            "type": "heatmap"
           }
          ],
          "heatmapgl": [
           {
            "colorbar": {
             "outlinewidth": 0,
             "ticks": ""
            },
            "colorscale": [
             [
              0,
              "#0d0887"
             ],
             [
              0.1111111111111111,
              "#46039f"
             ],
             [
              0.2222222222222222,
              "#7201a8"
             ],
             [
              0.3333333333333333,
              "#9c179e"
             ],
             [
              0.4444444444444444,
              "#bd3786"
             ],
             [
              0.5555555555555556,
              "#d8576b"
             ],
             [
              0.6666666666666666,
              "#ed7953"
             ],
             [
              0.7777777777777778,
              "#fb9f3a"
             ],
             [
              0.8888888888888888,
              "#fdca26"
             ],
             [
              1,
              "#f0f921"
             ]
            ],
            "type": "heatmapgl"
           }
          ],
          "histogram": [
           {
            "marker": {
             "colorbar": {
              "outlinewidth": 0,
              "ticks": ""
             }
            },
            "type": "histogram"
           }
          ],
          "histogram2d": [
           {
            "colorbar": {
             "outlinewidth": 0,
             "ticks": ""
            },
            "colorscale": [
             [
              0,
              "#0d0887"
             ],
             [
              0.1111111111111111,
              "#46039f"
             ],
             [
              0.2222222222222222,
              "#7201a8"
             ],
             [
              0.3333333333333333,
              "#9c179e"
             ],
             [
              0.4444444444444444,
              "#bd3786"
             ],
             [
              0.5555555555555556,
              "#d8576b"
             ],
             [
              0.6666666666666666,
              "#ed7953"
             ],
             [
              0.7777777777777778,
              "#fb9f3a"
             ],
             [
              0.8888888888888888,
              "#fdca26"
             ],
             [
              1,
              "#f0f921"
             ]
            ],
            "type": "histogram2d"
           }
          ],
          "histogram2dcontour": [
           {
            "colorbar": {
             "outlinewidth": 0,
             "ticks": ""
            },
            "colorscale": [
             [
              0,
              "#0d0887"
             ],
             [
              0.1111111111111111,
              "#46039f"
             ],
             [
              0.2222222222222222,
              "#7201a8"
             ],
             [
              0.3333333333333333,
              "#9c179e"
             ],
             [
              0.4444444444444444,
              "#bd3786"
             ],
             [
              0.5555555555555556,
              "#d8576b"
             ],
             [
              0.6666666666666666,
              "#ed7953"
             ],
             [
              0.7777777777777778,
              "#fb9f3a"
             ],
             [
              0.8888888888888888,
              "#fdca26"
             ],
             [
              1,
              "#f0f921"
             ]
            ],
            "type": "histogram2dcontour"
           }
          ],
          "mesh3d": [
           {
            "colorbar": {
             "outlinewidth": 0,
             "ticks": ""
            },
            "type": "mesh3d"
           }
          ],
          "parcoords": [
           {
            "line": {
             "colorbar": {
              "outlinewidth": 0,
              "ticks": ""
             }
            },
            "type": "parcoords"
           }
          ],
          "pie": [
           {
            "automargin": true,
            "type": "pie"
           }
          ],
          "scatter": [
           {
            "marker": {
             "colorbar": {
              "outlinewidth": 0,
              "ticks": ""
             }
            },
            "type": "scatter"
           }
          ],
          "scatter3d": [
           {
            "line": {
             "colorbar": {
              "outlinewidth": 0,
              "ticks": ""
             }
            },
            "marker": {
             "colorbar": {
              "outlinewidth": 0,
              "ticks": ""
             }
            },
            "type": "scatter3d"
           }
          ],
          "scattercarpet": [
           {
            "marker": {
             "colorbar": {
              "outlinewidth": 0,
              "ticks": ""
             }
            },
            "type": "scattercarpet"
           }
          ],
          "scattergeo": [
           {
            "marker": {
             "colorbar": {
              "outlinewidth": 0,
              "ticks": ""
             }
            },
            "type": "scattergeo"
           }
          ],
          "scattergl": [
           {
            "marker": {
             "colorbar": {
              "outlinewidth": 0,
              "ticks": ""
             }
            },
            "type": "scattergl"
           }
          ],
          "scattermapbox": [
           {
            "marker": {
             "colorbar": {
              "outlinewidth": 0,
              "ticks": ""
             }
            },
            "type": "scattermapbox"
           }
          ],
          "scatterpolar": [
           {
            "marker": {
             "colorbar": {
              "outlinewidth": 0,
              "ticks": ""
             }
            },
            "type": "scatterpolar"
           }
          ],
          "scatterpolargl": [
           {
            "marker": {
             "colorbar": {
              "outlinewidth": 0,
              "ticks": ""
             }
            },
            "type": "scatterpolargl"
           }
          ],
          "scatterternary": [
           {
            "marker": {
             "colorbar": {
              "outlinewidth": 0,
              "ticks": ""
             }
            },
            "type": "scatterternary"
           }
          ],
          "surface": [
           {
            "colorbar": {
             "outlinewidth": 0,
             "ticks": ""
            },
            "colorscale": [
             [
              0,
              "#0d0887"
             ],
             [
              0.1111111111111111,
              "#46039f"
             ],
             [
              0.2222222222222222,
              "#7201a8"
             ],
             [
              0.3333333333333333,
              "#9c179e"
             ],
             [
              0.4444444444444444,
              "#bd3786"
             ],
             [
              0.5555555555555556,
              "#d8576b"
             ],
             [
              0.6666666666666666,
              "#ed7953"
             ],
             [
              0.7777777777777778,
              "#fb9f3a"
             ],
             [
              0.8888888888888888,
              "#fdca26"
             ],
             [
              1,
              "#f0f921"
             ]
            ],
            "type": "surface"
           }
          ],
          "table": [
           {
            "cells": {
             "fill": {
              "color": "#EBF0F8"
             },
             "line": {
              "color": "white"
             }
            },
            "header": {
             "fill": {
              "color": "#C8D4E3"
             },
             "line": {
              "color": "white"
             }
            },
            "type": "table"
           }
          ]
         },
         "layout": {
          "annotationdefaults": {
           "arrowcolor": "#2a3f5f",
           "arrowhead": 0,
           "arrowwidth": 1
          },
          "coloraxis": {
           "colorbar": {
            "outlinewidth": 0,
            "ticks": ""
           }
          },
          "colorscale": {
           "diverging": [
            [
             0,
             "#8e0152"
            ],
            [
             0.1,
             "#c51b7d"
            ],
            [
             0.2,
             "#de77ae"
            ],
            [
             0.3,
             "#f1b6da"
            ],
            [
             0.4,
             "#fde0ef"
            ],
            [
             0.5,
             "#f7f7f7"
            ],
            [
             0.6,
             "#e6f5d0"
            ],
            [
             0.7,
             "#b8e186"
            ],
            [
             0.8,
             "#7fbc41"
            ],
            [
             0.9,
             "#4d9221"
            ],
            [
             1,
             "#276419"
            ]
           ],
           "sequential": [
            [
             0,
             "#0d0887"
            ],
            [
             0.1111111111111111,
             "#46039f"
            ],
            [
             0.2222222222222222,
             "#7201a8"
            ],
            [
             0.3333333333333333,
             "#9c179e"
            ],
            [
             0.4444444444444444,
             "#bd3786"
            ],
            [
             0.5555555555555556,
             "#d8576b"
            ],
            [
             0.6666666666666666,
             "#ed7953"
            ],
            [
             0.7777777777777778,
             "#fb9f3a"
            ],
            [
             0.8888888888888888,
             "#fdca26"
            ],
            [
             1,
             "#f0f921"
            ]
           ],
           "sequentialminus": [
            [
             0,
             "#0d0887"
            ],
            [
             0.1111111111111111,
             "#46039f"
            ],
            [
             0.2222222222222222,
             "#7201a8"
            ],
            [
             0.3333333333333333,
             "#9c179e"
            ],
            [
             0.4444444444444444,
             "#bd3786"
            ],
            [
             0.5555555555555556,
             "#d8576b"
            ],
            [
             0.6666666666666666,
             "#ed7953"
            ],
            [
             0.7777777777777778,
             "#fb9f3a"
            ],
            [
             0.8888888888888888,
             "#fdca26"
            ],
            [
             1,
             "#f0f921"
            ]
           ]
          },
          "colorway": [
           "#636efa",
           "#EF553B",
           "#00cc96",
           "#ab63fa",
           "#FFA15A",
           "#19d3f3",
           "#FF6692",
           "#B6E880",
           "#FF97FF",
           "#FECB52"
          ],
          "font": {
           "color": "#2a3f5f"
          },
          "geo": {
           "bgcolor": "white",
           "lakecolor": "white",
           "landcolor": "#E5ECF6",
           "showlakes": true,
           "showland": true,
           "subunitcolor": "white"
          },
          "hoverlabel": {
           "align": "left"
          },
          "hovermode": "closest",
          "mapbox": {
           "style": "light"
          },
          "paper_bgcolor": "white",
          "plot_bgcolor": "#E5ECF6",
          "polar": {
           "angularaxis": {
            "gridcolor": "white",
            "linecolor": "white",
            "ticks": ""
           },
           "bgcolor": "#E5ECF6",
           "radialaxis": {
            "gridcolor": "white",
            "linecolor": "white",
            "ticks": ""
           }
          },
          "scene": {
           "xaxis": {
            "backgroundcolor": "#E5ECF6",
            "gridcolor": "white",
            "gridwidth": 2,
            "linecolor": "white",
            "showbackground": true,
            "ticks": "",
            "zerolinecolor": "white"
           },
           "yaxis": {
            "backgroundcolor": "#E5ECF6",
            "gridcolor": "white",
            "gridwidth": 2,
            "linecolor": "white",
            "showbackground": true,
            "ticks": "",
            "zerolinecolor": "white"
           },
           "zaxis": {
            "backgroundcolor": "#E5ECF6",
            "gridcolor": "white",
            "gridwidth": 2,
            "linecolor": "white",
            "showbackground": true,
            "ticks": "",
            "zerolinecolor": "white"
           }
          },
          "shapedefaults": {
           "line": {
            "color": "#2a3f5f"
           }
          },
          "ternary": {
           "aaxis": {
            "gridcolor": "white",
            "linecolor": "white",
            "ticks": ""
           },
           "baxis": {
            "gridcolor": "white",
            "linecolor": "white",
            "ticks": ""
           },
           "bgcolor": "#E5ECF6",
           "caxis": {
            "gridcolor": "white",
            "linecolor": "white",
            "ticks": ""
           }
          },
          "title": {
           "x": 0.05
          },
          "xaxis": {
           "automargin": true,
           "gridcolor": "white",
           "linecolor": "white",
           "ticks": "",
           "title": {
            "standoff": 15
           },
           "zerolinecolor": "white",
           "zerolinewidth": 2
          },
          "yaxis": {
           "automargin": true,
           "gridcolor": "white",
           "linecolor": "white",
           "ticks": "",
           "title": {
            "standoff": 15
           },
           "zerolinecolor": "white",
           "zerolinewidth": 2
          }
         }
        },
        "title": {
         "text": "净资产收益率对比图"
        }
       }
      },
      "text/html": "<div>\n        \n        \n            <div id=\"795f229a-2964-4999-95d7-8fda9e41ccf7\" class=\"plotly-graph-div\" style=\"height:525px; width:100%;\"></div>\n            <script type=\"text/javascript\">\n                require([\"plotly\"], function(Plotly) {\n                    window.PLOTLYENV=window.PLOTLYENV || {};\n                    \n                if (document.getElementById(\"795f229a-2964-4999-95d7-8fda9e41ccf7\")) {\n                    Plotly.newPlot(\n                        '795f229a-2964-4999-95d7-8fda9e41ccf7',\n                        [{\"name\": \"201609\", \"type\": \"bar\", \"x\": [\"\\u897f\\u5357\\u77f3\\u6cb9\", \"\\u4e1c\\u65b9\\u660e\\u73e0\", \"\\u6d77\\u6cf0\\u53d1\\u5c55\"], \"y\": [4.12, 5.32, 0.6]}, {\"name\": \"201612\", \"type\": \"bar\", \"x\": [\"\\u897f\\u5357\\u77f3\\u6cb9\", \"\\u4e1c\\u65b9\\u660e\\u73e0\", \"\\u6d77\\u6cf0\\u53d1\\u5c55\"], \"y\": [3.65, 6.14, 0.58]}, {\"name\": \"201703\", \"type\": \"bar\", \"x\": [\"\\u897f\\u5357\\u77f3\\u6cb9\", \"\\u4e1c\\u65b9\\u660e\\u73e0\", \"\\u6d77\\u6cf0\\u53d1\\u5c55\"], \"y\": [2.15, 1.35, 0.19]}],\n                        {\"template\": {\"data\": {\"bar\": [{\"error_x\": {\"color\": \"#2a3f5f\"}, \"error_y\": {\"color\": \"#2a3f5f\"}, \"marker\": {\"line\": {\"color\": \"#E5ECF6\", \"width\": 0.5}}, \"type\": \"bar\"}], \"barpolar\": [{\"marker\": {\"line\": {\"color\": \"#E5ECF6\", \"width\": 0.5}}, \"type\": \"barpolar\"}], \"carpet\": [{\"aaxis\": {\"endlinecolor\": \"#2a3f5f\", \"gridcolor\": \"white\", \"linecolor\": \"white\", \"minorgridcolor\": \"white\", \"startlinecolor\": \"#2a3f5f\"}, \"baxis\": {\"endlinecolor\": \"#2a3f5f\", \"gridcolor\": \"white\", \"linecolor\": \"white\", \"minorgridcolor\": \"white\", \"startlinecolor\": \"#2a3f5f\"}, \"type\": \"carpet\"}], \"choropleth\": [{\"colorbar\": {\"outlinewidth\": 0, \"ticks\": \"\"}, \"type\": \"choropleth\"}], \"contour\": [{\"colorbar\": {\"outlinewidth\": 0, \"ticks\": \"\"}, \"colorscale\": [[0.0, \"#0d0887\"], [0.1111111111111111, \"#46039f\"], [0.2222222222222222, \"#7201a8\"], [0.3333333333333333, \"#9c179e\"], [0.4444444444444444, \"#bd3786\"], [0.5555555555555556, \"#d8576b\"], [0.6666666666666666, \"#ed7953\"], [0.7777777777777778, \"#fb9f3a\"], [0.8888888888888888, \"#fdca26\"], [1.0, \"#f0f921\"]], \"type\": \"contour\"}], \"contourcarpet\": [{\"colorbar\": {\"outlinewidth\": 0, \"ticks\": \"\"}, \"type\": \"contourcarpet\"}], \"heatmap\": [{\"colorbar\": {\"outlinewidth\": 0, \"ticks\": \"\"}, \"colorscale\": [[0.0, \"#0d0887\"], [0.1111111111111111, \"#46039f\"], [0.2222222222222222, \"#7201a8\"], [0.3333333333333333, \"#9c179e\"], [0.4444444444444444, \"#bd3786\"], [0.5555555555555556, \"#d8576b\"], [0.6666666666666666, \"#ed7953\"], [0.7777777777777778, \"#fb9f3a\"], [0.8888888888888888, \"#fdca26\"], [1.0, \"#f0f921\"]], \"type\": \"heatmap\"}], \"heatmapgl\": [{\"colorbar\": {\"outlinewidth\": 0, \"ticks\": \"\"}, \"colorscale\": [[0.0, \"#0d0887\"], [0.1111111111111111, \"#46039f\"], [0.2222222222222222, \"#7201a8\"], [0.3333333333333333, \"#9c179e\"], [0.4444444444444444, \"#bd3786\"], [0.5555555555555556, \"#d8576b\"], [0.6666666666666666, \"#ed7953\"], [0.7777777777777778, \"#fb9f3a\"], [0.8888888888888888, \"#fdca26\"], [1.0, \"#f0f921\"]], \"type\": \"heatmapgl\"}], \"histogram\": [{\"marker\": {\"colorbar\": {\"outlinewidth\": 0, \"ticks\": \"\"}}, \"type\": \"histogram\"}], \"histogram2d\": [{\"colorbar\": {\"outlinewidth\": 0, \"ticks\": \"\"}, \"colorscale\": [[0.0, \"#0d0887\"], [0.1111111111111111, \"#46039f\"], [0.2222222222222222, \"#7201a8\"], [0.3333333333333333, \"#9c179e\"], [0.4444444444444444, \"#bd3786\"], [0.5555555555555556, \"#d8576b\"], [0.6666666666666666, \"#ed7953\"], [0.7777777777777778, \"#fb9f3a\"], [0.8888888888888888, \"#fdca26\"], [1.0, \"#f0f921\"]], \"type\": \"histogram2d\"}], \"histogram2dcontour\": [{\"colorbar\": {\"outlinewidth\": 0, \"ticks\": \"\"}, \"colorscale\": [[0.0, \"#0d0887\"], [0.1111111111111111, \"#46039f\"], [0.2222222222222222, \"#7201a8\"], [0.3333333333333333, \"#9c179e\"], [0.4444444444444444, \"#bd3786\"], [0.5555555555555556, \"#d8576b\"], [0.6666666666666666, \"#ed7953\"], [0.7777777777777778, \"#fb9f3a\"], [0.8888888888888888, \"#fdca26\"], [1.0, \"#f0f921\"]], \"type\": \"histogram2dcontour\"}], \"mesh3d\": [{\"colorbar\": {\"outlinewidth\": 0, \"ticks\": \"\"}, \"type\": \"mesh3d\"}], \"parcoords\": [{\"line\": {\"colorbar\": {\"outlinewidth\": 0, \"ticks\": \"\"}}, \"type\": \"parcoords\"}], \"pie\": [{\"automargin\": true, \"type\": \"pie\"}], \"scatter\": [{\"marker\": {\"colorbar\": {\"outlinewidth\": 0, \"ticks\": \"\"}}, \"type\": \"scatter\"}], \"scatter3d\": [{\"line\": {\"colorbar\": {\"outlinewidth\": 0, \"ticks\": \"\"}}, \"marker\": {\"colorbar\": {\"outlinewidth\": 0, \"ticks\": \"\"}}, \"type\": \"scatter3d\"}], \"scattercarpet\": [{\"marker\": {\"colorbar\": {\"outlinewidth\": 0, \"ticks\": \"\"}}, \"type\": \"scattercarpet\"}], \"scattergeo\": [{\"marker\": {\"colorbar\": {\"outlinewidth\": 0, \"ticks\": \"\"}}, \"type\": \"scattergeo\"}], \"scattergl\": [{\"marker\": {\"colorbar\": {\"outlinewidth\": 0, \"ticks\": \"\"}}, \"type\": \"scattergl\"}], \"scattermapbox\": [{\"marker\": {\"colorbar\": {\"outlinewidth\": 0, \"ticks\": \"\"}}, \"type\": \"scattermapbox\"}], \"scatterpolar\": [{\"marker\": {\"colorbar\": {\"outlinewidth\": 0, \"ticks\": \"\"}}, \"type\": \"scatterpolar\"}], \"scatterpolargl\": [{\"marker\": {\"colorbar\": {\"outlinewidth\": 0, \"ticks\": \"\"}}, \"type\": \"scatterpolargl\"}], \"scatterternary\": [{\"marker\": {\"colorbar\": {\"outlinewidth\": 0, \"ticks\": \"\"}}, \"type\": \"scatterternary\"}], \"surface\": [{\"colorbar\": {\"outlinewidth\": 0, \"ticks\": \"\"}, \"colorscale\": [[0.0, \"#0d0887\"], [0.1111111111111111, \"#46039f\"], [0.2222222222222222, \"#7201a8\"], [0.3333333333333333, \"#9c179e\"], [0.4444444444444444, \"#bd3786\"], [0.5555555555555556, \"#d8576b\"], [0.6666666666666666, \"#ed7953\"], [0.7777777777777778, \"#fb9f3a\"], [0.8888888888888888, \"#fdca26\"], [1.0, \"#f0f921\"]], \"type\": \"surface\"}], \"table\": [{\"cells\": {\"fill\": {\"color\": \"#EBF0F8\"}, \"line\": {\"color\": \"white\"}}, \"header\": {\"fill\": {\"color\": \"#C8D4E3\"}, \"line\": {\"color\": \"white\"}}, \"type\": \"table\"}]}, \"layout\": {\"annotationdefaults\": {\"arrowcolor\": \"#2a3f5f\", \"arrowhead\": 0, \"arrowwidth\": 1}, \"coloraxis\": {\"colorbar\": {\"outlinewidth\": 0, \"ticks\": \"\"}}, \"colorscale\": {\"diverging\": [[0, \"#8e0152\"], [0.1, \"#c51b7d\"], [0.2, \"#de77ae\"], [0.3, \"#f1b6da\"], [0.4, \"#fde0ef\"], [0.5, \"#f7f7f7\"], [0.6, \"#e6f5d0\"], [0.7, \"#b8e186\"], [0.8, \"#7fbc41\"], [0.9, \"#4d9221\"], [1, \"#276419\"]], \"sequential\": [[0.0, \"#0d0887\"], [0.1111111111111111, \"#46039f\"], [0.2222222222222222, \"#7201a8\"], [0.3333333333333333, \"#9c179e\"], [0.4444444444444444, \"#bd3786\"], [0.5555555555555556, \"#d8576b\"], [0.6666666666666666, \"#ed7953\"], [0.7777777777777778, \"#fb9f3a\"], [0.8888888888888888, \"#fdca26\"], [1.0, \"#f0f921\"]], \"sequentialminus\": [[0.0, \"#0d0887\"], [0.1111111111111111, \"#46039f\"], [0.2222222222222222, \"#7201a8\"], [0.3333333333333333, \"#9c179e\"], [0.4444444444444444, \"#bd3786\"], [0.5555555555555556, \"#d8576b\"], [0.6666666666666666, \"#ed7953\"], [0.7777777777777778, \"#fb9f3a\"], [0.8888888888888888, \"#fdca26\"], [1.0, \"#f0f921\"]]}, \"colorway\": [\"#636efa\", \"#EF553B\", \"#00cc96\", \"#ab63fa\", \"#FFA15A\", \"#19d3f3\", \"#FF6692\", \"#B6E880\", \"#FF97FF\", \"#FECB52\"], \"font\": {\"color\": \"#2a3f5f\"}, \"geo\": {\"bgcolor\": \"white\", \"lakecolor\": \"white\", \"landcolor\": \"#E5ECF6\", \"showlakes\": true, \"showland\": true, \"subunitcolor\": \"white\"}, \"hoverlabel\": {\"align\": \"left\"}, \"hovermode\": \"closest\", \"mapbox\": {\"style\": \"light\"}, \"paper_bgcolor\": \"white\", \"plot_bgcolor\": \"#E5ECF6\", \"polar\": {\"angularaxis\": {\"gridcolor\": \"white\", \"linecolor\": \"white\", \"ticks\": \"\"}, \"bgcolor\": \"#E5ECF6\", \"radialaxis\": {\"gridcolor\": \"white\", \"linecolor\": \"white\", \"ticks\": \"\"}}, \"scene\": {\"xaxis\": {\"backgroundcolor\": \"#E5ECF6\", \"gridcolor\": \"white\", \"gridwidth\": 2, \"linecolor\": \"white\", \"showbackground\": true, \"ticks\": \"\", \"zerolinecolor\": \"white\"}, \"yaxis\": {\"backgroundcolor\": \"#E5ECF6\", \"gridcolor\": \"white\", \"gridwidth\": 2, \"linecolor\": \"white\", \"showbackground\": true, \"ticks\": \"\", \"zerolinecolor\": \"white\"}, \"zaxis\": {\"backgroundcolor\": \"#E5ECF6\", \"gridcolor\": \"white\", \"gridwidth\": 2, \"linecolor\": \"white\", \"showbackground\": true, \"ticks\": \"\", \"zerolinecolor\": \"white\"}}, \"shapedefaults\": {\"line\": {\"color\": \"#2a3f5f\"}}, \"ternary\": {\"aaxis\": {\"gridcolor\": \"white\", \"linecolor\": \"white\", \"ticks\": \"\"}, \"baxis\": {\"gridcolor\": \"white\", \"linecolor\": \"white\", \"ticks\": \"\"}, \"bgcolor\": \"#E5ECF6\", \"caxis\": {\"gridcolor\": \"white\", \"linecolor\": \"white\", \"ticks\": \"\"}}, \"title\": {\"x\": 0.05}, \"xaxis\": {\"automargin\": true, \"gridcolor\": \"white\", \"linecolor\": \"white\", \"ticks\": \"\", \"title\": {\"standoff\": 15}, \"zerolinecolor\": \"white\", \"zerolinewidth\": 2}, \"yaxis\": {\"automargin\": true, \"gridcolor\": \"white\", \"linecolor\": \"white\", \"ticks\": \"\", \"title\": {\"standoff\": 15}, \"zerolinecolor\": \"white\", \"zerolinewidth\": 2}}}, \"title\": {\"text\": \"\\u51c0\\u8d44\\u4ea7\\u6536\\u76ca\\u7387\\u5bf9\\u6bd4\\u56fe\"}},\n                        {\"responsive\": true}\n                    ).then(function(){\n                            \nvar gd = document.getElementById('795f229a-2964-4999-95d7-8fda9e41ccf7');\nvar x = new MutationObserver(function (mutations, observer) {{\n        var display = window.getComputedStyle(gd).display;\n        if (!display || display === 'none') {{\n            console.log([gd, 'removed!']);\n            Plotly.purge(gd);\n            observer.disconnect();\n        }}\n}});\n\n// Listen for the removal of the full notebook cells\nvar notebookContainer = gd.closest('#notebook-container');\nif (notebookContainer) {{\n    x.observe(notebookContainer, {childList: true});\n}}\n\n// Listen for the clearing of the current output cell\nvar outputEl = gd.closest('.output');\nif (outputEl) {{\n    x.observe(outputEl, {childList: true});\n}}\n\n                        })\n                };\n                });\n            </script>\n        </div>"
     },
     "metadata": {}
    }
   ],
   "source": [
    "import plotly.offline as py\n",
    "from plotly.graph_objs import Scatter, Layout\n",
    "import plotly.graph_objs as go\n",
    "\n",
    "py.init_notebook_mode(connected=True)\n",
    "trace_1 = go.Bar(\n",
    "            x = [\"西南石油\", \"东方明珠\", \"海泰发展\"],\n",
    "            y = [4.12, 5.32, 0.60],\n",
    "            name = \"201609\"\n",
    "    )\n",
    "trace_2 = go.Bar(\n",
    "            x = [\"西南石油\", \"东方明珠\", \"海泰发展\"],\n",
    "            y = [3.65, 6.14, 0.58],\n",
    "            name = \"201612\"\n",
    "    )\n",
    "\n",
    "trace_3 = go.Bar(\n",
    "            x = [\"西南石油\", \"东方明珠\", \"海泰发展\"],\n",
    "            y = [2.15, 1.35, 0.19],\n",
    "            name = \"201703\"\n",
    "    )\n",
    "trace = [trace_1, trace_2, trace_3]\n",
    "# Layout\n",
    "layout = go.Layout(\n",
    "            title = '净资产收益率对比图'\n",
    "    )\n",
    "# Figure\n",
    "figure = go.Figure(data = trace, layout = layout)\n",
    "# Plot\n",
    "# pyplt(figure, filename='tmp/2.html')\n",
    "py.iplot(figure)\n"
   ]
  },
  {
   "cell_type": "code",
   "execution_count": 153,
   "metadata": {},
   "outputs": [],
   "source": [
    "from faker import Factory"
   ]
  },
  {
   "cell_type": "code",
   "execution_count": 213,
   "metadata": {},
   "outputs": [],
   "source": [
    "fake1 = Factory.create(\"zh_CN\")"
   ]
  },
  {
   "cell_type": "code",
   "execution_count": 224,
   "metadata": {},
   "outputs": [
    {
     "output_type": "execute_result",
     "data": {
      "text/plain": "'董明'"
     },
     "metadata": {},
     "execution_count": 224
    }
   ],
   "source": [
    "fake1.name()"
   ]
  },
  {
   "cell_type": "code",
   "execution_count": 246,
   "metadata": {},
   "outputs": [
    {
     "output_type": "execute_result",
     "data": {
      "text/plain": "'上海市梧州县上街郑路A座 598417'"
     },
     "metadata": {},
     "execution_count": 246
    }
   ],
   "source": [
    "fake1.address()"
   ]
  },
  {
   "cell_type": "code",
   "execution_count": 257,
   "metadata": {},
   "outputs": [
    {
     "output_type": "execute_result",
     "data": {
      "text/plain": "'群英信息有限公司'"
     },
     "metadata": {},
     "execution_count": 257
    }
   ],
   "source": [
    "fake1.company()"
   ]
  },
  {
   "cell_type": "code",
   "execution_count": 261,
   "metadata": {},
   "outputs": [
    {
     "output_type": "execute_result",
     "data": {
      "text/plain": "'成功一个希望全国次数首页我们.特别运行最大状态方法发现电影运行.\\n名称由于评论位置一切投资.你的的人图片生产等级详细状态.工作不能出来活动生产.\\n国家喜欢空间女人社区电话.他们评论经营规定.\\n他们安全时候同时.都是然后感觉价格那些怎么.会员建设包括时候.\\n来自所以你们社区一定生活.感觉单位不会个人发生到了.\\n这种发现一点.孩子进入今天免费研究评论.以上威望这么男人由于注册因为.'"
     },
     "metadata": {},
     "execution_count": 261
    }
   ],
   "source": [
    "fake1.text(max_nb_chars=200) "
   ]
  },
  {
   "cell_type": "code",
   "execution_count": 270,
   "metadata": {},
   "outputs": [
    {
     "output_type": "execute_result",
     "data": {
      "text/plain": "'422822200003213940'"
     },
     "metadata": {},
     "execution_count": 270
    }
   ],
   "source": [
    "fake1.ssn(18)"
   ]
  },
  {
   "cell_type": "code",
   "execution_count": 288,
   "metadata": {},
   "outputs": [
    {
     "output_type": "execute_result",
     "data": {
      "text/plain": "'Mozilla/5.0 (Macintosh; Intel Mac OS X 10_8_0; rv:1.9.5.20) Gecko/2010-05-29 22:52:16 Firefox/3.6.17'"
     },
     "metadata": {},
     "execution_count": 288
    }
   ],
   "source": [
    "fake1.user_agent()"
   ]
  },
  {
   "cell_type": "code",
   "execution_count": 298,
   "metadata": {},
   "outputs": [
    {
     "output_type": "execute_result",
     "data": {
      "text/plain": "'Mozilla/5.0 (compatible; MSIE 5.0; Windows NT 4.0; Trident/4.1)'"
     },
     "metadata": {},
     "execution_count": 298
    }
   ],
   "source": [
    "fake1.internet_explorer()"
   ]
  },
  {
   "cell_type": "code",
   "execution_count": 364,
   "metadata": {},
   "outputs": [
    {
     "output_type": "execute_result",
     "data": {
      "text/plain": "39"
     },
     "metadata": {},
     "execution_count": 364
    }
   ],
   "source": [
    "fake1.random_number(2,2)"
   ]
  },
  {
   "cell_type": "code",
   "execution_count": 397,
   "metadata": {},
   "outputs": [
    {
     "output_type": "execute_result",
     "data": {
      "text/plain": "100"
     },
     "metadata": {},
     "execution_count": 397
    }
   ],
   "source": [
    "fake1.random_int(60,100)"
   ]
  },
  {
   "cell_type": "code",
   "execution_count": 398,
   "metadata": {},
   "outputs": [
    {
     "output_type": "stream",
     "name": "stdout",
     "text": "xxxxx\n"
    }
   ],
   "source": [
    "import padands"
   ]
  },
  {
   "cell_type": "code",
   "execution_count": null,
   "metadata": {},
   "outputs": [],
   "source": []
  }
 ],
 "metadata": {
  "kernelspec": {
   "display_name": "Python 3.7.6 64-bit",
   "language": "python",
   "name": "python37664bitd8650d54ae5d4b0988094c7fd5689777"
  },
  "language_info": {
   "codemirror_mode": {
    "name": "ipython",
    "version": 2
   },
   "file_extension": ".py",
   "mimetype": "text/x-python",
   "name": "python",
   "nbconvert_exporter": "python",
   "pygments_lexer": "ipython2",
   "version": "3.7.6-final"
  },
  "pycharm": {
   "stem_cell": {
    "cell_type": "raw",
    "source": [],
    "metadata": {
     "collapsed": false
    }
   }
  }
 },
 "nbformat": 4,
 "nbformat_minor": 0
}