{
 "cells": [
  {
   "cell_type": "markdown",
   "metadata": {
    "pycharm": {
     "name": "#%% md\n"
    }
   },
   "source": [
    "### 分类测试"
   ]
  },
  {
   "cell_type": "code",
   "execution_count": 263,
   "metadata": {
    "collapsed": true,
    "pycharm": {
     "is_executing": false
    }
   },
   "outputs": [
    {
     "name": "stdout",
     "output_type": "stream",
     "text": [
      "0.9555555555555556\n"
     ]
    }
   ],
   "source": [
    "from sklearn.datasets import load_iris\n",
    "from sklearn.metrics import accuracy_score\n",
    "from sklearn.model_selection import train_test_split\n",
    "from sklearn.neighbors import KNeighborsClassifier\n",
    "\n",
    "import matplotlib.pyplot as plt\n",
    "import numpy as np\n",
    "\n",
    "knn=KNeighborsClassifier()\n",
    "iris=load_iris()\n",
    "\n",
    "X=iris.data\n",
    "y=iris.target\n",
    "\n",
    "X_train,X_test,y_train,y_test= train_test_split(X,y,test_size=0.3)\n",
    "# print(len(X_train))\n",
    "# print(len(X_test))\n",
    "\n",
    "knn.fit(X_train,y_train)\n",
    "ypre= knn.predict(X_test)\n",
    "\n",
    "# print(ypre)\n",
    "# print(y_test)\n",
    "\n",
    "s=accuracy_score(ypre,y_test)\n",
    "print(s)\n",
    "# knn.score(ypre,y_test)\n",
    "# knn.predict()\n",
    "# lens=np.arange(len(ypre))\n",
    "# plt.figure()\n",
    "# plt.plot(lens,ypre)\n",
    "# plt.plot(lens,y_test)\n",
    "# plt.show()"
   ]
  },
  {
   "cell_type": "markdown",
   "metadata": {
    "pycharm": {
     "name": "#%% md\n"
    }
   },
   "source": [
    "### 回归测试"
   ]
  },
  {
   "cell_type": "code",
   "execution_count": 169,
   "metadata": {
    "pycharm": {
     "is_executing": false,
     "name": "#%%\n"
    }
   },
   "outputs": [
    {
     "name": "stdout",
     "output_type": "stream",
     "text": [
      "0.7633963220776271\n",
      "[[1.50089896e-01 0.00000000e+00 6.46627566e-01 ... 8.08510638e-01\n",
      "  1.00000000e+00 4.03421634e-01]\n",
      " [6.69440040e-04 0.00000000e+00 7.33137830e-02 ... 5.53191489e-01\n",
      "  9.96621110e-01 1.60871965e-01]\n",
      " [3.28088562e-04 2.50000000e-01 1.61290323e-01 ... 6.80851064e-01\n",
      "  9.84215039e-01 1.59492274e-01]\n",
      " ...\n",
      " [6.50220052e-04 0.00000000e+00 2.01612903e-01 ... 7.02127660e-01\n",
      "  1.00000000e+00 2.19370861e-01]\n",
      " [1.57855445e-01 0.00000000e+00 6.46627566e-01 ... 8.08510638e-01\n",
      "  8.75737556e-02 5.37803532e-01]\n",
      " [1.05294061e-03 3.40000000e-01 2.06378299e-01 ... 3.72340426e-01\n",
      "  9.83685511e-01 8.63686534e-02]] [[1.34256447e-01 0.00000000e+00 6.46627566e-01 ... 8.08510638e-01\n",
      "  8.36577740e-01 2.86975717e-01]\n",
      " [1.98999931e-03 0.00000000e+00 1.00000000e+00 ... 7.97872340e-01\n",
      "  8.66735589e-01 6.13686534e-01]\n",
      " [3.91256007e-04 2.50000000e-01 1.61290323e-01 ... 6.80851064e-01\n",
      "  1.00000000e+00 9.82339956e-02]\n",
      " ...\n",
      " [8.15332110e-04 8.00000000e-01 1.64589443e-01 ... 7.02127660e-01\n",
      "  1.00000000e+00 5.04966887e-02]\n",
      " [4.70608705e-04 8.00000000e-01 1.16568915e-01 ... 4.04255319e-01\n",
      "  9.89888547e-01 1.33554084e-01]\n",
      " [7.05070075e-04 0.00000000e+00 6.30498534e-02 ... 6.48936170e-01\n",
      "  1.00000000e+00 9.93377483e-02]]\n"
     ]
    }
   ],
   "source": [
    "from sklearn.datasets import load_boston\n",
    "from sklearn.neighbors import KNeighborsRegressor\n",
    "from sklearn import preprocessing\n",
    "\n",
    "boston=load_boston()\n",
    "X=boston.data\n",
    "y=boston.target\n",
    "\n",
    "X= preprocessing.minmax_scale(X)\n",
    "y= preprocessing.minmax_scale(y)\n",
    "knn=KNeighborsRegressor()\n",
    "\n",
    "X_train,X_test,y_train,y_test=train_test_split(X,y,test_size=0.3)\n",
    "\n",
    "knn.fit(X_train,y_train)\n",
    "print(knn.score(X_test,y_test))\n",
    "\n",
    "\n",
    "print(X_train,X_test)\n",
    "\n",
    "# from sklearn.linear_model import LogisticRegression\n",
    "# log=LogisticRegression()\n",
    "# \n",
    "# log.fit(X_train,y_train)\n",
    "# print(svc.score(X_test,y_test))\n",
    "\n",
    "# plt.figure()\n",
    "# plt.plot(X,y)\n",
    "# plt.show()"
   ]
  },
  {
   "cell_type": "markdown",
   "metadata": {
    "pycharm": {
     "name": "#%% md\n"
    }
   },
   "source": [
    "#### 数据测试"
   ]
  },
  {
   "cell_type": "code",
   "execution_count": 182,
   "metadata": {
    "pycharm": {
     "is_executing": false,
     "name": "#%%\n"
    }
   },
   "outputs": [
    {
     "name": "stdout",
     "output_type": "stream",
     "text": [
      "Index(['ID', 'LIMIT_BAL', 'SEX', 'EDUCATION', 'MARRIAGE', 'AGE', 'PAY_0',\n",
      "       'PAY_2', 'PAY_3', 'PAY_4', 'PAY_5', 'PAY_6', 'BILL_AMT1', 'BILL_AMT2',\n",
      "       'BILL_AMT3', 'BILL_AMT4', 'BILL_AMT5', 'BILL_AMT6', 'PAY_AMT1',\n",
      "       'PAY_AMT2', 'PAY_AMT3', 'PAY_AMT4', 'PAY_AMT5', 'PAY_AMT6',\n",
      "       'default.payment.next.month'],\n",
      "      dtype='object')\n",
      "<class 'pandas.core.frame.DataFrame'>\n",
      "RangeIndex: 30000 entries, 0 to 29999\n",
      "Data columns (total 25 columns):\n",
      " #   Column                      Non-Null Count  Dtype  \n",
      "---  ------                      --------------  -----  \n",
      " 0   ID                          30000 non-null  int64  \n",
      " 1   LIMIT_BAL                   30000 non-null  float64\n",
      " 2   SEX                         30000 non-null  int64  \n",
      " 3   EDUCATION                   30000 non-null  int64  \n",
      " 4   MARRIAGE                    30000 non-null  int64  \n",
      " 5   AGE                         30000 non-null  int64  \n",
      " 6   PAY_0                       30000 non-null  int64  \n",
      " 7   PAY_2                       30000 non-null  int64  \n",
      " 8   PAY_3                       30000 non-null  int64  \n",
      " 9   PAY_4                       30000 non-null  int64  \n",
      " 10  PAY_5                       30000 non-null  int64  \n",
      " 11  PAY_6                       30000 non-null  int64  \n",
      " 12  BILL_AMT1                   30000 non-null  float64\n",
      " 13  BILL_AMT2                   30000 non-null  float64\n",
      " 14  BILL_AMT3                   30000 non-null  float64\n",
      " 15  BILL_AMT4                   30000 non-null  float64\n",
      " 16  BILL_AMT5                   30000 non-null  float64\n",
      " 17  BILL_AMT6                   30000 non-null  float64\n",
      " 18  PAY_AMT1                    30000 non-null  float64\n",
      " 19  PAY_AMT2                    30000 non-null  float64\n",
      " 20  PAY_AMT3                    30000 non-null  float64\n",
      " 21  PAY_AMT4                    30000 non-null  float64\n",
      " 22  PAY_AMT5                    30000 non-null  float64\n",
      " 23  PAY_AMT6                    30000 non-null  float64\n",
      " 24  default.payment.next.month  30000 non-null  int64  \n",
      "dtypes: float64(13), int64(12)\n",
      "memory usage: 5.7 MB\n"
     ]
    }
   ],
   "source": [
    "import pandas as pd\n",
    "uci_data= pd.read_csv('/Users/yihui/Desktop/study/tmp/pythontest/UCI_Credit_Card.csv')\n",
    "uci_data.info()"
   ]
  },
  {
   "cell_type": "markdown",
   "metadata": {
    "pycharm": {
     "name": "#%% md\n"
    }
   },
   "source": [
    "#### Gridsearch demo"
   ]
  },
  {
   "cell_type": "code",
   "execution_count": 194,
   "metadata": {
    "pycharm": {
     "is_executing": false,
     "name": "#%%\n"
    }
   },
   "outputs": [
    {
     "name": "stdout",
     "output_type": "stream",
     "text": [
      "# Tuning hyper-parameters for precision\n",
      "\n",
      "Best parameters set found on development set:\n",
      "\n",
      "{'C': 10, 'gamma': 0.001, 'kernel': 'rbf'}\n",
      "\n",
      "Grid scores on development set:\n",
      "\n",
      "\n",
      "Detailed classification report:\n",
      "\n",
      "The model is trained on the full development set.\n",
      "The scores are computed on the full evaluation set.\n",
      "\n",
      "              precision    recall  f1-score   support\n",
      "\n",
      "           0       1.00      1.00      1.00        89\n",
      "           1       0.97      1.00      0.98        90\n",
      "           2       0.99      0.98      0.98        92\n",
      "           3       1.00      0.99      0.99        93\n",
      "           4       1.00      1.00      1.00        76\n",
      "           5       0.99      0.98      0.99       108\n",
      "           6       0.99      1.00      0.99        89\n",
      "           7       0.99      1.00      0.99        78\n",
      "           8       1.00      0.98      0.99        92\n",
      "           9       0.99      0.99      0.99        92\n",
      "\n",
      "    accuracy                           0.99       899\n",
      "   macro avg       0.99      0.99      0.99       899\n",
      "weighted avg       0.99      0.99      0.99       899\n",
      "\n",
      "\n",
      "# Tuning hyper-parameters for recall\n",
      "\n",
      "Best parameters set found on development set:\n",
      "\n",
      "{'C': 10, 'gamma': 0.001, 'kernel': 'rbf'}\n",
      "\n",
      "Grid scores on development set:\n",
      "\n",
      "\n",
      "Detailed classification report:\n",
      "\n",
      "The model is trained on the full development set.\n",
      "The scores are computed on the full evaluation set.\n",
      "\n",
      "              precision    recall  f1-score   support\n",
      "\n",
      "           0       1.00      1.00      1.00        89\n",
      "           1       0.97      1.00      0.98        90\n",
      "           2       0.99      0.98      0.98        92\n",
      "           3       1.00      0.99      0.99        93\n",
      "           4       1.00      1.00      1.00        76\n",
      "           5       0.99      0.98      0.99       108\n",
      "           6       0.99      1.00      0.99        89\n",
      "           7       0.99      1.00      0.99        78\n",
      "           8       1.00      0.98      0.99        92\n",
      "           9       0.99      0.99      0.99        92\n",
      "\n",
      "    accuracy                           0.99       899\n",
      "   macro avg       0.99      0.99      0.99       899\n",
      "weighted avg       0.99      0.99      0.99       899\n",
      "\n",
      "\n"
     ]
    }
   ],
   "source": [
    "from sklearn import datasets\n",
    "from sklearn.model_selection import GridSearchCV\n",
    "from sklearn.metrics import classification_report\n",
    "from sklearn.svm import SVC\n",
    " \n",
    "# Loading the Digits dataset\n",
    "digits = datasets.load_digits()\n",
    " \n",
    "# To apply an classifier on this data, we need to flatten the image, to\n",
    "# turn the data in a (samples, feature) matrix:\n",
    "n_samples = len(digits.images)\n",
    "X = digits.images.reshape((n_samples, -1))\n",
    "y = digits.target\n",
    " \n",
    "# 将数据集分成训练集和测试集\n",
    "X_train, X_test, y_train, y_test = train_test_split(\n",
    "    X, y, test_size=0.5, random_state=0)\n",
    " \n",
    "# 设置gridsearch的参数\n",
    "tuned_parameters = [{'kernel': ['rbf'], 'gamma': [1e-3, 1e-4],\n",
    "                     'C': [1, 10, 100, 1000]},\n",
    "                    {'kernel': ['linear'], 'C': [1, 10, 100, 1000]}]\n",
    " \n",
    "#设置模型评估的方法.如果不清楚,可以参考上面的k-fold章节里面的超链接\n",
    "scores = ['precision', 'recall']\n",
    " \n",
    "for score in scores:\n",
    "    print(\"# Tuning hyper-parameters for %s\" % score)\n",
    "    print()\n",
    " \n",
    "    #构造这个GridSearch的分类器,5-fold\n",
    "    clf = GridSearchCV(SVC(), tuned_parameters, cv=5,\n",
    "                       scoring='%s_weighted' % score)\n",
    "    #只在训练集上面做k-fold,然后返回最优的模型参数\n",
    "    clf.fit(X_train, y_train)\n",
    " \n",
    "    print(\"Best parameters set found on development set:\")\n",
    "    print()\n",
    "    #输出最优的模型参数\n",
    "    print(clf.best_params_)\n",
    "    print()\n",
    "    print(\"Grid scores on development set:\")\n",
    "    print()\n",
    "    # for params, mean_score, scores in clf.grid_scores_:\n",
    "    #     print(\"%0.3f (+/-%0.03f) for %r\"\n",
    "    #           % (mean_score, scores.std() * 2, params))\n",
    "    print()\n",
    "\n",
    "    print(\"Detailed classification report:\")\n",
    "    print()\n",
    "    print(\"The model is trained on the full development set.\")\n",
    "    print(\"The scores are computed on the full evaluation set.\")\n",
    "    print()\n",
    "    #在测试集上测试最优的模型的泛化能力.\n",
    "    y_true, y_pred = y_test, clf.predict(X_test)\n",
    "    print(classification_report(y_true, y_pred))\n",
    "    print()"
   ]
  },
  {
   "cell_type": "markdown",
   "metadata": {
    "pycharm": {
     "name": "#%% md\n"
    }
   },
   "source": [
    "#### 数据规范化"
   ]
  },
  {
   "cell_type": "code",
   "execution_count": 214,
   "metadata": {
    "pycharm": {
     "is_executing": false,
     "name": "#%%\n"
    }
   },
   "outputs": [
    {
     "name": "stdout",
     "output_type": "stream",
     "text": [
      "[[0.         0.         0.66666667]\n",
      " [1.         1.         1.        ]\n",
      " [0.         1.         0.        ]]\n",
      "\n",
      "[[-0.70710678 -1.41421356  0.26726124]\n",
      " [ 1.41421356  0.70710678  1.06904497]\n",
      " [-0.70710678  0.70710678 -1.33630621]]\n"
     ]
    }
   ],
   "source": [
    "from sklearn import preprocessing\n",
    "# 初始化数据，每一行表示一个样本，每一列表示一个特征\n",
    "x = np.array([[ 0., -3., 1.], [ 3., 1., 2.], [ 0., 1., -1.]])\n",
    "# x= np.array([[1,2,3],[4,2,-10]])\n",
    "# 将数据进行[0,1]规范化\n",
    "min_max_scaler = preprocessing.MinMaxScaler()\n",
    "minmax_x = min_max_scaler.fit_transform(x)\n",
    "print (minmax_x)\n",
    "\n",
    "\n",
    "# 初始化数据\n",
    "x = np.array([[ 0., -3., 1.], [ 3., 1., 2.], [ 0., 1., -1.]])\n",
    "# 将数据进行Z-Score规范化\n",
    "scaled_x = preprocessing.scale(x)\n",
    "print()\n",
    "print (scaled_x)"
   ]
  },
  {
   "cell_type": "markdown",
   "metadata": {
    "pycharm": {
     "name": "#%% md\n"
    }
   },
   "source": [
    "#### GridSearchCV demo"
   ]
  },
  {
   "cell_type": "code",
   "execution_count": 229,
   "metadata": {
    "pycharm": {
     "is_executing": false,
     "name": "#%%\n"
    }
   },
   "outputs": [
    {
     "name": "stdout",
     "output_type": "stream",
     "text": [
      "最优分数： 0.9667\n",
      "最优参数： {'n_estimators': 7}\n"
     ]
    }
   ],
   "source": [
    "from sklearn.ensemble import RandomForestClassifier\n",
    "from sklearn.model_selection import GridSearchCV\n",
    "from sklearn.datasets import load_iris\n",
    "rf=RandomForestClassifier()\n",
    "parameters = {\"n_estimators\": range(1,11)}\n",
    "iris=load_iris()\n",
    "clf=GridSearchCV(estimator=rf,param_grid=parameters)\n",
    "clf.fit(iris.data,iris.target)\n",
    "print(\"最优分数： %.4lf\" %clf.best_score_)\n",
    "print(\"最优参数：\", clf.best_params_)"
   ]
  },
  {
   "cell_type": "markdown",
   "metadata": {
    "pycharm": {
     "name": "#%% md\n"
    }
   },
   "source": [
    "#### GridSearchCV demo2"
   ]
  },
  {
   "cell_type": "code",
   "execution_count": 246,
   "metadata": {
    "pycharm": {
     "is_executing": false,
     "name": "#%%\n"
    }
   },
   "outputs": [
    {
     "name": "stdout",
     "output_type": "stream",
     "text": [
      "最优分数： 0.9733\n",
      "最优参数： {'randomforestclassifier__n_estimators': 3}\n"
     ]
    }
   ],
   "source": [
    "# -*- coding: utf-8 -*-\n",
    "# 使用RandomForest对IRIS数据集进行分类\n",
    "# 利用GridSearchCV寻找最优参数,使用Pipeline进行流水作业\n",
    "from sklearn.ensemble import RandomForestClassifier\n",
    "from sklearn.model_selection import GridSearchCV\n",
    "from sklearn.datasets import load_iris\n",
    "from sklearn.preprocessing import StandardScaler\n",
    "from sklearn.pipeline import Pipeline\n",
    "rf = RandomForestClassifier()\n",
    "parameters = {\"randomforestclassifier__n_estimators\": range(1,11)}\n",
    "iris = load_iris()\n",
    "pipeline = Pipeline([\n",
    "        ('scaler', StandardScaler()),\n",
    "        ('randomforestclassifier', rf)\n",
    "])\n",
    "# 使用GridSearchCV进行参数调优\n",
    "clf = GridSearchCV(estimator=pipeline, param_grid=parameters)\n",
    "# 对iris数据集进行分类\n",
    "clf.fit(iris.data, iris.target)\n",
    "print(\"最优分数： %.4lf\" %clf.best_score_)\n",
    "print(\"最优参数：\", clf.best_params_)"
   ]
  },
  {
   "cell_type": "markdown",
   "metadata": {
    "pycharm": {
     "name": "#%% md\n"
    }
   },
   "source": [
    "#### 主成分分析"
   ]
  },
  {
   "cell_type": "code",
   "execution_count": 264,
   "metadata": {
    "pycharm": {
     "is_executing": false,
     "name": "#%%\n"
    }
   },
   "outputs": [
    {
     "data": {
      "image/png": "[encoded data removed]",
      "text/plain": [
       "<Figure size 432x288 with 1 Axes>"
      ]
     },
     "metadata": {
      "needs_background": "light"
     },
     "output_type": "display_data"
    }
   ],
   "source": [
    "import matplotlib.pyplot as plt\n",
    "import sklearn.decomposition as dp\n",
    "from sklearn.datasets.base import load_iris\n",
    "\n",
    "x,y=load_iris(return_X_y=True)\n",
    "pca=dp.PCA(n_components=2)\n",
    "reduced_x=pca.fit_transform(x)\n",
    "\n",
    "# # print(x)\n",
    "# # print(y)\n",
    "# \n",
    "# print(reduced_x)\n",
    "\n",
    "red_x,red_y=[],[]\n",
    "blue_x,blue_y=[],[]\n",
    "green_x,green_y=[],[]\n",
    "for i in range(len(reduced_x)): #按鸢尾花的类别将降维后的数据点保存在不同的表表中\n",
    "    if y[i]==0:\n",
    "        red_x.append(reduced_x[i][0])\n",
    "        red_y.append(reduced_x[i][1])\n",
    "    elif y[i]==1:\n",
    "        blue_x.append(reduced_x[i][0])\n",
    "        blue_y.append(reduced_x[i][1])\n",
    "    else:\n",
    "        green_x.append(reduced_x[i][0])\n",
    "        green_y.append(reduced_x[i][1])\n",
    "plt.scatter(red_x,red_y,c='r',marker='x')\n",
    "plt.scatter(blue_x,blue_y,c='b',marker='D')\n",
    "plt.scatter(green_x,green_y,c='g',marker='.')\n",
    "plt.show()\n",
    "\n",
    "# print(y)"
   ]
  }
 ],
 "metadata": {
  "kernelspec": {
   "display_name": "Python 3",
   "language": "python",
   "name": "python3"
  },
  "language_info": {
   "codemirror_mode": {
    "name": "ipython",
    "version": 3
   },
   "file_extension": ".py",
   "mimetype": "text/x-python",
   "name": "python",
   "nbconvert_exporter": "python",
   "pygments_lexer": "ipython3",
   "version": "3.7.6"
  },
  "pycharm": {
   "stem_cell": {
    "cell_type": "raw",
    "metadata": {
     "collapsed": false
    },
    "source": []
   }
  }
 },
 "nbformat": 4,
 "nbformat_minor": 1
}
